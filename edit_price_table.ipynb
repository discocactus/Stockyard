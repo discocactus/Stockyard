{
 "cells": [
  {
   "cell_type": "markdown",
   "metadata": {},
   "source": [
    "# import"
   ]
  },
  {
   "cell_type": "code",
   "execution_count": null,
   "metadata": {
    "ExecuteTime": {
     "end_time": "2018-03-25T21:49:20.119452Z",
     "start_time": "2018-03-25T21:49:20.088169Z"
    }
   },
   "outputs": [],
   "source": [
    "import numpy as np\n",
    "import pandas as pd\n",
    "import pandas.tseries.offsets as offsets\n",
    "import matplotlib.pyplot as plt\n",
    "import os\n",
    "import re\n",
    "import importlib\n",
    "\n",
    "import stock\n",
    "\n",
    "%matplotlib inline"
   ]
  },
  {
   "cell_type": "code",
   "execution_count": null,
   "metadata": {
    "ExecuteTime": {
     "end_time": "2018-03-25T21:51:56.453019Z",
     "start_time": "2018-03-25T21:51:56.422139Z"
    }
   },
   "outputs": [],
   "source": [
    "importlib.reload(stock)"
   ]
  },
  {
   "cell_type": "code",
   "execution_count": null,
   "metadata": {
    "ExecuteTime": {
     "end_time": "2018-03-23T21:57:19.337948Z",
     "start_time": "2018-03-23T21:57:19.322732Z"
    }
   },
   "outputs": [],
   "source": [
    "# pandas の最大表示列数を設定 (max_rows で表示行数の設定も可能)\n",
    "pd.set_option('display.max_columns', 30)"
   ]
  },
  {
   "cell_type": "markdown",
   "metadata": {},
   "source": [
    "# _csvフォルダ内の価格データ一覧をリスト化"
   ]
  },
  {
   "cell_type": "code",
   "execution_count": null,
   "metadata": {
    "ExecuteTime": {
     "end_time": "2017-11-12T00:52:14.006245Z",
     "start_time": "2017-11-12T00:52:13.966298Z"
    }
   },
   "outputs": [],
   "source": [
    "# _csvフォルダ内のファイル一覧をリスト化\n",
    "csv_table = os.listdir('/Users/Really/Stockyard/_csv')\n",
    "csv_table[:10], csv_table[-10:], len(csv_table)"
   ]
  },
  {
   "cell_type": "markdown",
   "metadata": {},
   "source": [
    "## 価格データのファイル一覧を作成"
   ]
  },
  {
   "cell_type": "markdown",
   "metadata": {},
   "source": [
    "### Regexオブジェクトを事前に作成する書き方"
   ]
  },
  {
   "cell_type": "code",
   "execution_count": null,
   "metadata": {
    "ExecuteTime": {
     "end_time": "2017-11-11T15:27:16.700832Z",
     "start_time": "2017-11-11T15:27:16.696296Z"
    }
   },
   "outputs": [],
   "source": [
    "r = re.compile(r't_\\d*.csv')\n",
    "r"
   ]
  },
  {
   "cell_type": "code",
   "execution_count": null,
   "metadata": {
    "ExecuteTime": {
     "end_time": "2017-11-11T15:35:24.432445Z",
     "start_time": "2017-11-11T15:35:24.424193Z"
    },
    "collapsed": true
   },
   "outputs": [],
   "source": [
    "csv_table = [x for x in csv_table if r.match(x)]\n",
    "csv_table[:10], csv_table[-10:], len(csv_table)"
   ]
  },
  {
   "cell_type": "markdown",
   "metadata": {},
   "source": [
    "### Regexオブジェクトを事前作成しない書き方"
   ]
  },
  {
   "cell_type": "code",
   "execution_count": null,
   "metadata": {
    "ExecuteTime": {
     "end_time": "2017-11-12T01:29:47.466278Z",
     "start_time": "2017-11-12T01:29:47.452768Z"
    },
    "collapsed": true
   },
   "outputs": [],
   "source": [
    "csv_table = [i for i in csv_table if re.search(r't_\\d*.csv', x)]\n",
    "csv_table[:10], csv_table[-10:], len(csv_table)"
   ]
  },
  {
   "cell_type": "markdown",
   "metadata": {},
   "source": [
    "## 上記のリスト内包表記について"
   ]
  },
  {
   "cell_type": "markdown",
   "metadata": {},
   "source": [
    "https://qiita.com/y__sama/items/a2c458de97c4aa5a98e7  "
   ]
  },
  {
   "cell_type": "markdown",
   "metadata": {},
   "source": [
    "### 基本構文 [counter for counter in iterator]  "
   ]
  },
  {
   "cell_type": "code",
   "execution_count": null,
   "metadata": {
    "collapsed": true
   },
   "outputs": [],
   "source": [
    "# 通常のリスト生成\n",
    "extension_1 = []\n",
    "for i in range(10):\n",
    "    extension_1.append(i)\n",
    "extension_1"
   ]
  },
  {
   "cell_type": "code",
   "execution_count": null,
   "metadata": {
    "ExecuteTime": {
     "end_time": "2017-11-12T01:17:22.693924Z",
     "start_time": "2017-11-12T01:17:22.687714Z"
    }
   },
   "outputs": [],
   "source": [
    "# extension_1と同等のリストを内包表記で生成する場合は \n",
    "comprehension_1= [i for i in range(10)]\n",
    "comprehension_1"
   ]
  },
  {
   "cell_type": "markdown",
   "metadata": {},
   "source": [
    "先に [i for i in] だけ書いてから修飾することが多い  \n",
    "リスト内包表記はコードがすっきりするだけでなく速度面でも有利"
   ]
  },
  {
   "cell_type": "markdown",
   "metadata": {},
   "source": [
    "### ifを含む場合(後置if)"
   ]
  },
  {
   "cell_type": "code",
   "execution_count": null,
   "metadata": {
    "ExecuteTime": {
     "end_time": "2017-11-12T01:12:52.476088Z",
     "start_time": "2017-11-12T01:12:52.470335Z"
    },
    "collapsed": true
   },
   "outputs": [],
   "source": [
    "extension_2 =[]\n",
    "for i in range(10):\n",
    "    if i%2==0:\n",
    "        extension_2.append(i)\n",
    "extension_2"
   ]
  },
  {
   "cell_type": "markdown",
   "metadata": {},
   "source": [
    "pythonには後置if文がありませんが、リスト内包表記に限っては（結果的にですが）書けます。  \n",
    "extension_2をリスト内包表記で書きなおすと下記のような感じです。  \n",
    "結果的に後置ifの構文になっていますが、これは内包表記ではfor節の後にif節やfor節がつなげられるためです。  \n",
    "(コロンとインデントを省略できると思えばよい。)"
   ]
  },
  {
   "cell_type": "code",
   "execution_count": null,
   "metadata": {
    "ExecuteTime": {
     "end_time": "2017-11-12T01:13:10.666463Z",
     "start_time": "2017-11-12T01:13:10.661219Z"
    }
   },
   "outputs": [],
   "source": [
    "comprehension_2 = [i for i in range(10) if i%2==0]\n",
    "comprehension_2"
   ]
  },
  {
   "cell_type": "markdown",
   "metadata": {},
   "source": [
    "# 日付とデータの欠損埋め、加工データの追加、保存"
   ]
  },
  {
   "cell_type": "code",
   "execution_count": null,
   "metadata": {
    "ExecuteTime": {
     "end_time": "2017-11-11T16:35:22.122569Z",
     "start_time": "2017-11-11T16:19:15.400618Z"
    }
   },
   "outputs": [],
   "source": [
    "for file_name in range(len(csv_table)):\n",
    "    price_table = pd.read_csv('/Users/Really/Stockyard/_csv/{0}'.format(csv_table[file_name]), index_col='Date')\n",
    "    price_table.index = pd.to_datetime(price_table.index)\n",
    "    price_table = stock.complement_price(price_table)\n",
    "    price_table = stock.add_processed_price(price_table)\n",
    "    \n",
    "    price_table.to_csv('/Users/Really/Stockyard/_csv_processed/{0}_p.csv'.format(csv_table[file_name].split('.')[0]))"
   ]
  },
  {
   "cell_type": "markdown",
   "metadata": {},
   "source": [
    "# プロットしてみる"
   ]
  },
  {
   "cell_type": "code",
   "execution_count": null,
   "metadata": {
    "ExecuteTime": {
     "end_time": "2017-11-11T15:47:41.551811Z",
     "start_time": "2017-11-11T15:47:41.206803Z"
    }
   },
   "outputs": [],
   "source": [
    "df_price_fill['AdjClose'].plot()"
   ]
  },
  {
   "cell_type": "code",
   "execution_count": null,
   "metadata": {
    "ExecuteTime": {
     "end_time": "2017-11-11T15:48:13.540307Z",
     "start_time": "2017-11-11T15:48:13.196480Z"
    }
   },
   "outputs": [],
   "source": [
    "df_price_fill['log_return_oc'].plot()"
   ]
  },
  {
   "cell_type": "markdown",
   "metadata": {
    "collapsed": true
   },
   "source": [
    "# 調整後終値の計算"
   ]
  },
  {
   "cell_type": "markdown",
   "metadata": {},
   "source": [
    "## regexやstrアクセサの動作確認"
   ]
  },
  {
   "cell_type": "code",
   "execution_count": null,
   "metadata": {
    "ExecuteTime": {
     "end_time": "2018-03-25T01:20:45.948863Z",
     "start_time": "2018-03-25T01:20:45.917571Z"
    }
   },
   "outputs": [],
   "source": [
    "info = stock.get_yahoo_info()"
   ]
  },
  {
   "cell_type": "code",
   "execution_count": null,
   "metadata": {
    "ExecuteTime": {
     "end_time": "2018-03-25T01:20:48.714757Z",
     "start_time": "2018-03-25T01:20:48.668016Z"
    }
   },
   "outputs": [],
   "source": [
    "info"
   ]
  },
  {
   "cell_type": "code",
   "execution_count": null,
   "metadata": {
    "ExecuteTime": {
     "end_time": "2018-03-25T01:20:53.969409Z",
     "start_time": "2018-03-25T01:20:53.922508Z"
    }
   },
   "outputs": [],
   "source": [
    "# '分割: 1株 -> 2株'形式以外の情報が入っていた場合も想定\n",
    "info.iloc[-1, 3] = 'なんちゃって'\n",
    "info"
   ]
  },
  {
   "cell_type": "code",
   "execution_count": null,
   "metadata": {
    "ExecuteTime": {
     "end_time": "2018-03-25T00:16:20.151638Z",
     "start_time": "2018-03-25T00:16:20.136046Z"
    }
   },
   "outputs": [],
   "source": [
    "info.loc[0, 'Open']"
   ]
  },
  {
   "cell_type": "code",
   "execution_count": null,
   "metadata": {
    "ExecuteTime": {
     "end_time": "2018-03-23T22:48:06.775164Z",
     "start_time": "2018-03-23T22:48:06.759541Z"
    }
   },
   "outputs": [],
   "source": [
    "re.split(' ', info.loc[0, 'Open'])"
   ]
  },
  {
   "cell_type": "code",
   "execution_count": null,
   "metadata": {
    "ExecuteTime": {
     "end_time": "2018-03-25T00:39:25.179102Z",
     "start_time": "2018-03-25T00:39:25.163451Z"
    }
   },
   "outputs": [],
   "source": [
    "re.split(' ', info.loc[0, 'Open'])[-1]"
   ]
  },
  {
   "cell_type": "code",
   "execution_count": null,
   "metadata": {
    "ExecuteTime": {
     "end_time": "2018-03-25T00:46:07.095957Z",
     "start_time": "2018-03-25T00:46:07.080334Z"
    }
   },
   "outputs": [],
   "source": [
    "re.search('([0-9.]*)株', '分割: 1株 -> 0.1株').group()"
   ]
  },
  {
   "cell_type": "code",
   "execution_count": null,
   "metadata": {
    "ExecuteTime": {
     "end_time": "2018-03-25T00:47:08.886656Z",
     "start_time": "2018-03-25T00:47:08.871023Z"
    }
   },
   "outputs": [],
   "source": [
    "re.findall('([0-9.]*)株', '分割: 1株 -> 0.1株')"
   ]
  },
  {
   "cell_type": "code",
   "execution_count": null,
   "metadata": {
    "ExecuteTime": {
     "end_time": "2018-03-25T00:48:19.020258Z",
     "start_time": "2018-03-25T00:48:19.004598Z"
    }
   },
   "outputs": [],
   "source": [
    "re.findall('([0-9.]*)株', info.loc[0, 'Open'])[-1]"
   ]
  },
  {
   "cell_type": "code",
   "execution_count": null,
   "metadata": {
    "ExecuteTime": {
     "end_time": "2018-03-25T01:10:13.636074Z",
     "start_time": "2018-03-25T01:10:13.604793Z"
    },
    "collapsed": true
   },
   "outputs": [],
   "source": [
    "info['Open'].apply(lambda x: re.findall('-> ([0-9.]*)株', x))"
   ]
  },
  {
   "cell_type": "code",
   "execution_count": null,
   "metadata": {
    "ExecuteTime": {
     "end_time": "2018-03-25T01:21:15.471654Z",
     "start_time": "2018-03-25T01:21:15.440402Z"
    },
    "scrolled": true
   },
   "outputs": [],
   "source": [
    "info['Open'].str.extract('-> ([0-9.]*)株', expand=True)"
   ]
  },
  {
   "cell_type": "code",
   "execution_count": null,
   "metadata": {
    "ExecuteTime": {
     "end_time": "2018-03-25T01:21:24.316338Z",
     "start_time": "2018-03-25T01:21:24.269482Z"
    }
   },
   "outputs": [],
   "source": [
    "info['High'] = info['Open'].str.extract('-> ([0-9.]*)株', expand=True).astype(float)\n",
    "info"
   ]
  },
  {
   "cell_type": "code",
   "execution_count": null,
   "metadata": {
    "ExecuteTime": {
     "end_time": "2018-03-25T01:21:28.363638Z",
     "start_time": "2018-03-25T01:21:28.348011Z"
    }
   },
   "outputs": [],
   "source": [
    "info.dtypes"
   ]
  },
  {
   "cell_type": "markdown",
   "metadata": {},
   "source": [
    "## 本番"
   ]
  },
  {
   "cell_type": "code",
   "execution_count": null,
   "metadata": {
    "ExecuteTime": {
     "end_time": "2018-03-25T07:23:44.040624Z",
     "start_time": "2018-03-25T07:23:44.009370Z"
    }
   },
   "outputs": [],
   "source": [
    "info_all = stock.get_yahoo_info()\n",
    "# 分割・併合倍率を抽出、格納\n",
    "info_all['s_rate'] = info_all['Open'].str.extract('-> ([0-9.]*)株', expand=True).astype(float)"
   ]
  },
  {
   "cell_type": "code",
   "execution_count": null,
   "metadata": {
    "ExecuteTime": {
     "end_time": "2018-03-25T07:23:45.900161Z",
     "start_time": "2018-03-25T07:23:45.837654Z"
    },
    "collapsed": true
   },
   "outputs": [],
   "source": [
    "info_all"
   ]
  },
  {
   "cell_type": "code",
   "execution_count": null,
   "metadata": {
    "ExecuteTime": {
     "end_time": "2018-03-25T07:24:00.549801Z",
     "start_time": "2018-03-25T07:24:00.503317Z"
    },
    "collapsed": true
   },
   "outputs": [],
   "source": [
    "info_all.groupby('Code').count()"
   ]
  },
  {
   "cell_type": "code",
   "execution_count": null,
   "metadata": {
    "ExecuteTime": {
     "end_time": "2018-03-25T21:48:08.370696Z",
     "start_time": "2018-03-25T21:48:08.339441Z"
    }
   },
   "outputs": [],
   "source": [
    "# 計算前の AdjClose 列を残すバージョン\n",
    "def calc_adj_close(code):\n",
    "    info = stock.get_yahoo_info()\n",
    "    price = stock.get_yahoo_price(code)\n",
    "    \n",
    "    if info['Code'].isin([code]).any():\n",
    "        info['s_rate'] = info['Open'].str.extract('-> ([0-9.]*)株', expand=True).astype(float)\n",
    "        info = info[info['Code'] == code].set_index('Date')\n",
    "\n",
    "        price['s_rate'] = info['s_rate']\n",
    "        price['s_rate'] = price['s_rate'].fillna(1)\n",
    "        price['a_rate'] = 1.0\n",
    "        # yahoo の正確な計算式は不明。誤差が発生する銘柄もある。桁数だけの問題ではなさそう。\n",
    "        for i in reversed(range(len(price) - 1)):\n",
    "            price['a_rate'][i] = price['a_rate'][i + 1] / price['s_rate'][i + 1]\n",
    "        price['CalcClose'] = np.round(price['Close'] * price['a_rate'], 2)\n",
    "        price = price[['Open', 'High', 'Low', 'Close', 'Volume', 'AdjClose', 'CalcClose']]\n",
    "    else:\n",
    "        print('code {0} has no info.'.format(code))\n",
    "    \n",
    "    return price"
   ]
  },
  {
   "cell_type": "code",
   "execution_count": null,
   "metadata": {
    "ExecuteTime": {
     "end_time": "2018-03-25T22:00:18.428116Z",
     "start_time": "2018-03-25T22:00:18.412501Z"
    }
   },
   "outputs": [],
   "source": [
    "code = 1711"
   ]
  },
  {
   "cell_type": "code",
   "execution_count": null,
   "metadata": {
    "ExecuteTime": {
     "end_time": "2018-03-25T22:01:16.338599Z",
     "start_time": "2018-03-25T22:01:15.479135Z"
    },
    "scrolled": true
   },
   "outputs": [],
   "source": [
    "calc_adj_close(code)"
   ]
  },
  {
   "cell_type": "code",
   "execution_count": null,
   "metadata": {
    "ExecuteTime": {
     "end_time": "2018-03-25T11:22:34.597010Z",
     "start_time": "2018-03-25T11:22:34.237571Z"
    },
    "scrolled": true
   },
   "outputs": [],
   "source": [
    "a = calc_adj_close(code)\n",
    "a.to_csv('calc.csv')"
   ]
  },
  {
   "cell_type": "code",
   "execution_count": null,
   "metadata": {
    "ExecuteTime": {
     "end_time": "2018-03-25T21:52:11.673362Z",
     "start_time": "2018-03-25T21:52:10.423190Z"
    },
    "scrolled": true
   },
   "outputs": [],
   "source": [
    "stock.calc_adj_close(code)"
   ]
  },
  {
   "cell_type": "code",
   "execution_count": null,
   "metadata": {
    "ExecuteTime": {
     "end_time": "2018-03-25T22:01:31.562633Z",
     "start_time": "2018-03-25T22:01:31.109173Z"
    }
   },
   "outputs": [],
   "source": [
    "# 計算前の AdjClose 列、代入した分割率や算出した調整レートを残すバージョン\n",
    "info = info_all[info_all['Code']==code].set_index('Date')\n",
    "\n",
    "price = stock.get_yahoo_price(code)\n",
    "\n",
    "price['s_rate'] = info['s_rate']\n",
    "price['s_rate'] = price['s_rate'].fillna(1)\n",
    "price['a_rate'] = 1.0\n",
    "\n",
    "# yahoo の正確な計算式は不明。誤差が発生する銘柄もある。桁数だけの問題ではなさそう。\n",
    "for i in reversed(range(len(price) - 1)):\n",
    "    #price['a_rate'][i] = np.round(price['a_rate'][i + 1] / price['s_rate'][i + 1], 6)\n",
    "    price['a_rate'][i] = price['a_rate'][i + 1] / price['s_rate'][i + 1]\n",
    "\n",
    "price['CalcClose'] = np.round(price['Close'] * price['a_rate'], 2)"
   ]
  },
  {
   "cell_type": "code",
   "execution_count": null,
   "metadata": {
    "ExecuteTime": {
     "end_time": "2018-03-25T22:01:46.032620Z",
     "start_time": "2018-03-25T22:01:45.970113Z"
    },
    "collapsed": true
   },
   "outputs": [],
   "source": [
    "# 分割実施前後の期間を表示\n",
    "for date in info.index:\n",
    "    print(date.date())\n",
    "    display(price[date + offsets.Day(-10) : date + offsets.Day(10)])"
   ]
  },
  {
   "cell_type": "code",
   "execution_count": null,
   "metadata": {
    "ExecuteTime": {
     "end_time": "2018-03-25T22:01:33.906378Z",
     "start_time": "2018-03-25T22:01:33.859462Z"
    },
    "collapsed": true
   },
   "outputs": [],
   "source": [
    "price"
   ]
  },
  {
   "cell_type": "code",
   "execution_count": null,
   "metadata": {
    "ExecuteTime": {
     "end_time": "2018-03-25T11:39:48.697249Z",
     "start_time": "2018-03-25T11:39:48.556582Z"
    }
   },
   "outputs": [],
   "source": [
    "price.to_csv('calc_1491.csv')"
   ]
  },
  {
   "cell_type": "code",
   "execution_count": null,
   "metadata": {
    "ExecuteTime": {
     "end_time": "2018-03-25T11:32:34.203778Z",
     "start_time": "2018-03-25T11:32:34.156895Z"
    },
    "collapsed": true
   },
   "outputs": [],
   "source": [
    "price['2014-07-01':'2014-07-30']"
   ]
  },
  {
   "cell_type": "code",
   "execution_count": null,
   "metadata": {
    "ExecuteTime": {
     "end_time": "2018-03-25T04:28:48.151582Z",
     "start_time": "2018-03-25T04:28:48.120398Z"
    },
    "collapsed": true
   },
   "outputs": [],
   "source": [
    "price[:10]"
   ]
  },
  {
   "cell_type": "code",
   "execution_count": null,
   "metadata": {
    "ExecuteTime": {
     "end_time": "2018-03-25T04:10:40.698829Z",
     "start_time": "2018-03-25T04:10:40.667974Z"
    },
    "collapsed": true
   },
   "outputs": [],
   "source": [
    "price[-10:]"
   ]
  },
  {
   "cell_type": "code",
   "execution_count": null,
   "metadata": {},
   "outputs": [],
   "source": []
  }
 ],
 "metadata": {
  "kernelspec": {
   "display_name": "Python 3",
   "language": "python",
   "name": "python3"
  },
  "language_info": {
   "codemirror_mode": {
    "name": "ipython",
    "version": 3
   },
   "file_extension": ".py",
   "mimetype": "text/x-python",
   "name": "python",
   "nbconvert_exporter": "python",
   "pygments_lexer": "ipython3",
   "version": "3.6.4"
  },
  "toc": {
   "nav_menu": {},
   "number_sections": true,
   "sideBar": true,
   "skip_h1_title": false,
   "toc_cell": false,
   "toc_position": {},
   "toc_section_display": "block",
   "toc_window_display": false
  },
  "varInspector": {
   "cols": {
    "lenName": 16,
    "lenType": 16,
    "lenVar": 40
   },
   "kernels_config": {
    "python": {
     "delete_cmd_postfix": "",
     "delete_cmd_prefix": "del ",
     "library": "var_list.py",
     "varRefreshCmd": "print(var_dic_list())"
    },
    "r": {
     "delete_cmd_postfix": ") ",
     "delete_cmd_prefix": "rm(",
     "library": "var_list.r",
     "varRefreshCmd": "cat(var_dic_list()) "
    }
   },
   "types_to_exclude": [
    "module",
    "function",
    "builtin_function_or_method",
    "instance",
    "_Feature"
   ],
   "window_display": false
  }
 },
 "nbformat": 4,
 "nbformat_minor": 2
}
