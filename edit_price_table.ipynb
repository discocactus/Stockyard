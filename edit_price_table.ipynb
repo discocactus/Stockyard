{
 "cells": [
  {
   "cell_type": "markdown",
   "metadata": {},
   "source": [
    "# import"
   ]
  },
  {
   "cell_type": "code",
   "execution_count": null,
   "metadata": {
    "ExecuteTime": {
     "end_time": "2017-11-12T00:52:09.934287Z",
     "start_time": "2017-11-12T00:52:08.524637Z"
    },
    "collapsed": true
   },
   "outputs": [],
   "source": [
    "import numpy as np\n",
    "import pandas as pd\n",
    "import matplotlib.pyplot as plt\n",
    "import os\n",
    "import re\n",
    "\n",
    "import stock\n",
    "\n",
    "%matplotlib inline"
   ]
  },
  {
   "cell_type": "code",
   "execution_count": null,
   "metadata": {
    "collapsed": true
   },
   "outputs": [],
   "source": [
    "importlib.reload(stock)"
   ]
  },
  {
   "cell_type": "markdown",
   "metadata": {},
   "source": [
    "# _csvフォルダ内の価格データ一覧をリスト化"
   ]
  },
  {
   "cell_type": "code",
   "execution_count": 2,
   "metadata": {
    "ExecuteTime": {
     "end_time": "2017-11-12T00:52:14.006245Z",
     "start_time": "2017-11-12T00:52:13.966298Z"
    },
    "collapsed": false
   },
   "outputs": [
    {
     "data": {
      "text/plain": [
       "(['.DS_Store',\n",
       "  'all_stock_table.csv',\n",
       "  'all_stock_table_1710.csv',\n",
       "  'discontinued_stock_table.csv',\n",
       "  'domestic_stock_table.csv',\n",
       "  'ex_stock_table.csv',\n",
       "  'info.csv',\n",
       "  'keep_info.csv',\n",
       "  't_1301.csv',\n",
       "  't_1305.csv'],\n",
       " ['t_9989.csv',\n",
       "  't_9990.csv',\n",
       "  't_9991.csv',\n",
       "  't_9992.csv',\n",
       "  't_9993.csv',\n",
       "  't_9994.csv',\n",
       "  't_9995.csv',\n",
       "  't_9996.csv',\n",
       "  't_9997.csv',\n",
       "  'yahoo_stock_table.csv'],\n",
       " 3876)"
      ]
     },
     "execution_count": 2,
     "metadata": {},
     "output_type": "execute_result"
    }
   ],
   "source": [
    "# _csvフォルダ内のファイル一覧をリスト化\n",
    "csv_table = os.listdir('/Users/Really/Stockyard/_csv')\n",
    "csv_table[:10], csv_table[-10:], len(csv_table)"
   ]
  },
  {
   "cell_type": "markdown",
   "metadata": {},
   "source": [
    "## 価格データのファイル一覧を作成"
   ]
  },
  {
   "cell_type": "markdown",
   "metadata": {},
   "source": [
    "### Regexオブジェクトを事前に作成する書き方"
   ]
  },
  {
   "cell_type": "code",
   "execution_count": 16,
   "metadata": {
    "ExecuteTime": {
     "end_time": "2017-11-11T15:27:16.700832Z",
     "start_time": "2017-11-11T15:27:16.696296Z"
    },
    "collapsed": false
   },
   "outputs": [
    {
     "data": {
      "text/plain": [
       "re.compile(r't_\\d*.csv', re.UNICODE)"
      ]
     },
     "execution_count": 16,
     "metadata": {},
     "output_type": "execute_result"
    }
   ],
   "source": [
    "r = re.compile(r't_\\d*.csv')\n",
    "r"
   ]
  },
  {
   "cell_type": "code",
   "execution_count": 30,
   "metadata": {
    "ExecuteTime": {
     "end_time": "2017-11-11T15:35:24.432445Z",
     "start_time": "2017-11-11T15:35:24.424193Z"
    },
    "collapsed": true
   },
   "outputs": [
    {
     "data": {
      "text/plain": [
       "(['t_1301.csv',\n",
       "  't_1305.csv',\n",
       "  't_1306.csv',\n",
       "  't_1308.csv',\n",
       "  't_1309.csv',\n",
       "  't_1310.csv',\n",
       "  't_1311.csv',\n",
       "  't_1312.csv',\n",
       "  't_1313.csv',\n",
       "  't_1314.csv'],\n",
       " ['t_9987.csv',\n",
       "  't_9989.csv',\n",
       "  't_9990.csv',\n",
       "  't_9991.csv',\n",
       "  't_9992.csv',\n",
       "  't_9993.csv',\n",
       "  't_9994.csv',\n",
       "  't_9995.csv',\n",
       "  't_9996.csv',\n",
       "  't_9997.csv'],\n",
       " 3867)"
      ]
     },
     "execution_count": 30,
     "metadata": {},
     "output_type": "execute_result"
    }
   ],
   "source": [
    "csv_table = [x for x in csv_table if r.match(x)]\n",
    "csv_table[:10], csv_table[-10:], len(csv_table)"
   ]
  },
  {
   "cell_type": "markdown",
   "metadata": {},
   "source": [
    "### Regexオブジェクトを事前作成しない書き方"
   ]
  },
  {
   "cell_type": "code",
   "execution_count": 13,
   "metadata": {
    "ExecuteTime": {
     "end_time": "2017-11-12T01:29:47.466278Z",
     "start_time": "2017-11-12T01:29:47.452768Z"
    },
    "collapsed": true
   },
   "outputs": [
    {
     "data": {
      "text/plain": [
       "(['t_1301.csv',\n",
       "  't_1305.csv',\n",
       "  't_1306.csv',\n",
       "  't_1308.csv',\n",
       "  't_1309.csv',\n",
       "  't_1310.csv',\n",
       "  't_1311.csv',\n",
       "  't_1312.csv',\n",
       "  't_1313.csv',\n",
       "  't_1314.csv'],\n",
       " ['t_9987.csv',\n",
       "  't_9989.csv',\n",
       "  't_9990.csv',\n",
       "  't_9991.csv',\n",
       "  't_9992.csv',\n",
       "  't_9993.csv',\n",
       "  't_9994.csv',\n",
       "  't_9995.csv',\n",
       "  't_9996.csv',\n",
       "  't_9997.csv'],\n",
       " 3867)"
      ]
     },
     "execution_count": 13,
     "metadata": {},
     "output_type": "execute_result"
    }
   ],
   "source": [
    "csv_table = [i for i in csv_table if re.search(r't_\\d*.csv', x)]\n",
    "csv_table[:10], csv_table[-10:], len(csv_table)"
   ]
  },
  {
   "cell_type": "markdown",
   "metadata": {},
   "source": [
    "## 上記のリスト内包表記について"
   ]
  },
  {
   "cell_type": "markdown",
   "metadata": {},
   "source": [
    "https://qiita.com/y__sama/items/a2c458de97c4aa5a98e7  "
   ]
  },
  {
   "cell_type": "markdown",
   "metadata": {},
   "source": [
    "### 基本構文 [counter for counter in iterator]  "
   ]
  },
  {
   "cell_type": "code",
   "execution_count": null,
   "metadata": {
    "collapsed": true
   },
   "outputs": [],
   "source": [
    "# 通常のリスト生成\n",
    "extension_1 = []\n",
    "for i in range(10):\n",
    "    extension_1.append(i)\n",
    "extension_1"
   ]
  },
  {
   "cell_type": "code",
   "execution_count": 11,
   "metadata": {
    "ExecuteTime": {
     "end_time": "2017-11-12T01:17:22.693924Z",
     "start_time": "2017-11-12T01:17:22.687714Z"
    },
    "collapsed": false
   },
   "outputs": [
    {
     "data": {
      "text/plain": [
       "[0, 1, 2, 3, 4, 5, 6, 7, 8, 9]"
      ]
     },
     "execution_count": 11,
     "metadata": {},
     "output_type": "execute_result"
    }
   ],
   "source": [
    "# extension_1と同等のリストを内包表記で生成する場合は \n",
    "comprehension_1= [i for i in range(10)]\n",
    "comprehension_1"
   ]
  },
  {
   "cell_type": "markdown",
   "metadata": {},
   "source": [
    "先に [i for i in] だけ書いてから修飾することが多い  \n",
    "リスト内包表記はコードがすっきりするだけでなく速度面でも有利"
   ]
  },
  {
   "cell_type": "markdown",
   "metadata": {},
   "source": [
    "### ifを含む場合(後置if)"
   ]
  },
  {
   "cell_type": "code",
   "execution_count": null,
   "metadata": {
    "ExecuteTime": {
     "end_time": "2017-11-12T01:12:52.476088Z",
     "start_time": "2017-11-12T01:12:52.470335Z"
    },
    "collapsed": true
   },
   "outputs": [],
   "source": [
    "extension_2 =[]\n",
    "for i in range(10):\n",
    "    if i%2==0:\n",
    "        extension_2.append(i)\n",
    "extension_2"
   ]
  },
  {
   "cell_type": "markdown",
   "metadata": {},
   "source": [
    "pythonには後置if文がありませんが、リスト内包表記に限っては（結果的にですが）書けます。  \n",
    "extension_2をリスト内包表記で書きなおすと下記のような感じです。  \n",
    "結果的に後置ifの構文になっていますが、これは内包表記ではfor節の後にif節やfor節がつなげられるためです。  \n",
    "(コロンとインデントを省略できると思えばよい。)"
   ]
  },
  {
   "cell_type": "code",
   "execution_count": 10,
   "metadata": {
    "ExecuteTime": {
     "end_time": "2017-11-12T01:13:10.666463Z",
     "start_time": "2017-11-12T01:13:10.661219Z"
    },
    "collapsed": false
   },
   "outputs": [
    {
     "data": {
      "text/plain": [
       "[0, 2, 4, 6, 8]"
      ]
     },
     "execution_count": 10,
     "metadata": {},
     "output_type": "execute_result"
    }
   ],
   "source": [
    "comprehension_2 = [i for i in range(10) if i%2==0]\n",
    "comprehension_2"
   ]
  },
  {
   "cell_type": "markdown",
   "metadata": {},
   "source": [
    "# 日付とデータの欠損埋め、加工データの追加、保存"
   ]
  },
  {
   "cell_type": "code",
   "execution_count": 57,
   "metadata": {
    "ExecuteTime": {
     "end_time": "2017-11-11T16:35:22.122569Z",
     "start_time": "2017-11-11T16:19:15.400618Z"
    },
    "collapsed": false
   },
   "outputs": [],
   "source": [
    "for file_name in range(len(csv_table)):\n",
    "    price_table = pd.read_csv('/Users/Really/Stockyard/_csv/{0}'.format(csv_table[file_name]), index_col='Date')\n",
    "    price_table.index = pd.to_datetime(price_table.index)\n",
    "    price_table = stock.complement_price(price_table)\n",
    "    price_table = stock.add_processed_price(price_table)\n",
    "    \n",
    "    price_table.to_csv('/Users/Really/Stockyard/_csv_processed/{0}_p.csv'.format(csv_table[file_name].split('.')[0]))"
   ]
  },
  {
   "cell_type": "markdown",
   "metadata": {},
   "source": [
    "# プロットしてみる"
   ]
  },
  {
   "cell_type": "code",
   "execution_count": 40,
   "metadata": {
    "ExecuteTime": {
     "end_time": "2017-11-11T15:47:41.551811Z",
     "start_time": "2017-11-11T15:47:41.206803Z"
    },
    "collapsed": false
   },
   "outputs": [
    {
     "data": {
      "text/plain": [
       "<matplotlib.axes._subplots.AxesSubplot at 0x10eb23d30>"
      ]
     },
     "execution_count": 40,
     "metadata": {},
     "output_type": "execute_result"
    },
    {
     "data": {
      "image/png": "[encoded data removed]",
      "text/plain": [
       "<matplotlib.figure.Figure at 0x10eb1df98>"
      ]
     },
     "metadata": {},
     "output_type": "display_data"
    }
   ],
   "source": [
    "df_price_fill['AdjClose'].plot()"
   ]
  },
  {
   "cell_type": "code",
   "execution_count": 41,
   "metadata": {
    "ExecuteTime": {
     "end_time": "2017-11-11T15:48:13.540307Z",
     "start_time": "2017-11-11T15:48:13.196480Z"
    },
    "collapsed": false
   },
   "outputs": [
    {
     "data": {
      "text/plain": [
       "<matplotlib.axes._subplots.AxesSubplot at 0x10ebffb00>"
      ]
     },
     "execution_count": 41,
     "metadata": {},
     "output_type": "execute_result"
    },
    {
     "data": {
      "image/png": "[encoded data removed]",
      "text/plain": [
       "<matplotlib.figure.Figure at 0x10ec22390>"
      ]
     },
     "metadata": {},
     "output_type": "display_data"
    }
   ],
   "source": [
    "df_price_fill['log_return_oc'].plot()"
   ]
  },
  {
   "cell_type": "code",
   "execution_count": null,
   "metadata": {
    "collapsed": true
   },
   "outputs": [],
   "source": []
  }
 ],
 "metadata": {
  "kernelspec": {
   "display_name": "Python 3",
   "language": "python",
   "name": "python3"
  },
  "language_info": {
   "codemirror_mode": {
    "name": "ipython",
    "version": 3
   },
   "file_extension": ".py",
   "mimetype": "text/x-python",
   "name": "python",
   "nbconvert_exporter": "python",
   "pygments_lexer": "ipython3",
   "version": "3.6.0"
  },
  "toc": {
   "nav_menu": {},
   "number_sections": true,
   "sideBar": true,
   "skip_h1_title": false,
   "toc_cell": false,
   "toc_position": {},
   "toc_section_display": "block",
   "toc_window_display": false
  },
  "varInspector": {
   "cols": {
    "lenName": 16,
    "lenType": 16,
    "lenVar": 40
   },
   "kernels_config": {
    "python": {
     "delete_cmd_postfix": "",
     "delete_cmd_prefix": "del ",
     "library": "var_list.py",
     "varRefreshCmd": "print(var_dic_list())"
    },
    "r": {
     "delete_cmd_postfix": ") ",
     "delete_cmd_prefix": "rm(",
     "library": "var_list.r",
     "varRefreshCmd": "cat(var_dic_list()) "
    }
   },
   "types_to_exclude": [
    "module",
    "function",
    "builtin_function_or_method",
    "instance",
    "_Feature"
   ],
   "window_display": false
  }
 },
 "nbformat": 4,
 "nbformat_minor": 2
}
