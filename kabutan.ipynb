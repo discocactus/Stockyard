{
 "cells": [
  {
   "cell_type": "markdown",
   "metadata": {},
   "source": [
    "# memo"
   ]
  },
  {
   "cell_type": "raw",
   "metadata": {},
   "source": [
    "# ※単位：売上高、営業益、経常益、最終益は「百万円」。１株益、１株配は「円」。率は「％」\n",
    "\n",
    "# ※１株純資産は「円」。自己資本比率は「％」。総資産、自己資本、剰余金は「百万円」。有利子負債倍率は「倍」\n",
    "\n",
    "# ・「連」：日本会計基準［連結決算］、「単」：日本会計基準［非連結決算(単独決算)］、「U」：米国会計基準、「I」：国際会計基準(IFRS)、\n",
    "# 「予」：予想業績、「旧」：修正前の予想業績、「新」：修正後の予想業績、「実」：実績業績、「変」：決算期変更\n",
    "\n",
    "# ・［連結／非連結］決算区分の変更があった場合は、連続的に業績推移を追えるように、連結と非連結を混在して表示しています。\n",
    "# 連結と非連結が混在しない場合は、「連」「単」表記は省略します。\n",
    "\n",
    "# ・前期比および前年同期比は、会計基準や決算期間が異なる場合は比較できないため、「－」で表記しています。\n",
    "\n",
    "# ・米国会計基準と国際会計基準では、「経常益」欄の数値は「税引き前利益」を表記しています。\n",
    "\n",
    "# ・業績予想がレンジで開示された場合は中央値を表記しています。"
   ]
  },
  {
   "cell_type": "raw",
   "metadata": {},
   "source": [
    "# PC: 2017-11-26 html 取得\n",
    "# mobile: 2017-12-13 html 取得\n",
    "# 2017年11月分東証銘柄一覧により取得\n",
    "\n",
    "# 25935 伊藤園第1種優先株式 ない\n",
    "\n",
    "# 銘柄によってテーブルの構成が違う (例) 7203 トヨタ 28 個、9432 NTT 29 個\n",
    "# 修正方向の矢印のパターンの数でテーブル数が動的に変わる?\n",
    "# 列数が 5 以下のテーブルを削除 → 原則、各銘柄テーブル数は 10 個固定で大丈夫?\n",
    "# 新規上場銘柄には存在しないテーブルがある (例) 3995 SKIYAKI 過去最高と３ヵ月業績の推移が無い、業績予想の修正履歴は空)\n",
    "# → 数銘柄だけのはずなので、例外としてパスして後でマニュアル処理する?\n",
    "\n",
    "# 2000年以前の財務実績の発表日は全体的に信用できない\n",
    "# 1998年は何らかの日付で固定 or 捨て、1999年と2000年は通期業績の発表日と同じにする"
   ]
  },
  {
   "cell_type": "raw",
   "metadata": {},
   "source": [
    "# ahaha infomation\n",
    "\n",
    "# 【 株探：HTMLから解析する際の注意点 】\n",
    "\n",
    "# １．業績予想は、修正されていない場合は通期実績欄にしか情報が無い。\n",
    "# ２．3ヶ月単位業績に、銘柄によって予想があったり無かったりする。\n",
    "\n",
    "# －－－－\n",
    "\n",
    "# 【株探：CSV利用時の注意点】\n",
    "\n",
    "# １．業績予測以外は、業績実績を修正しても、「発表日」は反映されない。　 \n",
    "# → トレードシステム作る時は、先に取得したデータを優先させる必要あり。\n",
    "\n",
    "# ２．「適時開示」したタイミングで、公表データ以外の過去実績データも更新される事がある。\n",
    "# → トレードシステム作る時は、先に取得したデータを優先させる必要あり。\n",
    "\n",
    "# ３．「通期業績」で同じ「発表日」に、複数の決算期の発表をしていることがある。「財務 実績」は重複なし。\n",
    "# 「通期業績」：１５銘柄\n",
    "# ['8215', '2374', '8439', '6727', '4924', '2763', '2349', '2754', '2300', '4321', '4337', '4316', '7847', '8628', '2721']\n",
    "\n",
    "# ４．発表日がNaTの場合がけっこうある。\n",
    "# 特に2000年3月期データの発表日が無いデータが多い（1216銘柄）。　\n",
    "# 「通期業績」と「財務 実績」それぞれの発表日でそれらしい方を選んで穴埋めした方がよさそう。\n",
    "\n",
    "# ６．発表日1990-08-01のデータはおかしい -> 1999-08-01, 2001-01-01 もおかしいと思う\n",
    "# 実際は、1998-10-20からというのが正しい。\n",
    "# 「2910」など８銘柄。　BS側のデータが間違えている。　PL側は正しい。　決算期は「1999.04」\n",
    "# 2910,3103,4203,5103,6103,6203,7203,8143\n",
    "\n",
    "# －－－－\n",
    "\n",
    "# ■ メモリ使用量\n",
    "# 今後の計算のために、メモリ使用量について調べてみた。\n",
    "# 横軸に「財務項目×全銘柄コード」という２段構成、\n",
    "# 縦軸には、日付（1998/10/20以降の全営業日）という贅沢テーブルを作ってみたら、\n",
    "# 計算過程で、最大＋７．５ＧＢに膨らんで、最終的には３ＧＢぐらいに戻った。　\n",
    "# ただ、価格データもメモリに載せると、あわせて１０ＧＢぐらいに一旦膨らんで、５．５ＧＢぐらいに戻る感じ。"
   ]
  },
  {
   "cell_type": "markdown",
   "metadata": {},
   "source": [
    "# import など準備"
   ]
  },
  {
   "cell_type": "markdown",
   "metadata": {},
   "source": [
    "## import, MySQL 接続"
   ]
  },
  {
   "cell_type": "code",
   "execution_count": null,
   "metadata": {
    "ExecuteTime": {
     "end_time": "2017-12-22T05:05:53.605268Z",
     "start_time": "2017-12-22T05:05:52.529371Z"
    },
    "code_folding": []
   },
   "outputs": [],
   "source": [
    "# import\n",
    "import sys\n",
    "import os\n",
    "import re\n",
    "import datetime as dt\n",
    "import time\n",
    "import importlib\n",
    "import logging\n",
    "import numpy as np\n",
    "import pandas as pd\n",
    "from robobrowser import RoboBrowser\n",
    "# from robobrowser.browser import RoboState\n",
    "from retry import retry\n",
    "from dateutil.parser import parse\n",
    "from datetime import datetime\n",
    "import pandas.tseries.offsets as offsets\n",
    "from IPython.display import display, HTML\n",
    "\n",
    "import stock"
   ]
  },
  {
   "cell_type": "code",
   "execution_count": null,
   "metadata": {
    "collapsed": true
   },
   "outputs": [],
   "source": [
    "importlib.reload(stock)"
   ]
  },
  {
   "cell_type": "code",
   "execution_count": null,
   "metadata": {
    "ExecuteTime": {
     "end_time": "2017-12-22T05:05:54.742638Z",
     "start_time": "2017-12-22T05:05:54.739333Z"
    },
    "collapsed": true
   },
   "outputs": [],
   "source": [
    "# pandas の最大表示列数を設定 (max_rows で表示行数の設定も可能)\n",
    "pd.set_option('display.max_columns', 30)"
   ]
  },
  {
   "cell_type": "code",
   "execution_count": null,
   "metadata": {
    "ExecuteTime": {
     "end_time": "2017-12-22T05:05:55.803921Z",
     "start_time": "2017-12-22T05:05:55.800905Z"
    }
   },
   "outputs": [],
   "source": [
    "sql = stock.sql()"
   ]
  },
  {
   "cell_type": "markdown",
   "metadata": {
    "heading_collapsed": true
   },
   "source": [
    "## 比較参照用、株プロ決算の読み込み"
   ]
  },
  {
   "cell_type": "code",
   "execution_count": null,
   "metadata": {
    "ExecuteTime": {
     "end_time": "2017-11-30T22:48:16.984209Z",
     "start_time": "2017-11-30T22:48:16.981184Z"
    },
    "collapsed": true,
    "hidden": true
   },
   "outputs": [],
   "source": [
    "table_name = 'kabupro_kessan'"
   ]
  },
  {
   "cell_type": "code",
   "execution_count": null,
   "metadata": {
    "ExecuteTime": {
     "end_time": "2017-11-30T22:48:40.663122Z",
     "start_time": "2017-11-30T22:48:36.151027Z"
    },
    "hidden": true
   },
   "outputs": [],
   "source": [
    "kabupro = sql.read_table(table_name)"
   ]
  },
  {
   "cell_type": "code",
   "execution_count": null,
   "metadata": {
    "ExecuteTime": {
     "end_time": "2017-11-30T22:50:31.865897Z",
     "start_time": "2017-11-30T22:50:31.751462Z"
    },
    "hidden": true
   },
   "outputs": [],
   "source": [
    "kabupro"
   ]
  },
  {
   "cell_type": "code",
   "execution_count": null,
   "metadata": {
    "ExecuteTime": {
     "end_time": "2017-11-29T17:41:52.402353Z",
     "start_time": "2017-11-29T17:41:52.389745Z"
    },
    "hidden": true
   },
   "outputs": [],
   "source": [
    "kabupro.columns"
   ]
  },
  {
   "cell_type": "code",
   "execution_count": null,
   "metadata": {
    "ExecuteTime": {
     "end_time": "2017-11-28T20:02:31.051947Z",
     "start_time": "2017-11-28T20:02:31.037847Z"
    },
    "collapsed": true,
    "hidden": true
   },
   "outputs": [],
   "source": [
    "kabupro.ix[14]\n",
    "# 株プロにしか無い項目: 希薄化後一株当り純利益, 純資産又は株主資本, 営業キャッシュフロー, 投資キャッシュフロー, 財務キャッシュフロー"
   ]
  },
  {
   "cell_type": "markdown",
   "metadata": {},
   "source": [
    "## 参考コード"
   ]
  },
  {
   "cell_type": "code",
   "execution_count": null,
   "metadata": {
    "code_folding": [
     0
    ],
    "collapsed": true
   },
   "outputs": [],
   "source": [
    "def get_price_yahoojp(code, start=None, end=None, interval='d'): # start = '2017-01-01'\n",
    "    # http://sinhrks.hatenablog.com/entry/2015/02/04/002258\n",
    "    # http://jbclub.xii.jp/?p=598\n",
    "    base = 'http://info.finance.yahoo.co.jp/history/?code={0}.T&{1}&{2}&tm={3}&p={4}'\n",
    "    \n",
    "    start = pd.to_datetime(start) # Timestamp('2017-01-01 00:00:00')\n",
    "\n",
    "    if end == None:\n",
    "        end = pd.to_datetime(pd.datetime.now())\n",
    "    else :\n",
    "        end = pd.to_datetime(end)\n",
    "    start = 'sy={0}&sm={1}&sd={2}'.format(start.year, start.month, start.day) # 'sy=2017&sm=1&sd=1'\n",
    "    end = 'ey={0}&em={1}&ed={2}'.format(end.year, end.month, end.day)\n",
    "    p = 1\n",
    "    tmp_result = []\n",
    "\n",
    "    if interval not in ['d', 'w', 'm', 'v']:\n",
    "        raise ValueError(\"Invalid interval: valid values are 'd', 'w', 'm' and 'v'\")\n",
    "\n",
    "    while True:\n",
    "        url = base.format(code, start, end, interval, p)\n",
    "        # print(url)\n",
    "        # https://info.finance.yahoo.co.jp/history/?code=7203.T&sy=2000&sm=1&sd=1&ey=2017&em=10&ed=13&tm=d&p=1\n",
    "        tables = get_table(url)\n",
    "        if len(tables) < 2 or len(tables[1]) == 0:\n",
    "            # print('break')\n",
    "            break\n",
    "        tmp_result.append(tables[1]) # ページ内の3つのテーブルのうち2番目のテーブルを連結\n",
    "        p += 1\n",
    "        # print(p)\n",
    "        \n",
    "    result = pd.concat(tmp_result, ignore_index=True) # インデックスをゼロから振り直す\n",
    "\n",
    "    result.columns = ['Date', 'Open', 'High', 'Low', 'Close', 'Volume', 'AdjClose'] # 列名を変更\n",
    "    if interval == 'm':\n",
    "        result['Date'] = pd.to_datetime(result['Date'], format='%Y年%m月')\n",
    "    else:\n",
    "        result['Date'] = pd.to_datetime(result['Date'], format='%Y年%m月%d日') # 日付の表記を変更\n",
    "    result = result.set_index('Date') # インデックスを日付に変更\n",
    "    result = result.sort_index()\n",
    "    \n",
    "    stock_name = tables[0].columns[0]\n",
    "    # print([code, stock_name])\n",
    "    \n",
    "    return [result, stock_name]"
   ]
  },
  {
   "cell_type": "code",
   "execution_count": null,
   "metadata": {
    "code_folding": [
     0
    ],
    "collapsed": true
   },
   "outputs": [],
   "source": [
    "# yahoo 初回連続読み込み\n",
    "# 読み込み期間の設定\n",
    "start = '2000-01-01'\n",
    "end = None\n",
    "\n",
    "# ロガー設定\n",
    "start_time = dt.datetime.now()\n",
    "logging.basicConfig(filename='get_price_{0}.log'.format(start_time.strftime('%Y-%m-%d')), filemode='w', level=logging.INFO)\n",
    "logging.info('{0} get_price Started'.format(start_time.strftime('%Y-%m-%d %H:%M:%S')))\n",
    "\n",
    "sql = stock.sql() # MySQLに接続するクラスインスタンスを作成\n",
    "\n",
    "info = sql.get_info() # 保存済み info の読み込み\n",
    "failed = [] # 読み込みに失敗した銘柄のコードを書き込むリストを作成\n",
    "save_failed = [] # 保存のみ失敗した分\n",
    "\n",
    "# 連続読み込み書き込み\n",
    "for index in range(len(reading_code)):\n",
    "    code = reading_code[index]\n",
    "    \n",
    "    try:\n",
    "        time.sleep(5)\n",
    "        \n",
    "        # Yahooファイナスンスから時系列情報と銘柄名を取得\n",
    "        tmp_price, stock_name = stock.get_price_yahoojp(code, start=start, end=end)\n",
    "        \n",
    "        # 価格と価格以外の情報を分離\n",
    "        tmp_info = tmp_price[tmp_price.isnull().any(axis=1)].reset_index()\n",
    "        if len(tmp_info) > 0:\n",
    "            new_info = stock.reform_info(tmp_info, code, stock_name)\n",
    "            info = info.append(new_info, ignore_index=True)\n",
    "        \n",
    "            price = stock.extract_price(tmp_price)\n",
    "            \n",
    "        else:\n",
    "            price = tmp_price # 価格以外の情報がなければそのまま\n",
    "            \n",
    "        try:\n",
    "            # CSVで保存\n",
    "            price.to_csv('/Users/Really/Stockyard/_csv/t_{0}.csv'.format(code))\n",
    "            info.to_csv('/Users/Really/Stockyard/_csv/info.csv')\n",
    "            # MySQLに保存\n",
    "            sql.write_price(code, price)\n",
    "            sql.write_info('info', info)\n",
    "          \n",
    "            print('{0}: Success {1}'.format(index, code))\n",
    "            \n",
    "        except Exception as e:\n",
    "            logging.warning('{0} {1}: {2}'.format(dt.datetime.now().strftime('%Y-%m-%d %H:%M:%S'), code, e))\n",
    "            save_failed.append(code)\n",
    "            print('{0}: Failed in {1} at Save Data'.format(index, code))\n",
    "            print(e)\n",
    "            \n",
    "    except Exception as e:\n",
    "        logging.warning('{0} {1}: {2}'.format(dt.datetime.now().strftime('%Y-%m-%d %H:%M:%S'), code, e))\n",
    "        failed.append(code)\n",
    "        print('{0}: Failed in {1} at get_price'.format(index, code))\n",
    "        print(e)\n",
    "\n",
    "print('Failed in {0} stocks at get:'.format(len(failed)))\n",
    "print(failed)\n",
    "print('Failed in {0} stocks at save:'.format(len(save_failed)))\n",
    "print(save_failed)\n",
    "\n",
    "# 最後にinfoの重複と順序を整理してから再度保存\n",
    "info = info.drop_duplicates()\n",
    "info = info.sort_values(by=['Code', 'Date'])\n",
    "info.to_csv('/Users/Really/Stockyard/_csv/info.csv')\n",
    "sql.write_info('info', info)\n",
    "\n",
    "logging.info('{0} get_price Finished'.format(dt.datetime.now().strftime('%Y-%m-%d %H:%M:%S')))"
   ]
  },
  {
   "cell_type": "code",
   "execution_count": null,
   "metadata": {
    "code_folding": [
     0
    ],
    "collapsed": true
   },
   "outputs": [],
   "source": [
    "%%writefile amazon_order_history.py\n",
    "\n",
    "# Amazon.co.jpの注文履歴を取得する\n",
    "\n",
    "import sys\n",
    "import os\n",
    "from robobrowser import RoboBrowser\n",
    "\n",
    "# 認証の情報は環境変数から取得する\n",
    "AMAZON_EMAIL = os.environ['AMAZON_EMAIL']\n",
    "AMAZON_PASSWORD = os.environ['AMAZON_PASSWORD']\n",
    "\n",
    "# RoboBrowserオブジェクトを作成する\n",
    "browser = RoboBrowser(\n",
    "    parser='html.parser', # Beatiful Soupで使用するパーサーを指定\n",
    "    # Cookieが使用できないと表示されてログインできない問題を回避するため\n",
    "    # 通常のブラウザーのUser-Agent(ここではFirefoxのもの)を使う\n",
    "    user_agent='Mozilla/5.0 (Macintosh; Intel Mac OS X 10.10; rv:45.0) Gecko/20100101 Firefox/45.0')\n",
    "\n",
    "\n",
    "def main():\n",
    "    # 注文履歴のページを開く\n",
    "    print('Navigating...', file=sys.stderr)\n",
    "    browser.open('https://www.amazon.co.jp/gp/css/order-history')\n",
    "    \n",
    "    # サインインページにリダイレクトされていることを確認する\n",
    "    assert 'Amazonサインイン' in browser.parsed.title.string\n",
    "    \n",
    "    # name=\"signIn\" というサインインフォームを埋める。\n",
    "    # フォームのname属性の値はブラウザーの開発者ツールで確認できる。\n",
    "    form = browser.get_form(attrs={'name': 'signIn'})\n",
    "    form['email'] = AMAZON_EMAIL\n",
    "    form['password'] = AMAZON_PASSWORD\n",
    "    \n",
    "    # フォームを送信する。正常にログインするにはRefererヘッダーとAccept-Languageヘッダーが必要。\n",
    "    print('Signing in...', file=sys.stderr)\n",
    "    browser.submit_form(form, headers={\n",
    "        'Referer': browser.url,\n",
    "        'Accept-Language': 'ja,en-US;q=0.7,en;q=0.3',\n",
    "    })\n",
    "    \n",
    "    # ログインに失敗する場合は、次の行のコメントを外してHTMLのソースを確認すると良い。\n",
    "    # print(browser.parsed.prettify())\n",
    "\n",
    "    # ページャーをたどる。\n",
    "    while True:\n",
    "        assert '注文履歴' in browser.parsed.title.string # 注文履歴画面が表示されていることを確認する。\n",
    "        \n",
    "        print_order_history() # 注文履歴を表示する。\n",
    "        \n",
    "        link_to_next = browser.get_link('次へ') #「次へ」というテキストを持つリンクを取得する。\n",
    "        if not link_to_next:\n",
    "            break #「次へ」のリンクがない場合はループを抜けて終了する。\n",
    "            \n",
    "        print('Following link to next page...', file=sys.stderr)\n",
    "        browser.follow_link(link_to_next) # 次へ」というリンクをたどる。\n",
    "        \n",
    "        \n",
    "def print_order_history():\n",
    "    \"\"\"\n",
    "    現在のページのすべての注文履歴を表示する\n",
    "    \"\"\"\n",
    "    for line_item in browser.select('.order-info'):\n",
    "        order = {} # 注文の情報を格納するためのdict\n",
    "        # ページ内のすべての注文履歴について反復する。ブラウザーの開発者ツールでclass属性の値を確認できる\n",
    "        # 注文の情報のすべての列について反復する\n",
    "        for column in line_item.select('.a-column'):\n",
    "            label_element = column.select_one('.label')\n",
    "            value_element = column.select_one('.value')\n",
    "            # ラベルと値がない列は無視する。\n",
    "            if label_element and value_element:\n",
    "                label = label_element.get_text().strip()\n",
    "                value = value_element.get_text().strip()\n",
    "                order[label] = value\n",
    "        print(order['注文日'], order['合計']) # 注文の情報を表示する。\n",
    "        \n",
    "\n",
    "if __name__ == '__main__':\n",
    "    main()"
   ]
  },
  {
   "cell_type": "code",
   "execution_count": null,
   "metadata": {
    "collapsed": true
   },
   "outputs": [],
   "source": [
    "!forego run python amazon_order_history.py"
   ]
  },
  {
   "cell_type": "markdown",
   "metadata": {},
   "source": [
    "# ログイン。入力したメアドとパスワードが出力に表示されてしまうのでそのままでGitHubに上げちゃダメ！ログインを済ませたら必ずすぐにクリア！"
   ]
  },
  {
   "cell_type": "markdown",
   "metadata": {},
   "source": [
    "__TODO__ forego を利用してログイン情報を隠せないか検討"
   ]
  },
  {
   "cell_type": "code",
   "execution_count": null,
   "metadata": {
    "ExecuteTime": {
     "end_time": "2017-12-17T22:53:03.366218Z",
     "start_time": "2017-12-17T22:52:41.017757Z"
    },
    "code_folding": []
   },
   "outputs": [],
   "source": [
    "# sign-in\n",
    "# 認証の情報\n",
    "KT_EMAIL = input('Name?')\n",
    "KT_PASSWORD = input('Password?')\n",
    "\n",
    "# RoboBrowserオブジェクトを作成する\n",
    "browser = RoboBrowser(\n",
    "    parser='html.parser', # Beatiful Soupで使用するパーサーを指定\n",
    "    # Cookieが使用できないと表示されてログインできない問題を回避するため\n",
    "    # 通常のブラウザーのUser-Agent(ここではFirefoxのもの)を使う\n",
    "    user_agent='Mozilla/5.0 (Macintosh; Intel Mac OS X 10.10; rv:45.0) Gecko/20100101 Firefox/45.0')\n",
    "    # user_agent='Mozilla/5.0 (iPhone; CPU iPhone OS 9_3_5 like Mac OS X) AppleWebKit/601.1.46 (KHTML, like Gecko) Version/9.0 Mobile/13G36 Safari/601.1')\n",
    "\n",
    "# ログインページを開く\n",
    "print('Navigating...', file=sys.stderr)\n",
    "browser.open('https://account.kabutan.jp/login')\n",
    "\n",
    "# 株探プレミアムページにいることを確認する\n",
    "assert '株探プレミアム' in browser.parsed.title.string\n",
    "\n",
    "# name=\"signIn\" というサインインフォームを埋める。\n",
    "# フォームのname属性の値はブラウザーの開発者ツールで確認できる。\n",
    "form = browser.get_form(action='/login')\n",
    "form['session[email]'] = KT_EMAIL\n",
    "form['session[password]'] = KT_PASSWORD\n",
    "\n",
    "# フォームを送信する。\n",
    "# 正常にログインするにはRefererヘッダーとAccept-Languageヘッダーが必要な場合がある。\n",
    "print('Signing in...', file=sys.stderr)\n",
    "browser.submit_form(form)\n",
    "\n",
    "print(browser.select('.is-success')[0].text.strip())"
   ]
  },
  {
   "cell_type": "markdown",
   "metadata": {
    "heading_collapsed": true
   },
   "source": [
    "# 銘柄コードリスト"
   ]
  },
  {
   "cell_type": "code",
   "execution_count": null,
   "metadata": {
    "ExecuteTime": {
     "end_time": "2017-12-15T13:59:26.490797Z",
     "start_time": "2017-12-15T13:59:26.180185Z"
    },
    "collapsed": true,
    "hidden": true
   },
   "outputs": [],
   "source": [
    "# 2017年11月分東証銘柄一覧のエクセルファイルを読み込む # http://www.jpx.co.jp/markets/statistics-equities/misc/01.html\n",
    "all_stock_table = pd.read_excel('/Users/Really/Stockyard/_dl_data/data_j_1711.xls')\n",
    "all_stock_table.columns = ['date', 'code', 'name', 'market', 'code_33', 'category_33', 'code_17', 'category_17', 'code_scale', 'scale'] # 列名を変更"
   ]
  },
  {
   "cell_type": "code",
   "execution_count": null,
   "metadata": {
    "ExecuteTime": {
     "end_time": "2017-12-15T14:00:20.837605Z",
     "start_time": "2017-12-15T14:00:20.828051Z"
    },
    "collapsed": true,
    "hidden": true
   },
   "outputs": [],
   "source": [
    "# 内国株のテーブル作成\n",
    "domestic_stock_table = all_stock_table.ix[all_stock_table['market'].str.contains('内国株')].reset_index(drop=True)"
   ]
  },
  {
   "cell_type": "code",
   "execution_count": null,
   "metadata": {
    "ExecuteTime": {
     "end_time": "2017-12-15T14:00:24.981967Z",
     "start_time": "2017-12-15T14:00:24.914706Z"
    },
    "hidden": true
   },
   "outputs": [],
   "source": [
    "# 表示\n",
    "domestic_stock_table"
   ]
  },
  {
   "cell_type": "code",
   "execution_count": null,
   "metadata": {
    "ExecuteTime": {
     "end_time": "2017-12-15T14:00:38.054822Z",
     "start_time": "2017-12-15T14:00:38.051297Z"
    },
    "collapsed": true,
    "hidden": true
   },
   "outputs": [],
   "source": [
    "code_list = list(domestic_stock_table['code'])"
   ]
  },
  {
   "cell_type": "code",
   "execution_count": null,
   "metadata": {
    "ExecuteTime": {
     "end_time": "2017-12-15T14:00:40.204836Z",
     "start_time": "2017-12-15T14:00:40.201650Z"
    },
    "collapsed": true,
    "hidden": true
   },
   "outputs": [],
   "source": [
    "# 伊藤園第1種優先株式を削除\n",
    "# 要素の値を直接指定して削除することができる\n",
    "code_list.remove(25935)"
   ]
  },
  {
   "cell_type": "code",
   "execution_count": null,
   "metadata": {
    "ExecuteTime": {
     "end_time": "2017-12-02T19:19:03.885726Z",
     "start_time": "2017-12-02T19:19:03.880893Z"
    },
    "hidden": true,
    "scrolled": true
   },
   "outputs": [],
   "source": [
    "code_list[-10:]"
   ]
  },
  {
   "cell_type": "code",
   "execution_count": null,
   "metadata": {
    "ExecuteTime": {
     "end_time": "2017-12-15T14:00:41.987115Z",
     "start_time": "2017-12-15T14:00:41.982676Z"
    },
    "hidden": true
   },
   "outputs": [],
   "source": [
    "len(code_list)"
   ]
  },
  {
   "cell_type": "code",
   "execution_count": null,
   "metadata": {
    "ExecuteTime": {
     "end_time": "2017-12-13T02:32:00.280118Z",
     "start_time": "2017-12-13T02:32:00.271466Z"
    },
    "hidden": true
   },
   "outputs": [],
   "source": [
    "start_index = 0\n",
    "increase_number = 2\n",
    "#end_index = start_index + increase_number\n",
    "end_index = len(code_list)\n",
    "\n",
    "reading_code = code_list[start_index : end_index]\n",
    "print(len(reading_code))\n",
    "print(reading_code[-10:])\n",
    "print('Next start from {0}'.format(start_index + increase_number))"
   ]
  },
  {
   "cell_type": "code",
   "execution_count": null,
   "metadata": {
    "ExecuteTime": {
     "end_time": "2017-12-17T22:52:04.934358Z",
     "start_time": "2017-12-17T22:52:04.929295Z"
    },
    "hidden": true
   },
   "outputs": [],
   "source": [
    "reading_code = [3975, 3995, 7196, 7810, 9262]\n",
    "reading_code"
   ]
  },
  {
   "cell_type": "markdown",
   "metadata": {},
   "source": [
    "# 上場日本株全銘柄の決算ページの連続読み込み"
   ]
  },
  {
   "cell_type": "markdown",
   "metadata": {},
   "source": [
    "## get_html 関数 (retry 付き)"
   ]
  },
  {
   "cell_type": "code",
   "execution_count": null,
   "metadata": {
    "ExecuteTime": {
     "end_time": "2017-12-17T22:53:20.172110Z",
     "start_time": "2017-12-17T22:53:20.160749Z"
    },
    "collapsed": true
   },
   "outputs": [],
   "source": [
    "@retry(tries=5, delay=1, backoff=2)\n",
    "def get_html(url):\n",
    "    browser.open(url)\n",
    "    assert '決算' in browser.parsed.title.string # 決算ページにいることを確認する\n",
    "    stock_name = browser.select('.kobetsu_data_table1_meigara')[0].text.strip()  # モバイルサイトの場合はコメントアウト\n",
    "    print('{0}: {1}'.format(code, stock_name))  # モバイルサイトの場合はコメントアウト\n",
    "    result = browser.find()\n",
    "    \n",
    "    return result"
   ]
  },
  {
   "cell_type": "markdown",
   "metadata": {},
   "source": [
    "__モバイルサイト用__"
   ]
  },
  {
   "cell_type": "code",
   "execution_count": null,
   "metadata": {
    "ExecuteTime": {
     "end_time": "2017-12-17T22:57:15.147964Z",
     "start_time": "2017-12-17T22:57:15.138552Z"
    },
    "collapsed": true
   },
   "outputs": [],
   "source": [
    "@retry(tries=5, delay=1, backoff=2)\n",
    "def get_html(url):\n",
    "    browser.open(url)\n",
    "    assert '決算' in browser.parsed.title.string # 決算ページにいることを確認する\n",
    "    # stock_name = browser.select('.kobetsu_data_table1_meigara')[0].text.strip()  # モバイルサイトの場合はコメントアウト\n",
    "    # print('{0}: {1}'.format(code, stock_name))  # モバイルサイトの場合はコメントアウト\n",
    "    result = browser.find()\n",
    "    \n",
    "    return result"
   ]
  },
  {
   "cell_type": "markdown",
   "metadata": {},
   "source": [
    "## 連続読み込み"
   ]
  },
  {
   "cell_type": "code",
   "execution_count": null,
   "metadata": {
    "ExecuteTime": {
     "end_time": "2017-12-17T22:55:48.022630Z",
     "start_time": "2017-12-17T22:55:26.430231Z"
    }
   },
   "outputs": [],
   "source": [
    "# ロガー設定\n",
    "start_time = dt.datetime.now()\n",
    "logging.basicConfig(filename='get_kabutan_html_{0}.log'.format(start_time.strftime('%Y-%m-%d')), filemode='w', level=logging.INFO)\n",
    "logging.info('{0} get_html Started'.format(start_time.strftime('%Y-%m-%d %H:%M:%S')))\n",
    "\n",
    "failed = [] # 読み込みに失敗した銘柄のコードを書き込むリストを作成\n",
    "\n",
    "\n",
    "# 連続読み込み書き込み\n",
    "for index in range(len(reading_code)):\n",
    "    code = reading_code[index]\n",
    "    # print(code) # モバイルサイト用\n",
    "    \n",
    "    try:\n",
    "        time.sleep(3 + np.random.randint(0, 3))\n",
    "        \n",
    "        url = 'https://kabutan.jp/stock/finance?code={0}&mode=k'.format(code)\n",
    "        # url = 'https://s.kabutan.jp/stock/finance?code={0}&mode=k'.format(code)\n",
    "        result = get_html(url)\n",
    "\n",
    "        with open('/Users/Really/Stockyard/_kabutan_html/kabutan_{0}.html'.format(code), 'w') as write_html:\n",
    "        # with open('/Users/Really/Stockyard/_kabutan_mobile_html/kabutan_{0}.html'.format(code), 'w') as write_html:\n",
    "            write_html.write(str(result))\n",
    "                    \n",
    "    except Exception as e:\n",
    "        logging.warning('{0} {1}: {2}'.format(dt.datetime.now().strftime('%Y-%m-%d %H:%M:%S'), code, e))\n",
    "        failed.append(code)\n",
    "        print('{0}: Failed in {1} at get_html'.format(index, code))\n",
    "        print(e)\n",
    "\n",
    "\n",
    "print('Failed in {0} stocks at get:'.format(len(failed)))\n",
    "print(failed)\n",
    "\n",
    "logging.info('{0} get_html Finished'.format(dt.datetime.now().strftime('%Y-%m-%d %H:%M:%S')))"
   ]
  },
  {
   "cell_type": "markdown",
   "metadata": {},
   "source": [
    "__モバイルサイト用__"
   ]
  },
  {
   "cell_type": "code",
   "execution_count": null,
   "metadata": {
    "ExecuteTime": {
     "end_time": "2017-12-17T22:57:54.737719Z",
     "start_time": "2017-12-17T22:57:27.697932Z"
    }
   },
   "outputs": [],
   "source": [
    "# ロガー設定\n",
    "start_time = dt.datetime.now()\n",
    "logging.basicConfig(filename='get_kabutan_html_{0}.log'.format(start_time.strftime('%Y-%m-%d')), filemode='w', level=logging.INFO)\n",
    "logging.info('{0} get_html Started'.format(start_time.strftime('%Y-%m-%d %H:%M:%S')))\n",
    "\n",
    "failed = [] # 読み込みに失敗した銘柄のコードを書き込むリストを作成\n",
    "\n",
    "\n",
    "# 連続読み込み書き込み\n",
    "for index in range(len(reading_code)):\n",
    "    code = reading_code[index]\n",
    "    print(code) # モバイルサイト用\n",
    "    \n",
    "    try:\n",
    "        time.sleep(3 + np.random.randint(0, 3))\n",
    "        \n",
    "        # url = 'https://kabutan.jp/stock/finance?code={0}&mode=k'.format(code)\n",
    "        url = 'https://s.kabutan.jp/stock/finance?code={0}&mode=k'.format(code)\n",
    "        result = get_html(url)\n",
    "\n",
    "        # with open('/Users/Really/Stockyard/_kabutan_html/kabutan_{0}.html'.format(code), 'w') as write_html:\n",
    "        with open('/Users/Really/Stockyard/_kabutan_mobile_html/kabutan_{0}.html'.format(code), 'w') as write_html:\n",
    "            write_html.write(str(result))\n",
    "                    \n",
    "    except Exception as e:\n",
    "        logging.warning('{0} {1}: {2}'.format(dt.datetime.now().strftime('%Y-%m-%d %H:%M:%S'), code, e))\n",
    "        failed.append(code)\n",
    "        print('{0}: Failed in {1} at get_html'.format(index, code))\n",
    "        print(e)\n",
    "\n",
    "\n",
    "print('Failed in {0} stocks at get:'.format(len(failed)))\n",
    "print(failed)\n",
    "\n",
    "logging.info('{0} get_html Finished'.format(dt.datetime.now().strftime('%Y-%m-%d %H:%M:%S')))"
   ]
  },
  {
   "cell_type": "markdown",
   "metadata": {},
   "source": [
    "## 確認"
   ]
  },
  {
   "cell_type": "code",
   "execution_count": null,
   "metadata": {
    "ExecuteTime": {
     "end_time": "2017-12-06T01:01:35.817275Z",
     "start_time": "2017-12-06T01:01:35.814596Z"
    },
    "collapsed": true
   },
   "outputs": [],
   "source": [
    "code = 1743"
   ]
  },
  {
   "cell_type": "code",
   "execution_count": null,
   "metadata": {
    "ExecuteTime": {
     "end_time": "2017-12-06T01:01:38.786996Z",
     "start_time": "2017-12-06T01:01:38.375335Z"
    }
   },
   "outputs": [],
   "source": [
    "# 保存した PC用 html からテーブルを読み込んでみる\n",
    "tables = pd.read_html('/Users/Really/Stockyard/_kabutan_html/kabutan_{0}.html'.format(code), header=0)"
   ]
  },
  {
   "cell_type": "code",
   "execution_count": null,
   "metadata": {
    "ExecuteTime": {
     "end_time": "2017-12-17T07:46:59.094215Z",
     "start_time": "2017-12-17T07:46:58.954660Z"
    },
    "scrolled": false
   },
   "outputs": [],
   "source": [
    "for idx in range(len(tables)):\n",
    "    print(idx)\n",
    "    display(tables[idx])"
   ]
  },
  {
   "cell_type": "code",
   "execution_count": null,
   "metadata": {
    "ExecuteTime": {
     "end_time": "2017-12-13T02:28:30.311553Z",
     "start_time": "2017-12-13T02:28:28.899730Z"
    }
   },
   "outputs": [],
   "source": [
    "# 保存した モバイル用 html からテーブルを読み込んでみる\n",
    "mobile = pd.read_html('/Users/Really/Stockyard/_kabutan_mobile_html/kabutan_{0}.html'.format(code), header=0)"
   ]
  },
  {
   "cell_type": "code",
   "execution_count": null,
   "metadata": {
    "ExecuteTime": {
     "end_time": "2017-12-21T05:43:46.275619Z",
     "start_time": "2017-12-21T05:43:46.196800Z"
    },
    "collapsed": true
   },
   "outputs": [],
   "source": [
    "for idx in range(len(mobile)):\n",
    "    print(idx)\n",
    "    display(mobile[idx])"
   ]
  },
  {
   "cell_type": "markdown",
   "metadata": {},
   "source": [
    "__各銘柄のテーブル数をカウント__"
   ]
  },
  {
   "cell_type": "code",
   "execution_count": null,
   "metadata": {
    "ExecuteTime": {
     "end_time": "2017-12-02T19:55:28.705820Z",
     "start_time": "2017-12-02T19:31:17.585748Z"
    }
   },
   "outputs": [],
   "source": [
    "table_qty = []\n",
    "\n",
    "for index in range(len(code_list)):\n",
    "    try:\n",
    "        tables = pd.read_html('/Users/Really/Stockyard/_kabutan_html/kabutan_{0}.html'.format(code_list[index]), header=0)\n",
    "        table_qty.append(len(tables))\n",
    "    except Exception as e:\n",
    "        print(code_list[index])\n",
    "        print(e)"
   ]
  },
  {
   "cell_type": "code",
   "execution_count": null,
   "metadata": {
    "ExecuteTime": {
     "end_time": "2017-12-02T19:56:39.466810Z",
     "start_time": "2017-12-02T19:56:39.462384Z"
    }
   },
   "outputs": [],
   "source": [
    "len(table_qty)"
   ]
  },
  {
   "cell_type": "code",
   "execution_count": null,
   "metadata": {
    "ExecuteTime": {
     "end_time": "2017-12-02T19:57:46.951144Z",
     "start_time": "2017-12-02T19:57:46.946915Z"
    }
   },
   "outputs": [],
   "source": [
    "max(table_qty)\n",
    "# 38"
   ]
  },
  {
   "cell_type": "code",
   "execution_count": null,
   "metadata": {
    "ExecuteTime": {
     "end_time": "2017-12-02T19:57:58.476821Z",
     "start_time": "2017-12-02T19:57:58.472452Z"
    }
   },
   "outputs": [],
   "source": [
    "min(table_qty)\n",
    "# 17"
   ]
  },
  {
   "cell_type": "code",
   "execution_count": null,
   "metadata": {
    "ExecuteTime": {
     "end_time": "2017-12-02T20:01:33.947767Z",
     "start_time": "2017-12-02T20:01:33.942627Z"
    }
   },
   "outputs": [],
   "source": [
    "code_list[table_qty.index(max(table_qty))]\n",
    "# 9101"
   ]
  },
  {
   "cell_type": "code",
   "execution_count": null,
   "metadata": {
    "ExecuteTime": {
     "end_time": "2017-12-02T20:02:01.134328Z",
     "start_time": "2017-12-02T20:02:01.128966Z"
    }
   },
   "outputs": [],
   "source": [
    "code_list[table_qty.index(min(table_qty))]\n",
    "# 3995"
   ]
  },
  {
   "cell_type": "markdown",
   "metadata": {},
   "source": [
    "__各テーブルの列数の確認__"
   ]
  },
  {
   "cell_type": "code",
   "execution_count": null,
   "metadata": {
    "ExecuteTime": {
     "end_time": "2017-12-03T12:31:35.705502Z",
     "start_time": "2017-12-03T12:31:35.695853Z"
    },
    "collapsed": true
   },
   "outputs": [],
   "source": [
    "for table_number in range(len(tables)):\n",
    "    print('{0}: {1}'.format(table_number, len(tables[table_number].columns)))"
   ]
  },
  {
   "cell_type": "markdown",
   "metadata": {},
   "source": [
    "# 読み込み〜整形、連続処理"
   ]
  },
  {
   "cell_type": "code",
   "execution_count": null,
   "metadata": {
    "ExecuteTime": {
     "end_time": "2017-12-22T07:30:01.081110Z",
     "start_time": "2017-12-22T07:29:54.391944Z"
    },
    "code_folding": []
   },
   "outputs": [],
   "source": [
    "# ---- 保存した html ファイルからテーブル属性のみ読み込み、整形 ---- #\n",
    "\n",
    "code = 3975 # 9262 # 7810 # 7196 # 3995 # 3975 # 3863 # 3480 # 1418 # 1408 # 1376 # 7203 # 1909\n",
    "\n",
    "# 保存した html からテーブル属性を読み込み\n",
    "tables = pd.read_html('/Users/Really/Stockyard/_kabutan_html/kabutan_{0}.html'.format(code), header=0)\n",
    "\n",
    "# 列数が 5 以下のテーブルを削除\n",
    "tables = list(filter(lambda x: len(x.columns) > 5, tables))\n",
    "\n",
    "# 抽出用テーブルの作成\n",
    "pl_table = pd.DataFrame()\n",
    "fc_table = pd.DataFrame()\n",
    "qr_table = pd.DataFrame()\n",
    "bs_table = pd.DataFrame()\n",
    "\n",
    "# 必要なテーブルの抽出\n",
    "# リストを要素ごとに for で回す書き方\n",
    "for table in tables:\n",
    "    # 通期業績: profit and loss statement\n",
    "    if len(table.columns) == 8: \n",
    "        if (table.columns[-2] == \"１株配\") & (pl_table.shape[1] == 0): \n",
    "            pl_table = table.copy()\n",
    "    # 業績予想: forecast\n",
    "    if len(table.columns) >= 8: \n",
    "        if (table.columns[1] == \"修正日\") & (fc_table.shape[1] == 0): \n",
    "            fc_table = table.copy()\n",
    "    # 3ヶ月業績: quater\n",
    "    if len(table.columns) == 8: \n",
    "        if (table.columns[-2] == \"売上営業損益率\") & (qr_table.shape[1] == 0): \n",
    "            qr_table = table.copy()\n",
    "    # 財務: balance sheet\n",
    "    if len(table.columns) == 8: \n",
    "        if (table.columns[1] == \"１株純資産\") & (bs_table.shape[1] == 0): \n",
    "            bs_table = table.copy()\n",
    "\n",
    "# 保存した モバイル用 html からテーブル属性を読み込み\n",
    "mobile = pd.read_html('/Users/Really/Stockyard/_kabutan_mobile_html/kabutan_{0}.html'.format(code), header=0)\n",
    "\n",
    "# 抽出用テーブルの作成\n",
    "pl_mobile = pd.DataFrame()\n",
    "fc_mobile = pd.DataFrame()\n",
    "qr_mobile = pd.DataFrame()\n",
    "bs_mobile = pd.DataFrame()\n",
    "\n",
    "# 必要なテーブルの抽出\n",
    "# リストを要素ごとに for で回す書き方\n",
    "for idx, table in enumerate(mobile):\n",
    "    # 通期業績: profit and loss statement\n",
    "    if len(table.columns) == 8: \n",
    "        if (table.columns[-3] == \"１株配\") & (pl_mobile.shape[1] == 0): \n",
    "            pl_mobile = table.copy()\n",
    "    # 業績予想: forecast\n",
    "    if len(table.columns) >= 7: \n",
    "        if (table.columns[0] == \"修正日\") & (fc_mobile.shape[1] == 0): \n",
    "            fc_mobile = table.copy()\n",
    "    # 3ヶ月業績: quater\n",
    "    if len(table.columns) == 8: \n",
    "        if (table.columns[-3] == \"売上営業損益率\") & (qr_mobile.shape[1] == 0): \n",
    "            qr_mobile = table.copy()\n",
    "    # 財務: balance sheet\n",
    "    if len(table.columns) == 8: \n",
    "        if (table.columns[0] == \"１株純資産\") & (bs_mobile.shape[1] == 0): \n",
    "            bs_mobile = table.copy()\n",
    "            bs_mobile_idx = idx\n",
    "\n",
    "            \n",
    "# ---- pl_table 通期業績 ---- #\n",
    "\n",
    "\n",
    "# 全ての列項目がnullの行を除去\n",
    "pl_table = pl_table[~pl_table.isnull().all(axis=1)].reset_index(drop=True)\n",
    "\n",
    "# モバイル版の会計基準を結合、無い場合は空の列を作成\n",
    "if len(pl_mobile) > 0:\n",
    "    pl_table['会計基準'] = pl_mobile['会計基準']\n",
    "else:\n",
    "    pl_table['会計基準'] = \"\"\n",
    "\n",
    "# 後で四半期業績の決算期作成に使うので予想値行削除前に保持しておく\n",
    "pl_end = pl_table['決算期'][~pl_table['決算期'].str.contains('前期比')].apply(lambda x: x.split(' ')[-1])\n",
    "\n",
    "# 予想値と前期比の行を除去\n",
    "pl_table = pl_table[~((pl_table['決算期'].str.contains('予')) | (pl_table['決算期'].str.contains('前期比')))].reset_index(drop=True)\n",
    "\n",
    "# 決算期変更列を新規作成、決算期列から決算期と決算期変更を抽出、代入\n",
    "# 後で四半期業績の決算期作成に使うのでこのテーブルでは予想値行削除前に処理する\n",
    "pl_table['決算期'] = pl_table['決算期'].astype(str) # 決算期列が float 型になっている場合に備え str 型を明示\n",
    "pl_table['決算期変更'] = \"\"\n",
    "for idx, end in pl_table['決算期'].iteritems():\n",
    "    if '変' in end:\n",
    "        pl_table.loc[idx, '決算期変更'] = '変更'\n",
    "    pl_table.loc[idx, '決算期'] = end.split(' ')[-1]\n",
    "\n",
    "# 日付のパース、datetime.dateへの型変換、最終的に '－'  は NaT に置換される\n",
    "# pl_table['決算期'] = pl_table['決算期'].apply(lambda x: datetime.strptime(x, '%Y.%m').date()) # 日付ではないので文字列のままの方がいいかも？\n",
    "pl_table['発表日'] = pl_table.loc[pl_table['発表日'].str.match('\\d\\d/\\d\\d/\\d\\d'), '発表日'].apply(lambda x: parse(x, yearfirst=True).date())\n",
    "# pandasのTimestampへの型変換\n",
    "pl_table['発表日'] = pd.to_datetime(pl_table['発表日'], format='%Y-%m-%d')\n",
    "# pl_table['決算期'] = pd.to_datetime(pl_table['決算期'], format='%Y-%m-%d')\n",
    "\n",
    "# 数値の列の数値以外の文字列 ('－' 等) を NaN に置換\n",
    "num_col = ('売上高', '営業益', '経常益', '最終益', '１株益', '１株配')\n",
    "for key in num_col:\n",
    "    if pl_table[key].dtypes == object:\n",
    "        pl_table.loc[~pl_table[key].str.replace(r'\\.|\\-', \"\").str.isnumeric(), key] = np.nan # .str を2回も使わないといけないのはなんだか。。。\n",
    "        # pl_table.loc[pl_table[key].str.contains('－'), key] = np.nan # この書き方だと '－'  以外の文字列に対応できないので不安\n",
    "\n",
    "# 型変換\n",
    "# 辞書内包表記による一括変換\n",
    "pl_table = pl_table.astype({x: float for x in ('売上高', '営業益', '経常益', '最終益', '１株益', '１株配')})\n",
    "\n",
    "# 100万円単位換算\n",
    "million_col = ('売上高', '営業益', '経常益', '最終益')\n",
    "pl_table.loc[:, million_col] = pl_table.loc[:, million_col].apply(lambda x: x * 10 ** 6)\n",
    "\n",
    "# 列の並び替え\n",
    "pl_table = pl_table[['発表日', '決算期', '売上高', '営業益', '経常益', '最終益', '１株益', '１株配', '会計基準', '決算期変更']]\n",
    "\n",
    "\n",
    "# ---- fc_table 業績予想 ---- #\n",
    "\n",
    "\n",
    "# 業績予想データが無い場合、ダミーのデータフレームを作成\n",
    "if len(fc_table.columns) < 9:\n",
    "    fc_table = pd.DataFrame(index=[0], columns=range(14))\n",
    "\n",
    "# 列名の変更\n",
    "fc_table.columns = ['会計基準', '決算期', '発表日', \n",
    "                                   '結合修正方向', '売上高修正方向', '営業益修正方向', '経常益修正方向', '最終益修正方向', '修正配当修正方向', \n",
    "                                   '予想売上高', '予想営業益', '予想経常益', '予想最終益', '予想修正配当',]\n",
    "\n",
    "# 不要行、不要列の削除、並び替え\n",
    "fc_table = fc_table.ix[fc_table.index % 2 == 0, ['会計基準', '決算期', '予想売上高', '予想営業益', '予想経常益', '予想最終益', '予想修正配当', '発表日']].reset_index(drop=True)\n",
    "\n",
    "# 全ての列項目がnullの行を除去\n",
    "fc_table = fc_table[~fc_table.isnull().all(axis=1)].reset_index(drop=True)\n",
    "\n",
    "# モバイル版の会計基準を代入、無い場合は空値を代入\n",
    "if len(fc_mobile) > 0:\n",
    "    fc_table['会計基準'] = fc_mobile['会計基準']\n",
    "elif len(fc_table) > 0:\n",
    "    fc_table['会計基準'] = \"\"\n",
    "\n",
    "# 実績は不要?\n",
    "fc_table = fc_table.ix[fc_table['決算期'] != '実績'].reset_index(drop=True)\n",
    "\n",
    "# 決算期の NaN 埋め\n",
    "fc_table['決算期'] = fc_table['決算期'].fillna(method='ffill')\n",
    "\n",
    "# 決算期変更列を新規作成、決算期列から決算期と決算期変更を抽出、代入\n",
    "fc_table['決算期'] = fc_table['決算期'].astype(str) # 決算期列が float 型になっている場合に備え str 型を明示\n",
    "fc_table['決算期変更'] = \"\"\n",
    "for idx, end in fc_table['決算期'].iteritems():\n",
    "    if '変' in end:\n",
    "        fc_table.loc[idx, '決算期変更'] = '変更'\n",
    "    fc_table.loc[idx, '決算期'] = end.split(' ')[-1]\n",
    "\n",
    "# 日付のパース、datetime.dateへの型変換、最終的に '－'  は NaT に置換される\n",
    "# fc_table['決算期'] = fc_table['決算期'].apply(lambda x: datetime.strptime(x, '%Y.%m').date()) # 日付ではないので文字列のままの方がいいかも？\n",
    "fc_table['発表日'] = fc_table.loc[fc_table['発表日'].str.match('\\d\\d/\\d\\d/\\d\\d'), '発表日'].apply(lambda x: parse(x, yearfirst=True).date())\n",
    "# pandasのTimestampへの型変換\n",
    "fc_table['発表日'] = pd.to_datetime(fc_table['発表日'], format='%Y-%m-%d')\n",
    "# fc_table['決算期'] = pd.to_datetime(fc_table['決算期'], format='%Y-%m-%d')\n",
    "\n",
    "# 修正配当の列から分割併合記号を分離 (修正配当の予想値は入っていない銘柄もある)\n",
    "fc_table['分割併合'] = \"\"\n",
    "if fc_table['予想修正配当'].dtypes == object:\n",
    "    for idx, col in fc_table['予想修正配当'].iteritems():\n",
    "        splited = re.findall(r'[\\d.]+|\\D+', col)\n",
    "        if len(splited) > 1:\n",
    "            if splited[1] == '*':\n",
    "                splited[1] = '分割併合実施'\n",
    "            elif splited[1] == '#':\n",
    "                splited[1] = '当期実施予定'\n",
    "            fc_table.loc[idx, ['予想修正配当', '分割併合']] = splited\n",
    "\n",
    "# 数値の列の数値以外の文字列 ('－' 等) を NaN に置換\n",
    "num_col = ('予想売上高', '予想営業益', '予想経常益', '予想最終益', '予想修正配当')\n",
    "for key in num_col:\n",
    "    if fc_table[key].dtypes == object:\n",
    "        fc_table.loc[~fc_table[key].str.replace(r'\\.|\\-', \"\").str.isnumeric(), key] = np.nan # .str を2回も使わないといけないのはなんだか。。。\n",
    "        # fc_table.loc[fc_table[key].str.contains('－'), key] = np.nan # この書き方だと '－'  以外の文字列に対応できないので不安\n",
    "\n",
    "# 型変換\n",
    "# 辞書内包表記による一括変換\n",
    "fc_table = fc_table.astype({x: float for x in ('予想売上高', '予想営業益', '予想経常益', '予想最終益', '予想修正配当')})\n",
    "\n",
    "# 100万円単位換算\n",
    "million_col = ('予想売上高', '予想営業益', '予想経常益', '予想最終益')\n",
    "fc_table.loc[:, million_col] = fc_table.loc[:, million_col].apply(lambda x: x * 10 ** 6)\n",
    "\n",
    "# 列の並び替え\n",
    "fc_table = fc_table[['発表日', '決算期', '予想売上高', '予想営業益', '予想経常益', '予想最終益', '予想修正配当', '分割併合', '会計基準', '決算期変更']]\n",
    "\n",
    "\n",
    "# ---- qr_table 四半期業績 ---- #\n",
    "\n",
    "\n",
    "# 全ての列項目がnullの行を除去\n",
    "qr_table = qr_table[~qr_table.isnull().all(axis=1)].reset_index(drop=True)\n",
    "\n",
    "# モバイル版の会計基準を結合\n",
    "qr_table['会計基準'] = qr_mobile['会計基準']\n",
    "\n",
    "# 予想値と前年同期比の行を除去\n",
    "qr_table = qr_table[~((qr_table['決算期'].str.contains('予')) | (qr_table['決算期'].str.contains('前年同期比')))].reset_index(drop=True)\n",
    "\n",
    "# 決算期変更列を新規作成、決算期列から決算期と決算期変更を抽出、代入\n",
    "qr_table['決算期'] = qr_table['決算期'].astype(str) # 決算期列が float 型になっている場合に備え str 型を明示\n",
    "qr_table['決算期変更'] = \"\"\n",
    "for idx, end in qr_table['決算期'].iteritems():\n",
    "    if '変' in end:\n",
    "        qr_table.loc[idx, '決算期変更'] = '変更'\n",
    "    qr_table.loc[idx, '決算期'] = end.split(' ')[-1]\n",
    "\n",
    "# 列名の変更\n",
    "qr_table.columns = ['Q期首', 'Q売上高', 'Q営業益', 'Q経常益', 'Q最終益', 'Q１株益', 'Q売上営業損益率', '発表日', '会計基準', '決算期変更']\n",
    "\n",
    "# 日付のパース、datetime.dateへの型変換、最終的に '－'  は NaT に置換される\n",
    "qr_table['Q期首'] = qr_table.loc[qr_table['Q期首'].str.match('\\d\\d.\\d\\d-\\d\\d'), 'Q期首'].apply(lambda x: \n",
    "                                                                                               parse(x.replace('-', '.'), yearfirst=True).date())\n",
    "qr_table['発表日'] = qr_table.loc[qr_table['発表日'].str.match('\\d\\d/\\d\\d/\\d\\d'), '発表日'].apply(lambda x: parse(x, yearfirst=True).date())\n",
    "# pandasのTimestampへの型変換\n",
    "qr_table['Q期首'] = pd.to_datetime(qr_table['Q期首'], format='%Y-%m-%d')\n",
    "qr_table['発表日'] = pd.to_datetime(qr_table['発表日'], format='%Y-%m-%d')\n",
    "\n",
    "# 通期業績の決算期を参照して決算期列を追加\n",
    "# 通期業績の予想値削除前に別名でキープした決算期シリーズを利用\n",
    "for start_idx, start in qr_table['Q期首'].iteritems():\n",
    "    for end in pl_end:\n",
    "        if start < pd.to_datetime(end, format='%Y.%m') + offsets.MonthEnd():\n",
    "            qr_table.loc[start_idx, '決算期'] = end\n",
    "            break\n",
    "\n",
    "# 数値の列の数値以外の文字列 ('－' 等) を NaN に置換\n",
    "num_col = ('Q売上高', 'Q営業益', 'Q経常益', 'Q最終益', 'Q１株益', 'Q売上営業損益率')\n",
    "for key in num_col:\n",
    "    if qr_table[key].dtypes == object:\n",
    "        qr_table.loc[~qr_table[key].str.replace(r'\\.|\\-', \"\").str.isnumeric(), key] = np.nan # .str を2回も使わないといけないのはなんだか。。。\n",
    "        # qr_table.loc[qr_table[key].str.contains('－'), key] = np.nan # この書き方だと '－'  以外の文字列に対応できないので不安\n",
    "\n",
    "# 型変換\n",
    "# 辞書内包表記による一括変換\n",
    "qr_table = qr_table.astype({x: float for x in ('Q売上高', 'Q営業益', 'Q経常益', 'Q最終益', 'Q１株益', 'Q売上営業損益率')})\n",
    "\n",
    "# 100万円単位換算\n",
    "million_col = ('Q売上高', 'Q営業益', 'Q経常益', 'Q最終益')\n",
    "qr_table.loc[:, million_col] = qr_table.loc[:, million_col].apply(lambda x: x * 10 ** 6)\n",
    "\n",
    "# 列の並び替え\n",
    "qr_table = qr_table[['発表日', '決算期', 'Q期首', 'Q売上高', 'Q営業益', 'Q経常益', 'Q最終益', 'Q１株益', 'Q売上営業損益率', '会計基準', '決算期変更']]\n",
    "\n",
    "# モバイル版のみ業績予想テーブルがない場合があるので、四半期業績の整形処理後に決算期が同期の四半期業績から会計基準を取得\n",
    "# 3975で確認\n",
    "if (len(fc_table) > 0) & (len(qr_table) > 0):\n",
    "    if  fc_table.loc[0, '会計基準'] == \"\":\n",
    "        for idx, end in fc_table['決算期'].iteritems():\n",
    "            fc_table.loc[idx, '会計基準'] = qr_table.loc[qr_table['決算期'].apply(lambda x: x[:4]) == fc_table.loc[idx, '決算期'][:4], '会計基準'].values[0]\n",
    "\n",
    "\n",
    "# ---- bs_table 財務 ---- #\n",
    "\n",
    "\n",
    "# 財務実績データが無い場合、ダミーのデータフレームを作成\n",
    "if len(bs_table) == 0:\n",
    "    bs_table = pd.DataFrame(index=[0], columns=range(9))\n",
    "    # 列名の変更\n",
    "    bs_table.columns = ['発表日', '決算期', '１株純資産', '自己資本比率', '総資産', '自己資本', '剰余金', '有利子負債倍率', '会計基準']\n",
    "\n",
    "# 全ての列項目がnullの行を除去\n",
    "bs_table = bs_table[~bs_table.isnull().all(axis=1)].reset_index(drop=True)\n",
    "\n",
    "# モバイル版のデータを結合、無い場合はスキップ\n",
    "if (len(bs_table) == 0) & (len(bs_mobile) > 0):\n",
    "    bs_table = pd.merge(bs_table, bs_mobile, how='outer')\n",
    "    bs_table['決算期'] = mobile[bs_mobile_idx - 1]['決算期']\n",
    "elif len(bs_mobile) > 0:\n",
    "    bs_table['会計基準'] = bs_mobile['会計基準']\n",
    "\n",
    "# 予想値と前期比の行を除去\n",
    "bs_table['決算期'] = bs_table['決算期'].astype(str) # 決算期列が float 型になっている場合に備え str 型を明示\n",
    "bs_table = bs_table[~((bs_table['決算期'].str.contains('予')) | (bs_table['決算期'].str.contains('前期比')))].reset_index(drop=True)\n",
    "\n",
    "# 決算期変更列を新規作成、決算期列から決算期と決算期変更を抽出、代入\n",
    "bs_table['決算期'] = bs_table['決算期'].astype(str) # 決算期列が float 型になっている場合に備え str 型を明示\n",
    "bs_table['決算期変更'] = \"\"\n",
    "for idx, end in bs_table['決算期'].iteritems():\n",
    "    if '変' in end:\n",
    "        bs_table.loc[idx, '決算期変更'] = '変更'\n",
    "    bs_table.loc[idx, '決算期'] = end.split(' ')[-1]\n",
    "\n",
    "# 決算期が 'yyyy.mm' 表記ではない行は確定決算前と思われるので削除\n",
    "bs_table = bs_table[bs_table['決算期'].str.contains('\\d\\d\\d\\d.\\d\\d')].reset_index(drop=True)\n",
    "\n",
    "# 決算期が 1998.mm のデータは他のテーブルには無く、発表日も不自然なので行ごと削除\n",
    "# bs_table = bs_table[~bs_table['決算期'].str.contains('1998.\\d\\d')].reset_index(drop=True)\n",
    "\n",
    "# 通期業績には無い期間の行を削除\n",
    "if len(pl_table) > 0:\n",
    "    for idx, end in bs_table['決算期'].iteritems():\n",
    "        if not end in pl_table['決算期'].values:\n",
    "            bs_table = bs_table.drop(idx)\n",
    "\n",
    "# 日付のパース、datetime.dateへの型変換、最終的に '－'  は NaT に置換される\n",
    "# bs_table['決算期'] = bs_table['決算期'].apply(lambda x: datetime.strptime(x, '%Y.%m').date()) # 日付ではないので文字列のままの方がいいかも？\n",
    "try:\n",
    "    bs_table['発表日'] = pd.to_datetime(bs_table['発表日'], format='%Y-%m-%d')\n",
    "except:\n",
    "    bs_table['発表日'] = bs_table.loc[bs_table['発表日'].str.match('\\d\\d/\\d\\d/\\d\\d'), '発表日'].apply(lambda x: parse(x, yearfirst=True).date())\n",
    "# pandasのTimestampへの型変換\n",
    "bs_table['発表日'] = pd.to_datetime(bs_table['発表日'], format='%Y-%m-%d')\n",
    "# bs_table['決算期'] = pd.to_datetime(bs_table['決算期'], format='%Y-%m-%d')\n",
    "\n",
    "# 決算期の同じ年の月が通期業績と異なる場合があるので、通期業績の決算期に置換\n",
    "# 決算期の変更があり、なおかつ決算期に「変」記載のない銘柄で確認 (1909)\n",
    "if len(pl_table) > 0:\n",
    "    for idx, end in bs_table['決算期'].iteritems():\n",
    "        bs_table.loc[idx, '決算期'] = pl_table.loc[pl_table['決算期'].apply(lambda x: x[:4]) == bs_table.loc[idx, '決算期'][:4], '決算期'].values[0]\n",
    "\n",
    "# 発表日の欠損値および異常値を通期業績の発表日に置換\n",
    "if len(pl_table) > 0:\n",
    "    for idx, date in bs_table['発表日'].iteritems():\n",
    "        if (date != date) or (date <= pd.to_datetime('2001-01-01')):\n",
    "            bs_table.loc[idx, '発表日'] = pl_table.loc[pl_table['決算期'] == bs_table.loc[idx, '決算期'], '発表日'].values[0]\n",
    "\n",
    "# 決算期変更の欠損値を通期業績の値に置換\n",
    "if len(pl_table) > 0:\n",
    "    for idx, change in bs_table['決算期変更'].iteritems():\n",
    "        if change == \"\":\n",
    "            bs_table.loc[idx, '決算期変更'] = pl_table.loc[pl_table['決算期'] == bs_table.loc[idx, '決算期'], '決算期変更'].values[0]\n",
    "\n",
    "# 数値の列の数値以外の文字列 ('－' 等) を NaN に置換\n",
    "num_col = ('１株純資産', '自己資本比率', '総資産', '自己資本', '剰余金', '有利子負債倍率')\n",
    "for key in num_col:\n",
    "    if bs_table[key].dtypes == object:\n",
    "        bs_table.loc[~bs_table[key].str.replace(r'\\.|\\-', \"\").str.isnumeric(), key] = np.nan # .str を2回も使わないといけないのはなんだか。。。\n",
    "        # bs_table.loc[bs_table[key].str.contains('－'), key] = np.nan # この書き方だと '－'  以外の文字列に対応できないので不安\n",
    "\n",
    "# 型変換\n",
    "# 辞書内包表記による一括変換\n",
    "bs_table = bs_table.astype({x: float for x in ('１株純資産', '自己資本比率', '総資産', '自己資本', '剰余金', '有利子負債倍率')})\n",
    "\n",
    "# 100万円単位換算\n",
    "million_col = ('総資産', '自己資本', '剰余金')\n",
    "bs_table.loc[:, million_col] = bs_table.loc[:, million_col].apply(lambda x: x * 10 ** 6)\n",
    "\n",
    "# 列の並び替え\n",
    "bs_table = bs_table[['発表日', '決算期', '１株純資産', '自己資本比率', '総資産', '自己資本', '剰余金', '有利子負債倍率', '会計基準', '決算期変更']]"
   ]
  },
  {
   "cell_type": "code",
   "execution_count": null,
   "metadata": {
    "ExecuteTime": {
     "end_time": "2017-12-22T07:30:06.786638Z",
     "start_time": "2017-12-22T07:30:06.730221Z"
    }
   },
   "outputs": [],
   "source": [
    "display(pl_table)\n",
    "display(bs_table)\n",
    "display(fc_table)\n",
    "display(qr_table)\n",
    "# display(bs_table)"
   ]
  },
  {
   "cell_type": "markdown",
   "metadata": {},
   "source": [
    "# 保存した html ファイルからテーブル属性のみ読み込み、整形"
   ]
  },
  {
   "cell_type": "markdown",
   "metadata": {
    "heading_collapsed": true
   },
   "source": [
    "## 読み込み、作業用テーブルの作成"
   ]
  },
  {
   "cell_type": "code",
   "execution_count": null,
   "metadata": {
    "ExecuteTime": {
     "end_time": "2017-12-22T04:51:00.567914Z",
     "start_time": "2017-12-22T04:51:00.565122Z"
    },
    "collapsed": true,
    "hidden": true
   },
   "outputs": [],
   "source": [
    "code = 9262 #7810 # 7196 # 3995 # 3975 # 3863 # 3480 # 1418 # 1408 # 1376 # 7203 # 1909"
   ]
  },
  {
   "cell_type": "code",
   "execution_count": null,
   "metadata": {
    "ExecuteTime": {
     "end_time": "2017-12-22T04:51:01.927790Z",
     "start_time": "2017-12-22T04:51:01.705793Z"
    },
    "hidden": true
   },
   "outputs": [],
   "source": [
    "# 保存した html からテーブル属性を読み込み\n",
    "tables = pd.read_html('/Users/Really/Stockyard/_kabutan_html/kabutan_{0}.html'.format(code), header=0)\n",
    "\n",
    "# 列数が 5 以下のテーブルを削除\n",
    "tables = list(filter(lambda x: len(x.columns) > 5, tables))"
   ]
  },
  {
   "cell_type": "code",
   "execution_count": null,
   "metadata": {
    "ExecuteTime": {
     "end_time": "2017-12-03T21:59:10.312340Z",
     "start_time": "2017-12-03T21:59:10.307764Z"
    },
    "hidden": true
   },
   "outputs": [],
   "source": [
    "len(tables)"
   ]
  },
  {
   "cell_type": "code",
   "execution_count": null,
   "metadata": {
    "ExecuteTime": {
     "end_time": "2017-12-22T04:51:05.855498Z",
     "start_time": "2017-12-22T04:51:05.819107Z"
    },
    "collapsed": true,
    "hidden": true
   },
   "outputs": [],
   "source": [
    "# 抽出用テーブルの作成\n",
    "pl_table = pd.DataFrame()\n",
    "fc_table = pd.DataFrame()\n",
    "qr_table = pd.DataFrame()\n",
    "bs_table = pd.DataFrame()\n",
    "\n",
    "# 必要なテーブルの抽出\n",
    "# リストを要素ごとに for で回す書き方\n",
    "for table in tables:\n",
    "    # 通期業績: profit and loss statement\n",
    "    if len(table.columns) == 8: \n",
    "        if (table.columns[-2] == \"１株配\") & (pl_table.shape[1] == 0): \n",
    "            pl_table = table.copy()\n",
    "    # 業績予想: forecast\n",
    "    if len(table.columns) >= 8: \n",
    "        if (table.columns[1] == \"修正日\") & (fc_table.shape[1] == 0): \n",
    "            fc_table = table.copy()\n",
    "    # 3ヶ月業績: quater\n",
    "    if len(table.columns) == 8: \n",
    "        if (table.columns[-2] == \"売上営業損益率\") & (qr_table.shape[1] == 0): \n",
    "            qr_table = table.copy()\n",
    "    # 財務: balance sheet\n",
    "    if len(table.columns) == 8: \n",
    "        if (table.columns[1] == \"１株純資産\") & (bs_table.shape[1] == 0): \n",
    "            bs_table = table.copy()"
   ]
  },
  {
   "cell_type": "code",
   "execution_count": null,
   "metadata": {
    "ExecuteTime": {
     "end_time": "2017-12-22T04:51:07.820935Z",
     "start_time": "2017-12-22T04:51:07.338513Z"
    },
    "hidden": true
   },
   "outputs": [],
   "source": [
    "# 保存した モバイル用 html からテーブル属性を読み込み\n",
    "mobile = pd.read_html('/Users/Really/Stockyard/_kabutan_mobile_html/kabutan_{0}.html'.format(code), header=0)"
   ]
  },
  {
   "cell_type": "code",
   "execution_count": null,
   "metadata": {
    "ExecuteTime": {
     "end_time": "2017-12-22T04:51:09.955252Z",
     "start_time": "2017-12-22T04:51:09.914960Z"
    },
    "collapsed": true,
    "hidden": true
   },
   "outputs": [],
   "source": [
    "# 抽出用テーブルの作成\n",
    "pl_mobile = pd.DataFrame()\n",
    "fc_mobile = pd.DataFrame()\n",
    "qr_mobile = pd.DataFrame()\n",
    "bs_mobile = pd.DataFrame()\n",
    "\n",
    "# 必要なテーブルの抽出\n",
    "# リストを要素ごとに for で回す書き方\n",
    "for idx, table in enumerate(mobile):\n",
    "    # 通期業績: profit and loss statement\n",
    "    if len(table.columns) == 8: \n",
    "        if (table.columns[-3] == \"１株配\") & (pl_mobile.shape[1] == 0): \n",
    "            pl_mobile = table.copy()\n",
    "    # 業績予想: forecast\n",
    "    if len(table.columns) >= 7: \n",
    "        if (table.columns[0] == \"修正日\") & (fc_mobile.shape[1] == 0): \n",
    "            fc_mobile = table.copy()\n",
    "    # 3ヶ月業績: quater\n",
    "    if len(table.columns) == 8: \n",
    "        if (table.columns[-3] == \"売上営業損益率\") & (qr_mobile.shape[1] == 0): \n",
    "            qr_mobile = table.copy()\n",
    "    # 財務: balance sheet\n",
    "    if len(table.columns) == 8: \n",
    "        if (table.columns[0] == \"１株純資産\") & (bs_mobile.shape[1] == 0): \n",
    "            bs_mobile = table.copy()\n",
    "            bs_mobile_idx = idx"
   ]
  },
  {
   "cell_type": "code",
   "execution_count": null,
   "metadata": {
    "ExecuteTime": {
     "end_time": "2017-12-21T06:18:07.474292Z",
     "start_time": "2017-12-21T06:18:07.342410Z"
    },
    "collapsed": true,
    "hidden": true
   },
   "outputs": [],
   "source": [
    "display(pl_table)\n",
    "display(bs_table)\n",
    "display(fc_table)\n",
    "display(qr_table)\n",
    "# display(bs_table)"
   ]
  },
  {
   "cell_type": "markdown",
   "metadata": {
    "heading_collapsed": true
   },
   "source": [
    "## pl_table (tables[3]) 通期業績"
   ]
  },
  {
   "cell_type": "raw",
   "metadata": {
    "hidden": true
   },
   "source": [
    "# 株プロに無い項目: １株配"
   ]
  },
  {
   "cell_type": "code",
   "execution_count": null,
   "metadata": {
    "ExecuteTime": {
     "end_time": "2017-12-21T04:46:19.305582Z",
     "start_time": "2017-12-21T04:46:19.281573Z"
    },
    "hidden": true
   },
   "outputs": [],
   "source": [
    "tables[3]"
   ]
  },
  {
   "cell_type": "code",
   "execution_count": null,
   "metadata": {
    "ExecuteTime": {
     "end_time": "2017-12-22T07:27:04.239280Z",
     "start_time": "2017-12-22T07:27:04.229559Z"
    },
    "hidden": true
   },
   "outputs": [],
   "source": [
    "# 通期業績テーブルの抽出 (上書き)\n",
    "pl_table = pd.DataFrame()\n",
    "# リストを要素ごとに for で回す書き方\n",
    "for idx, table in enumerate(tables):\n",
    "    # 通期業績: profit and loss statement\n",
    "    if len(table.columns) == 8: \n",
    "        if (table.columns[-2] == \"１株配\") & (pl_table.shape[1] == 0): \n",
    "            pl_table = table.copy()\n",
    "            print('tables[{0}]'.format(idx))"
   ]
  },
  {
   "cell_type": "code",
   "execution_count": null,
   "metadata": {
    "ExecuteTime": {
     "end_time": "2017-12-22T07:27:05.753331Z",
     "start_time": "2017-12-22T07:27:05.738257Z"
    },
    "hidden": true
   },
   "outputs": [],
   "source": [
    "pl_table"
   ]
  },
  {
   "cell_type": "code",
   "execution_count": null,
   "metadata": {
    "ExecuteTime": {
     "end_time": "2017-12-21T04:46:43.840940Z",
     "start_time": "2017-12-21T04:46:43.835739Z"
    },
    "hidden": true
   },
   "outputs": [],
   "source": [
    "pl_mobile"
   ]
  },
  {
   "cell_type": "code",
   "execution_count": null,
   "metadata": {
    "ExecuteTime": {
     "end_time": "2017-12-22T07:27:13.544875Z",
     "start_time": "2017-12-22T07:27:13.539479Z"
    },
    "collapsed": true,
    "hidden": true
   },
   "outputs": [],
   "source": [
    "# 全ての列項目がnullの行を除去\n",
    "pl_table = pl_table[~pl_table.isnull().all(axis=1)].reset_index(drop=True)"
   ]
  },
  {
   "cell_type": "code",
   "execution_count": null,
   "metadata": {
    "ExecuteTime": {
     "end_time": "2017-12-22T07:27:14.791193Z",
     "start_time": "2017-12-22T07:27:14.785816Z"
    },
    "hidden": true
   },
   "outputs": [],
   "source": [
    "# モバイル版の会計基準を結合、無い場合は空の列を作成\n",
    "if len(pl_mobile) > 0:\n",
    "    pl_table['会計基準'] = pl_mobile['会計基準']\n",
    "else:\n",
    "    pl_table['会計基準'] = \"\""
   ]
  },
  {
   "cell_type": "code",
   "execution_count": null,
   "metadata": {
    "ExecuteTime": {
     "end_time": "2017-12-22T07:27:15.542762Z",
     "start_time": "2017-12-22T07:27:15.537049Z"
    },
    "hidden": true
   },
   "outputs": [],
   "source": [
    "# 後で四半期業績の決算期作成に使うので予想値行削除前に保持しておく\n",
    "pl_end = pl_table['決算期'][~pl_table['決算期'].str.contains('前期比')].apply(lambda x: x.split(' ')[-1])"
   ]
  },
  {
   "cell_type": "code",
   "execution_count": null,
   "metadata": {
    "ExecuteTime": {
     "end_time": "2017-12-22T07:27:16.367892Z",
     "start_time": "2017-12-22T07:27:16.361915Z"
    },
    "hidden": true
   },
   "outputs": [],
   "source": [
    "# 予想値と前期比の行を除去\n",
    "pl_table = pl_table[~((pl_table['決算期'].str.contains('予')) | (pl_table['決算期'].str.contains('前期比')))].reset_index(drop=True)"
   ]
  },
  {
   "cell_type": "code",
   "execution_count": null,
   "metadata": {
    "ExecuteTime": {
     "end_time": "2017-12-22T07:27:18.418191Z",
     "start_time": "2017-12-22T07:27:18.409205Z"
    },
    "hidden": true
   },
   "outputs": [],
   "source": [
    "# 決算期変更列を新規作成、決算期列から決算期と決算期変更を抽出、代入\n",
    "# 後で四半期業績の決算期作成に使うのでこのテーブルでは予想値行削除前に処理する\n",
    "pl_table['決算期'] = pl_table['決算期'].astype(str) # 決算期列が float 型になっている場合に備え str 型を明示\n",
    "pl_table['決算期変更'] = \"\"\n",
    "for idx, end in pl_table['決算期'].iteritems():\n",
    "    if '変' in end:\n",
    "        pl_table.loc[idx, '決算期変更'] = '変更'\n",
    "    pl_table.loc[idx, '決算期'] = end.split(' ')[-1]"
   ]
  },
  {
   "cell_type": "code",
   "execution_count": null,
   "metadata": {
    "ExecuteTime": {
     "end_time": "2017-12-22T07:27:19.152236Z",
     "start_time": "2017-12-22T07:27:19.142111Z"
    },
    "collapsed": true,
    "hidden": true
   },
   "outputs": [],
   "source": [
    "# 日付のパース、datetime.dateへの型変換、最終的に '－'  は NaT に置換される\n",
    "# pl_table['決算期'] = pl_table['決算期'].apply(lambda x: datetime.strptime(x, '%Y.%m').date()) # 日付ではないので文字列のままの方がいいかも？\n",
    "pl_table['発表日'] = pl_table.loc[pl_table['発表日'].str.match('\\d\\d/\\d\\d/\\d\\d'), '発表日'].apply(lambda x: parse(x, yearfirst=True).date())\n",
    "# pandasのTimestampへの型変換\n",
    "pl_table['発表日'] = pd.to_datetime(pl_table['発表日'], format='%Y-%m-%d')\n",
    "# pl_table['決算期'] = pd.to_datetime(pl_table['決算期'], format='%Y-%m-%d')"
   ]
  },
  {
   "cell_type": "code",
   "execution_count": null,
   "metadata": {
    "ExecuteTime": {
     "end_time": "2017-12-22T07:27:26.614461Z",
     "start_time": "2017-12-22T07:27:26.595043Z"
    },
    "hidden": true
   },
   "outputs": [],
   "source": [
    "# 数値の列の数値以外の文字列 ('－' 等) を NaN に置換\n",
    "num_col = ('売上高', '営業益', '経常益', '最終益', '１株益', '１株配')\n",
    "for key in num_col:\n",
    "    if pl_table[key].dtypes == object:\n",
    "        pl_table.loc[~pl_table[key].str.replace(r'\\.|\\-', \"\").str.isnumeric(), key] = np.nan # .str を2回も使わないといけないのはなんだか。。。\n",
    "        # pl_table.loc[pl_table[key].str.contains('－'), key] = np.nan # この書き方だと '－'  以外の文字列に対応できないので不安"
   ]
  },
  {
   "cell_type": "code",
   "execution_count": null,
   "metadata": {
    "ExecuteTime": {
     "end_time": "2017-12-22T07:27:27.279831Z",
     "start_time": "2017-12-22T07:27:27.272888Z"
    },
    "hidden": true
   },
   "outputs": [],
   "source": [
    "# 型変換\n",
    "# 辞書内包表記による一括変換\n",
    "pl_table = pl_table.astype({x: float for x in ('売上高', '営業益', '経常益', '最終益', '１株益', '１株配')})"
   ]
  },
  {
   "cell_type": "code",
   "execution_count": null,
   "metadata": {
    "ExecuteTime": {
     "end_time": "2017-12-22T07:27:27.899280Z",
     "start_time": "2017-12-22T07:27:27.889669Z"
    },
    "hidden": true
   },
   "outputs": [],
   "source": [
    "# 100万円単位換算\n",
    "million_col = ('売上高', '営業益', '経常益', '最終益')\n",
    "pl_table.loc[:, million_col] = pl_table.loc[:, million_col].apply(lambda x: x * 10 ** 6)"
   ]
  },
  {
   "cell_type": "code",
   "execution_count": null,
   "metadata": {
    "ExecuteTime": {
     "end_time": "2017-12-22T07:27:28.530865Z",
     "start_time": "2017-12-22T07:27:28.526312Z"
    },
    "hidden": true
   },
   "outputs": [],
   "source": [
    "# 列の並び替え\n",
    "pl_table = pl_table[['発表日', '決算期', '売上高', '営業益', '経常益', '最終益', '１株益', '１株配', '会計基準', '決算期変更']]"
   ]
  },
  {
   "cell_type": "code",
   "execution_count": null,
   "metadata": {
    "ExecuteTime": {
     "end_time": "2017-12-22T07:27:30.510860Z",
     "start_time": "2017-12-22T07:27:30.505058Z"
    },
    "hidden": true
   },
   "outputs": [],
   "source": [
    "pl_table.dtypes"
   ]
  },
  {
   "cell_type": "code",
   "execution_count": null,
   "metadata": {
    "ExecuteTime": {
     "end_time": "2017-12-22T07:27:31.452978Z",
     "start_time": "2017-12-22T07:27:31.444212Z"
    },
    "hidden": true
   },
   "outputs": [],
   "source": [
    "pl_table"
   ]
  },
  {
   "cell_type": "code",
   "execution_count": null,
   "metadata": {
    "ExecuteTime": {
     "end_time": "2017-11-29T17:43:29.424468Z",
     "start_time": "2017-11-29T17:43:29.367999Z"
    },
    "hidden": true
   },
   "outputs": [],
   "source": [
    "kabupro.ix[(kabupro['証券コード'] == code) & (kabupro['会計基準'] == '米国基準') & (kabupro['決算期間'] == '通期'), \n",
    "           ['連結個別', '決算期', '期首', '売上高', '営業利益', '経常利益', '純利益', '一株当り純利益', '情報公開日 (更新日)']]"
   ]
  },
  {
   "cell_type": "code",
   "execution_count": null,
   "metadata": {
    "ExecuteTime": {
     "end_time": "2017-11-28T20:02:06.222463Z",
     "start_time": "2017-11-28T20:02:06.217308Z"
    },
    "hidden": true
   },
   "outputs": [],
   "source": [
    "kabupro.columns"
   ]
  },
  {
   "cell_type": "markdown",
   "metadata": {},
   "source": [
    "## fc_table (tables[4]) 業績予想"
   ]
  },
  {
   "cell_type": "code",
   "execution_count": null,
   "metadata": {
    "ExecuteTime": {
     "end_time": "2017-12-03T22:21:17.358100Z",
     "start_time": "2017-12-03T22:21:17.297918Z"
    },
    "collapsed": true
   },
   "outputs": [],
   "source": [
    "tables[4]"
   ]
  },
  {
   "cell_type": "code",
   "execution_count": null,
   "metadata": {
    "ExecuteTime": {
     "end_time": "2017-12-22T04:48:30.846903Z",
     "start_time": "2017-12-22T04:48:30.815656Z"
    },
    "collapsed": true
   },
   "outputs": [],
   "source": [
    "# 実体行\n",
    "tables[4][tables[4].index % 2 == 0].reset_index(drop=True)"
   ]
  },
  {
   "cell_type": "code",
   "execution_count": null,
   "metadata": {
    "ExecuteTime": {
     "end_time": "2017-11-28T19:44:58.625013Z",
     "start_time": "2017-11-28T19:44:58.588546Z"
    },
    "collapsed": true
   },
   "outputs": [],
   "source": [
    "# 不要行\n",
    "tables[4][tables[4].index % 2 != 0]"
   ]
  },
  {
   "cell_type": "code",
   "execution_count": null,
   "metadata": {
    "ExecuteTime": {
     "end_time": "2017-12-22T07:28:05.682587Z",
     "start_time": "2017-12-22T07:28:05.671118Z"
    }
   },
   "outputs": [],
   "source": [
    "# 業績予想テーブルの抽出 (上書き)\n",
    "fc_table = pd.DataFrame()\n",
    "# リストを要素ごとに for で回す書き方\n",
    "for idx, table in enumerate(tables):\n",
    "    # 業績予想: forecast\n",
    "    if len(table.columns) >= 8: \n",
    "        if (table.columns[1] == \"修正日\") & (fc_table.shape[1] == 0): \n",
    "            fc_table = table.copy()\n",
    "            print(idx)"
   ]
  },
  {
   "cell_type": "code",
   "execution_count": null,
   "metadata": {
    "ExecuteTime": {
     "end_time": "2017-12-22T07:28:06.017512Z",
     "start_time": "2017-12-22T07:28:05.992732Z"
    }
   },
   "outputs": [],
   "source": [
    "fc_table"
   ]
  },
  {
   "cell_type": "code",
   "execution_count": null,
   "metadata": {
    "ExecuteTime": {
     "end_time": "2017-12-21T04:51:56.347970Z",
     "start_time": "2017-12-21T04:51:56.342501Z"
    }
   },
   "outputs": [],
   "source": [
    "fc_mobile"
   ]
  },
  {
   "cell_type": "code",
   "execution_count": null,
   "metadata": {
    "ExecuteTime": {
     "end_time": "2017-12-15T14:08:58.106830Z",
     "start_time": "2017-12-15T14:08:58.102248Z"
    }
   },
   "outputs": [],
   "source": [
    "fc_table.columns"
   ]
  },
  {
   "cell_type": "code",
   "execution_count": null,
   "metadata": {
    "ExecuteTime": {
     "end_time": "2017-12-22T07:28:14.894975Z",
     "start_time": "2017-12-22T07:28:14.891074Z"
    },
    "collapsed": true
   },
   "outputs": [],
   "source": [
    "# 業績予想データが無い場合、ダミーのデータフレームを作成\n",
    "if len(fc_table.columns) < 9:\n",
    "    fc_table = pd.DataFrame(index=[0], columns=range(14))"
   ]
  },
  {
   "cell_type": "code",
   "execution_count": null,
   "metadata": {
    "ExecuteTime": {
     "end_time": "2017-12-22T07:28:17.453530Z",
     "start_time": "2017-12-22T07:28:17.449172Z"
    }
   },
   "outputs": [],
   "source": [
    "# 列名の変更\n",
    "fc_table.columns = ['会計基準', '決算期', '発表日', \n",
    "                                   '結合修正方向', '売上高修正方向', '営業益修正方向', '経常益修正方向', '最終益修正方向', '修正配当修正方向', \n",
    "                                   '予想売上高', '予想営業益', '予想経常益', '予想最終益', '予想修正配当',]"
   ]
  },
  {
   "cell_type": "code",
   "execution_count": null,
   "metadata": {
    "ExecuteTime": {
     "end_time": "2017-12-22T07:29:03.456740Z",
     "start_time": "2017-12-22T07:29:03.450396Z"
    }
   },
   "outputs": [],
   "source": [
    "# 不要行、不要列の削除、並び替え\n",
    "fc_table = fc_table.ix[fc_table.index % 2 == 0, ['会計基準', '決算期', '予想売上高', '予想営業益', '予想経常益', '予想最終益', '予想修正配当', '発表日']].reset_index(drop=True)"
   ]
  },
  {
   "cell_type": "code",
   "execution_count": null,
   "metadata": {
    "ExecuteTime": {
     "end_time": "2017-12-22T07:29:04.118797Z",
     "start_time": "2017-12-22T07:29:04.113404Z"
    },
    "collapsed": true
   },
   "outputs": [],
   "source": [
    "# 全ての列項目がnullの行を除去\n",
    "fc_table = fc_table[~fc_table.isnull().all(axis=1)].reset_index(drop=True)"
   ]
  },
  {
   "cell_type": "code",
   "execution_count": null,
   "metadata": {
    "ExecuteTime": {
     "end_time": "2017-12-22T07:29:04.718014Z",
     "start_time": "2017-12-22T07:29:04.712691Z"
    }
   },
   "outputs": [],
   "source": [
    "# モバイル版の会計基準を代入、無い場合は空値を代入\n",
    "if len(fc_mobile) > 0:\n",
    "    fc_table['会計基準'] = fc_mobile['会計基準']\n",
    "elif len(fc_table) > 0:\n",
    "    fc_table['会計基準'] = \"\""
   ]
  },
  {
   "cell_type": "code",
   "execution_count": null,
   "metadata": {
    "ExecuteTime": {
     "end_time": "2017-12-22T07:29:05.294893Z",
     "start_time": "2017-12-22T07:29:05.290195Z"
    },
    "collapsed": true
   },
   "outputs": [],
   "source": [
    "# 実績は不要?\n",
    "fc_table = fc_table.ix[fc_table['決算期'] != '実績'].reset_index(drop=True)"
   ]
  },
  {
   "cell_type": "code",
   "execution_count": null,
   "metadata": {
    "ExecuteTime": {
     "end_time": "2017-12-22T07:29:05.852896Z",
     "start_time": "2017-12-22T07:29:05.848363Z"
    }
   },
   "outputs": [],
   "source": [
    "# 決算期の NaN 埋め\n",
    "fc_table['決算期'] = fc_table['決算期'].fillna(method='ffill')"
   ]
  },
  {
   "cell_type": "code",
   "execution_count": null,
   "metadata": {
    "ExecuteTime": {
     "end_time": "2017-12-22T07:29:06.434800Z",
     "start_time": "2017-12-22T07:29:06.424679Z"
    }
   },
   "outputs": [],
   "source": [
    "# 決算期変更列を新規作成、決算期列から決算期と決算期変更を抽出、代入\n",
    "fc_table['決算期'] = fc_table['決算期'].astype(str) # 決算期列が float 型になっている場合に備え str 型を明示\n",
    "fc_table['決算期変更'] = \"\"\n",
    "for idx, end in fc_table['決算期'].iteritems():\n",
    "    if '変' in end:\n",
    "        fc_table.loc[idx, '決算期変更'] = '変更'\n",
    "    fc_table.loc[idx, '決算期'] = end.split(' ')[-1]"
   ]
  },
  {
   "cell_type": "code",
   "execution_count": null,
   "metadata": {
    "ExecuteTime": {
     "end_time": "2017-12-22T07:29:07.001856Z",
     "start_time": "2017-12-22T07:29:06.992672Z"
    }
   },
   "outputs": [],
   "source": [
    "# 日付のパース、datetime.dateへの型変換、最終的に '－'  は NaT に置換される\n",
    "# fc_table['決算期'] = fc_table['決算期'].apply(lambda x: datetime.strptime(x, '%Y.%m').date()) # 日付ではないので文字列のままの方がいいかも？\n",
    "fc_table['発表日'] = fc_table.loc[fc_table['発表日'].str.match('\\d\\d/\\d\\d/\\d\\d'), '発表日'].apply(lambda x: parse(x, yearfirst=True).date())\n",
    "# pandasのTimestampへの型変換\n",
    "fc_table['発表日'] = pd.to_datetime(fc_table['発表日'], format='%Y-%m-%d')\n",
    "# fc_table['決算期'] = pd.to_datetime(fc_table['決算期'], format='%Y-%m-%d')"
   ]
  },
  {
   "cell_type": "code",
   "execution_count": null,
   "metadata": {
    "ExecuteTime": {
     "end_time": "2017-12-22T07:29:08.694612Z",
     "start_time": "2017-12-22T07:29:08.681579Z"
    }
   },
   "outputs": [],
   "source": [
    "# 修正配当の列から分割併合記号を分離 (修正配当の予想値は入っていない銘柄もある)\n",
    "fc_table['分割併合'] = \"\"\n",
    "if fc_table['予想修正配当'].dtypes == object:\n",
    "    for idx, col in fc_table['予想修正配当'].iteritems():\n",
    "        splited = re.findall(r'[\\d.]+|\\D+', col)\n",
    "        if len(splited) > 1:\n",
    "            if splited[1] == '*':\n",
    "                splited[1] = '分割併合実施'\n",
    "            elif splited[1] == '#':\n",
    "                splited[1] = '当期実施予定'\n",
    "            fc_table.loc[idx, ['予想修正配当', '分割併合']] = splited"
   ]
  },
  {
   "cell_type": "code",
   "execution_count": null,
   "metadata": {
    "ExecuteTime": {
     "end_time": "2017-12-22T07:29:09.257984Z",
     "start_time": "2017-12-22T07:29:09.250537Z"
    }
   },
   "outputs": [],
   "source": [
    "# 数値の列の数値以外の文字列 ('－' 等) を NaN に置換\n",
    "num_col = ('予想売上高', '予想営業益', '予想経常益', '予想最終益', '予想修正配当')\n",
    "for key in num_col:\n",
    "    if fc_table[key].dtypes == object:\n",
    "        fc_table.loc[~fc_table[key].str.replace(r'\\.|\\-', \"\").str.isnumeric(), key] = np.nan # .str を2回も使わないといけないのはなんだか。。。\n",
    "        # fc_table.loc[fc_table[key].str.contains('－'), key] = np.nan # この書き方だと '－'  以外の文字列に対応できないので不安"
   ]
  },
  {
   "cell_type": "code",
   "execution_count": null,
   "metadata": {
    "ExecuteTime": {
     "end_time": "2017-12-22T07:29:09.822941Z",
     "start_time": "2017-12-22T07:29:09.816628Z"
    }
   },
   "outputs": [],
   "source": [
    "# 型変換\n",
    "# 辞書内包表記による一括変換\n",
    "fc_table = fc_table.astype({x: float for x in ('予想売上高', '予想営業益', '予想経常益', '予想最終益', '予想修正配当')})"
   ]
  },
  {
   "cell_type": "code",
   "execution_count": null,
   "metadata": {
    "ExecuteTime": {
     "end_time": "2017-12-22T07:29:10.348967Z",
     "start_time": "2017-12-22T07:29:10.339244Z"
    }
   },
   "outputs": [],
   "source": [
    "# 100万円単位換算\n",
    "million_col = ('予想売上高', '予想営業益', '予想経常益', '予想最終益')\n",
    "fc_table.loc[:, million_col] = fc_table.loc[:, million_col].apply(lambda x: x * 10 ** 6)"
   ]
  },
  {
   "cell_type": "code",
   "execution_count": null,
   "metadata": {
    "ExecuteTime": {
     "end_time": "2017-12-22T07:29:10.908434Z",
     "start_time": "2017-12-22T07:29:10.903623Z"
    }
   },
   "outputs": [],
   "source": [
    "# 列の並び替え\n",
    "fc_table = fc_table[['発表日', '決算期', '予想売上高', '予想営業益', '予想経常益', '予想最終益', '予想修正配当', '分割併合', '会計基準', '決算期変更']]"
   ]
  },
  {
   "cell_type": "code",
   "execution_count": null,
   "metadata": {
    "ExecuteTime": {
     "end_time": "2017-12-22T07:29:12.685920Z",
     "start_time": "2017-12-22T07:29:12.680096Z"
    }
   },
   "outputs": [],
   "source": [
    "fc_table.dtypes"
   ]
  },
  {
   "cell_type": "code",
   "execution_count": null,
   "metadata": {
    "ExecuteTime": {
     "end_time": "2017-12-22T07:29:13.682409Z",
     "start_time": "2017-12-22T07:29:13.665509Z"
    }
   },
   "outputs": [],
   "source": [
    "fc_table"
   ]
  },
  {
   "cell_type": "markdown",
   "metadata": {
    "heading_collapsed": true
   },
   "source": [
    "## qr_table (tables[8?]) ３ヵ月業績の推移【実績】(過去5年 + 前年同期比) 累積ではなく差分"
   ]
  },
  {
   "cell_type": "raw",
   "metadata": {
    "hidden": true
   },
   "source": [
    "# 株プロに無い項目: 売上営業損益率 = 営業益 / 売上高?\n",
    "# 不要かな？\n",
    "# ちょっと株プロと見比べてみよう → １株益の値が揃わない\n",
    "# 修正発表があった項目は上書きされてしまっていると思われる\n",
    "# 修正の可能性を考えなければ累積の株プロよりこちらの方が使いやすいかも\n",
    "# 株プロで差分を作成するべきか?\n",
    "# 前年同期比はいらなそう"
   ]
  },
  {
   "cell_type": "code",
   "execution_count": null,
   "metadata": {
    "ExecuteTime": {
     "end_time": "2017-12-09T12:24:14.861659Z",
     "start_time": "2017-12-09T12:24:14.836790Z"
    },
    "collapsed": true,
    "hidden": true
   },
   "outputs": [],
   "source": [
    "tables[8]"
   ]
  },
  {
   "cell_type": "code",
   "execution_count": null,
   "metadata": {
    "ExecuteTime": {
     "end_time": "2017-12-21T06:16:26.631683Z",
     "start_time": "2017-12-21T06:16:26.622107Z"
    },
    "hidden": true
   },
   "outputs": [],
   "source": [
    "# 3ヶ月業績テーブルの抽出 (上書き)\n",
    "qr_table = pd.DataFrame()\n",
    "# リストを要素ごとに for で回す書き方\n",
    "for idx, table in enumerate(tables):\n",
    "    # 3ヶ月業績: quater\n",
    "    if len(table.columns) == 8: \n",
    "        if (table.columns[-2] == \"売上営業損益率\") & (qr_table.shape[1] == 0): \n",
    "            qr_table = table.copy()\n",
    "            print(idx)"
   ]
  },
  {
   "cell_type": "code",
   "execution_count": null,
   "metadata": {
    "ExecuteTime": {
     "end_time": "2017-12-17T16:54:32.408642Z",
     "start_time": "2017-12-17T16:54:32.403151Z"
    },
    "hidden": true
   },
   "outputs": [],
   "source": [
    "qr_table"
   ]
  },
  {
   "cell_type": "code",
   "execution_count": null,
   "metadata": {
    "ExecuteTime": {
     "end_time": "2017-12-21T04:55:31.463874Z",
     "start_time": "2017-12-21T04:55:31.448082Z"
    },
    "collapsed": true,
    "hidden": true
   },
   "outputs": [],
   "source": [
    "qr_mobile"
   ]
  },
  {
   "cell_type": "code",
   "execution_count": null,
   "metadata": {
    "ExecuteTime": {
     "end_time": "2017-12-15T16:29:25.192577Z",
     "start_time": "2017-12-15T16:29:25.187722Z"
    },
    "hidden": true
   },
   "outputs": [],
   "source": [
    "qr_table.columns"
   ]
  },
  {
   "cell_type": "code",
   "execution_count": null,
   "metadata": {
    "collapsed": true,
    "hidden": true
   },
   "outputs": [],
   "source": [
    "# 全ての列項目がnullの行を除去\n",
    "qr_table = qr_table[~qr_table.isnull().all(axis=1)].reset_index(drop=True)"
   ]
  },
  {
   "cell_type": "code",
   "execution_count": null,
   "metadata": {
    "collapsed": true,
    "hidden": true
   },
   "outputs": [],
   "source": [
    "# モバイル版の会計基準を結合\n",
    "qr_table['会計基準'] = qr_mobile['会計基準']"
   ]
  },
  {
   "cell_type": "code",
   "execution_count": null,
   "metadata": {
    "collapsed": true,
    "hidden": true
   },
   "outputs": [],
   "source": [
    "# 予想値と前年同期比の行を除去\n",
    "qr_table = qr_table[~((qr_table['決算期'].str.contains('予')) | (qr_table['決算期'].str.contains('前年同期比')))].reset_index(drop=True)"
   ]
  },
  {
   "cell_type": "code",
   "execution_count": null,
   "metadata": {
    "collapsed": true,
    "hidden": true
   },
   "outputs": [],
   "source": [
    "# 決算期変更列を新規作成、決算期列から決算期と決算期変更を抽出、代入\n",
    "qr_table['決算期'] = qr_table['決算期'].astype(str) # 決算期列が float 型になっている場合に備え str 型を明示\n",
    "qr_table['決算期変更'] = \"\"\n",
    "for idx, end in qr_table['決算期'].iteritems():\n",
    "    if '変' in end:\n",
    "        qr_table.loc[idx, '決算期変更'] = '変更'\n",
    "    qr_table.loc[idx, '決算期'] = end.split(' ')[-1]"
   ]
  },
  {
   "cell_type": "code",
   "execution_count": null,
   "metadata": {
    "ExecuteTime": {
     "end_time": "2017-12-22T04:49:28.797913Z",
     "start_time": "2017-12-22T04:49:28.792689Z"
    },
    "collapsed": true,
    "hidden": true
   },
   "outputs": [],
   "source": [
    "# 列名の変更\n",
    "qr_table.columns = ['Q期首', 'Q売上高', 'Q営業益', 'Q経常益', 'Q最終益', 'Q１株益', 'Q売上営業損益率', '発表日', '会計基準', '決算期変更']"
   ]
  },
  {
   "cell_type": "code",
   "execution_count": null,
   "metadata": {
    "ExecuteTime": {
     "end_time": "2017-12-22T04:49:32.005780Z",
     "start_time": "2017-12-22T04:49:31.990812Z"
    },
    "collapsed": true,
    "hidden": true
   },
   "outputs": [],
   "source": [
    "# 日付のパース、datetime.dateへの型変換、最終的に '－'  は NaT に置換される\n",
    "qr_table['Q期首'] = qr_table.loc[qr_table['Q期首'].str.match('\\d\\d.\\d\\d-\\d\\d'), 'Q期首'].apply(lambda x: \n",
    "                                                                                               parse(x.replace('-', '.'), yearfirst=True).date())\n",
    "qr_table['発表日'] = qr_table.loc[qr_table['発表日'].str.match('\\d\\d/\\d\\d/\\d\\d'), '発表日'].apply(lambda x: parse(x, yearfirst=True).date())\n",
    "# pandasのTimestampへの型変換\n",
    "qr_table['Q期首'] = pd.to_datetime(qr_table['Q期首'], format='%Y-%m-%d')\n",
    "qr_table['発表日'] = pd.to_datetime(qr_table['発表日'], format='%Y-%m-%d')"
   ]
  },
  {
   "cell_type": "code",
   "execution_count": null,
   "metadata": {
    "ExecuteTime": {
     "end_time": "2017-12-22T04:49:33.678271Z",
     "start_time": "2017-12-22T04:49:33.662282Z"
    },
    "hidden": true
   },
   "outputs": [],
   "source": [
    "# 通期業績の決算期を参照して決算期列を追加\n",
    "# 通期業績の予想値削除前に別名でキープした決算期シリーズを利用\n",
    "for start_idx, start in qr_table['Q期首'].iteritems():\n",
    "    for end in pl_end:\n",
    "        if start < pd.to_datetime(end, format='%Y.%m') + offsets.MonthEnd():\n",
    "            qr_table.loc[start_idx, '決算期'] = end\n",
    "            break"
   ]
  },
  {
   "cell_type": "code",
   "execution_count": null,
   "metadata": {
    "ExecuteTime": {
     "end_time": "2017-12-22T04:49:34.599356Z",
     "start_time": "2017-12-22T04:49:34.584528Z"
    },
    "hidden": true
   },
   "outputs": [],
   "source": [
    "# 数値の列の数値以外の文字列 ('－' 等) を NaN に置換\n",
    "num_col = ('Q売上高', 'Q営業益', 'Q経常益', 'Q最終益', 'Q１株益', 'Q売上営業損益率')\n",
    "for key in num_col:\n",
    "    if qr_table[key].dtypes == object:\n",
    "        qr_table.loc[~qr_table[key].str.replace(r'\\.|\\-', \"\").str.isnumeric(), key] = np.nan # .str を2回も使わないといけないのはなんだか。。。\n",
    "        # qr_table.loc[qr_table[key].str.contains('－'), key] = np.nan # この書き方だと '－'  以外の文字列に対応できないので不安"
   ]
  },
  {
   "cell_type": "code",
   "execution_count": null,
   "metadata": {
    "ExecuteTime": {
     "end_time": "2017-12-22T04:49:35.990734Z",
     "start_time": "2017-12-22T04:49:35.984326Z"
    },
    "hidden": true
   },
   "outputs": [],
   "source": [
    "# 型変換\n",
    "# 辞書内包表記による一括変換\n",
    "qr_table = qr_table.astype({x: float for x in ('Q売上高', 'Q営業益', 'Q経常益', 'Q最終益', 'Q１株益', 'Q売上営業損益率')})"
   ]
  },
  {
   "cell_type": "code",
   "execution_count": null,
   "metadata": {
    "ExecuteTime": {
     "end_time": "2017-12-22T04:49:36.660715Z",
     "start_time": "2017-12-22T04:49:36.650025Z"
    },
    "collapsed": true,
    "hidden": true
   },
   "outputs": [],
   "source": [
    "# 100万円単位換算\n",
    "million_col = ('Q売上高', 'Q営業益', 'Q経常益', 'Q最終益')\n",
    "qr_table.loc[:, million_col] = qr_table.loc[:, million_col].apply(lambda x: x * 10 ** 6)"
   ]
  },
  {
   "cell_type": "code",
   "execution_count": null,
   "metadata": {
    "ExecuteTime": {
     "end_time": "2017-12-22T04:49:37.322538Z",
     "start_time": "2017-12-22T04:49:37.315324Z"
    },
    "hidden": true
   },
   "outputs": [],
   "source": [
    "# 列の並び替え\n",
    "qr_table = qr_table[['発表日', '決算期', 'Q期首', 'Q売上高', 'Q営業益', 'Q経常益', 'Q最終益', 'Q１株益', 'Q売上営業損益率', '会計基準', '決算期変更']]"
   ]
  },
  {
   "cell_type": "code",
   "execution_count": null,
   "metadata": {
    "ExecuteTime": {
     "end_time": "2017-12-22T06:16:44.151317Z",
     "start_time": "2017-12-22T06:16:44.099399Z"
    },
    "collapsed": true,
    "hidden": true
   },
   "outputs": [],
   "source": [
    "# モバイル版のみ業績予想テーブルがない場合があるので、四半期業績の整形処理後に決算期が同期の四半期業績から会計基準を取得\n",
    "# 3975で確認\n",
    "if (len(fc_table) > 0) & (len(qr_table) > 0):\n",
    "    if  fc_table.loc[0, '会計基準'] == \"\":\n",
    "        for idx, end in fc_table['決算期'].iteritems():\n",
    "            fc_table.loc[idx, '会計基準'] = qr_table.loc[qr_table['決算期'].apply(lambda x: x[:4]) == fc_table.loc[idx, '決算期'][:4], '会計基準'].values[0]"
   ]
  },
  {
   "cell_type": "code",
   "execution_count": null,
   "metadata": {
    "ExecuteTime": {
     "end_time": "2017-12-22T04:58:26.537780Z",
     "start_time": "2017-12-22T04:58:26.531668Z"
    },
    "hidden": true,
    "scrolled": true
   },
   "outputs": [],
   "source": [
    "qr_table.dtypes"
   ]
  },
  {
   "cell_type": "code",
   "execution_count": null,
   "metadata": {
    "ExecuteTime": {
     "end_time": "2017-12-22T04:58:28.178050Z",
     "start_time": "2017-12-22T04:58:28.161784Z"
    },
    "hidden": true,
    "scrolled": false
   },
   "outputs": [],
   "source": [
    "qr_table"
   ]
  },
  {
   "cell_type": "markdown",
   "metadata": {
    "hidden": true
   },
   "source": [
    "__比較検証用に株プロの四半期業績の差分を作ってみる__"
   ]
  },
  {
   "cell_type": "markdown",
   "metadata": {
    "hidden": true
   },
   "source": [
    "__もうちょっと上手いやり方ありそう__"
   ]
  },
  {
   "cell_type": "code",
   "execution_count": null,
   "metadata": {
    "collapsed": true,
    "hidden": true
   },
   "outputs": [],
   "source": [
    "kabupro.columns"
   ]
  },
  {
   "cell_type": "code",
   "execution_count": null,
   "metadata": {
    "collapsed": true,
    "hidden": true
   },
   "outputs": [],
   "source": [
    "kabupro.ix[(kabupro['証券コード'] == code) & (kabupro['会計基準'] == '米国基準'), \n",
    "           ['決算期', '期末', '売上高', '営業利益', '経常利益', '純利益', '一株当り純利益', '情報公開日 (更新日)']].tail(10)"
   ]
  },
  {
   "cell_type": "code",
   "execution_count": null,
   "metadata": {
    "ExecuteTime": {
     "end_time": "2017-12-01T15:52:13.774425Z",
     "start_time": "2017-12-01T15:52:13.753197Z"
    },
    "collapsed": true,
    "hidden": true
   },
   "outputs": [],
   "source": [
    "diff_test = kabupro.ix[(kabupro['証券コード'] == code) & (kabupro['会計基準'] == '米国基準'), \n",
    "           ['決算期', '期末', '売上高', '営業利益', '経常利益', '純利益', '一株当り純利益', '情報公開日 (更新日)']]"
   ]
  },
  {
   "cell_type": "code",
   "execution_count": null,
   "metadata": {
    "ExecuteTime": {
     "end_time": "2017-12-01T15:52:40.993124Z",
     "start_time": "2017-12-01T15:52:40.949868Z"
    },
    "collapsed": true,
    "hidden": true
   },
   "outputs": [],
   "source": [
    "diff_test"
   ]
  },
  {
   "cell_type": "code",
   "execution_count": null,
   "metadata": {
    "ExecuteTime": {
     "end_time": "2017-12-01T15:52:17.330328Z",
     "start_time": "2017-12-01T15:52:17.323284Z"
    },
    "collapsed": true,
    "hidden": true
   },
   "outputs": [],
   "source": [
    "diff_test[['売上高差分', '営業利益差分', '経常利益差分', '純利益差分', '一株当り純利益差分']] = diff_test[['売上高', '営業利益', '経常利益', '純利益', '一株当り純利益']]"
   ]
  },
  {
   "cell_type": "code",
   "execution_count": null,
   "metadata": {
    "ExecuteTime": {
     "end_time": "2017-12-01T15:55:06.252985Z",
     "start_time": "2017-12-01T15:55:06.248255Z"
    },
    "hidden": true
   },
   "outputs": [],
   "source": [
    "diff_test.index[1]"
   ]
  },
  {
   "cell_type": "code",
   "execution_count": null,
   "metadata": {
    "ExecuteTime": {
     "end_time": "2017-12-01T15:55:30.204120Z",
     "start_time": "2017-12-01T15:55:30.073737Z"
    },
    "hidden": true
   },
   "outputs": [],
   "source": [
    "for count in range(diff_test.index[1], diff_test.index[1] + len(diff_test) - 1):\n",
    "    if diff_test.loc[count, '決算期'] == diff_test.loc[count - 1, '決算期']:\n",
    "        diff_test.loc[count, '売上高差分'] = diff_test.loc[count, '売上高'] - diff_test.loc[count - 1, '売上高']\n",
    "        diff_test.loc[count, '営業利益差分'] = diff_test.loc[count, '営業利益'] - diff_test.loc[count - 1, '営業利益']\n",
    "        diff_test.loc[count, '経常利益差分'] = diff_test.loc[count, '経常利益'] - diff_test.loc[count - 1, '経常利益']\n",
    "        diff_test.loc[count, '純利益差分'] = diff_test.loc[count, '純利益'] - diff_test.loc[count - 1, '純利益']\n",
    "        diff_test.loc[count, '一株当り純利益差分'] = diff_test.loc[count, '一株当り純利益'] - diff_test.loc[count - 1, '一株当り純利益']"
   ]
  },
  {
   "cell_type": "code",
   "execution_count": null,
   "metadata": {
    "ExecuteTime": {
     "end_time": "2017-12-01T15:55:32.521272Z",
     "start_time": "2017-12-01T15:55:32.490784Z"
    },
    "hidden": true
   },
   "outputs": [],
   "source": [
    "diff_test[['決算期', '期末', '売上高差分', '営業利益差分', '経常利益差分', '純利益差分', '一株当り純利益差分', '情報公開日 (更新日)']]\n",
    "# 一株当り純利益差分が株探の１株益と揃わない"
   ]
  },
  {
   "cell_type": "markdown",
   "metadata": {
    "heading_collapsed": true
   },
   "source": [
    "## bs_table (tables[9?]) 財務 【実績】"
   ]
  },
  {
   "cell_type": "raw",
   "metadata": {
    "hidden": true
   },
   "source": [
    "# 株プロに無い項目: 自己資本比率, 自己資本, 剰余金, 有利子負債倍率\n",
    "\n",
    "# 2000年以前の財務実績の発表日は全体的に信用できない\n",
    "# 1998年は何らかの日付で固定 or 捨て、1999年と2000年は通期業績の発表日と同じにする\n",
    "# 期間は株プロよりこちらの方が長い\n",
    "# 修正発表があった項目は上書きされてしまっていると思われる"
   ]
  },
  {
   "cell_type": "code",
   "execution_count": null,
   "metadata": {
    "ExecuteTime": {
     "end_time": "2017-12-09T14:49:38.101049Z",
     "start_time": "2017-12-09T14:49:38.076590Z"
    },
    "collapsed": true,
    "hidden": true
   },
   "outputs": [],
   "source": [
    "tables[9]"
   ]
  },
  {
   "cell_type": "code",
   "execution_count": null,
   "metadata": {
    "ExecuteTime": {
     "end_time": "2017-12-21T06:33:15.335409Z",
     "start_time": "2017-12-21T06:33:15.325655Z"
    },
    "hidden": true
   },
   "outputs": [],
   "source": [
    "# 財務テーブルの抽出 (上書き)\n",
    "bs_table = pd.DataFrame()\n",
    "# リストを要素ごとに for で回す書き方\n",
    "for idx, table in enumerate(tables):\n",
    "    # 財務: balance sheet\n",
    "    if len(table.columns) == 8: \n",
    "        if (table.columns[1] == \"１株純資産\") & (bs_table.shape[1] == 0): \n",
    "            bs_table = table\n",
    "            print('tables[{0}]'.format(idx))"
   ]
  },
  {
   "cell_type": "code",
   "execution_count": null,
   "metadata": {
    "ExecuteTime": {
     "end_time": "2017-12-21T06:36:20.986416Z",
     "start_time": "2017-12-21T06:36:20.968594Z"
    },
    "hidden": true,
    "scrolled": false
   },
   "outputs": [],
   "source": [
    "bs_table"
   ]
  },
  {
   "cell_type": "code",
   "execution_count": null,
   "metadata": {
    "ExecuteTime": {
     "end_time": "2017-12-21T06:36:18.129217Z",
     "start_time": "2017-12-21T06:36:18.113796Z"
    },
    "hidden": true
   },
   "outputs": [],
   "source": [
    "bs_mobile"
   ]
  },
  {
   "cell_type": "code",
   "execution_count": null,
   "metadata": {
    "ExecuteTime": {
     "end_time": "2017-12-15T17:27:37.632105Z",
     "start_time": "2017-12-15T17:27:37.625573Z"
    },
    "hidden": true
   },
   "outputs": [],
   "source": [
    "bs_table.columns"
   ]
  },
  {
   "cell_type": "code",
   "execution_count": null,
   "metadata": {
    "ExecuteTime": {
     "end_time": "2017-12-22T04:49:46.255793Z",
     "start_time": "2017-12-22T04:49:46.250158Z"
    },
    "hidden": true
   },
   "outputs": [],
   "source": [
    "# 財務実績データが無い場合、ダミーのデータフレームを作成\n",
    "if len(bs_table) == 0:\n",
    "    bs_table = pd.DataFrame(index=[0], columns=range(9))\n",
    "    # 列名の変更\n",
    "    bs_table.columns = ['発表日', '決算期', '１株純資産', '自己資本比率', '総資産', '自己資本', '剰余金', '有利子負債倍率', '会計基準']"
   ]
  },
  {
   "cell_type": "code",
   "execution_count": null,
   "metadata": {
    "ExecuteTime": {
     "end_time": "2017-12-22T04:49:46.934415Z",
     "start_time": "2017-12-22T04:49:46.929178Z"
    },
    "collapsed": true,
    "hidden": true
   },
   "outputs": [],
   "source": [
    "# 全ての列項目がnullの行を除去\n",
    "bs_table = bs_table[~bs_table.isnull().all(axis=1)].reset_index(drop=True)"
   ]
  },
  {
   "cell_type": "code",
   "execution_count": null,
   "metadata": {
    "ExecuteTime": {
     "end_time": "2017-12-22T04:49:47.618420Z",
     "start_time": "2017-12-22T04:49:47.608951Z"
    },
    "hidden": true
   },
   "outputs": [],
   "source": [
    "# モバイル版のデータを結合、無い場合はスキップ\n",
    "if (len(bs_table) == 0) & (len(bs_mobile) > 0):\n",
    "    bs_table = pd.merge(bs_table, bs_mobile, how='outer')\n",
    "    bs_table['決算期'] = mobile[bs_mobile_idx - 1]['決算期']\n",
    "elif len(bs_mobile) > 0:\n",
    "    bs_table['会計基準'] = bs_mobile['会計基準']"
   ]
  },
  {
   "cell_type": "code",
   "execution_count": null,
   "metadata": {
    "ExecuteTime": {
     "end_time": "2017-12-22T04:49:48.291842Z",
     "start_time": "2017-12-22T04:49:48.284607Z"
    },
    "hidden": true
   },
   "outputs": [],
   "source": [
    "# 予想値と前期比の行を除去\n",
    "bs_table['決算期'] = bs_table['決算期'].astype(str) # 決算期列が float 型になっている場合に備え str 型を明示\n",
    "bs_table = bs_table[~((bs_table['決算期'].str.contains('予')) | (bs_table['決算期'].str.contains('前期比')))].reset_index(drop=True)"
   ]
  },
  {
   "cell_type": "code",
   "execution_count": null,
   "metadata": {
    "ExecuteTime": {
     "end_time": "2017-12-22T04:49:49.018496Z",
     "start_time": "2017-12-22T04:49:49.006440Z"
    },
    "hidden": true
   },
   "outputs": [],
   "source": [
    "# 決算期変更列を新規作成、決算期列から決算期と決算期変更を抽出、代入\n",
    "bs_table['決算期'] = bs_table['決算期'].astype(str) # 決算期列が float 型になっている場合に備え str 型を明示\n",
    "bs_table['決算期変更'] = \"\"\n",
    "for idx, end in bs_table['決算期'].iteritems():\n",
    "    if '変' in end:\n",
    "        bs_table.loc[idx, '決算期変更'] = '変更'\n",
    "    bs_table.loc[idx, '決算期'] = end.split(' ')[-1]"
   ]
  },
  {
   "cell_type": "code",
   "execution_count": null,
   "metadata": {
    "ExecuteTime": {
     "end_time": "2017-12-22T04:49:51.065820Z",
     "start_time": "2017-12-22T04:49:51.060896Z"
    },
    "hidden": true
   },
   "outputs": [],
   "source": [
    "# 決算期が 'yyyy.mm' 表記ではない行は確定決算前と思われるので削除\n",
    "bs_table = bs_table[bs_table['決算期'].str.contains('\\d\\d\\d\\d.\\d\\d')].reset_index(drop=True)"
   ]
  },
  {
   "cell_type": "code",
   "execution_count": null,
   "metadata": {
    "ExecuteTime": {
     "end_time": "2017-12-22T04:49:51.767853Z",
     "start_time": "2017-12-22T04:49:51.765050Z"
    },
    "hidden": true
   },
   "outputs": [],
   "source": [
    "# 決算期が 1998.mm のデータは他のテーブルには無く、発表日も不自然なので行ごと削除\n",
    "# bs_table = bs_table[~bs_table['決算期'].str.contains('1998.\\d\\d')].reset_index(drop=True)"
   ]
  },
  {
   "cell_type": "code",
   "execution_count": null,
   "metadata": {
    "ExecuteTime": {
     "end_time": "2017-12-22T04:49:52.439663Z",
     "start_time": "2017-12-22T04:49:52.434005Z"
    },
    "hidden": true
   },
   "outputs": [],
   "source": [
    "# 通期業績には無い期間の行を削除\n",
    "if len(pl_table) > 0:\n",
    "    for idx, end in bs_table['決算期'].iteritems():\n",
    "        if not end in pl_table['決算期'].values:\n",
    "            bs_table = bs_table.drop(idx)"
   ]
  },
  {
   "cell_type": "code",
   "execution_count": null,
   "metadata": {
    "ExecuteTime": {
     "end_time": "2017-12-22T04:49:53.075633Z",
     "start_time": "2017-12-22T04:49:53.063346Z"
    },
    "hidden": true
   },
   "outputs": [],
   "source": [
    "# 日付のパース、datetime.dateへの型変換、最終的に '－'  は NaT に置換される\n",
    "# bs_table['決算期'] = bs_table['決算期'].apply(lambda x: datetime.strptime(x, '%Y.%m').date()) # 日付ではないので文字列のままの方がいいかも？\n",
    "try:\n",
    "    bs_table['発表日'] = pd.to_datetime(bs_table['発表日'], format='%Y-%m-%d')\n",
    "except:\n",
    "    bs_table['発表日'] = bs_table.loc[bs_table['発表日'].str.match('\\d\\d/\\d\\d/\\d\\d'), '発表日'].apply(lambda x: parse(x, yearfirst=True).date())\n",
    "# pandasのTimestampへの型変換\n",
    "bs_table['発表日'] = pd.to_datetime(bs_table['発表日'], format='%Y-%m-%d')\n",
    "# bs_table['決算期'] = pd.to_datetime(bs_table['決算期'], format='%Y-%m-%d')"
   ]
  },
  {
   "cell_type": "code",
   "execution_count": null,
   "metadata": {
    "ExecuteTime": {
     "end_time": "2017-12-22T04:49:53.752322Z",
     "start_time": "2017-12-22T04:49:53.736905Z"
    },
    "hidden": true
   },
   "outputs": [],
   "source": [
    "# 決算期の同じ年の月が通期業績と異なる場合があるので、通期業績の決算期に置換\n",
    "# 決算期の変更があり、なおかつ決算期に「変」記載のない銘柄で確認 (1909)\n",
    "if len(pl_table) > 0:\n",
    "    for idx, end in bs_table['決算期'].iteritems():\n",
    "        bs_table.loc[idx, '決算期'] = pl_table.loc[pl_table['決算期'].apply(lambda x: x[:4]) == bs_table.loc[idx, '決算期'][:4], '決算期'].values[0]"
   ]
  },
  {
   "cell_type": "code",
   "execution_count": null,
   "metadata": {
    "ExecuteTime": {
     "end_time": "2017-12-22T04:49:54.386463Z",
     "start_time": "2017-12-22T04:49:54.371562Z"
    },
    "hidden": true
   },
   "outputs": [],
   "source": [
    "# 発表日の欠損値および異常値を通期業績の発表日に置換\n",
    "if len(pl_table) > 0:\n",
    "    for idx, date in bs_table['発表日'].iteritems():\n",
    "        if (date != date) or (date <= pd.to_datetime('2001-01-01')):\n",
    "            bs_table.loc[idx, '発表日'] = pl_table.loc[pl_table['決算期'] == bs_table.loc[idx, '決算期'], '発表日'].values[0]"
   ]
  },
  {
   "cell_type": "code",
   "execution_count": null,
   "metadata": {
    "ExecuteTime": {
     "end_time": "2017-12-22T04:49:56.245095Z",
     "start_time": "2017-12-22T04:49:56.231190Z"
    },
    "hidden": true
   },
   "outputs": [],
   "source": [
    "# 決算期変更の欠損値を通期業績の値に置換\n",
    "if len(pl_table) > 0:\n",
    "    for idx, change in bs_table['決算期変更'].iteritems():\n",
    "        if change == \"\":\n",
    "            bs_table.loc[idx, '決算期変更'] = pl_table.loc[pl_table['決算期'] == bs_table.loc[idx, '決算期'], '決算期変更'].values[0]"
   ]
  },
  {
   "cell_type": "code",
   "execution_count": null,
   "metadata": {
    "ExecuteTime": {
     "end_time": "2017-12-22T04:49:56.863213Z",
     "start_time": "2017-12-22T04:49:56.851186Z"
    },
    "collapsed": true,
    "hidden": true
   },
   "outputs": [],
   "source": [
    "# 数値の列の数値以外の文字列 ('－' 等) を NaN に置換\n",
    "num_col = ('１株純資産', '自己資本比率', '総資産', '自己資本', '剰余金', '有利子負債倍率')\n",
    "for key in num_col:\n",
    "    if bs_table[key].dtypes == object:\n",
    "        bs_table.loc[~bs_table[key].str.replace(r'\\.|\\-', \"\").str.isnumeric(), key] = np.nan # .str を2回も使わないといけないのはなんだか。。。\n",
    "        # bs_table.loc[bs_table[key].str.contains('－'), key] = np.nan # この書き方だと '－'  以外の文字列に対応できないので不安"
   ]
  },
  {
   "cell_type": "code",
   "execution_count": null,
   "metadata": {
    "ExecuteTime": {
     "end_time": "2017-12-22T04:49:57.444348Z",
     "start_time": "2017-12-22T04:49:57.437843Z"
    },
    "hidden": true
   },
   "outputs": [],
   "source": [
    "# 型変換\n",
    "# 辞書内包表記による一括変換\n",
    "bs_table = bs_table.astype({x: float for x in ('１株純資産', '自己資本比率', '総資産', '自己資本', '剰余金', '有利子負債倍率')})"
   ]
  },
  {
   "cell_type": "code",
   "execution_count": null,
   "metadata": {
    "ExecuteTime": {
     "end_time": "2017-12-22T04:49:58.052037Z",
     "start_time": "2017-12-22T04:49:58.043667Z"
    },
    "hidden": true
   },
   "outputs": [],
   "source": [
    "# 100万円単位換算\n",
    "million_col = ('総資産', '自己資本', '剰余金')\n",
    "bs_table.loc[:, million_col] = bs_table.loc[:, million_col].apply(lambda x: x * 10 ** 6)"
   ]
  },
  {
   "cell_type": "code",
   "execution_count": null,
   "metadata": {
    "ExecuteTime": {
     "end_time": "2017-12-22T04:49:58.655019Z",
     "start_time": "2017-12-22T04:49:58.650314Z"
    },
    "hidden": true
   },
   "outputs": [],
   "source": [
    "# 列の並び替え\n",
    "bs_table = bs_table[['発表日', '決算期', '１株純資産', '自己資本比率', '総資産', '自己資本', '剰余金', '有利子負債倍率', '会計基準', '決算期変更']]"
   ]
  },
  {
   "cell_type": "code",
   "execution_count": null,
   "metadata": {
    "ExecuteTime": {
     "end_time": "2017-12-22T04:50:04.182065Z",
     "start_time": "2017-12-22T04:50:04.176123Z"
    },
    "hidden": true
   },
   "outputs": [],
   "source": [
    "bs_table.dtypes"
   ]
  },
  {
   "cell_type": "code",
   "execution_count": null,
   "metadata": {
    "ExecuteTime": {
     "end_time": "2017-12-22T04:50:08.928220Z",
     "start_time": "2017-12-22T04:50:08.908963Z"
    },
    "hidden": true
   },
   "outputs": [],
   "source": [
    "bs_table"
   ]
  },
  {
   "cell_type": "code",
   "execution_count": null,
   "metadata": {
    "ExecuteTime": {
     "end_time": "2017-12-17T15:08:17.674012Z",
     "start_time": "2017-12-17T15:08:17.644993Z"
    },
    "hidden": true
   },
   "outputs": [],
   "source": [
    "bs_table"
   ]
  },
  {
   "cell_type": "code",
   "execution_count": null,
   "metadata": {
    "ExecuteTime": {
     "end_time": "2017-11-28T20:49:03.024425Z",
     "start_time": "2017-11-28T20:49:02.974973Z"
    },
    "hidden": true
   },
   "outputs": [],
   "source": [
    "kabupro.ix[(kabupro['証券コード'] == code) & (kabupro['会計基準'] == '米国基準') & (kabupro['決算期間'] == '通期'), \n",
    "           ['連結個別', '決算期', '期首', '一株当り純資産', '総資産', '情報公開日 (更新日)']]"
   ]
  },
  {
   "cell_type": "code",
   "execution_count": null,
   "metadata": {
    "ExecuteTime": {
     "end_time": "2017-11-28T20:02:06.222463Z",
     "start_time": "2017-11-28T20:02:06.217308Z"
    },
    "hidden": true
   },
   "outputs": [],
   "source": [
    "# 比較参照用\n",
    "kabupro.columns"
   ]
  },
  {
   "cell_type": "markdown",
   "metadata": {},
   "source": [
    "## tables[2] 銘柄概要"
   ]
  },
  {
   "cell_type": "code",
   "execution_count": null,
   "metadata": {
    "ExecuteTime": {
     "end_time": "2017-12-03T22:19:01.345195Z",
     "start_time": "2017-12-03T22:19:01.332137Z"
    }
   },
   "outputs": [],
   "source": [
    "tables[2]"
   ]
  },
  {
   "cell_type": "markdown",
   "metadata": {},
   "source": [
    "## tables[5] 過去最高 【実績】"
   ]
  },
  {
   "cell_type": "raw",
   "metadata": {},
   "source": [
    "# 不要かな？\n",
    "# 百万単位"
   ]
  },
  {
   "cell_type": "code",
   "execution_count": null,
   "metadata": {
    "ExecuteTime": {
     "end_time": "2017-12-03T22:24:14.181789Z",
     "start_time": "2017-12-03T22:24:14.169148Z"
    }
   },
   "outputs": [],
   "source": [
    "tables[5]"
   ]
  },
  {
   "cell_type": "markdown",
   "metadata": {},
   "source": [
    "## tables[6] 下期業績 (過去3年 + 今年予想 + 前年同期比)"
   ]
  },
  {
   "cell_type": "raw",
   "metadata": {},
   "source": [
    "# 不要かな？\n",
    "# ちょっと株プロと見比べてみたいけどめんどくさい\n",
    "# 百万単位"
   ]
  },
  {
   "cell_type": "code",
   "execution_count": null,
   "metadata": {
    "ExecuteTime": {
     "end_time": "2017-12-03T22:25:35.181373Z",
     "start_time": "2017-12-03T22:25:35.164844Z"
    },
    "scrolled": true
   },
   "outputs": [],
   "source": [
    "tables[6]"
   ]
  },
  {
   "cell_type": "code",
   "execution_count": null,
   "metadata": {
    "ExecuteTime": {
     "end_time": "2017-11-28T20:10:47.639415Z",
     "start_time": "2017-11-28T20:10:47.634584Z"
    }
   },
   "outputs": [],
   "source": [
    "tables[6].columns"
   ]
  },
  {
   "cell_type": "markdown",
   "metadata": {},
   "source": [
    "## tables[7] 第２四半期累計決算【実績】 (過去3年 + 前年同期比)"
   ]
  },
  {
   "cell_type": "raw",
   "metadata": {},
   "source": [
    "# 不要かな？\n",
    "# ちょっと株プロと見比べてみよう → 同じみたい\n",
    "# 対通期進捗率って経常益の最終的な通期実績に対して? 今年度分は予想に対して？\n",
    "# 百万単位"
   ]
  },
  {
   "cell_type": "code",
   "execution_count": null,
   "metadata": {
    "ExecuteTime": {
     "end_time": "2017-12-03T22:25:26.990192Z",
     "start_time": "2017-12-03T22:25:26.974837Z"
    }
   },
   "outputs": [],
   "source": [
    "tables[7]"
   ]
  },
  {
   "cell_type": "code",
   "execution_count": null,
   "metadata": {
    "ExecuteTime": {
     "end_time": "2017-12-01T14:53:23.633140Z",
     "start_time": "2017-12-01T14:53:23.581341Z"
    }
   },
   "outputs": [],
   "source": [
    "kabupro.ix[(kabupro['証券コード'] == code) & (kabupro['会計基準'] == '米国基準') & (kabupro['決算期間'] == '第2四半期'), \n",
    "           ['連結個別', '期首', '売上高', '営業利益', '経常利益', '純利益', '一株当り純利益', '情報公開日 (更新日)']].tail(3)"
   ]
  },
  {
   "cell_type": "code",
   "execution_count": null,
   "metadata": {
    "ExecuteTime": {
     "end_time": "2017-12-01T15:10:19.360173Z",
     "start_time": "2017-12-01T15:10:19.308983Z"
    }
   },
   "outputs": [],
   "source": [
    "kabupro.ix[(kabupro['証券コード'] == code)& (kabupro['会計基準'] == '米国基準') & (kabupro['決算期間'].isin(['第2四半期', '通期'])), # \n",
    "           ['連結個別', '期首', '決算期間', '売上高', '営業利益', '経常利益', '純利益', '一株当り純利益', '情報公開日 (更新日)']].tail(5)"
   ]
  },
  {
   "cell_type": "code",
   "execution_count": null,
   "metadata": {
    "ExecuteTime": {
     "end_time": "2017-12-03T22:31:51.789297Z",
     "start_time": "2017-12-03T22:31:51.765415Z"
    },
    "collapsed": true
   },
   "outputs": [],
   "source": [
    "tables[4].tail(1)"
   ]
  },
  {
   "cell_type": "code",
   "execution_count": null,
   "metadata": {
    "ExecuteTime": {
     "end_time": "2017-11-28T20:02:06.222463Z",
     "start_time": "2017-11-28T20:02:06.217308Z"
    }
   },
   "outputs": [],
   "source": [
    "# 比較参照用\n",
    "kabupro.columns"
   ]
  },
  {
   "cell_type": "markdown",
   "metadata": {},
   "source": [
    "# (準備) 単一銘柄の決算ページの取得"
   ]
  },
  {
   "cell_type": "code",
   "execution_count": null,
   "metadata": {
    "ExecuteTime": {
     "end_time": "2017-12-08T16:16:06.223150Z",
     "start_time": "2017-12-08T16:16:05.724583Z"
    }
   },
   "outputs": [],
   "source": [
    "# 個別銘柄の決算ページを開く\n",
    "code = 1301 # トヨタ\n",
    "\n",
    "print('Navigating...', file=sys.stderr)\n",
    "browser.open('https://kabutan.jp/stock/finance?code={0}&mode=k'.format(code))\n",
    "\n",
    "# 決算ページにいることを確認する\n",
    "assert '決算' in browser.parsed.title.string\n",
    "\n",
    "print(browser.select('.kobetsu_data_table1_meigara')[0].text.strip())"
   ]
  },
  {
   "cell_type": "code",
   "execution_count": null,
   "metadata": {
    "ExecuteTime": {
     "end_time": "2017-12-13T02:22:19.758772Z",
     "start_time": "2017-12-13T02:22:18.324966Z"
    }
   },
   "outputs": [],
   "source": [
    "# 個別銘柄の決算ページを開く\n",
    "code = 1301 # トヨタ\n",
    "\n",
    "print('Navigating...', file=sys.stderr)\n",
    "browser.open('https://s.kabutan.jp/stock/finance?code={0}&mode=k'.format(code))\n",
    "\n",
    "# 決算ページにいることを確認する\n",
    "assert '決算' in browser.parsed.title.string\n",
    "\n",
    "# print(browser.select('.kobetsu_data_table1_meigara')[0].text.strip())"
   ]
  },
  {
   "cell_type": "markdown",
   "metadata": {},
   "source": [
    "## html 全体の取得と保存"
   ]
  },
  {
   "cell_type": "code",
   "execution_count": null,
   "metadata": {
    "ExecuteTime": {
     "end_time": "2017-12-13T02:22:26.701699Z",
     "start_time": "2017-12-13T02:22:26.698512Z"
    },
    "collapsed": true
   },
   "outputs": [],
   "source": [
    "kessan_html = browser.find()"
   ]
  },
  {
   "cell_type": "code",
   "execution_count": null,
   "metadata": {
    "ExecuteTime": {
     "end_time": "2017-11-25T23:37:39.426657Z",
     "start_time": "2017-11-25T23:37:38.973948Z"
    },
    "collapsed": true
   },
   "outputs": [],
   "source": [
    "kessan_html"
   ]
  },
  {
   "cell_type": "code",
   "execution_count": null,
   "metadata": {
    "ExecuteTime": {
     "end_time": "2017-12-13T02:22:37.326083Z",
     "start_time": "2017-12-13T02:22:36.889110Z"
    },
    "collapsed": true
   },
   "outputs": [],
   "source": [
    "tables = pd.read_html(str(kessan_html), header=0)"
   ]
  },
  {
   "cell_type": "code",
   "execution_count": null,
   "metadata": {
    "ExecuteTime": {
     "end_time": "2017-12-13T02:22:38.298898Z",
     "start_time": "2017-12-13T02:22:38.280888Z"
    }
   },
   "outputs": [],
   "source": [
    "tables[11]"
   ]
  },
  {
   "cell_type": "code",
   "execution_count": null,
   "metadata": {
    "ExecuteTime": {
     "end_time": "2017-11-19T09:44:22.328443Z",
     "start_time": "2017-11-19T09:44:22.288871Z"
    },
    "collapsed": true
   },
   "outputs": [],
   "source": [
    "# 後でhtml形式で読み込み可能なファイルとして書き出す方法\n",
    "kabutan_kessan = open('kabutan_kessan.html', 'w')\n",
    "kabutan_kessan.write(str(browser.find()))\n",
    "kabutan_kessan.close()"
   ]
  },
  {
   "cell_type": "code",
   "execution_count": null,
   "metadata": {
    "ExecuteTime": {
     "end_time": "2017-11-19T09:50:46.983821Z",
     "start_time": "2017-11-19T09:50:46.517083Z"
    }
   },
   "outputs": [],
   "source": [
    "# 保存したhtmlファイルからの読み込み\n",
    "tables = pd.read_html('/Users/Really/Stockyard/kabutan_kessan.html', header=0)"
   ]
  },
  {
   "cell_type": "markdown",
   "metadata": {},
   "source": [
    "## html 内のテーブル属性のみの取得と保存"
   ]
  },
  {
   "cell_type": "code",
   "execution_count": null,
   "metadata": {
    "ExecuteTime": {
     "end_time": "2017-11-18T17:09:47.302413Z",
     "start_time": "2017-11-18T17:09:46.257876Z"
    },
    "collapsed": true
   },
   "outputs": [],
   "source": [
    "tables = pd.read_html(str(browser.select('table')), header=0)\n",
    "tables[11]"
   ]
  },
  {
   "cell_type": "code",
   "execution_count": null,
   "metadata": {
    "ExecuteTime": {
     "end_time": "2017-11-19T09:45:56.581738Z",
     "start_time": "2017-11-19T09:45:56.541288Z"
    },
    "collapsed": true
   },
   "outputs": [],
   "source": [
    "# 後でhtml形式で読み込み可能なファイルとして書き出す方法\n",
    "kabutan_kessan_tables = open('kabutan_kessan_tables.html', 'w')\n",
    "kabutan_kessan_tables.write(str(browser.select('table')))\n",
    "kabutan_kessan_tables.close()"
   ]
  },
  {
   "cell_type": "code",
   "execution_count": null,
   "metadata": {
    "ExecuteTime": {
     "end_time": "2017-11-18T16:31:30.894688Z",
     "start_time": "2017-11-18T16:31:30.891290Z"
    }
   },
   "outputs": [],
   "source": [
    "# 保存したhtmlファイルからの読み込み\n",
    "tables = pd.read_html('/Users/Really/Stockyard/kabutan_kessan_tables.html', header=0)"
   ]
  },
  {
   "cell_type": "markdown",
   "metadata": {},
   "source": [
    "# (準備) 全テーブル内容の確認"
   ]
  },
  {
   "cell_type": "code",
   "execution_count": null,
   "metadata": {
    "ExecuteTime": {
     "end_time": "2017-12-07T03:21:35.982964Z",
     "start_time": "2017-12-07T03:21:35.451755Z"
    }
   },
   "outputs": [],
   "source": [
    "# 保存した html からテーブル属性を読み込み\n",
    "tables = pd.read_html('/Users/Really/Stockyard/_kabutan_html/kabutan_{0}.html'.format(code), header=0)"
   ]
  },
  {
   "cell_type": "raw",
   "metadata": {},
   "source": [
    "# 14 以降はテーブル数が動的に変化する\n",
    "\n",
    "#  0 主要指標情報 日経平均\n",
    "#  1 主要指標情報 米ドル円\n",
    "#  2 主要指標情報 ＮＹダウ (終値)\n",
    "#  3 主要指標情報 上海総合 (終値)\n",
    "#  4 検索窓\n",
    "#  5 銘柄概要\n",
    "#  6 銘柄概要\n",
    "#  7 銘柄概要\n",
    "#  8 銘柄概要\n",
    "#  9 ＰＥＲ ＰＢＲ 利回り 信用倍率\n",
    "# 10 通期業績\n",
    "# 11 業績予想修正履歴 - 新規上場銘柄の場合は空\n",
    "# 12 不明\n",
    "# 13 修正履歴修正方向 - このテーブルの数が増減する\n",
    "#  - 過去最高 【実績】 - 新規上場銘柄の場合はない\n",
    "#  - 下期業績\n",
    "#  - 第２四半期累計決算【実績】\n",
    "#  - ３ヵ月業績の推移【実績】 - 新規上場銘柄の場合はない\n",
    "#  - 財務 【実績】\n",
    "#  - 日経平均チャート切り替え"
   ]
  },
  {
   "cell_type": "code",
   "execution_count": null,
   "metadata": {
    "ExecuteTime": {
     "end_time": "2017-12-13T02:28:41.917193Z",
     "start_time": "2017-12-13T02:28:41.905594Z"
    }
   },
   "outputs": [],
   "source": [
    "# ページ上部の主要指標情報 1-4の各項目と同じところっぽい\n",
    "tables[0]"
   ]
  },
  {
   "cell_type": "code",
   "execution_count": null,
   "metadata": {
    "ExecuteTime": {
     "end_time": "2017-12-13T02:28:42.954512Z",
     "start_time": "2017-12-13T02:28:42.943968Z"
    },
    "code_folding": []
   },
   "outputs": [],
   "source": [
    "# 主要指標情報 日経平均\n",
    "tables[1]"
   ]
  },
  {
   "cell_type": "code",
   "execution_count": null,
   "metadata": {
    "ExecuteTime": {
     "end_time": "2017-12-13T02:28:48.343645Z",
     "start_time": "2017-12-13T02:28:48.319479Z"
    },
    "code_folding": []
   },
   "outputs": [],
   "source": [
    "# 主要指標情報 米ドル円\n",
    "tables[2]"
   ]
  },
  {
   "cell_type": "code",
   "execution_count": null,
   "metadata": {
    "ExecuteTime": {
     "end_time": "2017-12-13T02:28:49.456787Z",
     "start_time": "2017-12-13T02:28:49.447703Z"
    },
    "code_folding": []
   },
   "outputs": [],
   "source": [
    "# 主要指標情報 ＮＹダウ (終値)\n",
    "tables[3]"
   ]
  },
  {
   "cell_type": "code",
   "execution_count": null,
   "metadata": {
    "ExecuteTime": {
     "end_time": "2017-12-13T02:28:52.122552Z",
     "start_time": "2017-12-13T02:28:52.103402Z"
    },
    "code_folding": []
   },
   "outputs": [],
   "source": [
    "# 主要指標情報 上海総合 (終値)\n",
    "tables[4]"
   ]
  },
  {
   "cell_type": "code",
   "execution_count": null,
   "metadata": {
    "ExecuteTime": {
     "end_time": "2017-12-13T02:28:53.270475Z",
     "start_time": "2017-12-13T02:28:53.263209Z"
    }
   },
   "outputs": [],
   "source": [
    "# 検索窓\n",
    "tables[5]"
   ]
  },
  {
   "cell_type": "code",
   "execution_count": null,
   "metadata": {
    "ExecuteTime": {
     "end_time": "2017-12-13T02:28:55.058597Z",
     "start_time": "2017-12-13T02:28:55.047202Z"
    }
   },
   "outputs": [],
   "source": [
    "# 銘柄概要\n",
    "tables[6]"
   ]
  },
  {
   "cell_type": "code",
   "execution_count": null,
   "metadata": {
    "ExecuteTime": {
     "end_time": "2017-12-13T02:28:56.048082Z",
     "start_time": "2017-12-13T02:28:56.040173Z"
    }
   },
   "outputs": [],
   "source": [
    "# 銘柄概要\n",
    "tables[7]"
   ]
  },
  {
   "cell_type": "code",
   "execution_count": null,
   "metadata": {
    "ExecuteTime": {
     "end_time": "2017-12-13T02:28:56.983148Z",
     "start_time": "2017-12-13T02:28:56.967136Z"
    }
   },
   "outputs": [],
   "source": [
    "# 銘柄概要\n",
    "tables[8]"
   ]
  },
  {
   "cell_type": "code",
   "execution_count": null,
   "metadata": {
    "ExecuteTime": {
     "end_time": "2017-12-13T02:28:58.759003Z",
     "start_time": "2017-12-13T02:28:58.751199Z"
    }
   },
   "outputs": [],
   "source": [
    "# 銘柄概要\n",
    "tables[9]"
   ]
  },
  {
   "cell_type": "code",
   "execution_count": null,
   "metadata": {
    "ExecuteTime": {
     "end_time": "2017-12-13T02:28:59.848969Z",
     "start_time": "2017-12-13T02:28:59.833659Z"
    }
   },
   "outputs": [],
   "source": [
    "# ＰＥＲ ＰＢＲ 利回り 信用倍率\n",
    "tables[10]"
   ]
  },
  {
   "cell_type": "code",
   "execution_count": null,
   "metadata": {
    "ExecuteTime": {
     "end_time": "2017-12-13T02:29:01.745999Z",
     "start_time": "2017-12-13T02:29:01.736184Z"
    }
   },
   "outputs": [],
   "source": [
    "# 通期業績\n",
    "tables[11]\n",
    "# 株プロに無い項目: １株配"
   ]
  },
  {
   "cell_type": "code",
   "execution_count": null,
   "metadata": {
    "ExecuteTime": {
     "end_time": "2017-12-13T02:29:02.926704Z",
     "start_time": "2017-12-13T02:29:02.902708Z"
    }
   },
   "outputs": [],
   "source": [
    "# 業績予想修正履歴\n",
    "tables[12]"
   ]
  },
  {
   "cell_type": "code",
   "execution_count": null,
   "metadata": {
    "ExecuteTime": {
     "end_time": "2017-12-13T02:29:05.962001Z",
     "start_time": "2017-12-13T02:29:05.952435Z"
    }
   },
   "outputs": [],
   "source": [
    "# 不明\n",
    "tables[13]"
   ]
  },
  {
   "cell_type": "code",
   "execution_count": null,
   "metadata": {
    "ExecuteTime": {
     "end_time": "2017-12-13T02:29:09.214024Z",
     "start_time": "2017-12-13T02:29:09.191379Z"
    }
   },
   "outputs": [],
   "source": [
    "# 修正履歴修正方向\n",
    "tables[14]"
   ]
  },
  {
   "cell_type": "code",
   "execution_count": null,
   "metadata": {
    "ExecuteTime": {
     "end_time": "2017-12-13T02:29:11.131998Z",
     "start_time": "2017-12-13T02:29:10.816671Z"
    }
   },
   "outputs": [],
   "source": [
    "tables[15]"
   ]
  },
  {
   "cell_type": "code",
   "execution_count": null,
   "metadata": {
    "ExecuteTime": {
     "end_time": "2017-12-13T02:29:14.257863Z",
     "start_time": "2017-12-13T02:29:14.247673Z"
    }
   },
   "outputs": [],
   "source": [
    "tables[16]"
   ]
  },
  {
   "cell_type": "code",
   "execution_count": null,
   "metadata": {
    "ExecuteTime": {
     "end_time": "2017-12-07T03:21:57.596690Z",
     "start_time": "2017-12-07T03:21:57.589254Z"
    }
   },
   "outputs": [],
   "source": [
    "tables[17]"
   ]
  },
  {
   "cell_type": "code",
   "execution_count": null,
   "metadata": {
    "ExecuteTime": {
     "end_time": "2017-12-07T03:21:59.690771Z",
     "start_time": "2017-12-07T03:21:59.683529Z"
    }
   },
   "outputs": [],
   "source": [
    "tables[18]"
   ]
  },
  {
   "cell_type": "code",
   "execution_count": null,
   "metadata": {
    "ExecuteTime": {
     "end_time": "2017-12-07T03:22:00.615335Z",
     "start_time": "2017-12-07T03:22:00.607382Z"
    }
   },
   "outputs": [],
   "source": [
    "tables[19]"
   ]
  },
  {
   "cell_type": "code",
   "execution_count": null,
   "metadata": {
    "ExecuteTime": {
     "end_time": "2017-12-07T03:22:01.561745Z",
     "start_time": "2017-12-07T03:22:01.554354Z"
    }
   },
   "outputs": [],
   "source": [
    "tables[20]"
   ]
  },
  {
   "cell_type": "code",
   "execution_count": null,
   "metadata": {
    "ExecuteTime": {
     "end_time": "2017-12-07T03:22:02.538294Z",
     "start_time": "2017-12-07T03:22:02.525686Z"
    }
   },
   "outputs": [],
   "source": [
    "tables[21]"
   ]
  },
  {
   "cell_type": "code",
   "execution_count": null,
   "metadata": {
    "ExecuteTime": {
     "end_time": "2017-12-07T03:22:16.455216Z",
     "start_time": "2017-12-07T03:22:16.437961Z"
    }
   },
   "outputs": [],
   "source": [
    "tables[22]"
   ]
  },
  {
   "cell_type": "code",
   "execution_count": null,
   "metadata": {
    "ExecuteTime": {
     "end_time": "2017-12-07T03:22:20.173226Z",
     "start_time": "2017-12-07T03:22:20.143507Z"
    }
   },
   "outputs": [],
   "source": [
    "tables[23]"
   ]
  },
  {
   "cell_type": "code",
   "execution_count": null,
   "metadata": {
    "ExecuteTime": {
     "end_time": "2017-12-07T03:22:42.837907Z",
     "start_time": "2017-12-07T03:22:42.829704Z"
    }
   },
   "outputs": [],
   "source": [
    "tables[24]"
   ]
  },
  {
   "cell_type": "code",
   "execution_count": null,
   "metadata": {
    "ExecuteTime": {
     "end_time": "2017-12-07T03:22:46.311863Z",
     "start_time": "2017-12-07T03:22:46.304526Z"
    }
   },
   "outputs": [],
   "source": [
    "tables[25]"
   ]
  },
  {
   "cell_type": "code",
   "execution_count": null,
   "metadata": {
    "ExecuteTime": {
     "end_time": "2017-12-07T03:22:47.394770Z",
     "start_time": "2017-12-07T03:22:47.379478Z"
    }
   },
   "outputs": [],
   "source": [
    "tables[26]"
   ]
  },
  {
   "cell_type": "code",
   "execution_count": null,
   "metadata": {
    "ExecuteTime": {
     "end_time": "2017-12-07T03:22:53.174528Z",
     "start_time": "2017-12-07T03:22:53.149620Z"
    }
   },
   "outputs": [],
   "source": [
    "tables[27]"
   ]
  },
  {
   "cell_type": "code",
   "execution_count": null,
   "metadata": {
    "ExecuteTime": {
     "end_time": "2017-12-07T03:22:59.890464Z",
     "start_time": "2017-12-07T03:22:59.864205Z"
    }
   },
   "outputs": [],
   "source": [
    "tables[28]"
   ]
  },
  {
   "cell_type": "code",
   "execution_count": null,
   "metadata": {
    "ExecuteTime": {
     "end_time": "2017-12-07T03:23:03.943354Z",
     "start_time": "2017-12-07T03:23:03.935286Z"
    }
   },
   "outputs": [],
   "source": [
    "tables[29]"
   ]
  },
  {
   "cell_type": "code",
   "execution_count": null,
   "metadata": {
    "collapsed": true
   },
   "outputs": [],
   "source": []
  }
 ],
 "metadata": {
  "kernelspec": {
   "display_name": "Python 3",
   "language": "python",
   "name": "python3"
  },
  "language_info": {
   "codemirror_mode": {
    "name": "ipython",
    "version": 3
   },
   "file_extension": ".py",
   "mimetype": "text/x-python",
   "name": "python",
   "nbconvert_exporter": "python",
   "pygments_lexer": "ipython3",
   "version": "3.6.4"
  },
  "toc": {
   "nav_menu": {},
   "number_sections": true,
   "sideBar": true,
   "skip_h1_title": false,
   "toc_cell": false,
   "toc_position": {},
   "toc_section_display": "block",
   "toc_window_display": false
  },
  "varInspector": {
   "cols": {
    "lenName": 16,
    "lenType": 16,
    "lenVar": 40
   },
   "kernels_config": {
    "python": {
     "delete_cmd_postfix": "",
     "delete_cmd_prefix": "del ",
     "library": "var_list.py",
     "varRefreshCmd": "print(var_dic_list())"
    },
    "r": {
     "delete_cmd_postfix": ") ",
     "delete_cmd_prefix": "rm(",
     "library": "var_list.r",
     "varRefreshCmd": "cat(var_dic_list()) "
    }
   },
   "position": {
    "height": "362px",
    "left": "983px",
    "right": "24px",
    "top": "120px",
    "width": "346px"
   },
   "types_to_exclude": [
    "module",
    "function",
    "builtin_function_or_method",
    "instance",
    "_Feature"
   ],
   "window_display": false
  }
 },
 "nbformat": 4,
 "nbformat_minor": 2
}
