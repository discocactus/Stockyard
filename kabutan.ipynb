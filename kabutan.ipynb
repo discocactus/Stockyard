{
 "cells": [
  {
   "cell_type": "markdown",
   "metadata": {},
   "source": [
    "# memo"
   ]
  },
  {
   "cell_type": "raw",
   "metadata": {},
   "source": [
    "# ※単位：売上高、営業益、経常益、最終益は「百万円」。１株益、１株配は「円」。率は「％」\n",
    "\n",
    "# ※１株純資産は「円」。自己資本比率は「％」。総資産、自己資本、剰余金は「百万円」。有利子負債倍率は「倍」\n",
    "\n",
    "# ・「連」：日本会計基準［連結決算］、「単」：日本会計基準［非連結決算(単独決算)］、「U」：米国会計基準、「I」：国際会計基準(IFRS)、\n",
    "# 「予」：予想業績、「旧」：修正前の予想業績、「新」：修正後の予想業績、「実」：実績業績、「変」：決算期変更\n",
    "\n",
    "# ・［連結／非連結］決算区分の変更があった場合は、連続的に業績推移を追えるように、連結と非連結を混在して表示しています。\n",
    "# 連結と非連結が混在しない場合は、「連」「単」表記は省略します。\n",
    "\n",
    "# ・前期比および前年同期比は、会計基準や決算期間が異なる場合は比較できないため、「－」で表記しています。\n",
    "\n",
    "# ・米国会計基準と国際会計基準では、「経常益」欄の数値は「税引き前利益」を表記しています。\n",
    "\n",
    "# ・業績予想がレンジで開示された場合は中央値を表記しています。"
   ]
  },
  {
   "cell_type": "raw",
   "metadata": {},
   "source": [
    "# 25935 伊藤園第1種優先株式 ない\n",
    "\n",
    "# 銘柄によってテーブルの構成が違う (例) 7203 トヨタ 28 個、9432 NTT 29 個\n",
    "# 修正方向の矢印のパターンの数でテーブル数が動的に変わる?\n",
    "# 列数が 5 以下のテーブルを削除 → 原則、各銘柄テーブル数は 10 個固定で大丈夫?\n",
    "# 新規上場銘柄には存在しないテーブルがある (例) 3995 SKIYAKI 過去最高と３ヵ月業績の推移が無い、業績予想の修正履歴は空)\n",
    "# → 数銘柄だけのはずなので、例外としてパスして後でマニュアル処理する?\n",
    "\n",
    "# 2000年以前の財務実績の発表日は全体的に信用できない\n",
    "# 1998年は何らかの日付で固定 or 捨て、1999年と2000年は通期業績の発表日と同じにする"
   ]
  },
  {
   "cell_type": "raw",
   "metadata": {},
   "source": [
    "# ahaha infomation\n",
    "\n",
    "# 【 株探：HTMLから解析する際の注意点 】\n",
    "\n",
    "# １．業績予想は、修正されていない場合は通期実績欄にしか情報が無い。\n",
    "# ２．3ヶ月単位業績に、銘柄によって予想があったり無かったりする。\n",
    "\n",
    "# －－－－\n",
    "\n",
    "# 【株探：CSV利用時の注意点】\n",
    "\n",
    "# １．業績予測以外は、業績実績を修正しても、「発表日」は反映されない。　 \n",
    "# → トレードシステム作る時は、先に取得したデータを優先させる必要あり。\n",
    "\n",
    "# ２．「適時開示」したタイミングで、公表データ以外の過去実績データも更新される事がある。\n",
    "# → トレードシステム作る時は、先に取得したデータを優先させる必要あり。\n",
    "\n",
    "# ３．「通期業績」で同じ「発表日」に、複数の決算期の発表をしていることがある。「財務 実績」は重複なし。\n",
    "\n",
    "# 「通期業績」：１５銘柄\n",
    "# ['8215', '2374', '8439', '6727', '4924', '2763', '2349', '2754', '2300', '4321', '4337', '4316', '7847', '8628', '2721']\n",
    "\n",
    "# ４．発表日がNaTの場合がけっこうある。\n",
    "\n",
    "# 特に2000年3月期データの発表日が無いデータが多い（1216銘柄）。　\n",
    "# 「通期業績」と「財務 実績」それぞれの発表日でそれらしい方を選んで穴埋めした方がよさそう。\n",
    "\n",
    "# ６．発表日1990-08-01のデータはおかしい\n",
    "# 実際は、1998-10-20からというのが正しい。\n",
    "# 「2910」など８銘柄。　BS側のデータが間違えている。　PL側は正しい。　決算期は「1999.04」\n",
    "# 2910,3103,4203,5103,6103,6203,7203,8143\n",
    "\n",
    "# －－－－\n",
    "\n",
    "# ■ メモリ使用量\n",
    "\n",
    "# あと、メモリ使用量について調べてみた。\n",
    "\n",
    "# 今後の計算のために、\n",
    "# 横軸に「財務項目×全銘柄コード」という２段構成、\n",
    "# 縦軸には、日付（1998/10/20以降の全営業日）という贅沢テーブルを作ってみたら、\n",
    "# 計算過程で、最大＋７．５ＧＢに膨らんで、最終的には３ＧＢぐらいに戻った。　\n",
    "# ただ、価格データもメモリに載せると、あわせて１０ＧＢぐらいに一旦膨らんで、５．５ＧＢぐらいに戻る感じ。"
   ]
  },
  {
   "cell_type": "markdown",
   "metadata": {},
   "source": [
    "# import など準備"
   ]
  },
  {
   "cell_type": "markdown",
   "metadata": {},
   "source": [
    "## import, MySQL 接続"
   ]
  },
  {
   "cell_type": "code",
   "execution_count": null,
   "metadata": {
    "ExecuteTime": {
     "end_time": "2017-12-08T16:09:36.963728Z",
     "start_time": "2017-12-08T16:09:35.438914Z"
    },
    "code_folding": [],
    "collapsed": false
   },
   "outputs": [],
   "source": [
    "# import\n",
    "import sys\n",
    "import os\n",
    "import re\n",
    "import datetime as dt\n",
    "import time\n",
    "import importlib\n",
    "import logging\n",
    "import numpy as np\n",
    "import pandas as pd\n",
    "from robobrowser import RoboBrowser\n",
    "# from robobrowser.browser import RoboState\n",
    "from retry import retry\n",
    "from dateutil.parser import parse\n",
    "from datetime import datetime\n",
    "from IPython.display import display\n",
    "\n",
    "import stock"
   ]
  },
  {
   "cell_type": "code",
   "execution_count": null,
   "metadata": {
    "collapsed": true
   },
   "outputs": [],
   "source": [
    "importlib.reload(stock)"
   ]
  },
  {
   "cell_type": "code",
   "execution_count": null,
   "metadata": {
    "ExecuteTime": {
     "end_time": "2017-12-08T16:09:38.523366Z",
     "start_time": "2017-12-08T16:09:38.520173Z"
    },
    "collapsed": true
   },
   "outputs": [],
   "source": [
    "# pandas の最大表示列数を設定 (max_rows で表示行数の設定も可能)\n",
    "pd.set_option('display.max_columns', 30)"
   ]
  },
  {
   "cell_type": "code",
   "execution_count": null,
   "metadata": {
    "ExecuteTime": {
     "end_time": "2017-12-08T16:09:39.499689Z",
     "start_time": "2017-12-08T16:09:39.496770Z"
    },
    "collapsed": false
   },
   "outputs": [],
   "source": [
    "sql = stock.sql()"
   ]
  },
  {
   "cell_type": "markdown",
   "metadata": {},
   "source": [
    "## 比較参照用、株プロ決算の読み込み"
   ]
  },
  {
   "cell_type": "code",
   "execution_count": null,
   "metadata": {
    "ExecuteTime": {
     "end_time": "2017-11-30T22:48:16.984209Z",
     "start_time": "2017-11-30T22:48:16.981184Z"
    },
    "collapsed": true
   },
   "outputs": [],
   "source": [
    "table_name = 'kabupro_kessan'"
   ]
  },
  {
   "cell_type": "code",
   "execution_count": null,
   "metadata": {
    "ExecuteTime": {
     "end_time": "2017-11-30T22:48:40.663122Z",
     "start_time": "2017-11-30T22:48:36.151027Z"
    },
    "collapsed": false
   },
   "outputs": [],
   "source": [
    "kabupro = sql.read_table(table_name)"
   ]
  },
  {
   "cell_type": "code",
   "execution_count": null,
   "metadata": {
    "ExecuteTime": {
     "end_time": "2017-11-30T22:50:31.865897Z",
     "start_time": "2017-11-30T22:50:31.751462Z"
    },
    "collapsed": false
   },
   "outputs": [],
   "source": [
    "kabupro"
   ]
  },
  {
   "cell_type": "code",
   "execution_count": null,
   "metadata": {
    "ExecuteTime": {
     "end_time": "2017-11-29T17:41:52.402353Z",
     "start_time": "2017-11-29T17:41:52.389745Z"
    },
    "collapsed": false
   },
   "outputs": [],
   "source": [
    "kabupro.columns"
   ]
  },
  {
   "cell_type": "code",
   "execution_count": null,
   "metadata": {
    "ExecuteTime": {
     "end_time": "2017-11-28T20:02:31.051947Z",
     "start_time": "2017-11-28T20:02:31.037847Z"
    },
    "collapsed": true
   },
   "outputs": [],
   "source": [
    "kabupro.ix[14]\n",
    "# 株プロにしか無い項目: 希薄化後一株当り純利益, 純資産又は株主資本, 営業キャッシュフロー, 投資キャッシュフロー, 財務キャッシュフロー"
   ]
  },
  {
   "cell_type": "markdown",
   "metadata": {},
   "source": [
    "## 参考コード"
   ]
  },
  {
   "cell_type": "code",
   "execution_count": null,
   "metadata": {
    "code_folding": [
     0
    ],
    "collapsed": true
   },
   "outputs": [],
   "source": [
    "def get_price_yahoojp(code, start=None, end=None, interval='d'): # start = '2017-01-01'\n",
    "    # http://sinhrks.hatenablog.com/entry/2015/02/04/002258\n",
    "    # http://jbclub.xii.jp/?p=598\n",
    "    base = 'http://info.finance.yahoo.co.jp/history/?code={0}.T&{1}&{2}&tm={3}&p={4}'\n",
    "    \n",
    "    start = pd.to_datetime(start) # Timestamp('2017-01-01 00:00:00')\n",
    "\n",
    "    if end == None:\n",
    "        end = pd.to_datetime(pd.datetime.now())\n",
    "    else :\n",
    "        end = pd.to_datetime(end)\n",
    "    start = 'sy={0}&sm={1}&sd={2}'.format(start.year, start.month, start.day) # 'sy=2017&sm=1&sd=1'\n",
    "    end = 'ey={0}&em={1}&ed={2}'.format(end.year, end.month, end.day)\n",
    "    p = 1\n",
    "    tmp_result = []\n",
    "\n",
    "    if interval not in ['d', 'w', 'm', 'v']:\n",
    "        raise ValueError(\"Invalid interval: valid values are 'd', 'w', 'm' and 'v'\")\n",
    "\n",
    "    while True:\n",
    "        url = base.format(code, start, end, interval, p)\n",
    "        # print(url)\n",
    "        # https://info.finance.yahoo.co.jp/history/?code=7203.T&sy=2000&sm=1&sd=1&ey=2017&em=10&ed=13&tm=d&p=1\n",
    "        tables = get_table(url)\n",
    "        if len(tables) < 2 or len(tables[1]) == 0:\n",
    "            # print('break')\n",
    "            break\n",
    "        tmp_result.append(tables[1]) # ページ内の3つのテーブルのうち2番目のテーブルを連結\n",
    "        p += 1\n",
    "        # print(p)\n",
    "        \n",
    "    result = pd.concat(tmp_result, ignore_index=True) # インデックスをゼロから振り直す\n",
    "\n",
    "    result.columns = ['Date', 'Open', 'High', 'Low', 'Close', 'Volume', 'AdjClose'] # 列名を変更\n",
    "    if interval == 'm':\n",
    "        result['Date'] = pd.to_datetime(result['Date'], format='%Y年%m月')\n",
    "    else:\n",
    "        result['Date'] = pd.to_datetime(result['Date'], format='%Y年%m月%d日') # 日付の表記を変更\n",
    "    result = result.set_index('Date') # インデックスを日付に変更\n",
    "    result = result.sort_index()\n",
    "    \n",
    "    stock_name = tables[0].columns[0]\n",
    "    # print([code, stock_name])\n",
    "    \n",
    "    return [result, stock_name]"
   ]
  },
  {
   "cell_type": "code",
   "execution_count": null,
   "metadata": {
    "code_folding": [
     0
    ],
    "collapsed": true
   },
   "outputs": [],
   "source": [
    "# yahoo 初回連続読み込み\n",
    "# 読み込み期間の設定\n",
    "start = '2000-01-01'\n",
    "end = None\n",
    "\n",
    "# ロガー設定\n",
    "start_time = dt.datetime.now()\n",
    "logging.basicConfig(filename='get_price_{0}.log'.format(start_time.strftime('%Y-%m-%d')), filemode='w', level=logging.INFO)\n",
    "logging.info('{0} get_price Started'.format(start_time.strftime('%Y-%m-%d %H:%M:%S')))\n",
    "\n",
    "sql = stock.sql() # MySQLに接続するクラスインスタンスを作成\n",
    "\n",
    "info = sql.get_info() # 保存済み info の読み込み\n",
    "failed = [] # 読み込みに失敗した銘柄のコードを書き込むリストを作成\n",
    "save_failed = [] # 保存のみ失敗した分\n",
    "\n",
    "# 連続読み込み書き込み\n",
    "for index in range(len(reading_code)):\n",
    "    code = reading_code[index]\n",
    "    \n",
    "    try:\n",
    "        time.sleep(5)\n",
    "        \n",
    "        # Yahooファイナスンスから時系列情報と銘柄名を取得\n",
    "        tmp_price, stock_name = stock.get_price_yahoojp(code, start=start, end=end)\n",
    "        \n",
    "        # 価格と価格以外の情報を分離\n",
    "        tmp_info = tmp_price[tmp_price.isnull().any(axis=1)].reset_index()\n",
    "        if len(tmp_info) > 0:\n",
    "            new_info = stock.reform_info(tmp_info, code, stock_name)\n",
    "            info = info.append(new_info, ignore_index=True)\n",
    "        \n",
    "            price = stock.extract_price(tmp_price)\n",
    "            \n",
    "        else:\n",
    "            price = tmp_price # 価格以外の情報がなければそのまま\n",
    "            \n",
    "        try:\n",
    "            # CSVで保存\n",
    "            price.to_csv('/Users/Really/Stockyard/_csv/t_{0}.csv'.format(code))\n",
    "            info.to_csv('/Users/Really/Stockyard/_csv/info.csv')\n",
    "            # MySQLに保存\n",
    "            sql.write_price(code, price)\n",
    "            sql.write_info('info', info)\n",
    "          \n",
    "            print('{0}: Success {1}'.format(index, code))\n",
    "            \n",
    "        except Exception as e:\n",
    "            logging.warning('{0} {1}: {2}'.format(dt.datetime.now().strftime('%Y-%m-%d %H:%M:%S'), code, e))\n",
    "            save_failed.append(code)\n",
    "            print('{0}: Failed in {1} at Save Data'.format(index, code))\n",
    "            print(e)\n",
    "            \n",
    "    except Exception as e:\n",
    "        logging.warning('{0} {1}: {2}'.format(dt.datetime.now().strftime('%Y-%m-%d %H:%M:%S'), code, e))\n",
    "        failed.append(code)\n",
    "        print('{0}: Failed in {1} at get_price'.format(index, code))\n",
    "        print(e)\n",
    "\n",
    "print('Failed in {0} stocks at get:'.format(len(failed)))\n",
    "print(failed)\n",
    "print('Failed in {0} stocks at save:'.format(len(save_failed)))\n",
    "print(save_failed)\n",
    "\n",
    "# 最後にinfoの重複と順序を整理してから再度保存\n",
    "info = info.drop_duplicates()\n",
    "info = info.sort_values(by=['Code', 'Date'])\n",
    "info.to_csv('/Users/Really/Stockyard/_csv/info.csv')\n",
    "sql.write_info('info', info)\n",
    "\n",
    "logging.info('{0} get_price Finished'.format(dt.datetime.now().strftime('%Y-%m-%d %H:%M:%S')))"
   ]
  },
  {
   "cell_type": "code",
   "execution_count": null,
   "metadata": {
    "code_folding": [
     0
    ],
    "collapsed": true
   },
   "outputs": [],
   "source": [
    "%%writefile amazon_order_history.py\n",
    "\n",
    "# Amazon.co.jpの注文履歴を取得する\n",
    "\n",
    "import sys\n",
    "import os\n",
    "from robobrowser import RoboBrowser\n",
    "\n",
    "# 認証の情報は環境変数から取得する\n",
    "AMAZON_EMAIL = os.environ['AMAZON_EMAIL']\n",
    "AMAZON_PASSWORD = os.environ['AMAZON_PASSWORD']\n",
    "\n",
    "# RoboBrowserオブジェクトを作成する\n",
    "browser = RoboBrowser(\n",
    "    parser='html.parser', # Beatiful Soupで使用するパーサーを指定\n",
    "    # Cookieが使用できないと表示されてログインできない問題を回避するため\n",
    "    # 通常のブラウザーのUser-Agent(ここではFirefoxのもの)を使う\n",
    "    user_agent='Mozilla/5.0 (Macintosh; Intel Mac OS X 10.10; rv:45.0) Gecko/20100101 Firefox/45.0')\n",
    "\n",
    "\n",
    "def main():\n",
    "    # 注文履歴のページを開く\n",
    "    print('Navigating...', file=sys.stderr)\n",
    "    browser.open('https://www.amazon.co.jp/gp/css/order-history')\n",
    "    \n",
    "    # サインインページにリダイレクトされていることを確認する\n",
    "    assert 'Amazonサインイン' in browser.parsed.title.string\n",
    "    \n",
    "    # name=\"signIn\" というサインインフォームを埋める。\n",
    "    # フォームのname属性の値はブラウザーの開発者ツールで確認できる。\n",
    "    form = browser.get_form(attrs={'name': 'signIn'})\n",
    "    form['email'] = AMAZON_EMAIL\n",
    "    form['password'] = AMAZON_PASSWORD\n",
    "    \n",
    "    # フォームを送信する。正常にログインするにはRefererヘッダーとAccept-Languageヘッダーが必要。\n",
    "    print('Signing in...', file=sys.stderr)\n",
    "    browser.submit_form(form, headers={\n",
    "        'Referer': browser.url,\n",
    "        'Accept-Language': 'ja,en-US;q=0.7,en;q=0.3',\n",
    "    })\n",
    "    \n",
    "    # ログインに失敗する場合は、次の行のコメントを外してHTMLのソースを確認すると良い。\n",
    "    # print(browser.parsed.prettify())\n",
    "\n",
    "    # ページャーをたどる。\n",
    "    while True:\n",
    "        assert '注文履歴' in browser.parsed.title.string # 注文履歴画面が表示されていることを確認する。\n",
    "        \n",
    "        print_order_history() # 注文履歴を表示する。\n",
    "        \n",
    "        link_to_next = browser.get_link('次へ') #「次へ」というテキストを持つリンクを取得する。\n",
    "        if not link_to_next:\n",
    "            break #「次へ」のリンクがない場合はループを抜けて終了する。\n",
    "            \n",
    "        print('Following link to next page...', file=sys.stderr)\n",
    "        browser.follow_link(link_to_next) # 次へ」というリンクをたどる。\n",
    "        \n",
    "        \n",
    "def print_order_history():\n",
    "    \"\"\"\n",
    "    現在のページのすべての注文履歴を表示する\n",
    "    \"\"\"\n",
    "    for line_item in browser.select('.order-info'):\n",
    "        order = {} # 注文の情報を格納するためのdict\n",
    "        # ページ内のすべての注文履歴について反復する。ブラウザーの開発者ツールでclass属性の値を確認できる\n",
    "        # 注文の情報のすべての列について反復する\n",
    "        for column in line_item.select('.a-column'):\n",
    "            label_element = column.select_one('.label')\n",
    "            value_element = column.select_one('.value')\n",
    "            # ラベルと値がない列は無視する。\n",
    "            if label_element and value_element:\n",
    "                label = label_element.get_text().strip()\n",
    "                value = value_element.get_text().strip()\n",
    "                order[label] = value\n",
    "        print(order['注文日'], order['合計']) # 注文の情報を表示する。\n",
    "        \n",
    "\n",
    "if __name__ == '__main__':\n",
    "    main()"
   ]
  },
  {
   "cell_type": "code",
   "execution_count": null,
   "metadata": {
    "collapsed": true
   },
   "outputs": [],
   "source": [
    "!forego run python amazon_order_history.py"
   ]
  },
  {
   "cell_type": "markdown",
   "metadata": {},
   "source": [
    "# ログイン。入力したメアドとパスワードが出力に表示されてしまうのでそのままでGitHubに上げちゃダメ！ログインを済ませたら必ずすぐにクリア！"
   ]
  },
  {
   "cell_type": "markdown",
   "metadata": {},
   "source": [
    "__TODO__ forego を利用してログイン情報を隠せないか検討"
   ]
  },
  {
   "cell_type": "code",
   "execution_count": null,
   "metadata": {
    "ExecuteTime": {
     "end_time": "2017-12-08T16:15:48.151277Z",
     "start_time": "2017-12-08T16:15:30.947362Z"
    },
    "code_folding": [],
    "collapsed": false
   },
   "outputs": [],
   "source": [
    "# sign-in\n",
    "# 認証の情報\n",
    "KT_EMAIL = input('Name?')\n",
    "KT_PASSWORD = input('Password?')\n",
    "\n",
    "# RoboBrowserオブジェクトを作成する\n",
    "browser = RoboBrowser(\n",
    "    parser='html.parser', # Beatiful Soupで使用するパーサーを指定\n",
    "    # Cookieが使用できないと表示されてログインできない問題を回避するため\n",
    "    # 通常のブラウザーのUser-Agent(ここではFirefoxのもの)を使う\n",
    "    user_agent='Mozilla/5.0 (Macintosh; Intel Mac OS X 10.10; rv:45.0) Gecko/20100101 Firefox/45.0')\n",
    "\n",
    "# ログインページを開く\n",
    "print('Navigating...', file=sys.stderr)\n",
    "browser.open('https://account.kabutan.jp/login')\n",
    "\n",
    "# 株探プレミアムページにいることを確認する\n",
    "assert '株探プレミアム' in browser.parsed.title.string\n",
    "\n",
    "# name=\"signIn\" というサインインフォームを埋める。\n",
    "# フォームのname属性の値はブラウザーの開発者ツールで確認できる。\n",
    "form = browser.get_form(action='/login')\n",
    "form['session[email]'] = KT_EMAIL\n",
    "form['session[password]'] = KT_PASSWORD\n",
    "\n",
    "# フォームを送信する。\n",
    "# 正常にログインするにはRefererヘッダーとAccept-Languageヘッダーが必要な場合がある。\n",
    "print('Signing in...', file=sys.stderr)\n",
    "browser.submit_form(form)\n",
    "\n",
    "print(browser.select('.is-success')[0].text.strip())"
   ]
  },
  {
   "cell_type": "markdown",
   "metadata": {},
   "source": [
    "# 銘柄コードリスト"
   ]
  },
  {
   "cell_type": "code",
   "execution_count": null,
   "metadata": {
    "ExecuteTime": {
     "end_time": "2017-12-08T16:09:50.549376Z",
     "start_time": "2017-12-08T16:09:50.104727Z"
    },
    "collapsed": false
   },
   "outputs": [],
   "source": [
    "domestic_stock_table = sql.read_table('domestic_stock_table')"
   ]
  },
  {
   "cell_type": "code",
   "execution_count": null,
   "metadata": {
    "ExecuteTime": {
     "end_time": "2017-12-08T16:09:51.326599Z",
     "start_time": "2017-12-08T16:09:51.262416Z"
    },
    "collapsed": true
   },
   "outputs": [],
   "source": [
    "domestic_stock_table"
   ]
  },
  {
   "cell_type": "code",
   "execution_count": null,
   "metadata": {
    "ExecuteTime": {
     "end_time": "2017-12-08T16:09:57.992765Z",
     "start_time": "2017-12-08T16:09:57.989409Z"
    },
    "collapsed": true
   },
   "outputs": [],
   "source": [
    "code_list = list(domestic_stock_table['code'])"
   ]
  },
  {
   "cell_type": "code",
   "execution_count": null,
   "metadata": {
    "ExecuteTime": {
     "end_time": "2017-12-08T16:10:00.464850Z",
     "start_time": "2017-12-08T16:10:00.461604Z"
    },
    "collapsed": true
   },
   "outputs": [],
   "source": [
    "# 伊藤園第1種優先株式を削除\n",
    "# 要素の値を直接指定して削除することができる\n",
    "code_list.remove(25935)"
   ]
  },
  {
   "cell_type": "code",
   "execution_count": null,
   "metadata": {
    "ExecuteTime": {
     "end_time": "2017-12-02T19:19:03.885726Z",
     "start_time": "2017-12-02T19:19:03.880893Z"
    },
    "collapsed": false,
    "scrolled": true
   },
   "outputs": [],
   "source": [
    "code_list[-10:]"
   ]
  },
  {
   "cell_type": "code",
   "execution_count": null,
   "metadata": {
    "ExecuteTime": {
     "end_time": "2017-12-08T16:10:04.017135Z",
     "start_time": "2017-12-08T16:10:04.012767Z"
    },
    "collapsed": false
   },
   "outputs": [],
   "source": [
    "len(code_list)"
   ]
  },
  {
   "cell_type": "code",
   "execution_count": null,
   "metadata": {
    "ExecuteTime": {
     "end_time": "2017-12-08T16:10:07.572256Z",
     "start_time": "2017-12-08T16:10:07.564611Z"
    },
    "collapsed": false
   },
   "outputs": [],
   "source": [
    "start_index = 0\n",
    "increase_number = 10\n",
    "end_index = start_index + increase_number\n",
    "# end_index = len(code_list)\n",
    "\n",
    "reading_code = code_list[start_index : end_index]\n",
    "print(reading_code[-10:])\n",
    "print('Next start from {0}'.format(start_index + increase_number))"
   ]
  },
  {
   "cell_type": "markdown",
   "metadata": {},
   "source": [
    "# 上場日本株全銘柄の決算ページの連続読み込み"
   ]
  },
  {
   "cell_type": "markdown",
   "metadata": {},
   "source": [
    "## get_html 関数 (retry 付き)"
   ]
  },
  {
   "cell_type": "code",
   "execution_count": null,
   "metadata": {
    "ExecuteTime": {
     "end_time": "2017-11-26T02:02:35.241845Z",
     "start_time": "2017-11-26T02:02:35.235280Z"
    },
    "collapsed": true
   },
   "outputs": [],
   "source": [
    "@retry(tries=5, delay=1, backoff=2)\n",
    "def get_html(url):\n",
    "    browser.open(url)\n",
    "    assert '決算' in browser.parsed.title.string # 決算ページにいることを確認する\n",
    "    stock_name = browser.select('.kobetsu_data_table1_meigara')[0].text.strip()\n",
    "    print('{0}: {1}'.format(code, stock_name))\n",
    "    result = browser.find()\n",
    "    \n",
    "    return result"
   ]
  },
  {
   "cell_type": "markdown",
   "metadata": {},
   "source": [
    "## 連続読み込み"
   ]
  },
  {
   "cell_type": "code",
   "execution_count": null,
   "metadata": {
    "ExecuteTime": {
     "end_time": "2017-11-26T06:30:28.354626Z",
     "start_time": "2017-11-26T02:15:25.717503Z"
    },
    "collapsed": true
   },
   "outputs": [],
   "source": [
    "# ロガー設定\n",
    "start_time = dt.datetime.now()\n",
    "logging.basicConfig(filename='get_kabutan_html_{0}.log'.format(start_time.strftime('%Y-%m-%d')), filemode='w', level=logging.INFO)\n",
    "logging.info('{0} get_html Started'.format(start_time.strftime('%Y-%m-%d %H:%M:%S')))\n",
    "\n",
    "failed = [] # 読み込みに失敗した銘柄のコードを書き込むリストを作成\n",
    "\n",
    "\n",
    "# 連続読み込み書き込み\n",
    "for index in range(len(reading_code)):\n",
    "    code = reading_code[index]\n",
    "    \n",
    "    try:\n",
    "        time.sleep(3 + np.random.randint(0, 3))\n",
    "        \n",
    "        url = 'https://kabutan.jp/stock/finance?code={0}&mode=k'.format(code)\n",
    "        result = get_html(url)\n",
    "\n",
    "        with open('/Users/Really/Stockyard/_kabutan_html/kabutan_{0}.html'.format(code), 'w') as write_html:\n",
    "            write_html.write(str(result))\n",
    "                    \n",
    "    except Exception as e:\n",
    "        logging.warning('{0} {1}: {2}'.format(dt.datetime.now().strftime('%Y-%m-%d %H:%M:%S'), code, e))\n",
    "        failed.append(code)\n",
    "        print('{0}: Failed in {1} at get_html'.format(index, code))\n",
    "        print(e)\n",
    "\n",
    "\n",
    "print('Failed in {0} stocks at get:'.format(len(failed)))\n",
    "print(failed)\n",
    "\n",
    "logging.info('{0} get_html Finished'.format(dt.datetime.now().strftime('%Y-%m-%d %H:%M:%S')))"
   ]
  },
  {
   "cell_type": "markdown",
   "metadata": {},
   "source": [
    "## 確認"
   ]
  },
  {
   "cell_type": "code",
   "execution_count": null,
   "metadata": {
    "ExecuteTime": {
     "end_time": "2017-12-06T01:01:35.817275Z",
     "start_time": "2017-12-06T01:01:35.814596Z"
    },
    "collapsed": true
   },
   "outputs": [],
   "source": [
    "code = 1301"
   ]
  },
  {
   "cell_type": "code",
   "execution_count": null,
   "metadata": {
    "ExecuteTime": {
     "end_time": "2017-12-06T01:01:38.786996Z",
     "start_time": "2017-12-06T01:01:38.375335Z"
    },
    "collapsed": false
   },
   "outputs": [],
   "source": [
    "# 保存した html からテーブルを読み込んでみる\n",
    "tables = pd.read_html('/Users/Really/Stockyard/_kabutan_html/kabutan_{0}.html'.format(code), header=0)"
   ]
  },
  {
   "cell_type": "code",
   "execution_count": null,
   "metadata": {
    "ExecuteTime": {
     "end_time": "2017-12-03T11:20:23.049675Z",
     "start_time": "2017-12-03T11:20:23.024091Z"
    },
    "collapsed": true
   },
   "outputs": [],
   "source": [
    "# 通期業績\n",
    "tables[11]"
   ]
  },
  {
   "cell_type": "code",
   "execution_count": null,
   "metadata": {
    "ExecuteTime": {
     "end_time": "2017-12-03T11:20:26.605366Z",
     "start_time": "2017-12-03T11:20:26.542230Z"
    },
    "collapsed": true
   },
   "outputs": [],
   "source": [
    "# 業績予想\n",
    "tables[12]"
   ]
  },
  {
   "cell_type": "markdown",
   "metadata": {},
   "source": [
    "__各銘柄のテーブル数をカウント__"
   ]
  },
  {
   "cell_type": "code",
   "execution_count": null,
   "metadata": {
    "ExecuteTime": {
     "end_time": "2017-12-02T19:55:28.705820Z",
     "start_time": "2017-12-02T19:31:17.585748Z"
    },
    "collapsed": false
   },
   "outputs": [],
   "source": [
    "table_qty = []\n",
    "\n",
    "for index in range(len(code_list)):\n",
    "    try:\n",
    "        tables = pd.read_html('/Users/Really/Stockyard/_kabutan_html/kabutan_{0}.html'.format(code_list[index]), header=0)\n",
    "        table_qty.append(len(tables))\n",
    "    except Exception as e:\n",
    "        print(code_list[index])\n",
    "        print(e)"
   ]
  },
  {
   "cell_type": "code",
   "execution_count": null,
   "metadata": {
    "ExecuteTime": {
     "end_time": "2017-12-02T19:56:39.466810Z",
     "start_time": "2017-12-02T19:56:39.462384Z"
    },
    "collapsed": false
   },
   "outputs": [],
   "source": [
    "len(table_qty)"
   ]
  },
  {
   "cell_type": "code",
   "execution_count": null,
   "metadata": {
    "ExecuteTime": {
     "end_time": "2017-12-02T19:57:46.951144Z",
     "start_time": "2017-12-02T19:57:46.946915Z"
    },
    "collapsed": false
   },
   "outputs": [],
   "source": [
    "max(table_qty)\n",
    "# 38"
   ]
  },
  {
   "cell_type": "code",
   "execution_count": null,
   "metadata": {
    "ExecuteTime": {
     "end_time": "2017-12-02T19:57:58.476821Z",
     "start_time": "2017-12-02T19:57:58.472452Z"
    },
    "collapsed": false
   },
   "outputs": [],
   "source": [
    "min(table_qty)\n",
    "# 17"
   ]
  },
  {
   "cell_type": "code",
   "execution_count": null,
   "metadata": {
    "ExecuteTime": {
     "end_time": "2017-12-02T20:01:33.947767Z",
     "start_time": "2017-12-02T20:01:33.942627Z"
    },
    "collapsed": false
   },
   "outputs": [],
   "source": [
    "# +1 はリストに 25935 が含まれていたため\n",
    "code_list[table_qty.index(max(table_qty))] # + 1\n",
    "# 9101"
   ]
  },
  {
   "cell_type": "code",
   "execution_count": null,
   "metadata": {
    "ExecuteTime": {
     "end_time": "2017-12-02T20:02:01.134328Z",
     "start_time": "2017-12-02T20:02:01.128966Z"
    },
    "collapsed": false
   },
   "outputs": [],
   "source": [
    "# +1 はリストに 25935 が含まれていたため\n",
    "code_list[table_qty.index(min(table_qty))] # + 1\n",
    "# 3995"
   ]
  },
  {
   "cell_type": "markdown",
   "metadata": {},
   "source": [
    "__各テーブルの列数の確認__"
   ]
  },
  {
   "cell_type": "code",
   "execution_count": null,
   "metadata": {
    "ExecuteTime": {
     "end_time": "2017-12-03T12:31:35.705502Z",
     "start_time": "2017-12-03T12:31:35.695853Z"
    },
    "collapsed": true
   },
   "outputs": [],
   "source": [
    "for table_number in range(len(tables)):\n",
    "    print('{0}: {1}'.format(table_number, len(tables[table_number].columns)))"
   ]
  },
  {
   "cell_type": "code",
   "execution_count": null,
   "metadata": {
    "ExecuteTime": {
     "end_time": "2017-12-03T12:32:26.741516Z",
     "start_time": "2017-12-03T12:32:26.645544Z"
    },
    "collapsed": true
   },
   "outputs": [],
   "source": [
    "for table_number in range(23, len(tables)):\n",
    "    print('table_number: {0}'.format(table_number))\n",
    "    display(tables[table_number])"
   ]
  },
  {
   "cell_type": "markdown",
   "metadata": {},
   "source": [
    "__列数が 5 以下のテーブルを削除して確認してみる__"
   ]
  },
  {
   "cell_type": "raw",
   "metadata": {},
   "source": [
    "# 9101"
   ]
  },
  {
   "cell_type": "code",
   "execution_count": null,
   "metadata": {
    "ExecuteTime": {
     "end_time": "2017-12-03T11:55:58.197299Z",
     "start_time": "2017-12-03T11:55:58.193998Z"
    },
    "collapsed": false
   },
   "outputs": [],
   "source": [
    "# 列数が 5 以下のテーブルを削除\n",
    "tables2 = list(filter(lambda x: len(x.columns) > 5, tables))"
   ]
  },
  {
   "cell_type": "code",
   "execution_count": null,
   "metadata": {
    "ExecuteTime": {
     "end_time": "2017-12-03T11:56:17.805442Z",
     "start_time": "2017-12-03T11:56:17.800962Z"
    },
    "collapsed": false
   },
   "outputs": [],
   "source": [
    "len(tables2)"
   ]
  },
  {
   "cell_type": "code",
   "execution_count": null,
   "metadata": {
    "ExecuteTime": {
     "end_time": "2017-12-03T12:04:15.894154Z",
     "start_time": "2017-12-03T12:04:15.669120Z"
    },
    "collapsed": true
   },
   "outputs": [],
   "source": [
    "for table_number in range(len(tables2)):\n",
    "    print('table_number: {0}'.format(table_number))\n",
    "    display(tables2[table_number])"
   ]
  },
  {
   "cell_type": "raw",
   "metadata": {},
   "source": [
    "# 3995\n",
    "# 新規上場銘柄のため、過去最高と３ヵ月業績の推移が無い"
   ]
  },
  {
   "cell_type": "code",
   "execution_count": null,
   "metadata": {
    "ExecuteTime": {
     "end_time": "2017-12-03T12:07:54.971409Z",
     "start_time": "2017-12-03T12:07:54.968081Z"
    },
    "collapsed": false
   },
   "outputs": [],
   "source": [
    "# 列数が 5 以下のテーブルを削除\n",
    "tables3 = list(filter(lambda x: len(x.columns) > 5, tables))"
   ]
  },
  {
   "cell_type": "code",
   "execution_count": null,
   "metadata": {
    "ExecuteTime": {
     "end_time": "2017-12-03T12:07:55.988545Z",
     "start_time": "2017-12-03T12:07:55.984137Z"
    },
    "collapsed": false
   },
   "outputs": [],
   "source": [
    "len(tables3)"
   ]
  },
  {
   "cell_type": "code",
   "execution_count": null,
   "metadata": {
    "ExecuteTime": {
     "end_time": "2017-12-03T12:07:57.502773Z",
     "start_time": "2017-12-03T12:07:57.376379Z"
    },
    "collapsed": true
   },
   "outputs": [],
   "source": [
    "for table_number in range(len(tables3)):\n",
    "    print('table_number: {0}'.format(table_number))\n",
    "    display(tables3[table_number])"
   ]
  },
  {
   "cell_type": "raw",
   "metadata": {},
   "source": [
    "# 7203"
   ]
  },
  {
   "cell_type": "code",
   "execution_count": null,
   "metadata": {
    "ExecuteTime": {
     "end_time": "2017-12-03T12:18:08.094838Z",
     "start_time": "2017-12-03T12:18:08.091313Z"
    },
    "collapsed": false
   },
   "outputs": [],
   "source": [
    "# 列数が 5 以下のテーブルを削除\n",
    "tables4 = list(filter(lambda x: len(x.columns) > 5, tables))"
   ]
  },
  {
   "cell_type": "code",
   "execution_count": null,
   "metadata": {
    "ExecuteTime": {
     "end_time": "2017-12-03T12:18:09.217140Z",
     "start_time": "2017-12-03T12:18:09.212516Z"
    },
    "collapsed": false
   },
   "outputs": [],
   "source": [
    "len(tables4)"
   ]
  },
  {
   "cell_type": "code",
   "execution_count": null,
   "metadata": {
    "ExecuteTime": {
     "end_time": "2017-12-03T12:18:13.618560Z",
     "start_time": "2017-12-03T12:18:13.396864Z"
    },
    "collapsed": true
   },
   "outputs": [],
   "source": [
    "for table_number in range(len(tables4)):\n",
    "    print('table_number: {0}'.format(table_number))\n",
    "    display(tables4[table_number])"
   ]
  },
  {
   "cell_type": "raw",
   "metadata": {},
   "source": [
    "# 9432"
   ]
  },
  {
   "cell_type": "code",
   "execution_count": null,
   "metadata": {
    "ExecuteTime": {
     "end_time": "2017-12-03T12:34:42.926008Z",
     "start_time": "2017-12-03T12:34:42.922244Z"
    },
    "collapsed": false
   },
   "outputs": [],
   "source": [
    "# 列数が 5 以下のテーブルを削除\n",
    "tables5 = list(filter(lambda x: len(x.columns) > 5, tables))"
   ]
  },
  {
   "cell_type": "code",
   "execution_count": null,
   "metadata": {
    "ExecuteTime": {
     "end_time": "2017-12-03T12:34:44.567017Z",
     "start_time": "2017-12-03T12:34:44.562498Z"
    },
    "collapsed": false
   },
   "outputs": [],
   "source": [
    "len(tables5)"
   ]
  },
  {
   "cell_type": "code",
   "execution_count": null,
   "metadata": {
    "ExecuteTime": {
     "end_time": "2017-12-03T12:34:46.574844Z",
     "start_time": "2017-12-03T12:34:46.365025Z"
    },
    "collapsed": true
   },
   "outputs": [],
   "source": [
    "for table_number in range(len(tables5)):\n",
    "    print('table_number: {0}'.format(table_number))\n",
    "    display(tables5[table_number])"
   ]
  },
  {
   "cell_type": "markdown",
   "metadata": {},
   "source": [
    "__各銘柄の通期業績と財務のテーブル長の確認__  \n",
    "__ついでに日付が合致するかどうかも見てもいいかも__"
   ]
  },
  {
   "cell_type": "code",
   "execution_count": null,
   "metadata": {
    "ExecuteTime": {
     "end_time": "2017-12-05T06:49:52.409037Z",
     "start_time": "2017-12-05T06:49:52.406288Z"
    },
    "collapsed": true
   },
   "outputs": [],
   "source": [
    "# ループ、未完成"
   ]
  },
  {
   "cell_type": "code",
   "execution_count": null,
   "metadata": {
    "ExecuteTime": {
     "end_time": "2017-12-06T00:46:46.839022Z",
     "start_time": "2017-12-06T00:46:46.835036Z"
    },
    "collapsed": true
   },
   "outputs": [],
   "source": [
    "error_table = pd.DataFrame(columns=('code', 'error'))"
   ]
  },
  {
   "cell_type": "code",
   "execution_count": null,
   "metadata": {
    "ExecuteTime": {
     "end_time": "2017-12-06T00:46:51.611478Z",
     "start_time": "2017-12-06T00:46:51.605373Z"
    },
    "collapsed": false
   },
   "outputs": [],
   "source": [
    "# error = pd.Series(['0000', 'error'], index=error_table.columns)\n",
    "error_table = error_table.append(pd.Series(['0000', 'error'], index=error_table.columns), ignore_index = True)"
   ]
  },
  {
   "cell_type": "code",
   "execution_count": null,
   "metadata": {
    "ExecuteTime": {
     "end_time": "2017-12-06T00:43:27.305745Z",
     "start_time": "2017-12-06T00:43:27.298331Z"
    },
    "collapsed": false
   },
   "outputs": [],
   "source": [
    "error"
   ]
  },
  {
   "cell_type": "code",
   "execution_count": null,
   "metadata": {
    "ExecuteTime": {
     "end_time": "2017-12-06T00:46:53.339539Z",
     "start_time": "2017-12-06T00:46:53.331435Z"
    },
    "collapsed": false
   },
   "outputs": [],
   "source": [
    "error_table"
   ]
  },
  {
   "cell_type": "code",
   "execution_count": null,
   "metadata": {
    "ExecuteTime": {
     "end_time": "2017-12-07T03:10:42.619284Z",
     "start_time": "2017-12-07T03:10:36.852765Z"
    },
    "collapsed": false
   },
   "outputs": [],
   "source": [
    "error_table = pd.DataFrame(columns=('code', 'error'))\n",
    "\n",
    "for index in range(len(reading_code)):\n",
    "    try:\n",
    "        # 保存した html からテーブル属性を読み込み\n",
    "        tables = pd.read_html('/Users/Really/Stockyard/_kabutan_html/kabutan_{0}.html'.format(reading_code[index]), header=0)\n",
    "        # 列数が 5 以下のテーブルを削除\n",
    "        tables = list(filter(lambda x: len(x.columns) > 5, tables))\n",
    "\n",
    "        # tables[3] 通期業績の整形処理\n",
    "        # 全ての列項目がnullの行を除去\n",
    "        tables[3] = tables[3][~tables[3].isnull().all(axis=1)].reset_index(drop=True)\n",
    "        # 予想値と前期比の行を除去\n",
    "        tables[3] = tables[3][~((tables[3]['決算期'].str.contains('予')) | (tables[3]['決算期'].str.contains('前期比')))].reset_index(drop=True)\n",
    "        # 決算期列の要素を会計基準と決算期に分割、それぞれの列に代入(同時に会計基準列を新規作成)\n",
    "        if not tables[3]['決算期'].str.contains(' ').all():\n",
    "            tables[3]['会計基準'] = list('J' * len(tables[3]))\n",
    "        else:\n",
    "            tables[3][['会計基準', '決算期']] = pd.DataFrame(list(tables[3]['決算期'].str.split(' ')))\n",
    "        # 列の並び替え\n",
    "        tables[3] = tables[3][['会計基準', '決算期', '売上高', '営業益', '経常益', '最終益', '１株益', '１株配', '発表日']]\n",
    "        # 100万円単位換算\n",
    "        tables[3][['売上高', '営業益', '経常益', '最終益']] = tables[3][['売上高', '営業益', '経常益', '最終益']].apply(lambda x: x * 1000000)\n",
    "        # 型変換\n",
    "        tables[3]['１株配'] = tables[3]['１株配'].astype(float)\n",
    "        # 日付のパース、datetime.dateへの型変換\n",
    "        # tables[3]['決算期'] = tables[3]['決算期'].apply(lambda x: datetime.strptime(x, '%Y.%m').date()) # 日付ではないので文字列のままの方がいいかも？\n",
    "        tables[3]['発表日'] = tables[3]['発表日'].apply(lambda x: parse(x, yearfirst=True).date())\n",
    "        # pandasのTimestampへの型変換\n",
    "        tables[3]['発表日'] = pd.to_datetime(tables[3]['発表日'], format='%Y-%m-%d')\n",
    "        # tables[3]['決算期'] = pd.to_datetime(tables[3]['決算期'], format='%Y-%m-%d')\n",
    "\n",
    "        # tables[9] 財務 【実績】の整形処理\n",
    "        # 全ての列項目がnullの行を除去\n",
    "        tables[9] = tables[9][~tables[9].isnull().all(axis=1)].reset_index(drop=True)\n",
    "        # 決算期列の要素を会計基準と決算期に分割、それぞれの列に代入(同時に会計基準列を新規作成)\n",
    "        if not tables[9]['決算期'].str.contains(' ').all():\n",
    "            tables[9]['会計基準'] = list('J' * len(tables[9]))\n",
    "        else:\n",
    "            tables[9][['会計基準', '決算期']] = pd.DataFrame(list(tables[9]['決算期'].str.split(' ')))\n",
    "        # 列の並び替え\n",
    "        tables[9] = tables[9][['会計基準', '決算期', '１株純資産', '自己資本比率', '総資産', '自己資本', '剰余金', '有利子負債倍率', '発表日']]\n",
    "        # 決算期が 'yyyy.mm' 表記ではない行は確定決算前と判断して削除\n",
    "        tables[9] = tables[9][tables[9]['決算期'].str.contains('\\d\\d\\d\\d.\\d\\d')]\n",
    "        # 決算期が 1998.03 のデータは他のテーブルには無く、発表日も不自然なので行ごと削除\n",
    "        tables[9] = tables[9][~tables[9]['決算期'].str.contains('1998.03')].reset_index(drop=True)\n",
    "        # '－'  を NaN に置換\n",
    "        # .str を2回も使わないといけないのはなんだか。。。\n",
    "        tables[9].loc[~tables[9]['１株純資産'].str.replace('.', '').str.isnumeric(), '１株純資産'] = np.nan\n",
    "        tables[9].loc[~tables[9]['有利子負債倍率'].str.replace('.', '').str.isnumeric(), '有利子負債倍率'] = np.nan\n",
    "        # 型変換\n",
    "        tables[9][['１株純資産', '有利子負債倍率']] = tables[9][['１株純資産', '有利子負債倍率']].astype(float)\n",
    "        # 100万円単位換算\n",
    "        tables[9][['総資産', '自己資本', '剰余金']] = tables[9][['総資産', '自己資本', '剰余金']].apply(lambda x: x * 1000000)\n",
    "        # 日付のパース、datetime.dateへの型変換\n",
    "        # tables[9]['決算期'] = tables[9]['決算期'].apply(lambda x: parse(x.replace('-', '.'), yearfirst=True).date()) # 日付ではないので文字列のままの方がいいかも？\n",
    "        tables[9]['発表日'] = tables[9]['発表日'].apply(lambda x: parse(x, yearfirst=True).date())\n",
    "        # pandasのTimestampへの型変換\n",
    "        # tables[9]['決算期'] = pd.to_datetime(tables[9]['決算期'], format='%Y-%m-%d')\n",
    "        tables[9]['発表日'] = pd.to_datetime(tables[9]['発表日'], format='%Y-%m-%d')\n",
    "\n",
    "        \n",
    "        try:\n",
    "            if len(tables[3]) == len(tables[9]):\n",
    "                if ((tables[3][['会計基準', '決算期']] != tables[9][['会計基準', '決算期']]).any()).any():\n",
    "                    print('{0}: Not match 会計基準 or 決算期'.format(reading_code[index]))\n",
    "                    error_table = error_table.append(pd.Series([reading_code[index], 'Not match 会計基準 or 決算期'], index=error_table.columns), ignore_index = True)\n",
    "                    # print('True {0} {1}'.format(tables[3].ix[count, '発表日']))\n",
    "                    # tables[9].ix[count, '発表日'] = tables[3].ix[count, '発表日']\n",
    "            else:\n",
    "                print('{0}: Not match table length.'.format(reading_code[index]))\n",
    "                error_table = error_table.append(pd.Series([reading_code[index], 'Not match table length.'], index=error_table.columns), ignore_index = True)\n",
    "        except Exception as e:\n",
    "            print('{0}: Failed in checking.'.format(reading_code[index]))\n",
    "            print(e)\n",
    "            error_table = error_table.append(pd.Series([reading_code[index], 'Not match table length.'], index=error_table.columns), ignore_index = True)\n",
    "    except Exception as e:\n",
    "        # print(reading_code[index])\n",
    "        print('{0}: Failed in shaping.'.format(reading_code[index]))\n",
    "        print(e)\n",
    "        error_table = error_table.append(pd.Series([reading_code[index], 'Failed in shaping.'], index=error_table.columns), ignore_index = True)"
   ]
  },
  {
   "cell_type": "code",
   "execution_count": null,
   "metadata": {
    "collapsed": true
   },
   "outputs": [],
   "source": [
    "# 読み込み"
   ]
  },
  {
   "cell_type": "code",
   "execution_count": null,
   "metadata": {
    "ExecuteTime": {
     "end_time": "2017-12-07T03:18:24.883441Z",
     "start_time": "2017-12-07T03:18:24.880532Z"
    },
    "collapsed": true
   },
   "outputs": [],
   "source": [
    "code = 1376"
   ]
  },
  {
   "cell_type": "code",
   "execution_count": null,
   "metadata": {
    "ExecuteTime": {
     "end_time": "2017-12-06T01:04:03.234012Z",
     "start_time": "2017-12-06T01:04:02.730735Z"
    },
    "collapsed": false
   },
   "outputs": [],
   "source": [
    "# 保存した html からテーブル属性を読み込み\n",
    "tables = pd.read_html('/Users/Really/Stockyard/_kabutan_html/kabutan_{0}.html'.format(code), header=0)\n",
    "\n",
    "# 列数が 5 以下のテーブルを削除\n",
    "tables = list(filter(lambda x: len(x.columns) > 5, tables))"
   ]
  },
  {
   "cell_type": "code",
   "execution_count": null,
   "metadata": {
    "ExecuteTime": {
     "end_time": "2017-12-06T01:04:03.687084Z",
     "start_time": "2017-12-06T01:04:03.554509Z"
    },
    "collapsed": false
   },
   "outputs": [],
   "source": [
    "# tables[3] 通期業績の整形処理\n",
    "\n",
    "# 全ての列項目がnullの行を除去\n",
    "tables[3] = tables[3][~tables[3].isnull().all(axis=1)].reset_index(drop=True)\n",
    "\n",
    "# 予想値と前期比の行を除去\n",
    "tables[3] = tables[3][~((tables[3]['決算期'].str.contains('予')) | (tables[3]['決算期'].str.contains('前期比')))].reset_index(drop=True)\n",
    "\n",
    "# 決算期列の要素を会計基準と決算期に分割、それぞれの列に代入(同時に会計基準列を新規作成)\n",
    "tables[3][['会計基準', '決算期']] = pd.DataFrame(list(tables[3]['決算期'].str.split(' ')))\n",
    "\n",
    "# 列の並び替え\n",
    "tables[3] = tables[3][['会計基準', '決算期', '売上高', '営業益', '経常益', '最終益', '１株益', '１株配', '発表日']]\n",
    "\n",
    "# 100万円単位換算\n",
    "tables[3][['売上高', '営業益', '経常益', '最終益']] = tables[3][['売上高', '営業益', '経常益', '最終益']].apply(lambda x: x * 1000000)\n",
    "\n",
    "# 型変換\n",
    "tables[3]['１株配'] = tables[3]['１株配'].astype(float)\n",
    "\n",
    "# 日付のパース、datetime.dateへの型変換\n",
    "# tables[3]['決算期'] = tables[3]['決算期'].apply(lambda x: datetime.strptime(x, '%Y.%m').date()) # 日付ではないので文字列のままの方がいいかも？\n",
    "tables[3]['発表日'] = tables[3]['発表日'].apply(lambda x: parse(x, yearfirst=True).date())\n",
    "# pandasのTimestampへの型変換\n",
    "tables[3]['発表日'] = pd.to_datetime(tables[3]['発表日'], format='%Y-%m-%d')\n",
    "# tables[3]['決算期'] = pd.to_datetime(tables[3]['決算期'], format='%Y-%m-%d')"
   ]
  },
  {
   "cell_type": "code",
   "execution_count": null,
   "metadata": {
    "ExecuteTime": {
     "end_time": "2017-12-06T01:04:07.035529Z",
     "start_time": "2017-12-06T01:04:06.929797Z"
    },
    "collapsed": false
   },
   "outputs": [],
   "source": [
    "# tables[9] 財務 【実績】の整形処理\n",
    "\n",
    "# 全ての列項目がnullの行を除去\n",
    "tables[9] = tables[9][~tables[9].isnull().all(axis=1)].reset_index(drop=True)\n",
    "\n",
    "# 決算期列の要素を会計基準と決算期に分割、それぞれの列に代入(同時に会計基準列を新規作成)\n",
    "tables[9][['会計基準', '決算期']] = pd.DataFrame(list(tables[9]['決算期'].str.split(' ')))\n",
    "\n",
    "# 列の並び替え\n",
    "tables[9] = tables[9][['会計基準', '決算期', '１株純資産', '自己資本比率', '総資産', '自己資本', '剰余金', '有利子負債倍率', '発表日']]\n",
    "\n",
    "# 決算期が 'yyyy.mm' 表記ではない行は確定決算前と判断して削除\n",
    "tables[9] = tables[9][tables[9]['決算期'].str.contains('\\d\\d\\d\\d.\\d\\d')]\n",
    "\n",
    "# 決算期が 1998.03 のデータは他のテーブルには無く、発表日も不自然なので行ごと削除\n",
    "tables[9] = tables[9][~tables[9]['決算期'].str.contains('1998.03')].reset_index(drop=True)\n",
    "\n",
    "# '－'  を NaN に置換\n",
    "# .str を2回も使わないといけないのはなんだか。。。\n",
    "tables[9].loc[~tables[9]['１株純資産'].str.replace('.', '').str.isnumeric(), '１株純資産'] = np.nan\n",
    "tables[9].loc[~tables[9]['有利子負債倍率'].str.replace('.', '').str.isnumeric(), '有利子負債倍率'] = np.nan\n",
    "\n",
    "# 型変換\n",
    "tables[9][['１株純資産', '有利子負債倍率']] = tables[9][['１株純資産', '有利子負債倍率']].astype(float)\n",
    "\n",
    "# 100万円単位換算\n",
    "tables[9][['総資産', '自己資本', '剰余金']] = tables[9][['総資産', '自己資本', '剰余金']].apply(lambda x: x * 1000000)\n",
    "\n",
    "# 日付のパース、datetime.dateへの型変換\n",
    "# tables[9]['決算期'] = tables[9]['決算期'].apply(lambda x: parse(x.replace('-', '.'), yearfirst=True).date()) # 日付ではないので文字列のままの方がいいかも？\n",
    "tables[9]['発表日'] = tables[9]['発表日'].apply(lambda x: parse(x, yearfirst=True).date())\n",
    "# pandasのTimestampへの型変換\n",
    "# tables[9]['決算期'] = pd.to_datetime(tables[9]['決算期'], format='%Y-%m-%d')\n",
    "tables[9]['発表日'] = pd.to_datetime(tables[9]['発表日'], format='%Y-%m-%d')"
   ]
  },
  {
   "cell_type": "code",
   "execution_count": null,
   "metadata": {
    "collapsed": true
   },
   "outputs": [],
   "source": [
    "# 比較、未完成"
   ]
  },
  {
   "cell_type": "code",
   "execution_count": null,
   "metadata": {
    "ExecuteTime": {
     "end_time": "2017-12-05T06:32:47.316300Z",
     "start_time": "2017-12-05T06:32:47.275865Z"
    },
    "collapsed": true
   },
   "outputs": [],
   "source": [
    "for count in range(len(tables[3])):\n",
    "    try:\n",
    "        if len(tables[3]) == len(tables[9]):\n",
    "            if (tables[3].ix[count, '会計基準'] == tables[9].ix[count, '会計基準'] and tables[3].ix[count, '決算期'] == tables[9].ix[count, '決算期']):\n",
    "                print('True {0} {1}'.format(tables[3].ix[count, '発表日']))\n",
    "                tables[9].ix[count, '発表日'] = tables[3].ix[count, '発表日']\n",
    "        else:\n",
    "            print('{0}: Not match table length.'.format(code))\n",
    "    except Exception as e:\n",
    "        print(code)\n",
    "        print(e)"
   ]
  },
  {
   "cell_type": "code",
   "execution_count": null,
   "metadata": {
    "ExecuteTime": {
     "end_time": "2017-12-06T00:06:39.052000Z",
     "start_time": "2017-12-06T00:06:39.044264Z"
    },
    "collapsed": false
   },
   "outputs": [],
   "source": [
    "(tables[3]['会計基準'] != tables[9]['会計基準']).all() and (tables[3]['決算期'] != tables[9]['決算期']).all()"
   ]
  },
  {
   "cell_type": "code",
   "execution_count": null,
   "metadata": {
    "ExecuteTime": {
     "end_time": "2017-12-06T00:12:18.632808Z",
     "start_time": "2017-12-06T00:12:18.623737Z"
    },
    "collapsed": false
   },
   "outputs": [],
   "source": [
    "((tables[3][['会計基準', '発表日']] != tables[9][['会計基準', '発表日']]).any()).any()"
   ]
  },
  {
   "cell_type": "code",
   "execution_count": null,
   "metadata": {
    "ExecuteTime": {
     "end_time": "2017-12-06T00:12:27.973516Z",
     "start_time": "2017-12-06T00:12:27.964658Z"
    },
    "collapsed": false
   },
   "outputs": [],
   "source": [
    "((tables[3][['会計基準', '決算期']] != tables[9][['会計基準', '決算期']]).any()).any()"
   ]
  },
  {
   "cell_type": "code",
   "execution_count": null,
   "metadata": {
    "ExecuteTime": {
     "end_time": "2017-12-06T00:07:54.687972Z",
     "start_time": "2017-12-06T00:07:54.682492Z"
    },
    "collapsed": false
   },
   "outputs": [],
   "source": [
    "(tables[3]['会計基準'] != tables[9]['会計基準']).any()"
   ]
  },
  {
   "cell_type": "markdown",
   "metadata": {},
   "source": [
    "# 保存した html ファイルからテーブル属性のみ読み込み、整形"
   ]
  },
  {
   "cell_type": "code",
   "execution_count": null,
   "metadata": {
    "ExecuteTime": {
     "end_time": "2017-12-08T23:50:02.039417Z",
     "start_time": "2017-12-08T23:50:02.036596Z"
    },
    "collapsed": true
   },
   "outputs": [],
   "source": [
    "code = 8439"
   ]
  },
  {
   "cell_type": "code",
   "execution_count": null,
   "metadata": {
    "ExecuteTime": {
     "end_time": "2017-12-09T02:05:28.925915Z",
     "start_time": "2017-12-09T02:05:28.561518Z"
    },
    "collapsed": false
   },
   "outputs": [],
   "source": [
    "# 保存した html からテーブル属性を読み込み\n",
    "tables = pd.read_html('/Users/Really/Stockyard/_kabutan_html/kabutan_{0}.html'.format(code), header=0)"
   ]
  },
  {
   "cell_type": "code",
   "execution_count": null,
   "metadata": {
    "ExecuteTime": {
     "end_time": "2017-12-09T02:05:31.608443Z",
     "start_time": "2017-12-09T02:05:31.605007Z"
    },
    "collapsed": true
   },
   "outputs": [],
   "source": [
    "# 列数が 5 以下のテーブルを削除\n",
    "tables = list(filter(lambda x: len(x.columns) > 5, tables))"
   ]
  },
  {
   "cell_type": "code",
   "execution_count": null,
   "metadata": {
    "ExecuteTime": {
     "end_time": "2017-12-03T21:59:10.312340Z",
     "start_time": "2017-12-03T21:59:10.307764Z"
    },
    "collapsed": false
   },
   "outputs": [],
   "source": [
    "len(tables)"
   ]
  },
  {
   "cell_type": "code",
   "execution_count": null,
   "metadata": {
    "ExecuteTime": {
     "end_time": "2017-12-08T23:50:07.902681Z",
     "start_time": "2017-12-08T23:50:07.868749Z"
    },
    "collapsed": true
   },
   "outputs": [],
   "source": [
    "# 抽出用テーブルの作成\n",
    "pl_table = pd.DataFrame()\n",
    "fc_table = pd.DataFrame()\n",
    "qr_table = pd.DataFrame()\n",
    "bs_table = pd.DataFrame()\n",
    "\n",
    "# 必要なテーブルの抽出\n",
    "# リストを要素ごとに for で回す書き方\n",
    "for table in tables:\n",
    "    # 通期業績: profit and loss statement\n",
    "    if len(table.columns) == 8: \n",
    "        if (table.columns[-2] == \"１株配\") & (pl_table.shape[1] == 0): \n",
    "            pl_table = table.copy()\n",
    "    # 業績予想: forecast\n",
    "    if len(table.columns) >= 8: \n",
    "        if (table.columns[1] == \"修正日\") & (fc_table.shape[1] == 0): \n",
    "            fc_table = table.copy()\n",
    "    # 3ヶ月業績: quater\n",
    "    if len(table.columns) == 8: \n",
    "        if (table.columns[-2] == \"売上営業損益率\") & (qr_table.shape[1] == 0): \n",
    "            qr_table = table.copy()\n",
    "    # 財務: balance sheet\n",
    "    if len(table.columns) == 8: \n",
    "        if (table.columns[1] == \"１株純資産\") & (bs_table.shape[1] == 0): \n",
    "            bs_table = table.copy()"
   ]
  },
  {
   "cell_type": "markdown",
   "metadata": {},
   "source": [
    "## pl_table (tables[3]) 通期業績"
   ]
  },
  {
   "cell_type": "raw",
   "metadata": {},
   "source": [
    "# 株プロに無い項目: １株配"
   ]
  },
  {
   "cell_type": "code",
   "execution_count": null,
   "metadata": {
    "ExecuteTime": {
     "end_time": "2017-12-09T02:38:51.083021Z",
     "start_time": "2017-12-09T02:38:51.057762Z"
    },
    "collapsed": true
   },
   "outputs": [],
   "source": [
    "tables[3]"
   ]
  },
  {
   "cell_type": "code",
   "execution_count": null,
   "metadata": {
    "ExecuteTime": {
     "end_time": "2017-12-09T02:47:53.008603Z",
     "start_time": "2017-12-09T02:47:53.001212Z"
    },
    "collapsed": false
   },
   "outputs": [],
   "source": [
    "# 通期業績テーブルの抽出 (上書き)\n",
    "pl_table = pd.DataFrame()\n",
    "# リストを要素ごとに for で回す書き方\n",
    "for table in tables:\n",
    "    # 通期業績: profit and loss statement\n",
    "    if len(table.columns) == 8: \n",
    "        if (table.columns[-2] == \"１株配\") & (pl_table.shape[1] == 0): \n",
    "            pl_table = table.copy()"
   ]
  },
  {
   "cell_type": "code",
   "execution_count": null,
   "metadata": {
    "ExecuteTime": {
     "end_time": "2017-12-09T02:46:36.935200Z",
     "start_time": "2017-12-09T02:46:36.910848Z"
    },
    "collapsed": true
   },
   "outputs": [],
   "source": [
    "pl_table"
   ]
  },
  {
   "cell_type": "code",
   "execution_count": null,
   "metadata": {
    "ExecuteTime": {
     "end_time": "2017-12-09T02:47:54.765292Z",
     "start_time": "2017-12-09T02:47:54.760270Z"
    },
    "collapsed": true
   },
   "outputs": [],
   "source": [
    "# 全ての列項目がnullの行を除去\n",
    "pl_table = pl_table[~pl_table.isnull().all(axis=1)].reset_index(drop=True)"
   ]
  },
  {
   "cell_type": "code",
   "execution_count": null,
   "metadata": {
    "ExecuteTime": {
     "end_time": "2017-12-09T02:47:55.504578Z",
     "start_time": "2017-12-09T02:47:55.499018Z"
    },
    "collapsed": false
   },
   "outputs": [],
   "source": [
    "# 予想値と前期比の行を除去\n",
    "pl_table = pl_table[~((pl_table['決算期'].str.contains('予')) | (pl_table['決算期'].str.contains('前期比')))].reset_index(drop=True)"
   ]
  },
  {
   "cell_type": "code",
   "execution_count": null,
   "metadata": {
    "ExecuteTime": {
     "end_time": "2017-12-09T02:47:56.199688Z",
     "start_time": "2017-12-09T02:47:56.191516Z"
    },
    "collapsed": true
   },
   "outputs": [],
   "source": [
    "# 決算期列の要素を会計基準と決算期に分割、それぞれの列に代入(同時に会計基準列を新規作成)\n",
    "if not pl_table['決算期'].str.contains(' ').all():\n",
    "    pl_table['会計基準'] = list('J' * len(pl_table))\n",
    "else:\n",
    "    pl_table[['会計基準', '決算期']] = pd.DataFrame(list(pl_table['決算期'].str.split(' ')))"
   ]
  },
  {
   "cell_type": "code",
   "execution_count": null,
   "metadata": {
    "ExecuteTime": {
     "end_time": "2017-12-09T02:47:56.884229Z",
     "start_time": "2017-12-09T02:47:56.879410Z"
    },
    "collapsed": false
   },
   "outputs": [],
   "source": [
    "# 列の並び替え\n",
    "pl_table = pl_table[['会計基準', '決算期', '売上高', '営業益', '経常益', '最終益', '１株益', '１株配', '発表日']]"
   ]
  },
  {
   "cell_type": "code",
   "execution_count": null,
   "metadata": {
    "ExecuteTime": {
     "end_time": "2017-12-09T02:47:57.720808Z",
     "start_time": "2017-12-09T02:47:57.633143Z"
    },
    "collapsed": false
   },
   "outputs": [],
   "source": [
    "# 数値の列の '－'  を NaN に置換\n",
    "num_col = ('売上高', '営業益', '経常益', '最終益', '１株益', '１株配')\n",
    "for key in num_col:\n",
    "    if pl_table[key].dtypes == object:\n",
    "        pl_table.loc[~pl_table[key].str.replace('.', '').str.isnumeric(), key] = np.nan\n",
    "        # .str を2回も使わないといけないのはなんだか。。。\n",
    "        # pl_table.loc[pl_table[key].str.contains('－'), key] = np.nan\n",
    "        # この書き方だと '－'  以外の文字列に対応できないので不安"
   ]
  },
  {
   "cell_type": "code",
   "execution_count": null,
   "metadata": {
    "ExecuteTime": {
     "end_time": "2017-12-09T02:47:59.522282Z",
     "start_time": "2017-12-09T02:47:59.512083Z"
    },
    "collapsed": false
   },
   "outputs": [],
   "source": [
    "# 100万円単位換算\n",
    "million_col = ('売上高', '営業益', '経常益', '最終益')\n",
    "pl_table.loc[:, million_col] = pl_table.loc[:, million_col].apply(lambda x: x * 1000000)"
   ]
  },
  {
   "cell_type": "code",
   "execution_count": null,
   "metadata": {
    "ExecuteTime": {
     "end_time": "2017-12-09T02:48:01.501824Z",
     "start_time": "2017-12-09T02:48:01.495523Z"
    },
    "collapsed": false
   },
   "outputs": [],
   "source": [
    "# 型変換\n",
    "# 辞書内包表記による一括変換\n",
    "pl_table = pl_table.astype({x: float for x in ('売上高', '営業益', '経常益', '最終益', '１株益', '１株配')})"
   ]
  },
  {
   "cell_type": "code",
   "execution_count": null,
   "metadata": {
    "ExecuteTime": {
     "end_time": "2017-12-09T02:48:05.726554Z",
     "start_time": "2017-12-09T02:48:05.715645Z"
    },
    "collapsed": true
   },
   "outputs": [],
   "source": [
    "# 日付のパース、datetime.dateへの型変換、最終的に '－'  は NaT に置換される\n",
    "# pl_table['決算期'] = pl_table['決算期'].apply(lambda x: datetime.strptime(x, '%Y.%m').date()) # 日付ではないので文字列のままの方がいいかも？\n",
    "pl_table['発表日'] = pl_table.loc[pl_table['発表日'] != '－', '発表日'].apply(lambda x: parse(x, yearfirst=True).date())\n",
    "# pandasのTimestampへの型変換\n",
    "pl_table['発表日'] = pd.to_datetime(pl_table['発表日'], format='%Y-%m-%d')\n",
    "# pl_table['決算期'] = pd.to_datetime(pl_table['決算期'], format='%Y-%m-%d')"
   ]
  },
  {
   "cell_type": "code",
   "execution_count": null,
   "metadata": {
    "ExecuteTime": {
     "end_time": "2017-12-09T02:48:08.170393Z",
     "start_time": "2017-12-09T02:48:08.164592Z"
    },
    "collapsed": false
   },
   "outputs": [],
   "source": [
    "pl_table.dtypes"
   ]
  },
  {
   "cell_type": "code",
   "execution_count": null,
   "metadata": {
    "ExecuteTime": {
     "end_time": "2017-12-09T02:48:13.726629Z",
     "start_time": "2017-12-09T02:48:13.699652Z"
    },
    "collapsed": false
   },
   "outputs": [],
   "source": [
    "pl_table"
   ]
  },
  {
   "cell_type": "code",
   "execution_count": null,
   "metadata": {
    "ExecuteTime": {
     "end_time": "2017-11-29T17:43:29.424468Z",
     "start_time": "2017-11-29T17:43:29.367999Z"
    },
    "collapsed": false
   },
   "outputs": [],
   "source": [
    "kabupro.ix[(kabupro['証券コード'] == code) & (kabupro['会計基準'] == '米国基準') & (kabupro['決算期間'] == '通期'), \n",
    "           ['連結個別', '決算期', '期首', '売上高', '営業利益', '経常利益', '純利益', '一株当り純利益', '情報公開日 (更新日)']]"
   ]
  },
  {
   "cell_type": "code",
   "execution_count": null,
   "metadata": {
    "ExecuteTime": {
     "end_time": "2017-11-28T20:02:06.222463Z",
     "start_time": "2017-11-28T20:02:06.217308Z"
    },
    "collapsed": false
   },
   "outputs": [],
   "source": [
    "kabupro.columns"
   ]
  },
  {
   "cell_type": "markdown",
   "metadata": {},
   "source": [
    "## fc_table (tables[4]) 業績予想"
   ]
  },
  {
   "cell_type": "code",
   "execution_count": null,
   "metadata": {
    "ExecuteTime": {
     "end_time": "2017-12-03T22:21:17.358100Z",
     "start_time": "2017-12-03T22:21:17.297918Z"
    },
    "collapsed": true
   },
   "outputs": [],
   "source": [
    "tables[4]"
   ]
  },
  {
   "cell_type": "code",
   "execution_count": null,
   "metadata": {
    "ExecuteTime": {
     "end_time": "2017-12-08T18:08:45.859261Z",
     "start_time": "2017-12-08T18:08:45.810682Z"
    },
    "collapsed": true
   },
   "outputs": [],
   "source": [
    "fc_table"
   ]
  },
  {
   "cell_type": "code",
   "execution_count": null,
   "metadata": {
    "ExecuteTime": {
     "end_time": "2017-12-03T22:39:39.050972Z",
     "start_time": "2017-12-03T22:39:39.046038Z"
    },
    "collapsed": false
   },
   "outputs": [],
   "source": [
    "fc_table.columns"
   ]
  },
  {
   "cell_type": "code",
   "execution_count": null,
   "metadata": {
    "ExecuteTime": {
     "end_time": "2017-12-08T18:10:08.360968Z",
     "start_time": "2017-12-08T18:10:08.356732Z"
    },
    "collapsed": true
   },
   "outputs": [],
   "source": [
    "fc_table.columns = ['会計基準', '決算期', '発表日', \n",
    "                                   '結合修正方向', '売上高修正方向', '営業益修正方向', '経常益修正方向', '最終益修正方向', '修正配当修正方向', \n",
    "                                   '予想売上高', '予想営業益', '予想経常益', '予想最終益', '予想修正配当',]"
   ]
  },
  {
   "cell_type": "code",
   "execution_count": null,
   "metadata": {
    "ExecuteTime": {
     "end_time": "2017-12-08T18:10:10.063960Z",
     "start_time": "2017-12-08T18:10:10.029781Z"
    },
    "collapsed": true
   },
   "outputs": [],
   "source": [
    "# 実体行\n",
    "fc_table[fc_table.index % 2 == 0].reset_index(drop=True)"
   ]
  },
  {
   "cell_type": "code",
   "execution_count": null,
   "metadata": {
    "ExecuteTime": {
     "end_time": "2017-11-28T19:44:58.625013Z",
     "start_time": "2017-11-28T19:44:58.588546Z"
    },
    "collapsed": true
   },
   "outputs": [],
   "source": [
    "# 不要行\n",
    "fc_table[fc_table.index % 2 != 0]"
   ]
  },
  {
   "cell_type": "code",
   "execution_count": null,
   "metadata": {
    "ExecuteTime": {
     "end_time": "2017-12-01T15:36:51.437766Z",
     "start_time": "2017-12-01T15:36:51.432908Z"
    },
    "collapsed": false
   },
   "outputs": [],
   "source": [
    "fc_table.columns"
   ]
  },
  {
   "cell_type": "code",
   "execution_count": null,
   "metadata": {
    "ExecuteTime": {
     "end_time": "2017-12-05T06:08:24.733756Z",
     "start_time": "2017-12-05T06:08:24.721264Z"
    },
    "collapsed": true
   },
   "outputs": [],
   "source": [
    "# 不要行、不要列の削除、並び替え\n",
    "# 実績(と修正配当)はいる?いらない?\n",
    "# 実績の発表と同時に次の予想が出ているのでやっぱりここではいらないのかな?\n",
    "fc_table = fc_table.ix[fc_table.index % 2 == 0, ['会計基準', '決算期', '予想売上高', '予想営業益', '予想経常益', '予想最終益', '発表日']].reset_index(drop=True)\n",
    "fc_table = fc_table.ix[fc_table['決算期'] != '実績']"
   ]
  },
  {
   "cell_type": "code",
   "execution_count": null,
   "metadata": {
    "ExecuteTime": {
     "end_time": "2017-12-05T06:08:25.565038Z",
     "start_time": "2017-12-05T06:08:25.517365Z"
    },
    "collapsed": false
   },
   "outputs": [],
   "source": [
    "# 決算期の NaN 埋め\n",
    "fc_table['決算期'] = fc_table['決算期'].fillna(method='ffill')"
   ]
  },
  {
   "cell_type": "code",
   "execution_count": null,
   "metadata": {
    "ExecuteTime": {
     "end_time": "2017-12-05T06:08:26.160907Z",
     "start_time": "2017-12-05T06:08:26.153276Z"
    },
    "collapsed": false
   },
   "outputs": [],
   "source": [
    "# 100万円単位換算\n",
    "fc_table[['予想売上高', '予想営業益', '予想経常益', '予想最終益']] = fc_table[['予想売上高', '予想営業益', '予想経常益', '予想最終益']].apply(lambda x: x * 1000000)"
   ]
  },
  {
   "cell_type": "code",
   "execution_count": null,
   "metadata": {
    "ExecuteTime": {
     "end_time": "2017-12-05T06:08:31.876494Z",
     "start_time": "2017-12-05T06:08:31.865909Z"
    },
    "collapsed": true
   },
   "outputs": [],
   "source": [
    "# 日付のパース、datetime.dateへの型変換\n",
    "# fc_table['決算期'] = fc_table['決算期'].apply(lambda x: datetime.strptime(x, '%Y.%m').date()) # 日付ではないので文字列のままの方がいいかも？\n",
    "fc_table['発表日'] = fc_table['発表日'].apply(lambda x: parse(x, yearfirst=True).date())\n",
    "# pandasのTimestampへの型変換\n",
    "fc_table['発表日'] = pd.to_datetime(fc_table['発表日'], format='%Y-%m-%d')\n",
    "# fc_table['決算期'] = pd.to_datetime(fc_table['決算期'], format='%Y-%m-%d')"
   ]
  },
  {
   "cell_type": "code",
   "execution_count": null,
   "metadata": {
    "ExecuteTime": {
     "end_time": "2017-12-03T22:39:56.152213Z",
     "start_time": "2017-12-03T22:39:56.148960Z"
    },
    "collapsed": false
   },
   "outputs": [],
   "source": [
    "# 修正配当用の処理なので不要\n",
    "# '－'  を NaN に置換\n",
    "# fc_table.loc[~fc_table['修正配当'].str.isnumeric(), '修正配当'] = np.nan\n",
    "# 型変換\n",
    "# fc_table['修正配当'] = fc_table['修正配当'].astype(float)"
   ]
  },
  {
   "cell_type": "code",
   "execution_count": null,
   "metadata": {
    "ExecuteTime": {
     "end_time": "2017-12-03T22:39:56.948681Z",
     "start_time": "2017-12-03T22:39:56.922726Z"
    },
    "collapsed": false
   },
   "outputs": [],
   "source": [
    "fc_table"
   ]
  },
  {
   "cell_type": "code",
   "execution_count": null,
   "metadata": {
    "ExecuteTime": {
     "end_time": "2017-12-03T22:40:00.445369Z",
     "start_time": "2017-12-03T22:40:00.438982Z"
    },
    "collapsed": false
   },
   "outputs": [],
   "source": [
    "fc_table.dtypes"
   ]
  },
  {
   "cell_type": "markdown",
   "metadata": {},
   "source": [
    "## qr_table (qr_table) ３ヵ月業績の推移【実績】(過去5年 + 前年同期比) 累積ではなく差分"
   ]
  },
  {
   "cell_type": "raw",
   "metadata": {},
   "source": [
    "# 株プロに無い項目: 売上営業損益率 = 営業益 / 売上高?\n",
    "# 不要かな？\n",
    "# ちょっと株プロと見比べてみよう → １株益の値が揃わない\n",
    "# 修正発表があった項目は上書きされてしまっていると思われる\n",
    "# 修正の可能性を考えなければ累積の株プロよりこちらの方が使いやすいかも\n",
    "# 株プロで差分を作成するべきか?\n",
    "# 前年同期比はいらなそう"
   ]
  },
  {
   "cell_type": "code",
   "execution_count": null,
   "metadata": {
    "ExecuteTime": {
     "end_time": "2017-12-03T22:40:32.601073Z",
     "start_time": "2017-12-03T22:40:32.574528Z"
    },
    "collapsed": false
   },
   "outputs": [],
   "source": [
    "qr_table"
   ]
  },
  {
   "cell_type": "code",
   "execution_count": null,
   "metadata": {
    "ExecuteTime": {
     "end_time": "2017-12-08T18:11:51.054370Z",
     "start_time": "2017-12-08T18:11:51.029684Z"
    },
    "collapsed": true
   },
   "outputs": [],
   "source": [
    "qr_table"
   ]
  },
  {
   "cell_type": "code",
   "execution_count": null,
   "metadata": {
    "ExecuteTime": {
     "end_time": "2017-12-03T22:40:18.475185Z",
     "start_time": "2017-12-03T22:40:18.469095Z"
    },
    "collapsed": true
   },
   "outputs": [],
   "source": [
    "# 全ての列項目がnullの行を除去\n",
    "qr_table = qr_table[~qr_table.isnull().all(axis=1)].reset_index(drop=True)"
   ]
  },
  {
   "cell_type": "code",
   "execution_count": null,
   "metadata": {
    "ExecuteTime": {
     "end_time": "2017-12-03T22:40:19.354685Z",
     "start_time": "2017-12-03T22:40:19.348592Z"
    },
    "collapsed": true
   },
   "outputs": [],
   "source": [
    "# 前年同期比の行を除去\n",
    "qr_table = qr_table[~qr_table['決算期'].str.contains('前年同期比')].reset_index(drop=True)"
   ]
  },
  {
   "cell_type": "code",
   "execution_count": null,
   "metadata": {
    "ExecuteTime": {
     "end_time": "2017-12-03T22:40:20.144014Z",
     "start_time": "2017-12-03T22:40:20.137744Z"
    },
    "collapsed": false
   },
   "outputs": [],
   "source": [
    "# 決算期列の要素を会計基準と決算期に分割、それぞれの列に代入(同時に会計基準列を新規作成)\n",
    "qr_table[['会計基準', '四半期期首']] = pd.DataFrame(list(qr_table['決算期'].str.split(' ')))"
   ]
  },
  {
   "cell_type": "code",
   "execution_count": null,
   "metadata": {
    "ExecuteTime": {
     "end_time": "2017-12-03T22:40:20.933479Z",
     "start_time": "2017-12-03T22:40:20.928464Z"
    },
    "collapsed": true
   },
   "outputs": [],
   "source": [
    "# 列の並び替え\n",
    "qr_table = qr_table[['会計基準', '四半期期首', '売上高', '営業益', '経常益', '最終益', '１株益', '売上営業損益率', '発表日']]"
   ]
  },
  {
   "cell_type": "code",
   "execution_count": null,
   "metadata": {
    "ExecuteTime": {
     "end_time": "2017-12-01T16:03:31.718902Z",
     "start_time": "2017-12-01T16:03:31.714242Z"
    },
    "collapsed": false
   },
   "outputs": [],
   "source": [
    "qr_table.columns"
   ]
  },
  {
   "cell_type": "code",
   "execution_count": null,
   "metadata": {
    "ExecuteTime": {
     "end_time": "2017-12-03T22:40:23.558971Z",
     "start_time": "2017-12-03T22:40:23.555442Z"
    },
    "collapsed": true
   },
   "outputs": [],
   "source": [
    "qr_table.columns = ['会計基準', '四半期期首', '四半期売上高', '四半期営業益', '四半期経常益', '四半期最終益', '四半期１株益', '四半期売上営業損益率', '発表日']"
   ]
  },
  {
   "cell_type": "code",
   "execution_count": null,
   "metadata": {
    "ExecuteTime": {
     "end_time": "2017-12-03T22:40:24.467540Z",
     "start_time": "2017-12-03T22:40:24.412975Z"
    },
    "collapsed": false
   },
   "outputs": [],
   "source": [
    "# 100万円単位換算\n",
    "qr_table[['四半期売上高', '四半期営業益', '四半期経常益', '四半期最終益']] = qr_table[['四半期売上高', '四半期営業益', '四半期経常益', '四半期最終益']].apply(lambda x: x * 1000000)"
   ]
  },
  {
   "cell_type": "code",
   "execution_count": null,
   "metadata": {
    "ExecuteTime": {
     "end_time": "2017-12-03T22:40:25.280217Z",
     "start_time": "2017-12-03T22:40:25.258195Z"
    },
    "collapsed": false
   },
   "outputs": [],
   "source": [
    "# 日付のパース、datetime.dateへの型変換\n",
    "qr_table['四半期期首'] = qr_table['四半期期首'].apply(lambda x: parse(x.replace('-', '.'), yearfirst=True).date())\n",
    "qr_table['発表日'] = qr_table['発表日'].apply(lambda x: parse(x, yearfirst=True).date())\n",
    "# pandasのTimestampへの型変換\n",
    "qr_table['四半期期首'] = pd.to_datetime(qr_table['四半期期首'], format='%Y-%m-%d')\n",
    "qr_table['発表日'] = pd.to_datetime(qr_table['発表日'], format='%Y-%m-%d')"
   ]
  },
  {
   "cell_type": "code",
   "execution_count": null,
   "metadata": {
    "ExecuteTime": {
     "end_time": "2017-12-03T22:40:26.075731Z",
     "start_time": "2017-12-03T22:40:26.068841Z"
    },
    "collapsed": false
   },
   "outputs": [],
   "source": [
    "qr_table.dtypes"
   ]
  },
  {
   "cell_type": "markdown",
   "metadata": {},
   "source": [
    "__比較検証用に株プロの四半期業績の差分を作ってみる__"
   ]
  },
  {
   "cell_type": "markdown",
   "metadata": {},
   "source": [
    "__もうちょっと上手いやり方ありそう__"
   ]
  },
  {
   "cell_type": "code",
   "execution_count": null,
   "metadata": {
    "collapsed": true
   },
   "outputs": [],
   "source": [
    "kabupro.columns"
   ]
  },
  {
   "cell_type": "code",
   "execution_count": null,
   "metadata": {
    "collapsed": true
   },
   "outputs": [],
   "source": [
    "kabupro.ix[(kabupro['証券コード'] == code) & (kabupro['会計基準'] == '米国基準'), \n",
    "           ['決算期', '期末', '売上高', '営業利益', '経常利益', '純利益', '一株当り純利益', '情報公開日 (更新日)']].tail(10)"
   ]
  },
  {
   "cell_type": "code",
   "execution_count": null,
   "metadata": {
    "ExecuteTime": {
     "end_time": "2017-12-01T15:52:13.774425Z",
     "start_time": "2017-12-01T15:52:13.753197Z"
    },
    "collapsed": true
   },
   "outputs": [],
   "source": [
    "diff_test = kabupro.ix[(kabupro['証券コード'] == code) & (kabupro['会計基準'] == '米国基準'), \n",
    "           ['決算期', '期末', '売上高', '営業利益', '経常利益', '純利益', '一株当り純利益', '情報公開日 (更新日)']]"
   ]
  },
  {
   "cell_type": "code",
   "execution_count": null,
   "metadata": {
    "ExecuteTime": {
     "end_time": "2017-12-01T15:52:40.993124Z",
     "start_time": "2017-12-01T15:52:40.949868Z"
    },
    "collapsed": true
   },
   "outputs": [],
   "source": [
    "diff_test"
   ]
  },
  {
   "cell_type": "code",
   "execution_count": null,
   "metadata": {
    "ExecuteTime": {
     "end_time": "2017-12-01T15:52:17.330328Z",
     "start_time": "2017-12-01T15:52:17.323284Z"
    },
    "collapsed": true
   },
   "outputs": [],
   "source": [
    "diff_test[['売上高差分', '営業利益差分', '経常利益差分', '純利益差分', '一株当り純利益差分']] = diff_test[['売上高', '営業利益', '経常利益', '純利益', '一株当り純利益']]"
   ]
  },
  {
   "cell_type": "code",
   "execution_count": null,
   "metadata": {
    "ExecuteTime": {
     "end_time": "2017-12-01T15:55:06.252985Z",
     "start_time": "2017-12-01T15:55:06.248255Z"
    },
    "collapsed": false
   },
   "outputs": [],
   "source": [
    "diff_test.index[1]"
   ]
  },
  {
   "cell_type": "code",
   "execution_count": null,
   "metadata": {
    "ExecuteTime": {
     "end_time": "2017-12-01T15:55:30.204120Z",
     "start_time": "2017-12-01T15:55:30.073737Z"
    },
    "collapsed": false
   },
   "outputs": [],
   "source": [
    "for count in range(diff_test.index[1], diff_test.index[1] + len(diff_test) - 1):\n",
    "    if diff_test.loc[count, '決算期'] == diff_test.loc[count - 1, '決算期']:\n",
    "        diff_test.loc[count, '売上高差分'] = diff_test.loc[count, '売上高'] - diff_test.loc[count - 1, '売上高']\n",
    "        diff_test.loc[count, '営業利益差分'] = diff_test.loc[count, '営業利益'] - diff_test.loc[count - 1, '営業利益']\n",
    "        diff_test.loc[count, '経常利益差分'] = diff_test.loc[count, '経常利益'] - diff_test.loc[count - 1, '経常利益']\n",
    "        diff_test.loc[count, '純利益差分'] = diff_test.loc[count, '純利益'] - diff_test.loc[count - 1, '純利益']\n",
    "        diff_test.loc[count, '一株当り純利益差分'] = diff_test.loc[count, '一株当り純利益'] - diff_test.loc[count - 1, '一株当り純利益']"
   ]
  },
  {
   "cell_type": "code",
   "execution_count": null,
   "metadata": {
    "ExecuteTime": {
     "end_time": "2017-12-01T15:55:32.521272Z",
     "start_time": "2017-12-01T15:55:32.490784Z"
    },
    "collapsed": false
   },
   "outputs": [],
   "source": [
    "diff_test[['決算期', '期末', '売上高差分', '営業利益差分', '経常利益差分', '純利益差分', '一株当り純利益差分', '情報公開日 (更新日)']]\n",
    "# 一株当り純利益差分が株探の１株益と揃わない"
   ]
  },
  {
   "cell_type": "code",
   "execution_count": null,
   "metadata": {
    "ExecuteTime": {
     "end_time": "2017-12-03T22:32:21.965966Z",
     "start_time": "2017-12-03T22:32:21.939657Z"
    },
    "collapsed": true
   },
   "outputs": [],
   "source": [
    "qr_table"
   ]
  },
  {
   "cell_type": "markdown",
   "metadata": {},
   "source": [
    "## bs_table (tables[9]) 財務 【実績】"
   ]
  },
  {
   "cell_type": "raw",
   "metadata": {},
   "source": [
    "# 株プロに無い項目: 自己資本比率, 自己資本, 剰余金, 有利子負債倍率\n",
    "\n",
    "# 2000年以前の財務実績の発表日は全体的に信用できない\n",
    "# 1998年は何らかの日付で固定 or 捨て、1999年と2000年は通期業績の発表日と同じにする\n",
    "# 期間は株プロよりこちらの方が長い\n",
    "# 修正発表があった項目は上書きされてしまっていると思われる"
   ]
  },
  {
   "cell_type": "code",
   "execution_count": null,
   "metadata": {
    "ExecuteTime": {
     "end_time": "2017-12-08T23:48:35.214267Z",
     "start_time": "2017-12-08T23:48:35.207577Z"
    },
    "collapsed": false
   },
   "outputs": [],
   "source": [
    "# 財務テーブルの抽出 (上書き)\n",
    "bs_table = pd.DataFrame()\n",
    "# リストを要素ごとに for で回す書き方\n",
    "for table in tables:\n",
    "    if len(table.columns) == 8: \n",
    "        if (table.columns[1] == \"１株純資産\") & bs_table.shape[1] == 0: \n",
    "            bs_table = table"
   ]
  },
  {
   "cell_type": "code",
   "execution_count": null,
   "metadata": {
    "ExecuteTime": {
     "end_time": "2017-12-07T03:18:38.572296Z",
     "start_time": "2017-12-07T03:18:38.546675Z"
    },
    "collapsed": false
   },
   "outputs": [],
   "source": [
    "tables[9]"
   ]
  },
  {
   "cell_type": "code",
   "execution_count": null,
   "metadata": {
    "ExecuteTime": {
     "end_time": "2017-12-08T23:48:37.297437Z",
     "start_time": "2017-12-08T23:48:37.267040Z"
    },
    "collapsed": true
   },
   "outputs": [],
   "source": [
    "bs_table"
   ]
  },
  {
   "cell_type": "code",
   "execution_count": null,
   "metadata": {
    "ExecuteTime": {
     "end_time": "2017-12-01T01:13:42.177537Z",
     "start_time": "2017-12-01T01:13:42.172727Z"
    },
    "collapsed": false
   },
   "outputs": [],
   "source": [
    "bs_table.columns"
   ]
  },
  {
   "cell_type": "code",
   "execution_count": null,
   "metadata": {
    "ExecuteTime": {
     "end_time": "2017-12-08T22:46:56.821262Z",
     "start_time": "2017-12-08T22:46:56.815683Z"
    },
    "collapsed": true
   },
   "outputs": [],
   "source": [
    "# 全ての列項目がnullの行を除去\n",
    "bs_table = bs_table[~bs_table.isnull().all(axis=1)].reset_index(drop=True)"
   ]
  },
  {
   "cell_type": "code",
   "execution_count": null,
   "metadata": {
    "ExecuteTime": {
     "end_time": "2017-12-08T22:44:56.738050Z",
     "start_time": "2017-12-08T22:44:56.727316Z"
    },
    "collapsed": false
   },
   "outputs": [],
   "source": [
    "for key, column in bs_table.iteritems():\n",
    "    if column.dtypes == object:\n",
    "        print\n",
    "        # bs_table.loc[bs_table[key].str.contains('－'), key] = np.nan"
   ]
  },
  {
   "cell_type": "code",
   "execution_count": null,
   "metadata": {
    "ExecuteTime": {
     "end_time": "2017-12-08T22:45:01.408423Z",
     "start_time": "2017-12-08T22:45:01.401159Z"
    },
    "collapsed": false
   },
   "outputs": [],
   "source": [
    "# 決算期列の要素を会計基準と決算期に分割、それぞれの列に代入(同時に会計基準列を新規作成)\n",
    "if not bs_table['決算期'].str.contains(' ').all():\n",
    "    bs_table['会計基準'] = list('J' * len(bs_table))\n",
    "else:\n",
    "    bs_table[['会計基準', '決算期']] = pd.DataFrame(list(bs_table['決算期'].str.split(' ')))"
   ]
  },
  {
   "cell_type": "code",
   "execution_count": null,
   "metadata": {
    "ExecuteTime": {
     "end_time": "2017-12-08T22:45:02.475582Z",
     "start_time": "2017-12-08T22:45:02.470791Z"
    },
    "collapsed": false
   },
   "outputs": [],
   "source": [
    "# 列の並び替え\n",
    "bs_table = bs_table[['会計基準', '決算期', '１株純資産', '自己資本比率', '総資産', '自己資本', '剰余金', '有利子負債倍率', '発表日']]"
   ]
  },
  {
   "cell_type": "code",
   "execution_count": null,
   "metadata": {
    "ExecuteTime": {
     "end_time": "2017-12-08T22:45:03.229381Z",
     "start_time": "2017-12-08T22:45:03.224788Z"
    },
    "collapsed": false
   },
   "outputs": [],
   "source": [
    "# 決算期が 'yyyy.mm' 表記ではない行は確定決算前と判断して削除\n",
    "bs_table = bs_table[bs_table['決算期'].str.contains('\\d\\d\\d\\d.\\d\\d')]"
   ]
  },
  {
   "cell_type": "code",
   "execution_count": null,
   "metadata": {
    "ExecuteTime": {
     "end_time": "2017-12-08T22:45:04.710463Z",
     "start_time": "2017-12-08T22:45:04.705886Z"
    },
    "collapsed": false
   },
   "outputs": [],
   "source": [
    "# 決算期が 1998.03 のデータは他のテーブルには無く、発表日も不自然なので行ごと削除\n",
    "bs_table = bs_table[~bs_table['決算期'].str.contains('1998.03')].reset_index(drop=True)"
   ]
  },
  {
   "cell_type": "code",
   "execution_count": null,
   "metadata": {
    "ExecuteTime": {
     "end_time": "2017-12-07T03:15:02.053849Z",
     "start_time": "2017-12-07T03:15:02.044745Z"
    },
    "collapsed": false
   },
   "outputs": [],
   "source": [
    "# '－'  を NaN に置換\n",
    "# .str を2回も使わないといけないのはなんだか。。。\n",
    "bs_table.loc[~bs_table['１株純資産'].str.replace('.', '').str.isnumeric(), '１株純資産'] = np.nan\n",
    "bs_table.loc[~bs_table['有利子負債倍率'].str.replace('.', '').str.isnumeric(), '有利子負債倍率'] = np.nan"
   ]
  },
  {
   "cell_type": "code",
   "execution_count": null,
   "metadata": {
    "ExecuteTime": {
     "end_time": "2017-12-08T22:45:09.624705Z",
     "start_time": "2017-12-08T22:45:09.617929Z"
    },
    "collapsed": false
   },
   "outputs": [],
   "source": [
    "# 型変換\n",
    "bs_table[['１株純資産', '有利子負債倍率']] = bs_table[['１株純資産', '有利子負債倍率']].astype(float)"
   ]
  },
  {
   "cell_type": "code",
   "execution_count": null,
   "metadata": {
    "ExecuteTime": {
     "end_time": "2017-12-08T22:45:11.148506Z",
     "start_time": "2017-12-08T22:45:11.135780Z"
    },
    "collapsed": false
   },
   "outputs": [],
   "source": [
    "# 100万円単位換算\n",
    "bs_table[['総資産', '自己資本', '剰余金']] = bs_table[['総資産', '自己資本', '剰余金']].apply(lambda x: x * 1000000)"
   ]
  },
  {
   "cell_type": "code",
   "execution_count": null,
   "metadata": {
    "ExecuteTime": {
     "end_time": "2017-12-08T22:51:14.121625Z",
     "start_time": "2017-12-08T22:51:14.093233Z"
    },
    "collapsed": false
   },
   "outputs": [],
   "source": [
    "# 日付のパース、datetime.dateへの型変換\n",
    "# bs_table['決算期'] = bs_table['決算期'].apply(lambda x: parse(x.replace('-', '.'), yearfirst=True).date()) # 日付ではないので文字列のままの方がいいかも？\n",
    "bs_table['発表日'] = bs_table['発表日'].apply(lambda x: parse(x, yearfirst=True).date())\n",
    "# pandasのTimestampへの型変換\n",
    "# bs_table['決算期'] = pd.to_datetime(bs_table['決算期'], format='%Y-%m-%d')\n",
    "bs_table['発表日'] = pd.to_datetime(bs_table['発表日'], format='%Y-%m-%d')"
   ]
  },
  {
   "cell_type": "code",
   "execution_count": null,
   "metadata": {
    "ExecuteTime": {
     "end_time": "2017-12-05T06:12:43.100001Z",
     "start_time": "2017-12-05T06:12:43.072164Z"
    },
    "collapsed": false
   },
   "outputs": [],
   "source": [
    "tables[3]"
   ]
  },
  {
   "cell_type": "code",
   "execution_count": null,
   "metadata": {
    "ExecuteTime": {
     "end_time": "2017-12-05T06:32:52.178244Z",
     "start_time": "2017-12-05T06:32:52.152271Z"
    },
    "collapsed": false
   },
   "outputs": [],
   "source": [
    "bs_table"
   ]
  },
  {
   "cell_type": "code",
   "execution_count": null,
   "metadata": {
    "ExecuteTime": {
     "end_time": "2017-12-05T06:32:47.316300Z",
     "start_time": "2017-12-05T06:32:47.275865Z"
    },
    "collapsed": false
   },
   "outputs": [],
   "source": [
    "for count in range(len(pl_table)):\n",
    "    try:\n",
    "        if len(pl_table) == len(bs_table):\n",
    "            if (pl_table.ix[count, '会計基準'] == bs_table.ix[count, '会計基準'] and pl_table.ix[count, '決算期'] == bs_table.ix[count, '決算期']):\n",
    "                print('True {0}'.format(pl_table.ix[count, '発表日']))\n",
    "                bs_table.ix[count, '発表日'] = pl_table.ix[count, '発表日']\n",
    "        else:\n",
    "            print('{0}: Not match table length.'.format(code))\n",
    "    except Exception as e:\n",
    "        print(code)\n",
    "        print(e)"
   ]
  },
  {
   "cell_type": "code",
   "execution_count": null,
   "metadata": {
    "ExecuteTime": {
     "end_time": "2017-12-03T22:41:55.098231Z",
     "start_time": "2017-12-03T22:41:55.092240Z"
    },
    "collapsed": false
   },
   "outputs": [],
   "source": [
    "bs_table.dtypes"
   ]
  },
  {
   "cell_type": "code",
   "execution_count": null,
   "metadata": {
    "ExecuteTime": {
     "end_time": "2017-12-03T22:42:25.950115Z",
     "start_time": "2017-12-03T22:42:25.922327Z"
    },
    "collapsed": false,
    "scrolled": false
   },
   "outputs": [],
   "source": [
    "bs_table\n",
    "# 株プロに無い項目: 自己資本比率, 自己資本, 剰余金, 有利子負債倍率"
   ]
  },
  {
   "cell_type": "code",
   "execution_count": null,
   "metadata": {
    "ExecuteTime": {
     "end_time": "2017-11-28T20:49:03.024425Z",
     "start_time": "2017-11-28T20:49:02.974973Z"
    },
    "collapsed": false
   },
   "outputs": [],
   "source": [
    "kabupro.ix[(kabupro['証券コード'] == code) & (kabupro['会計基準'] == '米国基準') & (kabupro['決算期間'] == '通期'), \n",
    "           ['連結個別', '決算期', '期首', '一株当り純資産', '総資産', '情報公開日 (更新日)']]"
   ]
  },
  {
   "cell_type": "code",
   "execution_count": null,
   "metadata": {
    "ExecuteTime": {
     "end_time": "2017-11-28T20:02:06.222463Z",
     "start_time": "2017-11-28T20:02:06.217308Z"
    },
    "collapsed": false
   },
   "outputs": [],
   "source": [
    "# 比較参照用\n",
    "kabupro.columns"
   ]
  },
  {
   "cell_type": "markdown",
   "metadata": {},
   "source": [
    "## tables[2] 銘柄概要"
   ]
  },
  {
   "cell_type": "code",
   "execution_count": null,
   "metadata": {
    "ExecuteTime": {
     "end_time": "2017-12-03T22:19:01.345195Z",
     "start_time": "2017-12-03T22:19:01.332137Z"
    },
    "collapsed": false
   },
   "outputs": [],
   "source": [
    "tables[2]"
   ]
  },
  {
   "cell_type": "markdown",
   "metadata": {},
   "source": [
    "## tables[5] 過去最高 【実績】"
   ]
  },
  {
   "cell_type": "raw",
   "metadata": {},
   "source": [
    "# 不要かな？\n",
    "# 百万単位"
   ]
  },
  {
   "cell_type": "code",
   "execution_count": null,
   "metadata": {
    "ExecuteTime": {
     "end_time": "2017-12-03T22:24:14.181789Z",
     "start_time": "2017-12-03T22:24:14.169148Z"
    },
    "collapsed": false
   },
   "outputs": [],
   "source": [
    "tables[5]"
   ]
  },
  {
   "cell_type": "markdown",
   "metadata": {},
   "source": [
    "## tables[6] 下期業績 (過去3年 + 今年予想 + 前年同期比)"
   ]
  },
  {
   "cell_type": "raw",
   "metadata": {},
   "source": [
    "# 不要かな？\n",
    "# ちょっと株プロと見比べてみたいけどめんどくさい\n",
    "# 百万単位"
   ]
  },
  {
   "cell_type": "code",
   "execution_count": null,
   "metadata": {
    "ExecuteTime": {
     "end_time": "2017-12-03T22:25:35.181373Z",
     "start_time": "2017-12-03T22:25:35.164844Z"
    },
    "collapsed": false,
    "scrolled": true
   },
   "outputs": [],
   "source": [
    "tables[6]"
   ]
  },
  {
   "cell_type": "code",
   "execution_count": null,
   "metadata": {
    "ExecuteTime": {
     "end_time": "2017-11-28T20:10:47.639415Z",
     "start_time": "2017-11-28T20:10:47.634584Z"
    },
    "collapsed": false
   },
   "outputs": [],
   "source": [
    "tables[6].columns"
   ]
  },
  {
   "cell_type": "markdown",
   "metadata": {},
   "source": [
    "## tables[7] 第２四半期累計決算【実績】 (過去3年 + 前年同期比)"
   ]
  },
  {
   "cell_type": "raw",
   "metadata": {},
   "source": [
    "# 不要かな？\n",
    "# ちょっと株プロと見比べてみよう → 同じみたい\n",
    "# 対通期進捗率って経常益の最終的な通期実績に対して? 今年度分は予想に対して？\n",
    "# 百万単位"
   ]
  },
  {
   "cell_type": "code",
   "execution_count": null,
   "metadata": {
    "ExecuteTime": {
     "end_time": "2017-12-03T22:25:26.990192Z",
     "start_time": "2017-12-03T22:25:26.974837Z"
    },
    "collapsed": false
   },
   "outputs": [],
   "source": [
    "tables[7]"
   ]
  },
  {
   "cell_type": "code",
   "execution_count": null,
   "metadata": {
    "ExecuteTime": {
     "end_time": "2017-12-01T14:53:23.633140Z",
     "start_time": "2017-12-01T14:53:23.581341Z"
    },
    "collapsed": false
   },
   "outputs": [],
   "source": [
    "kabupro.ix[(kabupro['証券コード'] == code) & (kabupro['会計基準'] == '米国基準') & (kabupro['決算期間'] == '第2四半期'), \n",
    "           ['連結個別', '期首', '売上高', '営業利益', '経常利益', '純利益', '一株当り純利益', '情報公開日 (更新日)']].tail(3)"
   ]
  },
  {
   "cell_type": "code",
   "execution_count": null,
   "metadata": {
    "ExecuteTime": {
     "end_time": "2017-12-01T15:10:19.360173Z",
     "start_time": "2017-12-01T15:10:19.308983Z"
    },
    "collapsed": false
   },
   "outputs": [],
   "source": [
    "kabupro.ix[(kabupro['証券コード'] == code)& (kabupro['会計基準'] == '米国基準') & (kabupro['決算期間'].isin(['第2四半期', '通期'])), # \n",
    "           ['連結個別', '期首', '決算期間', '売上高', '営業利益', '経常利益', '純利益', '一株当り純利益', '情報公開日 (更新日)']].tail(5)"
   ]
  },
  {
   "cell_type": "code",
   "execution_count": null,
   "metadata": {
    "ExecuteTime": {
     "end_time": "2017-12-03T22:31:51.789297Z",
     "start_time": "2017-12-03T22:31:51.765415Z"
    },
    "collapsed": true
   },
   "outputs": [],
   "source": [
    "tables[4].tail(1)"
   ]
  },
  {
   "cell_type": "code",
   "execution_count": null,
   "metadata": {
    "ExecuteTime": {
     "end_time": "2017-11-28T20:02:06.222463Z",
     "start_time": "2017-11-28T20:02:06.217308Z"
    },
    "collapsed": false
   },
   "outputs": [],
   "source": [
    "# 比較参照用\n",
    "kabupro.columns"
   ]
  },
  {
   "cell_type": "markdown",
   "metadata": {},
   "source": [
    "# (準備) 単一銘柄の決算ページの取得"
   ]
  },
  {
   "cell_type": "code",
   "execution_count": null,
   "metadata": {
    "ExecuteTime": {
     "end_time": "2017-12-08T16:16:06.223150Z",
     "start_time": "2017-12-08T16:16:05.724583Z"
    },
    "collapsed": false
   },
   "outputs": [],
   "source": [
    "# 個別銘柄の決算ページを開く\n",
    "code = 1301 # トヨタ\n",
    "\n",
    "print('Navigating...', file=sys.stderr)\n",
    "browser.open('https://kabutan.jp/stock/finance?code={0}&mode=k'.format(code))\n",
    "\n",
    "# 決算ページにいることを確認する\n",
    "assert '決算' in browser.parsed.title.string\n",
    "\n",
    "print(browser.select('.kobetsu_data_table1_meigara')[0].text.strip())"
   ]
  },
  {
   "cell_type": "code",
   "execution_count": null,
   "metadata": {
    "ExecuteTime": {
     "end_time": "2017-12-08T16:17:04.298349Z",
     "start_time": "2017-12-08T16:17:02.803165Z"
    },
    "collapsed": false
   },
   "outputs": [],
   "source": [
    "# 個別銘柄の決算ページを開く\n",
    "code = 1301 # トヨタ\n",
    "\n",
    "print('Navigating...', file=sys.stderr)\n",
    "browser.open('https://s.kabutan.jp/stock/finance?code={0}&mode=k'.format(code))\n",
    "\n",
    "# 決算ページにいることを確認する\n",
    "assert '決算' in browser.parsed.title.string\n",
    "\n",
    "# print(browser.select('.kobetsu_data_table1_meigara')[0].text.strip())"
   ]
  },
  {
   "cell_type": "markdown",
   "metadata": {},
   "source": [
    "## html 全体の取得と保存"
   ]
  },
  {
   "cell_type": "code",
   "execution_count": null,
   "metadata": {
    "ExecuteTime": {
     "end_time": "2017-12-08T16:17:17.484455Z",
     "start_time": "2017-12-08T16:17:17.481235Z"
    },
    "collapsed": true
   },
   "outputs": [],
   "source": [
    "kessan_html = browser.find()"
   ]
  },
  {
   "cell_type": "code",
   "execution_count": null,
   "metadata": {
    "ExecuteTime": {
     "end_time": "2017-11-25T23:37:39.426657Z",
     "start_time": "2017-11-25T23:37:38.973948Z"
    },
    "collapsed": true
   },
   "outputs": [],
   "source": [
    "kessan_html"
   ]
  },
  {
   "cell_type": "code",
   "execution_count": null,
   "metadata": {
    "ExecuteTime": {
     "end_time": "2017-12-08T16:17:32.510456Z",
     "start_time": "2017-12-08T16:17:32.076947Z"
    },
    "collapsed": true
   },
   "outputs": [],
   "source": [
    "tables = pd.read_html(str(kessan_html), header=0)"
   ]
  },
  {
   "cell_type": "code",
   "execution_count": null,
   "metadata": {
    "ExecuteTime": {
     "end_time": "2017-11-25T23:37:53.779238Z",
     "start_time": "2017-11-25T23:37:53.287863Z"
    },
    "collapsed": true
   },
   "outputs": [],
   "source": [
    "tables[11]"
   ]
  },
  {
   "cell_type": "code",
   "execution_count": null,
   "metadata": {
    "ExecuteTime": {
     "end_time": "2017-11-19T09:44:22.328443Z",
     "start_time": "2017-11-19T09:44:22.288871Z"
    },
    "collapsed": true
   },
   "outputs": [],
   "source": [
    "# 後でhtml形式で読み込み可能なファイルとして書き出す方法\n",
    "kabutan_kessan = open('kabutan_kessan.html', 'w')\n",
    "kabutan_kessan.write(str(browser.find()))\n",
    "kabutan_kessan.close()"
   ]
  },
  {
   "cell_type": "code",
   "execution_count": null,
   "metadata": {
    "ExecuteTime": {
     "end_time": "2017-11-19T09:50:46.983821Z",
     "start_time": "2017-11-19T09:50:46.517083Z"
    },
    "collapsed": false
   },
   "outputs": [],
   "source": [
    "# 保存したhtmlファイルからの読み込み\n",
    "tables = pd.read_html('/Users/Really/Stockyard/kabutan_kessan.html', header=0)"
   ]
  },
  {
   "cell_type": "markdown",
   "metadata": {},
   "source": [
    "## html 内のテーブル属性のみの取得と保存"
   ]
  },
  {
   "cell_type": "code",
   "execution_count": null,
   "metadata": {
    "ExecuteTime": {
     "end_time": "2017-11-18T17:09:47.302413Z",
     "start_time": "2017-11-18T17:09:46.257876Z"
    },
    "collapsed": true
   },
   "outputs": [],
   "source": [
    "tables = pd.read_html(str(browser.select('table')), header=0)\n",
    "tables[11]"
   ]
  },
  {
   "cell_type": "code",
   "execution_count": null,
   "metadata": {
    "ExecuteTime": {
     "end_time": "2017-11-19T09:45:56.581738Z",
     "start_time": "2017-11-19T09:45:56.541288Z"
    },
    "collapsed": true
   },
   "outputs": [],
   "source": [
    "# 後でhtml形式で読み込み可能なファイルとして書き出す方法\n",
    "kabutan_kessan_tables = open('kabutan_kessan_tables.html', 'w')\n",
    "kabutan_kessan_tables.write(str(browser.select('table')))\n",
    "kabutan_kessan_tables.close()"
   ]
  },
  {
   "cell_type": "code",
   "execution_count": null,
   "metadata": {
    "ExecuteTime": {
     "end_time": "2017-11-18T16:31:30.894688Z",
     "start_time": "2017-11-18T16:31:30.891290Z"
    },
    "collapsed": false
   },
   "outputs": [],
   "source": [
    "# 保存したhtmlファイルからの読み込み\n",
    "tables = pd.read_html('/Users/Really/Stockyard/kabutan_kessan_tables.html', header=0)"
   ]
  },
  {
   "cell_type": "markdown",
   "metadata": {},
   "source": [
    "# (準備) 全テーブル内容の確認"
   ]
  },
  {
   "cell_type": "code",
   "execution_count": null,
   "metadata": {
    "ExecuteTime": {
     "end_time": "2017-12-07T03:21:35.982964Z",
     "start_time": "2017-12-07T03:21:35.451755Z"
    },
    "collapsed": false
   },
   "outputs": [],
   "source": [
    "# 保存した html からテーブル属性を読み込み\n",
    "tables = pd.read_html('/Users/Really/Stockyard/_kabutan_html/kabutan_{0}.html'.format(code), header=0)"
   ]
  },
  {
   "cell_type": "raw",
   "metadata": {},
   "source": [
    "# 14 以降はテーブル数が動的に変化する\n",
    "\n",
    "#  0 主要指標情報 日経平均\n",
    "#  1 主要指標情報 米ドル円\n",
    "#  2 主要指標情報 ＮＹダウ (終値)\n",
    "#  3 主要指標情報 上海総合 (終値)\n",
    "#  4 検索窓\n",
    "#  5 銘柄概要\n",
    "#  6 銘柄概要\n",
    "#  7 銘柄概要\n",
    "#  8 銘柄概要\n",
    "#  9 ＰＥＲ ＰＢＲ 利回り 信用倍率\n",
    "# 10 通期業績\n",
    "# 11 業績予想修正履歴 - 新規上場銘柄の場合は空\n",
    "# 12 不明\n",
    "# 13 修正履歴修正方向 - このテーブルの数が増減する\n",
    "#  - 過去最高 【実績】 - 新規上場銘柄の場合はない\n",
    "#  - 下期業績\n",
    "#  - 第２四半期累計決算【実績】\n",
    "#  - ３ヵ月業績の推移【実績】 - 新規上場銘柄の場合はない\n",
    "#  - 財務 【実績】\n",
    "#  - 日経平均チャート切り替え"
   ]
  },
  {
   "cell_type": "code",
   "execution_count": null,
   "metadata": {
    "ExecuteTime": {
     "end_time": "2017-12-08T16:17:40.008709Z",
     "start_time": "2017-12-08T16:17:39.998001Z"
    },
    "collapsed": false
   },
   "outputs": [],
   "source": [
    "# ページ上部の主要指標情報 1-4の各項目と同じところっぽい\n",
    "tables[0]"
   ]
  },
  {
   "cell_type": "code",
   "execution_count": null,
   "metadata": {
    "ExecuteTime": {
     "end_time": "2017-12-08T16:17:41.102630Z",
     "start_time": "2017-12-08T16:17:41.093006Z"
    },
    "code_folding": [],
    "collapsed": false
   },
   "outputs": [],
   "source": [
    "# 主要指標情報 日経平均\n",
    "tables[1]"
   ]
  },
  {
   "cell_type": "code",
   "execution_count": null,
   "metadata": {
    "ExecuteTime": {
     "end_time": "2017-12-08T16:17:48.261707Z",
     "start_time": "2017-12-08T16:17:48.238167Z"
    },
    "code_folding": [],
    "collapsed": false
   },
   "outputs": [],
   "source": [
    "# 主要指標情報 米ドル円\n",
    "tables[2]"
   ]
  },
  {
   "cell_type": "code",
   "execution_count": null,
   "metadata": {
    "ExecuteTime": {
     "end_time": "2017-12-08T16:17:59.936349Z",
     "start_time": "2017-12-08T16:17:59.927668Z"
    },
    "code_folding": [],
    "collapsed": false
   },
   "outputs": [],
   "source": [
    "# 主要指標情報 ＮＹダウ (終値)\n",
    "tables[3]"
   ]
  },
  {
   "cell_type": "code",
   "execution_count": null,
   "metadata": {
    "ExecuteTime": {
     "end_time": "2017-12-08T16:18:02.560809Z",
     "start_time": "2017-12-08T16:18:02.543613Z"
    },
    "code_folding": [],
    "collapsed": false
   },
   "outputs": [],
   "source": [
    "# 主要指標情報 上海総合 (終値)\n",
    "tables[4]"
   ]
  },
  {
   "cell_type": "code",
   "execution_count": null,
   "metadata": {
    "ExecuteTime": {
     "end_time": "2017-12-08T16:18:15.671358Z",
     "start_time": "2017-12-08T16:18:15.664224Z"
    },
    "collapsed": false
   },
   "outputs": [],
   "source": [
    "# 検索窓\n",
    "tables[5]"
   ]
  },
  {
   "cell_type": "code",
   "execution_count": null,
   "metadata": {
    "ExecuteTime": {
     "end_time": "2017-12-08T16:18:18.114987Z",
     "start_time": "2017-12-08T16:18:18.103857Z"
    },
    "collapsed": false
   },
   "outputs": [],
   "source": [
    "# 銘柄概要\n",
    "tables[6]"
   ]
  },
  {
   "cell_type": "code",
   "execution_count": null,
   "metadata": {
    "ExecuteTime": {
     "end_time": "2017-12-08T16:18:29.049483Z",
     "start_time": "2017-12-08T16:18:29.041571Z"
    },
    "collapsed": false
   },
   "outputs": [],
   "source": [
    "# 銘柄概要\n",
    "tables[7]"
   ]
  },
  {
   "cell_type": "code",
   "execution_count": null,
   "metadata": {
    "ExecuteTime": {
     "end_time": "2017-12-08T16:18:30.977385Z",
     "start_time": "2017-12-08T16:18:30.961941Z"
    },
    "collapsed": false
   },
   "outputs": [],
   "source": [
    "# 銘柄概要\n",
    "tables[8]"
   ]
  },
  {
   "cell_type": "code",
   "execution_count": null,
   "metadata": {
    "ExecuteTime": {
     "end_time": "2017-12-08T16:18:34.857493Z",
     "start_time": "2017-12-08T16:18:34.850048Z"
    },
    "collapsed": false
   },
   "outputs": [],
   "source": [
    "# 銘柄概要\n",
    "tables[9]"
   ]
  },
  {
   "cell_type": "code",
   "execution_count": null,
   "metadata": {
    "ExecuteTime": {
     "end_time": "2017-12-08T16:18:36.479017Z",
     "start_time": "2017-12-08T16:18:36.463936Z"
    },
    "collapsed": false
   },
   "outputs": [],
   "source": [
    "# ＰＥＲ ＰＢＲ 利回り 信用倍率\n",
    "tables[10]"
   ]
  },
  {
   "cell_type": "code",
   "execution_count": null,
   "metadata": {
    "ExecuteTime": {
     "end_time": "2017-12-08T16:18:42.790864Z",
     "start_time": "2017-12-08T16:18:42.780788Z"
    },
    "collapsed": false
   },
   "outputs": [],
   "source": [
    "# 通期業績\n",
    "tables[11]\n",
    "# 株プロに無い項目: １株配"
   ]
  },
  {
   "cell_type": "code",
   "execution_count": null,
   "metadata": {
    "ExecuteTime": {
     "end_time": "2017-12-08T16:18:51.798465Z",
     "start_time": "2017-12-08T16:18:51.773693Z"
    },
    "collapsed": false
   },
   "outputs": [],
   "source": [
    "# 業績予想修正履歴\n",
    "tables[12]"
   ]
  },
  {
   "cell_type": "code",
   "execution_count": null,
   "metadata": {
    "ExecuteTime": {
     "end_time": "2017-12-08T16:19:01.549119Z",
     "start_time": "2017-12-08T16:19:01.539494Z"
    },
    "collapsed": false
   },
   "outputs": [],
   "source": [
    "# 不明\n",
    "tables[13]"
   ]
  },
  {
   "cell_type": "code",
   "execution_count": null,
   "metadata": {
    "ExecuteTime": {
     "end_time": "2017-12-08T16:19:03.777427Z",
     "start_time": "2017-12-08T16:19:03.755366Z"
    },
    "collapsed": false
   },
   "outputs": [],
   "source": [
    "# 修正履歴修正方向\n",
    "tables[14]"
   ]
  },
  {
   "cell_type": "code",
   "execution_count": null,
   "metadata": {
    "ExecuteTime": {
     "end_time": "2017-12-08T16:19:07.673064Z",
     "start_time": "2017-12-08T16:19:07.661842Z"
    },
    "collapsed": false
   },
   "outputs": [],
   "source": [
    "tables[15]"
   ]
  },
  {
   "cell_type": "code",
   "execution_count": null,
   "metadata": {
    "ExecuteTime": {
     "end_time": "2017-12-08T16:19:10.073994Z",
     "start_time": "2017-12-08T16:19:10.063317Z"
    },
    "collapsed": false
   },
   "outputs": [],
   "source": [
    "tables[16]"
   ]
  },
  {
   "cell_type": "code",
   "execution_count": null,
   "metadata": {
    "ExecuteTime": {
     "end_time": "2017-12-07T03:21:57.596690Z",
     "start_time": "2017-12-07T03:21:57.589254Z"
    },
    "collapsed": false
   },
   "outputs": [],
   "source": [
    "tables[17]"
   ]
  },
  {
   "cell_type": "code",
   "execution_count": null,
   "metadata": {
    "ExecuteTime": {
     "end_time": "2017-12-07T03:21:59.690771Z",
     "start_time": "2017-12-07T03:21:59.683529Z"
    },
    "collapsed": false
   },
   "outputs": [],
   "source": [
    "tables[18]"
   ]
  },
  {
   "cell_type": "code",
   "execution_count": null,
   "metadata": {
    "ExecuteTime": {
     "end_time": "2017-12-07T03:22:00.615335Z",
     "start_time": "2017-12-07T03:22:00.607382Z"
    },
    "collapsed": false
   },
   "outputs": [],
   "source": [
    "tables[19]"
   ]
  },
  {
   "cell_type": "code",
   "execution_count": null,
   "metadata": {
    "ExecuteTime": {
     "end_time": "2017-12-07T03:22:01.561745Z",
     "start_time": "2017-12-07T03:22:01.554354Z"
    },
    "collapsed": false
   },
   "outputs": [],
   "source": [
    "tables[20]"
   ]
  },
  {
   "cell_type": "code",
   "execution_count": null,
   "metadata": {
    "ExecuteTime": {
     "end_time": "2017-12-07T03:22:02.538294Z",
     "start_time": "2017-12-07T03:22:02.525686Z"
    },
    "collapsed": false
   },
   "outputs": [],
   "source": [
    "tables[21]"
   ]
  },
  {
   "cell_type": "code",
   "execution_count": null,
   "metadata": {
    "ExecuteTime": {
     "end_time": "2017-12-07T03:22:16.455216Z",
     "start_time": "2017-12-07T03:22:16.437961Z"
    },
    "collapsed": false
   },
   "outputs": [],
   "source": [
    "tables[22]"
   ]
  },
  {
   "cell_type": "code",
   "execution_count": null,
   "metadata": {
    "ExecuteTime": {
     "end_time": "2017-12-07T03:22:20.173226Z",
     "start_time": "2017-12-07T03:22:20.143507Z"
    },
    "collapsed": false
   },
   "outputs": [],
   "source": [
    "tables[23]"
   ]
  },
  {
   "cell_type": "code",
   "execution_count": null,
   "metadata": {
    "ExecuteTime": {
     "end_time": "2017-12-07T03:22:42.837907Z",
     "start_time": "2017-12-07T03:22:42.829704Z"
    },
    "collapsed": false
   },
   "outputs": [],
   "source": [
    "tables[24]"
   ]
  },
  {
   "cell_type": "code",
   "execution_count": null,
   "metadata": {
    "ExecuteTime": {
     "end_time": "2017-12-07T03:22:46.311863Z",
     "start_time": "2017-12-07T03:22:46.304526Z"
    },
    "collapsed": false
   },
   "outputs": [],
   "source": [
    "tables[25]"
   ]
  },
  {
   "cell_type": "code",
   "execution_count": null,
   "metadata": {
    "ExecuteTime": {
     "end_time": "2017-12-07T03:22:47.394770Z",
     "start_time": "2017-12-07T03:22:47.379478Z"
    },
    "collapsed": false
   },
   "outputs": [],
   "source": [
    "tables[26]"
   ]
  },
  {
   "cell_type": "code",
   "execution_count": null,
   "metadata": {
    "ExecuteTime": {
     "end_time": "2017-12-07T03:22:53.174528Z",
     "start_time": "2017-12-07T03:22:53.149620Z"
    },
    "collapsed": false
   },
   "outputs": [],
   "source": [
    "tables[27]"
   ]
  },
  {
   "cell_type": "code",
   "execution_count": null,
   "metadata": {
    "ExecuteTime": {
     "end_time": "2017-12-07T03:22:59.890464Z",
     "start_time": "2017-12-07T03:22:59.864205Z"
    },
    "collapsed": false
   },
   "outputs": [],
   "source": [
    "tables[28]"
   ]
  },
  {
   "cell_type": "code",
   "execution_count": null,
   "metadata": {
    "ExecuteTime": {
     "end_time": "2017-12-07T03:23:03.943354Z",
     "start_time": "2017-12-07T03:23:03.935286Z"
    },
    "collapsed": false
   },
   "outputs": [],
   "source": [
    "tables[29]"
   ]
  },
  {
   "cell_type": "code",
   "execution_count": null,
   "metadata": {
    "collapsed": true
   },
   "outputs": [],
   "source": []
  }
 ],
 "metadata": {
  "kernelspec": {
   "display_name": "Python 3",
   "language": "python",
   "name": "python3"
  },
  "language_info": {
   "codemirror_mode": {
    "name": "ipython",
    "version": 3
   },
   "file_extension": ".py",
   "mimetype": "text/x-python",
   "name": "python",
   "nbconvert_exporter": "python",
   "pygments_lexer": "ipython3",
   "version": "3.6.0"
  },
  "toc": {
   "nav_menu": {},
   "number_sections": true,
   "sideBar": true,
   "skip_h1_title": false,
   "toc_cell": false,
   "toc_position": {},
   "toc_section_display": "block",
   "toc_window_display": false
  },
  "varInspector": {
   "cols": {
    "lenName": 16,
    "lenType": 16,
    "lenVar": 40
   },
   "kernels_config": {
    "python": {
     "delete_cmd_postfix": "",
     "delete_cmd_prefix": "del ",
     "library": "var_list.py",
     "varRefreshCmd": "print(var_dic_list())"
    },
    "r": {
     "delete_cmd_postfix": ") ",
     "delete_cmd_prefix": "rm(",
     "library": "var_list.r",
     "varRefreshCmd": "cat(var_dic_list()) "
    }
   },
   "position": {
    "height": "362px",
    "left": "983px",
    "right": "24px",
    "top": "120px",
    "width": "346px"
   },
   "types_to_exclude": [
    "module",
    "function",
    "builtin_function_or_method",
    "instance",
    "_Feature"
   ],
   "window_display": false
  }
 },
 "nbformat": 4,
 "nbformat_minor": 2
}
