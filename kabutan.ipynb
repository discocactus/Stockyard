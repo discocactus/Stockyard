{
 "cells": [
  {
   "cell_type": "markdown",
   "metadata": {},
   "source": [
    "# memo"
   ]
  },
  {
   "cell_type": "raw",
   "metadata": {},
   "source": [
    "# ※単位：売上高、営業益、経常益、最終益は「百万円」。１株益、１株配は「円」。率は「％」\n",
    "\n",
    "# ※１株純資産は「円」。自己資本比率は「％」。総資産、自己資本、剰余金は「百万円」。有利子負債倍率は「倍」\n",
    "\n",
    "# ・「連」：日本会計基準［連結決算］、「単」：日本会計基準［非連結決算(単独決算)］、「U」：米国会計基準、「I」：国際会計基準(IFRS)、\n",
    "# 「予」：予想業績、「旧」：修正前の予想業績、「新」：修正後の予想業績、「実」：実績業績、「変」：決算期変更\n",
    "\n",
    "# ・［連結／非連結］決算区分の変更があった場合は、連続的に業績推移を追えるように、連結と非連結を混在して表示しています。\n",
    "# 連結と非連結が混在しない場合は、「連」「単」表記は省略します。\n",
    "\n",
    "# ・前期比および前年同期比は、会計基準や決算期間が異なる場合は比較できないため、「－」で表記しています。\n",
    "\n",
    "# ・米国会計基準と国際会計基準では、「経常益」欄の数値は「税引き前利益」を表記しています。\n",
    "\n",
    "# ・業績予想がレンジで開示された場合は中央値を表記しています。"
   ]
  },
  {
   "cell_type": "raw",
   "metadata": {},
   "source": [
    "# 25935 伊藤園第1種優先株式 ない\n",
    "\n",
    "# 銘柄によってテーブルの構成が違う (例) 7203 トヨタ 28 個、9432 NTT 29 個\n",
    "# 修正方向の矢印のパターンの数でテーブル数が動的に変わる?\n",
    "# 列数が 5 以下のテーブルを削除 → 原則、各銘柄テーブル数は 10 個固定で大丈夫?\n",
    "# 新規上場銘柄には存在しないテーブルがある (例) 3995 SKIYAKI 過去最高と３ヵ月業績の推移が無い、業績予想の修正履歴は空)\n",
    "# → 数銘柄だけのはずなので、例外としてパスして後でマニュアル処理する?\n",
    "\n",
    "# 2000年以前の財務実績の発表日は全体的に信用できない\n",
    "# 1998年は何らかの日付で固定 or 捨て、1999年と2000年は通期業績の発表日と同じにする"
   ]
  },
  {
   "cell_type": "markdown",
   "metadata": {},
   "source": [
    "# import など準備"
   ]
  },
  {
   "cell_type": "markdown",
   "metadata": {},
   "source": [
    "## import, MySQL 接続"
   ]
  },
  {
   "cell_type": "code",
   "execution_count": null,
   "metadata": {
    "ExecuteTime": {
     "end_time": "2017-12-05T06:05:54.400506Z",
     "start_time": "2017-12-05T06:05:52.829345Z"
    },
    "code_folding": [],
    "collapsed": false
   },
   "outputs": [],
   "source": [
    "# import\n",
    "import sys\n",
    "import os\n",
    "import re\n",
    "import datetime as dt\n",
    "import time\n",
    "import importlib\n",
    "import logging\n",
    "import numpy as np\n",
    "import pandas as pd\n",
    "from robobrowser import RoboBrowser\n",
    "# from robobrowser.browser import RoboState\n",
    "from retry import retry\n",
    "from dateutil.parser import parse\n",
    "from datetime import datetime\n",
    "from IPython.display import display\n",
    "\n",
    "import stock"
   ]
  },
  {
   "cell_type": "code",
   "execution_count": null,
   "metadata": {
    "collapsed": true
   },
   "outputs": [],
   "source": [
    "importlib.reload(stock)"
   ]
  },
  {
   "cell_type": "code",
   "execution_count": null,
   "metadata": {
    "ExecuteTime": {
     "end_time": "2017-12-05T06:05:58.372054Z",
     "start_time": "2017-12-05T06:05:58.368971Z"
    },
    "collapsed": true
   },
   "outputs": [],
   "source": [
    "# pandas の最大表示列数を設定 (max_rows で表示行数の設定も可能)\n",
    "pd.set_option('display.max_columns', 30)"
   ]
  },
  {
   "cell_type": "code",
   "execution_count": null,
   "metadata": {
    "ExecuteTime": {
     "end_time": "2017-12-05T06:05:59.367237Z",
     "start_time": "2017-12-05T06:05:59.364477Z"
    },
    "collapsed": false
   },
   "outputs": [],
   "source": [
    "sql = stock.sql()"
   ]
  },
  {
   "cell_type": "markdown",
   "metadata": {},
   "source": [
    "## 比較参照用、株プロ決算の読み込み"
   ]
  },
  {
   "cell_type": "code",
   "execution_count": null,
   "metadata": {
    "ExecuteTime": {
     "end_time": "2017-11-30T22:48:16.984209Z",
     "start_time": "2017-11-30T22:48:16.981184Z"
    },
    "collapsed": true
   },
   "outputs": [],
   "source": [
    "table_name = 'kabupro_kessan'"
   ]
  },
  {
   "cell_type": "code",
   "execution_count": null,
   "metadata": {
    "ExecuteTime": {
     "end_time": "2017-11-30T22:48:40.663122Z",
     "start_time": "2017-11-30T22:48:36.151027Z"
    },
    "collapsed": false
   },
   "outputs": [],
   "source": [
    "kabupro = sql.read_table(table_name)"
   ]
  },
  {
   "cell_type": "code",
   "execution_count": null,
   "metadata": {
    "ExecuteTime": {
     "end_time": "2017-11-30T22:50:31.865897Z",
     "start_time": "2017-11-30T22:50:31.751462Z"
    },
    "collapsed": false
   },
   "outputs": [],
   "source": [
    "kabupro"
   ]
  },
  {
   "cell_type": "code",
   "execution_count": null,
   "metadata": {
    "ExecuteTime": {
     "end_time": "2017-11-29T17:41:52.402353Z",
     "start_time": "2017-11-29T17:41:52.389745Z"
    },
    "collapsed": false
   },
   "outputs": [],
   "source": [
    "kabupro.columns"
   ]
  },
  {
   "cell_type": "code",
   "execution_count": null,
   "metadata": {
    "ExecuteTime": {
     "end_time": "2017-11-28T20:02:31.051947Z",
     "start_time": "2017-11-28T20:02:31.037847Z"
    },
    "collapsed": true
   },
   "outputs": [],
   "source": [
    "kabupro.ix[14]\n",
    "# 株プロにしか無い項目: 希薄化後一株当り純利益, 純資産又は株主資本, 営業キャッシュフロー, 投資キャッシュフロー, 財務キャッシュフロー"
   ]
  },
  {
   "cell_type": "markdown",
   "metadata": {},
   "source": [
    "## 参考コード"
   ]
  },
  {
   "cell_type": "code",
   "execution_count": null,
   "metadata": {
    "code_folding": [
     0
    ],
    "collapsed": true
   },
   "outputs": [],
   "source": [
    "def get_price_yahoojp(code, start=None, end=None, interval='d'): # start = '2017-01-01'\n",
    "    # http://sinhrks.hatenablog.com/entry/2015/02/04/002258\n",
    "    # http://jbclub.xii.jp/?p=598\n",
    "    base = 'http://info.finance.yahoo.co.jp/history/?code={0}.T&{1}&{2}&tm={3}&p={4}'\n",
    "    \n",
    "    start = pd.to_datetime(start) # Timestamp('2017-01-01 00:00:00')\n",
    "\n",
    "    if end == None:\n",
    "        end = pd.to_datetime(pd.datetime.now())\n",
    "    else :\n",
    "        end = pd.to_datetime(end)\n",
    "    start = 'sy={0}&sm={1}&sd={2}'.format(start.year, start.month, start.day) # 'sy=2017&sm=1&sd=1'\n",
    "    end = 'ey={0}&em={1}&ed={2}'.format(end.year, end.month, end.day)\n",
    "    p = 1\n",
    "    tmp_result = []\n",
    "\n",
    "    if interval not in ['d', 'w', 'm', 'v']:\n",
    "        raise ValueError(\"Invalid interval: valid values are 'd', 'w', 'm' and 'v'\")\n",
    "\n",
    "    while True:\n",
    "        url = base.format(code, start, end, interval, p)\n",
    "        # print(url)\n",
    "        # https://info.finance.yahoo.co.jp/history/?code=7203.T&sy=2000&sm=1&sd=1&ey=2017&em=10&ed=13&tm=d&p=1\n",
    "        tables = get_table(url)\n",
    "        if len(tables) < 2 or len(tables[1]) == 0:\n",
    "            # print('break')\n",
    "            break\n",
    "        tmp_result.append(tables[1]) # ページ内の3つのテーブルのうち2番目のテーブルを連結\n",
    "        p += 1\n",
    "        # print(p)\n",
    "        \n",
    "    result = pd.concat(tmp_result, ignore_index=True) # インデックスをゼロから振り直す\n",
    "\n",
    "    result.columns = ['Date', 'Open', 'High', 'Low', 'Close', 'Volume', 'AdjClose'] # 列名を変更\n",
    "    if interval == 'm':\n",
    "        result['Date'] = pd.to_datetime(result['Date'], format='%Y年%m月')\n",
    "    else:\n",
    "        result['Date'] = pd.to_datetime(result['Date'], format='%Y年%m月%d日') # 日付の表記を変更\n",
    "    result = result.set_index('Date') # インデックスを日付に変更\n",
    "    result = result.sort_index()\n",
    "    \n",
    "    stock_name = tables[0].columns[0]\n",
    "    # print([code, stock_name])\n",
    "    \n",
    "    return [result, stock_name]"
   ]
  },
  {
   "cell_type": "code",
   "execution_count": null,
   "metadata": {
    "code_folding": [
     0
    ],
    "collapsed": true
   },
   "outputs": [],
   "source": [
    "# yahoo 初回連続読み込み\n",
    "# 読み込み期間の設定\n",
    "start = '2000-01-01'\n",
    "end = None\n",
    "\n",
    "# ロガー設定\n",
    "start_time = dt.datetime.now()\n",
    "logging.basicConfig(filename='get_price_{0}.log'.format(start_time.strftime('%Y-%m-%d')), filemode='w', level=logging.INFO)\n",
    "logging.info('{0} get_price Started'.format(start_time.strftime('%Y-%m-%d %H:%M:%S')))\n",
    "\n",
    "sql = stock.sql() # MySQLに接続するクラスインスタンスを作成\n",
    "\n",
    "info = sql.get_info() # 保存済み info の読み込み\n",
    "failed = [] # 読み込みに失敗した銘柄のコードを書き込むリストを作成\n",
    "save_failed = [] # 保存のみ失敗した分\n",
    "\n",
    "# 連続読み込み書き込み\n",
    "for index in range(len(reading_code)):\n",
    "    code = reading_code[index]\n",
    "    \n",
    "    try:\n",
    "        time.sleep(5)\n",
    "        \n",
    "        # Yahooファイナスンスから時系列情報と銘柄名を取得\n",
    "        tmp_price, stock_name = stock.get_price_yahoojp(code, start=start, end=end)\n",
    "        \n",
    "        # 価格と価格以外の情報を分離\n",
    "        tmp_info = tmp_price[tmp_price.isnull().any(axis=1)].reset_index()\n",
    "        if len(tmp_info) > 0:\n",
    "            new_info = stock.reform_info(tmp_info, code, stock_name)\n",
    "            info = info.append(new_info, ignore_index=True)\n",
    "        \n",
    "            price = stock.extract_price(tmp_price)\n",
    "            \n",
    "        else:\n",
    "            price = tmp_price # 価格以外の情報がなければそのまま\n",
    "            \n",
    "        try:\n",
    "            # CSVで保存\n",
    "            price.to_csv('/Users/Really/Stockyard/_csv/t_{0}.csv'.format(code))\n",
    "            info.to_csv('/Users/Really/Stockyard/_csv/info.csv')\n",
    "            # MySQLに保存\n",
    "            sql.write_price(code, price)\n",
    "            sql.write_info('info', info)\n",
    "          \n",
    "            print('{0}: Success {1}'.format(index, code))\n",
    "            \n",
    "        except Exception as e:\n",
    "            logging.warning('{0} {1}: {2}'.format(dt.datetime.now().strftime('%Y-%m-%d %H:%M:%S'), code, e))\n",
    "            save_failed.append(code)\n",
    "            print('{0}: Failed in {1} at Save Data'.format(index, code))\n",
    "            print(e)\n",
    "            \n",
    "    except Exception as e:\n",
    "        logging.warning('{0} {1}: {2}'.format(dt.datetime.now().strftime('%Y-%m-%d %H:%M:%S'), code, e))\n",
    "        failed.append(code)\n",
    "        print('{0}: Failed in {1} at get_price'.format(index, code))\n",
    "        print(e)\n",
    "\n",
    "print('Failed in {0} stocks at get:'.format(len(failed)))\n",
    "print(failed)\n",
    "print('Failed in {0} stocks at save:'.format(len(save_failed)))\n",
    "print(save_failed)\n",
    "\n",
    "# 最後にinfoの重複と順序を整理してから再度保存\n",
    "info = info.drop_duplicates()\n",
    "info = info.sort_values(by=['Code', 'Date'])\n",
    "info.to_csv('/Users/Really/Stockyard/_csv/info.csv')\n",
    "sql.write_info('info', info)\n",
    "\n",
    "logging.info('{0} get_price Finished'.format(dt.datetime.now().strftime('%Y-%m-%d %H:%M:%S')))"
   ]
  },
  {
   "cell_type": "code",
   "execution_count": null,
   "metadata": {
    "code_folding": [
     0
    ],
    "collapsed": true
   },
   "outputs": [],
   "source": [
    "%%writefile amazon_order_history.py\n",
    "\n",
    "# Amazon.co.jpの注文履歴を取得する\n",
    "\n",
    "import sys\n",
    "import os\n",
    "from robobrowser import RoboBrowser\n",
    "\n",
    "# 認証の情報は環境変数から取得する\n",
    "AMAZON_EMAIL = os.environ['AMAZON_EMAIL']\n",
    "AMAZON_PASSWORD = os.environ['AMAZON_PASSWORD']\n",
    "\n",
    "# RoboBrowserオブジェクトを作成する\n",
    "browser = RoboBrowser(\n",
    "    parser='html.parser', # Beatiful Soupで使用するパーサーを指定\n",
    "    # Cookieが使用できないと表示されてログインできない問題を回避するため\n",
    "    # 通常のブラウザーのUser-Agent(ここではFirefoxのもの)を使う\n",
    "    user_agent='Mozilla/5.0 (Macintosh; Intel Mac OS X 10.10; rv:45.0) Gecko/20100101 Firefox/45.0')\n",
    "\n",
    "\n",
    "def main():\n",
    "    # 注文履歴のページを開く\n",
    "    print('Navigating...', file=sys.stderr)\n",
    "    browser.open('https://www.amazon.co.jp/gp/css/order-history')\n",
    "    \n",
    "    # サインインページにリダイレクトされていることを確認する\n",
    "    assert 'Amazonサインイン' in browser.parsed.title.string\n",
    "    \n",
    "    # name=\"signIn\" というサインインフォームを埋める。\n",
    "    # フォームのname属性の値はブラウザーの開発者ツールで確認できる。\n",
    "    form = browser.get_form(attrs={'name': 'signIn'})\n",
    "    form['email'] = AMAZON_EMAIL\n",
    "    form['password'] = AMAZON_PASSWORD\n",
    "    \n",
    "    # フォームを送信する。正常にログインするにはRefererヘッダーとAccept-Languageヘッダーが必要。\n",
    "    print('Signing in...', file=sys.stderr)\n",
    "    browser.submit_form(form, headers={\n",
    "        'Referer': browser.url,\n",
    "        'Accept-Language': 'ja,en-US;q=0.7,en;q=0.3',\n",
    "    })\n",
    "    \n",
    "    # ログインに失敗する場合は、次の行のコメントを外してHTMLのソースを確認すると良い。\n",
    "    # print(browser.parsed.prettify())\n",
    "\n",
    "    # ページャーをたどる。\n",
    "    while True:\n",
    "        assert '注文履歴' in browser.parsed.title.string # 注文履歴画面が表示されていることを確認する。\n",
    "        \n",
    "        print_order_history() # 注文履歴を表示する。\n",
    "        \n",
    "        link_to_next = browser.get_link('次へ') #「次へ」というテキストを持つリンクを取得する。\n",
    "        if not link_to_next:\n",
    "            break #「次へ」のリンクがない場合はループを抜けて終了する。\n",
    "            \n",
    "        print('Following link to next page...', file=sys.stderr)\n",
    "        browser.follow_link(link_to_next) # 次へ」というリンクをたどる。\n",
    "        \n",
    "        \n",
    "def print_order_history():\n",
    "    \"\"\"\n",
    "    現在のページのすべての注文履歴を表示する\n",
    "    \"\"\"\n",
    "    for line_item in browser.select('.order-info'):\n",
    "        order = {} # 注文の情報を格納するためのdict\n",
    "        # ページ内のすべての注文履歴について反復する。ブラウザーの開発者ツールでclass属性の値を確認できる\n",
    "        # 注文の情報のすべての列について反復する\n",
    "        for column in line_item.select('.a-column'):\n",
    "            label_element = column.select_one('.label')\n",
    "            value_element = column.select_one('.value')\n",
    "            # ラベルと値がない列は無視する。\n",
    "            if label_element and value_element:\n",
    "                label = label_element.get_text().strip()\n",
    "                value = value_element.get_text().strip()\n",
    "                order[label] = value\n",
    "        print(order['注文日'], order['合計']) # 注文の情報を表示する。\n",
    "        \n",
    "\n",
    "if __name__ == '__main__':\n",
    "    main()"
   ]
  },
  {
   "cell_type": "code",
   "execution_count": null,
   "metadata": {
    "collapsed": true
   },
   "outputs": [],
   "source": [
    "!forego run python amazon_order_history.py"
   ]
  },
  {
   "cell_type": "markdown",
   "metadata": {},
   "source": [
    "# ログイン。入力したメアドとパスワードが出力に表示されてしまうのでそのままでGitHubに上げちゃダメ！ログインを済ませたら必ずすぐにクリア！"
   ]
  },
  {
   "cell_type": "markdown",
   "metadata": {},
   "source": [
    "__TODO__ forego を利用してログイン情報を隠せないか検討"
   ]
  },
  {
   "cell_type": "code",
   "execution_count": null,
   "metadata": {
    "ExecuteTime": {
     "end_time": "2017-11-26T01:15:14.065170Z",
     "start_time": "2017-11-26T01:14:53.618661Z"
    },
    "code_folding": [],
    "collapsed": false
   },
   "outputs": [],
   "source": [
    "# sign-in\n",
    "# 認証の情報\n",
    "KT_EMAIL = input('Name?')\n",
    "KT_PASSWORD = input('Password?')\n",
    "\n",
    "# RoboBrowserオブジェクトを作成する\n",
    "browser = RoboBrowser(\n",
    "    parser='html.parser', # Beatiful Soupで使用するパーサーを指定\n",
    "    # Cookieが使用できないと表示されてログインできない問題を回避するため\n",
    "    # 通常のブラウザーのUser-Agent(ここではFirefoxのもの)を使う\n",
    "    user_agent='Mozilla/5.0 (Macintosh; Intel Mac OS X 10.10; rv:45.0) Gecko/20100101 Firefox/45.0')\n",
    "\n",
    "# ログインページを開く\n",
    "print('Navigating...', file=sys.stderr)\n",
    "browser.open('https://account.kabutan.jp/login')\n",
    "\n",
    "# 株探プレミアムページにいることを確認する\n",
    "assert '株探プレミアム' in browser.parsed.title.string\n",
    "\n",
    "# name=\"signIn\" というサインインフォームを埋める。\n",
    "# フォームのname属性の値はブラウザーの開発者ツールで確認できる。\n",
    "form = browser.get_form(action='/login')\n",
    "form['session[email]'] = KT_EMAIL\n",
    "form['session[password]'] = KT_PASSWORD\n",
    "\n",
    "# フォームを送信する。\n",
    "# 正常にログインするにはRefererヘッダーとAccept-Languageヘッダーが必要な場合がある。\n",
    "print('Signing in...', file=sys.stderr)\n",
    "browser.submit_form(form)\n",
    "\n",
    "print(browser.select('.is-success')[0].text.strip())"
   ]
  },
  {
   "cell_type": "markdown",
   "metadata": {},
   "source": [
    "# 銘柄コードリスト"
   ]
  },
  {
   "cell_type": "code",
   "execution_count": null,
   "metadata": {
    "ExecuteTime": {
     "end_time": "2017-12-02T19:18:56.694311Z",
     "start_time": "2017-12-02T19:18:54.855921Z"
    },
    "collapsed": true
   },
   "outputs": [],
   "source": [
    "domestic_stock_table = sql.read_table('domestic_stock_table')"
   ]
  },
  {
   "cell_type": "code",
   "execution_count": null,
   "metadata": {
    "ExecuteTime": {
     "end_time": "2017-11-26T01:13:21.301264Z",
     "start_time": "2017-11-26T01:13:21.245746Z"
    },
    "collapsed": true
   },
   "outputs": [],
   "source": [
    "domestic_stock_table"
   ]
  },
  {
   "cell_type": "code",
   "execution_count": null,
   "metadata": {
    "ExecuteTime": {
     "end_time": "2017-12-02T19:19:00.748335Z",
     "start_time": "2017-12-02T19:19:00.745073Z"
    },
    "collapsed": true
   },
   "outputs": [],
   "source": [
    "code_list = list(domestic_stock_table['code'])"
   ]
  },
  {
   "cell_type": "code",
   "execution_count": null,
   "metadata": {
    "collapsed": true
   },
   "outputs": [],
   "source": [
    "# 伊藤園第1種優先株式を削除\n",
    "# 要素の値を直接指定して削除することができる\n",
    "code_list.remove(25935)"
   ]
  },
  {
   "cell_type": "code",
   "execution_count": null,
   "metadata": {
    "ExecuteTime": {
     "end_time": "2017-12-02T19:19:03.885726Z",
     "start_time": "2017-12-02T19:19:03.880893Z"
    },
    "collapsed": false,
    "scrolled": true
   },
   "outputs": [],
   "source": [
    "code_list[-10:]"
   ]
  },
  {
   "cell_type": "code",
   "execution_count": null,
   "metadata": {
    "ExecuteTime": {
     "end_time": "2017-12-02T19:19:04.914943Z",
     "start_time": "2017-12-02T19:19:04.910529Z"
    },
    "collapsed": false
   },
   "outputs": [],
   "source": [
    "len(code_list)"
   ]
  },
  {
   "cell_type": "code",
   "execution_count": null,
   "metadata": {
    "ExecuteTime": {
     "end_time": "2017-11-26T02:14:35.803466Z",
     "start_time": "2017-11-26T02:14:35.796975Z"
    },
    "collapsed": false
   },
   "outputs": [],
   "source": [
    "start_index = 30\n",
    "increase_number = 10\n",
    "# end_index = start_index + increase_number\n",
    "end_index = len(code_list)\n",
    "\n",
    "reading_code = code_list[start_index : end_index]\n",
    "print(reading_code[-10:])\n",
    "print('Next start from {0}'.format(start_index + increase_number))"
   ]
  },
  {
   "cell_type": "markdown",
   "metadata": {},
   "source": [
    "# 上場日本株全銘柄の決算ページの連続読み込み"
   ]
  },
  {
   "cell_type": "markdown",
   "metadata": {},
   "source": [
    "## get_html 関数 (retry 付き)"
   ]
  },
  {
   "cell_type": "code",
   "execution_count": null,
   "metadata": {
    "ExecuteTime": {
     "end_time": "2017-11-26T02:02:35.241845Z",
     "start_time": "2017-11-26T02:02:35.235280Z"
    },
    "collapsed": true
   },
   "outputs": [],
   "source": [
    "@retry(tries=5, delay=1, backoff=2)\n",
    "def get_html(url):\n",
    "    browser.open(url)\n",
    "    assert '決算' in browser.parsed.title.string # 決算ページにいることを確認する\n",
    "    stock_name = browser.select('.kobetsu_data_table1_meigara')[0].text.strip()\n",
    "    print('{0}: {1}'.format(code, stock_name))\n",
    "    result = browser.find()\n",
    "    \n",
    "    return result"
   ]
  },
  {
   "cell_type": "markdown",
   "metadata": {},
   "source": [
    "## 連続読み込み"
   ]
  },
  {
   "cell_type": "code",
   "execution_count": null,
   "metadata": {
    "ExecuteTime": {
     "end_time": "2017-11-26T06:30:28.354626Z",
     "start_time": "2017-11-26T02:15:25.717503Z"
    },
    "collapsed": true
   },
   "outputs": [],
   "source": [
    "# ロガー設定\n",
    "start_time = dt.datetime.now()\n",
    "logging.basicConfig(filename='get_kabutan_html_{0}.log'.format(start_time.strftime('%Y-%m-%d')), filemode='w', level=logging.INFO)\n",
    "logging.info('{0} get_html Started'.format(start_time.strftime('%Y-%m-%d %H:%M:%S')))\n",
    "\n",
    "failed = [] # 読み込みに失敗した銘柄のコードを書き込むリストを作成\n",
    "\n",
    "\n",
    "# 連続読み込み書き込み\n",
    "for index in range(len(reading_code)):\n",
    "    code = reading_code[index]\n",
    "    \n",
    "    try:\n",
    "        time.sleep(3 + np.random.randint(0, 3))\n",
    "        \n",
    "        url = 'https://kabutan.jp/stock/finance?code={0}&mode=k'.format(code)\n",
    "        result = get_html(url)\n",
    "\n",
    "        with open('/Users/Really/Stockyard/_kabutan_html/kabutan_{0}.html'.format(code), 'w') as write_html:\n",
    "            write_html.write(str(result))\n",
    "                    \n",
    "    except Exception as e:\n",
    "        logging.warning('{0} {1}: {2}'.format(dt.datetime.now().strftime('%Y-%m-%d %H:%M:%S'), code, e))\n",
    "        failed.append(code)\n",
    "        print('{0}: Failed in {1} at get_html'.format(index, code))\n",
    "        print(e)\n",
    "\n",
    "\n",
    "print('Failed in {0} stocks at get:'.format(len(failed)))\n",
    "print(failed)\n",
    "\n",
    "logging.info('{0} get_html Finished'.format(dt.datetime.now().strftime('%Y-%m-%d %H:%M:%S')))"
   ]
  },
  {
   "cell_type": "markdown",
   "metadata": {},
   "source": [
    "## 確認"
   ]
  },
  {
   "cell_type": "code",
   "execution_count": null,
   "metadata": {
    "ExecuteTime": {
     "end_time": "2017-12-05T06:06:15.457797Z",
     "start_time": "2017-12-05T06:06:15.454913Z"
    },
    "collapsed": true
   },
   "outputs": [],
   "source": [
    "code = 7203"
   ]
  },
  {
   "cell_type": "code",
   "execution_count": null,
   "metadata": {
    "ExecuteTime": {
     "end_time": "2017-12-03T12:33:56.762069Z",
     "start_time": "2017-12-03T12:33:56.341029Z"
    },
    "collapsed": false
   },
   "outputs": [],
   "source": [
    "# 保存した html からテーブルを読み込んでみる\n",
    "tables = pd.read_html('/Users/Really/Stockyard/_kabutan_html/kabutan_{0}.html'.format(code), header=0)"
   ]
  },
  {
   "cell_type": "code",
   "execution_count": null,
   "metadata": {
    "ExecuteTime": {
     "end_time": "2017-12-03T11:20:23.049675Z",
     "start_time": "2017-12-03T11:20:23.024091Z"
    },
    "collapsed": true
   },
   "outputs": [],
   "source": [
    "# 通期業績\n",
    "tables[11]"
   ]
  },
  {
   "cell_type": "code",
   "execution_count": null,
   "metadata": {
    "ExecuteTime": {
     "end_time": "2017-12-03T11:20:26.605366Z",
     "start_time": "2017-12-03T11:20:26.542230Z"
    },
    "collapsed": true
   },
   "outputs": [],
   "source": [
    "# 業績予想\n",
    "tables[12]"
   ]
  },
  {
   "cell_type": "markdown",
   "metadata": {},
   "source": [
    "__各銘柄のテーブル数をカウント__"
   ]
  },
  {
   "cell_type": "code",
   "execution_count": null,
   "metadata": {
    "ExecuteTime": {
     "end_time": "2017-12-02T19:55:28.705820Z",
     "start_time": "2017-12-02T19:31:17.585748Z"
    },
    "collapsed": false
   },
   "outputs": [],
   "source": [
    "table_qty = []\n",
    "\n",
    "for index in range(len(code_list)):\n",
    "    try:\n",
    "        tables = pd.read_html('/Users/Really/Stockyard/_kabutan_html/kabutan_{0}.html'.format(code_list[index]), header=0)\n",
    "        table_qty.append(len(tables))\n",
    "    except Exception as e:\n",
    "        print(code_list[index])\n",
    "        print(e)"
   ]
  },
  {
   "cell_type": "code",
   "execution_count": null,
   "metadata": {
    "ExecuteTime": {
     "end_time": "2017-12-02T19:56:39.466810Z",
     "start_time": "2017-12-02T19:56:39.462384Z"
    },
    "collapsed": false
   },
   "outputs": [],
   "source": [
    "len(table_qty)"
   ]
  },
  {
   "cell_type": "code",
   "execution_count": null,
   "metadata": {
    "ExecuteTime": {
     "end_time": "2017-12-02T19:57:46.951144Z",
     "start_time": "2017-12-02T19:57:46.946915Z"
    },
    "collapsed": false
   },
   "outputs": [],
   "source": [
    "max(table_qty)\n",
    "# 38"
   ]
  },
  {
   "cell_type": "code",
   "execution_count": null,
   "metadata": {
    "ExecuteTime": {
     "end_time": "2017-12-02T19:57:58.476821Z",
     "start_time": "2017-12-02T19:57:58.472452Z"
    },
    "collapsed": false
   },
   "outputs": [],
   "source": [
    "min(table_qty)\n",
    "# 17"
   ]
  },
  {
   "cell_type": "code",
   "execution_count": null,
   "metadata": {
    "ExecuteTime": {
     "end_time": "2017-12-02T20:01:33.947767Z",
     "start_time": "2017-12-02T20:01:33.942627Z"
    },
    "collapsed": false
   },
   "outputs": [],
   "source": [
    "# +1 はリストに 25935 が含まれていたため\n",
    "code_list[table_qty.index(max(table_qty))] # + 1\n",
    "# 9101"
   ]
  },
  {
   "cell_type": "code",
   "execution_count": null,
   "metadata": {
    "ExecuteTime": {
     "end_time": "2017-12-02T20:02:01.134328Z",
     "start_time": "2017-12-02T20:02:01.128966Z"
    },
    "collapsed": false
   },
   "outputs": [],
   "source": [
    "# +1 はリストに 25935 が含まれていたため\n",
    "code_list[table_qty.index(min(table_qty))] # + 1\n",
    "# 3995"
   ]
  },
  {
   "cell_type": "markdown",
   "metadata": {},
   "source": [
    "__各テーブルの列数の確認__"
   ]
  },
  {
   "cell_type": "code",
   "execution_count": null,
   "metadata": {
    "ExecuteTime": {
     "end_time": "2017-12-03T12:31:35.705502Z",
     "start_time": "2017-12-03T12:31:35.695853Z"
    },
    "collapsed": true
   },
   "outputs": [],
   "source": [
    "for table_number in range(len(tables)):\n",
    "    print('{0}: {1}'.format(table_number, len(tables[table_number].columns)))"
   ]
  },
  {
   "cell_type": "code",
   "execution_count": null,
   "metadata": {
    "ExecuteTime": {
     "end_time": "2017-12-03T12:32:26.741516Z",
     "start_time": "2017-12-03T12:32:26.645544Z"
    },
    "collapsed": true
   },
   "outputs": [],
   "source": [
    "for table_number in range(23, len(tables)):\n",
    "    print('table_number: {0}'.format(table_number))\n",
    "    display(tables[table_number])"
   ]
  },
  {
   "cell_type": "markdown",
   "metadata": {},
   "source": [
    "__列数が 5 以下のテーブルを削除して確認してみる__"
   ]
  },
  {
   "cell_type": "raw",
   "metadata": {},
   "source": [
    "# 9101"
   ]
  },
  {
   "cell_type": "code",
   "execution_count": null,
   "metadata": {
    "ExecuteTime": {
     "end_time": "2017-12-03T11:55:58.197299Z",
     "start_time": "2017-12-03T11:55:58.193998Z"
    },
    "collapsed": false
   },
   "outputs": [],
   "source": [
    "# 列数が 5 以下のテーブルを削除\n",
    "tables2 = list(filter(lambda x: len(x.columns) > 5, tables))"
   ]
  },
  {
   "cell_type": "code",
   "execution_count": null,
   "metadata": {
    "ExecuteTime": {
     "end_time": "2017-12-03T11:56:17.805442Z",
     "start_time": "2017-12-03T11:56:17.800962Z"
    },
    "collapsed": false
   },
   "outputs": [],
   "source": [
    "len(tables2)"
   ]
  },
  {
   "cell_type": "code",
   "execution_count": null,
   "metadata": {
    "ExecuteTime": {
     "end_time": "2017-12-03T12:04:15.894154Z",
     "start_time": "2017-12-03T12:04:15.669120Z"
    },
    "collapsed": true
   },
   "outputs": [],
   "source": [
    "for table_number in range(len(tables2)):\n",
    "    print('table_number: {0}'.format(table_number))\n",
    "    display(tables2[table_number])"
   ]
  },
  {
   "cell_type": "raw",
   "metadata": {},
   "source": [
    "# 3995\n",
    "# 新規上場銘柄のため、過去最高と３ヵ月業績の推移が無い"
   ]
  },
  {
   "cell_type": "code",
   "execution_count": null,
   "metadata": {
    "ExecuteTime": {
     "end_time": "2017-12-03T12:07:54.971409Z",
     "start_time": "2017-12-03T12:07:54.968081Z"
    },
    "collapsed": false
   },
   "outputs": [],
   "source": [
    "# 列数が 5 以下のテーブルを削除\n",
    "tables3 = list(filter(lambda x: len(x.columns) > 5, tables))"
   ]
  },
  {
   "cell_type": "code",
   "execution_count": null,
   "metadata": {
    "ExecuteTime": {
     "end_time": "2017-12-03T12:07:55.988545Z",
     "start_time": "2017-12-03T12:07:55.984137Z"
    },
    "collapsed": false
   },
   "outputs": [],
   "source": [
    "len(tables3)"
   ]
  },
  {
   "cell_type": "code",
   "execution_count": null,
   "metadata": {
    "ExecuteTime": {
     "end_time": "2017-12-03T12:07:57.502773Z",
     "start_time": "2017-12-03T12:07:57.376379Z"
    },
    "collapsed": true
   },
   "outputs": [],
   "source": [
    "for table_number in range(len(tables3)):\n",
    "    print('table_number: {0}'.format(table_number))\n",
    "    display(tables3[table_number])"
   ]
  },
  {
   "cell_type": "raw",
   "metadata": {},
   "source": [
    "# 7203"
   ]
  },
  {
   "cell_type": "code",
   "execution_count": null,
   "metadata": {
    "ExecuteTime": {
     "end_time": "2017-12-03T12:18:08.094838Z",
     "start_time": "2017-12-03T12:18:08.091313Z"
    },
    "collapsed": false
   },
   "outputs": [],
   "source": [
    "# 列数が 5 以下のテーブルを削除\n",
    "tables4 = list(filter(lambda x: len(x.columns) > 5, tables))"
   ]
  },
  {
   "cell_type": "code",
   "execution_count": null,
   "metadata": {
    "ExecuteTime": {
     "end_time": "2017-12-03T12:18:09.217140Z",
     "start_time": "2017-12-03T12:18:09.212516Z"
    },
    "collapsed": false
   },
   "outputs": [],
   "source": [
    "len(tables4)"
   ]
  },
  {
   "cell_type": "code",
   "execution_count": null,
   "metadata": {
    "ExecuteTime": {
     "end_time": "2017-12-03T12:18:13.618560Z",
     "start_time": "2017-12-03T12:18:13.396864Z"
    },
    "collapsed": true
   },
   "outputs": [],
   "source": [
    "for table_number in range(len(tables4)):\n",
    "    print('table_number: {0}'.format(table_number))\n",
    "    display(tables4[table_number])"
   ]
  },
  {
   "cell_type": "raw",
   "metadata": {},
   "source": [
    "# 9432"
   ]
  },
  {
   "cell_type": "code",
   "execution_count": null,
   "metadata": {
    "ExecuteTime": {
     "end_time": "2017-12-03T12:34:42.926008Z",
     "start_time": "2017-12-03T12:34:42.922244Z"
    },
    "collapsed": false
   },
   "outputs": [],
   "source": [
    "# 列数が 5 以下のテーブルを削除\n",
    "tables5 = list(filter(lambda x: len(x.columns) > 5, tables))"
   ]
  },
  {
   "cell_type": "code",
   "execution_count": null,
   "metadata": {
    "ExecuteTime": {
     "end_time": "2017-12-03T12:34:44.567017Z",
     "start_time": "2017-12-03T12:34:44.562498Z"
    },
    "collapsed": false
   },
   "outputs": [],
   "source": [
    "len(tables5)"
   ]
  },
  {
   "cell_type": "code",
   "execution_count": null,
   "metadata": {
    "ExecuteTime": {
     "end_time": "2017-12-03T12:34:46.574844Z",
     "start_time": "2017-12-03T12:34:46.365025Z"
    },
    "collapsed": true
   },
   "outputs": [],
   "source": [
    "for table_number in range(len(tables5)):\n",
    "    print('table_number: {0}'.format(table_number))\n",
    "    display(tables5[table_number])"
   ]
  },
  {
   "cell_type": "markdown",
   "metadata": {},
   "source": [
    "__各銘柄の通期業績と財務のテーブル長の確認__  \n",
    "__ついでに日付が合致するかどうかも見てもいいかも__"
   ]
  },
  {
   "cell_type": "code",
   "execution_count": null,
   "metadata": {
    "ExecuteTime": {
     "end_time": "2017-12-05T06:49:52.409037Z",
     "start_time": "2017-12-05T06:49:52.406288Z"
    },
    "collapsed": true
   },
   "outputs": [],
   "source": [
    "# ループ、未完成"
   ]
  },
  {
   "cell_type": "code",
   "execution_count": null,
   "metadata": {
    "ExecuteTime": {
     "end_time": "2017-12-02T19:55:28.705820Z",
     "start_time": "2017-12-02T19:31:17.585748Z"
    },
    "collapsed": false
   },
   "outputs": [],
   "source": [
    "table_qty = []\n",
    "\n",
    "for index in range(len(code_list)):\n",
    "    try:\n",
    "        tables = pd.read_html('/Users/Really/Stockyard/_kabutan_html/kabutan_{0}.html'.format(code_list[index]), header=0)\n",
    "        table_qty.append(len(tables))\n",
    "    except Exception as e:\n",
    "        print(code_list[index])\n",
    "        print(e)"
   ]
  },
  {
   "cell_type": "code",
   "execution_count": null,
   "metadata": {
    "collapsed": true
   },
   "outputs": [],
   "source": [
    "# 読み込み"
   ]
  },
  {
   "cell_type": "code",
   "execution_count": null,
   "metadata": {
    "ExecuteTime": {
     "end_time": "2017-12-05T06:06:15.457797Z",
     "start_time": "2017-12-05T06:06:15.454913Z"
    },
    "collapsed": true
   },
   "outputs": [],
   "source": [
    "code = 7203"
   ]
  },
  {
   "cell_type": "code",
   "execution_count": null,
   "metadata": {
    "ExecuteTime": {
     "end_time": "2017-12-05T06:06:40.446690Z",
     "start_time": "2017-12-05T06:06:39.954336Z"
    },
    "collapsed": false
   },
   "outputs": [],
   "source": [
    "# 保存した html からテーブル属性を読み込み\n",
    "tables = pd.read_html('/Users/Really/Stockyard/_kabutan_html/kabutan_{0}.html'.format(code), header=0)"
   ]
  },
  {
   "cell_type": "code",
   "execution_count": null,
   "metadata": {
    "ExecuteTime": {
     "end_time": "2017-12-05T06:06:41.933282Z",
     "start_time": "2017-12-05T06:06:41.929449Z"
    },
    "collapsed": true
   },
   "outputs": [],
   "source": [
    "# 列数が 5 以下のテーブルを削除\n",
    "tables = list(filter(lambda x: len(x.columns) > 5, tables))"
   ]
  },
  {
   "cell_type": "code",
   "execution_count": null,
   "metadata": {
    "collapsed": true
   },
   "outputs": [],
   "source": [
    "# tables[3] 通期業績の整形処理"
   ]
  },
  {
   "cell_type": "code",
   "execution_count": null,
   "metadata": {
    "ExecuteTime": {
     "end_time": "2017-12-05T06:06:59.181399Z",
     "start_time": "2017-12-05T06:06:59.172563Z"
    },
    "collapsed": true
   },
   "outputs": [],
   "source": [
    "# 全ての列項目がnullの行を除去\n",
    "tables[3] = tables[3][~tables[3].isnull().all(axis=1)].reset_index(drop=True)"
   ]
  },
  {
   "cell_type": "code",
   "execution_count": null,
   "metadata": {
    "ExecuteTime": {
     "end_time": "2017-12-05T06:07:02.875810Z",
     "start_time": "2017-12-05T06:07:02.864497Z"
    },
    "collapsed": false
   },
   "outputs": [],
   "source": [
    "# 予想値と前期比の行を除去\n",
    "tables[3] = tables[3][~((tables[3]['決算期'].str.contains('予')) | (tables[3]['決算期'].str.contains('前期比')))].reset_index(drop=True)"
   ]
  },
  {
   "cell_type": "code",
   "execution_count": null,
   "metadata": {
    "ExecuteTime": {
     "end_time": "2017-12-05T06:07:31.970161Z",
     "start_time": "2017-12-05T06:07:31.960640Z"
    },
    "collapsed": false
   },
   "outputs": [],
   "source": [
    "# 決算期列の要素を会計基準と決算期に分割、それぞれの列に代入(同時に会計基準列を新規作成)\n",
    "tables[3][['会計基準', '決算期']] = pd.DataFrame(list(tables[3]['決算期'].str.split(' ')))"
   ]
  },
  {
   "cell_type": "code",
   "execution_count": null,
   "metadata": {
    "ExecuteTime": {
     "end_time": "2017-12-05T06:07:32.937594Z",
     "start_time": "2017-12-05T06:07:32.927414Z"
    },
    "collapsed": false
   },
   "outputs": [],
   "source": [
    "# 列の並び替え\n",
    "tables[3] = tables[3][['会計基準', '決算期', '売上高', '営業益', '経常益', '最終益', '１株益', '１株配', '発表日']]"
   ]
  },
  {
   "cell_type": "code",
   "execution_count": null,
   "metadata": {
    "ExecuteTime": {
     "end_time": "2017-12-05T06:07:33.646839Z",
     "start_time": "2017-12-05T06:07:33.593034Z"
    },
    "collapsed": false
   },
   "outputs": [],
   "source": [
    "# 100万円単位換算\n",
    "tables[3][['売上高', '営業益', '経常益', '最終益']] = tables[3][['売上高', '営業益', '経常益', '最終益']].apply(lambda x: x * 1000000)"
   ]
  },
  {
   "cell_type": "code",
   "execution_count": null,
   "metadata": {
    "ExecuteTime": {
     "end_time": "2017-12-05T06:07:34.222052Z",
     "start_time": "2017-12-05T06:07:34.218039Z"
    },
    "collapsed": false
   },
   "outputs": [],
   "source": [
    "# 型変換\n",
    "tables[3]['１株配'] = tables[3]['１株配'].astype(float)"
   ]
  },
  {
   "cell_type": "code",
   "execution_count": null,
   "metadata": {
    "ExecuteTime": {
     "end_time": "2017-12-05T06:07:34.960001Z",
     "start_time": "2017-12-05T06:07:34.944511Z"
    },
    "collapsed": true
   },
   "outputs": [],
   "source": [
    "# 日付のパース、datetime.dateへの型変換\n",
    "# tables[3]['決算期'] = tables[3]['決算期'].apply(lambda x: datetime.strptime(x, '%Y.%m').date()) # 日付ではないので文字列のままの方がいいかも？\n",
    "tables[3]['発表日'] = tables[3]['発表日'].apply(lambda x: parse(x, yearfirst=True).date())\n",
    "# pandasのTimestampへの型変換\n",
    "tables[3]['発表日'] = pd.to_datetime(tables[3]['発表日'], format='%Y-%m-%d')\n",
    "# tables[3]['決算期'] = pd.to_datetime(tables[3]['決算期'], format='%Y-%m-%d')"
   ]
  },
  {
   "cell_type": "code",
   "execution_count": null,
   "metadata": {
    "collapsed": true
   },
   "outputs": [],
   "source": [
    "# tables[9] 財務 【実績】の整形処理"
   ]
  },
  {
   "cell_type": "code",
   "execution_count": null,
   "metadata": {
    "ExecuteTime": {
     "end_time": "2017-12-05T06:09:00.383818Z",
     "start_time": "2017-12-05T06:09:00.378078Z"
    },
    "collapsed": true
   },
   "outputs": [],
   "source": [
    "# 全ての列項目がnullの行を除去\n",
    "tables[9] = tables[9][~tables[9].isnull().all(axis=1)].reset_index(drop=True)"
   ]
  },
  {
   "cell_type": "code",
   "execution_count": null,
   "metadata": {
    "ExecuteTime": {
     "end_time": "2017-12-05T06:09:01.320776Z",
     "start_time": "2017-12-05T06:09:01.315004Z"
    },
    "collapsed": false
   },
   "outputs": [],
   "source": [
    "# 決算期列の要素を会計基準と決算期に分割、それぞれの列に代入(同時に会計基準列を新規作成)\n",
    "tables[9][['会計基準', '決算期']] = pd.DataFrame(list(tables[9]['決算期'].str.split(' ')))"
   ]
  },
  {
   "cell_type": "code",
   "execution_count": null,
   "metadata": {
    "ExecuteTime": {
     "end_time": "2017-12-05T06:09:02.568689Z",
     "start_time": "2017-12-05T06:09:02.563246Z"
    },
    "collapsed": false
   },
   "outputs": [],
   "source": [
    "# 列の並び替え\n",
    "tables[9] = tables[9][['会計基準', '決算期', '１株純資産', '自己資本比率', '総資産', '自己資本', '剰余金', '有利子負債倍率', '発表日']]"
   ]
  },
  {
   "cell_type": "code",
   "execution_count": null,
   "metadata": {
    "ExecuteTime": {
     "end_time": "2017-12-05T06:09:08.127378Z",
     "start_time": "2017-12-05T06:09:08.122393Z"
    },
    "collapsed": false
   },
   "outputs": [],
   "source": [
    "# 決算期が 'yyyy.mm' 表記ではない行は確定決算前と判断して削除\n",
    "tables[9] = tables[9][tables[9]['決算期'].str.contains('\\d\\d\\d\\d.\\d\\d')]"
   ]
  },
  {
   "cell_type": "code",
   "execution_count": null,
   "metadata": {
    "ExecuteTime": {
     "end_time": "2017-12-05T06:09:11.318012Z",
     "start_time": "2017-12-05T06:09:11.312876Z"
    },
    "collapsed": false
   },
   "outputs": [],
   "source": [
    "# 決算期が 1998.03 のデータは他のテーブルには無く、発表日も不自然なので行ごと削除\n",
    "tables[9] = tables[9][~tables[9]['決算期'].str.contains('1998.03')].reset_index(drop=True)"
   ]
  },
  {
   "cell_type": "code",
   "execution_count": null,
   "metadata": {
    "ExecuteTime": {
     "end_time": "2017-12-05T06:11:26.217669Z",
     "start_time": "2017-12-05T06:11:26.208538Z"
    },
    "collapsed": true
   },
   "outputs": [],
   "source": [
    "# '－'  を NaN に置換\n",
    "# .str を2回も使わないといけないのはなんだか。。。\n",
    "tables[9].loc[~tables[9]['１株純資産'].str.replace('.', '').str.isnumeric(), '１株純資産'] = np.nan\n",
    "tables[9].loc[~tables[9]['有利子負債倍率'].str.replace('.', '').str.isnumeric(), '有利子負債倍率'] = np.nan"
   ]
  },
  {
   "cell_type": "code",
   "execution_count": null,
   "metadata": {
    "ExecuteTime": {
     "end_time": "2017-12-05T06:11:27.463414Z",
     "start_time": "2017-12-05T06:11:27.457976Z"
    },
    "collapsed": true
   },
   "outputs": [],
   "source": [
    "# 型変換\n",
    "tables[9][['１株純資産', '有利子負債倍率']] = tables[9][['１株純資産', '有利子負債倍率']].astype(float)"
   ]
  },
  {
   "cell_type": "code",
   "execution_count": null,
   "metadata": {
    "ExecuteTime": {
     "end_time": "2017-12-05T06:11:32.500570Z",
     "start_time": "2017-12-05T06:11:32.492703Z"
    },
    "collapsed": false
   },
   "outputs": [],
   "source": [
    "# 100万円単位換算\n",
    "tables[9][['総資産', '自己資本', '剰余金']] = tables[9][['総資産', '自己資本', '剰余金']].apply(lambda x: x * 1000000)"
   ]
  },
  {
   "cell_type": "code",
   "execution_count": null,
   "metadata": {
    "ExecuteTime": {
     "end_time": "2017-12-05T06:11:33.538110Z",
     "start_time": "2017-12-05T06:11:33.527701Z"
    },
    "collapsed": false
   },
   "outputs": [],
   "source": [
    "# 日付のパース、datetime.dateへの型変換\n",
    "# tables[9]['決算期'] = tables[9]['決算期'].apply(lambda x: parse(x.replace('-', '.'), yearfirst=True).date()) # 日付ではないので文字列のままの方がいいかも？\n",
    "tables[9]['発表日'] = tables[9]['発表日'].apply(lambda x: parse(x, yearfirst=True).date())\n",
    "# pandasのTimestampへの型変換\n",
    "# tables[9]['決算期'] = pd.to_datetime(tables[9]['決算期'], format='%Y-%m-%d')\n",
    "tables[9]['発表日'] = pd.to_datetime(tables[9]['発表日'], format='%Y-%m-%d')"
   ]
  },
  {
   "cell_type": "code",
   "execution_count": null,
   "metadata": {
    "collapsed": true
   },
   "outputs": [],
   "source": [
    "# 比較、未完成"
   ]
  },
  {
   "cell_type": "code",
   "execution_count": null,
   "metadata": {
    "ExecuteTime": {
     "end_time": "2017-12-05T06:32:47.316300Z",
     "start_time": "2017-12-05T06:32:47.275865Z"
    },
    "collapsed": true
   },
   "outputs": [],
   "source": [
    "for count in range(len(tables[3])):\n",
    "    try:\n",
    "        if len(tables[3]) == len(tables[9]):\n",
    "            if (tables[3].ix[count, '会計基準'] == tables[9].ix[count, '会計基準'] and tables[3].ix[count, '決算期'] == tables[9].ix[count, '決算期']):\n",
    "                print('True {0}'.format(tables[3].ix[count, '発表日']))\n",
    "                tables[9].ix[count, '発表日'] = tables[3].ix[count, '発表日']\n",
    "        else:\n",
    "            print('{0}: Not match table length.'.format(code))\n",
    "    except Exception as e:\n",
    "        print(code)\n",
    "        print(e)"
   ]
  },
  {
   "cell_type": "markdown",
   "metadata": {},
   "source": [
    "# 保存した html ファイルからテーブル属性のみ読み込み、整形"
   ]
  },
  {
   "cell_type": "code",
   "execution_count": null,
   "metadata": {
    "ExecuteTime": {
     "end_time": "2017-12-05T06:06:15.457797Z",
     "start_time": "2017-12-05T06:06:15.454913Z"
    },
    "collapsed": true
   },
   "outputs": [],
   "source": [
    "code = 7203"
   ]
  },
  {
   "cell_type": "code",
   "execution_count": null,
   "metadata": {
    "ExecuteTime": {
     "end_time": "2017-12-05T06:06:40.446690Z",
     "start_time": "2017-12-05T06:06:39.954336Z"
    },
    "collapsed": false
   },
   "outputs": [],
   "source": [
    "# 保存した html からテーブル属性を読み込み\n",
    "tables = pd.read_html('/Users/Really/Stockyard/_kabutan_html/kabutan_{0}.html'.format(code), header=0)"
   ]
  },
  {
   "cell_type": "code",
   "execution_count": null,
   "metadata": {
    "ExecuteTime": {
     "end_time": "2017-12-05T06:06:41.933282Z",
     "start_time": "2017-12-05T06:06:41.929449Z"
    },
    "collapsed": true
   },
   "outputs": [],
   "source": [
    "# 列数が 5 以下のテーブルを削除\n",
    "tables = list(filter(lambda x: len(x.columns) > 5, tables))"
   ]
  },
  {
   "cell_type": "markdown",
   "metadata": {},
   "source": [
    "## リスト、テーブルの概要"
   ]
  },
  {
   "cell_type": "code",
   "execution_count": null,
   "metadata": {
    "ExecuteTime": {
     "end_time": "2017-12-03T21:59:10.312340Z",
     "start_time": "2017-12-03T21:59:10.307764Z"
    },
    "collapsed": false
   },
   "outputs": [],
   "source": [
    "len(tables)"
   ]
  },
  {
   "cell_type": "code",
   "execution_count": null,
   "metadata": {
    "ExecuteTime": {
     "end_time": "2017-11-28T19:39:08.332844Z",
     "start_time": "2017-11-28T19:39:08.328476Z"
    },
    "collapsed": false
   },
   "outputs": [],
   "source": [
    "len(tables[12])"
   ]
  },
  {
   "cell_type": "code",
   "execution_count": null,
   "metadata": {
    "ExecuteTime": {
     "end_time": "2017-11-28T19:39:10.602864Z",
     "start_time": "2017-11-28T19:39:10.598488Z"
    },
    "collapsed": false
   },
   "outputs": [],
   "source": [
    "len(tables[12].columns)"
   ]
  },
  {
   "cell_type": "markdown",
   "metadata": {},
   "source": [
    "## tables[2] 銘柄概要"
   ]
  },
  {
   "cell_type": "code",
   "execution_count": null,
   "metadata": {
    "ExecuteTime": {
     "end_time": "2017-12-03T22:19:01.345195Z",
     "start_time": "2017-12-03T22:19:01.332137Z"
    },
    "collapsed": false
   },
   "outputs": [],
   "source": [
    "tables[2]"
   ]
  },
  {
   "cell_type": "markdown",
   "metadata": {},
   "source": [
    "## tables[3] 通期業績"
   ]
  },
  {
   "cell_type": "raw",
   "metadata": {},
   "source": [
    "# 通期業績テーブルの予想値の行は業績予想修正履歴テーブルに連結?"
   ]
  },
  {
   "cell_type": "code",
   "execution_count": null,
   "metadata": {
    "ExecuteTime": {
     "end_time": "2017-12-02T17:45:17.881013Z",
     "start_time": "2017-12-02T17:45:17.410122Z"
    },
    "collapsed": false
   },
   "outputs": [],
   "source": [
    "# 保存した html からテーブル属性を読み込み\n",
    "tables = pd.read_html('/Users/Really/Stockyard/_kabutan_html/kabutan_{0}.html'.format(code), header=0)"
   ]
  },
  {
   "cell_type": "code",
   "execution_count": null,
   "metadata": {
    "ExecuteTime": {
     "end_time": "2017-12-03T22:39:06.011149Z",
     "start_time": "2017-12-03T22:39:06.007268Z"
    },
    "collapsed": true
   },
   "outputs": [],
   "source": [
    "# 列数が 5 以下のテーブルを削除\n",
    "tables = list(filter(lambda x: len(x.columns) > 5, tables))"
   ]
  },
  {
   "cell_type": "code",
   "execution_count": null,
   "metadata": {
    "ExecuteTime": {
     "end_time": "2017-12-03T22:19:51.777580Z",
     "start_time": "2017-12-03T22:19:51.752193Z"
    },
    "collapsed": true
   },
   "outputs": [],
   "source": [
    "tables[3]\n",
    "# 株プロに無い項目: １株配"
   ]
  },
  {
   "cell_type": "code",
   "execution_count": null,
   "metadata": {
    "ExecuteTime": {
     "end_time": "2017-12-05T06:06:59.181399Z",
     "start_time": "2017-12-05T06:06:59.172563Z"
    },
    "collapsed": true
   },
   "outputs": [],
   "source": [
    "# 全ての列項目がnullの行を除去\n",
    "tables[3] = tables[3][~tables[3].isnull().all(axis=1)].reset_index(drop=True)"
   ]
  },
  {
   "cell_type": "code",
   "execution_count": null,
   "metadata": {
    "ExecuteTime": {
     "end_time": "2017-12-05T06:07:02.875810Z",
     "start_time": "2017-12-05T06:07:02.864497Z"
    },
    "collapsed": false
   },
   "outputs": [],
   "source": [
    "# 予想値と前期比の行を除去\n",
    "tables[3] = tables[3][~((tables[3]['決算期'].str.contains('予')) | (tables[3]['決算期'].str.contains('前期比')))].reset_index(drop=True)"
   ]
  },
  {
   "cell_type": "code",
   "execution_count": null,
   "metadata": {
    "ExecuteTime": {
     "end_time": "2017-12-05T06:07:31.970161Z",
     "start_time": "2017-12-05T06:07:31.960640Z"
    },
    "collapsed": false
   },
   "outputs": [],
   "source": [
    "# 決算期列の要素を会計基準と決算期に分割、それぞれの列に代入(同時に会計基準列を新規作成)\n",
    "tables[3][['会計基準', '決算期']] = pd.DataFrame(list(tables[3]['決算期'].str.split(' ')))"
   ]
  },
  {
   "cell_type": "code",
   "execution_count": null,
   "metadata": {
    "ExecuteTime": {
     "end_time": "2017-12-05T06:07:32.937594Z",
     "start_time": "2017-12-05T06:07:32.927414Z"
    },
    "collapsed": false
   },
   "outputs": [],
   "source": [
    "# 列の並び替え\n",
    "tables[3] = tables[3][['会計基準', '決算期', '売上高', '営業益', '経常益', '最終益', '１株益', '１株配', '発表日']]"
   ]
  },
  {
   "cell_type": "code",
   "execution_count": null,
   "metadata": {
    "ExecuteTime": {
     "end_time": "2017-12-05T06:07:33.646839Z",
     "start_time": "2017-12-05T06:07:33.593034Z"
    },
    "collapsed": false
   },
   "outputs": [],
   "source": [
    "# 100万円単位換算\n",
    "tables[3][['売上高', '営業益', '経常益', '最終益']] = tables[3][['売上高', '営業益', '経常益', '最終益']].apply(lambda x: x * 1000000)"
   ]
  },
  {
   "cell_type": "code",
   "execution_count": null,
   "metadata": {
    "ExecuteTime": {
     "end_time": "2017-12-05T06:07:34.222052Z",
     "start_time": "2017-12-05T06:07:34.218039Z"
    },
    "collapsed": false
   },
   "outputs": [],
   "source": [
    "# 型変換\n",
    "tables[3]['１株配'] = tables[3]['１株配'].astype(float)"
   ]
  },
  {
   "cell_type": "code",
   "execution_count": null,
   "metadata": {
    "ExecuteTime": {
     "end_time": "2017-12-05T06:07:34.960001Z",
     "start_time": "2017-12-05T06:07:34.944511Z"
    },
    "collapsed": true
   },
   "outputs": [],
   "source": [
    "# 日付のパース、datetime.dateへの型変換\n",
    "# tables[3]['決算期'] = tables[3]['決算期'].apply(lambda x: datetime.strptime(x, '%Y.%m').date()) # 日付ではないので文字列のままの方がいいかも？\n",
    "tables[3]['発表日'] = tables[3]['発表日'].apply(lambda x: parse(x, yearfirst=True).date())\n",
    "# pandasのTimestampへの型変換\n",
    "tables[3]['発表日'] = pd.to_datetime(tables[3]['発表日'], format='%Y-%m-%d')\n",
    "# tables[3]['決算期'] = pd.to_datetime(tables[3]['決算期'], format='%Y-%m-%d')"
   ]
  },
  {
   "cell_type": "code",
   "execution_count": null,
   "metadata": {
    "ExecuteTime": {
     "end_time": "2017-12-03T22:39:25.807387Z",
     "start_time": "2017-12-03T22:39:25.801513Z"
    },
    "collapsed": false
   },
   "outputs": [],
   "source": [
    "tables[3].dtypes"
   ]
  },
  {
   "cell_type": "code",
   "execution_count": null,
   "metadata": {
    "ExecuteTime": {
     "end_time": "2017-12-03T22:39:29.576866Z",
     "start_time": "2017-12-03T22:39:29.550948Z"
    },
    "collapsed": false
   },
   "outputs": [],
   "source": [
    "tables[3]"
   ]
  },
  {
   "cell_type": "code",
   "execution_count": null,
   "metadata": {
    "ExecuteTime": {
     "end_time": "2017-11-29T17:43:29.424468Z",
     "start_time": "2017-11-29T17:43:29.367999Z"
    },
    "collapsed": false
   },
   "outputs": [],
   "source": [
    "kabupro.ix[(kabupro['証券コード'] == code) & (kabupro['会計基準'] == '米国基準') & (kabupro['決算期間'] == '通期'), \n",
    "           ['連結個別', '決算期', '期首', '売上高', '営業利益', '経常利益', '純利益', '一株当り純利益', '情報公開日 (更新日)']]"
   ]
  },
  {
   "cell_type": "code",
   "execution_count": null,
   "metadata": {
    "ExecuteTime": {
     "end_time": "2017-11-28T20:02:06.222463Z",
     "start_time": "2017-11-28T20:02:06.217308Z"
    },
    "collapsed": false
   },
   "outputs": [],
   "source": [
    "kabupro.columns"
   ]
  },
  {
   "cell_type": "markdown",
   "metadata": {},
   "source": [
    "## tables[4] 業績予想"
   ]
  },
  {
   "cell_type": "raw",
   "metadata": {},
   "source": [
    "# 通期業績テーブルの予想値の行は業績予想修正履歴テーブルに連結?"
   ]
  },
  {
   "cell_type": "code",
   "execution_count": null,
   "metadata": {
    "ExecuteTime": {
     "end_time": "2017-12-01T15:36:30.891737Z",
     "start_time": "2017-12-01T15:36:30.450051Z"
    },
    "collapsed": false
   },
   "outputs": [],
   "source": [
    "# 保存した html からテーブル属性を読み込み\n",
    "tables = pd.read_html('/Users/Really/Stockyard/_kabutan_html/kabutan_{0}.html'.format(code), header=0)"
   ]
  },
  {
   "cell_type": "code",
   "execution_count": null,
   "metadata": {
    "ExecuteTime": {
     "end_time": "2017-12-03T22:39:06.011149Z",
     "start_time": "2017-12-03T22:39:06.007268Z"
    },
    "collapsed": true
   },
   "outputs": [],
   "source": [
    "# 列数が 5 以下のテーブルを削除\n",
    "tables = list(filter(lambda x: len(x.columns) > 5, tables))"
   ]
  },
  {
   "cell_type": "code",
   "execution_count": null,
   "metadata": {
    "ExecuteTime": {
     "end_time": "2017-12-03T22:21:17.358100Z",
     "start_time": "2017-12-03T22:21:17.297918Z"
    },
    "collapsed": true
   },
   "outputs": [],
   "source": [
    "tables[4]"
   ]
  },
  {
   "cell_type": "code",
   "execution_count": null,
   "metadata": {
    "ExecuteTime": {
     "end_time": "2017-12-03T22:39:39.050972Z",
     "start_time": "2017-12-03T22:39:39.046038Z"
    },
    "collapsed": false
   },
   "outputs": [],
   "source": [
    "tables[4].columns"
   ]
  },
  {
   "cell_type": "code",
   "execution_count": null,
   "metadata": {
    "ExecuteTime": {
     "end_time": "2017-12-05T06:07:51.631321Z",
     "start_time": "2017-12-05T06:07:51.627262Z"
    },
    "collapsed": true
   },
   "outputs": [],
   "source": [
    "tables[4].columns = ['会計基準', '決算期', '発表日', \n",
    "                                   '結合修正方向', '売上高修正方向', '営業益修正方向', '経常益修正方向', '最終益修正方向', '修正配当修正方向', \n",
    "                                   '予想売上高', '予想営業益', '予想経常益', '予想最終益', '予想修正配当',]"
   ]
  },
  {
   "cell_type": "code",
   "execution_count": null,
   "metadata": {
    "ExecuteTime": {
     "end_time": "2017-12-03T22:39:41.824629Z",
     "start_time": "2017-12-03T22:39:41.780016Z"
    },
    "collapsed": true
   },
   "outputs": [],
   "source": [
    "# 実体行\n",
    "tables[4][tables[4].index % 2 == 0].reset_index(drop=True)"
   ]
  },
  {
   "cell_type": "code",
   "execution_count": null,
   "metadata": {
    "ExecuteTime": {
     "end_time": "2017-11-28T19:44:58.625013Z",
     "start_time": "2017-11-28T19:44:58.588546Z"
    },
    "collapsed": true
   },
   "outputs": [],
   "source": [
    "# 不要行\n",
    "tables[4][tables[4].index % 2 != 0]"
   ]
  },
  {
   "cell_type": "code",
   "execution_count": null,
   "metadata": {
    "ExecuteTime": {
     "end_time": "2017-12-01T15:36:51.437766Z",
     "start_time": "2017-12-01T15:36:51.432908Z"
    },
    "collapsed": false
   },
   "outputs": [],
   "source": [
    "tables[4].columns"
   ]
  },
  {
   "cell_type": "code",
   "execution_count": null,
   "metadata": {
    "ExecuteTime": {
     "end_time": "2017-12-05T06:08:24.733756Z",
     "start_time": "2017-12-05T06:08:24.721264Z"
    },
    "collapsed": true
   },
   "outputs": [],
   "source": [
    "# 不要行、不要列の削除、並び替え\n",
    "# 実績(と修正配当)はいる?いらない?\n",
    "# 実績の発表と同時に次の予想が出ているのでやっぱりここではいらないのかな?\n",
    "tables[4] = tables[4].ix[tables[4].index % 2 == 0, ['会計基準', '決算期', '予想売上高', '予想営業益', '予想経常益', '予想最終益', '発表日']].reset_index(drop=True)\n",
    "tables[4] = tables[4].ix[tables[4]['決算期'] != '実績']"
   ]
  },
  {
   "cell_type": "code",
   "execution_count": null,
   "metadata": {
    "ExecuteTime": {
     "end_time": "2017-12-05T06:08:25.565038Z",
     "start_time": "2017-12-05T06:08:25.517365Z"
    },
    "collapsed": false
   },
   "outputs": [],
   "source": [
    "# 決算期の NaN 埋め\n",
    "tables[4]['決算期'] = tables[4]['決算期'].fillna(method='ffill')"
   ]
  },
  {
   "cell_type": "code",
   "execution_count": null,
   "metadata": {
    "ExecuteTime": {
     "end_time": "2017-12-05T06:08:26.160907Z",
     "start_time": "2017-12-05T06:08:26.153276Z"
    },
    "collapsed": false
   },
   "outputs": [],
   "source": [
    "# 100万円単位換算\n",
    "tables[4][['予想売上高', '予想営業益', '予想経常益', '予想最終益']] = tables[4][['予想売上高', '予想営業益', '予想経常益', '予想最終益']].apply(lambda x: x * 1000000)"
   ]
  },
  {
   "cell_type": "code",
   "execution_count": null,
   "metadata": {
    "ExecuteTime": {
     "end_time": "2017-12-05T06:08:31.876494Z",
     "start_time": "2017-12-05T06:08:31.865909Z"
    },
    "collapsed": true
   },
   "outputs": [],
   "source": [
    "# 日付のパース、datetime.dateへの型変換\n",
    "# tables[4]['決算期'] = tables[4]['決算期'].apply(lambda x: datetime.strptime(x, '%Y.%m').date()) # 日付ではないので文字列のままの方がいいかも？\n",
    "tables[4]['発表日'] = tables[4]['発表日'].apply(lambda x: parse(x, yearfirst=True).date())\n",
    "# pandasのTimestampへの型変換\n",
    "tables[4]['発表日'] = pd.to_datetime(tables[4]['発表日'], format='%Y-%m-%d')\n",
    "# tables[4]['決算期'] = pd.to_datetime(tables[4]['決算期'], format='%Y-%m-%d')"
   ]
  },
  {
   "cell_type": "code",
   "execution_count": null,
   "metadata": {
    "ExecuteTime": {
     "end_time": "2017-12-03T22:39:56.152213Z",
     "start_time": "2017-12-03T22:39:56.148960Z"
    },
    "collapsed": false
   },
   "outputs": [],
   "source": [
    "# 修正配当用の処理なので不要\n",
    "# '－'  を NaN に置換\n",
    "# tables[4].loc[~tables[4]['修正配当'].str.isnumeric(), '修正配当'] = np.nan\n",
    "# 型変換\n",
    "# tables[4]['修正配当'] = tables[4]['修正配当'].astype(float)"
   ]
  },
  {
   "cell_type": "code",
   "execution_count": null,
   "metadata": {
    "ExecuteTime": {
     "end_time": "2017-12-03T22:39:56.948681Z",
     "start_time": "2017-12-03T22:39:56.922726Z"
    },
    "collapsed": false
   },
   "outputs": [],
   "source": [
    "tables[4]"
   ]
  },
  {
   "cell_type": "code",
   "execution_count": null,
   "metadata": {
    "ExecuteTime": {
     "end_time": "2017-12-03T22:40:00.445369Z",
     "start_time": "2017-12-03T22:40:00.438982Z"
    },
    "collapsed": false
   },
   "outputs": [],
   "source": [
    "tables[4].dtypes"
   ]
  },
  {
   "cell_type": "markdown",
   "metadata": {},
   "source": [
    "## tables[5] 過去最高 【実績】"
   ]
  },
  {
   "cell_type": "raw",
   "metadata": {},
   "source": [
    "# 不要かな？\n",
    "# 百万単位"
   ]
  },
  {
   "cell_type": "code",
   "execution_count": null,
   "metadata": {
    "ExecuteTime": {
     "end_time": "2017-12-03T22:24:14.181789Z",
     "start_time": "2017-12-03T22:24:14.169148Z"
    },
    "collapsed": false
   },
   "outputs": [],
   "source": [
    "tables[5]"
   ]
  },
  {
   "cell_type": "markdown",
   "metadata": {},
   "source": [
    "## tables[6] 下期業績 (過去3年 + 今年予想 + 前年同期比)"
   ]
  },
  {
   "cell_type": "raw",
   "metadata": {},
   "source": [
    "# 不要かな？\n",
    "# ちょっと株プロと見比べてみたいけどめんどくさい\n",
    "# 百万単位"
   ]
  },
  {
   "cell_type": "code",
   "execution_count": null,
   "metadata": {
    "ExecuteTime": {
     "end_time": "2017-12-03T22:25:35.181373Z",
     "start_time": "2017-12-03T22:25:35.164844Z"
    },
    "collapsed": false,
    "scrolled": true
   },
   "outputs": [],
   "source": [
    "tables[6]"
   ]
  },
  {
   "cell_type": "code",
   "execution_count": null,
   "metadata": {
    "ExecuteTime": {
     "end_time": "2017-11-28T20:10:47.639415Z",
     "start_time": "2017-11-28T20:10:47.634584Z"
    },
    "collapsed": false
   },
   "outputs": [],
   "source": [
    "tables[6].columns"
   ]
  },
  {
   "cell_type": "markdown",
   "metadata": {},
   "source": [
    "## tables[7] 第２四半期累計決算【実績】 (過去3年 + 前年同期比)"
   ]
  },
  {
   "cell_type": "raw",
   "metadata": {},
   "source": [
    "# 不要かな？\n",
    "# ちょっと株プロと見比べてみよう → 同じみたい\n",
    "# 対通期進捗率って経常益の最終的な通期実績に対して? 今年度分は予想に対して？\n",
    "# 百万単位"
   ]
  },
  {
   "cell_type": "code",
   "execution_count": null,
   "metadata": {
    "ExecuteTime": {
     "end_time": "2017-12-03T22:25:26.990192Z",
     "start_time": "2017-12-03T22:25:26.974837Z"
    },
    "collapsed": false
   },
   "outputs": [],
   "source": [
    "tables[7]"
   ]
  },
  {
   "cell_type": "code",
   "execution_count": null,
   "metadata": {
    "ExecuteTime": {
     "end_time": "2017-12-01T14:53:23.633140Z",
     "start_time": "2017-12-01T14:53:23.581341Z"
    },
    "collapsed": false
   },
   "outputs": [],
   "source": [
    "kabupro.ix[(kabupro['証券コード'] == code) & (kabupro['会計基準'] == '米国基準') & (kabupro['決算期間'] == '第2四半期'), \n",
    "           ['連結個別', '期首', '売上高', '営業利益', '経常利益', '純利益', '一株当り純利益', '情報公開日 (更新日)']].tail(3)"
   ]
  },
  {
   "cell_type": "code",
   "execution_count": null,
   "metadata": {
    "ExecuteTime": {
     "end_time": "2017-12-01T15:10:19.360173Z",
     "start_time": "2017-12-01T15:10:19.308983Z"
    },
    "collapsed": false
   },
   "outputs": [],
   "source": [
    "kabupro.ix[(kabupro['証券コード'] == code)& (kabupro['会計基準'] == '米国基準') & (kabupro['決算期間'].isin(['第2四半期', '通期'])), # \n",
    "           ['連結個別', '期首', '決算期間', '売上高', '営業利益', '経常利益', '純利益', '一株当り純利益', '情報公開日 (更新日)']].tail(5)"
   ]
  },
  {
   "cell_type": "code",
   "execution_count": null,
   "metadata": {
    "ExecuteTime": {
     "end_time": "2017-12-03T22:31:51.789297Z",
     "start_time": "2017-12-03T22:31:51.765415Z"
    },
    "collapsed": true
   },
   "outputs": [],
   "source": [
    "tables[4].tail(1)"
   ]
  },
  {
   "cell_type": "code",
   "execution_count": null,
   "metadata": {
    "ExecuteTime": {
     "end_time": "2017-11-28T20:02:06.222463Z",
     "start_time": "2017-11-28T20:02:06.217308Z"
    },
    "collapsed": false
   },
   "outputs": [],
   "source": [
    "# 比較参照用\n",
    "kabupro.columns"
   ]
  },
  {
   "cell_type": "markdown",
   "metadata": {},
   "source": [
    "## tables[8] ３ヵ月業績の推移【実績】(過去5年 + 前年同期比) 累積ではなく差分"
   ]
  },
  {
   "cell_type": "code",
   "execution_count": null,
   "metadata": {
    "ExecuteTime": {
     "end_time": "2017-12-01T16:03:21.386735Z",
     "start_time": "2017-12-01T16:03:20.900203Z"
    },
    "collapsed": false
   },
   "outputs": [],
   "source": [
    "# 保存した html からテーブル属性を読み込み\n",
    "tables = pd.read_html('/Users/Really/Stockyard/_kabutan_html/kabutan_{0}.html'.format(code), header=0)"
   ]
  },
  {
   "cell_type": "code",
   "execution_count": null,
   "metadata": {
    "ExecuteTime": {
     "end_time": "2017-12-03T22:39:06.011149Z",
     "start_time": "2017-12-03T22:39:06.007268Z"
    },
    "collapsed": true
   },
   "outputs": [],
   "source": [
    "# 列数が 5 以下のテーブルを削除\n",
    "tables = list(filter(lambda x: len(x.columns) > 5, tables))"
   ]
  },
  {
   "cell_type": "raw",
   "metadata": {},
   "source": [
    "# 不要かな？\n",
    "# ちょっと株プロと見比べてみよう → １株益の値が揃わない\n",
    "# 修正発表があった項目は上書きされてしまっていると思われる\n",
    "# 修正の可能性を考えなければ累積の株プロよりこちらの方が使いやすいかも\n",
    "# 株プロで差分を作成するべきか?\n",
    "# 前年同期比はいらなそう"
   ]
  },
  {
   "cell_type": "code",
   "execution_count": null,
   "metadata": {
    "ExecuteTime": {
     "end_time": "2017-12-03T22:40:32.601073Z",
     "start_time": "2017-12-03T22:40:32.574528Z"
    },
    "collapsed": false
   },
   "outputs": [],
   "source": [
    "tables[8]\n",
    "# 株プロに無い項目: 売上営業損益率 = 営業益 / 売上高?"
   ]
  },
  {
   "cell_type": "code",
   "execution_count": null,
   "metadata": {
    "ExecuteTime": {
     "end_time": "2017-12-03T22:40:18.475185Z",
     "start_time": "2017-12-03T22:40:18.469095Z"
    },
    "collapsed": true
   },
   "outputs": [],
   "source": [
    "# 全ての列項目がnullの行を除去\n",
    "tables[8] = tables[8][~tables[8].isnull().all(axis=1)].reset_index(drop=True)"
   ]
  },
  {
   "cell_type": "code",
   "execution_count": null,
   "metadata": {
    "ExecuteTime": {
     "end_time": "2017-12-03T22:40:19.354685Z",
     "start_time": "2017-12-03T22:40:19.348592Z"
    },
    "collapsed": true
   },
   "outputs": [],
   "source": [
    "# 前年同期比の行を除去\n",
    "tables[8] = tables[8][~tables[8]['決算期'].str.contains('前年同期比')].reset_index(drop=True)"
   ]
  },
  {
   "cell_type": "code",
   "execution_count": null,
   "metadata": {
    "ExecuteTime": {
     "end_time": "2017-12-03T22:40:20.144014Z",
     "start_time": "2017-12-03T22:40:20.137744Z"
    },
    "collapsed": false
   },
   "outputs": [],
   "source": [
    "# 決算期列の要素を会計基準と決算期に分割、それぞれの列に代入(同時に会計基準列を新規作成)\n",
    "tables[8][['会計基準', '四半期期首']] = pd.DataFrame(list(tables[8]['決算期'].str.split(' ')))"
   ]
  },
  {
   "cell_type": "code",
   "execution_count": null,
   "metadata": {
    "ExecuteTime": {
     "end_time": "2017-12-03T22:40:20.933479Z",
     "start_time": "2017-12-03T22:40:20.928464Z"
    },
    "collapsed": true
   },
   "outputs": [],
   "source": [
    "# 列の並び替え\n",
    "tables[8] = tables[8][['会計基準', '四半期期首', '売上高', '営業益', '経常益', '最終益', '１株益', '売上営業損益率', '発表日']]"
   ]
  },
  {
   "cell_type": "code",
   "execution_count": null,
   "metadata": {
    "ExecuteTime": {
     "end_time": "2017-12-01T16:03:31.718902Z",
     "start_time": "2017-12-01T16:03:31.714242Z"
    },
    "collapsed": false
   },
   "outputs": [],
   "source": [
    "tables[8].columns"
   ]
  },
  {
   "cell_type": "code",
   "execution_count": null,
   "metadata": {
    "ExecuteTime": {
     "end_time": "2017-12-03T22:40:23.558971Z",
     "start_time": "2017-12-03T22:40:23.555442Z"
    },
    "collapsed": true
   },
   "outputs": [],
   "source": [
    "tables[8].columns = ['会計基準', '四半期期首', '四半期売上高', '四半期営業益', '四半期経常益', '四半期最終益', '四半期１株益', '四半期売上営業損益率', '発表日']"
   ]
  },
  {
   "cell_type": "code",
   "execution_count": null,
   "metadata": {
    "ExecuteTime": {
     "end_time": "2017-12-03T22:40:24.467540Z",
     "start_time": "2017-12-03T22:40:24.412975Z"
    },
    "collapsed": false
   },
   "outputs": [],
   "source": [
    "# 100万円単位換算\n",
    "tables[8][['四半期売上高', '四半期営業益', '四半期経常益', '四半期最終益']] = tables[8][['四半期売上高', '四半期営業益', '四半期経常益', '四半期最終益']].apply(lambda x: x * 1000000)"
   ]
  },
  {
   "cell_type": "code",
   "execution_count": null,
   "metadata": {
    "ExecuteTime": {
     "end_time": "2017-12-03T22:40:25.280217Z",
     "start_time": "2017-12-03T22:40:25.258195Z"
    },
    "collapsed": false
   },
   "outputs": [],
   "source": [
    "# 日付のパース、datetime.dateへの型変換\n",
    "tables[8]['四半期期首'] = tables[8]['四半期期首'].apply(lambda x: parse(x.replace('-', '.'), yearfirst=True).date())\n",
    "tables[8]['発表日'] = tables[8]['発表日'].apply(lambda x: parse(x, yearfirst=True).date())\n",
    "# pandasのTimestampへの型変換\n",
    "tables[8]['四半期期首'] = pd.to_datetime(tables[8]['四半期期首'], format='%Y-%m-%d')\n",
    "tables[8]['発表日'] = pd.to_datetime(tables[8]['発表日'], format='%Y-%m-%d')"
   ]
  },
  {
   "cell_type": "code",
   "execution_count": null,
   "metadata": {
    "ExecuteTime": {
     "end_time": "2017-12-03T22:40:26.075731Z",
     "start_time": "2017-12-03T22:40:26.068841Z"
    },
    "collapsed": false
   },
   "outputs": [],
   "source": [
    "tables[8].dtypes"
   ]
  },
  {
   "cell_type": "markdown",
   "metadata": {},
   "source": [
    "__比較検証用に株プロの四半期業績の差分を作ってみる__"
   ]
  },
  {
   "cell_type": "markdown",
   "metadata": {},
   "source": [
    "__もうちょっと上手いやり方ありそう__"
   ]
  },
  {
   "cell_type": "code",
   "execution_count": null,
   "metadata": {
    "collapsed": true
   },
   "outputs": [],
   "source": [
    "kabupro.columns"
   ]
  },
  {
   "cell_type": "code",
   "execution_count": null,
   "metadata": {
    "collapsed": true
   },
   "outputs": [],
   "source": [
    "kabupro.ix[(kabupro['証券コード'] == code) & (kabupro['会計基準'] == '米国基準'), \n",
    "           ['決算期', '期末', '売上高', '営業利益', '経常利益', '純利益', '一株当り純利益', '情報公開日 (更新日)']].tail(10)"
   ]
  },
  {
   "cell_type": "code",
   "execution_count": null,
   "metadata": {
    "ExecuteTime": {
     "end_time": "2017-12-01T15:52:13.774425Z",
     "start_time": "2017-12-01T15:52:13.753197Z"
    },
    "collapsed": true
   },
   "outputs": [],
   "source": [
    "diff_test = kabupro.ix[(kabupro['証券コード'] == code) & (kabupro['会計基準'] == '米国基準'), \n",
    "           ['決算期', '期末', '売上高', '営業利益', '経常利益', '純利益', '一株当り純利益', '情報公開日 (更新日)']]"
   ]
  },
  {
   "cell_type": "code",
   "execution_count": null,
   "metadata": {
    "ExecuteTime": {
     "end_time": "2017-12-01T15:52:40.993124Z",
     "start_time": "2017-12-01T15:52:40.949868Z"
    },
    "collapsed": true
   },
   "outputs": [],
   "source": [
    "diff_test"
   ]
  },
  {
   "cell_type": "code",
   "execution_count": null,
   "metadata": {
    "ExecuteTime": {
     "end_time": "2017-12-01T15:52:17.330328Z",
     "start_time": "2017-12-01T15:52:17.323284Z"
    },
    "collapsed": true
   },
   "outputs": [],
   "source": [
    "diff_test[['売上高差分', '営業利益差分', '経常利益差分', '純利益差分', '一株当り純利益差分']] = diff_test[['売上高', '営業利益', '経常利益', '純利益', '一株当り純利益']]"
   ]
  },
  {
   "cell_type": "code",
   "execution_count": null,
   "metadata": {
    "ExecuteTime": {
     "end_time": "2017-12-01T15:55:06.252985Z",
     "start_time": "2017-12-01T15:55:06.248255Z"
    },
    "collapsed": false
   },
   "outputs": [],
   "source": [
    "diff_test.index[1]"
   ]
  },
  {
   "cell_type": "code",
   "execution_count": null,
   "metadata": {
    "ExecuteTime": {
     "end_time": "2017-12-01T15:55:30.204120Z",
     "start_time": "2017-12-01T15:55:30.073737Z"
    },
    "collapsed": false
   },
   "outputs": [],
   "source": [
    "for count in range(diff_test.index[1], diff_test.index[1] + len(diff_test) - 1):\n",
    "    if diff_test.loc[count, '決算期'] == diff_test.loc[count - 1, '決算期']:\n",
    "        diff_test.loc[count, '売上高差分'] = diff_test.loc[count, '売上高'] - diff_test.loc[count - 1, '売上高']\n",
    "        diff_test.loc[count, '営業利益差分'] = diff_test.loc[count, '営業利益'] - diff_test.loc[count - 1, '営業利益']\n",
    "        diff_test.loc[count, '経常利益差分'] = diff_test.loc[count, '経常利益'] - diff_test.loc[count - 1, '経常利益']\n",
    "        diff_test.loc[count, '純利益差分'] = diff_test.loc[count, '純利益'] - diff_test.loc[count - 1, '純利益']\n",
    "        diff_test.loc[count, '一株当り純利益差分'] = diff_test.loc[count, '一株当り純利益'] - diff_test.loc[count - 1, '一株当り純利益']"
   ]
  },
  {
   "cell_type": "code",
   "execution_count": null,
   "metadata": {
    "ExecuteTime": {
     "end_time": "2017-12-01T15:55:32.521272Z",
     "start_time": "2017-12-01T15:55:32.490784Z"
    },
    "collapsed": false
   },
   "outputs": [],
   "source": [
    "diff_test[['決算期', '期末', '売上高差分', '営業利益差分', '経常利益差分', '純利益差分', '一株当り純利益差分', '情報公開日 (更新日)']]\n",
    "# 一株当り純利益差分が株探の１株益と揃わない"
   ]
  },
  {
   "cell_type": "code",
   "execution_count": null,
   "metadata": {
    "ExecuteTime": {
     "end_time": "2017-12-03T22:32:21.965966Z",
     "start_time": "2017-12-03T22:32:21.939657Z"
    },
    "collapsed": true
   },
   "outputs": [],
   "source": [
    "tables[8]"
   ]
  },
  {
   "cell_type": "markdown",
   "metadata": {},
   "source": [
    "## tables[9] 財務 【実績】"
   ]
  },
  {
   "cell_type": "code",
   "execution_count": null,
   "metadata": {
    "ExecuteTime": {
     "end_time": "2017-12-03T22:34:17.897867Z",
     "start_time": "2017-12-03T22:34:17.439040Z"
    },
    "collapsed": false
   },
   "outputs": [],
   "source": [
    "# 保存した html からテーブル属性を読み込み\n",
    "tables = pd.read_html('/Users/Really/Stockyard/_kabutan_html/kabutan_{0}.html'.format(code), header=0)"
   ]
  },
  {
   "cell_type": "code",
   "execution_count": null,
   "metadata": {
    "ExecuteTime": {
     "end_time": "2017-12-03T22:39:06.011149Z",
     "start_time": "2017-12-03T22:39:06.007268Z"
    },
    "collapsed": true
   },
   "outputs": [],
   "source": [
    "# 列数が 5 以下のテーブルを削除\n",
    "tables = list(filter(lambda x: len(x.columns) > 5, tables))"
   ]
  },
  {
   "cell_type": "raw",
   "metadata": {},
   "source": [
    "# 2000年以前の財務実績の発表日は全体的に信用できない\n",
    "# 1998年は何らかの日付で固定 or 捨て、1999年と2000年は通期業績の発表日と同じにする\n",
    "# 期間は株プロよりこちらの方が長い\n",
    "# 修正発表があった項目は上書きされてしまっていると思われる"
   ]
  },
  {
   "cell_type": "code",
   "execution_count": null,
   "metadata": {
    "ExecuteTime": {
     "end_time": "2017-12-02T18:29:52.165796Z",
     "start_time": "2017-12-02T18:29:52.140263Z"
    },
    "collapsed": true
   },
   "outputs": [],
   "source": [
    "tables[9]\n",
    "# 株プロに無い項目: 自己資本比率, 自己資本, 剰余金, 有利子負債倍率"
   ]
  },
  {
   "cell_type": "code",
   "execution_count": null,
   "metadata": {
    "ExecuteTime": {
     "end_time": "2017-12-01T01:13:42.177537Z",
     "start_time": "2017-12-01T01:13:42.172727Z"
    },
    "collapsed": false
   },
   "outputs": [],
   "source": [
    "tables[9].columns"
   ]
  },
  {
   "cell_type": "code",
   "execution_count": null,
   "metadata": {
    "ExecuteTime": {
     "end_time": "2017-12-01T17:04:01.908689Z",
     "start_time": "2017-12-01T17:04:01.904878Z"
    },
    "collapsed": false
   },
   "outputs": [],
   "source": [
    "# 7203 トヨタ 元の値が '90/08/01' で明らかにおかしい。これどうしよう。。。\n",
    "tables[9].ix[2, '発表日'] = '99/08/01'"
   ]
  },
  {
   "cell_type": "code",
   "execution_count": null,
   "metadata": {
    "ExecuteTime": {
     "end_time": "2017-12-05T06:09:00.383818Z",
     "start_time": "2017-12-05T06:09:00.378078Z"
    },
    "collapsed": true
   },
   "outputs": [],
   "source": [
    "# 全ての列項目がnullの行を除去\n",
    "tables[9] = tables[9][~tables[9].isnull().all(axis=1)].reset_index(drop=True)"
   ]
  },
  {
   "cell_type": "code",
   "execution_count": null,
   "metadata": {
    "ExecuteTime": {
     "end_time": "2017-12-05T06:09:01.320776Z",
     "start_time": "2017-12-05T06:09:01.315004Z"
    },
    "collapsed": false
   },
   "outputs": [],
   "source": [
    "# 決算期列の要素を会計基準と決算期に分割、それぞれの列に代入(同時に会計基準列を新規作成)\n",
    "tables[9][['会計基準', '決算期']] = pd.DataFrame(list(tables[9]['決算期'].str.split(' ')))"
   ]
  },
  {
   "cell_type": "code",
   "execution_count": null,
   "metadata": {
    "ExecuteTime": {
     "end_time": "2017-12-05T06:09:02.568689Z",
     "start_time": "2017-12-05T06:09:02.563246Z"
    },
    "collapsed": false
   },
   "outputs": [],
   "source": [
    "# 列の並び替え\n",
    "tables[9] = tables[9][['会計基準', '決算期', '１株純資産', '自己資本比率', '総資産', '自己資本', '剰余金', '有利子負債倍率', '発表日']]"
   ]
  },
  {
   "cell_type": "code",
   "execution_count": null,
   "metadata": {
    "ExecuteTime": {
     "end_time": "2017-12-05T06:09:08.127378Z",
     "start_time": "2017-12-05T06:09:08.122393Z"
    },
    "collapsed": false
   },
   "outputs": [],
   "source": [
    "# 決算期が 'yyyy.mm' 表記ではない行は確定決算前と判断して削除\n",
    "tables[9] = tables[9][tables[9]['決算期'].str.contains('\\d\\d\\d\\d.\\d\\d')]"
   ]
  },
  {
   "cell_type": "code",
   "execution_count": null,
   "metadata": {
    "ExecuteTime": {
     "end_time": "2017-12-05T06:09:11.318012Z",
     "start_time": "2017-12-05T06:09:11.312876Z"
    },
    "collapsed": false
   },
   "outputs": [],
   "source": [
    "# 決算期が 1998.03 のデータは他のテーブルには無く、発表日も不自然なので行ごと削除\n",
    "tables[9] = tables[9][~tables[9]['決算期'].str.contains('1998.03')].reset_index(drop=True)"
   ]
  },
  {
   "cell_type": "code",
   "execution_count": null,
   "metadata": {
    "ExecuteTime": {
     "end_time": "2017-12-05T06:11:26.217669Z",
     "start_time": "2017-12-05T06:11:26.208538Z"
    },
    "collapsed": true
   },
   "outputs": [],
   "source": [
    "# '－'  を NaN に置換\n",
    "# .str を2回も使わないといけないのはなんだか。。。\n",
    "tables[9].loc[~tables[9]['１株純資産'].str.replace('.', '').str.isnumeric(), '１株純資産'] = np.nan\n",
    "tables[9].loc[~tables[9]['有利子負債倍率'].str.replace('.', '').str.isnumeric(), '有利子負債倍率'] = np.nan"
   ]
  },
  {
   "cell_type": "code",
   "execution_count": null,
   "metadata": {
    "ExecuteTime": {
     "end_time": "2017-12-05T06:11:27.463414Z",
     "start_time": "2017-12-05T06:11:27.457976Z"
    },
    "collapsed": true
   },
   "outputs": [],
   "source": [
    "# 型変換\n",
    "tables[9][['１株純資産', '有利子負債倍率']] = tables[9][['１株純資産', '有利子負債倍率']].astype(float)"
   ]
  },
  {
   "cell_type": "code",
   "execution_count": null,
   "metadata": {
    "ExecuteTime": {
     "end_time": "2017-12-05T06:11:32.500570Z",
     "start_time": "2017-12-05T06:11:32.492703Z"
    },
    "collapsed": false
   },
   "outputs": [],
   "source": [
    "# 100万円単位換算\n",
    "tables[9][['総資産', '自己資本', '剰余金']] = tables[9][['総資産', '自己資本', '剰余金']].apply(lambda x: x * 1000000)"
   ]
  },
  {
   "cell_type": "code",
   "execution_count": null,
   "metadata": {
    "ExecuteTime": {
     "end_time": "2017-12-05T06:11:33.538110Z",
     "start_time": "2017-12-05T06:11:33.527701Z"
    },
    "collapsed": false
   },
   "outputs": [],
   "source": [
    "# 日付のパース、datetime.dateへの型変換\n",
    "# tables[9]['決算期'] = tables[9]['決算期'].apply(lambda x: parse(x.replace('-', '.'), yearfirst=True).date()) # 日付ではないので文字列のままの方がいいかも？\n",
    "tables[9]['発表日'] = tables[9]['発表日'].apply(lambda x: parse(x, yearfirst=True).date())\n",
    "# pandasのTimestampへの型変換\n",
    "# tables[9]['決算期'] = pd.to_datetime(tables[9]['決算期'], format='%Y-%m-%d')\n",
    "tables[9]['発表日'] = pd.to_datetime(tables[9]['発表日'], format='%Y-%m-%d')"
   ]
  },
  {
   "cell_type": "code",
   "execution_count": null,
   "metadata": {
    "ExecuteTime": {
     "end_time": "2017-12-05T06:12:43.100001Z",
     "start_time": "2017-12-05T06:12:43.072164Z"
    },
    "collapsed": false
   },
   "outputs": [],
   "source": [
    "tables[3]"
   ]
  },
  {
   "cell_type": "code",
   "execution_count": null,
   "metadata": {
    "ExecuteTime": {
     "end_time": "2017-12-05T06:32:52.178244Z",
     "start_time": "2017-12-05T06:32:52.152271Z"
    },
    "collapsed": false
   },
   "outputs": [],
   "source": [
    "tables[9]"
   ]
  },
  {
   "cell_type": "code",
   "execution_count": null,
   "metadata": {
    "ExecuteTime": {
     "end_time": "2017-12-05T06:32:47.316300Z",
     "start_time": "2017-12-05T06:32:47.275865Z"
    },
    "collapsed": false
   },
   "outputs": [],
   "source": [
    "for count in range(len(tables[3])):\n",
    "    try:\n",
    "        if len(tables[3]) == len(tables[9]):\n",
    "            if (tables[3].ix[count, '会計基準'] == tables[9].ix[count, '会計基準'] and tables[3].ix[count, '決算期'] == tables[9].ix[count, '決算期']):\n",
    "                print('True {0}'.format(tables[3].ix[count, '発表日']))\n",
    "                tables[9].ix[count, '発表日'] = tables[3].ix[count, '発表日']\n",
    "        else:\n",
    "            print('{0}: Not match table length.'.format(code))\n",
    "    except Exception as e:\n",
    "        print(code)\n",
    "        print(e)"
   ]
  },
  {
   "cell_type": "code",
   "execution_count": null,
   "metadata": {
    "ExecuteTime": {
     "end_time": "2017-12-03T22:41:55.098231Z",
     "start_time": "2017-12-03T22:41:55.092240Z"
    },
    "collapsed": false
   },
   "outputs": [],
   "source": [
    "tables[9].dtypes"
   ]
  },
  {
   "cell_type": "code",
   "execution_count": null,
   "metadata": {
    "ExecuteTime": {
     "end_time": "2017-12-03T22:42:25.950115Z",
     "start_time": "2017-12-03T22:42:25.922327Z"
    },
    "collapsed": false,
    "scrolled": false
   },
   "outputs": [],
   "source": [
    "tables[9]\n",
    "# 株プロに無い項目: 自己資本比率, 自己資本, 剰余金, 有利子負債倍率"
   ]
  },
  {
   "cell_type": "code",
   "execution_count": null,
   "metadata": {
    "ExecuteTime": {
     "end_time": "2017-11-28T20:49:03.024425Z",
     "start_time": "2017-11-28T20:49:02.974973Z"
    },
    "collapsed": false
   },
   "outputs": [],
   "source": [
    "kabupro.ix[(kabupro['証券コード'] == code) & (kabupro['会計基準'] == '米国基準') & (kabupro['決算期間'] == '通期'), \n",
    "           ['連結個別', '決算期', '期首', '一株当り純資産', '総資産', '情報公開日 (更新日)']]"
   ]
  },
  {
   "cell_type": "code",
   "execution_count": null,
   "metadata": {
    "ExecuteTime": {
     "end_time": "2017-11-28T20:02:06.222463Z",
     "start_time": "2017-11-28T20:02:06.217308Z"
    },
    "collapsed": false
   },
   "outputs": [],
   "source": [
    "# 比較参照用\n",
    "kabupro.columns"
   ]
  },
  {
   "cell_type": "markdown",
   "metadata": {},
   "source": [
    "# (準備) 単一銘柄の決算ページの取得"
   ]
  },
  {
   "cell_type": "code",
   "execution_count": null,
   "metadata": {
    "ExecuteTime": {
     "end_time": "2017-11-25T23:37:30.196969Z",
     "start_time": "2017-11-25T23:37:29.697413Z"
    },
    "collapsed": false
   },
   "outputs": [],
   "source": [
    "# 個別銘柄の決算ページを開く\n",
    "code = 9437 # トヨタ\n",
    "\n",
    "print('Navigating...', file=sys.stderr)\n",
    "browser.open('https://kabutan.jp/stock/finance?code={0}&mode=k'.format(code))\n",
    "\n",
    "# 決算ページにいることを確認する\n",
    "assert '決算' in browser.parsed.title.string\n",
    "\n",
    "print(browser.select('.kobetsu_data_table1_meigara')[0].text.strip())"
   ]
  },
  {
   "cell_type": "markdown",
   "metadata": {},
   "source": [
    "## html 全体の取得と保存"
   ]
  },
  {
   "cell_type": "code",
   "execution_count": null,
   "metadata": {
    "ExecuteTime": {
     "end_time": "2017-11-25T23:37:39.426657Z",
     "start_time": "2017-11-25T23:37:38.973948Z"
    },
    "collapsed": true
   },
   "outputs": [],
   "source": [
    "kessan_html = browser.find()\n",
    "kessan_html"
   ]
  },
  {
   "cell_type": "code",
   "execution_count": null,
   "metadata": {
    "ExecuteTime": {
     "end_time": "2017-11-25T23:37:53.779238Z",
     "start_time": "2017-11-25T23:37:53.287863Z"
    },
    "collapsed": true
   },
   "outputs": [],
   "source": [
    "tables = pd.read_html(str(kessan_html), header=0)\n",
    "tables[11]"
   ]
  },
  {
   "cell_type": "code",
   "execution_count": null,
   "metadata": {
    "ExecuteTime": {
     "end_time": "2017-11-19T09:44:22.328443Z",
     "start_time": "2017-11-19T09:44:22.288871Z"
    },
    "collapsed": true
   },
   "outputs": [],
   "source": [
    "# 後でhtml形式で読み込み可能なファイルとして書き出す方法\n",
    "kabutan_kessan = open('kabutan_kessan.html', 'w')\n",
    "kabutan_kessan.write(str(browser.find()))\n",
    "kabutan_kessan.close()"
   ]
  },
  {
   "cell_type": "code",
   "execution_count": null,
   "metadata": {
    "ExecuteTime": {
     "end_time": "2017-11-19T09:50:46.983821Z",
     "start_time": "2017-11-19T09:50:46.517083Z"
    },
    "collapsed": false
   },
   "outputs": [],
   "source": [
    "# 保存したhtmlファイルからの読み込み\n",
    "tables = pd.read_html('/Users/Really/Stockyard/kabutan_kessan.html', header=0)"
   ]
  },
  {
   "cell_type": "markdown",
   "metadata": {},
   "source": [
    "## html 内のテーブル属性のみの取得と保存"
   ]
  },
  {
   "cell_type": "code",
   "execution_count": null,
   "metadata": {
    "ExecuteTime": {
     "end_time": "2017-11-18T17:09:47.302413Z",
     "start_time": "2017-11-18T17:09:46.257876Z"
    },
    "collapsed": true
   },
   "outputs": [],
   "source": [
    "tables = pd.read_html(str(browser.select('table')), header=0)\n",
    "tables[11]"
   ]
  },
  {
   "cell_type": "code",
   "execution_count": null,
   "metadata": {
    "ExecuteTime": {
     "end_time": "2017-11-19T09:45:56.581738Z",
     "start_time": "2017-11-19T09:45:56.541288Z"
    },
    "collapsed": true
   },
   "outputs": [],
   "source": [
    "# 後でhtml形式で読み込み可能なファイルとして書き出す方法\n",
    "kabutan_kessan_tables = open('kabutan_kessan_tables.html', 'w')\n",
    "kabutan_kessan_tables.write(str(browser.select('table')))\n",
    "kabutan_kessan_tables.close()"
   ]
  },
  {
   "cell_type": "code",
   "execution_count": null,
   "metadata": {
    "ExecuteTime": {
     "end_time": "2017-11-18T16:31:30.894688Z",
     "start_time": "2017-11-18T16:31:30.891290Z"
    },
    "collapsed": false
   },
   "outputs": [],
   "source": [
    "# 保存したhtmlファイルからの読み込み\n",
    "tables = pd.read_html('/Users/Really/Stockyard/kabutan_kessan_tables.html', header=0)"
   ]
  },
  {
   "cell_type": "markdown",
   "metadata": {},
   "source": [
    "# (準備) 全テーブル内容の確認"
   ]
  },
  {
   "cell_type": "raw",
   "metadata": {},
   "source": [
    "# 14 以降はテーブル数が動的に変化する\n",
    "\n",
    "#  0 主要指標情報 日経平均\n",
    "#  1 主要指標情報 米ドル円\n",
    "#  2 主要指標情報 ＮＹダウ (終値)\n",
    "#  3 主要指標情報 上海総合 (終値)\n",
    "#  4 検索窓\n",
    "#  5 銘柄概要\n",
    "#  6 銘柄概要\n",
    "#  7 銘柄概要\n",
    "#  8 銘柄概要\n",
    "#  9 ＰＥＲ ＰＢＲ 利回り 信用倍率\n",
    "# 10 通期業績\n",
    "# 11 業績予想修正履歴 - 新規上場銘柄の場合は空\n",
    "# 12 不明\n",
    "# 13 修正履歴修正方向 - このテーブルの数が増減する\n",
    "#  - 過去最高 【実績】 - 新規上場銘柄の場合はない\n",
    "#  - 下期業績\n",
    "#  - 第２四半期累計決算【実績】\n",
    "#  - ３ヵ月業績の推移【実績】 - 新規上場銘柄の場合はない\n",
    "#  - 財務 【実績】\n",
    "#  - 日経平均チャート切り替え"
   ]
  },
  {
   "cell_type": "code",
   "execution_count": null,
   "metadata": {
    "ExecuteTime": {
     "end_time": "2017-12-03T22:34:25.910703Z",
     "start_time": "2017-12-03T22:34:25.878054Z"
    },
    "collapsed": false
   },
   "outputs": [],
   "source": [
    "# ページ上部の主要指標情報 1-4の各項目と同じところっぽい\n",
    "tables[0]"
   ]
  },
  {
   "cell_type": "code",
   "execution_count": null,
   "metadata": {
    "ExecuteTime": {
     "end_time": "2017-12-03T22:34:29.890560Z",
     "start_time": "2017-12-03T22:34:29.881104Z"
    },
    "code_folding": [],
    "collapsed": false
   },
   "outputs": [],
   "source": [
    "# 主要指標情報 日経平均\n",
    "tables[1]"
   ]
  },
  {
   "cell_type": "code",
   "execution_count": null,
   "metadata": {
    "ExecuteTime": {
     "end_time": "2017-12-03T22:34:31.860842Z",
     "start_time": "2017-12-03T22:34:31.851842Z"
    },
    "code_folding": [],
    "collapsed": false
   },
   "outputs": [],
   "source": [
    "# 主要指標情報 米ドル円\n",
    "tables[2]"
   ]
  },
  {
   "cell_type": "code",
   "execution_count": null,
   "metadata": {
    "ExecuteTime": {
     "end_time": "2017-12-03T22:34:33.804448Z",
     "start_time": "2017-12-03T22:34:33.795825Z"
    },
    "code_folding": [],
    "collapsed": false
   },
   "outputs": [],
   "source": [
    "# 主要指標情報 ＮＹダウ (終値)\n",
    "tables[3]"
   ]
  },
  {
   "cell_type": "code",
   "execution_count": null,
   "metadata": {
    "ExecuteTime": {
     "end_time": "2017-12-03T22:34:35.211862Z",
     "start_time": "2017-12-03T22:34:35.202961Z"
    },
    "code_folding": [],
    "collapsed": false
   },
   "outputs": [],
   "source": [
    "# 主要指標情報 上海総合 (終値)\n",
    "tables[4]"
   ]
  },
  {
   "cell_type": "code",
   "execution_count": null,
   "metadata": {
    "ExecuteTime": {
     "end_time": "2017-12-03T22:34:37.195616Z",
     "start_time": "2017-12-03T22:34:37.187757Z"
    },
    "collapsed": false
   },
   "outputs": [],
   "source": [
    "# 検索窓\n",
    "tables[5]"
   ]
  },
  {
   "cell_type": "code",
   "execution_count": null,
   "metadata": {
    "ExecuteTime": {
     "end_time": "2017-12-03T22:34:39.287542Z",
     "start_time": "2017-12-03T22:34:39.274485Z"
    },
    "collapsed": false
   },
   "outputs": [],
   "source": [
    "# 銘柄概要\n",
    "tables[6]"
   ]
  },
  {
   "cell_type": "code",
   "execution_count": null,
   "metadata": {
    "ExecuteTime": {
     "end_time": "2017-12-03T22:34:41.562841Z",
     "start_time": "2017-12-03T22:34:41.555421Z"
    },
    "collapsed": false
   },
   "outputs": [],
   "source": [
    "# 銘柄概要\n",
    "tables[7]"
   ]
  },
  {
   "cell_type": "code",
   "execution_count": null,
   "metadata": {
    "ExecuteTime": {
     "end_time": "2017-12-03T22:34:43.210886Z",
     "start_time": "2017-12-03T22:34:43.200627Z"
    },
    "collapsed": false
   },
   "outputs": [],
   "source": [
    "# 銘柄概要\n",
    "tables[8]"
   ]
  },
  {
   "cell_type": "code",
   "execution_count": null,
   "metadata": {
    "ExecuteTime": {
     "end_time": "2017-12-03T22:34:44.667481Z",
     "start_time": "2017-12-03T22:34:44.659643Z"
    },
    "collapsed": false
   },
   "outputs": [],
   "source": [
    "# 銘柄概要\n",
    "tables[9]"
   ]
  },
  {
   "cell_type": "code",
   "execution_count": null,
   "metadata": {
    "ExecuteTime": {
     "end_time": "2017-12-03T22:34:47.591147Z",
     "start_time": "2017-12-03T22:34:47.580466Z"
    },
    "collapsed": false
   },
   "outputs": [],
   "source": [
    "# ＰＥＲ ＰＢＲ 利回り 信用倍率\n",
    "tables[10]"
   ]
  },
  {
   "cell_type": "code",
   "execution_count": null,
   "metadata": {
    "ExecuteTime": {
     "end_time": "2017-12-03T22:34:49.952378Z",
     "start_time": "2017-12-03T22:34:49.926577Z"
    },
    "collapsed": false
   },
   "outputs": [],
   "source": [
    "# 通期業績\n",
    "tables[11]\n",
    "# 株プロに無い項目: １株配"
   ]
  },
  {
   "cell_type": "code",
   "execution_count": null,
   "metadata": {
    "ExecuteTime": {
     "end_time": "2017-12-03T22:34:54.508761Z",
     "start_time": "2017-12-03T22:34:54.450790Z"
    },
    "collapsed": false
   },
   "outputs": [],
   "source": [
    "# 業績予想修正履歴\n",
    "tables[12]"
   ]
  },
  {
   "cell_type": "code",
   "execution_count": null,
   "metadata": {
    "ExecuteTime": {
     "end_time": "2017-12-03T22:34:58.599346Z",
     "start_time": "2017-12-03T22:34:58.591412Z"
    },
    "collapsed": false
   },
   "outputs": [],
   "source": [
    "# 不明\n",
    "tables[13]"
   ]
  },
  {
   "cell_type": "code",
   "execution_count": null,
   "metadata": {
    "ExecuteTime": {
     "end_time": "2017-12-03T22:35:01.275750Z",
     "start_time": "2017-12-03T22:35:01.267771Z"
    },
    "collapsed": false
   },
   "outputs": [],
   "source": [
    "# 修正履歴修正方向\n",
    "tables[14]"
   ]
  },
  {
   "cell_type": "code",
   "execution_count": null,
   "metadata": {
    "ExecuteTime": {
     "end_time": "2017-12-03T22:35:04.137660Z",
     "start_time": "2017-12-03T22:35:04.130188Z"
    },
    "collapsed": false
   },
   "outputs": [],
   "source": [
    "tables[15]"
   ]
  },
  {
   "cell_type": "code",
   "execution_count": null,
   "metadata": {
    "ExecuteTime": {
     "end_time": "2017-12-03T22:35:45.293626Z",
     "start_time": "2017-12-03T22:35:45.285981Z"
    },
    "collapsed": false
   },
   "outputs": [],
   "source": [
    "tables[16]"
   ]
  },
  {
   "cell_type": "code",
   "execution_count": null,
   "metadata": {
    "ExecuteTime": {
     "end_time": "2017-12-03T22:35:50.900427Z",
     "start_time": "2017-12-03T22:35:50.892902Z"
    },
    "collapsed": false
   },
   "outputs": [],
   "source": [
    "tables[17]"
   ]
  },
  {
   "cell_type": "code",
   "execution_count": null,
   "metadata": {
    "ExecuteTime": {
     "end_time": "2017-12-03T22:35:58.275007Z",
     "start_time": "2017-12-03T22:35:58.267563Z"
    },
    "collapsed": false
   },
   "outputs": [],
   "source": [
    "tables[18]"
   ]
  },
  {
   "cell_type": "code",
   "execution_count": null,
   "metadata": {
    "ExecuteTime": {
     "end_time": "2017-12-03T22:36:06.521495Z",
     "start_time": "2017-12-03T22:36:06.514066Z"
    },
    "collapsed": false
   },
   "outputs": [],
   "source": [
    "tables[19]"
   ]
  },
  {
   "cell_type": "code",
   "execution_count": null,
   "metadata": {
    "ExecuteTime": {
     "end_time": "2017-12-03T22:36:17.786218Z",
     "start_time": "2017-12-03T22:36:17.778597Z"
    },
    "collapsed": false
   },
   "outputs": [],
   "source": [
    "tables[20]"
   ]
  },
  {
   "cell_type": "code",
   "execution_count": null,
   "metadata": {
    "ExecuteTime": {
     "end_time": "2017-12-03T22:36:23.267856Z",
     "start_time": "2017-12-03T22:36:23.260455Z"
    },
    "collapsed": false
   },
   "outputs": [],
   "source": [
    "tables[21]"
   ]
  },
  {
   "cell_type": "code",
   "execution_count": null,
   "metadata": {
    "ExecuteTime": {
     "end_time": "2017-12-03T22:36:26.310348Z",
     "start_time": "2017-12-03T22:36:26.302912Z"
    },
    "collapsed": false
   },
   "outputs": [],
   "source": [
    "tables[22]"
   ]
  },
  {
   "cell_type": "code",
   "execution_count": null,
   "metadata": {
    "ExecuteTime": {
     "end_time": "2017-12-03T22:36:27.955004Z",
     "start_time": "2017-12-03T22:36:27.942123Z"
    },
    "collapsed": false
   },
   "outputs": [],
   "source": [
    "tables[23]"
   ]
  },
  {
   "cell_type": "code",
   "execution_count": null,
   "metadata": {
    "ExecuteTime": {
     "end_time": "2017-12-03T22:36:31.084474Z",
     "start_time": "2017-12-03T22:36:31.068622Z"
    },
    "collapsed": false
   },
   "outputs": [],
   "source": [
    "tables[24]"
   ]
  },
  {
   "cell_type": "code",
   "execution_count": null,
   "metadata": {
    "ExecuteTime": {
     "end_time": "2017-12-03T22:36:32.539648Z",
     "start_time": "2017-12-03T22:36:32.523854Z"
    },
    "collapsed": false
   },
   "outputs": [],
   "source": [
    "tables[25]"
   ]
  },
  {
   "cell_type": "code",
   "execution_count": null,
   "metadata": {
    "ExecuteTime": {
     "end_time": "2017-12-03T22:36:34.714182Z",
     "start_time": "2017-12-03T22:36:34.688619Z"
    },
    "collapsed": false
   },
   "outputs": [],
   "source": [
    "tables[26]"
   ]
  },
  {
   "cell_type": "code",
   "execution_count": null,
   "metadata": {
    "ExecuteTime": {
     "end_time": "2017-12-03T22:36:38.219507Z",
     "start_time": "2017-12-03T22:36:38.193161Z"
    },
    "collapsed": false
   },
   "outputs": [],
   "source": [
    "tables[27]"
   ]
  },
  {
   "cell_type": "code",
   "execution_count": null,
   "metadata": {
    "ExecuteTime": {
     "end_time": "2017-12-03T22:36:43.213458Z",
     "start_time": "2017-12-03T22:36:43.204727Z"
    },
    "collapsed": false
   },
   "outputs": [],
   "source": [
    "tables[28]"
   ]
  },
  {
   "cell_type": "code",
   "execution_count": null,
   "metadata": {
    "ExecuteTime": {
     "end_time": "2017-12-03T22:36:54.635123Z",
     "start_time": "2017-12-03T22:36:54.624108Z"
    },
    "collapsed": false
   },
   "outputs": [],
   "source": [
    "tables[29]"
   ]
  }
 ],
 "metadata": {
  "kernelspec": {
   "display_name": "Python 3",
   "language": "python",
   "name": "python3"
  },
  "language_info": {
   "codemirror_mode": {
    "name": "ipython",
    "version": 3
   },
   "file_extension": ".py",
   "mimetype": "text/x-python",
   "name": "python",
   "nbconvert_exporter": "python",
   "pygments_lexer": "ipython3",
   "version": "3.6.0"
  },
  "toc": {
   "nav_menu": {},
   "number_sections": true,
   "sideBar": true,
   "skip_h1_title": false,
   "toc_cell": false,
   "toc_position": {},
   "toc_section_display": "block",
   "toc_window_display": false
  },
  "varInspector": {
   "cols": {
    "lenName": 16,
    "lenType": 16,
    "lenVar": 40
   },
   "kernels_config": {
    "python": {
     "delete_cmd_postfix": "",
     "delete_cmd_prefix": "del ",
     "library": "var_list.py",
     "varRefreshCmd": "print(var_dic_list())"
    },
    "r": {
     "delete_cmd_postfix": ") ",
     "delete_cmd_prefix": "rm(",
     "library": "var_list.r",
     "varRefreshCmd": "cat(var_dic_list()) "
    }
   },
   "position": {
    "height": "362px",
    "left": "983px",
    "right": "24px",
    "top": "120px",
    "width": "346px"
   },
   "types_to_exclude": [
    "module",
    "function",
    "builtin_function_or_method",
    "instance",
    "_Feature"
   ],
   "window_display": false
  }
 },
 "nbformat": 4,
 "nbformat_minor": 2
}
