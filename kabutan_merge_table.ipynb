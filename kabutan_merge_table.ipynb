{
 "cells": [
  {
   "cell_type": "markdown",
   "metadata": {},
   "source": [
    "# memo"
   ]
  },
  {
   "cell_type": "raw",
   "metadata": {},
   "source": [
    "※単位：売上高、営業益、経常益、最終益は「百万円」。１株益、１株配は「円」。率は「％」\n",
    "\n",
    "※１株純資産は「円」。自己資本比率は「％」。総資産、自己資本、剰余金は「百万円」。有利子負債倍率は「倍」\n",
    "\n",
    "・「連」：日本会計基準［連結決算］、「単」：日本会計基準［非連結決算(単独決算)］、「U」：米国会計基準、「I」：国際会計基準(IFRS)、\n",
    "「予」：予想業績、「旧」：修正前の予想業績、「新」：修正後の予想業績、「実」：実績業績、「変」：決算期変更\n",
    "\n",
    "・［連結／非連結］決算区分の変更があった場合は、連続的に業績推移を追えるように、連結と非連結を混在して表示しています。\n",
    "連結と非連結が混在しない場合は、「連」「単」表記は省略します。\n",
    "\n",
    "・前期比および前年同期比は、会計基準や決算期間が異なる場合は比較できないため、「－」で表記しています。\n",
    "\n",
    "・米国会計基準と国際会計基準では、「経常益」欄の数値は「税引き前利益」を表記しています。\n",
    "\n",
    "・業績予想がレンジで開示された場合は中央値を表記しています。"
   ]
  },
  {
   "cell_type": "raw",
   "metadata": {},
   "source": [
    "25935 伊藤園第1種優先株式 ない"
   ]
  },
  {
   "cell_type": "markdown",
   "metadata": {},
   "source": [
    "# import など準備"
   ]
  },
  {
   "cell_type": "markdown",
   "metadata": {},
   "source": [
    "## import, MySQL 接続"
   ]
  },
  {
   "cell_type": "code",
   "execution_count": null,
   "metadata": {
    "ExecuteTime": {
     "end_time": "2017-12-02T18:48:53.725633Z",
     "start_time": "2017-12-02T18:48:52.532933Z"
    },
    "code_folding": [],
    "collapsed": false
   },
   "outputs": [],
   "source": [
    "# import\n",
    "import sys\n",
    "import os\n",
    "import re\n",
    "import datetime as dt\n",
    "import time\n",
    "import importlib\n",
    "import logging\n",
    "import numpy as np\n",
    "import pandas as pd\n",
    "from robobrowser import RoboBrowser\n",
    "# from robobrowser.browser import RoboState\n",
    "from retry import retry\n",
    "from dateutil.parser import parse\n",
    "from datetime import datetime\n",
    "\n",
    "import stock"
   ]
  },
  {
   "cell_type": "code",
   "execution_count": null,
   "metadata": {
    "collapsed": true
   },
   "outputs": [],
   "source": [
    "importlib.reload(stock)"
   ]
  },
  {
   "cell_type": "code",
   "execution_count": null,
   "metadata": {
    "ExecuteTime": {
     "end_time": "2017-12-02T18:48:55.633165Z",
     "start_time": "2017-12-02T18:48:55.629929Z"
    },
    "collapsed": true
   },
   "outputs": [],
   "source": [
    "# pandas の最大表示列数を設定 (max_rows で表示行数の設定も可能)\n",
    "pd.set_option('display.max_columns', 30)"
   ]
  },
  {
   "cell_type": "code",
   "execution_count": null,
   "metadata": {
    "ExecuteTime": {
     "end_time": "2017-12-02T18:48:56.516730Z",
     "start_time": "2017-12-02T18:48:56.513756Z"
    },
    "collapsed": false
   },
   "outputs": [],
   "source": [
    "sql = stock.sql()"
   ]
  },
  {
   "cell_type": "code",
   "execution_count": null,
   "metadata": {
    "ExecuteTime": {
     "end_time": "2017-12-02T13:55:00.771628Z",
     "start_time": "2017-12-02T13:55:00.762725Z"
    },
    "collapsed": false
   },
   "outputs": [],
   "source": [
    "help(stock.sql)"
   ]
  },
  {
   "cell_type": "markdown",
   "metadata": {},
   "source": [
    "## 比較参照用、株プロ決算の読み込み"
   ]
  },
  {
   "cell_type": "code",
   "execution_count": null,
   "metadata": {
    "ExecuteTime": {
     "end_time": "2017-11-30T22:48:16.984209Z",
     "start_time": "2017-11-30T22:48:16.981184Z"
    },
    "collapsed": true
   },
   "outputs": [],
   "source": [
    "table_name = 'kabupro_kessan'"
   ]
  },
  {
   "cell_type": "code",
   "execution_count": null,
   "metadata": {
    "ExecuteTime": {
     "end_time": "2017-11-30T22:48:40.663122Z",
     "start_time": "2017-11-30T22:48:36.151027Z"
    },
    "collapsed": false
   },
   "outputs": [],
   "source": [
    "kabupro = sql.read_table(table_name)"
   ]
  },
  {
   "cell_type": "code",
   "execution_count": null,
   "metadata": {
    "ExecuteTime": {
     "end_time": "2017-11-30T22:50:31.865897Z",
     "start_time": "2017-11-30T22:50:31.751462Z"
    },
    "collapsed": true
   },
   "outputs": [],
   "source": [
    "kabupro"
   ]
  },
  {
   "cell_type": "code",
   "execution_count": null,
   "metadata": {
    "ExecuteTime": {
     "end_time": "2017-11-29T17:41:52.402353Z",
     "start_time": "2017-11-29T17:41:52.389745Z"
    },
    "collapsed": false
   },
   "outputs": [],
   "source": [
    "kabupro.columns"
   ]
  },
  {
   "cell_type": "code",
   "execution_count": null,
   "metadata": {
    "ExecuteTime": {
     "end_time": "2017-11-28T20:02:31.051947Z",
     "start_time": "2017-11-28T20:02:31.037847Z"
    },
    "collapsed": true
   },
   "outputs": [],
   "source": [
    "kabupro.ix[14]\n",
    "# 株プロにしか無い項目: 希薄化後一株当り純利益, 純資産又は株主資本, 営業キャッシュフロー, 投資キャッシュフロー, 財務キャッシュフロー"
   ]
  },
  {
   "cell_type": "markdown",
   "metadata": {},
   "source": [
    "# 銘柄コードリスト"
   ]
  },
  {
   "cell_type": "code",
   "execution_count": null,
   "metadata": {
    "ExecuteTime": {
     "end_time": "2017-11-26T01:13:09.649188Z",
     "start_time": "2017-11-26T01:13:09.236893Z"
    },
    "collapsed": true
   },
   "outputs": [],
   "source": [
    "domestic_stock_table = sql.read_table('domestic_stock_table')"
   ]
  },
  {
   "cell_type": "code",
   "execution_count": null,
   "metadata": {
    "ExecuteTime": {
     "end_time": "2017-11-26T01:13:21.301264Z",
     "start_time": "2017-11-26T01:13:21.245746Z"
    },
    "collapsed": true
   },
   "outputs": [],
   "source": [
    "domestic_stock_table"
   ]
  },
  {
   "cell_type": "code",
   "execution_count": null,
   "metadata": {
    "ExecuteTime": {
     "end_time": "2017-11-26T01:14:02.177016Z",
     "start_time": "2017-11-26T01:14:02.173813Z"
    },
    "collapsed": true
   },
   "outputs": [],
   "source": [
    "code_list = list(domestic_stock_table['code'])"
   ]
  },
  {
   "cell_type": "code",
   "execution_count": null,
   "metadata": {
    "collapsed": true
   },
   "outputs": [],
   "source": [
    "# 伊藤園第1種優先株式を削除\n",
    "code_list.remove(25935)"
   ]
  },
  {
   "cell_type": "code",
   "execution_count": null,
   "metadata": {
    "ExecuteTime": {
     "end_time": "2017-11-26T02:14:06.301624Z",
     "start_time": "2017-11-26T02:14:06.296668Z"
    },
    "collapsed": false,
    "scrolled": true
   },
   "outputs": [],
   "source": [
    "code_list[-10:]"
   ]
  },
  {
   "cell_type": "code",
   "execution_count": null,
   "metadata": {
    "ExecuteTime": {
     "end_time": "2017-11-26T01:14:42.774703Z",
     "start_time": "2017-11-26T01:14:42.770186Z"
    },
    "collapsed": false
   },
   "outputs": [],
   "source": [
    "len(code_list)"
   ]
  },
  {
   "cell_type": "code",
   "execution_count": null,
   "metadata": {
    "ExecuteTime": {
     "end_time": "2017-11-26T02:14:35.803466Z",
     "start_time": "2017-11-26T02:14:35.796975Z"
    },
    "collapsed": false
   },
   "outputs": [],
   "source": [
    "start_index = 30\n",
    "increase_number = 10\n",
    "# end_index = start_index + increase_number\n",
    "end_index = len(code_list)\n",
    "\n",
    "reading_code = code_list[start_index : end_index]\n",
    "print(reading_code[-10:])\n",
    "print('Next start from {0}'.format(start_index + increase_number))"
   ]
  },
  {
   "cell_type": "markdown",
   "metadata": {},
   "source": [
    "# 保存した html ファイルからテーブル属性のみ読み込み、整形"
   ]
  },
  {
   "cell_type": "markdown",
   "metadata": {},
   "source": [
    "__TODO__"
   ]
  },
  {
   "cell_type": "raw",
   "metadata": {},
   "source": [
    "通期業績以降のテーブルを発表日でくっつけてみる"
   ]
  },
  {
   "cell_type": "code",
   "execution_count": null,
   "metadata": {
    "ExecuteTime": {
     "end_time": "2017-12-02T18:49:09.694593Z",
     "start_time": "2017-12-02T18:49:09.691842Z"
    },
    "collapsed": true
   },
   "outputs": [],
   "source": [
    "code = 9432"
   ]
  },
  {
   "cell_type": "code",
   "execution_count": null,
   "metadata": {
    "ExecuteTime": {
     "end_time": "2017-12-02T18:49:20.018194Z",
     "start_time": "2017-12-02T18:49:19.560942Z"
    },
    "collapsed": false
   },
   "outputs": [],
   "source": [
    "# 保存した html からテーブル属性を読み込み\n",
    "tables = pd.read_html('/Users/Really/Stockyard/_kabutan_html/kabutan_{0}.html'.format(code), header=0)"
   ]
  },
  {
   "cell_type": "markdown",
   "metadata": {},
   "source": [
    "## リスト、テーブルの概要"
   ]
  },
  {
   "cell_type": "code",
   "execution_count": null,
   "metadata": {
    "ExecuteTime": {
     "end_time": "2017-12-02T18:49:22.110432Z",
     "start_time": "2017-12-02T18:49:22.097137Z"
    },
    "collapsed": false
   },
   "outputs": [],
   "source": [
    "len(tables)"
   ]
  },
  {
   "cell_type": "code",
   "execution_count": null,
   "metadata": {
    "ExecuteTime": {
     "end_time": "2017-12-02T18:49:25.198524Z",
     "start_time": "2017-12-02T18:49:25.194219Z"
    },
    "collapsed": false
   },
   "outputs": [],
   "source": [
    "len(tables[12])"
   ]
  },
  {
   "cell_type": "code",
   "execution_count": null,
   "metadata": {
    "ExecuteTime": {
     "end_time": "2017-11-28T19:39:10.602864Z",
     "start_time": "2017-11-28T19:39:10.598488Z"
    },
    "collapsed": false
   },
   "outputs": [],
   "source": [
    "len(tables[12].columns)"
   ]
  },
  {
   "cell_type": "markdown",
   "metadata": {},
   "source": [
    "## 整形処理"
   ]
  },
  {
   "cell_type": "code",
   "execution_count": null,
   "metadata": {
    "ExecuteTime": {
     "end_time": "2017-12-02T18:49:43.724905Z",
     "start_time": "2017-12-02T18:49:42.663958Z"
    },
    "collapsed": false
   },
   "outputs": [],
   "source": [
    "# tables[11] 通期業績\n",
    "\n",
    "# 全ての列項目がnullの行を除去\n",
    "tables[11] = tables[11][~tables[11].isnull().all(axis=1)].reset_index(drop=True)\n",
    "\n",
    "# 予想値と前期比の行を除去\n",
    "tables[11] = tables[11][~((tables[11]['決算期'].str.contains('予')) | (tables[11]['決算期'].str.contains('前期比')))].reset_index(drop=True)\n",
    "\n",
    "# 決算期列の要素を会計基準と決算期に分割、それぞれの列に代入(同時に会計基準列を新規作成)\n",
    "tables[11][['会計基準', '決算期']] = pd.DataFrame(list(tables[11]['決算期'].str.split(' ')))\n",
    "\n",
    "# 列の並び替え\n",
    "tables[11] = tables[11][['会計基準', '決算期', '売上高', '営業益', '経常益', '最終益', '１株益', '１株配', '発表日']]\n",
    "\n",
    "# 100万円単位換算\n",
    "tables[11][['売上高', '営業益', '経常益', '最終益']] = tables[11][['売上高', '営業益', '経常益', '最終益']].apply(lambda x: x * 1000000)\n",
    "\n",
    "# 型変換\n",
    "tables[11]['１株配'] = tables[11]['１株配'].astype(float)\n",
    "\n",
    "# 日付のパース、datetime.dateへの型変換\n",
    "# tables[11]['決算期'] = tables[11]['決算期'].apply(lambda x: datetime.strptime(x, '%Y.%m').date()) # 日付ではないので文字列のままの方がいいかも？\n",
    "tables[11]['発表日'] = tables[11]['発表日'].apply(lambda x: parse(x, yearfirst=True).date())\n",
    "# pandasのTimestampへの型変換\n",
    "tables[11]['発表日'] = pd.to_datetime(tables[11]['発表日'], format='%Y-%m-%d')\n",
    "# tables[11]['決算期'] = pd.to_datetime(tables[11]['決算期'], format='%Y-%m-%d')\n",
    "\n",
    "# tables[12] 業績予想\n",
    "\n",
    "tables[12].columns = ['会計基準', '決算期', '発表日', \n",
    "                                   '結合修正方向', '売上高修正方向', '営業益修正方向', '経常益修正方向', '最終益修正方向', '修正配当修正方向', \n",
    "                                   '予想売上高', '予想営業益', '予想経常益', '予想最終益', '予想修正配当',]\n",
    "\n",
    "# 不要行、不要列の削除、並び替え\n",
    "# 実績(と修正配当)はいる?いらない?\n",
    "# 実績の発表と同時に次の予想が出ているのでやっぱりここではいらないのかな?\n",
    "tables[12] = tables[12].ix[tables[12].index % 2 == 0, ['会計基準', '決算期', '予想売上高', '予想営業益', '予想経常益', '予想最終益', '発表日']].reset_index(drop=True)\n",
    "tables[12] = tables[12].ix[tables[12]['決算期'] != '実績']\n",
    "\n",
    "# 決算期の NaN 埋め\n",
    "tables[12]['決算期'] = tables[12]['決算期'].fillna(method='ffill')\n",
    "\n",
    "# 100万円単位換算\n",
    "tables[12][['予想売上高', '予想営業益', '予想経常益', '予想最終益']] = tables[12][['予想売上高', '予想営業益', '予想経常益', '予想最終益']].apply(lambda x: x * 1000000)\n",
    "\n",
    "# 日付のパース、datetime.dateへの型変換\n",
    "# tables[12]['決算期'] = tables[12]['決算期'].apply(lambda x: datetime.strptime(x, '%Y.%m').date()) # 日付ではないので文字列のままの方がいいかも？\n",
    "tables[12]['発表日'] = tables[12]['発表日'].apply(lambda x: parse(x, yearfirst=True).date())\n",
    "# pandasのTimestampへの型変換\n",
    "tables[12]['発表日'] = pd.to_datetime(tables[12]['発表日'], format='%Y-%m-%d')\n",
    "# tables[12]['決算期'] = pd.to_datetime(tables[12]['決算期'], format='%Y-%m-%d')\n",
    "\n",
    "# 修正配当用の処理なので不要\n",
    "# '－'  を NaN に置換\n",
    "# tables[12].loc[~tables[12]['修正配当'].str.isnumeric(), '修正配当'] = np.nan\n",
    "# 型変換\n",
    "# tables[12]['修正配当'] = tables[12]['修正配当'].astype(float)\n",
    "\n",
    "# tables[26] ３ヵ月業績の推移【実績】(過去5年 + 前年同期比) 累積ではなく差分\n",
    "\n",
    "'''\n",
    "不要かな？\n",
    "ちょっと株プロと見比べてみよう → １株益の値が揃わない\n",
    "修正発表があった項目は上書きされてしまっていると思われる\n",
    "修正の可能性を考えなければ累積の株プロよりこちらの方が使いやすいかも\n",
    "株プロで差分を作成するべきか?\n",
    "前年同期比はいらなそう\n",
    "'''\n",
    "\n",
    "# 全ての列項目がnullの行を除去\n",
    "tables[26] = tables[26][~tables[26].isnull().all(axis=1)].reset_index(drop=True)\n",
    "\n",
    "# 前年同期比の行を除去\n",
    "tables[26] = tables[26][~tables[26]['決算期'].str.contains('前年同期比')].reset_index(drop=True)\n",
    "\n",
    "# 決算期列の要素を会計基準と決算期に分割、それぞれの列に代入(同時に会計基準列を新規作成)\n",
    "tables[26][['会計基準', '四半期期首']] = pd.DataFrame(list(tables[26]['決算期'].str.split(' ')))\n",
    "\n",
    "# 列の並び替え\n",
    "tables[26] = tables[26][['会計基準', '四半期期首', '売上高', '営業益', '経常益', '最終益', '１株益', '売上営業損益率', '発表日']]\n",
    "\n",
    "tables[26].columns = ['会計基準', '四半期期首', '四半期売上高', '四半期営業益', '四半期経常益', '四半期最終益', '四半期１株益', '四半期売上営業損益率', '発表日']\n",
    "\n",
    "# 100万円単位換算\n",
    "tables[26][['四半期売上高', '四半期営業益', '四半期経常益', '四半期最終益']] = tables[26][['四半期売上高', '四半期営業益', '四半期経常益', '四半期最終益']].apply(lambda x: x * 1000000)\n",
    "\n",
    "# 日付のパース、datetime.dateへの型変換\n",
    "tables[26]['四半期期首'] = tables[26]['四半期期首'].apply(lambda x: parse(x.replace('-', '.'), yearfirst=True).date())\n",
    "tables[26]['発表日'] = tables[26]['発表日'].apply(lambda x: parse(x, yearfirst=True).date())\n",
    "# pandasのTimestampへの型変換\n",
    "tables[26]['四半期期首'] = pd.to_datetime(tables[26]['四半期期首'], format='%Y-%m-%d')\n",
    "tables[26]['発表日'] = pd.to_datetime(tables[26]['発表日'], format='%Y-%m-%d')\n",
    "\n",
    "# tables[27] 財務 【実績】\n",
    "\n",
    "'''\n",
    "期間は株プロよりこちらの方が長い\n",
    "修正発表があった項目は上書きされてしまっていると思われる\n",
    "'''\n",
    "\n",
    "# 7203 トヨタ 元の値が '90/08/01' で明らかにおかしい。これどうしよう。。。\n",
    "# tables[27].ix[2, '発表日'] = '99/08/01'\n",
    "\n",
    "# 全ての列項目がnullの行を除去\n",
    "tables[27] = tables[27][~tables[27].isnull().all(axis=1)].reset_index(drop=True)\n",
    "\n",
    "# 決算期列の要素を会計基準と決算期に分割、それぞれの列に代入(同時に会計基準列を新規作成)\n",
    "tables[27][['会計基準', '決算期']] = pd.DataFrame(list(tables[27]['決算期'].str.split(' ')))\n",
    "\n",
    "# 列の並び替え\n",
    "tables[27] = tables[27][['会計基準', '決算期', '１株純資産', '自己資本比率', '総資産', '自己資本', '剰余金', '有利子負債倍率', '発表日']]\n",
    "\n",
    "# 決算期が 'yyyy.mm' 表記ではない行は確定決算前と判断して削除\n",
    "tables[27] = tables[27][tables[27]['決算期'].str.contains('\\d\\d\\d\\d.\\d\\d')]\n",
    "\n",
    "# 決算期が 1999.03 のデータは他のテーブルには無く、発表日も不自然なので行ごと削除\n",
    "tables[27] = tables[27][~tables[27]['決算期'].str.contains('1998.03')]\n",
    "\n",
    "# '－'  を NaN に置換\n",
    "# .str を2回も使わないといけないのはなんだか。。。\n",
    "tables[27].loc[~tables[27]['１株純資産'].str.replace('.', '').str.isnumeric(), '１株純資産'] = np.nan\n",
    "tables[27].loc[~tables[27]['有利子負債倍率'].str.replace('.', '').str.isnumeric(), '有利子負債倍率'] = np.nan\n",
    "\n",
    "# 型変換\n",
    "tables[27][['１株純資産', '有利子負債倍率']] = tables[27][['１株純資産', '有利子負債倍率']].astype(float)\n",
    "\n",
    "# 100万円単位換算\n",
    "tables[27][['総資産', '自己資本', '剰余金']] = tables[27][['総資産', '自己資本', '剰余金']].apply(lambda x: x * 1000000)\n",
    "\n",
    "# 日付のパース、datetime.dateへの型変換\n",
    "# tables[27]['決算期'] = tables[27]['決算期'].apply(lambda x: parse(x.replace('-', '.'), yearfirst=True).date()) # 日付ではないので文字列のままの方がいいかも？\n",
    "tables[27]['発表日'] = tables[27]['発表日'].apply(lambda x: parse(x, yearfirst=True).date())\n",
    "# pandasのTimestampへの型変換\n",
    "# tables[27]['決算期'] = pd.to_datetime(tables[27]['決算期'], format='%Y-%m-%d')\n",
    "tables[27]['発表日'] = pd.to_datetime(tables[27]['発表日'], format='%Y-%m-%d')"
   ]
  },
  {
   "cell_type": "markdown",
   "metadata": {},
   "source": [
    "# 内容の確認"
   ]
  },
  {
   "cell_type": "code",
   "execution_count": null,
   "metadata": {
    "ExecuteTime": {
     "end_time": "2017-12-01T16:49:46.773977Z",
     "start_time": "2017-12-01T16:49:46.739455Z"
    },
    "collapsed": false
   },
   "outputs": [],
   "source": [
    "# tables[11] 通期業績\n",
    "tables[11]\n",
    "# 株プロに無い項目: １株配"
   ]
  },
  {
   "cell_type": "code",
   "execution_count": null,
   "metadata": {
    "ExecuteTime": {
     "end_time": "2017-12-01T16:49:51.565129Z",
     "start_time": "2017-12-01T16:49:51.540872Z"
    },
    "collapsed": false
   },
   "outputs": [],
   "source": [
    "# tables[12] 業績予想\n",
    "tables[12]"
   ]
  },
  {
   "cell_type": "code",
   "execution_count": null,
   "metadata": {
    "ExecuteTime": {
     "end_time": "2017-12-01T16:50:05.147609Z",
     "start_time": "2017-12-01T16:50:05.119783Z"
    },
    "collapsed": false
   },
   "outputs": [],
   "source": [
    "# tables[26] ３ヵ月業績の推移\n",
    "tables[26]\n",
    "# 株プロに無い項目: 売上営業損益率 = 営業益 / 売上高?"
   ]
  },
  {
   "cell_type": "code",
   "execution_count": null,
   "metadata": {
    "ExecuteTime": {
     "end_time": "2017-12-01T17:06:39.076138Z",
     "start_time": "2017-12-01T17:06:39.048950Z"
    },
    "collapsed": false
   },
   "outputs": [],
   "source": [
    "# tables[27] 財務\n",
    "tables[27]\n",
    "# 株プロに無い項目: 自己資本比率, 自己資本, 剰余金, 有利子負債倍率"
   ]
  },
  {
   "cell_type": "code",
   "execution_count": null,
   "metadata": {
    "ExecuteTime": {
     "end_time": "2017-11-30T22:55:47.746134Z",
     "start_time": "2017-11-30T22:55:47.741243Z"
    },
    "collapsed": true
   },
   "outputs": [],
   "source": [
    "tables[11].columns"
   ]
  },
  {
   "cell_type": "code",
   "execution_count": null,
   "metadata": {
    "ExecuteTime": {
     "end_time": "2017-11-30T22:55:47.746134Z",
     "start_time": "2017-11-30T22:55:47.741243Z"
    },
    "collapsed": true
   },
   "outputs": [],
   "source": [
    "tables[12].columns"
   ]
  },
  {
   "cell_type": "code",
   "execution_count": null,
   "metadata": {
    "ExecuteTime": {
     "end_time": "2017-12-01T16:03:31.718902Z",
     "start_time": "2017-12-01T16:03:31.714242Z"
    },
    "collapsed": true
   },
   "outputs": [],
   "source": [
    "tables[26].columns"
   ]
  },
  {
   "cell_type": "code",
   "execution_count": null,
   "metadata": {
    "ExecuteTime": {
     "end_time": "2017-12-01T01:13:42.177537Z",
     "start_time": "2017-12-01T01:13:42.172727Z"
    },
    "collapsed": true
   },
   "outputs": [],
   "source": [
    "tables[27].columns"
   ]
  },
  {
   "cell_type": "code",
   "execution_count": null,
   "metadata": {
    "ExecuteTime": {
     "end_time": "2017-12-01T16:50:19.796244Z",
     "start_time": "2017-12-01T16:50:19.790487Z"
    },
    "collapsed": true
   },
   "outputs": [],
   "source": [
    "tables[11].dtypes"
   ]
  },
  {
   "cell_type": "code",
   "execution_count": null,
   "metadata": {
    "ExecuteTime": {
     "end_time": "2017-12-01T16:50:24.243535Z",
     "start_time": "2017-12-01T16:50:24.237600Z"
    },
    "collapsed": true
   },
   "outputs": [],
   "source": [
    "tables[12].dtypes"
   ]
  },
  {
   "cell_type": "code",
   "execution_count": null,
   "metadata": {
    "ExecuteTime": {
     "end_time": "2017-12-01T16:50:29.004022Z",
     "start_time": "2017-12-01T16:50:28.998266Z"
    },
    "collapsed": true
   },
   "outputs": [],
   "source": [
    "tables[26].dtypes"
   ]
  },
  {
   "cell_type": "code",
   "execution_count": null,
   "metadata": {
    "ExecuteTime": {
     "end_time": "2017-12-01T16:50:34.112370Z",
     "start_time": "2017-12-01T16:50:34.106325Z"
    },
    "collapsed": true
   },
   "outputs": [],
   "source": [
    "tables[27].dtypes"
   ]
  },
  {
   "cell_type": "code",
   "execution_count": null,
   "metadata": {
    "ExecuteTime": {
     "end_time": "2017-12-01T17:07:20.382734Z",
     "start_time": "2017-12-01T17:07:20.378199Z"
    },
    "collapsed": false
   },
   "outputs": [],
   "source": [
    "len(tables[11])"
   ]
  },
  {
   "cell_type": "code",
   "execution_count": null,
   "metadata": {
    "ExecuteTime": {
     "end_time": "2017-12-01T17:07:29.086788Z",
     "start_time": "2017-12-01T17:07:29.082487Z"
    },
    "collapsed": false
   },
   "outputs": [],
   "source": [
    "len(tables[12])"
   ]
  },
  {
   "cell_type": "code",
   "execution_count": null,
   "metadata": {
    "ExecuteTime": {
     "end_time": "2017-12-01T17:07:36.145673Z",
     "start_time": "2017-12-01T17:07:36.141114Z"
    },
    "collapsed": false
   },
   "outputs": [],
   "source": [
    "len(tables[26])"
   ]
  },
  {
   "cell_type": "code",
   "execution_count": null,
   "metadata": {
    "ExecuteTime": {
     "end_time": "2017-12-01T17:07:44.510441Z",
     "start_time": "2017-12-01T17:07:44.505479Z"
    },
    "collapsed": false
   },
   "outputs": [],
   "source": [
    "len(tables[27])"
   ]
  },
  {
   "cell_type": "markdown",
   "metadata": {},
   "source": [
    "# 結合"
   ]
  },
  {
   "cell_type": "code",
   "execution_count": null,
   "metadata": {
    "ExecuteTime": {
     "end_time": "2017-12-01T17:28:00.180087Z",
     "start_time": "2017-12-01T17:28:00.170067Z"
    },
    "collapsed": true
   },
   "outputs": [],
   "source": [
    "# 通期業績 & 財務\n",
    "merged_1 = pd.merge(tables[11], tables[27], on=['会計基準', '決算期', '発表日'], how='outer').sort_values('発表日')"
   ]
  },
  {
   "cell_type": "code",
   "execution_count": null,
   "metadata": {
    "ExecuteTime": {
     "end_time": "2017-12-01T17:28:00.817155Z",
     "start_time": "2017-12-01T17:28:00.812209Z"
    },
    "collapsed": false
   },
   "outputs": [],
   "source": [
    "merged_1.columns"
   ]
  },
  {
   "cell_type": "code",
   "execution_count": null,
   "metadata": {
    "ExecuteTime": {
     "end_time": "2017-12-01T17:28:35.862754Z",
     "start_time": "2017-12-01T17:28:35.820362Z"
    },
    "collapsed": true
   },
   "outputs": [],
   "source": [
    "merged_1[['会計基準', '発表日', '決算期', '売上高', '営業益', '経常益', '最終益', '１株益', '１株配', '１株純資産',\n",
    "       '自己資本比率', '総資産', '自己資本', '剰余金', '有利子負債倍率']]"
   ]
  },
  {
   "cell_type": "code",
   "execution_count": null,
   "metadata": {
    "ExecuteTime": {
     "end_time": "2017-12-01T17:40:02.033970Z",
     "start_time": "2017-12-01T17:40:02.022791Z"
    },
    "collapsed": false
   },
   "outputs": [],
   "source": [
    "# 通期業績 & 業績予想\n",
    "merged_2 = pd.merge(tables[11], tables[12], on=['会計基準', '決算期', '発表日'], how='outer').sort_values(['決算期', '発表日'])"
   ]
  },
  {
   "cell_type": "code",
   "execution_count": null,
   "metadata": {
    "ExecuteTime": {
     "end_time": "2017-12-01T17:40:04.154781Z",
     "start_time": "2017-12-01T17:40:04.150215Z"
    },
    "collapsed": false
   },
   "outputs": [],
   "source": [
    "merged_2.columns"
   ]
  },
  {
   "cell_type": "code",
   "execution_count": null,
   "metadata": {
    "ExecuteTime": {
     "end_time": "2017-12-01T17:43:28.872544Z",
     "start_time": "2017-12-01T17:43:28.820176Z"
    },
    "collapsed": true
   },
   "outputs": [],
   "source": [
    "merged_2[['会計基準', '発表日', '決算期', '売上高', '予想売上高', '営業益', '予想営業益', '経常益', '予想経常益', '最終益', '予想最終益', '１株益', '１株配']]"
   ]
  },
  {
   "cell_type": "code",
   "execution_count": null,
   "metadata": {
    "ExecuteTime": {
     "end_time": "2017-12-01T17:32:02.578862Z",
     "start_time": "2017-12-01T17:32:02.568743Z"
    },
    "collapsed": false
   },
   "outputs": [],
   "source": [
    "# 通期業績 & 四半期業績\n",
    "merged_3 = pd.merge(tables[11], tables[26], on=['会計基準', '発表日'], how='outer').sort_values(['発表日'])"
   ]
  },
  {
   "cell_type": "code",
   "execution_count": null,
   "metadata": {
    "ExecuteTime": {
     "end_time": "2017-12-01T17:32:04.077124Z",
     "start_time": "2017-12-01T17:32:04.072562Z"
    },
    "collapsed": false
   },
   "outputs": [],
   "source": [
    "merged_3.columns"
   ]
  },
  {
   "cell_type": "code",
   "execution_count": null,
   "metadata": {
    "ExecuteTime": {
     "end_time": "2017-12-02T14:29:50.216202Z",
     "start_time": "2017-12-02T14:29:50.159282Z"
    },
    "collapsed": false
   },
   "outputs": [],
   "source": [
    "merged_3[['会計基準', '発表日', '決算期', '四半期期首', '売上高', '四半期売上高', '営業益', '四半期営業益', '経常益', '四半期経常益', \n",
    "          '最終益', '四半期最終益', '１株益', '四半期１株益', '１株配', '四半期売上営業損益率']].reset_index(drop=True)"
   ]
  },
  {
   "cell_type": "code",
   "execution_count": null,
   "metadata": {
    "ExecuteTime": {
     "end_time": "2017-12-02T14:31:45.161168Z",
     "start_time": "2017-12-02T14:31:45.150475Z"
    },
    "collapsed": false
   },
   "outputs": [],
   "source": [
    "# すべて 通期業績 + 業績予想\n",
    "merged_all = pd.merge(tables[11], tables[12], on=['会計基準', '決算期', '発表日'], how='outer').sort_values(['発表日', '決算期'])"
   ]
  },
  {
   "cell_type": "code",
   "execution_count": null,
   "metadata": {
    "ExecuteTime": {
     "end_time": "2017-12-02T14:31:45.908483Z",
     "start_time": "2017-12-02T14:31:45.858175Z"
    },
    "collapsed": true
   },
   "outputs": [],
   "source": [
    "merged_all.reset_index(drop=True)"
   ]
  },
  {
   "cell_type": "code",
   "execution_count": null,
   "metadata": {
    "ExecuteTime": {
     "end_time": "2017-12-02T14:00:10.580415Z",
     "start_time": "2017-12-02T14:00:10.570415Z"
    },
    "collapsed": false
   },
   "outputs": [],
   "source": [
    "# すべて + 四半期業績\n",
    "merged_all = pd.merge(merged_all, tables[26], on=['会計基準', '発表日'], how='outer').sort_values(['発表日', '決算期'])"
   ]
  },
  {
   "cell_type": "code",
   "execution_count": null,
   "metadata": {
    "ExecuteTime": {
     "end_time": "2017-12-02T14:00:11.490132Z",
     "start_time": "2017-12-02T14:00:11.478926Z"
    },
    "collapsed": false
   },
   "outputs": [],
   "source": [
    "# すべて + 財務\n",
    "merged_all = pd.merge(merged_all, tables[27], on=['会計基準', '決算期', '発表日'], how='outer').sort_values(['発表日', '決算期'])"
   ]
  },
  {
   "cell_type": "code",
   "execution_count": null,
   "metadata": {
    "ExecuteTime": {
     "end_time": "2017-12-02T15:05:42.573186Z",
     "start_time": "2017-12-02T15:05:42.465106Z"
    },
    "collapsed": false
   },
   "outputs": [],
   "source": [
    "whos"
   ]
  },
  {
   "cell_type": "code",
   "execution_count": null,
   "metadata": {
    "ExecuteTime": {
     "end_time": "2017-12-02T14:36:37.497445Z",
     "start_time": "2017-12-02T14:36:37.487075Z"
    },
    "collapsed": false
   },
   "outputs": [],
   "source": [
    "# すべて 通期業績 + 財務\n",
    "merged_all = pd.merge(tables[11], tables[27], on=['会計基準', '決算期', '発表日'], how='outer').sort_values(['発表日', '決算期'])"
   ]
  },
  {
   "cell_type": "code",
   "execution_count": null,
   "metadata": {
    "ExecuteTime": {
     "end_time": "2017-12-02T14:36:38.649796Z",
     "start_time": "2017-12-02T14:36:38.608393Z"
    },
    "collapsed": false
   },
   "outputs": [],
   "source": [
    "merged_all.reset_index(drop=True)"
   ]
  },
  {
   "cell_type": "code",
   "execution_count": null,
   "metadata": {
    "ExecuteTime": {
     "end_time": "2017-12-02T14:00:10.580415Z",
     "start_time": "2017-12-02T14:00:10.570415Z"
    },
    "collapsed": false
   },
   "outputs": [],
   "source": [
    "# すべて + 四半期業績\n",
    "merged_all = pd.merge(merged_all, tables[26], on=['会計基準', '発表日'], how='outer').sort_values(['発表日', '決算期'])"
   ]
  },
  {
   "cell_type": "code",
   "execution_count": null,
   "metadata": {
    "ExecuteTime": {
     "end_time": "2017-12-02T14:00:11.490132Z",
     "start_time": "2017-12-02T14:00:11.478926Z"
    },
    "collapsed": false
   },
   "outputs": [],
   "source": [
    "# すべて + 財務\n",
    "merged_all = pd.merge(merged_all, tables[27], on=['会計基準', '決算期', '発表日'], how='outer').sort_values(['発表日', '決算期'])"
   ]
  },
  {
   "cell_type": "code",
   "execution_count": null,
   "metadata": {
    "ExecuteTime": {
     "end_time": "2017-12-02T14:00:12.863572Z",
     "start_time": "2017-12-02T14:00:12.860387Z"
    },
    "collapsed": true
   },
   "outputs": [],
   "source": [
    "merged_all = merged_all.reset_index(drop=True)"
   ]
  },
  {
   "cell_type": "code",
   "execution_count": null,
   "metadata": {
    "ExecuteTime": {
     "end_time": "2017-12-01T18:36:44.405744Z",
     "start_time": "2017-12-01T18:36:44.399567Z"
    },
    "collapsed": false
   },
   "outputs": [],
   "source": [
    "merged_all.columns"
   ]
  },
  {
   "cell_type": "code",
   "execution_count": null,
   "metadata": {
    "ExecuteTime": {
     "end_time": "2017-12-02T14:00:16.045070Z",
     "start_time": "2017-12-02T14:00:16.039279Z"
    },
    "collapsed": false
   },
   "outputs": [],
   "source": [
    "merged_all = merged_all[['発表日', '決算期', '四半期期首', '会計基準', '売上高', '営業益', '経常益', '最終益', '１株益', '１株配', '予想売上高',\n",
    "       '予想営業益', '予想経常益', '予想最終益', '四半期売上高', '四半期営業益', '四半期経常益',\n",
    "       '四半期最終益', '四半期１株益', '四半期売上営業損益率', '１株純資産', '自己資本比率', '総資産', '自己資本',\n",
    "       '剰余金', '有利子負債倍率']]"
   ]
  },
  {
   "cell_type": "code",
   "execution_count": null,
   "metadata": {
    "ExecuteTime": {
     "end_time": "2017-12-02T14:00:17.927648Z",
     "start_time": "2017-12-02T14:00:17.828897Z"
    },
    "collapsed": false
   },
   "outputs": [],
   "source": [
    "merged_all"
   ]
  },
  {
   "cell_type": "markdown",
   "metadata": {},
   "source": [
    "# 作成したテーブルの保存"
   ]
  },
  {
   "cell_type": "code",
   "execution_count": null,
   "metadata": {
    "collapsed": true
   },
   "outputs": [],
   "source": [
    "table_name = kt_7203"
   ]
  },
  {
   "cell_type": "code",
   "execution_count": null,
   "metadata": {
    "collapsed": true
   },
   "outputs": [],
   "source": [
    " write_table(table_name, merged_all)"
   ]
  },
  {
   "cell_type": "markdown",
   "metadata": {},
   "source": [
    "# 不要テーブル"
   ]
  },
  {
   "cell_type": "markdown",
   "metadata": {},
   "source": [
    "## tables[7] 銘柄概要"
   ]
  },
  {
   "cell_type": "code",
   "execution_count": null,
   "metadata": {
    "ExecuteTime": {
     "end_time": "2017-11-29T17:42:26.780140Z",
     "start_time": "2017-11-29T17:42:26.772980Z"
    },
    "collapsed": false
   },
   "outputs": [],
   "source": [
    "tables[7]"
   ]
  },
  {
   "cell_type": "markdown",
   "metadata": {},
   "source": [
    "##  tables[9] 銘柄概要"
   ]
  },
  {
   "cell_type": "code",
   "execution_count": null,
   "metadata": {
    "ExecuteTime": {
     "end_time": "2017-11-28T19:39:16.822485Z",
     "start_time": "2017-11-28T19:39:16.814788Z"
    },
    "collapsed": false
   },
   "outputs": [],
   "source": [
    "tables[9]"
   ]
  },
  {
   "cell_type": "markdown",
   "metadata": {},
   "source": [
    "## tables [10] ＰＥＲ ＰＢＲ 利回り 信用倍率 (データ取得日時点?)"
   ]
  },
  {
   "cell_type": "code",
   "execution_count": null,
   "metadata": {
    "ExecuteTime": {
     "end_time": "2017-11-28T19:39:26.181113Z",
     "start_time": "2017-11-28T19:39:26.171383Z"
    },
    "collapsed": false
   },
   "outputs": [],
   "source": [
    "tables[10]"
   ]
  },
  {
   "cell_type": "markdown",
   "metadata": {},
   "source": [
    "## tables[23] 過去最高 【実績】"
   ]
  },
  {
   "cell_type": "raw",
   "metadata": {},
   "source": [
    "不要かな？\n",
    "百万単位"
   ]
  },
  {
   "cell_type": "code",
   "execution_count": null,
   "metadata": {
    "ExecuteTime": {
     "end_time": "2017-11-28T19:50:50.132266Z",
     "start_time": "2017-11-28T19:50:50.119838Z"
    },
    "collapsed": false
   },
   "outputs": [],
   "source": [
    "tables[23]"
   ]
  },
  {
   "cell_type": "markdown",
   "metadata": {},
   "source": [
    "## tables[24] 下期業績 (過去3年 + 今年予想 + 前年同期比)"
   ]
  },
  {
   "cell_type": "raw",
   "metadata": {},
   "source": [
    "不要かな？\n",
    "ちょっと株プロと見比べてみたいけどめんどくさい\n",
    "百万単位"
   ]
  },
  {
   "cell_type": "code",
   "execution_count": null,
   "metadata": {
    "ExecuteTime": {
     "end_time": "2017-11-28T19:54:58.901926Z",
     "start_time": "2017-11-28T19:54:58.885834Z"
    },
    "collapsed": false,
    "scrolled": true
   },
   "outputs": [],
   "source": [
    "tables[24]"
   ]
  },
  {
   "cell_type": "code",
   "execution_count": null,
   "metadata": {
    "ExecuteTime": {
     "end_time": "2017-11-28T20:10:47.639415Z",
     "start_time": "2017-11-28T20:10:47.634584Z"
    },
    "collapsed": false
   },
   "outputs": [],
   "source": [
    "tables[24].columns"
   ]
  },
  {
   "cell_type": "markdown",
   "metadata": {},
   "source": [
    "## tables[25] 第２四半期累計決算【実績】 (過去3年 + 前年同期比)"
   ]
  },
  {
   "cell_type": "raw",
   "metadata": {},
   "source": [
    "不要かな？\n",
    "ちょっと株プロと見比べてみよう → 同じみたい\n",
    "対通期進捗率って経常益の最終的な通期実績に対して? 今年度分は予想に対して？\n",
    "百万単位"
   ]
  },
  {
   "cell_type": "code",
   "execution_count": null,
   "metadata": {
    "ExecuteTime": {
     "end_time": "2017-11-28T19:55:02.987430Z",
     "start_time": "2017-11-28T19:55:02.972635Z"
    },
    "collapsed": false
   },
   "outputs": [],
   "source": [
    "tables[25]"
   ]
  },
  {
   "cell_type": "code",
   "execution_count": null,
   "metadata": {
    "ExecuteTime": {
     "end_time": "2017-12-01T14:53:23.633140Z",
     "start_time": "2017-12-01T14:53:23.581341Z"
    },
    "collapsed": false
   },
   "outputs": [],
   "source": [
    "kabupro.ix[(kabupro['証券コード'] == code) & (kabupro['会計基準'] == '米国基準') & (kabupro['決算期間'] == '第2四半期'), \n",
    "           ['連結個別', '期首', '売上高', '営業利益', '経常利益', '純利益', '一株当り純利益', '情報公開日 (更新日)']].tail(3)"
   ]
  },
  {
   "cell_type": "code",
   "execution_count": null,
   "metadata": {
    "ExecuteTime": {
     "end_time": "2017-12-01T15:10:19.360173Z",
     "start_time": "2017-12-01T15:10:19.308983Z"
    },
    "collapsed": false
   },
   "outputs": [],
   "source": [
    "kabupro.ix[(kabupro['証券コード'] == code)& (kabupro['会計基準'] == '米国基準') & (kabupro['決算期間'].isin(['第2四半期', '通期'])), # \n",
    "           ['連結個別', '期首', '決算期間', '売上高', '営業利益', '経常利益', '純利益', '一株当り純利益', '情報公開日 (更新日)']].tail(5)"
   ]
  },
  {
   "cell_type": "code",
   "execution_count": null,
   "metadata": {
    "ExecuteTime": {
     "end_time": "2017-12-01T15:17:43.531263Z",
     "start_time": "2017-12-01T15:17:43.517393Z"
    },
    "collapsed": false
   },
   "outputs": [],
   "source": [
    "tables[12].tail(1)"
   ]
  },
  {
   "cell_type": "code",
   "execution_count": null,
   "metadata": {
    "ExecuteTime": {
     "end_time": "2017-11-28T20:02:06.222463Z",
     "start_time": "2017-11-28T20:02:06.217308Z"
    },
    "collapsed": false
   },
   "outputs": [],
   "source": [
    "# 比較参照用\n",
    "kabupro.columns"
   ]
  },
  {
   "cell_type": "markdown",
   "metadata": {},
   "source": [
    "## おしまい"
   ]
  },
  {
   "cell_type": "code",
   "execution_count": null,
   "metadata": {
    "ExecuteTime": {
     "end_time": "2017-11-28T19:57:33.702863Z",
     "start_time": "2017-11-28T19:57:33.422836Z"
    },
    "collapsed": false
   },
   "outputs": [],
   "source": [
    "tables[29]"
   ]
  }
 ],
 "metadata": {
  "kernelspec": {
   "display_name": "Python 3",
   "language": "python",
   "name": "python3"
  },
  "language_info": {
   "codemirror_mode": {
    "name": "ipython",
    "version": 3
   },
   "file_extension": ".py",
   "mimetype": "text/x-python",
   "name": "python",
   "nbconvert_exporter": "python",
   "pygments_lexer": "ipython3",
   "version": "3.6.0"
  },
  "toc": {
   "nav_menu": {},
   "number_sections": true,
   "sideBar": true,
   "skip_h1_title": false,
   "toc_cell": false,
   "toc_position": {},
   "toc_section_display": "block",
   "toc_window_display": false
  },
  "varInspector": {
   "cols": {
    "lenName": 16,
    "lenType": 16,
    "lenVar": 40
   },
   "kernels_config": {
    "python": {
     "delete_cmd_postfix": "",
     "delete_cmd_prefix": "del ",
     "library": "var_list.py",
     "varRefreshCmd": "print(var_dic_list())"
    },
    "r": {
     "delete_cmd_postfix": ") ",
     "delete_cmd_prefix": "rm(",
     "library": "var_list.r",
     "varRefreshCmd": "cat(var_dic_list()) "
    }
   },
   "position": {
    "height": "362px",
    "left": "983px",
    "right": "24px",
    "top": "120px",
    "width": "346px"
   },
   "types_to_exclude": [
    "module",
    "function",
    "builtin_function_or_method",
    "instance",
    "_Feature"
   ],
   "window_display": false
  }
 },
 "nbformat": 4,
 "nbformat_minor": 2
}
