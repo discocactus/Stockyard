{
 "cells": [
  {
   "cell_type": "markdown",
   "metadata": {},
   "source": [
    "# memo"
   ]
  },
  {
   "cell_type": "raw",
   "metadata": {},
   "source": [
    "# ※単位：売上高、営業益、経常益、最終益は「百万円」。１株益、１株配は「円」。率は「％」\n",
    "\n",
    "# ※１株純資産は「円」。自己資本比率は「％」。総資産、自己資本、剰余金は「百万円」。有利子負債倍率は「倍」\n",
    "\n",
    "# ・「連」：日本会計基準［連結決算］、「単」：日本会計基準［非連結決算(単独決算)］、「U」：米国会計基準、「I」：国際会計基準(IFRS)、\n",
    "# 「予」：予想業績、「旧」：修正前の予想業績、「新」：修正後の予想業績、「実」：実績業績、「変」：決算期変更\n",
    "\n",
    "# ・［連結／非連結］決算区分の変更があった場合は、連続的に業績推移を追えるように、連結と非連結を混在して表示しています。\n",
    "# 連結と非連結が混在しない場合は、「連」「単」表記は省略します。\n",
    "\n",
    "# ・前期比および前年同期比は、会計基準や決算期間が異なる場合は比較できないため、「－」で表記しています。\n",
    "\n",
    "# ・米国会計基準と国際会計基準では、「経常益」欄の数値は「税引き前利益」を表記しています。\n",
    "\n",
    "# ・業績予想がレンジで開示された場合は中央値を表記しています。"
   ]
  },
  {
   "cell_type": "raw",
   "metadata": {},
   "source": [
    "# PC: 2017-11-26 html 取得\n",
    "# mobile: 2017-12-13 html 取得\n",
    "# 2017年11月分東証銘柄一覧により取得\n",
    "\n",
    "# 25935 伊藤園第1種優先株式 ない\n",
    "\n",
    "# 銘柄によってテーブルの構成が違う (例) 7203 トヨタ 28 個、9432 NTT 29 個\n",
    "# 修正方向の矢印のパターンの数でテーブル数が動的に変わる?\n",
    "# 列数が 5 以下のテーブルを削除 → 原則、各銘柄テーブル数は 10 個固定で大丈夫?\n",
    "# 新規上場銘柄には存在しないテーブルがある (例) 3995 SKIYAKI 過去最高と３ヵ月業績の推移が無い、業績予想の修正履歴は空)\n",
    "# → 数銘柄だけのはずなので、例外としてパスして後でマニュアル処理する?\n",
    "\n",
    "# 2000年以前の財務実績の発表日は全体的に信用できない\n",
    "# 1998年は何らかの日付で固定 or 捨て、1999年と2000年は通期業績の発表日と同じにする"
   ]
  },
  {
   "cell_type": "raw",
   "metadata": {},
   "source": [
    "# ahaha infomation\n",
    "\n",
    "# 【 株探：HTMLから解析する際の注意点 】\n",
    "\n",
    "# １．業績予想は、修正されていない場合は通期実績欄にしか情報が無い。\n",
    "# ２．3ヶ月単位業績に、銘柄によって予想があったり無かったりする。\n",
    "\n",
    "# －－－－\n",
    "\n",
    "# 【株探：CSV利用時の注意点】\n",
    "\n",
    "# １．業績予測以外は、業績実績を修正しても、「発表日」は反映されない。　 \n",
    "# → トレードシステム作る時は、先に取得したデータを優先させる必要あり。\n",
    "\n",
    "# ２．「適時開示」したタイミングで、公表データ以外の過去実績データも更新される事がある。\n",
    "# → トレードシステム作る時は、先に取得したデータを優先させる必要あり。\n",
    "\n",
    "# ３．「通期業績」で同じ「発表日」に、複数の決算期の発表をしていることがある。「財務 実績」は重複なし。\n",
    "# 「通期業績」：１５銘柄\n",
    "# ['8215', '2374', '8439', '6727', '4924', '2763', '2349', '2754', '2300', '4321', '4337', '4316', '7847', '8628', '2721']\n",
    "\n",
    "# ４．発表日がNaTの場合がけっこうある。\n",
    "# 特に2000年3月期データの発表日が無いデータが多い（1216銘柄）。　\n",
    "# 「通期業績」と「財務 実績」それぞれの発表日でそれらしい方を選んで穴埋めした方がよさそう。\n",
    "\n",
    "# ６．発表日1990-08-01のデータはおかしい\n",
    "# 実際は、1998-10-20からというのが正しい。\n",
    "# 「2910」など８銘柄。　BS側のデータが間違えている。　PL側は正しい。　決算期は「1999.04」\n",
    "# 2910,3103,4203,5103,6103,6203,7203,8143\n",
    "\n",
    "# －－－－\n",
    "\n",
    "# ■ メモリ使用量\n",
    "# 今後の計算のために、メモリ使用量について調べてみた。\n",
    "# 横軸に「財務項目×全銘柄コード」という２段構成、\n",
    "# 縦軸には、日付（1998/10/20以降の全営業日）という贅沢テーブルを作ってみたら、\n",
    "# 計算過程で、最大＋７．５ＧＢに膨らんで、最終的には３ＧＢぐらいに戻った。　\n",
    "# ただ、価格データもメモリに載せると、あわせて１０ＧＢぐらいに一旦膨らんで、５．５ＧＢぐらいに戻る感じ。"
   ]
  },
  {
   "cell_type": "markdown",
   "metadata": {},
   "source": [
    "# import など準備"
   ]
  },
  {
   "cell_type": "markdown",
   "metadata": {},
   "source": [
    "## import, MySQL 接続"
   ]
  },
  {
   "cell_type": "code",
   "execution_count": null,
   "metadata": {
    "ExecuteTime": {
     "end_time": "2017-12-22T05:16:08.241221Z",
     "start_time": "2017-12-22T05:16:07.165265Z"
    },
    "code_folding": [],
    "collapsed": false
   },
   "outputs": [],
   "source": [
    "# import\n",
    "import sys\n",
    "import os\n",
    "import re\n",
    "import datetime as dt\n",
    "import time\n",
    "import importlib\n",
    "import logging\n",
    "import numpy as np\n",
    "import pandas as pd\n",
    "from robobrowser import RoboBrowser\n",
    "# from robobrowser.browser import RoboState\n",
    "from retry import retry\n",
    "from dateutil.parser import parse\n",
    "from datetime import datetime\n",
    "import pandas.tseries.offsets as offsets\n",
    "from IPython.display import display, HTML\n",
    "\n",
    "import stock"
   ]
  },
  {
   "cell_type": "code",
   "execution_count": null,
   "metadata": {
    "ExecuteTime": {
     "end_time": "2017-12-16T23:02:19.363189Z",
     "start_time": "2017-12-16T23:02:19.348370Z"
    },
    "collapsed": false
   },
   "outputs": [],
   "source": [
    "importlib.reload(stock)"
   ]
  },
  {
   "cell_type": "code",
   "execution_count": null,
   "metadata": {
    "ExecuteTime": {
     "end_time": "2017-12-22T05:16:11.567778Z",
     "start_time": "2017-12-22T05:16:11.564614Z"
    },
    "collapsed": true
   },
   "outputs": [],
   "source": [
    "# pandas の最大表示列数を設定 (max_rows で表示行数の設定も可能)\n",
    "pd.set_option('display.max_columns', 30)"
   ]
  },
  {
   "cell_type": "code",
   "execution_count": null,
   "metadata": {
    "ExecuteTime": {
     "end_time": "2017-12-22T05:16:12.716572Z",
     "start_time": "2017-12-22T05:16:12.713524Z"
    },
    "collapsed": false
   },
   "outputs": [],
   "source": [
    "sql = stock.sql()"
   ]
  },
  {
   "cell_type": "markdown",
   "metadata": {},
   "source": [
    "## 比較参照用、株プロ決算の読み込み"
   ]
  },
  {
   "cell_type": "code",
   "execution_count": null,
   "metadata": {
    "ExecuteTime": {
     "end_time": "2017-11-30T22:48:16.984209Z",
     "start_time": "2017-11-30T22:48:16.981184Z"
    },
    "collapsed": true
   },
   "outputs": [],
   "source": [
    "table_name = 'kabupro_kessan'"
   ]
  },
  {
   "cell_type": "code",
   "execution_count": null,
   "metadata": {
    "ExecuteTime": {
     "end_time": "2017-11-30T22:48:40.663122Z",
     "start_time": "2017-11-30T22:48:36.151027Z"
    },
    "collapsed": false
   },
   "outputs": [],
   "source": [
    "kabupro = sql.read_table(table_name)"
   ]
  },
  {
   "cell_type": "code",
   "execution_count": null,
   "metadata": {
    "ExecuteTime": {
     "end_time": "2017-11-30T22:50:31.865897Z",
     "start_time": "2017-11-30T22:50:31.751462Z"
    },
    "collapsed": false
   },
   "outputs": [],
   "source": [
    "kabupro"
   ]
  },
  {
   "cell_type": "code",
   "execution_count": null,
   "metadata": {
    "ExecuteTime": {
     "end_time": "2017-11-29T17:41:52.402353Z",
     "start_time": "2017-11-29T17:41:52.389745Z"
    },
    "collapsed": false
   },
   "outputs": [],
   "source": [
    "kabupro.columns"
   ]
  },
  {
   "cell_type": "code",
   "execution_count": null,
   "metadata": {
    "ExecuteTime": {
     "end_time": "2017-11-28T20:02:31.051947Z",
     "start_time": "2017-11-28T20:02:31.037847Z"
    },
    "collapsed": true
   },
   "outputs": [],
   "source": [
    "kabupro.ix[14]\n",
    "# 株プロにしか無い項目: 希薄化後一株当り純利益, 純資産又は株主資本, 営業キャッシュフロー, 投資キャッシュフロー, 財務キャッシュフロー"
   ]
  },
  {
   "cell_type": "markdown",
   "metadata": {},
   "source": [
    "# 銘柄コードリスト"
   ]
  },
  {
   "cell_type": "code",
   "execution_count": null,
   "metadata": {
    "ExecuteTime": {
     "end_time": "2017-12-22T08:55:59.403978Z",
     "start_time": "2017-12-22T08:55:59.099839Z"
    },
    "collapsed": true
   },
   "outputs": [],
   "source": [
    "# 2017年11月分東証銘柄一覧のエクセルファイルを読み込む # http://www.jpx.co.jp/markets/statistics-equities/misc/01.html\n",
    "all_stock_table = pd.read_excel('/Users/Really/Stockyard/_dl_data/data_j_1711.xls')\n",
    "all_stock_table.columns = ['date', 'code', 'name', 'market', 'code_33', 'category_33', 'code_17', 'category_17', 'code_scale', 'scale'] # 列名を変更"
   ]
  },
  {
   "cell_type": "code",
   "execution_count": null,
   "metadata": {
    "ExecuteTime": {
     "end_time": "2017-12-22T08:56:01.331815Z",
     "start_time": "2017-12-22T08:56:01.322721Z"
    },
    "collapsed": true
   },
   "outputs": [],
   "source": [
    "# 内国株のテーブル作成\n",
    "domestic_stock_table = all_stock_table.ix[all_stock_table['market'].str.contains('内国株')].reset_index(drop=True)"
   ]
  },
  {
   "cell_type": "code",
   "execution_count": null,
   "metadata": {
    "ExecuteTime": {
     "end_time": "2017-12-15T14:00:24.981967Z",
     "start_time": "2017-12-15T14:00:24.914706Z"
    },
    "collapsed": false
   },
   "outputs": [],
   "source": [
    "# 表示\n",
    "domestic_stock_table"
   ]
  },
  {
   "cell_type": "code",
   "execution_count": null,
   "metadata": {
    "ExecuteTime": {
     "end_time": "2017-12-22T08:56:03.419051Z",
     "start_time": "2017-12-22T08:56:03.415330Z"
    },
    "collapsed": true
   },
   "outputs": [],
   "source": [
    "code_list = list(domestic_stock_table['code'])"
   ]
  },
  {
   "cell_type": "code",
   "execution_count": null,
   "metadata": {
    "ExecuteTime": {
     "end_time": "2017-12-22T08:56:04.738409Z",
     "start_time": "2017-12-22T08:56:04.734445Z"
    },
    "collapsed": false
   },
   "outputs": [],
   "source": [
    "# 伊藤園第1種優先株式を削除\n",
    "# 要素の値を直接指定して削除することができる\n",
    "code_list.remove(25935)"
   ]
  },
  {
   "cell_type": "code",
   "execution_count": null,
   "metadata": {
    "ExecuteTime": {
     "end_time": "2017-12-16T18:50:28.939394Z",
     "start_time": "2017-12-16T18:50:28.925851Z"
    },
    "collapsed": false,
    "scrolled": true
   },
   "outputs": [],
   "source": [
    "code_list[-10:]"
   ]
  },
  {
   "cell_type": "code",
   "execution_count": null,
   "metadata": {
    "ExecuteTime": {
     "end_time": "2017-12-16T18:50:32.265991Z",
     "start_time": "2017-12-16T18:50:32.261655Z"
    },
    "collapsed": false
   },
   "outputs": [],
   "source": [
    "len(code_list)"
   ]
  },
  {
   "cell_type": "code",
   "execution_count": null,
   "metadata": {
    "ExecuteTime": {
     "end_time": "2017-12-22T08:56:22.701920Z",
     "start_time": "2017-12-22T08:56:22.693351Z"
    },
    "collapsed": false
   },
   "outputs": [],
   "source": [
    "start_index = 0\n",
    "increase_number = 20\n",
    "end_index = start_index + increase_number\n",
    "#end_index = len(code_list)\n",
    "\n",
    "reading_code = code_list[start_index : end_index]\n",
    "print(len(reading_code))\n",
    "print(reading_code[-10:])\n",
    "print('Next start from {0}'.format(start_index + increase_number))"
   ]
  },
  {
   "cell_type": "markdown",
   "metadata": {},
   "source": [
    "# 保存した html ファイルからテーブル属性のみ読み込み、整形"
   ]
  },
  {
   "cell_type": "code",
   "execution_count": null,
   "metadata": {
    "ExecuteTime": {
     "end_time": "2017-12-16T19:00:50.457847Z",
     "start_time": "2017-12-16T19:00:50.454739Z"
    },
    "collapsed": true
   },
   "outputs": [],
   "source": [
    "code = 1301 # 1909"
   ]
  },
  {
   "cell_type": "code",
   "execution_count": null,
   "metadata": {
    "ExecuteTime": {
     "end_time": "2017-12-22T09:15:37.898742Z",
     "start_time": "2017-12-22T09:15:37.893878Z"
    },
    "collapsed": false
   },
   "outputs": [],
   "source": [
    "# 失敗分再実行用\n",
    "reading_code = failed\n",
    "reading_code"
   ]
  },
  {
   "cell_type": "code",
   "execution_count": null,
   "metadata": {
    "ExecuteTime": {
     "end_time": "2017-12-22T09:16:36.642096Z",
     "start_time": "2017-12-22T09:16:36.636740Z"
    },
    "collapsed": false
   },
   "outputs": [],
   "source": [
    "# 失敗分再実行用\n",
    "reading_code = failed_table\n",
    "reading_code"
   ]
  },
  {
   "cell_type": "code",
   "execution_count": null,
   "metadata": {
    "ExecuteTime": {
     "end_time": "2017-12-22T07:53:07.332853Z",
     "start_time": "2017-12-22T07:53:07.327158Z"
    },
    "collapsed": true
   },
   "outputs": [],
   "source": [
    "# 列不足分再実行用\n",
    "reading_code = shorter_table\n",
    "reading_code"
   ]
  },
  {
   "cell_type": "markdown",
   "metadata": {},
   "source": [
    "__TODO 検討__  \n",
    "予想値が無いからといって予想値テーブルの結合をスキップしてしまうと列の構成が違ってしまう  \n",
    "かといって結合すると決算期が NaN の行が追加されてしまうのがいまいち  \n",
    "3975 通期業績と財務実績テーブル (モバイル版にはある) がない  \n",
    "3995 四半期業績テーブルがない"
   ]
  },
  {
   "cell_type": "code",
   "execution_count": null,
   "metadata": {
    "ExecuteTime": {
     "end_time": "2017-12-22T08:57:28.229101Z",
     "start_time": "2017-12-22T08:56:30.192204Z"
    },
    "code_folding": [],
    "collapsed": false
   },
   "outputs": [],
   "source": [
    "# ---- 読み込み、整形、結合、書き込み、連続処理 ---- #\n",
    "\n",
    "# ロガー設定\n",
    "start_time = dt.datetime.now()\n",
    "logging.basicConfig(filename='kabutan_merge_{0}.log'.format(start_time.strftime('%Y-%m-%d')), filemode='w', level=logging.INFO)\n",
    "logging.info('{0} kabutan_merge Started'.format(start_time.strftime('%Y-%m-%d %H:%M:%S')))\n",
    "\n",
    "failed = []\n",
    "\n",
    "for index_num, code in enumerate(reading_code):\n",
    "    try:\n",
    "        # 保存した html からテーブル属性を読み込み\n",
    "        tables = pd.read_html('/Users/Really/Stockyard/_kabutan_html/kabutan_{0}.html'.format(code), header=0)\n",
    "\n",
    "        # 列数が 5 以下のテーブルを削除\n",
    "        tables = list(filter(lambda x: len(x.columns) > 5, tables))\n",
    "\n",
    "        # 抽出用テーブルの作成\n",
    "        pl_table = pd.DataFrame()\n",
    "        fc_table = pd.DataFrame()\n",
    "        qr_table = pd.DataFrame()\n",
    "        bs_table = pd.DataFrame()\n",
    "\n",
    "        # 必要なテーブルの抽出\n",
    "        # リストを要素ごとに for で回す書き方\n",
    "        for table in tables:\n",
    "            # 通期業績: profit and loss statement\n",
    "            if len(table.columns) == 8: \n",
    "                if (table.columns[-2] == \"１株配\") & (pl_table.shape[1] == 0): \n",
    "                    pl_table = table.copy()\n",
    "            # 業績予想: forecast\n",
    "            if len(table.columns) >= 8: \n",
    "                if (table.columns[1] == \"修正日\") & (fc_table.shape[1] == 0): \n",
    "                    fc_table = table.copy()\n",
    "            # 3ヶ月業績: quater\n",
    "            if len(table.columns) == 8: \n",
    "                if (table.columns[-2] == \"売上営業損益率\") & (qr_table.shape[1] == 0): \n",
    "                    qr_table = table.copy()\n",
    "            # 財務: balance sheet\n",
    "            if len(table.columns) == 8: \n",
    "                if (table.columns[1] == \"１株純資産\") & (bs_table.shape[1] == 0): \n",
    "                    bs_table = table.copy()\n",
    "\n",
    "        # 保存した モバイル用 html からテーブル属性を読み込み\n",
    "        mobile = pd.read_html('/Users/Really/Stockyard/_kabutan_mobile_html/kabutan_{0}.html'.format(code), header=0)\n",
    "\n",
    "        # 抽出用テーブルの作成\n",
    "        pl_mobile = pd.DataFrame()\n",
    "        fc_mobile = pd.DataFrame()\n",
    "        qr_mobile = pd.DataFrame()\n",
    "        bs_mobile = pd.DataFrame()\n",
    "\n",
    "        # 必要なテーブルの抽出\n",
    "        # リストを要素ごとに for で回す書き方\n",
    "        for idx, table in enumerate(mobile):\n",
    "            # 通期業績: profit and loss statement\n",
    "            if len(table.columns) == 8: \n",
    "                if (table.columns[-3] == \"１株配\") & (pl_mobile.shape[1] == 0): \n",
    "                    pl_mobile = table.copy()\n",
    "            # 業績予想: forecast\n",
    "            if len(table.columns) >= 7: \n",
    "                if (table.columns[0] == \"修正日\") & (fc_mobile.shape[1] == 0): \n",
    "                    fc_mobile = table.copy()\n",
    "            # 3ヶ月業績: quater\n",
    "            if len(table.columns) == 8: \n",
    "                if (table.columns[-3] == \"売上営業損益率\") & (qr_mobile.shape[1] == 0): \n",
    "                    qr_mobile = table.copy()\n",
    "            # 財務: balance sheet\n",
    "            if len(table.columns) == 8: \n",
    "                if (table.columns[0] == \"１株純資産\") & (bs_mobile.shape[1] == 0): \n",
    "                    bs_mobile = table.copy()\n",
    "                    bs_mobile_idx = idx\n",
    "            \n",
    "            \n",
    "        try:\n",
    "            # ---- pl_table 通期業績 ---- #\n",
    "\n",
    "\n",
    "            # 全ての列項目がnullの行を除去\n",
    "            pl_table = pl_table[~pl_table.isnull().all(axis=1)].reset_index(drop=True)\n",
    "\n",
    "            # モバイル版の会計基準を結合、無い場合は空の列を作成\n",
    "            if len(pl_mobile) > 0:\n",
    "                pl_table['会計基準'] = pl_mobile['会計基準']\n",
    "            else:\n",
    "                pl_table['会計基準'] = \"\"\n",
    "\n",
    "            # 後で四半期業績の決算期作成に使うので予想値行削除前に保持しておく\n",
    "            pl_end = pl_table['決算期'][~pl_table['決算期'].str.contains('前期比')].apply(lambda x: x.split(' ')[-1])\n",
    "\n",
    "            # 予想値と前期比の行を除去\n",
    "            pl_table = pl_table[~((pl_table['決算期'].str.contains('予')) | (pl_table['決算期'].str.contains('前期比')))].reset_index(drop=True)\n",
    "\n",
    "            # 決算期変更列を新規作成、決算期列から決算期と決算期変更を抽出、代入\n",
    "            # 後で四半期業績の決算期作成に使うのでこのテーブルでは予想値行削除前に処理する\n",
    "            pl_table['決算期'] = pl_table['決算期'].astype(str) # 決算期列が float 型になっている場合に備え str 型を明示\n",
    "            pl_table['決算期変更'] = \"\"\n",
    "            for idx, end in pl_table['決算期'].iteritems():\n",
    "                if '変' in end:\n",
    "                    pl_table.loc[idx, '決算期変更'] = '変更'\n",
    "                pl_table.loc[idx, '決算期'] = end.split(' ')[-1]\n",
    "\n",
    "            # 日付のパース、datetime.dateへの型変換、最終的に '－'  は NaT に置換される\n",
    "            # pl_table['決算期'] = pl_table['決算期'].apply(lambda x: datetime.strptime(x, '%Y.%m').date()) # 日付ではないので文字列のままの方がいいかも？\n",
    "            pl_table['発表日'] = pl_table.loc[pl_table['発表日'].str.match('\\d\\d/\\d\\d/\\d\\d'), '発表日'].apply(lambda x: parse(x, yearfirst=True).date())\n",
    "            # pandasのTimestampへの型変換\n",
    "            pl_table['発表日'] = pd.to_datetime(pl_table['発表日'], format='%Y-%m-%d')\n",
    "            # pl_table['決算期'] = pd.to_datetime(pl_table['決算期'], format='%Y-%m-%d')\n",
    "\n",
    "            # 数値の列の数値以外の文字列 ('－' 等) を NaN に置換\n",
    "            num_col = ('売上高', '営業益', '経常益', '最終益', '１株益', '１株配')\n",
    "            for key in num_col:\n",
    "                if pl_table[key].dtypes == object:\n",
    "                    pl_table.loc[~pl_table[key].str.replace(r'\\.|\\-', \"\").str.isnumeric(), key] = np.nan # .str を2回も使わないといけないのはなんだか。。。\n",
    "                    # pl_table.loc[pl_table[key].str.contains('－'), key] = np.nan # この書き方だと '－'  以外の文字列に対応できないので不安\n",
    "\n",
    "            # 型変換\n",
    "            # 辞書内包表記による一括変換\n",
    "            pl_table = pl_table.astype({x: float for x in ('売上高', '営業益', '経常益', '最終益', '１株益', '１株配')})\n",
    "\n",
    "            # 100万円単位換算\n",
    "            million_col = ('売上高', '営業益', '経常益', '最終益')\n",
    "            pl_table.loc[:, million_col] = pl_table.loc[:, million_col].apply(lambda x: x * 10 ** 6)\n",
    "\n",
    "            # 列の並び替え\n",
    "            pl_table = pl_table[['発表日', '決算期', '売上高', '営業益', '経常益', '最終益', '１株益', '１株配', '会計基準', '決算期変更']]\n",
    "\n",
    "\n",
    "            # ---- fc_table 業績予想 ---- #\n",
    "\n",
    "\n",
    "            # 業績予想データが無い場合、ダミーのデータフレームを作成\n",
    "            if len(fc_table.columns) < 9:\n",
    "                fc_table = pd.DataFrame(index=[0], columns=range(14))\n",
    "\n",
    "            # 列名の変更\n",
    "            fc_table.columns = ['会計基準', '決算期', '発表日', \n",
    "                                               '結合修正方向', '売上高修正方向', '営業益修正方向', '経常益修正方向', '最終益修正方向', '修正配当修正方向', \n",
    "                                               '予想売上高', '予想営業益', '予想経常益', '予想最終益', '予想修正配当',]\n",
    "\n",
    "            # 不要行、不要列の削除、並び替え\n",
    "            fc_table = fc_table.ix[fc_table.index % 2 == 0, ['会計基準', '決算期', '予想売上高', '予想営業益', '予想経常益', '予想最終益', '予想修正配当', '発表日']].reset_index(drop=True)\n",
    "\n",
    "            # 全ての列項目がnullの行を除去\n",
    "            fc_table = fc_table[~fc_table.isnull().all(axis=1)].reset_index(drop=True)\n",
    "\n",
    "            # モバイル版の会計基準を代入、無い場合は空値を代入\n",
    "            if len(fc_mobile) > 0:\n",
    "                fc_table['会計基準'] = fc_mobile['会計基準']\n",
    "            elif len(fc_table) > 0:\n",
    "                fc_table['会計基準'] = \"\"\n",
    "\n",
    "            # 実績は不要?\n",
    "            fc_table = fc_table.ix[fc_table['決算期'] != '実績'].reset_index(drop=True)\n",
    "\n",
    "            # 決算期の NaN 埋め\n",
    "            fc_table['決算期'] = fc_table['決算期'].fillna(method='ffill')\n",
    "\n",
    "            # 決算期変更列を新規作成、決算期列から決算期と決算期変更を抽出、代入\n",
    "            fc_table['決算期'] = fc_table['決算期'].astype(str) # 決算期列が float 型になっている場合に備え str 型を明示\n",
    "            fc_table['決算期変更'] = \"\"\n",
    "            for idx, end in fc_table['決算期'].iteritems():\n",
    "                if '変' in end:\n",
    "                    fc_table.loc[idx, '決算期変更'] = '変更'\n",
    "                fc_table.loc[idx, '決算期'] = end.split(' ')[-1]\n",
    "\n",
    "            # 日付のパース、datetime.dateへの型変換、最終的に '－'  は NaT に置換される\n",
    "            # fc_table['決算期'] = fc_table['決算期'].apply(lambda x: datetime.strptime(x, '%Y.%m').date()) # 日付ではないので文字列のままの方がいいかも？\n",
    "            fc_table['発表日'] = fc_table.loc[fc_table['発表日'].str.match('\\d\\d/\\d\\d/\\d\\d'), '発表日'].apply(lambda x: parse(x, yearfirst=True).date())\n",
    "            # pandasのTimestampへの型変換\n",
    "            fc_table['発表日'] = pd.to_datetime(fc_table['発表日'], format='%Y-%m-%d')\n",
    "            # fc_table['決算期'] = pd.to_datetime(fc_table['決算期'], format='%Y-%m-%d')\n",
    "\n",
    "            # 修正配当の列から分割併合記号を分離 (修正配当の予想値は入っていない銘柄もある)\n",
    "            fc_table['分割併合'] = \"\"\n",
    "            if fc_table['予想修正配当'].dtypes == object:\n",
    "                for idx, col in fc_table['予想修正配当'].iteritems():\n",
    "                    splited = re.findall(r'[\\d.]+|\\D+', col)\n",
    "                    if len(splited) > 1:\n",
    "                        if splited[1] == '*':\n",
    "                            splited[1] = '分割併合実施'\n",
    "                        elif splited[1] == '#':\n",
    "                            splited[1] = '当期実施予定'\n",
    "                        fc_table.loc[idx, ['予想修正配当', '分割併合']] = splited\n",
    "\n",
    "            # 数値の列の数値以外の文字列 ('－' 等) を NaN に置換\n",
    "            num_col = ('予想売上高', '予想営業益', '予想経常益', '予想最終益', '予想修正配当')\n",
    "            for key in num_col:\n",
    "                if fc_table[key].dtypes == object:\n",
    "                    fc_table.loc[~fc_table[key].str.replace(r'\\.|\\-', \"\").str.isnumeric(), key] = np.nan # .str を2回も使わないといけないのはなんだか。。。\n",
    "                    # fc_table.loc[fc_table[key].str.contains('－'), key] = np.nan # この書き方だと '－'  以外の文字列に対応できないので不安\n",
    "\n",
    "            # 型変換\n",
    "            # 辞書内包表記による一括変換\n",
    "            fc_table = fc_table.astype({x: float for x in ('予想売上高', '予想営業益', '予想経常益', '予想最終益', '予想修正配当')})\n",
    "\n",
    "            # 100万円単位換算\n",
    "            million_col = ('予想売上高', '予想営業益', '予想経常益', '予想最終益')\n",
    "            fc_table.loc[:, million_col] = fc_table.loc[:, million_col].apply(lambda x: x * 10 ** 6)\n",
    "\n",
    "            # 列の並び替え\n",
    "            fc_table = fc_table[['発表日', '決算期', '予想売上高', '予想営業益', '予想経常益', '予想最終益', '予想修正配当', '分割併合', '会計基準', '決算期変更']]\n",
    "\n",
    "\n",
    "            # ---- qr_table 四半期業績 ---- #\n",
    "\n",
    "\n",
    "            # 全ての列項目がnullの行を除去\n",
    "            qr_table = qr_table[~qr_table.isnull().all(axis=1)].reset_index(drop=True)\n",
    "\n",
    "            # モバイル版の会計基準を結合\n",
    "            qr_table['会計基準'] = qr_mobile['会計基準']\n",
    "\n",
    "            # 予想値と前年同期比の行を除去\n",
    "            qr_table = qr_table[~((qr_table['決算期'].str.contains('予')) | (qr_table['決算期'].str.contains('前年同期比')))].reset_index(drop=True)\n",
    "\n",
    "            # 決算期変更列を新規作成、決算期列から決算期と決算期変更を抽出、代入\n",
    "            qr_table['決算期'] = qr_table['決算期'].astype(str) # 決算期列が float 型になっている場合に備え str 型を明示\n",
    "            qr_table['決算期変更'] = \"\"\n",
    "            for idx, end in qr_table['決算期'].iteritems():\n",
    "                if '変' in end:\n",
    "                    qr_table.loc[idx, '決算期変更'] = '変更'\n",
    "                qr_table.loc[idx, '決算期'] = end.split(' ')[-1]\n",
    "\n",
    "            # 列名の変更\n",
    "            qr_table.columns = ['Q期首', 'Q売上高', 'Q営業益', 'Q経常益', 'Q最終益', 'Q１株益', 'Q売上営業損益率', '発表日', '会計基準', '決算期変更']\n",
    "\n",
    "            # 日付のパース、datetime.dateへの型変換、最終的に '－'  は NaT に置換される\n",
    "            qr_table['Q期首'] = qr_table.loc[qr_table['Q期首'].str.match('\\d\\d.\\d\\d-\\d\\d'), 'Q期首'].apply(lambda x: \n",
    "                                                                                                           parse(x.replace('-', '.'), yearfirst=True).date())\n",
    "            qr_table['発表日'] = qr_table.loc[qr_table['発表日'].str.match('\\d\\d/\\d\\d/\\d\\d'), '発表日'].apply(lambda x: parse(x, yearfirst=True).date())\n",
    "            # pandasのTimestampへの型変換\n",
    "            qr_table['Q期首'] = pd.to_datetime(qr_table['Q期首'], format='%Y-%m-%d')\n",
    "            qr_table['発表日'] = pd.to_datetime(qr_table['発表日'], format='%Y-%m-%d')\n",
    "\n",
    "            # 通期業績の決算期を参照して決算期列を追加\n",
    "            # 通期業績の予想値削除前に別名でキープした決算期シリーズを利用\n",
    "            for start_idx, start in qr_table['Q期首'].iteritems():\n",
    "                for end in pl_end:\n",
    "                    if start < pd.to_datetime(end, format='%Y.%m') + offsets.MonthEnd():\n",
    "                        qr_table.loc[start_idx, '決算期'] = end\n",
    "                        break\n",
    "\n",
    "            # 数値の列の数値以外の文字列 ('－' 等) を NaN に置換\n",
    "            num_col = ('Q売上高', 'Q営業益', 'Q経常益', 'Q最終益', 'Q１株益', 'Q売上営業損益率')\n",
    "            for key in num_col:\n",
    "                if qr_table[key].dtypes == object:\n",
    "                    qr_table.loc[~qr_table[key].str.replace(r'\\.|\\-', \"\").str.isnumeric(), key] = np.nan # .str を2回も使わないといけないのはなんだか。。。\n",
    "                    # qr_table.loc[qr_table[key].str.contains('－'), key] = np.nan # この書き方だと '－'  以外の文字列に対応できないので不安\n",
    "\n",
    "            # 型変換\n",
    "            # 辞書内包表記による一括変換\n",
    "            qr_table = qr_table.astype({x: float for x in ('Q売上高', 'Q営業益', 'Q経常益', 'Q最終益', 'Q１株益', 'Q売上営業損益率')})\n",
    "\n",
    "            # 100万円単位換算\n",
    "            million_col = ('Q売上高', 'Q営業益', 'Q経常益', 'Q最終益')\n",
    "            qr_table.loc[:, million_col] = qr_table.loc[:, million_col].apply(lambda x: x * 10 ** 6)\n",
    "\n",
    "            # 列の並び替え\n",
    "            qr_table = qr_table[['発表日', '決算期', 'Q期首', 'Q売上高', 'Q営業益', 'Q経常益', 'Q最終益', 'Q１株益', 'Q売上営業損益率', '会計基準', '決算期変更']]\n",
    "            \n",
    "            # モバイル版のみ業績予想テーブルがない場合があるので、四半期業績の整形処理後に決算期が同期の四半期業績から会計基準を取得\n",
    "            # 3975で確認\n",
    "            if (len(fc_table) > 0) & (len(qr_table) > 0):\n",
    "                if  fc_table.loc[0, '会計基準'] == \"\":\n",
    "                    for idx, end in fc_table['決算期'].iteritems():\n",
    "                        fc_table.loc[idx, '会計基準'] = qr_table.loc[qr_table['決算期'].apply(lambda x: x[:4]) == fc_table.loc[idx, '決算期'][:4], '会計基準'].values[0]\n",
    "\n",
    "            # ---- bs_table 財務 ---- #\n",
    "\n",
    "\n",
    "            # 財務実績データが無い場合、ダミーのデータフレームを作成\n",
    "            if len(bs_table) == 0:\n",
    "                bs_table = pd.DataFrame(index=[0], columns=range(9))\n",
    "                # 列名の変更\n",
    "                bs_table.columns = ['発表日', '決算期', '１株純資産', '自己資本比率', '総資産', '自己資本', '剰余金', '有利子負債倍率', '会計基準']\n",
    "\n",
    "            # 全ての列項目がnullの行を除去\n",
    "            bs_table = bs_table[~bs_table.isnull().all(axis=1)].reset_index(drop=True)\n",
    "\n",
    "            # モバイル版のデータを結合、無い場合はスキップ\n",
    "            if (len(bs_table) == 0) & (len(bs_mobile) > 0):\n",
    "                bs_table = pd.merge(bs_table, bs_mobile, how='outer')\n",
    "                bs_table['決算期'] = mobile[bs_mobile_idx - 1]['決算期']\n",
    "            elif len(bs_mobile) > 0:\n",
    "                bs_table['会計基準'] = bs_mobile['会計基準']\n",
    "\n",
    "            # 予想値と前期比の行を除去\n",
    "            bs_table['決算期'] = bs_table['決算期'].astype(str) # 決算期列が float 型になっている場合に備え str 型を明示\n",
    "            bs_table = bs_table[~((bs_table['決算期'].str.contains('予')) | (bs_table['決算期'].str.contains('前期比')))].reset_index(drop=True)\n",
    "\n",
    "            # 決算期変更列を新規作成、決算期列から決算期と決算期変更を抽出、代入\n",
    "            bs_table['決算期'] = bs_table['決算期'].astype(str) # 決算期列が float 型になっている場合に備え str 型を明示\n",
    "            bs_table['決算期変更'] = \"\"\n",
    "            for idx, end in bs_table['決算期'].iteritems():\n",
    "                if '変' in end:\n",
    "                    bs_table.loc[idx, '決算期変更'] = '変更'\n",
    "                bs_table.loc[idx, '決算期'] = end.split(' ')[-1]\n",
    "\n",
    "            # 決算期が 'yyyy.mm' 表記ではない行は確定決算前と思われるので削除\n",
    "            bs_table = bs_table[bs_table['決算期'].str.contains('\\d\\d\\d\\d.\\d\\d')].reset_index(drop=True)\n",
    "\n",
    "            # 決算期が 1998.mm のデータは他のテーブルには無く、発表日も不自然なので行ごと削除\n",
    "            # bs_table = bs_table[~bs_table['決算期'].str.contains('1998.\\d\\d')].reset_index(drop=True)\n",
    "\n",
    "            # 通期業績には無い期間の行を削除\n",
    "            if len(pl_table) > 0:\n",
    "                for idx, end in bs_table['決算期'].iteritems():\n",
    "                    if not end in pl_table['決算期'].values:\n",
    "                        bs_table = bs_table.drop(idx)\n",
    "\n",
    "            # 日付のパース、datetime.dateへの型変換、最終的に '－'  は NaT に置換される\n",
    "            # bs_table['決算期'] = bs_table['決算期'].apply(lambda x: datetime.strptime(x, '%Y.%m').date()) # 日付ではないので文字列のままの方がいいかも？\n",
    "            try:\n",
    "                bs_table['発表日'] = pd.to_datetime(bs_table['発表日'], format='%Y-%m-%d')\n",
    "            except:\n",
    "                bs_table['発表日'] = bs_table.loc[bs_table['発表日'].str.match('\\d\\d/\\d\\d/\\d\\d'), '発表日'].apply(lambda x: parse(x, yearfirst=True).date())\n",
    "            # pandasのTimestampへの型変換\n",
    "            bs_table['発表日'] = pd.to_datetime(bs_table['発表日'], format='%Y-%m-%d')\n",
    "            # bs_table['決算期'] = pd.to_datetime(bs_table['決算期'], format='%Y-%m-%d')\n",
    "\n",
    "            # 決算期の同じ年の月が通期業績と異なる場合があるので、通期業績の決算期に置換\n",
    "            # 決算期の変更があり、なおかつ決算期に「変」記載のない銘柄で確認 (1909)\n",
    "            if len(pl_table) > 0:\n",
    "                for idx, end in bs_table['決算期'].iteritems():\n",
    "                    bs_table.loc[idx, '決算期'] = pl_table.loc[pl_table['決算期'].apply(lambda x: x[:4]) == bs_table.loc[idx, '決算期'][:4], '決算期'].values[0]\n",
    "\n",
    "            # 発表日の欠損値および異常値を通期業績の発表日に置換\n",
    "            if len(pl_table) > 0:\n",
    "                for idx, date in bs_table['発表日'].iteritems():\n",
    "                    if (date != date) or (date <= pd.to_datetime('2001-01-01')):\n",
    "                        bs_table.loc[idx, '発表日'] = pl_table.loc[pl_table['決算期'] == bs_table.loc[idx, '決算期'], '発表日'].values[0]\n",
    "\n",
    "            # 決算期変更の欠損値を通期業績の値に置換\n",
    "            if len(pl_table) > 0:\n",
    "                for idx, change in bs_table['決算期変更'].iteritems():\n",
    "                    if change == \"\":\n",
    "                        bs_table.loc[idx, '決算期変更'] = pl_table.loc[pl_table['決算期'] == bs_table.loc[idx, '決算期'], '決算期変更'].values[0]\n",
    "\n",
    "            # 数値の列の数値以外の文字列 ('－' 等) を NaN に置換\n",
    "            num_col = ('１株純資産', '自己資本比率', '総資産', '自己資本', '剰余金', '有利子負債倍率')\n",
    "            for key in num_col:\n",
    "                if bs_table[key].dtypes == object:\n",
    "                    bs_table.loc[~bs_table[key].str.replace(r'\\.|\\-', \"\").str.isnumeric(), key] = np.nan # .str を2回も使わないといけないのはなんだか。。。\n",
    "                    # bs_table.loc[bs_table[key].str.contains('－'), key] = np.nan # この書き方だと '－'  以外の文字列に対応できないので不安\n",
    "\n",
    "            # 型変換\n",
    "            # 辞書内包表記による一括変換\n",
    "            bs_table = bs_table.astype({x: float for x in ('１株純資産', '自己資本比率', '総資産', '自己資本', '剰余金', '有利子負債倍率')})\n",
    "\n",
    "            # 100万円単位換算\n",
    "            million_col = ('総資産', '自己資本', '剰余金')\n",
    "            bs_table.loc[:, million_col] = bs_table.loc[:, million_col].apply(lambda x: x * 10 ** 6)\n",
    "\n",
    "            # 列の並び替え\n",
    "            bs_table = bs_table[['発表日', '決算期', '１株純資産', '自己資本比率', '総資産', '自己資本', '剰余金', '有利子負債倍率', '会計基準', '決算期変更']]\n",
    "            \n",
    "            try:\n",
    "                ## テーブル結合\n",
    "                # 通期業績 + 財務\n",
    "                merged_table = pd.merge(pl_table, bs_table, on=['発表日', '決算期', '会計基準', '決算期変更'], how='outer').sort_values(['発表日', '決算期'])\n",
    "                \n",
    "                # + 四半期業績\n",
    "                merged_table = pd.merge(merged_table, qr_table, on=['発表日', '決算期', '会計基準', '決算期変更'], how='outer').sort_values(['発表日', '決算期'])\n",
    "                \n",
    "                # + 業績予想 (業績予想データが無い場合はスキップ、空文字の分割併合列を追加)\n",
    "                \"\"\"\n",
    "                if (len(fc_table) == 1) and (fc_table.loc[0, '決算期'] == \"\"):\n",
    "                    merged_table['分割併合'] = \"\"\n",
    "                else:\n",
    "                    merged_table = pd.merge(merged_table, fc_table, on=['発表日', '決算期', '会計基準', '決算期変更'], how='outer').sort_values(['発表日', '決算期'])\n",
    "                \"\"\"\n",
    "                merged_table = pd.merge(merged_table, fc_table, on=['発表日', '決算期', '会計基準', '決算期変更'], how='outer').sort_values(['発表日', '決算期'])\n",
    "                \n",
    "                # 再インデックス\n",
    "                merged_table = merged_table.reset_index(drop=True)\n",
    "                \n",
    "                # 結合により代入された分割併合の NaN を空の文字列に置換\n",
    "                for idx, value in merged_table['分割併合'].iteritems():\n",
    "                    if value != value:\n",
    "                        merged_table.loc[idx, '分割併合'] = \"\"\n",
    "                        \n",
    "                try:\n",
    "                    ## 保存\n",
    "                    # MySQL\n",
    "                    sql.write_table('kt_{0}'.format(code), merged_table)\n",
    "                    # CSV\n",
    "                    merged_table.to_csv('/Users/Really/Stockyard/_kabutan_csv/kt_{0}.csv'.format(code))\n",
    "\n",
    "                except Exception as e:\n",
    "                    logging.warning('{0} {1}: at saving - {2}'.format(dt.datetime.now().strftime('%Y-%m-%d %H:%M:%S'), code, e))\n",
    "                    failed.append(code)\n",
    "                    print('Failed in {0} at saving.'.format(code))\n",
    "                    print(e)\n",
    "                    \n",
    "                print('{0} - {1}: processed. shape{2}'.format(index_num, code, merged_table.shape))\n",
    "\n",
    "            except Exception as e:\n",
    "                logging.warning('{0} {1}: at merge - {2}'.format(dt.datetime.now().strftime('%Y-%m-%d %H:%M:%S'), code, e))\n",
    "                failed.append(code)\n",
    "                print('Failed in {0} at merge.'.format(code))\n",
    "                print(e)\n",
    "\n",
    "        except Exception as e:\n",
    "            logging.warning('{0} {1}: at shaping - {2}'.format(dt.datetime.now().strftime('%Y-%m-%d %H:%M:%S'), code, e))\n",
    "            failed.append(code)\n",
    "            print('Failed in {0} at shaping.'.format(code))\n",
    "            print(e)\n",
    "    \n",
    "    except Exception as e:\n",
    "        logging.warning('{0} {1}: at read html - {2}'.format(dt.datetime.now().strftime('%Y-%m-%d %H:%M:%S'), code, e))\n",
    "        failed.append(code)\n",
    "        print('Failed in {0} at read html.'.format(code))\n",
    "        print(e)\n",
    "    \n",
    "print('Failed in {0} stocks:'.format(len(failed)))\n",
    "print(failed)\n",
    "logging.info('{0} kabutan_merge Finished'.format(dt.datetime.now().strftime('%Y-%m-%d %H:%M:%S')))"
   ]
  },
  {
   "cell_type": "code",
   "execution_count": null,
   "metadata": {
    "ExecuteTime": {
     "end_time": "2017-12-22T09:16:18.480763Z",
     "start_time": "2017-12-22T09:16:18.476252Z"
    },
    "collapsed": false
   },
   "outputs": [],
   "source": [
    "failed"
   ]
  },
  {
   "cell_type": "code",
   "execution_count": null,
   "metadata": {
    "ExecuteTime": {
     "end_time": "2017-12-17T19:14:07.596433Z",
     "start_time": "2017-12-17T19:14:07.588597Z"
    },
    "collapsed": true
   },
   "outputs": [],
   "source": [
    " # 失敗分をCSVに書き込み\n",
    "pd.Series(failed).to_csv('/Users/Really/Stockyard/_csv/kabutan_merge_failed.csv')"
   ]
  },
  {
   "cell_type": "code",
   "execution_count": null,
   "metadata": {
    "ExecuteTime": {
     "end_time": "2017-12-22T09:16:08.223716Z",
     "start_time": "2017-12-22T09:16:08.216033Z"
    },
    "collapsed": false
   },
   "outputs": [],
   "source": [
    "# 失敗分CSVをリスト化して読み込み\n",
    "failed_table = list(pd.read_csv('/Users/Really/Stockyard/_csv/kabutan_merge_failed.csv', header=None, index_col=0).values.flatten())\n",
    "failed_table"
   ]
  },
  {
   "cell_type": "code",
   "execution_count": null,
   "metadata": {
    "ExecuteTime": {
     "end_time": "2017-12-22T09:41:56.363694Z",
     "start_time": "2017-12-22T09:41:56.249374Z"
    },
    "collapsed": true
   },
   "outputs": [],
   "source": [
    "merged_table"
   ]
  },
  {
   "cell_type": "code",
   "execution_count": null,
   "metadata": {
    "ExecuteTime": {
     "end_time": "2017-12-22T09:42:14.411331Z",
     "start_time": "2017-12-22T09:42:14.405930Z"
    },
    "collapsed": false
   },
   "outputs": [],
   "source": [
    "merged_table.columns"
   ]
  },
  {
   "cell_type": "code",
   "execution_count": null,
   "metadata": {
    "ExecuteTime": {
     "end_time": "2017-12-22T09:16:49.102018Z",
     "start_time": "2017-12-22T09:16:46.013101Z"
    },
    "collapsed": true
   },
   "outputs": [],
   "source": [
    "# 大量に回さないように注意 !!\n",
    "for code in reading_code:\n",
    "    read_table = sql.read_table('kt_{0}'.format(code))\n",
    "    display(code)\n",
    "    display(read_table)\n",
    "    # display(read_table.dtypes)"
   ]
  },
  {
   "cell_type": "code",
   "execution_count": null,
   "metadata": {
    "ExecuteTime": {
     "end_time": "2017-12-22T09:47:35.951253Z",
     "start_time": "2017-12-22T09:47:33.110797Z"
    },
    "collapsed": false,
    "scrolled": false
   },
   "outputs": [],
   "source": [
    "# 大量に回さないように注意 !!\n",
    "reading_code = [3995, 3975, 7196, 7810, 9262]\n",
    "append_table = pd.DataFrame()\n",
    "for code in reading_code:\n",
    "    read_table = sql.read_table('kt_{0}'.format(code))\n",
    "    read_table['code'] = code\n",
    "    append_table = append_table.append(read_table)\n",
    "    display(code)\n",
    "    #display(read_table)\n",
    "    # display(read_table.dtypes)\n",
    "append_table = append_table[['code', '発表日', '決算期', '会計基準', '決算期変更', '分割併合', \n",
    "       '売上高', '営業益', '経常益', '最終益', '１株益', '１株配', \n",
    "       '１株純資産', '自己資本比率', '総資産', '自己資本', '剰余金', '有利子負債倍率', \n",
    "       'Q期首', 'Q売上高', 'Q営業益', 'Q経常益', 'Q最終益', 'Q１株益', 'Q売上営業損益率',\n",
    "       '予想売上高', '予想営業益', '予想経常益', '予想最終益', '予想修正配当']]\n",
    "append_table"
   ]
  },
  {
   "cell_type": "code",
   "execution_count": null,
   "metadata": {
    "ExecuteTime": {
     "end_time": "2017-12-17T14:21:15.474153Z",
     "start_time": "2017-12-17T14:21:15.405544Z"
    },
    "collapsed": false
   },
   "outputs": [],
   "source": [
    "display(pl_table)\n",
    "display(bs_table)\n",
    "display(fc_table)\n",
    "display(qr_table)\n",
    "# display(bs_table)"
   ]
  },
  {
   "cell_type": "code",
   "execution_count": null,
   "metadata": {
    "ExecuteTime": {
     "end_time": "2017-12-17T23:38:43.928774Z",
     "start_time": "2017-12-17T23:04:21.802216Z"
    },
    "collapsed": false
   },
   "outputs": [],
   "source": [
    "shorter_table = []\n",
    "for code in reading_code:\n",
    "    try:\n",
    "        table_sql = sql.read_table('kt_{0}'.format(code))\n",
    "        if table_sql.shape[1] < 29:\n",
    "            shorter_table.append(code)\n",
    "            print('{0}: shorter'.format(code))\n",
    "    except Exception as e:\n",
    "        print(e)"
   ]
  },
  {
   "cell_type": "code",
   "execution_count": null,
   "metadata": {
    "ExecuteTime": {
     "end_time": "2017-12-17T23:39:19.109429Z",
     "start_time": "2017-12-17T23:39:19.104097Z"
    },
    "collapsed": false
   },
   "outputs": [],
   "source": [
    "shorter_table"
   ]
  },
  {
   "cell_type": "code",
   "execution_count": null,
   "metadata": {
    "ExecuteTime": {
     "end_time": "2017-12-17T23:39:25.099258Z",
     "start_time": "2017-12-17T23:39:25.094043Z"
    },
    "collapsed": true
   },
   "outputs": [],
   "source": [
    "# 業績予想列不足分をCSVに書き込み\n",
    "pd.Series(shorter_table).to_csv('/Users/Really/Stockyard/_csv/kabutan_merge_shorter_table.csv')"
   ]
  },
  {
   "cell_type": "code",
   "execution_count": null,
   "metadata": {
    "ExecuteTime": {
     "end_time": "2017-12-22T07:46:23.092737Z",
     "start_time": "2017-12-22T07:46:23.081051Z"
    },
    "collapsed": false
   },
   "outputs": [],
   "source": [
    "# 業績予想列不足分CSVをリスト化して読み込み\n",
    "shorter_table = list(pd.read_csv('/Users/Really/Stockyard/_csv/kabutan_merge_shorter_table.csv', header=None, index_col=0).values.flatten())\n",
    "shorter_table"
   ]
  },
  {
   "cell_type": "markdown",
   "metadata": {
    "collapsed": true
   },
   "source": [
    "# 結合"
   ]
  },
  {
   "cell_type": "code",
   "execution_count": null,
   "metadata": {
    "ExecuteTime": {
     "end_time": "2017-12-16T20:51:50.721394Z",
     "start_time": "2017-12-16T20:51:50.711432Z"
    },
    "collapsed": false
   },
   "outputs": [],
   "source": [
    "# 通期業績 & 財務\n",
    "pl_bs= pd.merge(pl_table, bs_table, on=['発表日', '決算期', '会計基準', '決算期変更'], how='outer').sort_values(['発表日', '決算期'])"
   ]
  },
  {
   "cell_type": "code",
   "execution_count": null,
   "metadata": {
    "ExecuteTime": {
     "end_time": "2017-12-16T21:09:25.716380Z",
     "start_time": "2017-12-16T21:09:25.706980Z"
    },
    "collapsed": false
   },
   "outputs": [],
   "source": [
    "# 通期業績 & 予想\n",
    "pl_fc = pd.merge(pl_table, fc_table, on=['発表日', '決算期', '会計基準', '決算期変更'], how='outer').sort_values(['発表日', '決算期'])"
   ]
  },
  {
   "cell_type": "code",
   "execution_count": null,
   "metadata": {
    "ExecuteTime": {
     "end_time": "2017-12-16T20:52:37.914793Z",
     "start_time": "2017-12-16T20:52:37.909290Z"
    },
    "collapsed": false
   },
   "outputs": [],
   "source": [
    "pl_fc.columns"
   ]
  },
  {
   "cell_type": "code",
   "execution_count": null,
   "metadata": {
    "ExecuteTime": {
     "end_time": "2017-12-16T20:57:42.078902Z",
     "start_time": "2017-12-16T20:57:42.073362Z"
    },
    "collapsed": false
   },
   "outputs": [],
   "source": [
    "pl_fc = pl_fc[['発表日', '決算期',\n",
    "                 '予想売上高', '売上高', '予想営業益', '営業益', '予想経常益', '経常益', '予想最終益', '最終益', '１株益', '予想修正配当', '１株配', \n",
    "                 '会計基準', '決算期変更', '分割併合']]"
   ]
  },
  {
   "cell_type": "code",
   "execution_count": null,
   "metadata": {
    "ExecuteTime": {
     "end_time": "2017-12-16T21:12:00.107146Z",
     "start_time": "2017-12-16T21:12:00.053978Z"
    },
    "collapsed": true
   },
   "outputs": [],
   "source": [
    "pl_fc"
   ]
  },
  {
   "cell_type": "code",
   "execution_count": null,
   "metadata": {
    "ExecuteTime": {
     "end_time": "2017-12-16T21:09:25.716380Z",
     "start_time": "2017-12-16T21:09:25.706980Z"
    },
    "collapsed": false
   },
   "outputs": [],
   "source": [
    "# 通期業績 + 財務\n",
    "merged_table = pd.merge(pl_table, bs_table, on=['発表日', '決算期', '会計基準', '決算期変更'], how='outer').sort_values(['発表日', '決算期'])\n",
    "\n",
    "# + 四半期業績\n",
    "merged_table = pd.merge(merged_table, qr_table, on=['発表日', '決算期', '会計基準', '決算期変更'], how='outer').sort_values(['発表日', '決算期'])\n",
    "\n",
    "# + 業績予想\n",
    "merged_table = pd.merge(merged_table, fc_table, on=['発表日', '決算期', '会計基準', '決算期変更'], how='outer').sort_values(['発表日', '決算期'])\n",
    "\n",
    "# 再インデックス\n",
    "merged_table = merged_table.reset_index(drop=True)\n",
    "\n",
    "# 結合により代入された分割併合の NaN を空の文字列に置換\n",
    "for idx, value in merged_table['分割併合'].iteritems():\n",
    "    if value != value:\n",
    "        merged_table.loc[idx, '分割併合'] = \"\""
   ]
  },
  {
   "cell_type": "code",
   "execution_count": null,
   "metadata": {
    "ExecuteTime": {
     "end_time": "2017-12-16T21:09:38.302441Z",
     "start_time": "2017-12-16T21:09:38.297120Z"
    },
    "collapsed": true
   },
   "outputs": [],
   "source": [
    "merged_table.columns"
   ]
  },
  {
   "cell_type": "code",
   "execution_count": null,
   "metadata": {
    "ExecuteTime": {
     "end_time": "2017-12-16T22:05:03.784675Z",
     "start_time": "2017-12-16T22:05:03.669568Z"
    },
    "collapsed": true
   },
   "outputs": [],
   "source": [
    "merged_table"
   ]
  },
  {
   "cell_type": "code",
   "execution_count": null,
   "metadata": {
    "ExecuteTime": {
     "end_time": "2017-12-16T22:02:12.437280Z",
     "start_time": "2017-12-16T22:02:12.430182Z"
    },
    "collapsed": true
   },
   "outputs": [],
   "source": [
    "merged_table.dtypes"
   ]
  },
  {
   "cell_type": "code",
   "execution_count": null,
   "metadata": {
    "ExecuteTime": {
     "end_time": "2017-12-16T22:05:17.383983Z",
     "start_time": "2017-12-16T22:05:17.165837Z"
    },
    "collapsed": true
   },
   "outputs": [],
   "source": [
    "sql.write_table('kt_{0}'.format(code), merged_table)"
   ]
  },
  {
   "cell_type": "code",
   "execution_count": null,
   "metadata": {
    "ExecuteTime": {
     "end_time": "2017-12-16T22:06:11.314737Z",
     "start_time": "2017-12-16T22:06:11.013246Z"
    },
    "collapsed": true
   },
   "outputs": [],
   "source": [
    "table_sql = sql.read_table('kt_{0}'.format(code))"
   ]
  },
  {
   "cell_type": "code",
   "execution_count": null,
   "metadata": {
    "ExecuteTime": {
     "end_time": "2017-12-16T22:06:12.339708Z",
     "start_time": "2017-12-16T22:06:12.227339Z"
    },
    "collapsed": true
   },
   "outputs": [],
   "source": [
    "table_sql"
   ]
  },
  {
   "cell_type": "code",
   "execution_count": null,
   "metadata": {
    "ExecuteTime": {
     "end_time": "2017-12-16T21:44:56.928034Z",
     "start_time": "2017-12-16T21:44:56.920471Z"
    },
    "collapsed": true
   },
   "outputs": [],
   "source": [
    "table_sql.dtypes"
   ]
  },
  {
   "cell_type": "code",
   "execution_count": null,
   "metadata": {
    "ExecuteTime": {
     "end_time": "2017-12-16T22:17:56.756321Z",
     "start_time": "2017-12-16T22:17:56.749880Z"
    },
    "collapsed": true
   },
   "outputs": [],
   "source": [
    "merged_table.to_csv('/Users/Really/Stockyard/_kabutan_csv/kt_{0}.csv'.format(code))"
   ]
  },
  {
   "cell_type": "code",
   "execution_count": null,
   "metadata": {
    "collapsed": true
   },
   "outputs": [],
   "source": []
  }
 ],
 "metadata": {
  "kernelspec": {
   "display_name": "Python 3",
   "language": "python",
   "name": "python3"
  },
  "language_info": {
   "codemirror_mode": {
    "name": "ipython",
    "version": 3
   },
   "file_extension": ".py",
   "mimetype": "text/x-python",
   "name": "python",
   "nbconvert_exporter": "python",
   "pygments_lexer": "ipython3",
   "version": "3.6.0"
  },
  "toc": {
   "nav_menu": {},
   "number_sections": true,
   "sideBar": true,
   "skip_h1_title": false,
   "toc_cell": false,
   "toc_position": {},
   "toc_section_display": "block",
   "toc_window_display": false
  },
  "varInspector": {
   "cols": {
    "lenName": 16,
    "lenType": 16,
    "lenVar": 40
   },
   "kernels_config": {
    "python": {
     "delete_cmd_postfix": "",
     "delete_cmd_prefix": "del ",
     "library": "var_list.py",
     "varRefreshCmd": "print(var_dic_list())"
    },
    "r": {
     "delete_cmd_postfix": ") ",
     "delete_cmd_prefix": "rm(",
     "library": "var_list.r",
     "varRefreshCmd": "cat(var_dic_list()) "
    }
   },
   "position": {
    "height": "362px",
    "left": "983px",
    "right": "24px",
    "top": "120px",
    "width": "346px"
   },
   "types_to_exclude": [
    "module",
    "function",
    "builtin_function_or_method",
    "instance",
    "_Feature"
   ],
   "window_display": false
  }
 },
 "nbformat": 4,
 "nbformat_minor": 2
}
