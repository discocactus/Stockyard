{
 "cells": [
  {
   "cell_type": "markdown",
   "metadata": {},
   "source": [
    "# memo"
   ]
  },
  {
   "cell_type": "raw",
   "metadata": {},
   "source": [
    "※単位：売上高、営業益、経常益、最終益は「百万円」。１株益、１株配は「円」。率は「％」\n",
    "\n",
    "※１株純資産は「円」。自己資本比率は「％」。総資産、自己資本、剰余金は「百万円」。有利子負債倍率は「倍」\n",
    "\n",
    "・「連」：日本会計基準［連結決算］、「単」：日本会計基準［非連結決算(単独決算)］、「U」：米国会計基準、「I」：国際会計基準(IFRS)、\n",
    "「予」：予想業績、「旧」：修正前の予想業績、「新」：修正後の予想業績、「実」：実績業績、「変」：決算期変更\n",
    "\n",
    "・［連結／非連結］決算区分の変更があった場合は、連続的に業績推移を追えるように、連結と非連結を混在して表示しています。\n",
    "連結と非連結が混在しない場合は、「連」「単」表記は省略します。\n",
    "\n",
    "・前期比および前年同期比は、会計基準や決算期間が異なる場合は比較できないため、「－」で表記しています。\n",
    "\n",
    "・米国会計基準と国際会計基準では、「経常益」欄の数値は「税引き前利益」を表記しています。\n",
    "\n",
    "・業績予想がレンジで開示された場合は中央値を表記しています。"
   ]
  },
  {
   "cell_type": "raw",
   "metadata": {},
   "source": [
    "25935 伊藤園第1種優先株式 ない"
   ]
  },
  {
   "cell_type": "markdown",
   "metadata": {},
   "source": [
    "# import など準備"
   ]
  },
  {
   "cell_type": "markdown",
   "metadata": {},
   "source": [
    "## import, MySQL 接続"
   ]
  },
  {
   "cell_type": "code",
   "execution_count": null,
   "metadata": {
    "ExecuteTime": {
     "end_time": "2017-12-09T22:11:40.268612Z",
     "start_time": "2017-12-09T22:11:39.232431Z"
    },
    "code_folding": [],
    "collapsed": false
   },
   "outputs": [],
   "source": [
    "# import\n",
    "import sys\n",
    "import os\n",
    "import re\n",
    "import datetime as dt\n",
    "import time\n",
    "import importlib\n",
    "import logging\n",
    "import numpy as np\n",
    "import pandas as pd\n",
    "from robobrowser import RoboBrowser\n",
    "# from robobrowser.browser import RoboState\n",
    "from retry import retry\n",
    "from dateutil.parser import parse\n",
    "from datetime import datetime\n",
    "\n",
    "import stock"
   ]
  },
  {
   "cell_type": "code",
   "execution_count": null,
   "metadata": {
    "collapsed": true
   },
   "outputs": [],
   "source": [
    "importlib.reload(stock)"
   ]
  },
  {
   "cell_type": "code",
   "execution_count": null,
   "metadata": {
    "ExecuteTime": {
     "end_time": "2017-12-09T22:11:41.996171Z",
     "start_time": "2017-12-09T22:11:41.993028Z"
    },
    "collapsed": true
   },
   "outputs": [],
   "source": [
    "# pandas の最大表示列数を設定 (max_rows で表示行数の設定も可能)\n",
    "pd.set_option('display.max_columns', 30)"
   ]
  },
  {
   "cell_type": "code",
   "execution_count": null,
   "metadata": {
    "ExecuteTime": {
     "end_time": "2017-12-09T22:11:55.255154Z",
     "start_time": "2017-12-09T22:11:55.252118Z"
    },
    "collapsed": false
   },
   "outputs": [],
   "source": [
    "sql = stock.sql()"
   ]
  },
  {
   "cell_type": "code",
   "execution_count": null,
   "metadata": {
    "ExecuteTime": {
     "end_time": "2017-12-02T13:55:00.771628Z",
     "start_time": "2017-12-02T13:55:00.762725Z"
    },
    "collapsed": false
   },
   "outputs": [],
   "source": [
    "help(stock.sql)"
   ]
  },
  {
   "cell_type": "markdown",
   "metadata": {},
   "source": [
    "## 比較参照用、株プロ決算の読み込み"
   ]
  },
  {
   "cell_type": "code",
   "execution_count": null,
   "metadata": {
    "ExecuteTime": {
     "end_time": "2017-11-30T22:48:16.984209Z",
     "start_time": "2017-11-30T22:48:16.981184Z"
    },
    "collapsed": true
   },
   "outputs": [],
   "source": [
    "table_name = 'kabupro_kessan'"
   ]
  },
  {
   "cell_type": "code",
   "execution_count": null,
   "metadata": {
    "ExecuteTime": {
     "end_time": "2017-11-30T22:48:40.663122Z",
     "start_time": "2017-11-30T22:48:36.151027Z"
    },
    "collapsed": false
   },
   "outputs": [],
   "source": [
    "kabupro = sql.read_table(table_name)"
   ]
  },
  {
   "cell_type": "code",
   "execution_count": null,
   "metadata": {
    "ExecuteTime": {
     "end_time": "2017-11-30T22:50:31.865897Z",
     "start_time": "2017-11-30T22:50:31.751462Z"
    },
    "collapsed": true
   },
   "outputs": [],
   "source": [
    "kabupro"
   ]
  },
  {
   "cell_type": "code",
   "execution_count": null,
   "metadata": {
    "ExecuteTime": {
     "end_time": "2017-11-29T17:41:52.402353Z",
     "start_time": "2017-11-29T17:41:52.389745Z"
    },
    "collapsed": false
   },
   "outputs": [],
   "source": [
    "kabupro.columns"
   ]
  },
  {
   "cell_type": "code",
   "execution_count": null,
   "metadata": {
    "ExecuteTime": {
     "end_time": "2017-11-28T20:02:31.051947Z",
     "start_time": "2017-11-28T20:02:31.037847Z"
    },
    "collapsed": true
   },
   "outputs": [],
   "source": [
    "kabupro.ix[14]\n",
    "# 株プロにしか無い項目: 希薄化後一株当り純利益, 純資産又は株主資本, 営業キャッシュフロー, 投資キャッシュフロー, 財務キャッシュフロー"
   ]
  },
  {
   "cell_type": "markdown",
   "metadata": {},
   "source": [
    "# 銘柄コードリスト"
   ]
  },
  {
   "cell_type": "code",
   "execution_count": null,
   "metadata": {
    "ExecuteTime": {
     "end_time": "2017-12-09T22:12:07.650760Z",
     "start_time": "2017-12-09T22:12:07.245921Z"
    },
    "collapsed": true
   },
   "outputs": [],
   "source": [
    "domestic_stock_table = sql.read_table('domestic_stock_table')"
   ]
  },
  {
   "cell_type": "code",
   "execution_count": null,
   "metadata": {
    "ExecuteTime": {
     "end_time": "2017-12-09T22:12:17.416602Z",
     "start_time": "2017-12-09T22:12:17.348826Z"
    },
    "collapsed": true
   },
   "outputs": [],
   "source": [
    "domestic_stock_table"
   ]
  },
  {
   "cell_type": "code",
   "execution_count": null,
   "metadata": {
    "ExecuteTime": {
     "end_time": "2017-12-09T22:12:23.390443Z",
     "start_time": "2017-12-09T22:12:23.387287Z"
    },
    "collapsed": true
   },
   "outputs": [],
   "source": [
    "code_list = list(domestic_stock_table['code'])"
   ]
  },
  {
   "cell_type": "code",
   "execution_count": null,
   "metadata": {
    "ExecuteTime": {
     "end_time": "2017-12-09T22:12:25.359999Z",
     "start_time": "2017-12-09T22:12:25.356925Z"
    },
    "collapsed": true
   },
   "outputs": [],
   "source": [
    "# 伊藤園第1種優先株式を削除\n",
    "code_list.remove(25935)"
   ]
  },
  {
   "cell_type": "code",
   "execution_count": null,
   "metadata": {
    "ExecuteTime": {
     "end_time": "2017-11-26T02:14:06.301624Z",
     "start_time": "2017-11-26T02:14:06.296668Z"
    },
    "collapsed": false,
    "scrolled": true
   },
   "outputs": [],
   "source": [
    "code_list[-10:]"
   ]
  },
  {
   "cell_type": "code",
   "execution_count": null,
   "metadata": {
    "ExecuteTime": {
     "end_time": "2017-11-26T01:14:42.774703Z",
     "start_time": "2017-11-26T01:14:42.770186Z"
    },
    "collapsed": false
   },
   "outputs": [],
   "source": [
    "len(code_list)"
   ]
  },
  {
   "cell_type": "code",
   "execution_count": null,
   "metadata": {
    "ExecuteTime": {
     "end_time": "2017-11-26T02:14:35.803466Z",
     "start_time": "2017-11-26T02:14:35.796975Z"
    },
    "collapsed": false
   },
   "outputs": [],
   "source": [
    "start_index = 30\n",
    "increase_number = 10\n",
    "# end_index = start_index + increase_number\n",
    "end_index = len(code_list)\n",
    "\n",
    "reading_code = code_list[start_index : end_index]\n",
    "print(reading_code[-10:])\n",
    "print('Next start from {0}'.format(start_index + increase_number))"
   ]
  },
  {
   "cell_type": "markdown",
   "metadata": {},
   "source": [
    "# 保存した html ファイルからテーブル属性のみ読み込み、整形"
   ]
  },
  {
   "cell_type": "code",
   "execution_count": null,
   "metadata": {
    "ExecuteTime": {
     "end_time": "2017-12-09T22:12:56.766486Z",
     "start_time": "2017-12-09T22:12:56.763409Z"
    },
    "collapsed": true
   },
   "outputs": [],
   "source": [
    "code = 7203"
   ]
  },
  {
   "cell_type": "code",
   "execution_count": null,
   "metadata": {
    "ExecuteTime": {
     "end_time": "2017-12-09T22:12:58.022363Z",
     "start_time": "2017-12-09T22:12:57.532877Z"
    },
    "collapsed": false
   },
   "outputs": [],
   "source": [
    "# 保存した html からテーブル属性を読み込み\n",
    "tables = pd.read_html('/Users/Really/Stockyard/_kabutan_html/kabutan_{0}.html'.format(code), header=0)\n",
    "\n",
    "# 列数が 5 以下のテーブルを削除\n",
    "tables = list(filter(lambda x: len(x.columns) > 5, tables))"
   ]
  },
  {
   "cell_type": "code",
   "execution_count": null,
   "metadata": {
    "ExecuteTime": {
     "end_time": "2017-12-09T22:12:59.379222Z",
     "start_time": "2017-12-09T22:12:59.342266Z"
    },
    "collapsed": true
   },
   "outputs": [],
   "source": [
    "# 抽出用テーブルの作成\n",
    "pl_table = pd.DataFrame()\n",
    "fc_table = pd.DataFrame()\n",
    "qr_table = pd.DataFrame()\n",
    "bs_table = pd.DataFrame()\n",
    "\n",
    "# 必要なテーブルの抽出\n",
    "# リストを要素ごとに for で回す書き方\n",
    "for table in tables:\n",
    "    # 通期業績: profit and loss statement\n",
    "    if len(table.columns) == 8: \n",
    "        if (table.columns[-2] == \"１株配\") & (pl_table.shape[1] == 0): \n",
    "            pl_table = table.copy()\n",
    "    # 業績予想: forecast\n",
    "    if len(table.columns) >= 8: \n",
    "        if (table.columns[1] == \"修正日\") & (fc_table.shape[1] == 0): \n",
    "            fc_table = table.copy()\n",
    "    # 3ヶ月業績: quater\n",
    "    if len(table.columns) == 8: \n",
    "        if (table.columns[-2] == \"売上営業損益率\") & (qr_table.shape[1] == 0): \n",
    "            qr_table = table.copy()\n",
    "    # 財務: balance sheet\n",
    "    if len(table.columns) == 8: \n",
    "        if (table.columns[1] == \"１株純資産\") & (bs_table.shape[1] == 0): \n",
    "            bs_table = table.copy()"
   ]
  },
  {
   "cell_type": "markdown",
   "metadata": {},
   "source": [
    "## 整形処理"
   ]
  },
  {
   "cell_type": "code",
   "execution_count": null,
   "metadata": {
    "ExecuteTime": {
     "end_time": "2017-12-09T22:13:05.621051Z",
     "start_time": "2017-12-09T22:13:03.428048Z"
    },
    "collapsed": false
   },
   "outputs": [],
   "source": [
    "## pl_table (tables[3]) 通期業績\n",
    "\n",
    "# 株プロに無い項目: １株配\n",
    "\n",
    "# 全ての列項目がnullの行を除去\n",
    "pl_table = pl_table[~pl_table.isnull().all(axis=1)].reset_index(drop=True)\n",
    "\n",
    "# 予想値と前期比の行を除去\n",
    "pl_table = pl_table[~((pl_table['決算期'].str.contains('予')) | (pl_table['決算期'].str.contains('前期比')))].reset_index(drop=True)\n",
    "\n",
    "# 決算期列の要素を会計基準と決算期に分割、それぞれの列に代入(同時に会計基準列を新規作成)\n",
    "if not pl_table['決算期'].str.contains(' ').all():\n",
    "    pl_table['会計基準'] = list('J' * len(pl_table))\n",
    "else:\n",
    "    pl_table[['会計基準', '決算期']] = pd.DataFrame(list(pl_table['決算期'].str.split(' ')))\n",
    "\n",
    "# 列の並び替え\n",
    "pl_table = pl_table[['会計基準', '決算期', '売上高', '営業益', '経常益', '最終益', '１株益', '１株配', '発表日']]\n",
    "\n",
    "# 日付のパース、datetime.dateへの型変換、最終的に '－'  は NaT に置換される\n",
    "# pl_table['決算期'] = pl_table['決算期'].apply(lambda x: datetime.strptime(x, '%Y.%m').date()) # 日付ではないので文字列のままの方がいいかも？\n",
    "pl_table['発表日'] = pl_table.loc[pl_table['発表日'].str.match('\\d\\d/\\d\\d/\\d\\d'), '発表日'].apply(lambda x: parse(x, yearfirst=True).date())\n",
    "# pandasのTimestampへの型変換\n",
    "pl_table['発表日'] = pd.to_datetime(pl_table['発表日'], format='%Y-%m-%d')\n",
    "# pl_table['決算期'] = pd.to_datetime(pl_table['決算期'], format='%Y-%m-%d')\n",
    "\n",
    "# 数値の列の数値以外の文字列 ('－' 等) を NaN に置換\n",
    "num_col = ('売上高', '営業益', '経常益', '最終益', '１株益', '１株配')\n",
    "for key in num_col:\n",
    "    if pl_table[key].dtypes == object:\n",
    "        pl_table.loc[~pl_table[key].str.replace('.', '').str.isnumeric(), key] = np.nan # .str を2回も使わないといけないのはなんだか。。。\n",
    "        # pl_table.loc[pl_table[key].str.contains('－'), key] = np.nan # この書き方だと '－'  以外の文字列に対応できないので不安\n",
    "\n",
    "# 型変換\n",
    "# 辞書内包表記による一括変換\n",
    "pl_table = pl_table.astype({x: float for x in ('売上高', '営業益', '経常益', '最終益', '１株益', '１株配')})\n",
    "\n",
    "# 100万円単位換算\n",
    "million_col = ('売上高', '営業益', '経常益', '最終益')\n",
    "pl_table.loc[:, million_col] = pl_table.loc[:, million_col].apply(lambda x: x * 1000000)\n",
    "\n",
    "## fc_table (tables[4]) 業績予想\n",
    "\n",
    "fc_table.columns = ['会計基準', '決算期', '発表日', \n",
    "                                   '結合修正方向', '売上高修正方向', '営業益修正方向', '経常益修正方向', '最終益修正方向', '修正配当修正方向', \n",
    "                                   '予想売上高', '予想営業益', '予想経常益', '予想最終益', '予想修正配当',]\n",
    "\n",
    "# 不要行、不要列の削除、並び替え\n",
    "# 実績(と修正配当)はいる?いらない?\n",
    "# 実績の発表と同時に次の予想が出ているのでやっぱりここではいらないのかな?\n",
    "fc_table = fc_table.ix[fc_table.index % 2 == 0, ['会計基準', '決算期', '予想売上高', '予想営業益', '予想経常益', '予想最終益', '発表日']].reset_index(drop=True)\n",
    "fc_table = fc_table.ix[fc_table['決算期'] != '実績']\n",
    "\n",
    "# 会計基準の NaN 埋め\n",
    "# 同じ値を比較 (NaN 同士の比較は False になる仕様を利用)\n",
    "if fc_table.loc[0, '会計基準'] != fc_table.loc[0, '会計基準']:\n",
    "    fc_table.loc[0, '会計基準'] = 'J'\n",
    "fc_table['会計基準'] = fc_table['会計基準'].fillna(method='ffill')\n",
    "\n",
    "# 決算期の NaN 埋め\n",
    "fc_table['決算期'] = fc_table['決算期'].fillna(method='ffill')\n",
    "\n",
    "# 日付のパース、datetime.dateへの型変換、最終的に '－'  は NaT に置換される\n",
    "# fc_table['決算期'] = fc_table['決算期'].apply(lambda x: datetime.strptime(x, '%Y.%m').date()) # 日付ではないので文字列のままの方がいいかも？\n",
    "fc_table['発表日'] = fc_table.loc[fc_table['発表日'].str.match('\\d\\d/\\d\\d/\\d\\d'), '発表日'].apply(lambda x: parse(x, yearfirst=True).date())\n",
    "# pandasのTimestampへの型変換\n",
    "fc_table['発表日'] = pd.to_datetime(fc_table['発表日'], format='%Y-%m-%d')\n",
    "# fc_table['決算期'] = pd.to_datetime(fc_table['決算期'], format='%Y-%m-%d')\n",
    "\n",
    "# 数値の列の数値以外の文字列 ('－' 等) を NaN に置換\n",
    "num_col = ('予想売上高', '予想営業益', '予想経常益', '予想最終益')\n",
    "for key in num_col:\n",
    "    if fc_table[key].dtypes == object:\n",
    "        fc_table.loc[~fc_table[key].str.replace('.', '').str.isnumeric(), key] = np.nan # .str を2回も使わないといけないのはなんだか。。。\n",
    "        # fc_table.loc[fc_table[key].str.contains('－'), key] = np.nan # この書き方だと '－'  以外の文字列に対応できないので不安\n",
    "\n",
    "# 型変換\n",
    "# 辞書内包表記による一括変換\n",
    "fc_table = fc_table.astype({x: float for x in ('予想売上高', '予想営業益', '予想経常益', '予想最終益')})\n",
    "\n",
    "# 100万円単位換算\n",
    "million_col = ('予想売上高', '予想営業益', '予想経常益', '予想最終益')\n",
    "fc_table.loc[:, million_col] = fc_table.loc[:, million_col].apply(lambda x: x * 1000000)\n",
    "\n",
    "# 修正配当用の処理なので不要\n",
    "# '－'  を NaN に置換\n",
    "# fc_table.loc[~fc_table['修正配当'].str.isnumeric(), '修正配当'] = np.nan\n",
    "# 型変換\n",
    "# fc_table['修正配当'] = fc_table['修正配当'].astype(float)\n",
    "\n",
    "## qr_table (tables[8?]) ３ヵ月業績の推移【実績】(過去5年 + 前年同期比) 累積ではなく差分\n",
    "\n",
    "# 株プロに無い項目: 売上営業損益率 = 営業益 / 売上高?\n",
    "# 不要かな？\n",
    "# ちょっと株プロと見比べてみよう → １株益の値が揃わない\n",
    "# 修正発表があった項目は上書きされてしまっていると思われる\n",
    "# 修正の可能性を考えなければ累積の株プロよりこちらの方が使いやすいかも\n",
    "# 株プロで差分を作成するべきか?\n",
    "# 前年同期比はいらなそう\n",
    "\n",
    "# 全ての列項目がnullの行を除去\n",
    "qr_table = qr_table[~qr_table.isnull().all(axis=1)].reset_index(drop=True)\n",
    "\n",
    "# 前年同期比の行を除去\n",
    "qr_table = qr_table[~qr_table['決算期'].str.contains('前年同期比')].reset_index(drop=True)\n",
    "\n",
    "# 決算期列の要素を会計基準と決算期に分割、それぞれの列に代入(同時に会計基準列を新規作成)\n",
    "if not qr_table['決算期'].str.contains(' ').all():\n",
    "    qr_table['会計基準'] = list('J' * len(qr_table))\n",
    "    qr_table = qr_table.rename(columns={'決算期': 'Q期首'})\n",
    "else:\n",
    "    qr_table[['会計基準', 'Q期首']] = pd.DataFrame(list(qr_table['決算期'].str.split(' ')))\n",
    "\n",
    "# 列の並び替え\n",
    "qr_table = qr_table[['会計基準', 'Q期首', '売上高', '営業益', '経常益', '最終益', '１株益', '売上営業損益率', '発表日']]\n",
    "\n",
    "# 列名の変更\n",
    "qr_table.columns = ['会計基準', 'Q期首', 'Q売上高', 'Q営業益', 'Q経常益', 'Q最終益', 'Q１株益', 'Q売上営業損益率', '発表日']\n",
    "\n",
    "# 日付のパース、datetime.dateへの型変換、最終的に '－'  は NaT に置換される\n",
    "qr_table['Q期首'] = qr_table.loc[qr_table['Q期首'].str.match('\\d\\d.\\d\\d-\\d\\d'), 'Q期首'].apply(lambda x: \n",
    "                                                                                               parse(x.replace('-', '.'), yearfirst=True).date())\n",
    "qr_table['発表日'] = qr_table.loc[qr_table['発表日'].str.match('\\d\\d/\\d\\d/\\d\\d'), '発表日'].apply(lambda x: parse(x, yearfirst=True).date())\n",
    "# pandasのTimestampへの型変換\n",
    "qr_table['Q期首'] = pd.to_datetime(qr_table['Q期首'], format='%Y-%m-%d')\n",
    "qr_table['発表日'] = pd.to_datetime(qr_table['発表日'], format='%Y-%m-%d')\n",
    "\n",
    "# 数値の列の数値以外の文字列 ('－' 等) を NaN に置換\n",
    "num_col = ('Q売上高', 'Q営業益', 'Q経常益', 'Q最終益', 'Q１株益', 'Q売上営業損益率')\n",
    "for key in num_col:\n",
    "    if qr_table[key].dtypes == object:\n",
    "        qr_table.loc[~qr_table[key].str.replace('.', '').str.isnumeric(), key] = np.nan # .str を2回も使わないといけないのはなんだか。。。\n",
    "        # qr_table.loc[qr_table[key].str.contains('－'), key] = np.nan # この書き方だと '－'  以外の文字列に対応できないので不安\n",
    "\n",
    "# 型変換\n",
    "# 辞書内包表記による一括変換\n",
    "qr_table = qr_table.astype({x: float for x in ('Q売上高', 'Q営業益', 'Q経常益', 'Q最終益', 'Q１株益', 'Q売上営業損益率')})\n",
    "\n",
    "# 100万円単位換算\n",
    "million_col = ('Q売上高', 'Q営業益', 'Q経常益', 'Q最終益')\n",
    "qr_table.loc[:, million_col] = qr_table.loc[:, million_col].apply(lambda x: x * 1000000)\n",
    "\n",
    "## bs_table (tables[9?]) 財務 【実績】\n",
    "\n",
    "# 株プロに無い項目: 自己資本比率, 自己資本, 剰余金, 有利子負債倍率\n",
    "\n",
    "# 2000年以前の財務実績の発表日は全体的に信用できない\n",
    "# 1998年は何らかの日付で固定 or 捨て、1999年と2000年は通期業績の発表日と同じにする\n",
    "# 期間は株プロよりこちらの方が長い\n",
    "# 修正発表があった項目は上書きされてしまっていると思われる\n",
    "\n",
    "# 全ての列項目がnullの行を除去\n",
    "bs_table = bs_table[~bs_table.isnull().all(axis=1)].reset_index(drop=True)\n",
    "\n",
    "# 決算期列の要素を会計基準と決算期に分割、それぞれの列に代入(同時に会計基準列を新規作成)\n",
    "if not bs_table['決算期'].str.contains(' ').all():\n",
    "    bs_table['会計基準'] = list('J' * len(bs_table))\n",
    "else:\n",
    "    bs_table[['会計基準', '決算期']] = pd.DataFrame(list(bs_table['決算期'].str.split(' ')))\n",
    "\n",
    "# 列の並び替え\n",
    "bs_table = bs_table[['会計基準', '決算期', '１株純資産', '自己資本比率', '総資産', '自己資本', '剰余金', '有利子負債倍率', '発表日']]\n",
    "\n",
    "# 決算期が 'yyyy.mm' 表記ではない行は確定決算前と思われるので削除\n",
    "bs_table = bs_table[bs_table['決算期'].str.contains('\\d\\d\\d\\d.\\d\\d')].reset_index(drop=True)\n",
    "\n",
    "# 決算期が 1998.mm のデータは他のテーブルには無く、発表日も不自然なので行ごと削除\n",
    "bs_table = bs_table[~bs_table['決算期'].str.contains('1998.\\d\\d')].reset_index(drop=True)\n",
    "\n",
    "# 日付のパース、datetime.dateへの型変換、最終的に '－'  は NaT に置換される\n",
    "# bs_table['決算期'] = bs_table['決算期'].apply(lambda x: datetime.strptime(x, '%Y.%m').date()) # 日付ではないので文字列のままの方がいいかも？\n",
    "bs_table['発表日'] = bs_table.loc[bs_table['発表日'].str.match('\\d\\d/\\d\\d/\\d\\d'), '発表日'].apply(lambda x: parse(x, yearfirst=True).date())\n",
    "# pandasのTimestampへの型変換\n",
    "bs_table['発表日'] = pd.to_datetime(bs_table['発表日'], format='%Y-%m-%d')\n",
    "# bs_table['決算期'] = pd.to_datetime(bs_table['決算期'], format='%Y-%m-%d')\n",
    "\n",
    "# 発表日の欠損値を通期業績の発表日に置換\n",
    "for idx, date in bs_table['発表日'].iteritems():\n",
    "    if date != date:\n",
    "        bs_table.loc[idx, '発表日'] = pl_table.loc[pl_table['決算期'] == bs_table.loc[idx, '決算期'], '発表日'].values[0]\n",
    "\n",
    "# 数値の列の数値以外の文字列 ('－' 等) を NaN に置換\n",
    "num_col = ('１株純資産', '自己資本比率', '総資産', '自己資本', '剰余金', '有利子負債倍率')\n",
    "for key in num_col:\n",
    "    if bs_table[key].dtypes == object:\n",
    "        bs_table.loc[~bs_table[key].str.replace('.', '').str.isnumeric(), key] = np.nan # .str を2回も使わないといけないのはなんだか。。。\n",
    "        # bs_table.loc[bs_table[key].str.contains('－'), key] = np.nan # この書き方だと '－'  以外の文字列に対応できないので不安\n",
    "\n",
    "# 型変換\n",
    "# 辞書内包表記による一括変換\n",
    "bs_table = bs_table.astype({x: float for x in ('１株純資産', '自己資本比率', '総資産', '自己資本', '剰余金', '有利子負債倍率')})\n",
    "\n",
    "# 100万円単位換算\n",
    "million_col = ('総資産', '自己資本', '剰余金')\n",
    "bs_table.loc[:, million_col] = bs_table.loc[:, million_col].apply(lambda x: x * 1000000)"
   ]
  },
  {
   "cell_type": "markdown",
   "metadata": {},
   "source": [
    "# 内容の確認"
   ]
  },
  {
   "cell_type": "code",
   "execution_count": null,
   "metadata": {
    "ExecuteTime": {
     "end_time": "2017-12-09T22:13:31.253312Z",
     "start_time": "2017-12-09T22:13:31.225905Z"
    },
    "collapsed": false
   },
   "outputs": [],
   "source": [
    "# 通期業績\n",
    "pl_table\n",
    "# 株プロに無い項目: １株配"
   ]
  },
  {
   "cell_type": "code",
   "execution_count": null,
   "metadata": {
    "ExecuteTime": {
     "end_time": "2017-12-09T22:13:42.376433Z",
     "start_time": "2017-12-09T22:13:42.352234Z"
    },
    "collapsed": false
   },
   "outputs": [],
   "source": [
    "# 業績予想\n",
    "fc_table"
   ]
  },
  {
   "cell_type": "code",
   "execution_count": null,
   "metadata": {
    "ExecuteTime": {
     "end_time": "2017-12-09T22:13:56.505470Z",
     "start_time": "2017-12-09T22:13:56.477720Z"
    },
    "collapsed": false
   },
   "outputs": [],
   "source": [
    "# ３ヵ月業績の推移\n",
    "qr_table\n",
    "# 株プロに無い項目: 売上営業損益率 = 営業益 / 売上高?"
   ]
  },
  {
   "cell_type": "code",
   "execution_count": null,
   "metadata": {
    "ExecuteTime": {
     "end_time": "2017-12-09T22:14:10.292675Z",
     "start_time": "2017-12-09T22:14:10.266154Z"
    },
    "collapsed": false
   },
   "outputs": [],
   "source": [
    "# 財務\n",
    "bs_table\n",
    "# 株プロに無い項目: 自己資本比率, 自己資本, 剰余金, 有利子負債倍率"
   ]
  },
  {
   "cell_type": "code",
   "execution_count": null,
   "metadata": {
    "ExecuteTime": {
     "end_time": "2017-11-30T22:55:47.746134Z",
     "start_time": "2017-11-30T22:55:47.741243Z"
    },
    "collapsed": true
   },
   "outputs": [],
   "source": [
    "pl_table.columns"
   ]
  },
  {
   "cell_type": "code",
   "execution_count": null,
   "metadata": {
    "ExecuteTime": {
     "end_time": "2017-11-30T22:55:47.746134Z",
     "start_time": "2017-11-30T22:55:47.741243Z"
    },
    "collapsed": true
   },
   "outputs": [],
   "source": [
    "fc_table.columns"
   ]
  },
  {
   "cell_type": "code",
   "execution_count": null,
   "metadata": {
    "ExecuteTime": {
     "end_time": "2017-12-01T16:03:31.718902Z",
     "start_time": "2017-12-01T16:03:31.714242Z"
    },
    "collapsed": true
   },
   "outputs": [],
   "source": [
    "qr_table.columns"
   ]
  },
  {
   "cell_type": "code",
   "execution_count": null,
   "metadata": {
    "ExecuteTime": {
     "end_time": "2017-12-01T01:13:42.177537Z",
     "start_time": "2017-12-01T01:13:42.172727Z"
    },
    "collapsed": true
   },
   "outputs": [],
   "source": [
    "bs_table.columns"
   ]
  },
  {
   "cell_type": "code",
   "execution_count": null,
   "metadata": {
    "ExecuteTime": {
     "end_time": "2017-12-01T16:50:19.796244Z",
     "start_time": "2017-12-01T16:50:19.790487Z"
    },
    "collapsed": true
   },
   "outputs": [],
   "source": [
    "pl_table.dtypes"
   ]
  },
  {
   "cell_type": "code",
   "execution_count": null,
   "metadata": {
    "ExecuteTime": {
     "end_time": "2017-12-01T16:50:24.243535Z",
     "start_time": "2017-12-01T16:50:24.237600Z"
    },
    "collapsed": true
   },
   "outputs": [],
   "source": [
    "fc_table.dtypes"
   ]
  },
  {
   "cell_type": "code",
   "execution_count": null,
   "metadata": {
    "ExecuteTime": {
     "end_time": "2017-12-01T16:50:29.004022Z",
     "start_time": "2017-12-01T16:50:28.998266Z"
    },
    "collapsed": true
   },
   "outputs": [],
   "source": [
    "qr_table.dtypes"
   ]
  },
  {
   "cell_type": "code",
   "execution_count": null,
   "metadata": {
    "ExecuteTime": {
     "end_time": "2017-12-01T16:50:34.112370Z",
     "start_time": "2017-12-01T16:50:34.106325Z"
    },
    "collapsed": true
   },
   "outputs": [],
   "source": [
    "bs_table.dtypes"
   ]
  },
  {
   "cell_type": "code",
   "execution_count": null,
   "metadata": {
    "ExecuteTime": {
     "end_time": "2017-12-01T17:07:20.382734Z",
     "start_time": "2017-12-01T17:07:20.378199Z"
    },
    "collapsed": false
   },
   "outputs": [],
   "source": [
    "len(pl_table)"
   ]
  },
  {
   "cell_type": "code",
   "execution_count": null,
   "metadata": {
    "ExecuteTime": {
     "end_time": "2017-12-01T17:07:29.086788Z",
     "start_time": "2017-12-01T17:07:29.082487Z"
    },
    "collapsed": false
   },
   "outputs": [],
   "source": [
    "len(fc_table)"
   ]
  },
  {
   "cell_type": "code",
   "execution_count": null,
   "metadata": {
    "ExecuteTime": {
     "end_time": "2017-12-01T17:07:36.145673Z",
     "start_time": "2017-12-01T17:07:36.141114Z"
    },
    "collapsed": false
   },
   "outputs": [],
   "source": [
    "len(qr_table)"
   ]
  },
  {
   "cell_type": "code",
   "execution_count": null,
   "metadata": {
    "ExecuteTime": {
     "end_time": "2017-12-01T17:07:44.510441Z",
     "start_time": "2017-12-01T17:07:44.505479Z"
    },
    "collapsed": false
   },
   "outputs": [],
   "source": [
    "len(bs_table)"
   ]
  },
  {
   "cell_type": "markdown",
   "metadata": {},
   "source": [
    "# 結合"
   ]
  },
  {
   "cell_type": "code",
   "execution_count": null,
   "metadata": {
    "ExecuteTime": {
     "end_time": "2017-12-09T22:19:43.405480Z",
     "start_time": "2017-12-09T22:19:43.389475Z"
    },
    "collapsed": true
   },
   "outputs": [],
   "source": [
    "# 通期業績 & 財務\n",
    "merged_1 = pd.merge(pl_table, bs_table, on=['会計基準', '決算期', '発表日'], how='outer').sort_values('発表日')"
   ]
  },
  {
   "cell_type": "code",
   "execution_count": null,
   "metadata": {
    "ExecuteTime": {
     "end_time": "2017-12-09T22:19:44.437495Z",
     "start_time": "2017-12-09T22:19:44.432749Z"
    },
    "collapsed": false
   },
   "outputs": [],
   "source": [
    "merged_1.columns"
   ]
  },
  {
   "cell_type": "code",
   "execution_count": null,
   "metadata": {
    "ExecuteTime": {
     "end_time": "2017-12-09T22:20:10.959910Z",
     "start_time": "2017-12-09T22:20:10.917372Z"
    },
    "collapsed": false
   },
   "outputs": [],
   "source": [
    "merged_1[['会計基準', '発表日', '決算期', '売上高', '営業益', '経常益', '最終益', '１株益', '１株配', '１株純資産',\n",
    "       '自己資本比率', '総資産', '自己資本', '剰余金', '有利子負債倍率']]"
   ]
  },
  {
   "cell_type": "code",
   "execution_count": null,
   "metadata": {
    "ExecuteTime": {
     "end_time": "2017-12-09T22:23:09.033955Z",
     "start_time": "2017-12-09T22:23:09.022840Z"
    },
    "collapsed": false
   },
   "outputs": [],
   "source": [
    "# 通期業績 & 業績予想\n",
    "merged_2 = pd.merge(pl_table, fc_table, on=['会計基準', '決算期', '発表日'], how='outer').sort_values(['決算期', '発表日'])"
   ]
  },
  {
   "cell_type": "code",
   "execution_count": null,
   "metadata": {
    "ExecuteTime": {
     "end_time": "2017-12-09T22:23:09.916352Z",
     "start_time": "2017-12-09T22:23:09.911683Z"
    },
    "collapsed": false
   },
   "outputs": [],
   "source": [
    "merged_2.columns"
   ]
  },
  {
   "cell_type": "code",
   "execution_count": null,
   "metadata": {
    "ExecuteTime": {
     "end_time": "2017-12-09T22:23:12.013252Z",
     "start_time": "2017-12-09T22:23:11.962005Z"
    },
    "collapsed": false
   },
   "outputs": [],
   "source": [
    "merged_2[['会計基準', '発表日', '決算期', '売上高', '予想売上高', '営業益', '予想営業益', '経常益', '予想経常益', '最終益', '予想最終益', '１株益', '１株配']]"
   ]
  },
  {
   "cell_type": "code",
   "execution_count": null,
   "metadata": {
    "ExecuteTime": {
     "end_time": "2017-12-09T22:24:17.611141Z",
     "start_time": "2017-12-09T22:24:17.601141Z"
    },
    "collapsed": false
   },
   "outputs": [],
   "source": [
    "# 通期業績 & 四半期業績\n",
    "merged_3 = pd.merge(pl_table, qr_table, on=['会計基準', '発表日'], how='outer').sort_values(['発表日'])"
   ]
  },
  {
   "cell_type": "code",
   "execution_count": null,
   "metadata": {
    "ExecuteTime": {
     "end_time": "2017-12-09T22:24:18.278720Z",
     "start_time": "2017-12-09T22:24:18.273759Z"
    },
    "collapsed": false
   },
   "outputs": [],
   "source": [
    "merged_3.columns"
   ]
  },
  {
   "cell_type": "code",
   "execution_count": null,
   "metadata": {
    "ExecuteTime": {
     "end_time": "2017-12-09T22:24:20.599350Z",
     "start_time": "2017-12-09T22:24:20.542201Z"
    },
    "collapsed": false
   },
   "outputs": [],
   "source": [
    "merged_3[['会計基準', '発表日', '決算期', 'Q期首', '売上高', 'Q売上高', '営業益', 'Q営業益', '経常益', 'Q経常益', \n",
    "          '最終益', 'Q最終益', '１株益', 'Q１株益', '１株配', 'Q売上営業損益率']].reset_index(drop=True)"
   ]
  },
  {
   "cell_type": "code",
   "execution_count": null,
   "metadata": {
    "ExecuteTime": {
     "end_time": "2017-12-09T22:40:22.385063Z",
     "start_time": "2017-12-09T22:40:22.373529Z"
    },
    "collapsed": false
   },
   "outputs": [],
   "source": [
    "# すべて 通期業績 + 業績予想\n",
    "merged_all = pd.merge(pl_table, fc_table, on=['会計基準', '決算期', '発表日'], how='outer').sort_values(['発表日', '決算期'])"
   ]
  },
  {
   "cell_type": "code",
   "execution_count": null,
   "metadata": {
    "ExecuteTime": {
     "end_time": "2017-12-09T22:32:35.461103Z",
     "start_time": "2017-12-09T22:32:35.410159Z"
    },
    "collapsed": true
   },
   "outputs": [],
   "source": [
    "merged_all.reset_index(drop=True)"
   ]
  },
  {
   "cell_type": "code",
   "execution_count": null,
   "metadata": {
    "ExecuteTime": {
     "end_time": "2017-12-09T22:40:23.944692Z",
     "start_time": "2017-12-09T22:40:23.934211Z"
    },
    "collapsed": false
   },
   "outputs": [],
   "source": [
    "# すべて + 四半期業績\n",
    "merged_all = pd.merge(merged_all, qr_table, on=['会計基準', '発表日'], how='outer').sort_values(['発表日', '決算期'])"
   ]
  },
  {
   "cell_type": "code",
   "execution_count": null,
   "metadata": {
    "ExecuteTime": {
     "end_time": "2017-12-09T22:40:24.705340Z",
     "start_time": "2017-12-09T22:40:24.693902Z"
    },
    "collapsed": false
   },
   "outputs": [],
   "source": [
    "# すべて + 財務\n",
    "merged_all = pd.merge(merged_all, bs_table, on=['会計基準', '決算期', '発表日'], how='outer').sort_values(['発表日', '決算期'])"
   ]
  },
  {
   "cell_type": "code",
   "execution_count": null,
   "metadata": {
    "ExecuteTime": {
     "end_time": "2017-12-09T22:43:33.165860Z",
     "start_time": "2017-12-09T22:43:33.162517Z"
    },
    "collapsed": true
   },
   "outputs": [],
   "source": [
    "merged_all = merged_all.reset_index(drop=True)"
   ]
  },
  {
   "cell_type": "code",
   "execution_count": null,
   "metadata": {
    "ExecuteTime": {
     "end_time": "2017-12-09T22:33:30.683534Z",
     "start_time": "2017-12-09T22:33:30.678218Z"
    },
    "collapsed": false
   },
   "outputs": [],
   "source": [
    "merged_all.columns"
   ]
  },
  {
   "cell_type": "code",
   "execution_count": null,
   "metadata": {
    "ExecuteTime": {
     "end_time": "2017-12-09T22:40:34.508299Z",
     "start_time": "2017-12-09T22:40:34.502039Z"
    },
    "collapsed": true
   },
   "outputs": [],
   "source": [
    "merged_all = merged_all[['発表日', '決算期', 'Q期首', '会計基準', '売上高', '営業益', '経常益', '最終益', '１株益', '１株配', '予想売上高',\n",
    "       '予想営業益', '予想経常益', '予想最終益', 'Q売上高', 'Q営業益', 'Q経常益',\n",
    "       'Q最終益', 'Q１株益', 'Q売上営業損益率', '１株純資産', '自己資本比率', '総資産', '自己資本',\n",
    "       '剰余金', '有利子負債倍率']]"
   ]
  },
  {
   "cell_type": "code",
   "execution_count": null,
   "metadata": {
    "ExecuteTime": {
     "end_time": "2017-12-09T22:43:36.191365Z",
     "start_time": "2017-12-09T22:43:36.094327Z"
    },
    "collapsed": false
   },
   "outputs": [],
   "source": [
    "merged_all"
   ]
  },
  {
   "cell_type": "markdown",
   "metadata": {},
   "source": [
    "# 作成したテーブルの保存"
   ]
  },
  {
   "cell_type": "code",
   "execution_count": null,
   "metadata": {
    "collapsed": true
   },
   "outputs": [],
   "source": [
    "table_name = kt_7203"
   ]
  },
  {
   "cell_type": "code",
   "execution_count": null,
   "metadata": {
    "collapsed": true
   },
   "outputs": [],
   "source": [
    " write_table(table_name, merged_all)"
   ]
  },
  {
   "cell_type": "markdown",
   "metadata": {},
   "source": [
    "# 不要テーブル"
   ]
  },
  {
   "cell_type": "markdown",
   "metadata": {},
   "source": [
    "## tables[7] 銘柄概要"
   ]
  },
  {
   "cell_type": "code",
   "execution_count": null,
   "metadata": {
    "ExecuteTime": {
     "end_time": "2017-11-29T17:42:26.780140Z",
     "start_time": "2017-11-29T17:42:26.772980Z"
    },
    "collapsed": false
   },
   "outputs": [],
   "source": [
    "tables[7]"
   ]
  },
  {
   "cell_type": "markdown",
   "metadata": {},
   "source": [
    "##  tables[9] 銘柄概要"
   ]
  },
  {
   "cell_type": "code",
   "execution_count": null,
   "metadata": {
    "ExecuteTime": {
     "end_time": "2017-11-28T19:39:16.822485Z",
     "start_time": "2017-11-28T19:39:16.814788Z"
    },
    "collapsed": false
   },
   "outputs": [],
   "source": [
    "tables[9]"
   ]
  },
  {
   "cell_type": "markdown",
   "metadata": {},
   "source": [
    "## tables [10] ＰＥＲ ＰＢＲ 利回り 信用倍率 (データ取得日時点?)"
   ]
  },
  {
   "cell_type": "code",
   "execution_count": null,
   "metadata": {
    "ExecuteTime": {
     "end_time": "2017-11-28T19:39:26.181113Z",
     "start_time": "2017-11-28T19:39:26.171383Z"
    },
    "collapsed": false
   },
   "outputs": [],
   "source": [
    "tables[10]"
   ]
  },
  {
   "cell_type": "markdown",
   "metadata": {},
   "source": [
    "## tables[23] 過去最高 【実績】"
   ]
  },
  {
   "cell_type": "raw",
   "metadata": {},
   "source": [
    "不要かな？\n",
    "百万単位"
   ]
  },
  {
   "cell_type": "code",
   "execution_count": null,
   "metadata": {
    "ExecuteTime": {
     "end_time": "2017-11-28T19:50:50.132266Z",
     "start_time": "2017-11-28T19:50:50.119838Z"
    },
    "collapsed": false
   },
   "outputs": [],
   "source": [
    "tables[23]"
   ]
  },
  {
   "cell_type": "markdown",
   "metadata": {},
   "source": [
    "## tables[24] 下期業績 (過去3年 + 今年予想 + 前年同期比)"
   ]
  },
  {
   "cell_type": "raw",
   "metadata": {},
   "source": [
    "不要かな？\n",
    "ちょっと株プロと見比べてみたいけどめんどくさい\n",
    "百万単位"
   ]
  },
  {
   "cell_type": "code",
   "execution_count": null,
   "metadata": {
    "ExecuteTime": {
     "end_time": "2017-11-28T19:54:58.901926Z",
     "start_time": "2017-11-28T19:54:58.885834Z"
    },
    "collapsed": false,
    "scrolled": true
   },
   "outputs": [],
   "source": [
    "tables[24]"
   ]
  },
  {
   "cell_type": "code",
   "execution_count": null,
   "metadata": {
    "ExecuteTime": {
     "end_time": "2017-11-28T20:10:47.639415Z",
     "start_time": "2017-11-28T20:10:47.634584Z"
    },
    "collapsed": false
   },
   "outputs": [],
   "source": [
    "tables[24].columns"
   ]
  },
  {
   "cell_type": "markdown",
   "metadata": {},
   "source": [
    "## tables[25] 第２四半期累計決算【実績】 (過去3年 + 前年同期比)"
   ]
  },
  {
   "cell_type": "raw",
   "metadata": {},
   "source": [
    "不要かな？\n",
    "ちょっと株プロと見比べてみよう → 同じみたい\n",
    "対通期進捗率って経常益の最終的な通期実績に対して? 今年度分は予想に対して？\n",
    "百万単位"
   ]
  },
  {
   "cell_type": "code",
   "execution_count": null,
   "metadata": {
    "ExecuteTime": {
     "end_time": "2017-11-28T19:55:02.987430Z",
     "start_time": "2017-11-28T19:55:02.972635Z"
    },
    "collapsed": false
   },
   "outputs": [],
   "source": [
    "tables[25]"
   ]
  },
  {
   "cell_type": "code",
   "execution_count": null,
   "metadata": {
    "ExecuteTime": {
     "end_time": "2017-12-01T14:53:23.633140Z",
     "start_time": "2017-12-01T14:53:23.581341Z"
    },
    "collapsed": false
   },
   "outputs": [],
   "source": [
    "kabupro.ix[(kabupro['証券コード'] == code) & (kabupro['会計基準'] == '米国基準') & (kabupro['決算期間'] == '第2四半期'), \n",
    "           ['連結個別', '期首', '売上高', '営業利益', '経常利益', '純利益', '一株当り純利益', '情報公開日 (更新日)']].tail(3)"
   ]
  },
  {
   "cell_type": "code",
   "execution_count": null,
   "metadata": {
    "ExecuteTime": {
     "end_time": "2017-12-01T15:10:19.360173Z",
     "start_time": "2017-12-01T15:10:19.308983Z"
    },
    "collapsed": false
   },
   "outputs": [],
   "source": [
    "kabupro.ix[(kabupro['証券コード'] == code)& (kabupro['会計基準'] == '米国基準') & (kabupro['決算期間'].isin(['第2四半期', '通期'])), # \n",
    "           ['連結個別', '期首', '決算期間', '売上高', '営業利益', '経常利益', '純利益', '一株当り純利益', '情報公開日 (更新日)']].tail(5)"
   ]
  },
  {
   "cell_type": "code",
   "execution_count": null,
   "metadata": {
    "ExecuteTime": {
     "end_time": "2017-12-01T15:17:43.531263Z",
     "start_time": "2017-12-01T15:17:43.517393Z"
    },
    "collapsed": false
   },
   "outputs": [],
   "source": [
    "tables[12].tail(1)"
   ]
  },
  {
   "cell_type": "code",
   "execution_count": null,
   "metadata": {
    "ExecuteTime": {
     "end_time": "2017-11-28T20:02:06.222463Z",
     "start_time": "2017-11-28T20:02:06.217308Z"
    },
    "collapsed": false
   },
   "outputs": [],
   "source": [
    "# 比較参照用\n",
    "kabupro.columns"
   ]
  },
  {
   "cell_type": "markdown",
   "metadata": {},
   "source": [
    "## おしまい"
   ]
  },
  {
   "cell_type": "code",
   "execution_count": null,
   "metadata": {
    "ExecuteTime": {
     "end_time": "2017-11-28T19:57:33.702863Z",
     "start_time": "2017-11-28T19:57:33.422836Z"
    },
    "collapsed": false
   },
   "outputs": [],
   "source": [
    "tables[29]"
   ]
  }
 ],
 "metadata": {
  "kernelspec": {
   "display_name": "Python 3",
   "language": "python",
   "name": "python3"
  },
  "language_info": {
   "codemirror_mode": {
    "name": "ipython",
    "version": 3
   },
   "file_extension": ".py",
   "mimetype": "text/x-python",
   "name": "python",
   "nbconvert_exporter": "python",
   "pygments_lexer": "ipython3",
   "version": "3.6.0"
  },
  "toc": {
   "nav_menu": {},
   "number_sections": true,
   "sideBar": true,
   "skip_h1_title": false,
   "toc_cell": false,
   "toc_position": {},
   "toc_section_display": "block",
   "toc_window_display": false
  },
  "varInspector": {
   "cols": {
    "lenName": 16,
    "lenType": 16,
    "lenVar": 40
   },
   "kernels_config": {
    "python": {
     "delete_cmd_postfix": "",
     "delete_cmd_prefix": "del ",
     "library": "var_list.py",
     "varRefreshCmd": "print(var_dic_list())"
    },
    "r": {
     "delete_cmd_postfix": ") ",
     "delete_cmd_prefix": "rm(",
     "library": "var_list.r",
     "varRefreshCmd": "cat(var_dic_list()) "
    }
   },
   "position": {
    "height": "362px",
    "left": "983px",
    "right": "24px",
    "top": "120px",
    "width": "346px"
   },
   "types_to_exclude": [
    "module",
    "function",
    "builtin_function_or_method",
    "instance",
    "_Feature"
   ],
   "window_display": false
  }
 },
 "nbformat": 4,
 "nbformat_minor": 2
}
