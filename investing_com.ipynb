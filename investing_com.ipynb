{
 "cells": [
  {
   "cell_type": "markdown",
   "metadata": {},
   "source": [
    "# import"
   ]
  },
  {
   "cell_type": "code",
   "execution_count": null,
   "metadata": {
    "ExecuteTime": {
     "end_time": "2018-04-01T05:57:36.632648Z",
     "start_time": "2018-04-01T05:57:36.601403Z"
    }
   },
   "outputs": [],
   "source": [
    "import pandas as pd\n",
    "import os\n",
    "import sys\n",
    "import time\n",
    "import re\n",
    "import pathlib\n",
    "from selenium import webdriver\n",
    "from selenium.webdriver.common.keys import Keys\n",
    "from selenium.webdriver.support.select import Select\n",
    "from selenium.webdriver.support.ui import WebDriverWait\n",
    "from selenium.webdriver.common.by import By\n",
    "from selenium.webdriver.support import expected_conditions as EC\n",
    "from selenium.webdriver.chrome.options import Options\n",
    "from retry import retry"
   ]
  },
  {
   "cell_type": "code",
   "execution_count": null,
   "metadata": {
    "ExecuteTime": {
     "end_time": "2018-03-29T22:36:18.361442Z",
     "start_time": "2018-03-29T22:36:18.346128Z"
    }
   },
   "outputs": [],
   "source": [
    "# pandas の最大表示列数を設定 (max_rows で表示行数の設定も可能)\n",
    "pd.set_option('display.max_columns', 30)"
   ]
  },
  {
   "cell_type": "code",
   "execution_count": null,
   "metadata": {
    "ExecuteTime": {
     "end_time": "2018-03-30T04:01:39.263048Z",
     "start_time": "2018-03-30T04:01:39.261068Z"
    }
   },
   "outputs": [],
   "source": [
    "csv_path = \"D:\\stockyard\\investing\""
   ]
  },
  {
   "cell_type": "markdown",
   "metadata": {
    "ExecuteTime": {
     "end_time": "2018-03-27T21:57:30.351351Z",
     "start_time": "2018-03-27T21:57:30.335725Z"
    }
   },
   "source": [
    "# 'Show more' ボタン(Java Script)を手動で展開、名前を付けてページを保存"
   ]
  },
  {
   "cell_type": "code",
   "execution_count": null,
   "metadata": {
    "ExecuteTime": {
     "end_time": "2018-03-27T21:59:12.070662Z",
     "start_time": "2018-03-27T21:59:09.851691Z"
    }
   },
   "outputs": [],
   "source": [
    "# 保存した PC用 html からテーブルを読み込んでみる\n",
    "us_tables = pd.read_html(r\"D:\\stockyard\\investing\\United States Federal Reserve Interest Rate Decision.html\", header=0)"
   ]
  },
  {
   "cell_type": "code",
   "execution_count": null,
   "metadata": {
    "ExecuteTime": {
     "end_time": "2018-03-27T21:59:12.195676Z",
     "start_time": "2018-03-27T21:59:12.070662Z"
    }
   },
   "outputs": [],
   "source": [
    "for idx in range(len(us_tables)):\n",
    "    print(idx)\n",
    "    display(us_tables[idx])"
   ]
  },
  {
   "cell_type": "code",
   "execution_count": null,
   "metadata": {
    "ExecuteTime": {
     "end_time": "2018-03-27T21:59:37.669149Z",
     "start_time": "2018-03-27T21:59:35.481420Z"
    }
   },
   "outputs": [],
   "source": [
    "# 保存した PC用 html からテーブルを読み込んでみる\n",
    "ecb_tables = pd.read_html(r\"D:\\stockyard\\investing\\European Interest Rate Decision.html\", header=0)"
   ]
  },
  {
   "cell_type": "code",
   "execution_count": null,
   "metadata": {
    "ExecuteTime": {
     "end_time": "2018-03-27T21:59:38.809894Z",
     "start_time": "2018-03-27T21:59:38.700536Z"
    }
   },
   "outputs": [],
   "source": [
    "for idx in range(len(ecb_tables)):\n",
    "    print(idx)\n",
    "    display(ecb_tables[idx])"
   ]
  },
  {
   "cell_type": "code",
   "execution_count": null,
   "metadata": {
    "ExecuteTime": {
     "end_time": "2018-03-27T22:04:55.105265Z",
     "start_time": "2018-03-27T22:04:52.026790Z"
    }
   },
   "outputs": [],
   "source": [
    "# 保存した PC用 html からテーブルを読み込んでみる\n",
    "uk_tables = pd.read_html(r\"D:\\stockyard\\investing\\United Kingdom Interest Rate Decision.html\", header=0)"
   ]
  },
  {
   "cell_type": "code",
   "execution_count": null,
   "metadata": {
    "ExecuteTime": {
     "end_time": "2018-03-27T22:04:56.089718Z",
     "start_time": "2018-03-27T22:04:55.980332Z"
    }
   },
   "outputs": [],
   "source": [
    "for idx in range(len(uk_tables)):\n",
    "    print(idx)\n",
    "    display(uk_tables[idx])"
   ]
  },
  {
   "cell_type": "code",
   "execution_count": null,
   "metadata": {
    "ExecuteTime": {
     "end_time": "2018-03-27T22:08:20.459067Z",
     "start_time": "2018-03-27T22:08:18.662025Z"
    }
   },
   "outputs": [],
   "source": [
    "# 保存した PC用 html からテーブルを読み込んでみる\n",
    "jp_tables = pd.read_html(r\"D:\\stockyard\\investing\\Japan Interest Rate Decision.html\", header=0)"
   ]
  },
  {
   "cell_type": "code",
   "execution_count": null,
   "metadata": {
    "ExecuteTime": {
     "end_time": "2018-03-27T22:08:21.256025Z",
     "start_time": "2018-03-27T22:08:21.146637Z"
    }
   },
   "outputs": [],
   "source": [
    "for idx in range(len(jp_tables)):\n",
    "    print(idx)\n",
    "    display(jp_tables[idx])"
   ]
  },
  {
   "cell_type": "code",
   "execution_count": null,
   "metadata": {
    "ExecuteTime": {
     "end_time": "2018-03-27T22:12:31.726784Z",
     "start_time": "2018-03-27T22:12:28.648335Z"
    }
   },
   "outputs": [],
   "source": [
    "# 保存した PC用 html からテーブルを読み込んでみる\n",
    "aud_tables = pd.read_html(r\"D:\\stockyard\\investing\\Australia Interest Rate Decision.html\", header=0)"
   ]
  },
  {
   "cell_type": "code",
   "execution_count": null,
   "metadata": {
    "ExecuteTime": {
     "end_time": "2018-03-27T22:12:33.230143Z",
     "start_time": "2018-03-27T22:12:33.073882Z"
    }
   },
   "outputs": [],
   "source": [
    "for idx in range(len(aud_tables)):\n",
    "    print(idx)\n",
    "    display(aud_tables[idx])"
   ]
  },
  {
   "cell_type": "markdown",
   "metadata": {},
   "source": [
    "# selenium"
   ]
  },
  {
   "cell_type": "markdown",
   "metadata": {},
   "source": [
    "## 連続処理スクリプト"
   ]
  },
  {
   "cell_type": "code",
   "execution_count": null,
   "metadata": {
    "ExecuteTime": {
     "end_time": "2018-03-31T03:29:40.590345Z",
     "start_time": "2018-03-31T03:29:40.559501Z"
    }
   },
   "outputs": [],
   "source": [
    "%%writefile investing_com_script.py\n",
    "\n",
    "# import\n",
    "import pandas as pd\n",
    "import os\n",
    "import sys\n",
    "import time\n",
    "import re\n",
    "from selenium import webdriver\n",
    "from selenium.webdriver.common.keys import Keys\n",
    "from selenium.webdriver.support.select import Select\n",
    "from selenium.webdriver.support.ui import WebDriverWait\n",
    "from selenium.webdriver.common.by import By\n",
    "from selenium.webdriver.support import expected_conditions as EC\n",
    "from selenium.webdriver.chrome.options import Options\n",
    "from retry import retry\n",
    "\n",
    "# パスの設定\n",
    "# csv_path = \"D:\\stockyard\\investing\"\n",
    "# list_file = \"D:\\stockyard\\_csv\\investing_page_list.csv\"\n",
    "csv_path = '/home/hideshi_honma/stockyard/investing'\n",
    "list_file = '/home/hideshi_honma/stockyard/_csv/investing_page_list.csv'\n",
    "\n",
    "# リストファイルの準備\n",
    "if os.path.exists(list_file):\n",
    "    page_list = pd.read_csv(list_file, index_col=0)\n",
    "else:\n",
    "    page_list = pd.DataFrame()\n",
    "\n",
    "# ボタンをクリックする関数\n",
    "# 読み込みのタイミング遅延によるエラーを回避するには効果ないかも?\n",
    "@retry(tries=5, delay=1, backoff=2)\n",
    "def click_btn(btn):\n",
    "    btn.click()\n",
    "\n",
    "# ヘッドレス Chrome の WebDriver オブジェクトを作成する\n",
    "options = Options()\n",
    "options.add_argument('--headless')\n",
    "options.add_argument('--disable-gpu')\n",
    "options.add_argument('--lang=ja')\n",
    "driver = webdriver.Chrome(chrome_options=options)\n",
    "wait = WebDriverWait(driver, 10)\n",
    "\n",
    "# トップページを開く (ページ遷移によりログインポップアップを閉じるため)\n",
    "driver.get('https://www.investing.com/')\n",
    "print('Waiting for top page to be loaded...', file=sys.stderr)\n",
    "time.sleep(2)\n",
    "# タイトルに'Investing.com'が含まれていることを確認する\n",
    "assert 'Investing.com' in driver.title\n",
    "\n",
    "# テーブルの取得\n",
    "for num in range(1311, 1801):\n",
    "    url = 'https://www.investing.com/economic-calendar/-{0}'.format(num)\n",
    "    driver.get(url)\n",
    "    print('Waiting for contents {0} to be loaded...'.format(num), file=sys.stderr)\n",
    "    # driver.refresh()\n",
    "    time.sleep(2)\n",
    "\n",
    "    page_url = driver.current_url\n",
    "    print(page_url)\n",
    "    # ページにテーブルが無ければスキップする\n",
    "    # if 'No results found' not in driver.page_source:\n",
    "    if not page_url.startswith('https://www.investing.com/economic-calendar/-'):\n",
    "        page_title = driver.title\n",
    "        if page_title == \"\":\n",
    "            driver.refresh()\n",
    "            time.sleep(2)\n",
    "        print(page_title)\n",
    "        page_num = re.search(r'[0-9]+$', page_url).group()\n",
    "        print('page_num: {0}'.format(page_num))\n",
    "        \n",
    "        # ポップアップ対策\n",
    "        result = driver.page_source\n",
    "        if 'userDataPopup' in driver.page_source:\n",
    "            if driver.find_element_by_css_selector('a.newButton:nth-child(1)').is_displayed():\n",
    "                driver.find_element_by_css_selector('a.newButton:nth-child(1)').click()\n",
    "                print('PopUp clicked')\n",
    "                time.sleep(1)\n",
    "                driver.save_screenshot('screenshot_clicked.png')\n",
    "                with open('inv_{0}_clicked.html'.format(page_num), 'w', encoding='utf-8') as write_html:\n",
    "                    write_html.write(str(result))\n",
    "                driver.refresh()\n",
    "                time.sleep(2)\n",
    "        driver.save_screenshot('inv_screenshot.png')\n",
    "        #with open('inv_{0}.html'.format(page_num), 'w', encoding='utf-8') as write_html:\n",
    "        with open('inv_last.html', 'w', encoding='utf-8') as write_html:\n",
    "            write_html.write(str(result))\n",
    " \n",
    "        # 'Show more' ボタンがあれば押して続きを読み込む\n",
    "        if 'showMoreReplies' in driver.page_source:\n",
    "            show_more = driver.find_element_by_class_name('showMoreReplies')\n",
    "            count = 1\n",
    "            df_len = 0\n",
    "            while True:\n",
    "                if show_more.is_displayed():\n",
    "                    wait.until(EC.element_to_be_clickable((By.CLASS_NAME, 'showMoreReplies')))\n",
    "                    try:\n",
    "                        click_btn(show_more)\n",
    "                        print('page {0} show_more: {1}'.format(page_num, count))\n",
    "                        count += 1\n",
    "                        time.sleep(1)\n",
    "                    except Exception as e:\n",
    "                        print(e)\n",
    "                        result = driver.page_source\n",
    "                        with open('inv_clickFailed_{0}.html'.format(page_num), 'w', encoding='utf-8') as write_html:\n",
    "                            write_html.write(str(result))\n",
    "                        time.sleep(2)\n",
    "                    # 存在しないはずのボタンを無限に押し続けたことがあるためその対策\n",
    "                    # 実際に設定数以上のページがある可能性もあるので注意\n",
    "                    if count > 210:\n",
    "                        print('too much clicked: {0}'.format(page_num))\n",
    "                        result = driver.page_source\n",
    "                        with open('inv_tooMuchClicked_{0}.html'.format(page_num), 'w', encoding='utf-8') as write_html:\n",
    "                            write_html.write(str(result))\n",
    "                        break\n",
    "                else:\n",
    "                    break\n",
    "\n",
    "        # テーブルを取得、保存\n",
    "        df = pd.read_html(driver.page_source, header=0)[0]\n",
    "        df.to_csv('{0}/{1}_{2}.csv'.format(csv_path, page_num.zfill(4), re.sub('[ /.]', '_', page_title)),\n",
    "                 index=False)\n",
    "        print('length: {0}'.format(len(df)))\n",
    "        \n",
    "        # ページリストに情報を追加\n",
    "        page_info = pd.DataFrame({'title': page_title, 'url': page_url}, index=[page_num])\n",
    "        page_list = page_list.append(page_info)\n",
    "        page_list = page_list.drop_duplicates()\n",
    "        page_list.to_csv(list_file)\n",
    "\n",
    "    else:\n",
    "        print('No data in this page.')\n",
    "\n",
    "# driver を終了\n",
    "driver.quit()\n",
    "\n",
    "print('Finished.')\n"
   ]
  },
  {
   "cell_type": "code",
   "execution_count": null,
   "metadata": {
    "ExecuteTime": {
     "start_time": "2018-03-31T01:50:34.466Z"
    }
   },
   "outputs": [],
   "source": [
    "# こけた。その後、動作未確認\n",
    "!python investing_com_script.py"
   ]
  },
  {
   "cell_type": "markdown",
   "metadata": {},
   "source": [
    "## スクリプトを分割して動作確認、読み込み失敗分の再読み込みも"
   ]
  },
  {
   "cell_type": "code",
   "execution_count": null,
   "metadata": {
    "ExecuteTime": {
     "end_time": "2018-04-01T05:45:14.507739Z",
     "start_time": "2018-04-01T05:45:14.476919Z"
    }
   },
   "outputs": [],
   "source": [
    "# import\n",
    "import pandas as pd\n",
    "import os\n",
    "import sys\n",
    "import time\n",
    "import re\n",
    "from selenium import webdriver\n",
    "from selenium.webdriver.common.keys import Keys\n",
    "from selenium.webdriver.support.select import Select\n",
    "from selenium.webdriver.support.ui import WebDriverWait\n",
    "from selenium.webdriver.common.by import By\n",
    "from selenium.webdriver.support import expected_conditions as EC\n",
    "from selenium.webdriver.chrome.options import Options\n",
    "from retry import retry"
   ]
  },
  {
   "cell_type": "code",
   "execution_count": null,
   "metadata": {
    "ExecuteTime": {
     "end_time": "2018-04-01T05:45:18.414425Z",
     "start_time": "2018-04-01T05:45:18.383588Z"
    }
   },
   "outputs": [],
   "source": [
    "# パスの設定\n",
    "csv_path = \"D:\\stockyard\\investing\"\n",
    "list_file = \"D:\\stockyard\\_csv\\investing_page_list.csv\"\n",
    "# csv_path = '/home/hideshi_honma/stockyard/investing'\n",
    "# list_file = '/home/hideshi_honma/stockyard/_csv/investing_page_list.csv'"
   ]
  },
  {
   "cell_type": "code",
   "execution_count": null,
   "metadata": {
    "ExecuteTime": {
     "end_time": "2018-04-01T05:45:20.758385Z",
     "start_time": "2018-04-01T05:45:20.398973Z"
    }
   },
   "outputs": [],
   "source": [
    "# リストファイルの準備\n",
    "if os.path.exists(list_file):\n",
    "    page_list = pd.read_csv(list_file, index_col=0)\n",
    "else:\n",
    "    page_list = pd.DataFrame()"
   ]
  },
  {
   "cell_type": "code",
   "execution_count": null,
   "metadata": {
    "ExecuteTime": {
     "end_time": "2018-03-31T03:32:59.800912Z",
     "start_time": "2018-03-31T03:32:59.769917Z"
    },
    "collapsed": true
   },
   "outputs": [],
   "source": [
    "page_list"
   ]
  },
  {
   "cell_type": "code",
   "execution_count": null,
   "metadata": {
    "ExecuteTime": {
     "end_time": "2018-04-01T05:45:23.539970Z",
     "start_time": "2018-04-01T05:45:23.509121Z"
    }
   },
   "outputs": [],
   "source": [
    "# ボタンをクリックする関数\n",
    "@retry(tries=5, delay=1, backoff=2)\n",
    "def click_btn(btn):\n",
    "    btn.click()"
   ]
  },
  {
   "cell_type": "code",
   "execution_count": null,
   "metadata": {
    "ExecuteTime": {
     "end_time": "2018-03-30T07:40:40.890864Z",
     "start_time": "2018-03-30T07:40:36.145656Z"
    }
   },
   "outputs": [],
   "source": [
    "# ヘッドあり Chrome の WebDriver オブジェクトを作成する\n",
    "driver = webdriver.Chrome()"
   ]
  },
  {
   "cell_type": "code",
   "execution_count": null,
   "metadata": {
    "ExecuteTime": {
     "end_time": "2018-04-01T05:45:30.774905Z",
     "start_time": "2018-04-01T05:45:25.962059Z"
    }
   },
   "outputs": [],
   "source": [
    "# ヘッドレス Chrome の WebDriver オブジェクトを作成する\n",
    "options = Options()\n",
    "options.add_argument('--headless')\n",
    "options.add_argument('--disable-gpu')\n",
    "options.add_argument('--lang=ja')\n",
    "driver = webdriver.Chrome(chrome_options=options)\n",
    "wait = WebDriverWait(driver, 10)"
   ]
  },
  {
   "cell_type": "code",
   "execution_count": null,
   "metadata": {
    "ExecuteTime": {
     "end_time": "2018-04-01T05:45:40.583637Z",
     "start_time": "2018-04-01T05:45:32.306355Z"
    },
    "scrolled": true
   },
   "outputs": [],
   "source": [
    "# トップページを開く (ページ遷移によりログインポップアップを閉じるため)\n",
    "driver.get('https://www.investing.com/')\n",
    "print('Waiting for top page to be loaded...', file=sys.stderr)\n",
    "time.sleep(2)\n",
    "# タイトルに'Investing.com'が含まれていることを確認する\n",
    "assert 'Investing.com' in driver.title"
   ]
  },
  {
   "cell_type": "code",
   "execution_count": null,
   "metadata": {
    "ExecuteTime": {
     "end_time": "2018-04-01T12:58:49.605617Z",
     "start_time": "2018-04-01T12:58:49.602608Z"
    }
   },
   "outputs": [],
   "source": [
    "# 1340、リストになぜか名前だけ抜けてる"
   ]
  },
  {
   "cell_type": "code",
   "execution_count": null,
   "metadata": {
    "ExecuteTime": {
     "end_time": "2018-04-01T06:27:47.840387Z",
     "start_time": "2018-04-01T06:27:47.824761Z"
    }
   },
   "outputs": [],
   "source": [
    "# 再読み込み用、失敗分.html のパスを指定\n",
    "failed_dir = pathlib.Path()\n",
    "failed_dir"
   ]
  },
  {
   "cell_type": "code",
   "execution_count": null,
   "metadata": {
    "ExecuteTime": {
     "end_time": "2018-04-01T06:31:05.145363Z",
     "start_time": "2018-04-01T06:31:05.129737Z"
    },
    "collapsed": true
   },
   "outputs": [],
   "source": [
    "# 再読み込み用のページ番号リストを作成\n",
    "failed = []\n",
    "for file in failed_dir.iterdir():\n",
    "    failed.append(int(re.findall('([0-9]+).jpg', str(file))[0]))\n",
    "failed"
   ]
  },
  {
   "cell_type": "code",
   "execution_count": null,
   "metadata": {
    "ExecuteTime": {
     "end_time": "2018-04-01T05:47:46.655986Z",
     "start_time": "2018-04-01T05:45:49.381661Z"
    },
    "scrolled": true
   },
   "outputs": [],
   "source": [
    "# テーブルの取得\n",
    "#for num in range(1311, 1801): # ページ番号指定\n",
    "for num in failed: # 失敗分再読み込み用\n",
    "    url = 'https://www.investing.com/economic-calendar/-{0}'.format(num)\n",
    "    driver.get(url)\n",
    "    print('Waiting for contents {0} to be loaded...'.format(num), file=sys.stderr)\n",
    "    # driver.refresh()\n",
    "    time.sleep(2)\n",
    "\n",
    "    page_url = driver.current_url\n",
    "    print(page_url)\n",
    "    # ページにテーブルが無ければスキップする\n",
    "    # if 'No results found' not in driver.page_source:\n",
    "    if not page_url.startswith('https://www.investing.com/economic-calendar/-'):\n",
    "        page_title = driver.title\n",
    "        if page_title == \"\":\n",
    "            driver.refresh()\n",
    "            time.sleep(2)\n",
    "        print(page_title)\n",
    "        page_num = re.search(r'[0-9]+$', page_url).group()\n",
    "        print('page_num: {0}'.format(page_num))\n",
    "        \n",
    "        # ポップアップ対策\n",
    "        result = driver.page_source\n",
    "        if 'userDataPopup' in driver.page_source:\n",
    "            if driver.find_element_by_css_selector('a.newButton:nth-child(1)').is_displayed():\n",
    "                driver.find_element_by_css_selector('a.newButton:nth-child(1)').click()\n",
    "                print('PopUp clicked')\n",
    "                time.sleep(1)\n",
    "                driver.save_screenshot('screenshot_clicked.png')\n",
    "                with open('inv_{0}_clicked.html'.format(page_num), 'w', encoding='utf-8') as write_html:\n",
    "                    write_html.write(str(result))\n",
    "                driver.refresh()\n",
    "                time.sleep(2)\n",
    "        driver.save_screenshot('inv_screenshot.png')\n",
    "        #with open('inv_{0}.html'.format(page_num), 'w', encoding='utf-8') as write_html:\n",
    "        with open('inv_last.html', 'w', encoding='utf-8') as write_html:\n",
    "            write_html.write(str(result))\n",
    " \n",
    "        # 'Show more' ボタンがあれば押して続きを読み込む\n",
    "        if 'showMoreReplies' in driver.page_source:\n",
    "            show_more = driver.find_element_by_class_name('showMoreReplies')\n",
    "            count = 1\n",
    "            df_len = 0\n",
    "            while True:\n",
    "                if show_more.is_displayed():\n",
    "                    wait.until(EC.element_to_be_clickable((By.CLASS_NAME, 'showMoreReplies')))\n",
    "                    try:\n",
    "                        click_btn(show_more)\n",
    "                        print('page {0} show_more: {1}'.format(page_num, count))\n",
    "                        count += 1\n",
    "                        time.sleep(1)\n",
    "                    except Exception as e:\n",
    "                        print(e)\n",
    "                        result = driver.page_source\n",
    "                        with open('inv_clickFailed_{0}.html'.format(page_num), 'w', encoding='utf-8') as write_html:\n",
    "                            write_html.write(str(result))\n",
    "                        time.sleep(2)\n",
    "                    # 存在しないはずのボタンを無限に押し続けたことがあるためその対策\n",
    "                    # 実際に設定数以上のページがある可能性もあるので注意\n",
    "                    if count > 210:\n",
    "                        print('too much clicked: {0}'.format(page_num))\n",
    "                        result = driver.page_source\n",
    "                        with open('inv_tooMuchClicked_{0}.html'.format(page_num), 'w', encoding='utf-8') as write_html:\n",
    "                            write_html.write(str(result))\n",
    "                        break\n",
    "                else:\n",
    "                    break\n",
    "\n",
    "        # テーブルを取得、保存\n",
    "        df = pd.read_html(driver.page_source, header=0)[0]\n",
    "        df.to_csv('{0}/{1}_{2}.csv'.format(csv_path, page_num.zfill(4), re.sub('[ /.]', '_', page_title)),\n",
    "                 index=False)\n",
    "        print('length: {0}'.format(len(df)))\n",
    "        \n",
    "        # ページリストに情報を追加\n",
    "        page_info = pd.DataFrame({'title': page_title, 'url': page_url}, index=[page_num])\n",
    "        page_list = page_list.append(page_info)\n",
    "        page_list = page_list.drop_duplicates()\n",
    "        page_list.to_csv(list_file)\n",
    "\n",
    "    else:\n",
    "        print('No data in this page.')"
   ]
  },
  {
   "cell_type": "code",
   "execution_count": null,
   "metadata": {
    "ExecuteTime": {
     "end_time": "2018-04-01T05:48:03.393043Z",
     "start_time": "2018-04-01T05:48:00.314594Z"
    }
   },
   "outputs": [],
   "source": [
    "# driver を終了\n",
    "driver.quit()\n",
    "\n",
    "print('Finished.')"
   ]
  },
  {
   "cell_type": "code",
   "execution_count": null,
   "metadata": {
    "ExecuteTime": {
     "end_time": "2018-03-31T02:03:52.274997Z",
     "start_time": "2018-03-31T02:03:52.244173Z"
    },
    "collapsed": true
   },
   "outputs": [],
   "source": [
    "page_list"
   ]
  },
  {
   "cell_type": "code",
   "execution_count": null,
   "metadata": {
    "ExecuteTime": {
     "end_time": "2018-04-01T05:48:05.674533Z",
     "start_time": "2018-04-01T05:48:05.643716Z"
    },
    "collapsed": true
   },
   "outputs": [],
   "source": [
    "pd.read_csv(list_file, index_col=0)"
   ]
  },
  {
   "cell_type": "markdown",
   "metadata": {},
   "source": [
    "# GCEからアクセスした時に出るポップアップ対策"
   ]
  },
  {
   "cell_type": "code",
   "execution_count": null,
   "metadata": {
    "ExecuteTime": {
     "end_time": "2018-03-30T23:58:07.688820Z",
     "start_time": "2018-03-30T23:58:02.574699Z"
    }
   },
   "outputs": [],
   "source": [
    "# ChromeのWebDriverオブジェクトを作成する\n",
    "driver = webdriver.Chrome()"
   ]
  },
  {
   "cell_type": "code",
   "execution_count": null,
   "metadata": {
    "ExecuteTime": {
     "end_time": "2018-03-30T23:58:55.755665Z",
     "start_time": "2018-03-30T23:58:10.753071Z"
    }
   },
   "outputs": [],
   "source": [
    "driver.get(\"D:\\downloads\\inv_49.html\")"
   ]
  },
  {
   "cell_type": "code",
   "execution_count": null,
   "metadata": {
    "ExecuteTime": {
     "end_time": "2018-03-30T23:59:31.328887Z",
     "start_time": "2018-03-30T23:59:31.251176Z"
    }
   },
   "outputs": [],
   "source": [
    "'showMoreReplies' in driver.page_source"
   ]
  },
  {
   "cell_type": "code",
   "execution_count": null,
   "metadata": {
    "ExecuteTime": {
     "end_time": "2018-03-31T00:14:28.169583Z",
     "start_time": "2018-03-31T00:14:28.107525Z"
    }
   },
   "outputs": [],
   "source": [
    "'userDataPopup' in driver.page_source # How would you best describe yourself?"
   ]
  },
  {
   "cell_type": "code",
   "execution_count": null,
   "metadata": {},
   "outputs": [],
   "source": [
    "# a.newButton:nth-child(1) # Individual Investor\n",
    "# a.orange:nth-child(2) # Institutional Investor\n",
    "# .buttons > a:nth-child(3) # Financial Advisor\n",
    "# a.newButton:nth-child(4) # Active Trader"
   ]
  },
  {
   "cell_type": "code",
   "execution_count": null,
   "metadata": {
    "ExecuteTime": {
     "end_time": "2018-03-31T00:13:16.505147Z",
     "start_time": "2018-03-31T00:13:16.458267Z"
    }
   },
   "outputs": [],
   "source": [
    "driver.find_element_by_css_selector('a.newButton:nth-child(1)')"
   ]
  },
  {
   "cell_type": "code",
   "execution_count": null,
   "metadata": {
    "ExecuteTime": {
     "end_time": "2018-03-31T00:35:44.873234Z",
     "start_time": "2018-03-31T00:35:44.826341Z"
    }
   },
   "outputs": [],
   "source": [
    "driver.find_element_by_css_selector('a.newButton:nth-child(1)').is_displayed()"
   ]
  },
  {
   "cell_type": "code",
   "execution_count": null,
   "metadata": {
    "ExecuteTime": {
     "end_time": "2018-03-31T00:15:09.903770Z",
     "start_time": "2018-03-31T00:15:09.856071Z"
    }
   },
   "outputs": [],
   "source": [
    "driver.find_element_by_css_selector('a.newButton:nth-child(1)').click()"
   ]
  },
  {
   "cell_type": "code",
   "execution_count": null,
   "metadata": {
    "ExecuteTime": {
     "end_time": "2018-03-31T00:37:34.145998Z",
     "start_time": "2018-03-31T00:37:32.013716Z"
    }
   },
   "outputs": [],
   "source": [
    "if 'userDataPopup' in driver.page_source:\n",
    "    if driver.find_element_by_css_selector('a.newButton:nth-child(1)').is_displayed():\n",
    "        driver.find_element_by_css_selector('a.newButton:nth-child(1)').click()\n",
    "        time.sleep(2)"
   ]
  },
  {
   "cell_type": "code",
   "execution_count": null,
   "metadata": {
    "ExecuteTime": {
     "end_time": "2018-03-30T08:09:16.129208Z",
     "start_time": "2018-03-30T08:09:11.974829Z"
    }
   },
   "outputs": [],
   "source": [
    "driver.refresh()"
   ]
  },
  {
   "cell_type": "code",
   "execution_count": null,
   "metadata": {
    "ExecuteTime": {
     "end_time": "2018-03-31T01:48:01.929412Z",
     "start_time": "2018-03-31T01:47:58.819707Z"
    }
   },
   "outputs": [],
   "source": [
    "driver.quit()"
   ]
  }
 ],
 "metadata": {
  "kernelspec": {
   "display_name": "Python 3",
   "language": "python",
   "name": "python3"
  },
  "language_info": {
   "codemirror_mode": {
    "name": "ipython",
    "version": 3
   },
   "file_extension": ".py",
   "mimetype": "text/x-python",
   "name": "python",
   "nbconvert_exporter": "python",
   "pygments_lexer": "ipython3",
   "version": "3.6.4"
  },
  "toc": {
   "nav_menu": {},
   "number_sections": true,
   "sideBar": true,
   "skip_h1_title": false,
   "toc_cell": false,
   "toc_position": {},
   "toc_section_display": "block",
   "toc_window_display": false
  }
 },
 "nbformat": 4,
 "nbformat_minor": 2
}
