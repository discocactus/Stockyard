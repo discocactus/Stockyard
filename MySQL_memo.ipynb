{
 "cells": [
  {
   "cell_type": "markdown",
   "metadata": {},
   "source": [
    "# Import"
   ]
  },
  {
   "cell_type": "code",
   "execution_count": null,
   "metadata": {
    "collapsed": true
   },
   "outputs": [],
   "source": [
    "import numpy as np\n",
    "import pandas as pd\n",
    "import pandas.tseries.offsets as offsets\n",
    "import datetime as dt\n",
    "import time\n",
    "import importlib\n",
    "import logging\n",
    "from retry import retry\n",
    "#import traceback\n",
    "#from retrying import retry\n",
    "from sqlalchemy import create_engine\n",
    "from sqlalchemy.types import Date\n",
    "from sqlalchemy.types import Integer\n",
    "from sqlalchemy.types import Text\n",
    "\n",
    "import stock"
   ]
  },
  {
   "cell_type": "code",
   "execution_count": null,
   "metadata": {
    "collapsed": true
   },
   "outputs": [],
   "source": [
    "importlib.reload(stock)"
   ]
  },
  {
   "cell_type": "markdown",
   "metadata": {},
   "source": [
    "# MySQLに接続"
   ]
  },
  {
   "cell_type": "code",
   "execution_count": null,
   "metadata": {
    "collapsed": true
   },
   "outputs": [],
   "source": [
    "sql = stock.sql()"
   ]
  },
  {
   "cell_type": "code",
   "execution_count": null,
   "metadata": {
    "collapsed": true
   },
   "outputs": [],
   "source": [
    "help(sql)"
   ]
  },
  {
   "cell_type": "markdown",
   "metadata": {},
   "source": [
    "# MySQLに接続 (クラス不使用)"
   ]
  },
  {
   "cell_type": "code",
   "execution_count": null,
   "metadata": {
    "collapsed": true
   },
   "outputs": [],
   "source": [
    "db_settings = {\n",
    "    \"host\": 'localhost',\n",
    "    # \"database\": 'StockPrice_Yahoo_1',\n",
    "    \"database\": 'stockyard',\n",
    "    \"user\": 'user',\n",
    "    \"password\": 'password',\n",
    "    \"port\":'3306'\n",
    "}\n",
    "engine = create_engine('mysql://{user}:{password}@{host}:{port}/{database}'.format(**db_settings))"
   ]
  },
  {
   "cell_type": "markdown",
   "metadata": {},
   "source": [
    "# - Memo - MySQL クエリ"
   ]
  },
  {
   "cell_type": "code",
   "execution_count": null,
   "metadata": {
    "collapsed": true
   },
   "outputs": [],
   "source": [
    "# mysql>\n",
    "CREATE DATABASE StockPrice_Yahoo_1 DEFAULT CHARACTER SET utf8mb4;\n",
    "GRANT ALL ON StockPrice_Yahoo_1.* TO user@localhost IDENTIFIED BY 'password';\n",
    "GRANT ALL ON stockyard.* TO user@localhost IDENTIFIED BY 'password';\n",
    "show databases;\n",
    "use StockPrice_Yahoo_1;\n",
    "show tables;\n",
    "drop tables\n",
    "drop database\n",
    "select*from\n",
    "show columns from # テーブルの中に含まれるカラムの情報を取得する\n",
    "select*from t_1382 where Date between '2013-12-01' and '2013-12-31';\n",
    "select * from t_8848 order by Date desc limit 5; # 最後の5行"
   ]
  }
 ],
 "metadata": {
  "kernelspec": {
   "display_name": "Python 3",
   "language": "python",
   "name": "python3"
  },
  "language_info": {
   "codemirror_mode": {
    "name": "ipython",
    "version": 3
   },
   "file_extension": ".py",
   "mimetype": "text/x-python",
   "name": "python",
   "nbconvert_exporter": "python",
   "pygments_lexer": "ipython3",
   "version": "3.6.0"
  },
  "toc": {
   "nav_menu": {},
   "number_sections": true,
   "sideBar": true,
   "skip_h1_title": false,
   "toc_cell": false,
   "toc_position": {},
   "toc_section_display": "block",
   "toc_window_display": false
  },
  "varInspector": {
   "cols": {
    "lenName": 16,
    "lenType": 16,
    "lenVar": 40
   },
   "kernels_config": {
    "python": {
     "delete_cmd_postfix": "",
     "delete_cmd_prefix": "del ",
     "library": "var_list.py",
     "varRefreshCmd": "print(var_dic_list())"
    },
    "r": {
     "delete_cmd_postfix": ") ",
     "delete_cmd_prefix": "rm(",
     "library": "var_list.r",
     "varRefreshCmd": "cat(var_dic_list()) "
    }
   },
   "types_to_exclude": [
    "module",
    "function",
    "builtin_function_or_method",
    "instance",
    "_Feature"
   ],
   "window_display": false
  }
 },
 "nbformat": 4,
 "nbformat_minor": 2
}
