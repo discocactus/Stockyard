{
 "cells": [
  {
   "cell_type": "markdown",
   "metadata": {},
   "source": [
    "# - Memo - MySQL クエリ"
   ]
  },
  {
   "cell_type": "raw",
   "metadata": {
    "collapsed": true
   },
   "source": [
    "# mysql>\n",
    "CREATE DATABASE StockPrice_Yahoo_1 DEFAULT CHARACTER SET utf8mb4;\n",
    "GRANT ALL ON StockPrice_Yahoo_1.* TO user@localhost IDENTIFIED BY 'password';\n",
    "GRANT ALL ON stockyard.* TO user@localhost IDENTIFIED BY 'password';\n",
    "show databases;\n",
    "use StockPrice_Yahoo_1;\n",
    "show tables;\n",
    "drop tables\n",
    "drop database\n",
    "select*from\n",
    "show columns from # テーブルの中に含まれるカラムの情報を取得する\n",
    "select*from t_1382 where Date between '2013-12-01' and '2013-12-31';\n",
    "select * from t_8848 order by Date desc limit 5; # 最後の5行\n",
    "show variables like 'datadir';\n",
    "show variables like 'char%';"
   ]
  },
  {
   "cell_type": "raw",
   "metadata": {},
   "source": [
    "show variables like 'char%';\n",
    "\n",
    "character_set_client : クライアント側で発行したsql文はこの文字コードになる\n",
    "character_set_connection : クライアントから受け取った文字をこの文字コードへ変換する\n",
    "character_set_database : 現在参照しているDBの文字コード\n",
    "character_set_results : クライアントへ送信する検索結果はこの文字コードになる\n",
    "character_set_server : DB作成時のデフォルトの文字コード\n",
    "character_set_system : システムの使用する文字セットで常にutf8が使用されている\n"
   ]
  },
  {
   "cell_type": "markdown",
   "metadata": {},
   "source": [
    "# Import"
   ]
  },
  {
   "cell_type": "code",
   "execution_count": null,
   "metadata": {
    "ExecuteTime": {
     "end_time": "2018-01-28T22:00:07.754105Z",
     "start_time": "2018-01-28T22:00:05.300466Z"
    }
   },
   "outputs": [],
   "source": [
    "from __future__ import unicode_literals\n",
    "import numpy as np\n",
    "import pandas as pd\n",
    "import pandas.tseries.offsets as offsets\n",
    "import datetime as dt\n",
    "import time\n",
    "import importlib\n",
    "import logging\n",
    "from retry import retry\n",
    "#import traceback\n",
    "#from retrying import retry\n",
    "import sqlalchemy\n",
    "import sqlalchemy.orm\n",
    "from sqlalchemy import create_engine\n",
    "from sqlalchemy.types import Date\n",
    "from sqlalchemy.types import Integer\n",
    "from sqlalchemy.types import Text\n",
    "\n",
    "import stock"
   ]
  },
  {
   "cell_type": "code",
   "execution_count": null,
   "metadata": {
    "ExecuteTime": {
     "end_time": "2018-01-26T00:15:51.334822Z",
     "start_time": "2018-01-26T00:15:51.319221Z"
    }
   },
   "outputs": [],
   "source": [
    "%load_ext line_profiler"
   ]
  },
  {
   "cell_type": "code",
   "execution_count": null,
   "metadata": {
    "ExecuteTime": {
     "end_time": "2018-01-28T14:03:24.259205Z",
     "start_time": "2018-01-28T14:03:24.243595Z"
    }
   },
   "outputs": [],
   "source": [
    "importlib.reload(stock)"
   ]
  },
  {
   "cell_type": "code",
   "execution_count": null,
   "metadata": {
    "ExecuteTime": {
     "end_time": "2018-01-28T22:00:16.929929Z",
     "start_time": "2018-01-28T22:00:16.914290Z"
    }
   },
   "outputs": [],
   "source": [
    "# pandas の最大表示列数を設定 (max_rows で表示行数の設定も可能)\n",
    "pd.set_option('display.max_columns', 30)"
   ]
  },
  {
   "cell_type": "markdown",
   "metadata": {},
   "source": [
    "# MySQLに接続"
   ]
  },
  {
   "cell_type": "code",
   "execution_count": null,
   "metadata": {
    "ExecuteTime": {
     "end_time": "2018-01-28T22:00:21.211770Z",
     "start_time": "2018-01-28T22:00:21.180517Z"
    }
   },
   "outputs": [],
   "source": [
    "sql = stock.sql()"
   ]
  },
  {
   "cell_type": "code",
   "execution_count": null,
   "metadata": {
    "ExecuteTime": {
     "end_time": "2018-01-27T15:11:37.322221Z",
     "start_time": "2018-01-27T15:11:37.290934Z"
    }
   },
   "outputs": [],
   "source": [
    "help(sql)"
   ]
  },
  {
   "cell_type": "markdown",
   "metadata": {},
   "source": [
    "# MySQLに接続 (クラス不使用)"
   ]
  },
  {
   "cell_type": "code",
   "execution_count": null,
   "metadata": {
    "ExecuteTime": {
     "end_time": "2018-01-28T22:00:56.140804Z",
     "start_time": "2018-01-28T22:00:56.109973Z"
    }
   },
   "outputs": [],
   "source": [
    "db_settings = {\n",
    "    \"db\": 'mysql', # ドライバーは mysqldb になる。mysqlclient のこと？\n",
    "    # \"db\": 'mysql+mysqlconnector',\n",
    "    # \"db\": 'mysql+pymysql',\n",
    "    # \"host\": 'localhost',\n",
    "    \"host\": '127.0.0.1',\n",
    "    # \"host\": 'MyCon',\n",
    "    # \"database\": 'StockPrice_Yahoo_1',\n",
    "    \"database\": 'stockyard',\n",
    "    \"user\": 'user',\n",
    "    \"password\": 'password',\n",
    "    \"port\": '3306',\n",
    "    \"charset\": '?charset=utf8mb4'\n",
    "}\n",
    "# engine = create_engine('mysql://{user}:{password}@{host}:{port}/{database}'.format(**db_settings))\n",
    "engine = create_engine('{db}://{user}:{password}@{host}:{port}/{database}{charset}'.format(**db_settings))"
   ]
  },
  {
   "cell_type": "code",
   "execution_count": null,
   "metadata": {
    "ExecuteTime": {
     "end_time": "2018-01-28T01:35:21.145987Z",
     "start_time": "2018-01-28T01:35:21.114783Z"
    }
   },
   "outputs": [],
   "source": [
    "engine.url.get_driver_name()"
   ]
  },
  {
   "cell_type": "markdown",
   "metadata": {},
   "source": [
    "# pandasへデータの読み込み"
   ]
  },
  {
   "cell_type": "code",
   "execution_count": null,
   "metadata": {
    "ExecuteTime": {
     "end_time": "2018-01-28T13:28:41.179374Z",
     "start_time": "2018-01-28T13:28:41.101210Z"
    },
    "scrolled": true
   },
   "outputs": [],
   "source": [
    "df = pd.read_sql_query(\"select*from t_1301\", engine, index_col=None)\n",
    "df = df.set_index('Date')\n",
    "df.index = pd.to_datetime(df.index)\n",
    "df"
   ]
  },
  {
   "cell_type": "code",
   "execution_count": null,
   "metadata": {
    "ExecuteTime": {
     "end_time": "2018-01-28T13:28:44.195343Z",
     "start_time": "2018-01-28T13:28:44.164061Z"
    }
   },
   "outputs": [],
   "source": [
    "df.index.values"
   ]
  },
  {
   "cell_type": "code",
   "execution_count": null,
   "metadata": {
    "ExecuteTime": {
     "end_time": "2018-01-28T13:28:51.399184Z",
     "start_time": "2018-01-28T13:28:51.383558Z"
    }
   },
   "outputs": [],
   "source": [
    "type(df.index[0])"
   ]
  },
  {
   "cell_type": "code",
   "execution_count": null,
   "metadata": {
    "ExecuteTime": {
     "end_time": "2018-01-28T13:29:13.545587Z",
     "start_time": "2018-01-28T13:29:13.514718Z"
    }
   },
   "outputs": [],
   "source": [
    "df.loc['2000-01-04']"
   ]
  },
  {
   "cell_type": "code",
   "execution_count": null,
   "metadata": {
    "ExecuteTime": {
     "end_time": "2018-01-27T16:22:25.386309Z",
     "start_time": "2018-01-27T16:22:20.463930Z"
    }
   },
   "outputs": [],
   "source": [
    "# なぜかとても時間がかかるので使用不可\n",
    "pd.read_sql_table('t_1301', engine, index_col='Date')"
   ]
  },
  {
   "cell_type": "code",
   "execution_count": null,
   "metadata": {
    "ExecuteTime": {
     "end_time": "2018-01-27T16:22:39.724922Z",
     "start_time": "2018-01-27T16:22:39.662366Z"
    }
   },
   "outputs": [],
   "source": [
    "# This function is a convenience wrapper around read_sql_table and read_sql_query.\n",
    "# クエリが与えられた場合は read_sql_query として動作する\n",
    "pd.read_sql(\"select*from t_1301\", engine, index_col='Date')"
   ]
  },
  {
   "cell_type": "code",
   "execution_count": null,
   "metadata": {
    "ExecuteTime": {
     "end_time": "2018-01-27T16:27:09.135019Z",
     "start_time": "2018-01-27T16:27:06.900829Z"
    }
   },
   "outputs": [],
   "source": [
    "# テーブル名が与えられた場合は read_sql_table として動作する\n",
    "pd.read_sql(\"t_1301\", engine, index_col='Date')"
   ]
  },
  {
   "cell_type": "code",
   "execution_count": null,
   "metadata": {
    "ExecuteTime": {
     "end_time": "2018-01-27T16:33:57.195185Z",
     "start_time": "2018-01-27T16:33:57.132704Z"
    }
   },
   "outputs": [],
   "source": [
    "# DB の index 列をインデックスおよびラベル名として使用する。(インデックスとして適正な値かどうか注意が必要)\n",
    "pd.read_sql('select*from yahoo_info', engine, index_col='index')"
   ]
  },
  {
   "cell_type": "code",
   "execution_count": null,
   "metadata": {
    "ExecuteTime": {
     "end_time": "2018-01-27T16:33:50.053059Z",
     "start_time": "2018-01-27T16:33:49.959301Z"
    }
   },
   "outputs": [],
   "source": [
    "# DB の index 列を使用せず破棄する。インデックスはリセットされる。ラベル名なし。\n",
    "pd.read_sql('select*from yahoo_info', engine, index_col=None).drop('index', axis=1)"
   ]
  },
  {
   "cell_type": "code",
   "execution_count": null,
   "metadata": {
    "ExecuteTime": {
     "end_time": "2018-01-28T03:17:31.223509Z",
     "start_time": "2018-01-28T03:17:30.817181Z"
    },
    "scrolled": true
   },
   "outputs": [],
   "source": [
    "# DB の id 列が 1 から振ってあるのでインデックス 0 のラベル名は 1 になる。\n",
    "yf = pd.read_sql('select*from yahoo_fundamental', engine, index_col='id')\n",
    "yf"
   ]
  },
  {
   "cell_type": "code",
   "execution_count": null,
   "metadata": {
    "ExecuteTime": {
     "end_time": "2018-01-27T16:57:00.827665Z",
     "start_time": "2018-01-27T16:57:00.796420Z"
    }
   },
   "outputs": [],
   "source": [
    "# ラベル名に int は使用できないのかも？この場合ラベル名による行指定はエラーになる。\n",
    "yf.loc['1']"
   ]
  },
  {
   "cell_type": "code",
   "execution_count": null,
   "metadata": {
    "ExecuteTime": {
     "end_time": "2018-01-27T16:59:43.791476Z",
     "start_time": "2018-01-27T16:59:43.775797Z"
    }
   },
   "outputs": [],
   "source": [
    "yf.iloc[0:1]"
   ]
  },
  {
   "cell_type": "code",
   "execution_count": null,
   "metadata": {
    "ExecuteTime": {
     "end_time": "2018-01-27T16:14:36.276990Z",
     "start_time": "2018-01-27T16:14:36.198890Z"
    }
   },
   "outputs": [],
   "source": [
    "sql.get_info('yahoo_info')"
   ]
  },
  {
   "cell_type": "code",
   "execution_count": null,
   "metadata": {
    "ExecuteTime": {
     "end_time": "2018-01-27T16:14:46.341665Z",
     "start_time": "2018-01-27T16:14:46.201425Z"
    }
   },
   "outputs": [],
   "source": [
    "sql.get_new_added_stock_code()"
   ]
  },
  {
   "cell_type": "code",
   "execution_count": null,
   "metadata": {
    "ExecuteTime": {
     "end_time": "2018-01-28T01:36:47.263448Z",
     "start_time": "2018-01-28T01:36:47.169692Z"
    },
    "collapsed": true
   },
   "outputs": [],
   "source": [
    "sql.get_price(1301)"
   ]
  },
  {
   "cell_type": "code",
   "execution_count": null,
   "metadata": {
    "ExecuteTime": {
     "end_time": "2018-01-27T16:15:03.457368Z",
     "start_time": "2018-01-27T16:15:03.379221Z"
    }
   },
   "outputs": [],
   "source": [
    "sql.get_yahoo_info()"
   ]
  },
  {
   "cell_type": "code",
   "execution_count": null,
   "metadata": {
    "ExecuteTime": {
     "end_time": "2018-01-27T16:15:17.662418Z",
     "start_time": "2018-01-27T16:15:17.458830Z"
    }
   },
   "outputs": [],
   "source": [
    "sql.get_yahoo_stock_code()"
   ]
  },
  {
   "cell_type": "code",
   "execution_count": null,
   "metadata": {
    "ExecuteTime": {
     "end_time": "2018-01-27T16:15:22.599987Z",
     "start_time": "2018-01-27T16:15:22.506227Z"
    }
   },
   "outputs": [],
   "source": [
    "sql.read_table('domestic_stock_table', index_col='index')"
   ]
  },
  {
   "cell_type": "code",
   "execution_count": null,
   "metadata": {
    "ExecuteTime": {
     "end_time": "2018-01-27T16:15:30.539324Z",
     "start_time": "2018-01-27T16:15:30.445564Z"
    }
   },
   "outputs": [],
   "source": [
    "sql.read_table('kt_1301', 'index')"
   ]
  },
  {
   "cell_type": "code",
   "execution_count": null,
   "metadata": {
    "ExecuteTime": {
     "end_time": "2018-01-27T16:15:49.248783Z",
     "start_time": "2018-01-27T16:15:49.201902Z"
    }
   },
   "outputs": [],
   "source": [
    "sql.read_table('yahoo_fundamental', 'id')"
   ]
  },
  {
   "cell_type": "code",
   "execution_count": null,
   "metadata": {
    "ExecuteTime": {
     "end_time": "2018-01-27T16:15:55.718360Z",
     "start_time": "2018-01-27T16:15:55.687132Z"
    }
   },
   "outputs": [],
   "source": [
    "sql.statement_query('select*from yahoo_fundamental')"
   ]
  },
  {
   "cell_type": "markdown",
   "metadata": {},
   "source": [
    "# pandasから書き込み"
   ]
  },
  {
   "cell_type": "markdown",
   "metadata": {},
   "source": [
    "__全体的に遅く処理速度が不安定。要調査、修正。__"
   ]
  },
  {
   "cell_type": "code",
   "execution_count": null,
   "metadata": {
    "ExecuteTime": {
     "end_time": "2018-01-27T17:33:12.879875Z",
     "start_time": "2018-01-27T17:33:12.411111Z"
    },
    "scrolled": true
   },
   "outputs": [],
   "source": [
    "price = sql.get_price(1301)\n",
    "price"
   ]
  },
  {
   "cell_type": "code",
   "execution_count": null,
   "metadata": {
    "ExecuteTime": {
     "end_time": "2018-01-28T01:37:44.714472Z",
     "start_time": "2018-01-28T01:37:39.207757Z"
    }
   },
   "outputs": [],
   "source": [
    "# 遅い。5～6秒。何に時間がかかっているの要調査。\n",
    "code = 1000\n",
    "sql.write_price(code, price)"
   ]
  },
  {
   "cell_type": "code",
   "execution_count": null,
   "metadata": {
    "ExecuteTime": {
     "end_time": "2018-01-27T17:10:02.331271Z",
     "start_time": "2018-01-27T17:10:02.253137Z"
    },
    "scrolled": true
   },
   "outputs": [],
   "source": [
    "sql.get_price(1000)"
   ]
  },
  {
   "cell_type": "code",
   "execution_count": null,
   "metadata": {
    "ExecuteTime": {
     "end_time": "2018-01-27T17:33:37.369976Z",
     "start_time": "2018-01-27T17:33:33.353475Z"
    }
   },
   "outputs": [],
   "source": [
    "# なぜか2秒以下だったこともあるが、ほとんどの場合4秒以上かかる。\n",
    "# 型は問題なさそう。ただし別途 Date を Primary Key に設定する必要がある。\n",
    "table_name = 't_1001'\n",
    "price.to_sql(table_name, engine, if_exists='replace')"
   ]
  },
  {
   "cell_type": "code",
   "execution_count": null,
   "metadata": {
    "ExecuteTime": {
     "end_time": "2018-01-27T17:21:49.068161Z",
     "start_time": "2018-01-27T17:21:49.005654Z"
    },
    "scrolled": true
   },
   "outputs": [],
   "source": [
    "t_1001 = sql.get_price(1001)\n",
    "t_1001"
   ]
  },
  {
   "cell_type": "code",
   "execution_count": null,
   "metadata": {
    "ExecuteTime": {
     "end_time": "2018-01-27T17:22:00.538438Z",
     "start_time": "2018-01-27T17:22:00.522760Z"
    }
   },
   "outputs": [],
   "source": [
    "t_1001.dtypes"
   ]
  },
  {
   "cell_type": "code",
   "execution_count": null,
   "metadata": {
    "ExecuteTime": {
     "end_time": "2018-01-27T17:11:32.071589Z",
     "start_time": "2018-01-27T17:11:31.571511Z"
    }
   },
   "outputs": [],
   "source": [
    "info = sql.get_yahoo_info()\n",
    "info"
   ]
  },
  {
   "cell_type": "code",
   "execution_count": null,
   "metadata": {
    "ExecuteTime": {
     "end_time": "2018-01-27T17:37:18.345094Z",
     "start_time": "2018-01-27T17:37:13.797699Z"
    }
   },
   "outputs": [],
   "source": [
    "table_name = 'test_info'\n",
    "sql.write_info(table_name, info)"
   ]
  },
  {
   "cell_type": "code",
   "execution_count": null,
   "metadata": {
    "ExecuteTime": {
     "end_time": "2018-01-27T17:13:38.615112Z",
     "start_time": "2018-01-27T17:13:38.536980Z"
    }
   },
   "outputs": [],
   "source": [
    "sql.get_info('test_info')"
   ]
  },
  {
   "cell_type": "code",
   "execution_count": null,
   "metadata": {
    "ExecuteTime": {
     "end_time": "2018-01-27T17:05:02.973776Z",
     "start_time": "2018-01-27T17:05:02.880044Z"
    }
   },
   "outputs": [],
   "source": [
    "df = sql.read_table('kt_1301', 'index')\n",
    "df"
   ]
  },
  {
   "cell_type": "code",
   "execution_count": null,
   "metadata": {
    "ExecuteTime": {
     "end_time": "2018-01-27T17:37:31.799497Z",
     "start_time": "2018-01-27T17:37:28.908680Z"
    }
   },
   "outputs": [],
   "source": [
    "table_name = 'test_table'\n",
    "table = df\n",
    "sql.write_table(table_name, table)"
   ]
  },
  {
   "cell_type": "code",
   "execution_count": null,
   "metadata": {
    "ExecuteTime": {
     "end_time": "2018-01-27T17:04:42.439364Z",
     "start_time": "2018-01-27T17:04:42.346057Z"
    }
   },
   "outputs": [],
   "source": [
    "sql.read_table('test_table', 'index')"
   ]
  },
  {
   "cell_type": "markdown",
   "metadata": {},
   "source": [
    "# 処理遅延の原因究明のための各種動作確認"
   ]
  },
  {
   "cell_type": "code",
   "execution_count": null,
   "metadata": {
    "ExecuteTime": {
     "end_time": "2018-01-28T14:04:20.614978Z",
     "start_time": "2018-01-28T14:04:20.552491Z"
    }
   },
   "outputs": [],
   "source": [
    "df = sql.get_price(1301)"
   ]
  },
  {
   "cell_type": "code",
   "execution_count": null,
   "metadata": {
    "ExecuteTime": {
     "end_time": "2018-01-28T14:04:21.677593Z",
     "start_time": "2018-01-28T14:04:21.646338Z"
    },
    "collapsed": true
   },
   "outputs": [],
   "source": [
    "df"
   ]
  },
  {
   "cell_type": "code",
   "execution_count": null,
   "metadata": {
    "ExecuteTime": {
     "end_time": "2018-01-28T14:04:26.162984Z",
     "start_time": "2018-01-28T14:04:26.147753Z"
    }
   },
   "outputs": [],
   "source": [
    "df.dtypes"
   ]
  },
  {
   "cell_type": "code",
   "execution_count": null,
   "metadata": {
    "ExecuteTime": {
     "end_time": "2018-01-28T14:04:29.961263Z",
     "start_time": "2018-01-28T14:04:29.945635Z"
    }
   },
   "outputs": [],
   "source": [
    "type(df.index[0])"
   ]
  },
  {
   "cell_type": "code",
   "execution_count": null,
   "metadata": {
    "ExecuteTime": {
     "end_time": "2018-01-28T14:04:30.664461Z",
     "start_time": "2018-01-28T14:04:30.633229Z"
    }
   },
   "outputs": [],
   "source": [
    "df.loc['2000-01-04']"
   ]
  },
  {
   "cell_type": "code",
   "execution_count": null,
   "metadata": {
    "ExecuteTime": {
     "end_time": "2018-01-28T22:01:05.376513Z",
     "start_time": "2018-01-28T22:01:05.251503Z"
    },
    "scrolled": true
   },
   "outputs": [],
   "source": [
    "df = pd.read_sql('select*from t_1301', engine)\n",
    "df['Date'] = pd.to_datetime(df['Date'])#.dt.strftime(\"%Y-%m-%d\")\n",
    "df"
   ]
  },
  {
   "cell_type": "code",
   "execution_count": null,
   "metadata": {
    "ExecuteTime": {
     "end_time": "2018-01-28T14:10:17.413604Z",
     "start_time": "2018-01-28T14:10:17.398426Z"
    }
   },
   "outputs": [],
   "source": [
    "df.dtypes"
   ]
  },
  {
   "cell_type": "code",
   "execution_count": null,
   "metadata": {
    "ExecuteTime": {
     "end_time": "2018-01-28T14:04:57.095175Z",
     "start_time": "2018-01-28T14:04:57.079501Z"
    }
   },
   "outputs": [],
   "source": [
    "type(df['Date'][0])"
   ]
  },
  {
   "cell_type": "code",
   "execution_count": null,
   "metadata": {
    "ExecuteTime": {
     "end_time": "2018-01-28T14:04:58.282753Z",
     "start_time": "2018-01-28T14:04:58.267576Z"
    }
   },
   "outputs": [],
   "source": [
    "ds = df.loc[0]\n",
    "ds"
   ]
  },
  {
   "cell_type": "code",
   "execution_count": null,
   "metadata": {
    "ExecuteTime": {
     "end_time": "2018-01-28T14:13:29.429776Z",
     "start_time": "2018-01-28T14:13:29.414150Z"
    }
   },
   "outputs": [],
   "source": [
    "dd = list(dict(df.iloc[0]))\n",
    "dd"
   ]
  },
  {
   "cell_type": "code",
   "execution_count": null,
   "metadata": {
    "ExecuteTime": {
     "end_time": "2018-01-28T22:01:13.224267Z",
     "start_time": "2018-01-28T22:01:12.864880Z"
    }
   },
   "outputs": [],
   "source": [
    "dl = df.to_dict('records')\n",
    "dl"
   ]
  },
  {
   "cell_type": "code",
   "execution_count": null,
   "metadata": {
    "ExecuteTime": {
     "end_time": "2018-01-28T22:02:12.553420Z",
     "start_time": "2018-01-28T22:02:11.131355Z"
    }
   },
   "outputs": [],
   "source": [
    "import MySQLdb\n",
    "\n",
    "conn = MySQLdb.connect(db='stockyard', user='user', passwd='password', charset='utf8mb4')\n",
    "\n",
    "c = conn.cursor()\n",
    "c.execute('DROP TABLE IF EXISTS t_1002')\n",
    "c.execute('''\n",
    "    CREATE TABLE t_1002 (\n",
    "        Date date,\n",
    "        Open integer,\n",
    "        High integer,\n",
    "        Low integer,\n",
    "        Close integer,\n",
    "        Volume integer,\n",
    "        AdjClose double\n",
    "    )\n",
    "''')\n",
    "\n",
    "c.executemany('INSERT INTO t_1002 VALUES '\n",
    "              '(%(Date)s, %(Open)s, %(High)s, %(Low)s, %(Close)s, %(Volume)s, %(AdjClose)s)', dl)\n",
    "\n",
    "conn.commit()"
   ]
  },
  {
   "cell_type": "code",
   "execution_count": null,
   "metadata": {
    "ExecuteTime": {
     "end_time": "2018-01-28T14:33:54.027353Z",
     "start_time": "2018-01-28T14:33:53.480394Z"
    }
   },
   "outputs": [],
   "source": [
    "c.execute('SELECT * FROM t_1002')\n",
    "for row in c.fetchall():\n",
    "    print(row)\n",
    "    \n",
    "conn.close()"
   ]
  },
  {
   "cell_type": "code",
   "execution_count": null,
   "metadata": {
    "ExecuteTime": {
     "end_time": "2018-01-28T14:33:55.886905Z",
     "start_time": "2018-01-28T14:33:55.808768Z"
    }
   },
   "outputs": [],
   "source": [
    " sql.get_price(1002)"
   ]
  },
  {
   "cell_type": "code",
   "execution_count": null,
   "metadata": {
    "ExecuteTime": {
     "end_time": "2018-01-26T06:59:57.757620Z",
     "start_time": "2018-01-26T06:59:57.695505Z"
    }
   },
   "outputs": [],
   "source": [
    "pd.read_csv(r\"C:\\Users\\Really\\GitHub\\Stockyard\\_csv\\info.csv\")"
   ]
  },
  {
   "cell_type": "code",
   "execution_count": null,
   "metadata": {
    "ExecuteTime": {
     "end_time": "2018-01-26T06:41:31.080730Z",
     "start_time": "2018-01-26T06:41:30.705690Z"
    }
   },
   "outputs": [],
   "source": [
    "import MySQLdb\n",
    "\n",
    "conn = MySQLdb.connect(db='stockyard', user='user', passwd='password', charset='utf8mb4')\n",
    "\n",
    "c = conn.cursor()\n",
    "\n",
    "c.execute('SELECT * FROM t_1301')\n",
    "for row in c.fetchall():\n",
    "    print(row)\n",
    "    \n",
    "conn.close()"
   ]
  },
  {
   "cell_type": "code",
   "execution_count": null,
   "metadata": {
    "ExecuteTime": {
     "end_time": "2018-01-26T06:43:35.235093Z",
     "start_time": "2018-01-26T06:43:35.203782Z"
    }
   },
   "outputs": [],
   "source": [
    "pd.read_sql_table('t_1301', conn, index_col='Date')"
   ]
  },
  {
   "cell_type": "code",
   "execution_count": null,
   "metadata": {
    "ExecuteTime": {
     "end_time": "2018-01-26T08:45:39.628991Z",
     "start_time": "2018-01-26T08:45:39.613381Z"
    }
   },
   "outputs": [],
   "source": [
    "# セッションを作成\n",
    "Session = sqlalchemy.orm.sessionmaker(bind=engine)\n",
    "session = Session()"
   ]
  },
  {
   "cell_type": "code",
   "execution_count": null,
   "metadata": {
    "ExecuteTime": {
     "end_time": "2018-01-26T09:05:03.826498Z",
     "start_time": "2018-01-26T09:05:03.404577Z"
    }
   },
   "outputs": [],
   "source": [
    "sql_table = session.execute(\"SELECT * FROM t_1301\")\n",
    "for v in sql_table:\n",
    "   print(v)"
   ]
  },
  {
   "cell_type": "code",
   "execution_count": null,
   "metadata": {
    "ExecuteTime": {
     "end_time": "2018-01-26T08:07:31.170673Z",
     "start_time": "2018-01-26T08:07:31.155237Z"
    }
   },
   "outputs": [],
   "source": [
    "%%writefile sqlalchemy_test.py\n",
    "\n",
    "import pandas as pd\n",
    "from sqlalchemy import create_engine\n",
    "\n",
    "db_settings = {\n",
    "    # \"host\": 'localhost',\n",
    "    # \"host\": '127.0.0.1',\n",
    "    \"host\": 'MyCon',\n",
    "    # \"database\": 'StockPrice_Yahoo_1',\n",
    "    \"database\": 'stockyard',\n",
    "    \"user\": 'user',\n",
    "    \"password\": 'password',\n",
    "    \"port\":'3306'\n",
    "}\n",
    "# engine = create_engine('mysql://{user}:{password}@{host}:{port}/{database}'.format(**db_settings))\n",
    "# engine = create_engine('mysql://{user}:{password}@{host}:{port}/{database}?charset=utf8mb4'.format(**db_settings))\n",
    "# engine = create_engine('mysql+mysqlconnector://{user}:{password}@{host}:{port}/{database}?charset=utf8mb4'.format(**db_settings))\n",
    "engine = create_engine('mysql+pymysql://{user}:{password}@{host}:{port}/{database}?charset=utf8mb4'.format(**db_settings))\n",
    "\n",
    "sql_table = pd.read_sql_table('t_1301', engine, index_col='Date')\n",
    "print(sql_table)"
   ]
  },
  {
   "cell_type": "code",
   "execution_count": null,
   "metadata": {
    "ExecuteTime": {
     "end_time": "2018-01-26T00:31:49.271960Z",
     "start_time": "2018-01-26T00:31:49.256335Z"
    }
   },
   "outputs": [],
   "source": [
    "%%writefile mysql_test.py\n",
    "\n",
    "import pandas as pd\n",
    "from sqlalchemy import create_engine\n",
    "\n",
    "db_settings = {\n",
    "    # \"host\": 'localhost',\n",
    "    \"host\": '127.0.0.1',\n",
    "    # \"database\": 'StockPrice_Yahoo_1',\n",
    "    \"database\": 'stockyard',\n",
    "    \"user\": 'user',\n",
    "    \"password\": 'password',\n",
    "    \"port\":'3306'\n",
    "}\n",
    "engine = create_engine('mysql://{user}:{password}@{host}:{port}/{database}'.format(**db_settings))\n",
    "# engine = create_engine('mysql://{user}:{password}@{host}:{port}/{database}?charset=utf8mb4'.format(**db_settings))\n",
    "\n",
    "def read_sql():\n",
    "    x = pd.read_sql_table('t_1301', engine, index_col='Date')\n",
    "    return x"
   ]
  },
  {
   "cell_type": "code",
   "execution_count": null,
   "metadata": {
    "ExecuteTime": {
     "end_time": "2018-01-26T00:27:32.213484Z",
     "start_time": "2018-01-26T00:27:27.853444Z"
    }
   },
   "outputs": [],
   "source": [
    "import mysql_test"
   ]
  },
  {
   "cell_type": "code",
   "execution_count": null,
   "metadata": {
    "ExecuteTime": {
     "end_time": "2018-01-26T00:31:53.741292Z",
     "start_time": "2018-01-26T00:31:53.710128Z"
    }
   },
   "outputs": [],
   "source": [
    "importlib.reload(mysql_test)"
   ]
  },
  {
   "cell_type": "code",
   "execution_count": null,
   "metadata": {
    "ExecuteTime": {
     "end_time": "2018-01-26T00:38:06.806861Z",
     "start_time": "2018-01-26T00:38:01.696984Z"
    },
    "scrolled": true
   },
   "outputs": [],
   "source": [
    "%lprun -T lprofo -f mysql_test.read_sql  mysql_test.read_sql()"
   ]
  },
  {
   "cell_type": "code",
   "execution_count": null,
   "metadata": {
    "ExecuteTime": {
     "end_time": "2018-01-26T00:41:14.491969Z",
     "start_time": "2018-01-26T00:41:09.663768Z"
    }
   },
   "outputs": [],
   "source": [
    "%lprun -T lprofo -f sql.get_price sql.get_price(1301)"
   ]
  },
  {
   "cell_type": "code",
   "execution_count": null,
   "metadata": {
    "ExecuteTime": {
     "end_time": "2018-01-26T00:38:09.572759Z",
     "start_time": "2018-01-26T00:38:09.557580Z"
    }
   },
   "outputs": [],
   "source": [
    "print(open('lprofo', 'r').read())"
   ]
  }
 ],
 "metadata": {
  "kernelspec": {
   "display_name": "Python 3",
   "language": "python",
   "name": "python3"
  },
  "language_info": {
   "codemirror_mode": {
    "name": "ipython",
    "version": 3
   },
   "file_extension": ".py",
   "mimetype": "text/x-python",
   "name": "python",
   "nbconvert_exporter": "python",
   "pygments_lexer": "ipython3",
   "version": "3.6.4"
  },
  "toc": {
   "nav_menu": {},
   "number_sections": true,
   "sideBar": true,
   "skip_h1_title": false,
   "toc_cell": false,
   "toc_position": {},
   "toc_section_display": "block",
   "toc_window_display": false
  },
  "varInspector": {
   "cols": {
    "lenName": 16,
    "lenType": 16,
    "lenVar": 40
   },
   "kernels_config": {
    "python": {
     "delete_cmd_postfix": "",
     "delete_cmd_prefix": "del ",
     "library": "var_list.py",
     "varRefreshCmd": "print(var_dic_list())"
    },
    "r": {
     "delete_cmd_postfix": ") ",
     "delete_cmd_prefix": "rm(",
     "library": "var_list.r",
     "varRefreshCmd": "cat(var_dic_list()) "
    }
   },
   "types_to_exclude": [
    "module",
    "function",
    "builtin_function_or_method",
    "instance",
    "_Feature"
   ],
   "window_display": false
  }
 },
 "nbformat": 4,
 "nbformat_minor": 2
}
