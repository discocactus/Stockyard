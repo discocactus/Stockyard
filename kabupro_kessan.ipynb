{
 "cells": [
  {
   "cell_type": "markdown",
   "metadata": {},
   "source": [
    "# memo"
   ]
  },
  {
   "cell_type": "raw",
   "metadata": {},
   "source": [
    "用語の英訳など\n",
    "決算短信: Financial Summary, Consolidated Financial Results, summary of accounts, brief note on the settlement of accounts"
   ]
  },
  {
   "cell_type": "markdown",
   "metadata": {},
   "source": [
    "| 項目 | 英訳 | 型 |\n",
    "|---|---|\n",
    "| 証券コード | code | int64 |\n",
    "| 企業名 | company | object |\n",
    "| 会計基準 | accounting method | object |\n",
    "| 連結個別 | consolidate, non-consolidate | object |\n",
    "| 決算期 | settlement term, fiscal term | object |\n",
    "| 決算期間 | quarter | object |\n",
    "| 期首 | term beginning | datetime64[ns] |\n",
    "| 期末 | term end | datetime64[ns] |\n",
    "| 名寄前勘定科目 (売上高欄) | account type | object |\n",
    "| 売上高 | net sales | float64 |\n",
    "| 営業利益 | operating income | float64 |\n",
    "| 経常利益 | ordinary income | float64 |\n",
    "| 純利益 | net income | float64 |\n",
    "| 一株当り純利益 | EPS, earnings per share | float64 |\n",
    "| 希薄化後一株当り純利益 | diluted net income per share | float64 |\n",
    "| 純資産又は株主資本 | shareholders' equity | float64 |\n",
    "| 総資産 | total assets | float64 |\n",
    "| 一株当り純資産 | shareholders’ equity per share | float64 |\n",
    "| 営業キャッシュフロー | cash flows from operating activities | float64 |\n",
    "| 投資キャッシュフロー | cash flows from investing activities | float64 |\n",
    "| 財務キャッシュフロー | cash flows from financing activities | float64 |\n",
    "| 情報公開日 (更新日) | publication date | datetime64[ns] |"
   ]
  },
  {
   "cell_type": "markdown",
   "metadata": {},
   "source": [
    "# importなど"
   ]
  },
  {
   "cell_type": "code",
   "execution_count": null,
   "metadata": {
    "ExecuteTime": {
     "end_time": "2017-11-25T17:39:56.046856Z",
     "start_time": "2017-11-25T17:39:56.020915Z"
    },
    "collapsed": true
   },
   "outputs": [],
   "source": [
    "import numpy as np\n",
    "import pandas as pd\n",
    "import matplotlib.pyplot as plt\n",
    "import os\n",
    "import re\n",
    "import math\n",
    "from dateutil.parser import parse\n",
    "from sqlalchemy import create_engine\n",
    "from sqlalchemy.types import Date, Integer, Float, Text\n",
    "\n",
    "import stock\n",
    "\n",
    "%matplotlib inline"
   ]
  },
  {
   "cell_type": "markdown",
   "metadata": {},
   "source": [
    "__クラス不使用__"
   ]
  },
  {
   "cell_type": "code",
   "execution_count": null,
   "metadata": {
    "ExecuteTime": {
     "end_time": "2017-11-25T16:53:20.666105Z",
     "start_time": "2017-11-25T16:53:20.661257Z"
    },
    "collapsed": true
   },
   "outputs": [],
   "source": [
    "# MySQL の接続作成\n",
    "db_settings = {\n",
    "    \"host\": 'localhost',\n",
    "    \"database\": 'StockPrice_Yahoo_1',\n",
    "    \"user\": 'user',\n",
    "    \"password\": 'password',\n",
    "    \"port\":'3306'\n",
    "}\n",
    "engine = create_engine('mysql://{user}:{password}@{host}:{port}/{database}'.format(**db_settings))"
   ]
  },
  {
   "cell_type": "markdown",
   "metadata": {},
   "source": [
    "__クラス使用__"
   ]
  },
  {
   "cell_type": "code",
   "execution_count": null,
   "metadata": {
    "ExecuteTime": {
     "end_time": "2017-11-25T22:38:10.511795Z",
     "start_time": "2017-11-25T22:38:10.508728Z"
    },
    "collapsed": true
   },
   "outputs": [],
   "source": [
    "sql = stock.sql() # MySQLに接続するクラスインスタンスを作成"
   ]
  },
  {
   "cell_type": "markdown",
   "metadata": {},
   "source": [
    "# 結合済みファイルの読み込み"
   ]
  },
  {
   "cell_type": "markdown",
   "metadata": {},
   "source": [
    "## 初回新規ファイル作成時のみの代替処理"
   ]
  },
  {
   "cell_type": "code",
   "execution_count": null,
   "metadata": {
    "ExecuteTime": {
     "end_time": "2017-11-25T19:07:18.584308Z",
     "start_time": "2017-11-25T19:07:18.580875Z"
    },
    "collapsed": true
   },
   "outputs": [],
   "source": [
    "kabupro_kessan = new_kessan"
   ]
  },
  {
   "cell_type": "markdown",
   "metadata": {},
   "source": [
    "## MySQL からの読み込み"
   ]
  },
  {
   "cell_type": "code",
   "execution_count": null,
   "metadata": {
    "ExecuteTime": {
     "end_time": "2017-11-25T23:07:07.211670Z",
     "start_time": "2017-11-25T23:07:07.206828Z"
    },
    "collapsed": true
   },
   "outputs": [],
   "source": [
    "table_name = 'kabupro_kessan'"
   ]
  },
  {
   "cell_type": "markdown",
   "metadata": {},
   "source": [
    "__クラス不使用__"
   ]
  },
  {
   "cell_type": "code",
   "execution_count": null,
   "metadata": {
    "ExecuteTime": {
     "end_time": "2017-11-25T22:41:47.631099Z",
     "start_time": "2017-11-25T22:41:43.492993Z"
    },
    "collapsed": true
   },
   "outputs": [],
   "source": [
    "kabupro_kessan = pd.read_sql_table(table_name, engine, index_col=None).drop('index', axis=1)"
   ]
  },
  {
   "cell_type": "markdown",
   "metadata": {},
   "source": [
    "__クラス使用__"
   ]
  },
  {
   "cell_type": "code",
   "execution_count": null,
   "metadata": {
    "ExecuteTime": {
     "end_time": "2017-11-25T22:45:45.513862Z",
     "start_time": "2017-11-25T22:45:41.374914Z"
    },
    "collapsed": true
   },
   "outputs": [],
   "source": [
    "kabupro_kessan = sql.read_table(table_name)"
   ]
  },
  {
   "cell_type": "markdown",
   "metadata": {},
   "source": [
    "## csv からの読み込みの場合"
   ]
  },
  {
   "cell_type": "code",
   "execution_count": null,
   "metadata": {
    "ExecuteTime": {
     "end_time": "2017-11-25T14:24:16.815739Z",
     "start_time": "2017-11-25T14:24:16.224594Z"
    },
    "collapsed": false
   },
   "outputs": [],
   "source": [
    "kabupro_kessan = pd.read_csv('/Users/Really/Stockyard/_csv/kabupro_kessan.csv')"
   ]
  },
  {
   "cell_type": "code",
   "execution_count": null,
   "metadata": {
    "ExecuteTime": {
     "end_time": "2017-11-25T15:57:50.202728Z",
     "start_time": "2017-11-25T15:57:50.035664Z"
    },
    "collapsed": true
   },
   "outputs": [],
   "source": [
    "kabupro_kessan"
   ]
  },
  {
   "cell_type": "markdown",
   "metadata": {},
   "source": [
    "csv では読み込みのたびに型を設定しなおさなければならず面倒。  \n",
    "整形後に保存した csv であれば配列の型の辞書を適用可能。"
   ]
  },
  {
   "cell_type": "code",
   "execution_count": null,
   "metadata": {
    "ExecuteTime": {
     "end_time": "2017-11-25T14:23:53.338894Z",
     "start_time": "2017-11-25T14:23:53.325462Z"
    },
    "collapsed": false
   },
   "outputs": [],
   "source": [
    "datatype = {'証券コード': 'int64',\n",
    "                   '企業名': 'O',\n",
    "                   '会計基準': 'O',\n",
    "                   '連結個別': 'O',\n",
    "                   '決算期': 'O',\n",
    "                   '決算期間': 'O',\n",
    "                   '期首': '<M8[ns]',\n",
    "                   '期末': '<M8[ns]',\n",
    "                   '名寄前勘定科目 (売上高欄)': 'O',\n",
    "                   '売上高': 'float64',\n",
    "                   '営業利益': 'float64',\n",
    "                   '経常利益': 'float64',\n",
    "                   '純利益': 'float64',\n",
    "                   '一株当り純利益': 'float64',\n",
    "                   '希薄化後一株当り純利益': 'float64',\n",
    "                   '純資産又は株主資本': 'float64',\n",
    "                   '総資産': 'float64',\n",
    "                   '一株当り純資産': 'float64',\n",
    "                   '営業キャッシュフロー': 'float64',\n",
    "                   '投資キャッシュフロー': 'float64',\n",
    "                   '財務キャッシュフロー': 'float64',\n",
    "                   '情報公開日 (更新日)': '<M8[ns]'\n",
    "                   }"
   ]
  },
  {
   "cell_type": "code",
   "execution_count": null,
   "metadata": {
    "ExecuteTime": {
     "end_time": "2017-11-25T01:41:46.052831Z",
     "start_time": "2017-11-25T01:41:46.045802Z"
    },
    "collapsed": true
   },
   "outputs": [],
   "source": [
    "# 整形済みのデータが実行環境内に存在する場合\n",
    "datatype = dict(new_kessan.dtypes)\n",
    "datatype"
   ]
  },
  {
   "cell_type": "code",
   "execution_count": null,
   "metadata": {
    "ExecuteTime": {
     "end_time": "2017-11-25T14:24:23.077900Z",
     "start_time": "2017-11-25T14:24:23.000776Z"
    },
    "collapsed": false
   },
   "outputs": [],
   "source": [
    "kabupro_kessan = kabupro_kessan.astype(datatype)"
   ]
  },
  {
   "cell_type": "code",
   "execution_count": null,
   "metadata": {
    "ExecuteTime": {
     "end_time": "2017-11-25T14:03:58.233366Z",
     "start_time": "2017-11-25T14:03:58.227134Z"
    },
    "collapsed": false
   },
   "outputs": [],
   "source": [
    "kabupro_kessan.dtypes"
   ]
  },
  {
   "cell_type": "markdown",
   "metadata": {},
   "source": [
    "# 新規追加ファイルの読み込み、整形、保存 "
   ]
  },
  {
   "cell_type": "markdown",
   "metadata": {},
   "source": [
    "## 決算プロの決算短信 xls ファイルの読み込み"
   ]
  },
  {
   "cell_type": "code",
   "execution_count": null,
   "metadata": {
    "ExecuteTime": {
     "end_time": "2017-11-25T19:09:04.577661Z",
     "start_time": "2017-11-25T19:09:04.574795Z"
    },
    "collapsed": true
   },
   "outputs": [],
   "source": [
    "xls_file = '/Users/Really/Stockyard/_dl_data/20171112f.xls' # http://ke.kabupro.jp/doc/down40.htm"
   ]
  },
  {
   "cell_type": "code",
   "execution_count": null,
   "metadata": {
    "ExecuteTime": {
     "end_time": "2017-11-25T19:09:14.493466Z",
     "start_time": "2017-11-25T19:09:05.916136Z"
    },
    "collapsed": true
   },
   "outputs": [],
   "source": [
    "# 決算プロの決算短信xlsを読み込む\n",
    "new_kessan = pd.read_excel(xls_file) "
   ]
  },
  {
   "cell_type": "markdown",
   "metadata": {},
   "source": [
    "## 内容の確認"
   ]
  },
  {
   "cell_type": "code",
   "execution_count": null,
   "metadata": {
    "ExecuteTime": {
     "end_time": "2017-11-25T19:09:16.516230Z",
     "start_time": "2017-11-25T19:09:16.457159Z"
    },
    "collapsed": true
   },
   "outputs": [],
   "source": [
    "new_kessan.head(20)"
   ]
  },
  {
   "cell_type": "code",
   "execution_count": null,
   "metadata": {
    "ExecuteTime": {
     "end_time": "2017-11-25T16:54:13.134924Z",
     "start_time": "2017-11-25T16:54:13.129900Z"
    },
    "collapsed": false
   },
   "outputs": [],
   "source": [
    "new_kessan.columns"
   ]
  },
  {
   "cell_type": "code",
   "execution_count": null,
   "metadata": {
    "ExecuteTime": {
     "end_time": "2017-11-25T19:09:28.934851Z",
     "start_time": "2017-11-25T19:09:28.924281Z"
    },
    "collapsed": true
   },
   "outputs": [],
   "source": [
    "# 列名を少し変更\n",
    "new_kessan.columns = [\n",
    "    '証券コード',\n",
    "    '企業名',\n",
    "    '会計基準',\n",
    "    '連結個別',\n",
    "    '決算期',\n",
    "    '決算期間',\n",
    "    '期首',\n",
    "    '期末',\n",
    "    '名寄前勘定科目 (売上高欄)',\n",
    "    '売上高',\n",
    "    '営業利益',\n",
    "    '経常利益',\n",
    "    '純利益',\n",
    "    '一株当り純利益',\n",
    "    '希薄化後一株当り純利益',\n",
    "    '純資産又は株主資本',\n",
    "    '総資産',\n",
    "    '一株当り純資産',\n",
    "    '営業キャッシュフロー',\n",
    "    '投資キャッシュフロー',\n",
    "    '財務キャッシュフロー',\n",
    "    '情報公開日 (更新日)'\n",
    "]"
   ]
  },
  {
   "cell_type": "code",
   "execution_count": null,
   "metadata": {
    "ExecuteTime": {
     "end_time": "2017-11-25T17:14:30.909907Z",
     "start_time": "2017-11-25T17:14:30.877484Z"
    },
    "collapsed": true
   },
   "outputs": [],
   "source": [
    "new_kessan[['証券コード', '企業名', '会計基準', '連結個別', '決算期', '決算期間', '期首', '期末',\n",
    "       '名寄前勘定科目 (売上高欄)', '情報公開日 (更新日)']].head(20)"
   ]
  },
  {
   "cell_type": "code",
   "execution_count": null,
   "metadata": {
    "ExecuteTime": {
     "end_time": "2017-11-25T19:09:45.259903Z",
     "start_time": "2017-11-25T19:09:45.164383Z"
    },
    "collapsed": true
   },
   "outputs": [],
   "source": [
    "new_kessan.groupby('決算期').count()"
   ]
  },
  {
   "cell_type": "code",
   "execution_count": null,
   "metadata": {
    "ExecuteTime": {
     "end_time": "2017-11-25T19:10:12.874767Z",
     "start_time": "2017-11-25T19:10:12.815330Z"
    },
    "collapsed": true
   },
   "outputs": [],
   "source": [
    "new_kessan.groupby('決算期間').count()"
   ]
  },
  {
   "cell_type": "code",
   "execution_count": null,
   "metadata": {
    "ExecuteTime": {
     "end_time": "2017-11-25T16:57:31.908056Z",
     "start_time": "2017-11-25T16:57:31.877748Z"
    },
    "collapsed": true
   },
   "outputs": [],
   "source": [
    "new_kessan[['証券コード', '企業名', '期末', '売上高', '営業利益', '経常利益', '純利益', '情報公開日 (更新日)']].head(20)"
   ]
  },
  {
   "cell_type": "code",
   "execution_count": null,
   "metadata": {
    "ExecuteTime": {
     "end_time": "2017-11-25T16:57:41.976971Z",
     "start_time": "2017-11-25T16:57:41.939194Z"
    },
    "collapsed": true
   },
   "outputs": [],
   "source": [
    "new_kessan[['証券コード', '企業名', '期末', '一株当り純利益', '希薄化後一株当り純利益', '純資産又は株主資本',\n",
    "       '総資産', '一株当り純資産', '営業キャッシュフロー', '投資キャッシュフロー', '財務キャッシュフロー',\n",
    "       '情報公開日 (更新日)']].head(20)"
   ]
  },
  {
   "cell_type": "code",
   "execution_count": null,
   "metadata": {
    "ExecuteTime": {
     "end_time": "2017-11-25T19:10:27.832771Z",
     "start_time": "2017-11-25T19:10:27.826635Z"
    },
    "collapsed": true
   },
   "outputs": [],
   "source": [
    "new_kessan.dtypes"
   ]
  },
  {
   "cell_type": "code",
   "execution_count": null,
   "metadata": {
    "ExecuteTime": {
     "end_time": "2017-11-24T11:55:18.227108Z",
     "start_time": "2017-11-24T11:55:18.218347Z"
    },
    "collapsed": false
   },
   "outputs": [],
   "source": [
    "# 2015年のファイルでは int\n",
    "new_kessan['純利益'].max()"
   ]
  },
  {
   "cell_type": "code",
   "execution_count": null,
   "metadata": {
    "ExecuteTime": {
     "end_time": "2017-11-22T03:17:21.810857Z",
     "start_time": "2017-11-22T03:17:21.805348Z"
    },
    "collapsed": false
   },
   "outputs": [],
   "source": [
    "# 2017年のファイルでは float\n",
    "kabupro_kessan_new['純利益'].max()"
   ]
  },
  {
   "cell_type": "code",
   "execution_count": null,
   "metadata": {
    "ExecuteTime": {
     "end_time": "2017-11-24T11:56:48.860038Z",
     "start_time": "2017-11-24T11:56:48.832464Z"
    },
    "collapsed": true
   },
   "outputs": [],
   "source": [
    "# 2015年のファイルでは文字列が混入しているため object\n",
    "new_kessan['希薄化後一株当り純利益'].max()"
   ]
  },
  {
   "cell_type": "code",
   "execution_count": null,
   "metadata": {
    "ExecuteTime": {
     "end_time": "2017-11-24T11:57:28.772086Z",
     "start_time": "2017-11-24T11:57:28.745499Z"
    },
    "collapsed": true
   },
   "outputs": [],
   "source": [
    "new_kessan['希薄化後一株当り純利益'].min()"
   ]
  },
  {
   "cell_type": "code",
   "execution_count": null,
   "metadata": {
    "ExecuteTime": {
     "end_time": "2017-11-22T04:02:10.024839Z",
     "start_time": "2017-11-22T04:02:10.019611Z"
    },
    "collapsed": false
   },
   "outputs": [],
   "source": [
    "new_kessan['期末'].min()"
   ]
  },
  {
   "cell_type": "code",
   "execution_count": null,
   "metadata": {
    "ExecuteTime": {
     "end_time": "2017-11-22T04:02:10.747610Z",
     "start_time": "2017-11-22T04:02:10.742514Z"
    },
    "collapsed": false
   },
   "outputs": [],
   "source": [
    "new_kessan['情報公開日 (更新日)'].min()"
   ]
  },
  {
   "cell_type": "code",
   "execution_count": null,
   "metadata": {
    "ExecuteTime": {
     "end_time": "2017-11-25T19:11:23.385701Z",
     "start_time": "2017-11-25T19:11:23.299305Z"
    },
    "collapsed": false
   },
   "outputs": [],
   "source": [
    "new_kessan.duplicated().any()"
   ]
  },
  {
   "cell_type": "code",
   "execution_count": null,
   "metadata": {
    "ExecuteTime": {
     "end_time": "2017-11-25T19:11:25.929768Z",
     "start_time": "2017-11-25T19:11:25.884875Z"
    },
    "collapsed": true
   },
   "outputs": [],
   "source": [
    "new_kessan.isnull().any()"
   ]
  },
  {
   "cell_type": "markdown",
   "metadata": {},
   "source": [
    "## 整形"
   ]
  },
  {
   "cell_type": "code",
   "execution_count": null,
   "metadata": {
    "ExecuteTime": {
     "end_time": "2017-11-25T17:11:22.850119Z",
     "start_time": "2017-11-25T17:11:22.845378Z"
    },
    "collapsed": false
   },
   "outputs": [],
   "source": [
    "# 2015年のファイルでは int 型だったので float 型に\n",
    "new_kessan['純利益'] = new_kessan['純利益'].astype(float)"
   ]
  },
  {
   "cell_type": "code",
   "execution_count": null,
   "metadata": {
    "ExecuteTime": {
     "end_time": "2017-11-25T17:12:49.322183Z",
     "start_time": "2017-11-25T17:12:49.277232Z"
    },
    "collapsed": true
   },
   "outputs": [],
   "source": [
    "# 2015年のファイルでは index 17979 に '―' が入っていたために列が object 型になってしまっている\n",
    "new_kessan[new_kessan['希薄化後一株当り純利益'].apply(lambda x: type(x) is str)]"
   ]
  },
  {
   "cell_type": "code",
   "execution_count": null,
   "metadata": {
    "ExecuteTime": {
     "end_time": "2017-11-25T17:12:47.006375Z",
     "start_time": "2017-11-25T17:12:46.972665Z"
    },
    "collapsed": false
   },
   "outputs": [],
   "source": [
    "# '―'  を NaN に置換\n",
    "new_kessan.loc[new_kessan['希薄化後一株当り純利益'].apply(lambda x: type(x) is str), '希薄化後一株当り純利益'] = np.nan"
   ]
  },
  {
   "cell_type": "code",
   "execution_count": null,
   "metadata": {
    "ExecuteTime": {
     "end_time": "2017-11-24T16:56:49.232239Z",
     "start_time": "2017-11-24T16:56:49.224431Z"
    },
    "collapsed": false
   },
   "outputs": [],
   "source": [
    "new_kessan['希薄化後一株当り純利益'][17979]"
   ]
  },
  {
   "cell_type": "code",
   "execution_count": null,
   "metadata": {
    "ExecuteTime": {
     "end_time": "2017-11-24T16:58:22.008618Z",
     "start_time": "2017-11-24T16:58:22.002077Z"
    },
    "collapsed": false
   },
   "outputs": [],
   "source": [
    "new_kessan['希薄化後一株当り純利益'].max()"
   ]
  },
  {
   "cell_type": "code",
   "execution_count": null,
   "metadata": {
    "ExecuteTime": {
     "end_time": "2017-11-25T17:13:25.809317Z",
     "start_time": "2017-11-25T17:13:25.802701Z"
    },
    "collapsed": false
   },
   "outputs": [],
   "source": [
    "# float 型に変換\n",
    "new_kessan['希薄化後一株当り純利益'] = new_kessan['希薄化後一株当り純利益'].astype(float)"
   ]
  },
  {
   "cell_type": "code",
   "execution_count": null,
   "metadata": {
    "ExecuteTime": {
     "end_time": "2017-11-25T19:11:45.190267Z",
     "start_time": "2017-11-25T19:11:45.153410Z"
    },
    "collapsed": false,
    "scrolled": false
   },
   "outputs": [],
   "source": [
    "# ソート\n",
    "new_kessan = new_kessan.sort_values(['証券コード', '連結個別', '期末', '情報公開日 (更新日)']).reset_index(drop=True)"
   ]
  },
  {
   "cell_type": "markdown",
   "metadata": {},
   "source": [
    "## csv に保存"
   ]
  },
  {
   "cell_type": "code",
   "execution_count": null,
   "metadata": {
    "ExecuteTime": {
     "end_time": "2017-11-25T22:27:16.953063Z",
     "start_time": "2017-11-25T22:27:14.069449Z"
    },
    "collapsed": true
   },
   "outputs": [],
   "source": [
    "# 保存\n",
    "new_kessan.to_csv('/Users/Really/Stockyard/_csv/kabupro_kessan_20171112.csv')"
   ]
  },
  {
   "cell_type": "code",
   "execution_count": null,
   "metadata": {
    "ExecuteTime": {
     "end_time": "2017-11-25T22:32:53.530247Z",
     "start_time": "2017-11-25T22:32:53.146567Z"
    },
    "collapsed": true
   },
   "outputs": [],
   "source": [
    "# 保存したファイルの確認\n",
    "csv_kessan = pd.read_csv('/Users/Really/Stockyard/_csv/kabupro_kessan_20171112.csv', index_col=0)\n",
    "csv_kessan.head(20)"
   ]
  },
  {
   "cell_type": "markdown",
   "metadata": {},
   "source": [
    "## MySQL に保存"
   ]
  },
  {
   "cell_type": "code",
   "execution_count": null,
   "metadata": {
    "ExecuteTime": {
     "end_time": "2017-11-25T19:14:18.380246Z",
     "start_time": "2017-11-25T19:14:18.376896Z"
    },
    "collapsed": true
   },
   "outputs": [],
   "source": [
    "table_name = 'kabupro_kessan_20171112'"
   ]
  },
  {
   "cell_type": "markdown",
   "metadata": {},
   "source": [
    "このケースではデータ型の定義は必要ないのかも  \n",
    "定義しなくても意図通りの型で書き込めた"
   ]
  },
  {
   "cell_type": "code",
   "execution_count": null,
   "metadata": {
    "ExecuteTime": {
     "end_time": "2017-11-25T19:14:40.953215Z",
     "start_time": "2017-11-25T19:14:29.820036Z"
    },
    "collapsed": false
   },
   "outputs": [],
   "source": [
    "# データ型を定義しなくても意図通りの型で書き込めた\n",
    "new_kessan.to_sql(table_name, engine, if_exists='replace')"
   ]
  },
  {
   "cell_type": "code",
   "execution_count": null,
   "metadata": {
    "ExecuteTime": {
     "end_time": "2017-11-25T15:53:27.417732Z",
     "start_time": "2017-11-25T15:53:27.399958Z"
    },
    "code_folding": [
     0
    ],
    "collapsed": false
   },
   "outputs": [],
   "source": [
    "# このケースではデータ型の定義は必要ないのかも\n",
    "# sqlalchemy.typesで定義されたデータ型を辞書形式で設定して保存\n",
    "data_type = {\n",
    "    '`証券コード`': Integer(),\n",
    "    '`企業名`': Text(),\n",
    "    '`会計基準`': Text(),\n",
    "    '`連結個別`': Text(),\n",
    "    '`決算期`': Text(),\n",
    "    '`決算期間`': Text(),\n",
    "    '`期首`': Date(),\n",
    "    '`期末`': Date(),\n",
    "    '`名寄前勘定科目 (売上高欄)`': Text(),\n",
    "    '`売上高`': Float(),\n",
    "    '`営業利益`': Float(),\n",
    "    '`経常利益`': Float(),\n",
    "    '`純利益`': Float(),\n",
    "    '`一株当り純利益`': Float(),\n",
    "    '`希薄化後一株当り純利益`': Float(),\n",
    "    '`純資産又は株主資本`': Float(),\n",
    "    '`総資産`': Float(),\n",
    "    '`一株当り純資産`': Float(),\n",
    "    '`営業キャッシュフロー`': Float(),\n",
    "    '`投資キャッシュフロー`': Float(),\n",
    "    '`財務キャッシュフロー`': Float(),\n",
    "    '`情報公開日 (更新日)`': Date()\n",
    "}\n",
    "\n",
    "kabupro_kessan.to_sql(table_name, engine, if_exists='replace', dtype=data_type)"
   ]
  },
  {
   "cell_type": "markdown",
   "metadata": {},
   "source": [
    "__保存したデータの確認__"
   ]
  },
  {
   "cell_type": "code",
   "execution_count": null,
   "metadata": {
    "ExecuteTime": {
     "end_time": "2017-11-25T19:16:37.925838Z",
     "start_time": "2017-11-25T19:16:35.582402Z"
    },
    "collapsed": true
   },
   "outputs": [],
   "source": [
    "sql_kessan = pd.read_sql_table(table_name, engine, index_col=None).drop('index', axis=1)"
   ]
  },
  {
   "cell_type": "code",
   "execution_count": null,
   "metadata": {
    "ExecuteTime": {
     "end_time": "2017-11-25T19:16:51.421078Z",
     "start_time": "2017-11-25T19:16:51.365529Z"
    },
    "collapsed": true
   },
   "outputs": [],
   "source": [
    "sql_kessan.head(20)"
   ]
  },
  {
   "cell_type": "code",
   "execution_count": null,
   "metadata": {
    "ExecuteTime": {
     "end_time": "2017-11-25T19:16:40.542958Z",
     "start_time": "2017-11-25T19:16:40.537935Z"
    },
    "collapsed": false
   },
   "outputs": [],
   "source": [
    "sql_kessan.columns"
   ]
  },
  {
   "cell_type": "code",
   "execution_count": null,
   "metadata": {
    "ExecuteTime": {
     "end_time": "2017-11-25T19:16:45.333799Z",
     "start_time": "2017-11-25T19:16:45.327277Z"
    },
    "collapsed": false
   },
   "outputs": [],
   "source": [
    "sql_kessan.dtypes"
   ]
  },
  {
   "cell_type": "code",
   "execution_count": null,
   "metadata": {
    "ExecuteTime": {
     "end_time": "2017-11-25T19:17:34.092849Z",
     "start_time": "2017-11-25T19:17:33.851055Z"
    },
    "collapsed": false
   },
   "outputs": [],
   "source": [
    "# nan 同士の比較は False になってしまうのでゼロで埋めて比較\n",
    "(sql_kessan.fillna(0) == new_kessan.fillna(0)).any()"
   ]
  },
  {
   "cell_type": "markdown",
   "metadata": {
    "collapsed": true
   },
   "source": [
    "# 新旧ファイルの結合"
   ]
  },
  {
   "cell_type": "code",
   "execution_count": null,
   "metadata": {
    "ExecuteTime": {
     "end_time": "2017-11-25T19:18:26.802528Z",
     "start_time": "2017-11-25T19:18:26.775202Z"
    },
    "collapsed": true
   },
   "outputs": [],
   "source": [
    "kabupro_kessan = kabupro_kessan.append(new_kessan)"
   ]
  },
  {
   "cell_type": "code",
   "execution_count": null,
   "metadata": {
    "ExecuteTime": {
     "end_time": "2017-11-25T19:35:11.386598Z",
     "start_time": "2017-11-25T19:35:11.330704Z"
    },
    "collapsed": true
   },
   "outputs": [],
   "source": [
    "kabupro_kessan.tail(20)"
   ]
  },
  {
   "cell_type": "code",
   "execution_count": null,
   "metadata": {
    "ExecuteTime": {
     "end_time": "2017-11-25T19:19:21.750974Z",
     "start_time": "2017-11-25T19:19:21.744824Z"
    },
    "collapsed": false
   },
   "outputs": [],
   "source": [
    "kabupro_kessan.dtypes"
   ]
  },
  {
   "cell_type": "code",
   "execution_count": null,
   "metadata": {
    "ExecuteTime": {
     "end_time": "2017-11-25T19:18:57.955139Z",
     "start_time": "2017-11-25T19:18:57.864625Z"
    },
    "collapsed": true
   },
   "outputs": [],
   "source": [
    "# ソート\n",
    "kabupro_kessan = kabupro_kessan.sort_values(['証券コード', '連結個別', '期末', '情報公開日 (更新日)']).reset_index(drop=True)"
   ]
  },
  {
   "cell_type": "markdown",
   "metadata": {},
   "source": [
    "## 重複の確認、削除"
   ]
  },
  {
   "cell_type": "code",
   "execution_count": null,
   "metadata": {
    "ExecuteTime": {
     "end_time": "2017-11-25T19:35:55.959298Z",
     "start_time": "2017-11-25T19:35:55.783507Z"
    },
    "collapsed": false
   },
   "outputs": [],
   "source": [
    "kabupro_kessan.duplicated().any()"
   ]
  },
  {
   "cell_type": "code",
   "execution_count": null,
   "metadata": {
    "ExecuteTime": {
     "end_time": "2017-11-25T19:36:02.802326Z",
     "start_time": "2017-11-25T19:36:02.624901Z"
    },
    "collapsed": false
   },
   "outputs": [],
   "source": [
    "# keep=Falseで重複行のいずれかではなくすべてを表示\n",
    "kabupro_kessan[kabupro_kessan.duplicated(keep=False)]"
   ]
  },
  {
   "cell_type": "code",
   "execution_count": null,
   "metadata": {
    "ExecuteTime": {
     "end_time": "2017-11-25T19:20:23.785649Z",
     "start_time": "2017-11-25T19:20:23.609078Z"
    },
    "collapsed": false
   },
   "outputs": [],
   "source": [
    "kabupro_kessan = kabupro_kessan.drop_duplicates()"
   ]
  },
  {
   "cell_type": "code",
   "execution_count": null,
   "metadata": {
    "ExecuteTime": {
     "end_time": "2017-11-25T19:38:31.322651Z",
     "start_time": "2017-11-25T19:38:31.308303Z"
    },
    "collapsed": true
   },
   "outputs": [],
   "source": [
    "# インデックスの振り直し\n",
    "kabupro_kessan = kabupro_kessan.reset_index(drop=True)"
   ]
  },
  {
   "cell_type": "markdown",
   "metadata": {},
   "source": [
    "## 内容の確認"
   ]
  },
  {
   "cell_type": "code",
   "execution_count": null,
   "metadata": {
    "ExecuteTime": {
     "end_time": "2017-11-25T19:20:42.056825Z",
     "start_time": "2017-11-25T19:20:41.975945Z"
    },
    "collapsed": true
   },
   "outputs": [],
   "source": [
    "kabupro_kessan.isnull().any()"
   ]
  },
  {
   "cell_type": "code",
   "execution_count": null,
   "metadata": {
    "ExecuteTime": {
     "end_time": "2017-11-25T19:20:48.940434Z",
     "start_time": "2017-11-25T19:20:48.934175Z"
    },
    "collapsed": false
   },
   "outputs": [],
   "source": [
    "kabupro_kessan['期末'].min()"
   ]
  },
  {
   "cell_type": "code",
   "execution_count": null,
   "metadata": {
    "ExecuteTime": {
     "end_time": "2017-11-25T19:20:51.250746Z",
     "start_time": "2017-11-25T19:20:51.244635Z"
    },
    "collapsed": false
   },
   "outputs": [],
   "source": [
    "kabupro_kessan['情報公開日 (更新日)'].min()"
   ]
  },
  {
   "cell_type": "code",
   "execution_count": null,
   "metadata": {
    "ExecuteTime": {
     "end_time": "2017-11-25T19:20:54.068197Z",
     "start_time": "2017-11-25T19:20:54.062882Z"
    },
    "collapsed": false
   },
   "outputs": [],
   "source": [
    "kabupro_kessan['期末'].max()"
   ]
  },
  {
   "cell_type": "code",
   "execution_count": null,
   "metadata": {
    "ExecuteTime": {
     "end_time": "2017-11-25T19:20:57.183274Z",
     "start_time": "2017-11-25T19:20:57.177779Z"
    },
    "collapsed": false
   },
   "outputs": [],
   "source": [
    "kabupro_kessan['情報公開日 (更新日)'].max()"
   ]
  },
  {
   "cell_type": "code",
   "execution_count": null,
   "metadata": {
    "ExecuteTime": {
     "end_time": "2017-11-17T10:15:28.783851Z",
     "start_time": "2017-11-17T10:15:28.679690Z"
    },
    "collapsed": true
   },
   "outputs": [],
   "source": [
    "kabupro_kessan.describe()"
   ]
  },
  {
   "cell_type": "markdown",
   "metadata": {},
   "source": [
    "## csv に保存"
   ]
  },
  {
   "cell_type": "code",
   "execution_count": null,
   "metadata": {
    "ExecuteTime": {
     "end_time": "2017-11-25T22:34:16.696833Z",
     "start_time": "2017-11-25T22:34:11.353972Z"
    },
    "collapsed": true
   },
   "outputs": [],
   "source": [
    "# 保存\n",
    "kabupro_kessan.to_csv('/Users/Really/Stockyard/_csv/kabupro_kessan.csv')"
   ]
  },
  {
   "cell_type": "code",
   "execution_count": null,
   "metadata": {
    "ExecuteTime": {
     "end_time": "2017-11-25T22:34:32.873628Z",
     "start_time": "2017-11-25T22:34:32.221490Z"
    },
    "collapsed": true
   },
   "outputs": [],
   "source": [
    "# 保存したファイルの確認\n",
    "csv_kessan = pd.read_csv('/Users/Really/Stockyard/_csv/kabupro_kessan.csv', index_col=0)\n",
    "csv_kessan.head(20)"
   ]
  },
  {
   "cell_type": "markdown",
   "metadata": {},
   "source": [
    "## MySQL に保存"
   ]
  },
  {
   "cell_type": "code",
   "execution_count": null,
   "metadata": {
    "ExecuteTime": {
     "end_time": "2017-11-25T19:22:43.951435Z",
     "start_time": "2017-11-25T19:22:43.948360Z"
    },
    "collapsed": true
   },
   "outputs": [],
   "source": [
    "table_name = 'kabupro_kessan'"
   ]
  },
  {
   "cell_type": "markdown",
   "metadata": {},
   "source": [
    "このケースではデータ型の定義は必要ないのかも  \n",
    "定義しなくても意図通りの型で書き込めた"
   ]
  },
  {
   "cell_type": "markdown",
   "metadata": {},
   "source": [
    "__クラス不使用__"
   ]
  },
  {
   "cell_type": "code",
   "execution_count": null,
   "metadata": {
    "ExecuteTime": {
     "end_time": "2017-11-25T19:23:10.649189Z",
     "start_time": "2017-11-25T19:22:49.732044Z"
    },
    "collapsed": false
   },
   "outputs": [],
   "source": [
    "# データ型を定義しなくても意図通りの型で書き込めた\n",
    "kabupro_kessan.to_sql(table_name, engine, if_exists='replace')"
   ]
  },
  {
   "cell_type": "code",
   "execution_count": null,
   "metadata": {
    "ExecuteTime": {
     "end_time": "2017-11-25T15:53:27.417732Z",
     "start_time": "2017-11-25T15:53:27.399958Z"
    },
    "code_folding": [
     0
    ],
    "collapsed": false
   },
   "outputs": [],
   "source": [
    "# このケースではデータ型の定義は必要ないのかも\n",
    "# sqlalchemy.typesで定義されたデータ型を辞書形式で設定して保存\n",
    "data_type = {\n",
    "    '`証券コード`': Integer(),\n",
    "    '`企業名`': Text(),\n",
    "    '`会計基準`': Text(),\n",
    "    '`連結個別`': Text(),\n",
    "    '`決算期`': Text(),\n",
    "    '`決算期間`': Text(),\n",
    "    '`期首`': Date(),\n",
    "    '`期末`': Date(),\n",
    "    '`名寄前勘定科目 (売上高欄)`': Text(),\n",
    "    '`売上高`': Float(),\n",
    "    '`営業利益`': Float(),\n",
    "    '`経常利益`': Float(),\n",
    "    '`純利益`': Float(),\n",
    "    '`一株当り純利益`': Float(),\n",
    "    '`希薄化後一株当り純利益`': Float(),\n",
    "    '`純資産又は株主資本`': Float(),\n",
    "    '`総資産`': Float(),\n",
    "    '`一株当り純資産`': Float(),\n",
    "    '`営業キャッシュフロー`': Float(),\n",
    "    '`投資キャッシュフロー`': Float(),\n",
    "    '`財務キャッシュフロー`': Float(),\n",
    "    '`情報公開日 (更新日)`': Date()\n",
    "}\n",
    "\n",
    "kabupro_kessan.to_sql(table_name, engine, if_exists='replace', dtype=data_type)"
   ]
  },
  {
   "cell_type": "markdown",
   "metadata": {},
   "source": [
    "__クラス使用__"
   ]
  },
  {
   "cell_type": "code",
   "execution_count": null,
   "metadata": {
    "ExecuteTime": {
     "end_time": "2017-11-25T22:40:36.740154Z",
     "start_time": "2017-11-25T22:40:15.247364Z"
    },
    "collapsed": false
   },
   "outputs": [],
   "source": [
    "sql.write_table(table_name, kabupro_kessan)"
   ]
  },
  {
   "cell_type": "markdown",
   "metadata": {},
   "source": [
    "__保存したデータの確認__"
   ]
  },
  {
   "cell_type": "markdown",
   "metadata": {},
   "source": [
    "__クラス不使用__"
   ]
  },
  {
   "cell_type": "code",
   "execution_count": null,
   "metadata": {
    "ExecuteTime": {
     "end_time": "2017-11-25T22:41:47.631099Z",
     "start_time": "2017-11-25T22:41:43.492993Z"
    },
    "collapsed": true
   },
   "outputs": [],
   "source": [
    "sql_kessan = pd.read_sql_table(table_name, engine, index_col=None).drop('index', axis=1)"
   ]
  },
  {
   "cell_type": "markdown",
   "metadata": {},
   "source": [
    "__クラス使用__"
   ]
  },
  {
   "cell_type": "code",
   "execution_count": null,
   "metadata": {
    "ExecuteTime": {
     "end_time": "2017-11-25T22:45:45.513862Z",
     "start_time": "2017-11-25T22:45:41.374914Z"
    },
    "collapsed": true
   },
   "outputs": [],
   "source": [
    "sql_kessan = sql.read_table(table_name)"
   ]
  },
  {
   "cell_type": "code",
   "execution_count": null,
   "metadata": {
    "ExecuteTime": {
     "end_time": "2017-11-25T22:43:26.031524Z",
     "start_time": "2017-11-25T22:43:25.977373Z"
    },
    "collapsed": true
   },
   "outputs": [],
   "source": [
    "sql_kessan.head(20)"
   ]
  },
  {
   "cell_type": "code",
   "execution_count": null,
   "metadata": {
    "ExecuteTime": {
     "end_time": "2017-11-25T22:43:28.515654Z",
     "start_time": "2017-11-25T22:43:28.461171Z"
    },
    "collapsed": true
   },
   "outputs": [],
   "source": [
    "sql_kessan.tail(20)"
   ]
  },
  {
   "cell_type": "code",
   "execution_count": null,
   "metadata": {
    "ExecuteTime": {
     "end_time": "2017-11-25T19:31:03.469189Z",
     "start_time": "2017-11-25T19:31:03.463959Z"
    },
    "collapsed": false
   },
   "outputs": [],
   "source": [
    "sql_kessan.columns"
   ]
  },
  {
   "cell_type": "code",
   "execution_count": null,
   "metadata": {
    "ExecuteTime": {
     "end_time": "2017-11-25T19:25:25.030081Z",
     "start_time": "2017-11-25T19:25:25.023353Z"
    },
    "collapsed": false
   },
   "outputs": [],
   "source": [
    "sql_kessan.dtypes"
   ]
  },
  {
   "cell_type": "code",
   "execution_count": null,
   "metadata": {
    "ExecuteTime": {
     "end_time": "2017-11-25T19:31:50.091905Z",
     "start_time": "2017-11-25T19:31:50.085643Z"
    },
    "collapsed": false
   },
   "outputs": [],
   "source": [
    "kabupro_kessan.dtypes"
   ]
  },
  {
   "cell_type": "code",
   "execution_count": null,
   "metadata": {
    "ExecuteTime": {
     "end_time": "2017-11-25T22:45:52.153576Z",
     "start_time": "2017-11-25T22:45:51.733742Z"
    },
    "collapsed": false
   },
   "outputs": [],
   "source": [
    "# nan 同士の比較は False になってしまうのでゼロで埋めて比較\n",
    "(sql_kessan.fillna(0) == kabupro_kessan.fillna(0)).any()"
   ]
  },
  {
   "cell_type": "markdown",
   "metadata": {},
   "source": [
    "# 別アプリで csv に変換済みのファイルを読み込む場合"
   ]
  },
  {
   "cell_type": "code",
   "execution_count": null,
   "metadata": {
    "ExecuteTime": {
     "end_time": "2017-11-25T01:21:26.003291Z",
     "start_time": "2017-11-25T01:21:25.618974Z"
    },
    "collapsed": false
   },
   "outputs": [],
   "source": [
    "# 決算プロの決算短信csv(エクセルファイルより書き出し)を読み込む http://ke.kabupro.jp/doc/down40.htm\n",
    "csv_version = pd.read_csv('/Users/Really/Stockyard/_dl_data/kabupro_20171112f.csv') "
   ]
  },
  {
   "cell_type": "markdown",
   "metadata": {},
   "source": [
    "## 内容の確認"
   ]
  },
  {
   "cell_type": "code",
   "execution_count": null,
   "metadata": {
    "ExecuteTime": {
     "end_time": "2017-11-17T10:25:06.532592Z",
     "start_time": "2017-11-17T10:25:06.358468Z"
    },
    "collapsed": true
   },
   "outputs": [],
   "source": [
    "csv_version"
   ]
  },
  {
   "cell_type": "markdown",
   "metadata": {},
   "source": [
    "csv からの読み込みではほとんどの列の型が object になる (読み込み時にオプションで指定することも可能らしいが、列が多いと面倒)"
   ]
  },
  {
   "cell_type": "code",
   "execution_count": null,
   "metadata": {
    "ExecuteTime": {
     "end_time": "2017-11-25T01:21:33.218949Z",
     "start_time": "2017-11-25T01:21:33.212659Z"
    },
    "collapsed": true
   },
   "outputs": [],
   "source": [
    "csv_version.dtypes"
   ]
  },
  {
   "cell_type": "code",
   "execution_count": null,
   "metadata": {
    "ExecuteTime": {
     "end_time": "2017-11-17T10:00:33.376346Z",
     "start_time": "2017-11-17T10:00:33.282412Z"
    },
    "collapsed": false
   },
   "outputs": [],
   "source": [
    "csv_version.duplicated().any()"
   ]
  },
  {
   "cell_type": "code",
   "execution_count": null,
   "metadata": {
    "ExecuteTime": {
     "end_time": "2017-11-17T10:00:35.791896Z",
     "start_time": "2017-11-17T10:00:35.731990Z"
    },
    "collapsed": true
   },
   "outputs": [],
   "source": [
    "csv_version.isnull().any()"
   ]
  },
  {
   "cell_type": "code",
   "execution_count": null,
   "metadata": {
    "ExecuteTime": {
     "end_time": "2017-11-17T10:27:09.453394Z",
     "start_time": "2017-11-17T10:27:09.448219Z"
    },
    "collapsed": false
   },
   "outputs": [],
   "source": [
    "csv_version['期末'].min()"
   ]
  },
  {
   "cell_type": "code",
   "execution_count": null,
   "metadata": {
    "ExecuteTime": {
     "end_time": "2017-11-17T10:27:10.660538Z",
     "start_time": "2017-11-17T10:27:10.653949Z"
    },
    "collapsed": false
   },
   "outputs": [],
   "source": [
    "csv_version['情報公開日 (更新日)'].min()"
   ]
  },
  {
   "cell_type": "code",
   "execution_count": null,
   "metadata": {
    "ExecuteTime": {
     "end_time": "2017-11-17T10:05:54.843802Z",
     "start_time": "2017-11-17T10:05:54.711675Z"
    },
    "collapsed": true
   },
   "outputs": [],
   "source": [
    "csv_version[csv_version['連結個別'] == '個別']"
   ]
  },
  {
   "cell_type": "code",
   "execution_count": null,
   "metadata": {
    "ExecuteTime": {
     "end_time": "2017-11-13T23:14:07.314556Z",
     "start_time": "2017-11-13T23:14:07.177280Z"
    },
    "collapsed": true
   },
   "outputs": [],
   "source": [
    "csv_version[csv_version['連結個別'] == '連結']"
   ]
  },
  {
   "cell_type": "code",
   "execution_count": null,
   "metadata": {
    "ExecuteTime": {
     "end_time": "2017-11-13T23:26:11.300656Z",
     "start_time": "2017-11-13T23:26:11.206629Z"
    },
    "collapsed": true
   },
   "outputs": [],
   "source": [
    "csv_version.describe()"
   ]
  },
  {
   "cell_type": "markdown",
   "metadata": {},
   "source": [
    "## 整形"
   ]
  },
  {
   "cell_type": "code",
   "execution_count": null,
   "metadata": {
    "ExecuteTime": {
     "end_time": "2017-11-17T10:24:18.864200Z",
     "start_time": "2017-11-17T10:23:56.080267Z"
    },
    "collapsed": false
   },
   "outputs": [],
   "source": [
    "# 日付のパース、datetime.dateへの型変換\n",
    "csv_version['期首'] = csv_version['期首'].apply(lambda x: parse(x).date())\n",
    "csv_version['期末'] = csv_version['期末'].apply(lambda x: parse(x).date())\n",
    "csv_version['情報公開日 (更新日)'] = csv_version['情報公開日 (更新日)'].apply(lambda x: parse(x).date())"
   ]
  },
  {
   "cell_type": "code",
   "execution_count": null,
   "metadata": {
    "ExecuteTime": {
     "end_time": "2017-11-12T17:16:42.487601Z",
     "start_time": "2017-11-12T17:16:11.906572Z"
    },
    "code_folding": [
     0
    ],
    "collapsed": true
   },
   "outputs": [],
   "source": [
    "# 同じく日付のパース、datetime.dateへの型変換をまとめて。1列ずつやるより少し遅い？ 23s -> 30s\n",
    "csv_version[['期首', '期末', '情報公開日 (更新日)']] = csv_version[['期首', '期末', '情報公開日 (更新日)']].applymap(lambda x: parse(x).date())"
   ]
  },
  {
   "cell_type": "code",
   "execution_count": null,
   "metadata": {
    "ExecuteTime": {
     "end_time": "2017-11-17T10:24:40.014324Z",
     "start_time": "2017-11-17T10:24:39.949131Z"
    },
    "collapsed": false
   },
   "outputs": [],
   "source": [
    "# pandasのTimestampへの型変換\n",
    "# まとめてできないの？\n",
    "# csv_version[['期首', '期末', '情報公開日 (更新日)']] = pd.to_datetime(csv_version[['期首', '期末', '情報公開日 (更新日)']], format='%Y-%m-%d')\n",
    "csv_version['期首'] = pd.to_datetime(csv_version['期首'], format='%Y-%m-%d')\n",
    "csv_version['期末'] = pd.to_datetime(csv_version['期末'], format='%Y-%m-%d')\n",
    "csv_version['情報公開日 (更新日)'] = pd.to_datetime(csv_version['情報公開日 (更新日)'], format='%Y-%m-%d')"
   ]
  },
  {
   "cell_type": "code",
   "execution_count": null,
   "metadata": {
    "ExecuteTime": {
     "end_time": "2017-11-17T09:54:55.443996Z",
     "start_time": "2017-11-17T09:54:55.438155Z"
    },
    "collapsed": true
   },
   "outputs": [],
   "source": [
    "# 数値に変換する列のリスト作成\n",
    "num_list = [\n",
    "    '売上高', \n",
    "    '営業利益', \n",
    "    '経常利益', \n",
    "    '純利益', \n",
    "    '一株当り純利益',\n",
    "    '希薄化後一株当り純利益', \n",
    "    '純資産又は株主資本', \n",
    "    '総資産', \n",
    "    '一株当り純資産', \n",
    "    '営業キャッシュフロー',\n",
    "    '投資キャッシュフロー', \n",
    "    '財務キャッシュフロー'\n",
    "]"
   ]
  },
  {
   "cell_type": "code",
   "execution_count": null,
   "metadata": {
    "ExecuteTime": {
     "end_time": "2017-11-17T10:24:49.593412Z",
     "start_time": "2017-11-17T10:24:49.037149Z"
    },
    "collapsed": false
   },
   "outputs": [],
   "source": [
    "# 数値に変換する項目の「,」を削除、float型に変換\n",
    "csv_version[num_list] = csv_version[num_list].apply(lambda x: x.str.replace(',','')).astype(float)"
   ]
  },
  {
   "cell_type": "code",
   "execution_count": null,
   "metadata": {
    "ExecuteTime": {
     "end_time": "2017-11-12T18:15:41.774557Z",
     "start_time": "2017-11-12T18:15:41.768853Z"
    },
    "code_folding": [
     0
    ],
    "collapsed": true
   },
   "outputs": [],
   "source": [
    "# 冗長なやり方\n",
    "\n",
    "# 2つのリストから1つの辞書を作成する方法\n",
    "# num_dict = dict(zip(num_list, [str for i in range(len(num_list))]))\n",
    "\n",
    "csv_version = csv_version.astype(dict(zip(num_list, [str for i in range(len(num_list))])))\n",
    "csv_version[num_list] = csv_version[num_list].applymap(lambda x: x.replace(',', ''))\n",
    "csv_version = csv_version.astype(dict(zip(num_list, [float for i in range(len(num_list))])))"
   ]
  },
  {
   "cell_type": "code",
   "execution_count": null,
   "metadata": {
    "ExecuteTime": {
     "end_time": "2017-11-12T17:21:47.642598Z",
     "start_time": "2017-11-12T17:21:47.414110Z"
    },
    "code_folding": [
     0
    ],
    "collapsed": true
   },
   "outputs": [],
   "source": [
    "# さらに冗長なやり方\n",
    "\n",
    "csv_version = csv_version.astype({\n",
    "    '売上高': str, \n",
    "    '営業利益': str, \n",
    "    '経常利益': str, \n",
    "    '純利益': str, \n",
    "    '一株当り純利益': str,\n",
    "    '希薄化後一株当り純利益': str, \n",
    "    '純資産又は株主資本': str, \n",
    "    '総資産': str, \n",
    "    '一株当り純資産': str, \n",
    "    '営業キャッシュフロー': str,\n",
    "    '投資キャッシュフロー': str, \n",
    "    '財務キャッシュフロー': str})\n",
    "\n",
    "csv_version[[\n",
    "    '売上高', \n",
    "    '営業利益', \n",
    "    '経常利益', \n",
    "    '純利益', \n",
    "    '一株当り純利益',\n",
    "    '希薄化後一株当り純利益', \n",
    "    '純資産又は株主資本', \n",
    "    '総資産', \n",
    "    '一株当り純資産', \n",
    "    '営業キャッシュフロー',\n",
    "    '投資キャッシュフロー', \n",
    "    '財務キャッシュフロー'\n",
    "    ]] = csv_version[[\n",
    "        '売上高', \n",
    "        '営業利益', \n",
    "        '経常利益', \n",
    "        '純利益', \n",
    "        '一株当り純利益',\n",
    "        '希薄化後一株当り純利益', \n",
    "        '純資産又は株主資本', \n",
    "        '総資産', \n",
    "        '一株当り純資産', \n",
    "        '営業キャッシュフロー',\n",
    "        '投資キャッシュフロー', \n",
    "        '財務キャッシュフロー'\n",
    "        ]].applymap(lambda x: x.replace(',', ''))\n",
    "\n",
    "csv_version = csv_version.astype({\n",
    "    '売上高': float, \n",
    "    '営業利益': float, \n",
    "    '経常利益': float, \n",
    "    '純利益': float, \n",
    "    '一株当り純利益': float,\n",
    "    '希薄化後一株当り純利益': float, \n",
    "    '純資産又は株主資本': float, \n",
    "    '総資産': float, \n",
    "    '一株当り純資産': float, \n",
    "    '営業キャッシュフロー': float,\n",
    "       '投資キャッシュフロー': float, \n",
    "    '財務キャッシュフロー': float})"
   ]
  },
  {
   "cell_type": "code",
   "execution_count": null,
   "metadata": {
    "ExecuteTime": {
     "end_time": "2017-11-17T10:25:00.316305Z",
     "start_time": "2017-11-17T10:25:00.276962Z"
    },
    "collapsed": false,
    "scrolled": false
   },
   "outputs": [],
   "source": [
    "# ソート\n",
    "csv_version = csv_version.sort_values(['証券コード', '連結個別', '期末', '情報公開日 (更新日)']).reset_index(drop=True)"
   ]
  },
  {
   "cell_type": "markdown",
   "metadata": {},
   "source": [
    "# 四半期業績の差分を作ってみる"
   ]
  },
  {
   "cell_type": "markdown",
   "metadata": {},
   "source": [
    "__もうちょっと上手いやり方ありそう__"
   ]
  },
  {
   "cell_type": "code",
   "execution_count": null,
   "metadata": {
    "collapsed": true
   },
   "outputs": [],
   "source": [
    "code = 7203"
   ]
  },
  {
   "cell_type": "code",
   "execution_count": null,
   "metadata": {
    "collapsed": true
   },
   "outputs": [],
   "source": [
    "kabupro.columns"
   ]
  },
  {
   "cell_type": "code",
   "execution_count": null,
   "metadata": {
    "collapsed": true
   },
   "outputs": [],
   "source": [
    "kabupro.ix[(kabupro['証券コード'] == code) & (kabupro['会計基準'] == '米国基準'), \n",
    "           ['決算期', '期末', '売上高', '営業利益', '経常利益', '純利益', '一株当り純利益', '情報公開日 (更新日)']].tail(10)"
   ]
  },
  {
   "cell_type": "code",
   "execution_count": null,
   "metadata": {
    "collapsed": true
   },
   "outputs": [],
   "source": [
    "diff_test = kabupro.ix[(kabupro['証券コード'] == code) & (kabupro['会計基準'] == '米国基準'), \n",
    "           ['決算期', '売上高', '営業利益', '経常利益', '純利益', '一株当り純利益']].tail(10)"
   ]
  },
  {
   "cell_type": "code",
   "execution_count": null,
   "metadata": {
    "collapsed": true
   },
   "outputs": [],
   "source": [
    "diff_test"
   ]
  },
  {
   "cell_type": "code",
   "execution_count": null,
   "metadata": {
    "collapsed": true
   },
   "outputs": [],
   "source": [
    "diff_test[['売上高差分', '営業利益差分', '経常利益差分', '純利益差分', '一株当り純利益差分']] = diff_test[['売上高', '営業利益', '経常利益', '純利益', '一株当り純利益']]"
   ]
  },
  {
   "cell_type": "code",
   "execution_count": null,
   "metadata": {
    "collapsed": true
   },
   "outputs": [],
   "source": [
    "# 全銘柄一括でやるなら、上の行とコードが一致するかの判定を追加\n",
    "for count in range(70501, 70501 + len(diff_test) - 1):\n",
    "    if diff_test.loc[count, '決算期'] == diff_test.loc[count - 1, '決算期']:\n",
    "        diff_test.loc[count, '売上高差分'] = diff_test.loc[count, '売上高'] - diff_test.loc[count - 1, '売上高']\n",
    "        diff_test.loc[count, '営業利益差分'] = diff_test.loc[count, '営業利益'] - diff_test.loc[count - 1, '営業利益']\n",
    "        diff_test.loc[count, '経常利益差分'] = diff_test.loc[count, '経常利益'] - diff_test.loc[count - 1, '経常利益']\n",
    "        diff_test.loc[count, '純利益差分'] = diff_test.loc[count, '純利益'] - diff_test.loc[count - 1, '純利益']\n",
    "        diff_test.loc[count, '一株当り純利益差分'] = diff_test.loc[count, '一株当り純利益'] - diff_test.loc[count - 1, '一株当り純利益']"
   ]
  },
  {
   "cell_type": "code",
   "execution_count": null,
   "metadata": {
    "collapsed": true
   },
   "outputs": [],
   "source": [
    "diff_test[['決算期', '売上高差分', '営業利益差分', '経常利益差分', '純利益差分', '一株当り純利益差分']]\n",
    "# 一株当り純利益差分が株探の１株益と揃わない"
   ]
  }
 ],
 "metadata": {
  "kernelspec": {
   "display_name": "Python 3",
   "language": "python",
   "name": "python3"
  },
  "language_info": {
   "codemirror_mode": {
    "name": "ipython",
    "version": 3
   },
   "file_extension": ".py",
   "mimetype": "text/x-python",
   "name": "python",
   "nbconvert_exporter": "python",
   "pygments_lexer": "ipython3",
   "version": "3.6.0"
  },
  "toc": {
   "nav_menu": {},
   "number_sections": true,
   "sideBar": true,
   "skip_h1_title": false,
   "toc_cell": false,
   "toc_position": {},
   "toc_section_display": "block",
   "toc_window_display": false
  },
  "varInspector": {
   "cols": {
    "lenName": 16,
    "lenType": 16,
    "lenVar": 40
   },
   "kernels_config": {
    "python": {
     "delete_cmd_postfix": "",
     "delete_cmd_prefix": "del ",
     "library": "var_list.py",
     "varRefreshCmd": "print(var_dic_list())"
    },
    "r": {
     "delete_cmd_postfix": ") ",
     "delete_cmd_prefix": "rm(",
     "library": "var_list.r",
     "varRefreshCmd": "cat(var_dic_list()) "
    }
   },
   "position": {
    "height": "257px",
    "left": "976px",
    "right": "6px",
    "top": "120px",
    "width": "364px"
   },
   "types_to_exclude": [
    "module",
    "function",
    "builtin_function_or_method",
    "instance",
    "_Feature"
   ],
   "window_display": false
  }
 },
 "nbformat": 4,
 "nbformat_minor": 2
}
