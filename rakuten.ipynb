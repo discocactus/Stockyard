{
 "cells": [
  {
   "cell_type": "code",
   "execution_count": null,
   "metadata": {
    "ExecuteTime": {
     "end_time": "2017-12-22T11:20:01.022054Z",
     "start_time": "2017-12-22T11:19:59.839586Z"
    },
    "collapsed": true
   },
   "outputs": [],
   "source": [
    "# import\n",
    "import sys\n",
    "import os\n",
    "import re\n",
    "import datetime as dt\n",
    "import time\n",
    "import importlib\n",
    "import logging\n",
    "import numpy as np\n",
    "import pandas as pd\n",
    "from robobrowser import RoboBrowser\n",
    "# from robobrowser.browser import RoboState\n",
    "from retry import retry\n",
    "from dateutil.parser import parse\n",
    "from datetime import datetime\n",
    "import pandas.tseries.offsets as offsets\n",
    "from IPython.display import display, HTML\n",
    "\n",
    "import stock"
   ]
  },
  {
   "cell_type": "code",
   "execution_count": null,
   "metadata": {
    "collapsed": true
   },
   "outputs": [],
   "source": [
    "importlib.reload(stock)"
   ]
  },
  {
   "cell_type": "code",
   "execution_count": null,
   "metadata": {
    "collapsed": true
   },
   "outputs": [],
   "source": [
    "# pandas の最大表示列数を設定 (max_rows で表示行数の設定も可能)\n",
    "pd.set_option('display.max_columns', 30)"
   ]
  },
  {
   "cell_type": "code",
   "execution_count": null,
   "metadata": {
    "collapsed": true
   },
   "outputs": [],
   "source": [
    "sql = stock.sql()"
   ]
  },
  {
   "cell_type": "markdown",
   "metadata": {},
   "source": [
    "# ログイン。ログイン情報が出力に表示されてしまうのでそのままでGitHubに上げちゃダメ！ログインを済ませたら必ずすぐにクリア！"
   ]
  },
  {
   "cell_type": "code",
   "execution_count": null,
   "metadata": {
    "ExecuteTime": {
     "end_time": "2017-12-22T16:46:59.335801Z",
     "start_time": "2017-12-22T16:46:44.593405Z"
    }
   },
   "outputs": [],
   "source": [
    "# sign-in\n",
    "# 認証の情報\n",
    "RS_ID = input('Name?')\n",
    "RS_PASSWORD = input('Password?')\n",
    "\n",
    "# RoboBrowserオブジェクトを作成する\n",
    "browser = RoboBrowser(\n",
    "    parser='html.parser', # Beatiful Soupで使用するパーサーを指定\n",
    "    # Cookieが使用できないと表示されてログインできない問題を回避するため\n",
    "    # 通常のブラウザーのUser-Agent(ここではFirefoxのもの)を使う\n",
    "    user_agent='Mozilla/5.0 (Macintosh; Intel Mac OS X 10.10; rv:45.0) Gecko/20100101 Firefox/45.0')\n",
    "    # user_agent='Mozilla/5.0 (iPhone; CPU iPhone OS 9_3_5 like Mac OS X) AppleWebKit/601.1.46 (KHTML, like Gecko) Version/9.0 Mobile/13G36 Safari/601.1')\n",
    "\n",
    "# ログインページを開く\n",
    "print('Navigating...', file=sys.stderr)\n",
    "browser.open('https://www.rakuten-sec.co.jp/ITS/V_ACT_Login.html')\n",
    "\n",
    "# 'ログイン | 楽天証券' ページにいることを確認する\n",
    "assert 'ログイン | 楽天証券' in browser.parsed.title.string\n",
    "\n",
    "# name=\"signIn\" というサインインフォームを埋める。\n",
    "# フォームのname属性の値はブラウザーの開発者ツールで確認できる。\n",
    "form = browser.get_form(attrs={'name': 'loginform'})\n",
    "form['loginid'] = RS_ID\n",
    "form['passwd'] = RS_PASSWORD\n",
    "\n",
    "# フォームを送信する。\n",
    "# 正常にログインするにはRefererヘッダーとAccept-Languageヘッダーが必要な場合がある。\n",
    "print('Signing in...', file=sys.stderr)\n",
    "browser.submit_form(form)\n",
    "\n",
    "# ログインに失敗する場合は、次の行のコメントを外してHTMLのソースを確認すると良い。\n",
    "# print(browser.parsed.prettify())\n",
    "print(browser.select('.client-name')[0].text.strip())"
   ]
  },
  {
   "cell_type": "code",
   "execution_count": null,
   "metadata": {
    "ExecuteTime": {
     "end_time": "2017-12-22T16:51:35.682357Z",
     "start_time": "2017-12-22T16:51:35.441225Z"
    },
    "collapsed": true
   },
   "outputs": [],
   "source": [
    "link_to_next = browser.get_link('国内株式') #「次へ」というテキストを持つリンクを取得する。\n",
    "browser.follow_link(link_to_next)"
   ]
  },
  {
   "cell_type": "code",
   "execution_count": null,
   "metadata": {
    "ExecuteTime": {
     "end_time": "2017-12-22T17:09:43.879270Z",
     "start_time": "2017-12-22T17:09:24.633523Z"
    }
   },
   "outputs": [],
   "source": [
    "link_to_next = browser.get_link('スーパースクリーナー') #「次へ」というテキストを持つリンクを取得する。\n",
    "browser.follow_link(link_to_next)"
   ]
  },
  {
   "cell_type": "code",
   "execution_count": null,
   "metadata": {
    "ExecuteTime": {
     "end_time": "2017-12-22T16:51:56.377989Z",
     "start_time": "2017-12-22T16:51:56.189971Z"
    },
    "scrolled": true
   },
   "outputs": [],
   "source": [
    "print(browser.parsed.prettify())"
   ]
  },
  {
   "cell_type": "code",
   "execution_count": null,
   "metadata": {
    "collapsed": true
   },
   "outputs": [],
   "source": [
    "@retry(tries=5, delay=1, backoff=2)\n",
    "def get_html(url):\n",
    "    browser.open(url)\n",
    "    assert '決算' in browser.parsed.title.string # 決算ページにいることを確認する\n",
    "    stock_name = browser.select('.kobetsu_data_table1_meigara')[0].text.strip()  # モバイルサイトの場合はコメントアウト\n",
    "    print('{0}: {1}'.format(code, stock_name))  # モバイルサイトの場合はコメントアウト\n",
    "    result = browser.find()\n",
    "    \n",
    "    return result"
   ]
  },
  {
   "cell_type": "code",
   "execution_count": null,
   "metadata": {
    "collapsed": true
   },
   "outputs": [],
   "source": [
    "# 個別銘柄の決算ページを開く\n",
    "code = 1301 # トヨタ\n",
    "\n",
    "print('Navigating...', file=sys.stderr)\n",
    "browser.open('https://kabutan.jp/stock/finance?code={0}&mode=k'.format(code))\n",
    "\n",
    "# 決算ページにいることを確認する\n",
    "assert '決算' in browser.parsed.title.string\n",
    "\n",
    "print(browser.select('.kobetsu_data_table1_meigara')[0].text.strip())"
   ]
  },
  {
   "cell_type": "code",
   "execution_count": null,
   "metadata": {
    "collapsed": true
   },
   "outputs": [],
   "source": [
    "https://member.rakuten-sec.co.jp/app/info_jp_prc_stock.do;BV_SessionID=A3145518759A80D1E6A514FC5259B5E2.42ad2c3e?eventType=init&infoInit=1&contentId=7&type=&sub_type=&local=&dscrCd=72030&marketCd=1&gmn=J&smn=01&lmn=01&fmn=01"
   ]
  },
  {
   "cell_type": "code",
   "execution_count": null,
   "metadata": {
    "collapsed": true
   },
   "outputs": [],
   "source": [
    "kessan_html = browser.find()"
   ]
  },
  {
   "cell_type": "code",
   "execution_count": null,
   "metadata": {
    "collapsed": true
   },
   "outputs": [],
   "source": [
    "tables = pd.read_html(str(kessan_html), header=0)"
   ]
  }
 ],
 "metadata": {
  "kernelspec": {
   "display_name": "Python 3",
   "language": "python",
   "name": "python3"
  },
  "language_info": {
   "codemirror_mode": {
    "name": "ipython",
    "version": 3
   },
   "file_extension": ".py",
   "mimetype": "text/x-python",
   "name": "python",
   "nbconvert_exporter": "python",
   "pygments_lexer": "ipython3",
   "version": "3.6.4"
  },
  "toc": {
   "nav_menu": {},
   "number_sections": true,
   "sideBar": true,
   "skip_h1_title": false,
   "toc_cell": false,
   "toc_position": {},
   "toc_section_display": "block",
   "toc_window_display": false
  },
  "varInspector": {
   "cols": {
    "lenName": 16,
    "lenType": 16,
    "lenVar": 40
   },
   "kernels_config": {
    "python": {
     "delete_cmd_postfix": "",
     "delete_cmd_prefix": "del ",
     "library": "var_list.py",
     "varRefreshCmd": "print(var_dic_list())"
    },
    "r": {
     "delete_cmd_postfix": ") ",
     "delete_cmd_prefix": "rm(",
     "library": "var_list.r",
     "varRefreshCmd": "cat(var_dic_list()) "
    }
   },
   "types_to_exclude": [
    "module",
    "function",
    "builtin_function_or_method",
    "instance",
    "_Feature"
   ],
   "window_display": false
  }
 },
 "nbformat": 4,
 "nbformat_minor": 2
}
