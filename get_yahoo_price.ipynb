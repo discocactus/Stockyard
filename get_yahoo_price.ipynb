{
 "cells": [
  {
   "cell_type": "markdown",
   "metadata": {},
   "source": [
    "# Memo"
   ]
  },
  {
   "cell_type": "raw",
   "metadata": {
    "hide_input": true
   },
   "source": [
    "2939 8287 マックスバリュ西日本 までyahooから銘柄名を取得\n",
    "2940 から 2959 までは東証のエクセル由来のテーブルから取得に変更\n",
    "2960 8345 岩手銀行 からyahooからの取得に戻した\n",
    "\n",
    "3318 メガネスーパー 10/26 上場廃止\n",
    "Pro Market銘柄はYahooにはないらしい"
   ]
  },
  {
   "cell_type": "markdown",
   "metadata": {},
   "source": [
    "# TODO"
   ]
  },
  {
   "cell_type": "raw",
   "metadata": {},
   "source": [
    "11/10以前の読み込み文はAdjCloseがInt型で保存されているので、Float型に再計算"
   ]
  },
  {
   "cell_type": "markdown",
   "metadata": {},
   "source": [
    "# import"
   ]
  },
  {
   "cell_type": "code",
   "execution_count": null,
   "metadata": {
    "ExecuteTime": {
     "end_time": "2018-03-04T00:09:12.870643Z",
     "start_time": "2018-03-04T00:09:11.886164Z"
    }
   },
   "outputs": [],
   "source": [
    "import numpy as np\n",
    "import pandas as pd\n",
    "import pandas.tseries.offsets as offsets\n",
    "import datetime as dt\n",
    "import time\n",
    "import importlib\n",
    "import logging\n",
    "from retry import retry\n",
    "# import traceback\n",
    "# from retrying import retry\n",
    "\n",
    "import stock"
   ]
  },
  {
   "cell_type": "code",
   "execution_count": null,
   "metadata": {
    "ExecuteTime": {
     "end_time": "2018-03-04T02:55:41.148732Z",
     "start_time": "2018-03-04T02:55:41.117926Z"
    }
   },
   "outputs": [],
   "source": [
    "importlib.reload(stock)"
   ]
  },
  {
   "cell_type": "markdown",
   "metadata": {},
   "source": [
    "# データパスの設定"
   ]
  },
  {
   "cell_type": "code",
   "execution_count": null,
   "metadata": {
    "ExecuteTime": {
     "end_time": "2018-03-04T00:09:16.999384Z",
     "start_time": "2018-03-04T00:09:16.983783Z"
    }
   },
   "outputs": [],
   "source": [
    "# csv_path = '/Users/Really/Stockyard/_csv'\n",
    "# price_path = '/Users/Really/Stockyard/_yahoo_csv'\n",
    "csv_path = 'D:\\stockyard\\_csv'\n",
    "price_path = 'D:\\stockyard\\_yahoo_csv'"
   ]
  },
  {
   "cell_type": "markdown",
   "metadata": {},
   "source": [
    "# Yahooの銘柄一覧ページから銘柄コードを取得"
   ]
  },
  {
   "cell_type": "code",
   "execution_count": null,
   "metadata": {
    "ExecuteTime": {
     "end_time": "2018-03-03T14:06:42.196815Z",
     "start_time": "2018-03-03T14:06:42.181223Z"
    }
   },
   "outputs": [],
   "source": [
    "reading_code = []"
   ]
  },
  {
   "cell_type": "code",
   "execution_count": null,
   "metadata": {
    "ExecuteTime": {
     "end_time": "2018-03-04T02:35:54.081515Z",
     "start_time": "2018-03-04T02:33:52.115581Z"
    }
   },
   "outputs": [],
   "source": [
    "yahoo_stock_table = stock.get_stock_table_yahoojp()"
   ]
  },
  {
   "cell_type": "code",
   "execution_count": null,
   "metadata": {
    "ExecuteTime": {
     "end_time": "2018-03-04T02:36:23.308088Z",
     "start_time": "2018-03-04T02:36:23.292875Z"
    }
   },
   "outputs": [],
   "source": [
    "len(yahoo_stock_table)"
   ]
  },
  {
   "cell_type": "code",
   "execution_count": null,
   "metadata": {
    "ExecuteTime": {
     "end_time": "2018-03-04T02:44:36.960797Z",
     "start_time": "2018-03-04T02:44:36.929581Z"
    }
   },
   "outputs": [],
   "source": [
    "display(yahoo_stock_table)"
   ]
  },
  {
   "cell_type": "code",
   "execution_count": null,
   "metadata": {
    "ExecuteTime": {
     "end_time": "2018-03-04T02:43:25.977161Z",
     "start_time": "2018-03-04T02:43:25.961498Z"
    }
   },
   "outputs": [],
   "source": [
    "yahoo_stock_table.columns = ['code', 'market', 'data', 'price', 'extra']"
   ]
  },
  {
   "cell_type": "code",
   "execution_count": null,
   "metadata": {
    "ExecuteTime": {
     "end_time": "2018-03-04T02:44:34.226156Z",
     "start_time": "2018-03-04T02:44:34.210503Z"
    }
   },
   "outputs": [],
   "source": [
    "yahoo_stock_table = yahoo_stock_table[['code', 'market', 'data', 'price']]"
   ]
  },
  {
   "cell_type": "code",
   "execution_count": null,
   "metadata": {
    "ExecuteTime": {
     "end_time": "2018-03-04T02:45:53.085718Z",
     "start_time": "2018-03-04T02:45:53.039249Z"
    }
   },
   "outputs": [],
   "source": [
    "yahoo_stock_table.to_csv('{0}/yahoo_stock_table.csv'.format(csv_path))"
   ]
  },
  {
   "cell_type": "code",
   "execution_count": null,
   "metadata": {
    "ExecuteTime": {
     "end_time": "2018-03-04T02:46:30.062173Z",
     "start_time": "2018-03-04T02:46:30.015316Z"
    }
   },
   "outputs": [],
   "source": [
    "pd.read_csv('{0}/yahoo_stock_table.csv'.format(csv_path), index_col=0)"
   ]
  },
  {
   "cell_type": "code",
   "execution_count": null,
   "metadata": {
    "ExecuteTime": {
     "end_time": "2018-03-03T14:12:40.795531Z",
     "start_time": "2018-03-03T14:12:40.779903Z"
    }
   },
   "outputs": [],
   "source": [
    "reading_code[3700:]"
   ]
  },
  {
   "cell_type": "code",
   "execution_count": null,
   "metadata": {
    "ExecuteTime": {
     "end_time": "2018-03-04T02:00:08.211624Z",
     "start_time": "2018-03-04T02:00:08.180758Z"
    }
   },
   "outputs": [],
   "source": [
    "p = 1\n",
    "base = 'http://stocks.finance.yahoo.co.jp/stocks/qi/?&p={0}'\n",
    "url = base.format(p)"
   ]
  },
  {
   "cell_type": "code",
   "execution_count": null,
   "metadata": {
    "ExecuteTime": {
     "end_time": "2018-03-04T02:00:10.868159Z",
     "start_time": "2018-03-04T02:00:08.915227Z"
    }
   },
   "outputs": [],
   "source": [
    "tables = pd.read_html(url, header=0)"
   ]
  },
  {
   "cell_type": "code",
   "execution_count": null,
   "metadata": {
    "ExecuteTime": {
     "end_time": "2018-03-04T02:02:20.304657Z",
     "start_time": "2018-03-04T02:02:20.273799Z"
    }
   },
   "outputs": [],
   "source": [
    "tables[2].iloc[0, 3]"
   ]
  },
  {
   "cell_type": "code",
   "execution_count": null,
   "metadata": {
    "ExecuteTime": {
     "end_time": "2018-03-04T02:00:22.978786Z",
     "start_time": "2018-03-04T02:00:22.963163Z"
    }
   },
   "outputs": [],
   "source": [
    "tables[2]"
   ]
  },
  {
   "cell_type": "code",
   "execution_count": null,
   "metadata": {
    "ExecuteTime": {
     "end_time": "2018-03-03T14:04:27.886675Z",
     "start_time": "2018-03-03T14:04:27.871455Z"
    }
   },
   "outputs": [],
   "source": [
    "while True:\n",
    "    url = base.format(p)\n",
    "    # 'https://stocks.finance.yahoo.co.jp/stocks/qi/?&p=1' # 2018-03-03 p=187まで\n",
    "    tables = pd.read_html(url, header=0)\n",
    "    if len(tables[2]) == 0:\n",
    "        break\n",
    "    reading_code.extend(list(tables[2]['コード']))\n",
    "    p += 1"
   ]
  },
  {
   "cell_type": "markdown",
   "metadata": {},
   "source": [
    "# ヒストリカルデータの初回連続読み込み"
   ]
  },
  {
   "cell_type": "markdown",
   "metadata": {},
   "source": [
    "## TODO 価格データ読み込み済みリストの作成、次に読み込む銘柄コードの自動取得化"
   ]
  },
  {
   "cell_type": "code",
   "execution_count": null,
   "metadata": {
    "collapsed": true
   },
   "outputs": [],
   "source": [
    "done = yahoo_stock_code\n",
    "done"
   ]
  },
  {
   "cell_type": "markdown",
   "metadata": {},
   "source": [
    "## 連続読み込み用内国株のコードリスト作成"
   ]
  },
  {
   "cell_type": "code",
   "execution_count": null,
   "metadata": {
    "ExecuteTime": {
     "end_time": "2018-03-04T02:55:48.618319Z",
     "start_time": "2018-03-04T02:55:48.571851Z"
    }
   },
   "outputs": [],
   "source": [
    "start_index = 3100\n",
    "increase_number = 100\n",
    "end_index = start_index + increase_number\n",
    "\n",
    "# reading_code = stock.get_jpx_expro_code(start_index, end_index)\n",
    "reading_code = stock.get_yahoo_code(start_index, end_index)\n",
    "# reading_code = stock.get_yahoo_code(start_index)\n",
    "print(reading_code[-10:])\n",
    "print('Next start from {0}'.format(start_index + increase_number))"
   ]
  },
  {
   "cell_type": "markdown",
   "metadata": {},
   "source": [
    "## 新規上場銘柄読み込み用コードリスト作成"
   ]
  },
  {
   "cell_type": "code",
   "execution_count": null,
   "metadata": {
    "ExecuteTime": {
     "end_time": "2018-02-18T13:29:57.318969Z",
     "start_time": "2018-02-18T13:29:57.288166Z"
    }
   },
   "outputs": [],
   "source": [
    "reading_code = stock.get_jpx_new_added_code()\n",
    "reading_code"
   ]
  },
  {
   "cell_type": "markdown",
   "metadata": {},
   "source": [
    "## 任意選択読み込み用コードリスト作成"
   ]
  },
  {
   "cell_type": "code",
   "execution_count": null,
   "metadata": {
    "ExecuteTime": {
     "end_time": "2018-02-18T22:00:23.429810Z",
     "start_time": "2018-02-18T22:00:23.414632Z"
    }
   },
   "outputs": [],
   "source": [
    "read_start = 2\n",
    "reading_code = keep_failed[read_start : ]#read_start + 8]\n",
    "# reading_code += list(yahoo_stock_table['code'][1600 : 1700])\n",
    "reading_code, len(reading_code), "
   ]
  },
  {
   "cell_type": "code",
   "execution_count": null,
   "metadata": {
    "ExecuteTime": {
     "end_time": "2018-02-18T22:22:39.872233Z",
     "start_time": "2018-02-18T22:22:39.841014Z"
    }
   },
   "outputs": [],
   "source": [
    "reading_code = [3540, ]\n",
    "reading_code"
   ]
  },
  {
   "cell_type": "markdown",
   "metadata": {},
   "source": [
    "## 失敗分読み込み用コードリスト作成"
   ]
  },
  {
   "cell_type": "code",
   "execution_count": null,
   "metadata": {
    "collapsed": true
   },
   "outputs": [],
   "source": [
    "reading_code = failed\n",
    "reading_code, len(reading_code)"
   ]
  },
  {
   "cell_type": "markdown",
   "metadata": {},
   "source": [
    "## 連続読み込み書き込み"
   ]
  },
  {
   "cell_type": "code",
   "execution_count": null,
   "metadata": {
    "ExecuteTime": {
     "end_time": "2018-02-18T22:23:06.800677Z",
     "start_time": "2018-02-18T22:23:01.253217Z"
    },
    "code_folding": []
   },
   "outputs": [],
   "source": [
    "# 読み込み期間の設定\n",
    "start = '2000-01-01'\n",
    "end = None\n",
    "\n",
    "# ロガー設定\n",
    "start_time = dt.datetime.now()\n",
    "logging.basicConfig(filename='get_price_{0}.log'.format(start_time.strftime('%Y-%m-%d')), filemode='w', level=logging.INFO)\n",
    "logging.info('{0} get_price Started'.format(start_time.strftime('%Y-%m-%d %H:%M:%S')))\n",
    "\n",
    "info = stock.get_yahoo_info() # 保存済み info の読み込み\n",
    "failed = [] # 読み込みに失敗した銘柄のコードを書き込むリストを作成\n",
    "save_failed = [] # 保存のみ失敗した分\n",
    "\n",
    "# 連続読み込み書き込み\n",
    "for index in range(len(reading_code)):\n",
    "    code = reading_code[index]\n",
    "    \n",
    "    try:\n",
    "        time.sleep(1)\n",
    "        \n",
    "        # Yahooファイナスンスから時系列情報と銘柄名を取得\n",
    "        tmp_price, stock_name = stock.get_price_yahoojp(code, start=start, end=end)\n",
    "        \n",
    "        # 価格と価格以外の情報を分離\n",
    "        tmp_info = tmp_price[tmp_price.isnull().any(axis=1)].reset_index()\n",
    "        if len(tmp_info) > 0:\n",
    "            new_info = stock.reform_info(tmp_info, code, stock_name)\n",
    "            info = info.append(new_info, ignore_index=True)\n",
    "        \n",
    "            price = stock.extract_price(tmp_price)\n",
    "            \n",
    "        else:\n",
    "            price = tmp_price # 価格以外の情報がなければそのまま\n",
    "            \n",
    "        try:\n",
    "            # CSVで保存\n",
    "            price.to_csv('{0}/t_{1}.csv'.format(price_path, code))\n",
    "            info.to_csv('{0}/yahoo_info.csv'.format(csv_path))\n",
    "          \n",
    "            print('{0}: Success {1}'.format(index, code))\n",
    "            \n",
    "        except Exception as e:\n",
    "            logging.warning('{0} {1}: {2}'.format(dt.datetime.now().strftime('%Y-%m-%d %H:%M:%S'), code, e))\n",
    "            save_failed.append(code)\n",
    "            print('{0}: Failed in {1} at Save Data'.format(index, code))\n",
    "            print(e)\n",
    "            \n",
    "    except Exception as e:\n",
    "        logging.warning('{0} {1}: {2}'.format(dt.datetime.now().strftime('%Y-%m-%d %H:%M:%S'), code, e))\n",
    "        failed.append(code)\n",
    "        print('{0}: Failed in {1} at get_price'.format(index, code))\n",
    "        print(e)\n",
    "\n",
    "print('Failed in {0} stocks at get:'.format(len(failed)))\n",
    "print(failed)\n",
    "print('Failed in {0} stocks at save:'.format(len(save_failed)))\n",
    "print(save_failed)\n",
    "\n",
    "# 最後にinfoの重複と順序を整理してから再度保存\n",
    "info = info.drop_duplicates()\n",
    "info = info.sort_values(by=['Code', 'Date'])\n",
    "info.to_csv('{0}/yahoo_info.csv'.format(csv_path))\n",
    "\n",
    "logging.info('{0} get_price Finished'.format(dt.datetime.now().strftime('%Y-%m-%d %H:%M:%S')))"
   ]
  },
  {
   "cell_type": "markdown",
   "metadata": {},
   "source": [
    "## 変数を別名でキープ"
   ]
  },
  {
   "cell_type": "code",
   "execution_count": null,
   "metadata": {
    "ExecuteTime": {
     "end_time": "2018-02-18T22:23:20.493520Z",
     "start_time": "2018-02-18T22:23:20.446678Z"
    }
   },
   "outputs": [],
   "source": [
    "keep_info = info\n",
    "keep_info"
   ]
  },
  {
   "cell_type": "code",
   "execution_count": null,
   "metadata": {
    "collapsed": true
   },
   "outputs": [],
   "source": [
    "keep_failed = failed\n",
    "keep_failed"
   ]
  },
  {
   "cell_type": "markdown",
   "metadata": {},
   "source": [
    "## キープ分の銘柄コードをcsvに保存 (履歴なし随時処理)"
   ]
  },
  {
   "cell_type": "code",
   "execution_count": null,
   "metadata": {
    "ExecuteTime": {
     "end_time": "2018-02-18T13:34:04.577365Z",
     "start_time": "2018-02-18T13:34:04.523932Z"
    }
   },
   "outputs": [],
   "source": [
    "keep_info.to_csv('{0}/keep_info.csv'.format(csv_path))"
   ]
  },
  {
   "cell_type": "code",
   "execution_count": null,
   "metadata": {},
   "outputs": [],
   "source": [
    "pd.Series(keep_failed).to_csv('{0}/keep_failed.csv'.format(csv_path))"
   ]
  },
  {
   "cell_type": "markdown",
   "metadata": {},
   "source": [
    "# 更新"
   ]
  },
  {
   "cell_type": "markdown",
   "metadata": {},
   "source": [
    "## 更新する銘柄コードリスト作成"
   ]
  },
  {
   "cell_type": "code",
   "execution_count": null,
   "metadata": {
    "ExecuteTime": {
     "end_time": "2018-02-18T13:41:50.713495Z",
     "start_time": "2018-02-18T13:41:50.698317Z"
    }
   },
   "outputs": [],
   "source": [
    "start_index = 0"
   ]
  },
  {
   "cell_type": "code",
   "execution_count": null,
   "metadata": {
    "ExecuteTime": {
     "end_time": "2018-02-04T08:58:30.998415Z",
     "start_time": "2018-02-04T08:58:30.982797Z"
    }
   },
   "outputs": [],
   "source": [
    "start_index = end_index\n",
    "start_index"
   ]
  },
  {
   "cell_type": "code",
   "execution_count": null,
   "metadata": {
    "ExecuteTime": {
     "end_time": "2018-02-18T13:42:09.152586Z",
     "start_time": "2018-02-18T13:42:09.106155Z"
    }
   },
   "outputs": [],
   "source": [
    "increase_number = 100\n",
    "end_index = None\n",
    "# end_index = start_index + increase_number\n",
    "\n",
    "reading_code = stock.get_yahoo_stock_code(start_index, end_index)\n",
    "print(reading_code[-10:])\n",
    "print(len(reading_code))\n",
    "print('Next start from {0}'.format(end_index))"
   ]
  },
  {
   "cell_type": "markdown",
   "metadata": {},
   "source": [
    "## 任意選択読み込み用コードリスト作成"
   ]
  },
  {
   "cell_type": "code",
   "execution_count": null,
   "metadata": {
    "collapsed": true
   },
   "outputs": [],
   "source": [
    "read_start = 71\n",
    "reading_code = keep_failed[read_start : ]#read_start + 8]\n",
    "reading_code += list(yahoo_stock_table['code'][1600 : 1700])\n",
    "reading_code, len(reading_code), "
   ]
  },
  {
   "cell_type": "markdown",
   "metadata": {},
   "source": [
    "## 失敗分読み込み用コードリスト作成"
   ]
  },
  {
   "cell_type": "code",
   "execution_count": null,
   "metadata": {
    "collapsed": true
   },
   "outputs": [],
   "source": [
    "reading_code = failed\n",
    "reading_code, len(reading_code)"
   ]
  },
  {
   "cell_type": "markdown",
   "metadata": {},
   "source": [
    "## 連続更新"
   ]
  },
  {
   "cell_type": "markdown",
   "metadata": {},
   "source": [
    "__TODO 3542銘柄一括更新で3時間以上かかる。要検討 (うち、銘柄間1秒スリープ分合計1時間弱)__"
   ]
  },
  {
   "cell_type": "code",
   "execution_count": null,
   "metadata": {
    "ExecuteTime": {
     "end_time": "2018-02-18T17:52:01.619640Z",
     "start_time": "2018-02-18T13:42:38.188909Z"
    },
    "scrolled": true
   },
   "outputs": [],
   "source": [
    "end = None  # 読み込み終了日\n",
    "\n",
    "# ロガー設定\n",
    "start_time = dt.datetime.now()\n",
    "logging.basicConfig(filename='get_price_{0}.log'.format(start_time.strftime('%Y-%m-%d')), filemode='w', level=logging.INFO)\n",
    "logging.info('{0} add_new_price Started'.format(start_time.strftime('%Y-%m-%d %H:%M:%S')))\n",
    "\n",
    "info = stock.get_yahoo_info() # 保存済み info の読み込み\n",
    "failed = [] # 読み込みに失敗した銘柄のコードを書き込むリストを作成\n",
    "save_failed = [] # 保存のみ失敗した分\n",
    "\n",
    "# 連続読み込み書き込み\n",
    "for index in range(len(reading_code)):\n",
    "    code = reading_code[index]\n",
    "    \n",
    "    try:\n",
    "        time.sleep(1)\n",
    "        \n",
    "        # 何か問題があるようなら最終更新日以降のデータがない場合にパスする処理を考える\n",
    "        # 現状ではYahooにデータが無い場合、\"No objects to concatenate\" が帰って来る\n",
    "        price = stock.get_yahoo_price(code)\n",
    "        last_date = price.index[-1]\n",
    "        start = str((price.index[-1] + offsets.Day()).date())\n",
    "        \n",
    "        # Yahooファイナスンスから時系列情報と銘柄名を取得\n",
    "        tmp_price, stock_name = stock.get_price_yahoojp(code, start=start, end=end)\n",
    "        \n",
    "        # 価格と価格以外の情報を分離\n",
    "        tmp_info = tmp_price[tmp_price.isnull().any(axis=1)].reset_index()\n",
    "        if len(tmp_info) > 0:\n",
    "            new_info = stock.reform_info(tmp_info, code, stock_name)\n",
    "            info = info.append(new_info, ignore_index=True)\n",
    "        \n",
    "            new_price = stock.extract_price(tmp_price)\n",
    "            \n",
    "        else:\n",
    "            new_price = tmp_price # 価格以外の情報がなければそのまま\n",
    "            \n",
    "        price = price.append(new_price)\n",
    "        \n",
    "        try:\n",
    "            # CSVで保存\n",
    "            price.to_csv('{0}/t_{1}.csv'.format(price_path, code))\n",
    "            info.to_csv('{0}/yahoo_info.csv'.format(csv_path))\n",
    "          \n",
    "            print('{0}: Success {1}'.format(index, code))\n",
    "            \n",
    "        except Exception as e:\n",
    "            logging.warning('{0} {1}: {2}'.format(dt.datetime.now().strftime('%Y-%m-%d %H:%M:%S'), code, e))\n",
    "            save_failed.append(code)\n",
    "            print('{0}: Failed in {1} at Save Data'.format(index, code))\n",
    "            print(e)\n",
    "            \n",
    "    except Exception as e:\n",
    "        logging.warning('{0} {1}: {2}'.format(dt.datetime.now().strftime('%Y-%m-%d %H:%M:%S'), code, e))\n",
    "        failed.append(code)\n",
    "        print('{0}: Failed in {1} at get_price'.format(index, code))        \n",
    "        print(e)\n",
    "\n",
    "print('Failed in {0} stocks at get:'.format(len(failed)))\n",
    "print(failed)\n",
    "print('Failed in {0} stocks at save:'.format(len(save_failed)))\n",
    "print(save_failed)\n",
    "\n",
    "# 最後にinfoの重複と順序を整理してから再度保存\n",
    "info = info.drop_duplicates()\n",
    "info = info.sort_values(by=['Code', 'Date'])\n",
    "info.to_csv('{0}/yahoo_info.csv'.format(csv_path))\n",
    "\n",
    "logging.info('{0} add_new_price Finished'.format(dt.datetime.now().strftime('%Y-%m-%d %H:%M:%S')))"
   ]
  },
  {
   "cell_type": "code",
   "execution_count": null,
   "metadata": {
    "ExecuteTime": {
     "end_time": "2018-02-04T10:26:01.372359Z",
     "start_time": "2018-02-04T10:26:00.809869Z"
    }
   },
   "outputs": [],
   "source": [
    "# TODO これをcsvで実現する方法を考える\n",
    "for i in range(increase_number):\n",
    "    print('\\n[{0}]'.format(reading_code[i]))\n",
    "    print(stock.get_yahoo_price(reading_code[i])[-3:])"
   ]
  },
  {
   "cell_type": "code",
   "execution_count": null,
   "metadata": {
    "ExecuteTime": {
     "end_time": "2017-11-27T07:02:03.979584Z",
     "start_time": "2017-11-27T07:02:03.893977Z"
    }
   },
   "outputs": [],
   "source": [
    "# TODO これをcsvで実現する方法を考える\n",
    "for i in range(increase_number):\n",
    "    print('[{0}]'.format(reading_code[i]))\n",
    "    print(sql.statement_query('select * from t_{0} order by Date desc limit 3'.format(reading_code[i])))"
   ]
  },
  {
   "cell_type": "code",
   "execution_count": null,
   "metadata": {
    "ExecuteTime": {
     "end_time": "2018-02-04T09:06:48.654376Z",
     "start_time": "2018-02-04T09:06:48.623572Z"
    }
   },
   "outputs": [],
   "source": [
    "yahoo_stock_table = pd.read_csv('{0}/yahoo_stock_table.csv'.format(csv_path), index_col=0)\n",
    "yahoo_stock_table[yahoo_stock_table['code'].isin(failed)]"
   ]
  },
  {
   "cell_type": "markdown",
   "metadata": {},
   "source": [
    "## 変数を別名でキープ"
   ]
  },
  {
   "cell_type": "code",
   "execution_count": null,
   "metadata": {
    "ExecuteTime": {
     "end_time": "2018-02-18T21:44:20.034618Z",
     "start_time": "2018-02-18T21:44:19.987665Z"
    }
   },
   "outputs": [],
   "source": [
    "keep_info = info\n",
    "keep_info"
   ]
  },
  {
   "cell_type": "code",
   "execution_count": null,
   "metadata": {
    "ExecuteTime": {
     "end_time": "2018-02-18T21:44:28.205907Z",
     "start_time": "2018-02-18T21:44:28.174653Z"
    }
   },
   "outputs": [],
   "source": [
    "keep_failed = failed\n",
    "keep_failed"
   ]
  },
  {
   "cell_type": "markdown",
   "metadata": {},
   "source": [
    "## キープ分の銘柄コードをcsvに保存 (履歴なし随時処理)"
   ]
  },
  {
   "cell_type": "code",
   "execution_count": null,
   "metadata": {
    "ExecuteTime": {
     "end_time": "2018-02-04T08:06:57.673608Z",
     "start_time": "2018-02-04T08:06:57.611187Z"
    }
   },
   "outputs": [],
   "source": [
    "keep_info.to_csv('{0}/keep_info.csv'.format(csv_path))"
   ]
  },
  {
   "cell_type": "code",
   "execution_count": null,
   "metadata": {},
   "outputs": [],
   "source": [
    "pd.Series(keep_failed).to_csv('{0}/keep_failed.csv'.format(csv_path))"
   ]
  },
  {
   "cell_type": "markdown",
   "metadata": {},
   "source": [
    "# 単一銘柄、保存なし版"
   ]
  },
  {
   "cell_type": "markdown",
   "metadata": {},
   "source": [
    "## 単一銘柄の読み込み"
   ]
  },
  {
   "cell_type": "code",
   "execution_count": null,
   "metadata": {
    "ExecuteTime": {
     "end_time": "2017-11-11T13:03:07.559523Z",
     "start_time": "2017-11-11T13:03:05.107501Z"
    }
   },
   "outputs": [],
   "source": [
    "code = 9284 # 銘柄コード\n",
    "\n",
    "# 読み込み期間の設定\n",
    "start = '2017-10-01'\n",
    "end = None\n",
    "\n",
    "# ロガー設定\n",
    "start_time = dt.datetime.now()\n",
    "logging.basicConfig(filename='get_price_{0}.log'.format(start_time.strftime('%Y-%m-%d')), filemode='w', level=logging.INFO)\n",
    "\n",
    "info = stock.get_yahoo_info() # 保存済み info の読み込み\n",
    "failed = [] # 読み込みに失敗した銘柄のコードを書き込むリストを作成\n",
    "\n",
    "# 読み込み\n",
    "try:\n",
    "    # Yahooファイナスンスから時系列情報と銘柄名を取得\n",
    "    tmp_price, stock_name = stock.get_price_yahoojp(code, start=start, end=end)\n",
    "\n",
    "    # 価格と価格以外の情報を分離\n",
    "    tmp_info = tmp_price[tmp_price.isnull().any(axis=1)].reset_index()\n",
    "    if len(tmp_info) > 0:\n",
    "        new_info = stock.reform_info(tmp_info, code, stock_name)\n",
    "        info = info.append(new_info, ignore_index=True)\n",
    "\n",
    "        price = stock.extract_price(tmp_price)\n",
    "\n",
    "    else:\n",
    "        price = tmp_price # 価格以外の情報がなければそのまま\n",
    "\n",
    "except Exception as e:\n",
    "    logging.warning('{0} {1}: {2}'.format(dt.datetime.now().strftime('%Y-%m-%d %H:%M:%S'), code, e))\n",
    "    failed.append(code)\n",
    "    print('Failed in {0} at get_price'.format(code))\n",
    "    print(e)\n",
    "\n",
    "print('Failed in {0} stocks at get:'.format(len(failed)))\n",
    "print(failed)"
   ]
  },
  {
   "cell_type": "code",
   "execution_count": null,
   "metadata": {
    "ExecuteTime": {
     "end_time": "2017-11-11T13:03:10.558557Z",
     "start_time": "2017-11-11T13:03:10.538862Z"
    }
   },
   "outputs": [],
   "source": [
    "price"
   ]
  },
  {
   "cell_type": "code",
   "execution_count": null,
   "metadata": {
    "ExecuteTime": {
     "end_time": "2017-11-11T13:03:30.298374Z",
     "start_time": "2017-11-11T13:03:30.251005Z"
    }
   },
   "outputs": [],
   "source": [
    "info"
   ]
  },
  {
   "cell_type": "markdown",
   "metadata": {},
   "source": [
    "## 単一銘柄の更新"
   ]
  },
  {
   "cell_type": "code",
   "execution_count": null,
   "metadata": {},
   "outputs": [],
   "source": [
    "code = 1301 # 銘柄コード\n",
    "end = None # 読み込み終了日\n",
    "\n",
    "# ロガー設定\n",
    "start_time = dt.datetime.now()\n",
    "logging.basicConfig(filename='get_price_{0}.log'.format(start_time.strftime('%Y-%m-%d')), filemode='w', level=logging.INFO)\n",
    "\n",
    "info = stock.get_yahoo_info() # 保存済み info の読み込み\n",
    "failed = [] # 読み込みに失敗した銘柄のコードを書き込むリストを作成\n",
    "\n",
    "try:\n",
    "    price = stock.get_yahoo_price(code)\n",
    "    last_date = price.index[-1]\n",
    "    start = str((price.index[-1] + offsets.Day()).date())\n",
    "    \n",
    "    # Yahooファイナスンスから時系列情報と銘柄名を取得\n",
    "    tmp_price, stock_name = stock.get_price_yahoojp(code, start=start, end=end)\n",
    "\n",
    "    # 価格と価格以外の情報を分離\n",
    "    tmp_info = tmp_price[tmp_price.isnull().any(axis=1)].reset_index()\n",
    "    if len(tmp_info) > 0:\n",
    "        new_info = stock.reform_info(tmp_info, code, stock_name)\n",
    "        info = info.append(new_info, ignore_index=True)\n",
    "\n",
    "        new_price = stock.extract_price(tmp_price)\n",
    "\n",
    "    else:\n",
    "        new_price = tmp_price # 価格以外の情報がなければそのまま\n",
    "        \n",
    "    price = price.append(new_price)\n",
    "\n",
    "except Exception as e:\n",
    "    logging.warning('{0} {1}: {2}'.format(dt.datetime.now().strftime('%Y-%m-%d %H:%M:%S'), code, e))\n",
    "    failed.append(code)\n",
    "    print('Failed in {0} at get_price'.format(code))\n",
    "    print(e)\n",
    "\n",
    "print('Failed in {0} stocks at get:'.format(len(failed)))\n",
    "print(failed)"
   ]
  },
  {
   "cell_type": "markdown",
   "metadata": {},
   "source": [
    "# 価格データ以外の情報を格納するinfoテーブルを作成、読み込み"
   ]
  },
  {
   "cell_type": "markdown",
   "metadata": {},
   "source": [
    "## (最初だけ。2回目以降は作成不要。上書き注意)"
   ]
  },
  {
   "cell_type": "code",
   "execution_count": null,
   "metadata": {},
   "outputs": [],
   "source": [
    "info = pd.DataFrame(index=[], columns=['Code', 'StockName', 'Date', 'Open', 'High', 'Low', 'Close', 'Volume', 'AdjClose'])\n",
    "info = info.astype({'Code': int}) # int型を代入してもなぜかfloat型になってしまうので、あらかじめ明示しておく\n",
    "info"
   ]
  },
  {
   "cell_type": "markdown",
   "metadata": {},
   "source": [
    "## 価格データの読み込み前に保存済みのinfoテーブルとの結合が必要な場合"
   ]
  },
  {
   "cell_type": "code",
   "execution_count": null,
   "metadata": {
    "collapsed": true
   },
   "outputs": [],
   "source": [
    "info_csv = stock.get_yahoo_info() # 保存済み info の読み込み\n",
    "info = info.append(info_csv).sort_values(by=['Code', 'Date']).reset_index(drop=True)\n",
    "info['Date'] = pd.to_datetime(info['Date'])"
   ]
  },
  {
   "cell_type": "markdown",
   "metadata": {},
   "source": [
    "## infoの内容を確認、修正"
   ]
  },
  {
   "cell_type": "code",
   "execution_count": null,
   "metadata": {},
   "outputs": [],
   "source": [
    "info"
   ]
  },
  {
   "cell_type": "code",
   "execution_count": null,
   "metadata": {
    "collapsed": true
   },
   "outputs": [],
   "source": [
    "info = info.drop_duplicates()"
   ]
  },
  {
   "cell_type": "code",
   "execution_count": null,
   "metadata": {
    "collapsed": true
   },
   "outputs": [],
   "source": [
    "info = info.sort_values(by=['Code', 'Date'])"
   ]
  },
  {
   "cell_type": "code",
   "execution_count": null,
   "metadata": {},
   "outputs": [],
   "source": [
    "info.duplicated().any()"
   ]
  },
  {
   "cell_type": "code",
   "execution_count": null,
   "metadata": {},
   "outputs": [],
   "source": [
    "info[info.duplicated()]"
   ]
  },
  {
   "cell_type": "code",
   "execution_count": null,
   "metadata": {
    "collapsed": true
   },
   "outputs": [],
   "source": [
    "info.to_csv('{0}/yahoo_info.csv'.format(csv_path))"
   ]
  }
 ],
 "metadata": {
  "kernelspec": {
   "display_name": "Python 3",
   "language": "python",
   "name": "python3"
  },
  "language_info": {
   "codemirror_mode": {
    "name": "ipython",
    "version": 3
   },
   "file_extension": ".py",
   "mimetype": "text/x-python",
   "name": "python",
   "nbconvert_exporter": "python",
   "pygments_lexer": "ipython3",
   "version": "3.6.4"
  },
  "toc": {
   "nav_menu": {},
   "number_sections": true,
   "sideBar": true,
   "skip_h1_title": false,
   "toc_cell": false,
   "toc_position": {
    "height": "920px",
    "left": "0px",
    "right": "1179px",
    "top": "107px",
    "width": "174px"
   },
   "toc_section_display": "block",
   "toc_window_display": false
  },
  "varInspector": {
   "cols": {
    "lenName": 16,
    "lenType": 16,
    "lenVar": 40
   },
   "kernels_config": {
    "python": {
     "delete_cmd_postfix": "",
     "delete_cmd_prefix": "del ",
     "library": "var_list.py",
     "varRefreshCmd": "print(var_dic_list())"
    },
    "r": {
     "delete_cmd_postfix": ") ",
     "delete_cmd_prefix": "rm(",
     "library": "var_list.r",
     "varRefreshCmd": "cat(var_dic_list()) "
    }
   },
   "position": {
    "height": "574px",
    "left": "976px",
    "right": "45px",
    "top": "120px",
    "width": "325px"
   },
   "types_to_exclude": [
    "module",
    "function",
    "builtin_function_or_method",
    "instance",
    "_Feature"
   ],
   "window_display": false
  }
 },
 "nbformat": 4,
 "nbformat_minor": 2
}
