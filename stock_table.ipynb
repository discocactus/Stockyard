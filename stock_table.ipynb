{
 "cells": [
  {
   "cell_type": "code",
   "execution_count": null,
   "metadata": {},
   "outputs": [],
   "source": [
    "# pandasのto_csvのデフォルトエンコーディングはUTF-8。\n",
    "# 書き出したファイルをpandasで読み込む場合は問題ない。\n",
    "# Excelで開こうとすると強制的にShift-JISで開こうとするので、日本語が文字化けするがいたしかたなし？\n",
    "# エンコーディングをUTF-8以外にするのは弊害が大きいような気がする。\n",
    "# Excelではファイルを開くのではなく、データのインポートを利用すればエンコードの指定が可能。\n",
    "# メモ帳等で開いて上書き保存すれば自動的にBOMが付加され、Excelもエンコードを認識するらしいが、\n",
    "# BOMを付けるのもExcel以外から開く際に弊害があるらしい。"
   ]
  },
  {
   "cell_type": "markdown",
   "metadata": {},
   "source": [
    "# import"
   ]
  },
  {
   "cell_type": "code",
   "execution_count": null,
   "metadata": {
    "ExecuteTime": {
     "end_time": "2018-02-18T13:17:01.549866Z",
     "start_time": "2018-02-18T13:17:00.865328Z"
    }
   },
   "outputs": [],
   "source": [
    "import numpy as np\n",
    "import pandas as pd\n",
    "import pandas.tseries.offsets as offsets\n",
    "import datetime as dt\n",
    "import time\n",
    "import importlib\n",
    "\n",
    "import stock"
   ]
  },
  {
   "cell_type": "code",
   "execution_count": null,
   "metadata": {
    "ExecuteTime": {
     "end_time": "2018-02-18T13:17:02.435030Z",
     "start_time": "2018-02-18T13:17:02.403735Z"
    }
   },
   "outputs": [],
   "source": [
    "importlib.reload(stock)"
   ]
  },
  {
   "cell_type": "code",
   "execution_count": null,
   "metadata": {
    "ExecuteTime": {
     "end_time": "2018-02-18T13:17:08.298068Z",
     "start_time": "2018-02-18T13:17:08.282852Z"
    }
   },
   "outputs": [],
   "source": [
    "# pandas の最大表示列数を設定 (max_rows で表示行数の設定も可能)\n",
    "pd.set_option('display.max_columns', 30)"
   ]
  },
  {
   "cell_type": "markdown",
   "metadata": {},
   "source": [
    "# パスの設定"
   ]
  },
  {
   "cell_type": "code",
   "execution_count": null,
   "metadata": {
    "ExecuteTime": {
     "end_time": "2018-02-18T13:17:22.313933Z",
     "start_time": "2018-02-18T13:17:22.298734Z"
    }
   },
   "outputs": [],
   "source": [
    "# jpx_path = '/Users/Really/Stockyard/_dl_data'\n",
    "jpx_path = 'D:\\stockyard\\_dl_data'"
   ]
  },
  {
   "cell_type": "code",
   "execution_count": null,
   "metadata": {
    "ExecuteTime": {
     "end_time": "2018-02-18T13:17:23.246301Z",
     "start_time": "2018-02-18T13:17:23.230666Z"
    }
   },
   "outputs": [],
   "source": [
    "# csv_path = '/Users/Really/Stockyard/_csv'\n",
    "csv_path = 'D:\\stockyard\\_csv'"
   ]
  },
  {
   "cell_type": "markdown",
   "metadata": {},
   "source": [
    "# 上場一覧から各種テーブルを作成 (メインはyahoo_stock_table)"
   ]
  },
  {
   "cell_type": "code",
   "execution_count": null,
   "metadata": {
    "ExecuteTime": {
     "end_time": "2018-02-18T13:19:31.571954Z",
     "start_time": "2018-02-18T13:19:31.556290Z"
    }
   },
   "outputs": [],
   "source": [
    "file_month = 1802"
   ]
  },
  {
   "cell_type": "code",
   "execution_count": null,
   "metadata": {
    "ExecuteTime": {
     "end_time": "2018-02-18T13:19:32.773378Z",
     "start_time": "2018-02-18T13:19:32.579241Z"
    }
   },
   "outputs": [],
   "source": [
    "# 東証のエクセルファイルを読み込む # http://www.jpx.co.jp/markets/statistics-equities/misc/01.html\n",
    "all_stock_table = pd.read_excel('{0}/data_j_{1}.xls'.format(jpx_path, file_month))\n",
    "all_stock_table.columns = ['date', 'code', 'name', 'market', 'code_33', 'category_33', 'code_17', 'category_17', 'code_scale', 'scale'] # 列名を変更"
   ]
  },
  {
   "cell_type": "code",
   "execution_count": null,
   "metadata": {
    "ExecuteTime": {
     "end_time": "2018-02-18T13:19:37.994145Z",
     "start_time": "2018-02-18T13:19:37.947264Z"
    }
   },
   "outputs": [],
   "source": [
    "all_stock_table"
   ]
  },
  {
   "cell_type": "code",
   "execution_count": null,
   "metadata": {
    "ExecuteTime": {
     "end_time": "2018-02-18T13:20:40.709369Z",
     "start_time": "2018-02-18T13:20:40.678076Z"
    }
   },
   "outputs": [],
   "source": [
    "# marketの種別で集計\n",
    "all_stock_table.groupby('market').count()"
   ]
  },
  {
   "cell_type": "code",
   "execution_count": null,
   "metadata": {
    "ExecuteTime": {
     "end_time": "2018-02-18T13:19:57.789375Z",
     "start_time": "2018-02-18T13:19:57.419910Z"
    }
   },
   "outputs": [],
   "source": [
    "# 上場一覧のテーブル保存\n",
    "all_stock_table.to_csv('{0}/all_stock_table.csv'.format(csv_path))"
   ]
  },
  {
   "cell_type": "code",
   "execution_count": null,
   "metadata": {
    "ExecuteTime": {
     "end_time": "2018-02-18T13:20:03.367939Z",
     "start_time": "2018-02-18T13:20:03.298868Z"
    }
   },
   "outputs": [],
   "source": [
    "pd.read_csv('{0}/all_stock_table.csv'.format(csv_path), index_col=0)"
   ]
  },
  {
   "cell_type": "code",
   "execution_count": null,
   "metadata": {
    "ExecuteTime": {
     "end_time": "2018-02-18T13:20:08.589217Z",
     "start_time": "2018-02-18T13:20:08.535783Z"
    }
   },
   "outputs": [],
   "source": [
    "# PRO Marketを除いたテーブルの作成 (YahooにはPRO Marketのデータはない)\n",
    "yahoo_stock_table = all_stock_table.loc[~all_stock_table['market'].str.contains('PRO Market')].reset_index(drop=True)\n",
    "yahoo_stock_table"
   ]
  },
  {
   "cell_type": "code",
   "execution_count": null,
   "metadata": {
    "ExecuteTime": {
     "end_time": "2018-02-18T13:20:13.261376Z",
     "start_time": "2018-02-18T13:20:13.214911Z"
    }
   },
   "outputs": [],
   "source": [
    "# PRO Marketを除いたテーブルの保存\n",
    "yahoo_stock_table.to_csv('{0}/yahoo_stock_table.csv'.format(csv_path))"
   ]
  },
  {
   "cell_type": "code",
   "execution_count": null,
   "metadata": {
    "ExecuteTime": {
     "end_time": "2018-02-18T13:20:19.237791Z",
     "start_time": "2018-02-18T13:20:19.175137Z"
    }
   },
   "outputs": [],
   "source": [
    "pd.read_csv('{0}/yahoo_stock_table.csv'.format(csv_path), index_col=0)"
   ]
  },
  {
   "cell_type": "code",
   "execution_count": null,
   "metadata": {
    "ExecuteTime": {
     "end_time": "2018-02-18T13:20:56.740784Z",
     "start_time": "2018-02-18T13:20:56.693905Z"
    }
   },
   "outputs": [],
   "source": [
    "# 内国株のテーブル作成\n",
    "domestic_stock_table = all_stock_table.loc[all_stock_table['market'].str.contains('内国株')].reset_index(drop=True)\n",
    "domestic_stock_table"
   ]
  },
  {
   "cell_type": "code",
   "execution_count": null,
   "metadata": {
    "ExecuteTime": {
     "end_time": "2018-02-18T13:21:05.521728Z",
     "start_time": "2018-02-18T13:21:05.137033Z"
    }
   },
   "outputs": [],
   "source": [
    "# 内国株のテーブル保存\n",
    "domestic_stock_table.to_csv('{0}/domestic_stock_table.csv'.format(csv_path))"
   ]
  },
  {
   "cell_type": "code",
   "execution_count": null,
   "metadata": {
    "ExecuteTime": {
     "end_time": "2018-02-18T13:21:06.422496Z",
     "start_time": "2018-02-18T13:21:06.359673Z"
    }
   },
   "outputs": [],
   "source": [
    "pd.read_csv('{0}/domestic_stock_table.csv'.format(csv_path), index_col=0)"
   ]
  },
  {
   "cell_type": "code",
   "execution_count": null,
   "metadata": {
    "ExecuteTime": {
     "end_time": "2018-02-18T13:21:16.088439Z",
     "start_time": "2018-02-18T13:21:16.019431Z"
    }
   },
   "outputs": [],
   "source": [
    "# 内国株, PRO Market 以外のテーブル作成\n",
    "ex_stock_table = yahoo_stock_table[~yahoo_stock_table['code'].isin(domestic_stock_table['code'])].reset_index(drop=True)\n",
    "\n",
    "# 正規表現を使った書き方の例。\n",
    "# ex_stock_table = all_stock_table.ix[all_stock_table['market'].str.contains('[^内国株）PRO Market]...$')].reset_index(drop=True)\n",
    "# 文字列末尾の合致検索では、'$' の前の '.' の数で検索する文字数 ('.' * n + '$') が決定されているっぽい。\n",
    "# つまりこの場合だと 'PRO Market' で実際に合致が確認されているのは末尾4文字の 'rket' 。\n",
    "# '内国株）', 'PRO Market' をそれぞれグループ化するために' ()' で括る必要はないみたい。(ただし括っても同じ結果になる) \n",
    "\n",
    "# 下の書き方だと最後の1文字しか見ないことになるので、外国株も除外されてしまう。\n",
    "# ex_stock_table = all_stock_table.ix[all_stock_table['market'].str.contains('[^内国株）PRO Market]$')].reset_index(drop=True)\n",
    "# 上はつまり下の書き方と同じこと。\n",
    "# ex_stock_table = all_stock_table.ix[all_stock_table['market'].str.contains('[^）t]$')].reset_index(drop=True)\n",
    "\n",
    "ex_stock_table"
   ]
  },
  {
   "cell_type": "code",
   "execution_count": null,
   "metadata": {
    "ExecuteTime": {
     "end_time": "2018-02-18T13:22:41.166886Z",
     "start_time": "2018-02-18T13:22:41.136081Z"
    }
   },
   "outputs": [],
   "source": [
    "# marketの種別で集計\n",
    "ex_stock_table.groupby('market').count()"
   ]
  },
  {
   "cell_type": "code",
   "execution_count": null,
   "metadata": {
    "ExecuteTime": {
     "end_time": "2018-02-18T13:22:59.906495Z",
     "start_time": "2018-02-18T13:22:59.888827Z"
    }
   },
   "outputs": [],
   "source": [
    "# 内国株, PRO Market 以外のテーブル保存\n",
    "ex_stock_table.to_csv('{0}/ex_stock_table.csv'.format(csv_path))"
   ]
  },
  {
   "cell_type": "code",
   "execution_count": null,
   "metadata": {
    "ExecuteTime": {
     "end_time": "2018-02-18T13:23:01.022690Z",
     "start_time": "2018-02-18T13:23:00.969677Z"
    }
   },
   "outputs": [],
   "source": [
    "pd.read_csv('{0}/ex_stock_table.csv'.format(csv_path), index_col=0)"
   ]
  },
  {
   "cell_type": "code",
   "execution_count": null,
   "metadata": {
    "ExecuteTime": {
     "end_time": "2018-02-18T13:23:17.435648Z",
     "start_time": "2018-02-18T13:23:17.398285Z"
    }
   },
   "outputs": [],
   "source": [
    "# 外国株のテーブル作成\n",
    "foreign_stock_table = all_stock_table.loc[all_stock_table['market'].str.contains('外国株')].reset_index(drop=True)\n",
    "foreign_stock_table"
   ]
  },
  {
   "cell_type": "code",
   "execution_count": null,
   "metadata": {
    "ExecuteTime": {
     "end_time": "2018-02-18T13:23:49.441517Z",
     "start_time": "2018-02-18T13:23:49.425908Z"
    }
   },
   "outputs": [],
   "source": [
    "# 外国株のテーブル保存\n",
    "foreign_stock_table.to_csv('{0}/foreign_stock_table.csv'.format(csv_path))"
   ]
  },
  {
   "cell_type": "code",
   "execution_count": null,
   "metadata": {
    "ExecuteTime": {
     "end_time": "2018-02-18T13:23:50.157294Z",
     "start_time": "2018-02-18T13:23:50.126483Z"
    }
   },
   "outputs": [],
   "source": [
    "pd.read_csv('{0}/foreign_stock_table.csv'.format(csv_path), index_col=0)"
   ]
  },
  {
   "cell_type": "code",
   "execution_count": null,
   "metadata": {
    "ExecuteTime": {
     "end_time": "2018-02-18T13:23:56.290744Z",
     "start_time": "2018-02-18T13:23:56.213062Z"
    }
   },
   "outputs": [],
   "source": [
    "# 型の確認\n",
    "pd.DataFrame([\n",
    "    pd.read_csv('{0}/all_stock_table.csv'.format(csv_path), index_col=0).dtypes,\n",
    "    pd.read_csv('{0}/yahoo_stock_table.csv'.format(csv_path), index_col=0).dtypes,\n",
    "    pd.read_csv('{0}/domestic_stock_table.csv'.format(csv_path), index_col=0).dtypes,\n",
    "    pd.read_csv('{0}/ex_stock_table.csv'.format(csv_path), index_col=0).dtypes,\n",
    "    pd.read_csv('{0}/foreign_stock_table.csv'.format(csv_path), index_col=0).dtypes],\n",
    "    index=['all', 'yahoo', 'domestic', 'ex', 'foreign'])"
   ]
  },
  {
   "cell_type": "markdown",
   "metadata": {},
   "source": [
    "# 上場一覧の更新"
   ]
  },
  {
   "cell_type": "markdown",
   "metadata": {},
   "source": [
    "## 新旧ファイルの読み込み"
   ]
  },
  {
   "cell_type": "code",
   "execution_count": null,
   "metadata": {
    "ExecuteTime": {
     "end_time": "2018-02-18T13:24:14.326110Z",
     "start_time": "2018-02-18T13:24:14.310469Z"
    }
   },
   "outputs": [],
   "source": [
    "new_file_month = 1802\n",
    "old_file_month = 1801"
   ]
  },
  {
   "cell_type": "code",
   "execution_count": null,
   "metadata": {
    "ExecuteTime": {
     "end_time": "2018-02-18T13:24:18.188870Z",
     "start_time": "2018-02-18T13:24:18.056985Z"
    }
   },
   "outputs": [],
   "source": [
    "# 東証のエクセルファイルを読み込む # http://www.jpx.co.jp/markets/statistics-equities/misc/01.html\n",
    "new_stock_table = pd.read_excel('{0}/data_j_{1}.xls'.format(jpx_path, new_file_month))\n",
    "new_stock_table.columns = ['date', 'code', 'name', 'market', 'code_33', 'category_33', 'code_17', 'category_17', 'code_scale', 'scale'] # 列名を変更"
   ]
  },
  {
   "cell_type": "code",
   "execution_count": null,
   "metadata": {
    "ExecuteTime": {
     "end_time": "2018-02-18T13:24:18.975753Z",
     "start_time": "2018-02-18T13:24:18.922729Z"
    }
   },
   "outputs": [],
   "source": [
    "new_stock_table"
   ]
  },
  {
   "cell_type": "code",
   "execution_count": null,
   "metadata": {
    "ExecuteTime": {
     "end_time": "2018-02-18T13:24:20.624504Z",
     "start_time": "2018-02-18T13:24:20.608947Z"
    }
   },
   "outputs": [],
   "source": [
    "new_stock_table.dtypes"
   ]
  },
  {
   "cell_type": "code",
   "execution_count": null,
   "metadata": {
    "ExecuteTime": {
     "end_time": "2018-02-18T13:24:27.373135Z",
     "start_time": "2018-02-18T13:24:27.219822Z"
    }
   },
   "outputs": [],
   "source": [
    "# 旧エクセルファイルの読み込み\n",
    "old_stock_table = pd.read_excel('{0}/data_j_{1}.xls'.format(jpx_path, old_file_month))\n",
    "old_stock_table.columns = ['date', 'code', 'name', 'market', 'code_33', 'category_33', 'code_17', 'category_17', 'code_scale', 'scale'] # 列名を変更"
   ]
  },
  {
   "cell_type": "code",
   "execution_count": null,
   "metadata": {
    "ExecuteTime": {
     "end_time": "2018-02-18T13:24:28.074434Z",
     "start_time": "2018-02-18T13:24:28.021309Z"
    }
   },
   "outputs": [],
   "source": [
    "old_stock_table"
   ]
  },
  {
   "cell_type": "code",
   "execution_count": null,
   "metadata": {
    "ExecuteTime": {
     "end_time": "2018-02-18T13:24:31.411116Z",
     "start_time": "2018-02-18T13:24:31.395900Z"
    }
   },
   "outputs": [],
   "source": [
    "old_stock_table.dtypes"
   ]
  },
  {
   "cell_type": "markdown",
   "metadata": {},
   "source": [
    "## 新規上場銘柄"
   ]
  },
  {
   "cell_type": "code",
   "execution_count": null,
   "metadata": {
    "ExecuteTime": {
     "end_time": "2018-02-18T13:24:39.971956Z",
     "start_time": "2018-02-18T13:24:39.954825Z"
    }
   },
   "outputs": [],
   "source": [
    "# 新規上場銘柄のテーブル作成\n",
    "new_added = new_stock_table[~new_stock_table['code'].isin(old_stock_table['code'])].reset_index(drop=True)\n",
    "new_added"
   ]
  },
  {
   "cell_type": "code",
   "execution_count": null,
   "metadata": {
    "ExecuteTime": {
     "end_time": "2018-02-18T13:24:56.703125Z",
     "start_time": "2018-02-18T13:24:56.687522Z"
    }
   },
   "outputs": [],
   "source": [
    "# 新規上場銘柄のテーブル保存\n",
    "new_added.to_csv('{0}/new_added_stock_table.csv'.format(csv_path))"
   ]
  },
  {
   "cell_type": "code",
   "execution_count": null,
   "metadata": {
    "ExecuteTime": {
     "end_time": "2018-02-18T13:25:05.974704Z",
     "start_time": "2018-02-18T13:25:05.943293Z"
    }
   },
   "outputs": [],
   "source": [
    "pd.read_csv('{0}/new_added_stock_table.csv'.format(csv_path), index_col=0)"
   ]
  },
  {
   "cell_type": "code",
   "execution_count": null,
   "metadata": {
    "ExecuteTime": {
     "end_time": "2018-02-18T13:25:16.023341Z",
     "start_time": "2018-02-18T13:25:15.838824Z"
    }
   },
   "outputs": [],
   "source": [
    "# 新規上場銘柄の履歴テーブルの読み込み\n",
    "saved_added = pd.read_csv('{0}/added_stock_table.csv'.format(csv_path), index_col=0)\n",
    "saved_added"
   ]
  },
  {
   "cell_type": "code",
   "execution_count": null,
   "metadata": {
    "ExecuteTime": {
     "end_time": "2018-02-04T06:30:34.254060Z",
     "start_time": "2018-02-04T06:30:34.238426Z"
    },
    "collapsed": true
   },
   "outputs": [],
   "source": [
    "saved_added.dtypes"
   ]
  },
  {
   "cell_type": "code",
   "execution_count": null,
   "metadata": {
    "ExecuteTime": {
     "end_time": "2018-02-18T13:25:24.780069Z",
     "start_time": "2018-02-18T13:25:24.733163Z"
    }
   },
   "outputs": [],
   "source": [
    "# 新旧テーブルの連結\n",
    "added_stock_table = saved_added.append(new_added).reset_index(drop=True)\n",
    "added_stock_table"
   ]
  },
  {
   "cell_type": "code",
   "execution_count": null,
   "metadata": {
    "ExecuteTime": {
     "end_time": "2018-02-18T13:25:37.719799Z",
     "start_time": "2018-02-18T13:25:37.703718Z"
    }
   },
   "outputs": [],
   "source": [
    "added_stock_table.dtypes"
   ]
  },
  {
   "cell_type": "code",
   "execution_count": null,
   "metadata": {
    "ExecuteTime": {
     "end_time": "2018-02-18T13:25:50.758025Z",
     "start_time": "2018-02-18T13:25:50.742425Z"
    }
   },
   "outputs": [],
   "source": [
    "# 新規上場銘柄の履歴テーブル保存\n",
    "added_stock_table.to_csv('{0}/added_stock_table.csv'.format(csv_path))"
   ]
  },
  {
   "cell_type": "code",
   "execution_count": null,
   "metadata": {
    "ExecuteTime": {
     "end_time": "2018-02-18T13:25:51.811746Z",
     "start_time": "2018-02-18T13:25:51.764695Z"
    }
   },
   "outputs": [],
   "source": [
    "pd.read_csv('{0}/added_stock_table.csv'.format(csv_path), index_col=0)"
   ]
  },
  {
   "cell_type": "markdown",
   "metadata": {},
   "source": [
    "## 上場廃止銘柄"
   ]
  },
  {
   "cell_type": "code",
   "execution_count": null,
   "metadata": {
    "ExecuteTime": {
     "end_time": "2018-02-18T13:26:15.759127Z",
     "start_time": "2018-02-18T13:26:15.727874Z"
    }
   },
   "outputs": [],
   "source": [
    "# 上場廃止銘柄のテーブル作成\n",
    "new_discontinued = old_stock_table[~old_stock_table['code'].isin(new_stock_table['code'])].reset_index(drop=True)\n",
    "new_discontinued"
   ]
  },
  {
   "cell_type": "code",
   "execution_count": null,
   "metadata": {
    "ExecuteTime": {
     "end_time": "2018-02-18T13:26:48.504117Z",
     "start_time": "2018-02-18T13:26:48.356791Z"
    }
   },
   "outputs": [],
   "source": [
    "# 上場廃止銘柄の履歴テーブルの読み込み\n",
    "saved_discontinued = pd.read_csv('{0}/discontinued_stock_table.csv'.format(csv_path), index_col=0)\n",
    "saved_discontinued"
   ]
  },
  {
   "cell_type": "code",
   "execution_count": null,
   "metadata": {
    "ExecuteTime": {
     "end_time": "2018-02-04T06:36:09.317668Z",
     "start_time": "2018-02-04T06:36:09.286863Z"
    },
    "collapsed": true
   },
   "outputs": [],
   "source": [
    "saved_discontinued.dtypes"
   ]
  },
  {
   "cell_type": "code",
   "execution_count": null,
   "metadata": {
    "ExecuteTime": {
     "end_time": "2018-02-18T13:27:59.597464Z",
     "start_time": "2018-02-18T13:27:59.566275Z"
    }
   },
   "outputs": [],
   "source": [
    "# 新旧テーブルの連結\n",
    "discontinued_stock_table = saved_discontinued.append(new_discontinued).reset_index(drop=True)\n",
    "discontinued_stock_table"
   ]
  },
  {
   "cell_type": "code",
   "execution_count": null,
   "metadata": {
    "ExecuteTime": {
     "end_time": "2018-02-18T13:28:31.260317Z",
     "start_time": "2018-02-18T13:28:31.229066Z"
    }
   },
   "outputs": [],
   "source": [
    "discontinued_stock_table.dtypes"
   ]
  },
  {
   "cell_type": "code",
   "execution_count": null,
   "metadata": {
    "ExecuteTime": {
     "end_time": "2018-02-18T13:28:32.833976Z",
     "start_time": "2018-02-18T13:28:32.467105Z"
    }
   },
   "outputs": [],
   "source": [
    "# 上場廃止銘柄の履歴テーブル保存\n",
    "discontinued_stock_table.to_csv('{0}/discontinued_stock_table.csv'.format(csv_path))"
   ]
  },
  {
   "cell_type": "code",
   "execution_count": null,
   "metadata": {
    "ExecuteTime": {
     "end_time": "2018-02-18T13:28:34.006019Z",
     "start_time": "2018-02-18T13:28:33.974762Z"
    }
   },
   "outputs": [],
   "source": [
    "pd.read_csv('{0}/discontinued_stock_table.csv'.format(csv_path), index_col=0)"
   ]
  },
  {
   "cell_type": "markdown",
   "metadata": {},
   "source": [
    "# 連続読み込み用コードリストの作成例"
   ]
  },
  {
   "cell_type": "markdown",
   "metadata": {},
   "source": [
    "## yahoo 連続読み込み用コードリスト作成"
   ]
  },
  {
   "cell_type": "code",
   "execution_count": null,
   "metadata": {
    "ExecuteTime": {
     "end_time": "2018-02-04T06:56:11.996213Z",
     "start_time": "2018-02-04T06:56:11.964925Z"
    }
   },
   "outputs": [],
   "source": [
    "start_index = 0\n",
    "increase_number = 10\n",
    "end_index = start_index + increase_number\n",
    "\n",
    "reading_code = stock.get_yahoo_stock_code(start_index, end_index)\n",
    "print(reading_code[-10:])\n",
    "print('Next start from {0}'.format(start_index + increase_number))"
   ]
  },
  {
   "cell_type": "markdown",
   "metadata": {},
   "source": [
    "## 新規銘柄読み込み用コードリスト作成"
   ]
  },
  {
   "cell_type": "code",
   "execution_count": null,
   "metadata": {
    "ExecuteTime": {
     "end_time": "2018-02-04T07:01:36.494761Z",
     "start_time": "2018-02-04T07:01:36.463513Z"
    }
   },
   "outputs": [],
   "source": [
    "reading_code = stock.get_new_added_stock_code()\n",
    "reading_code"
   ]
  },
  {
   "cell_type": "code",
   "execution_count": null,
   "metadata": {},
   "outputs": [],
   "source": []
  }
 ],
 "metadata": {
  "kernelspec": {
   "display_name": "Python 3",
   "language": "python",
   "name": "python3"
  },
  "language_info": {
   "codemirror_mode": {
    "name": "ipython",
    "version": 3
   },
   "file_extension": ".py",
   "mimetype": "text/x-python",
   "name": "python",
   "nbconvert_exporter": "python",
   "pygments_lexer": "ipython3",
   "version": "3.6.4"
  },
  "toc": {
   "nav_menu": {},
   "number_sections": true,
   "sideBar": true,
   "skip_h1_title": false,
   "toc_cell": false,
   "toc_position": {},
   "toc_section_display": "block",
   "toc_window_display": false
  },
  "varInspector": {
   "cols": {
    "lenName": 16,
    "lenType": 16,
    "lenVar": 40
   },
   "kernels_config": {
    "python": {
     "delete_cmd_postfix": "",
     "delete_cmd_prefix": "del ",
     "library": "var_list.py",
     "varRefreshCmd": "print(var_dic_list())"
    },
    "r": {
     "delete_cmd_postfix": ") ",
     "delete_cmd_prefix": "rm(",
     "library": "var_list.r",
     "varRefreshCmd": "cat(var_dic_list()) "
    }
   },
   "types_to_exclude": [
    "module",
    "function",
    "builtin_function_or_method",
    "instance",
    "_Feature"
   ],
   "window_display": false
  }
 },
 "nbformat": 4,
 "nbformat_minor": 2
}
