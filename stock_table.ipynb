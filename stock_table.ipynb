{
 "cells": [
  {
   "cell_type": "code",
   "execution_count": null,
   "metadata": {},
   "outputs": [],
   "source": [
    "# pandasのto_csvのデフォルトエンコーディングはUTF-8。\n",
    "# 書き出したファイルをpandasで読み込む場合は問題ない。\n",
    "# Excelで開こうとすると強制的にShift-JISで開こうとするので、日本語が文字化けするがいたしかたなし？\n",
    "# エンコーディングをUTF-8以外にするのは弊害が大きいような気がする。\n",
    "# Excelではファイルを開くのではなく、データのインポートを利用すればエンコードの指定が可能。\n",
    "# メモ帳等で開いて上書き保存すれば自動的にBOMが付加され、Excelもエンコードを認識するらしいが、\n",
    "# BOMを付けるのもExcel以外から開く際に弊害があるらしい。"
   ]
  },
  {
   "cell_type": "markdown",
   "metadata": {},
   "source": [
    "# import"
   ]
  },
  {
   "cell_type": "code",
   "execution_count": null,
   "metadata": {
    "ExecuteTime": {
     "end_time": "2018-03-09T06:41:39.437157Z",
     "start_time": "2018-03-09T06:41:39.030850Z"
    }
   },
   "outputs": [],
   "source": [
    "import numpy as np\n",
    "import pandas as pd\n",
    "import pandas.tseries.offsets as offsets\n",
    "import datetime as dt\n",
    "import time\n",
    "import importlib\n",
    "\n",
    "import stock"
   ]
  },
  {
   "cell_type": "code",
   "execution_count": null,
   "metadata": {
    "ExecuteTime": {
     "end_time": "2018-03-09T08:21:42.480064Z",
     "start_time": "2018-03-09T08:21:42.448758Z"
    }
   },
   "outputs": [],
   "source": [
    "importlib.reload(stock)"
   ]
  },
  {
   "cell_type": "code",
   "execution_count": null,
   "metadata": {
    "ExecuteTime": {
     "end_time": "2018-03-09T06:41:40.952897Z",
     "start_time": "2018-03-09T06:41:40.937686Z"
    }
   },
   "outputs": [],
   "source": [
    "# pandas の最大表示列数を設定 (max_rows で表示行数の設定も可能)\n",
    "pd.set_option('display.max_columns', 30)"
   ]
  },
  {
   "cell_type": "markdown",
   "metadata": {},
   "source": [
    "# パスの設定"
   ]
  },
  {
   "cell_type": "code",
   "execution_count": null,
   "metadata": {
    "ExecuteTime": {
     "end_time": "2018-03-04T01:16:21.968225Z",
     "start_time": "2018-03-04T01:16:21.952630Z"
    }
   },
   "outputs": [],
   "source": [
    "# jpx_path = '/Users/Really/Stockyard/_dl_data'\n",
    "jpx_path = 'D:\\stockyard\\_dl_data'"
   ]
  },
  {
   "cell_type": "code",
   "execution_count": null,
   "metadata": {
    "ExecuteTime": {
     "end_time": "2018-03-09T06:41:48.141167Z",
     "start_time": "2018-03-09T06:41:48.125720Z"
    }
   },
   "outputs": [],
   "source": [
    "# csv_path = '/Users/Really/Stockyard/_csv'\n",
    "csv_path = 'D:\\stockyard\\_csv'"
   ]
  },
  {
   "cell_type": "markdown",
   "metadata": {},
   "source": [
    "# 上場一覧から各種テーブルを作成 (メインはjpx_expro)"
   ]
  },
  {
   "cell_type": "code",
   "execution_count": null,
   "metadata": {
    "ExecuteTime": {
     "end_time": "2018-03-04T01:17:05.027951Z",
     "start_time": "2018-03-04T01:17:05.012326Z"
    }
   },
   "outputs": [],
   "source": [
    "file_month = 1802"
   ]
  },
  {
   "cell_type": "code",
   "execution_count": null,
   "metadata": {
    "ExecuteTime": {
     "end_time": "2018-03-04T01:30:51.066633Z",
     "start_time": "2018-03-04T01:30:50.894739Z"
    }
   },
   "outputs": [],
   "source": [
    "# 東証のエクセルファイルを読み込む # http://www.jpx.co.jp/markets/statistics-equities/misc/01.html\n",
    "jpx_all = pd.read_excel('{0}/data_j_{1}.xls'.format(jpx_path, file_month))\n",
    "jpx_all.columns = ['date', 'code', 'name', 'market', 'code_33', 'category_33', 'code_17', 'category_17', 'code_scale', 'scale'] # 列名を変更"
   ]
  },
  {
   "cell_type": "code",
   "execution_count": null,
   "metadata": {
    "ExecuteTime": {
     "end_time": "2018-02-18T13:19:37.994145Z",
     "start_time": "2018-02-18T13:19:37.947264Z"
    }
   },
   "outputs": [],
   "source": [
    "jpx_all"
   ]
  },
  {
   "cell_type": "code",
   "execution_count": null,
   "metadata": {
    "ExecuteTime": {
     "end_time": "2018-03-04T01:30:52.801213Z",
     "start_time": "2018-03-04T01:30:52.769971Z"
    }
   },
   "outputs": [],
   "source": [
    "# marketの種別で集計\n",
    "jpx_all.groupby('market').count()"
   ]
  },
  {
   "cell_type": "code",
   "execution_count": null,
   "metadata": {
    "ExecuteTime": {
     "end_time": "2018-03-04T01:30:55.911135Z",
     "start_time": "2018-03-04T01:30:55.864021Z"
    }
   },
   "outputs": [],
   "source": [
    "# 上場一覧のテーブル保存\n",
    "jpx_all.to_csv('{0}/jpx_all.csv'.format(csv_path))"
   ]
  },
  {
   "cell_type": "code",
   "execution_count": null,
   "metadata": {
    "ExecuteTime": {
     "end_time": "2018-03-04T01:30:56.989145Z",
     "start_time": "2018-03-04T01:30:56.926674Z"
    }
   },
   "outputs": [],
   "source": [
    "pd.read_csv('{0}/jpx_all.csv'.format(csv_path), index_col=0)"
   ]
  },
  {
   "cell_type": "code",
   "execution_count": null,
   "metadata": {
    "ExecuteTime": {
     "end_time": "2018-03-04T01:30:58.699663Z",
     "start_time": "2018-03-04T01:30:58.637179Z"
    }
   },
   "outputs": [],
   "source": [
    "# PRO Marketを除いたテーブルの作成 (YahooにはPRO Marketのデータはない)\n",
    "jpx_expro = jpx_all.loc[~jpx_all['market'].str.contains('PRO Market')].reset_index(drop=True)\n",
    "jpx_expro"
   ]
  },
  {
   "cell_type": "code",
   "execution_count": null,
   "metadata": {
    "ExecuteTime": {
     "end_time": "2018-03-04T01:31:01.324943Z",
     "start_time": "2018-03-04T01:31:01.278497Z"
    }
   },
   "outputs": [],
   "source": [
    "# PRO Marketを除いたテーブルの保存\n",
    "jpx_expro.to_csv('{0}/jpx_expro.csv'.format(csv_path))"
   ]
  },
  {
   "cell_type": "code",
   "execution_count": null,
   "metadata": {
    "ExecuteTime": {
     "end_time": "2018-03-04T01:31:02.168835Z",
     "start_time": "2018-03-04T01:31:02.106288Z"
    }
   },
   "outputs": [],
   "source": [
    "pd.read_csv('{0}/jpx_expro.csv'.format(csv_path), index_col=0)"
   ]
  },
  {
   "cell_type": "code",
   "execution_count": null,
   "metadata": {
    "ExecuteTime": {
     "end_time": "2018-03-04T01:31:05.272344Z",
     "start_time": "2018-03-04T01:31:05.209627Z"
    }
   },
   "outputs": [],
   "source": [
    "# 内国株のテーブル作成\n",
    "jpx_domestic = jpx_all.loc[jpx_all['market'].str.contains('内国株')].reset_index(drop=True)\n",
    "jpx_domestic"
   ]
  },
  {
   "cell_type": "code",
   "execution_count": null,
   "metadata": {
    "ExecuteTime": {
     "end_time": "2018-03-04T01:31:05.946300Z",
     "start_time": "2018-03-04T01:31:05.899290Z"
    }
   },
   "outputs": [],
   "source": [
    "# 内国株のテーブル保存\n",
    "jpx_domestic.to_csv('{0}/jpx_domestic.csv'.format(csv_path))"
   ]
  },
  {
   "cell_type": "code",
   "execution_count": null,
   "metadata": {
    "ExecuteTime": {
     "end_time": "2018-03-04T01:31:06.524174Z",
     "start_time": "2018-03-04T01:31:06.461667Z"
    }
   },
   "outputs": [],
   "source": [
    "pd.read_csv('{0}/jpx_domestic.csv'.format(csv_path), index_col=0)"
   ]
  },
  {
   "cell_type": "code",
   "execution_count": null,
   "metadata": {
    "ExecuteTime": {
     "end_time": "2018-03-04T01:31:09.596100Z",
     "start_time": "2018-03-04T01:31:09.542672Z"
    }
   },
   "outputs": [],
   "source": [
    "# 内国株, PRO Market 以外のテーブル作成\n",
    "jpx_extra = jpx_expro[~jpx_expro['code'].isin(jpx_domestic['code'])].reset_index(drop=True)\n",
    "\n",
    "# 正規表現を使った書き方の例。\n",
    "# jpx_extra = jpx_all.ix[jpx_all['market'].str.contains('[^内国株）PRO Market]...$')].reset_index(drop=True)\n",
    "# 文字列末尾の合致検索では、'$' の前の '.' の数で検索する文字数 ('.' * n + '$') が決定されているっぽい。\n",
    "# つまりこの場合だと 'PRO Market' で実際に合致が確認されているのは末尾4文字の 'rket' 。\n",
    "# '内国株）', 'PRO Market' をそれぞれグループ化するために' ()' で括る必要はないみたい。(ただし括っても同じ結果になる) \n",
    "\n",
    "# 下の書き方だと最後の1文字しか見ないことになるので、外国株も除外されてしまう。\n",
    "# jpx_extra = jpx_all.ix[jpx_all['market'].str.contains('[^内国株）PRO Market]$')].reset_index(drop=True)\n",
    "# 上はつまり下の書き方と同じこと。\n",
    "# jpx_extra = jpx_all.ix[jpx_all['market'].str.contains('[^）t]$')].reset_index(drop=True)\n",
    "\n",
    "jpx_extra"
   ]
  },
  {
   "cell_type": "code",
   "execution_count": null,
   "metadata": {
    "ExecuteTime": {
     "end_time": "2018-03-04T01:31:13.481459Z",
     "start_time": "2018-03-04T01:31:13.443727Z"
    }
   },
   "outputs": [],
   "source": [
    "# marketの種別で集計\n",
    "jpx_extra.groupby('market').count()"
   ]
  },
  {
   "cell_type": "code",
   "execution_count": null,
   "metadata": {
    "ExecuteTime": {
     "end_time": "2018-03-04T01:31:16.417067Z",
     "start_time": "2018-03-04T01:31:16.401438Z"
    }
   },
   "outputs": [],
   "source": [
    "# 内国株, PRO Market 以外のテーブル保存\n",
    "jpx_extra.to_csv('{0}/jpx_extra.csv'.format(csv_path))"
   ]
  },
  {
   "cell_type": "code",
   "execution_count": null,
   "metadata": {
    "ExecuteTime": {
     "end_time": "2018-03-04T01:31:17.120266Z",
     "start_time": "2018-03-04T01:31:17.057760Z"
    }
   },
   "outputs": [],
   "source": [
    "pd.read_csv('{0}/jpx_extra.csv'.format(csv_path), index_col=0)"
   ]
  },
  {
   "cell_type": "code",
   "execution_count": null,
   "metadata": {
    "ExecuteTime": {
     "end_time": "2018-03-04T01:31:19.995575Z",
     "start_time": "2018-03-04T01:31:19.964352Z"
    }
   },
   "outputs": [],
   "source": [
    "# 外国株のテーブル作成\n",
    "jpx_foreign = jpx_all.loc[jpx_all['market'].str.contains('外国株')].reset_index(drop=True)\n",
    "jpx_foreign"
   ]
  },
  {
   "cell_type": "code",
   "execution_count": null,
   "metadata": {
    "ExecuteTime": {
     "end_time": "2018-03-04T01:31:20.605013Z",
     "start_time": "2018-03-04T01:31:20.589387Z"
    }
   },
   "outputs": [],
   "source": [
    "# 外国株のテーブル保存\n",
    "jpx_foreign.to_csv('{0}/jpx_foreign.csv'.format(csv_path))"
   ]
  },
  {
   "cell_type": "code",
   "execution_count": null,
   "metadata": {
    "ExecuteTime": {
     "end_time": "2018-03-04T01:31:21.464480Z",
     "start_time": "2018-03-04T01:31:21.433227Z"
    }
   },
   "outputs": [],
   "source": [
    "pd.read_csv('{0}/jpx_foreign.csv'.format(csv_path), index_col=0)"
   ]
  },
  {
   "cell_type": "code",
   "execution_count": null,
   "metadata": {
    "ExecuteTime": {
     "end_time": "2018-03-04T01:31:24.277283Z",
     "start_time": "2018-03-04T01:31:24.199149Z"
    }
   },
   "outputs": [],
   "source": [
    "# 型の確認\n",
    "pd.DataFrame([\n",
    "    pd.read_csv('{0}/jpx_all.csv'.format(csv_path), index_col=0).dtypes,\n",
    "    pd.read_csv('{0}/jpx_expro.csv'.format(csv_path), index_col=0).dtypes,\n",
    "    pd.read_csv('{0}/jpx_domestic.csv'.format(csv_path), index_col=0).dtypes,\n",
    "    pd.read_csv('{0}/jpx_extra.csv'.format(csv_path), index_col=0).dtypes,\n",
    "    pd.read_csv('{0}/jpx_foreign.csv'.format(csv_path), index_col=0).dtypes],\n",
    "    index=['all', 'yahoo', 'domestic', 'ex', 'foreign'])"
   ]
  },
  {
   "cell_type": "markdown",
   "metadata": {},
   "source": [
    "# 上場一覧の更新"
   ]
  },
  {
   "cell_type": "markdown",
   "metadata": {},
   "source": [
    "## 新旧ファイルの読み込み"
   ]
  },
  {
   "cell_type": "code",
   "execution_count": null,
   "metadata": {
    "ExecuteTime": {
     "end_time": "2018-02-18T13:24:14.326110Z",
     "start_time": "2018-02-18T13:24:14.310469Z"
    }
   },
   "outputs": [],
   "source": [
    "new_file_month = 1802\n",
    "old_file_month = 1801"
   ]
  },
  {
   "cell_type": "code",
   "execution_count": null,
   "metadata": {
    "ExecuteTime": {
     "end_time": "2018-02-18T13:24:18.188870Z",
     "start_time": "2018-02-18T13:24:18.056985Z"
    }
   },
   "outputs": [],
   "source": [
    "# 東証のエクセルファイルを読み込む # http://www.jpx.co.jp/markets/statistics-equities/misc/01.html\n",
    "new_jpx = pd.read_excel('{0}/data_j_{1}.xls'.format(jpx_path, new_file_month))\n",
    "new_jpx.columns = ['date', 'code', 'name', 'market', 'code_33', 'category_33', 'code_17', 'category_17', 'code_scale', 'scale'] # 列名を変更"
   ]
  },
  {
   "cell_type": "code",
   "execution_count": null,
   "metadata": {
    "ExecuteTime": {
     "end_time": "2018-02-18T13:24:18.975753Z",
     "start_time": "2018-02-18T13:24:18.922729Z"
    }
   },
   "outputs": [],
   "source": [
    "new_jpx"
   ]
  },
  {
   "cell_type": "code",
   "execution_count": null,
   "metadata": {
    "ExecuteTime": {
     "end_time": "2018-02-18T13:24:20.624504Z",
     "start_time": "2018-02-18T13:24:20.608947Z"
    }
   },
   "outputs": [],
   "source": [
    "new_jpx.dtypes"
   ]
  },
  {
   "cell_type": "code",
   "execution_count": null,
   "metadata": {
    "ExecuteTime": {
     "end_time": "2018-02-18T13:24:27.373135Z",
     "start_time": "2018-02-18T13:24:27.219822Z"
    }
   },
   "outputs": [],
   "source": [
    "# 旧エクセルファイルの読み込み\n",
    "old_jpx = pd.read_excel('{0}/data_j_{1}.xls'.format(jpx_path, old_file_month))\n",
    "old_jpx.columns = ['date', 'code', 'name', 'market', 'code_33', 'category_33', 'code_17', 'category_17', 'code_scale', 'scale'] # 列名を変更"
   ]
  },
  {
   "cell_type": "code",
   "execution_count": null,
   "metadata": {
    "ExecuteTime": {
     "end_time": "2018-02-18T13:24:28.074434Z",
     "start_time": "2018-02-18T13:24:28.021309Z"
    }
   },
   "outputs": [],
   "source": [
    "old_jpx"
   ]
  },
  {
   "cell_type": "code",
   "execution_count": null,
   "metadata": {
    "ExecuteTime": {
     "end_time": "2018-02-18T13:24:31.411116Z",
     "start_time": "2018-02-18T13:24:31.395900Z"
    }
   },
   "outputs": [],
   "source": [
    "old_jpx.dtypes"
   ]
  },
  {
   "cell_type": "markdown",
   "metadata": {},
   "source": [
    "## 新規上場銘柄"
   ]
  },
  {
   "cell_type": "code",
   "execution_count": null,
   "metadata": {
    "ExecuteTime": {
     "end_time": "2018-02-18T13:24:39.971956Z",
     "start_time": "2018-02-18T13:24:39.954825Z"
    }
   },
   "outputs": [],
   "source": [
    "# 新規上場銘柄のテーブル作成\n",
    "new_added = new_jpx[~new_jpx['code'].isin(old_jpx['code'])].reset_index(drop=True)\n",
    "new_added"
   ]
  },
  {
   "cell_type": "code",
   "execution_count": null,
   "metadata": {
    "ExecuteTime": {
     "end_time": "2018-02-18T13:24:56.703125Z",
     "start_time": "2018-02-18T13:24:56.687522Z"
    }
   },
   "outputs": [],
   "source": [
    "# 新規上場銘柄のテーブル保存\n",
    "new_added.to_csv('{0}/jpx_new_added.csv'.format(csv_path))"
   ]
  },
  {
   "cell_type": "code",
   "execution_count": null,
   "metadata": {
    "ExecuteTime": {
     "end_time": "2018-02-18T13:25:05.974704Z",
     "start_time": "2018-02-18T13:25:05.943293Z"
    }
   },
   "outputs": [],
   "source": [
    "pd.read_csv('{0}/jpx_new_added.csv'.format(csv_path), index_col=0)"
   ]
  },
  {
   "cell_type": "code",
   "execution_count": null,
   "metadata": {
    "ExecuteTime": {
     "end_time": "2018-02-18T13:25:16.023341Z",
     "start_time": "2018-02-18T13:25:15.838824Z"
    }
   },
   "outputs": [],
   "source": [
    "# 新規上場銘柄の履歴テーブルの読み込み\n",
    "saved_added = pd.read_csv('{0}/jpx_added.csv'.format(csv_path), index_col=0)\n",
    "saved_added"
   ]
  },
  {
   "cell_type": "code",
   "execution_count": null,
   "metadata": {
    "ExecuteTime": {
     "end_time": "2018-02-04T06:30:34.254060Z",
     "start_time": "2018-02-04T06:30:34.238426Z"
    },
    "collapsed": true
   },
   "outputs": [],
   "source": [
    "saved_added.dtypes"
   ]
  },
  {
   "cell_type": "code",
   "execution_count": null,
   "metadata": {
    "ExecuteTime": {
     "end_time": "2018-02-18T13:25:24.780069Z",
     "start_time": "2018-02-18T13:25:24.733163Z"
    }
   },
   "outputs": [],
   "source": [
    "# 新旧テーブルの連結\n",
    "jpx_added = saved_added.append(new_added).reset_index(drop=True)\n",
    "jpx_added"
   ]
  },
  {
   "cell_type": "code",
   "execution_count": null,
   "metadata": {
    "ExecuteTime": {
     "end_time": "2018-02-18T13:25:37.719799Z",
     "start_time": "2018-02-18T13:25:37.703718Z"
    }
   },
   "outputs": [],
   "source": [
    "jpx_added.dtypes"
   ]
  },
  {
   "cell_type": "code",
   "execution_count": null,
   "metadata": {
    "ExecuteTime": {
     "end_time": "2018-02-18T13:25:50.758025Z",
     "start_time": "2018-02-18T13:25:50.742425Z"
    }
   },
   "outputs": [],
   "source": [
    "# 新規上場銘柄の履歴テーブル保存\n",
    "jpx_added.to_csv('{0}/jpx_added.csv'.format(csv_path))"
   ]
  },
  {
   "cell_type": "code",
   "execution_count": null,
   "metadata": {
    "ExecuteTime": {
     "end_time": "2018-02-18T13:25:51.811746Z",
     "start_time": "2018-02-18T13:25:51.764695Z"
    }
   },
   "outputs": [],
   "source": [
    "pd.read_csv('{0}/jpx_added.csv'.format(csv_path), index_col=0)"
   ]
  },
  {
   "cell_type": "markdown",
   "metadata": {},
   "source": [
    "## 上場廃止銘柄"
   ]
  },
  {
   "cell_type": "code",
   "execution_count": null,
   "metadata": {
    "ExecuteTime": {
     "end_time": "2018-02-18T13:26:15.759127Z",
     "start_time": "2018-02-18T13:26:15.727874Z"
    }
   },
   "outputs": [],
   "source": [
    "# 上場廃止銘柄のテーブル作成\n",
    "new_discontinued = old_jpx[~old_jpx['code'].isin(new_jpx['code'])].reset_index(drop=True)\n",
    "new_discontinued"
   ]
  },
  {
   "cell_type": "code",
   "execution_count": null,
   "metadata": {
    "ExecuteTime": {
     "end_time": "2018-02-18T13:26:48.504117Z",
     "start_time": "2018-02-18T13:26:48.356791Z"
    }
   },
   "outputs": [],
   "source": [
    "# 上場廃止銘柄の履歴テーブルの読み込み\n",
    "saved_discontinued = pd.read_csv('{0}/jpx_discontinued.csv'.format(csv_path), index_col=0)\n",
    "saved_discontinued"
   ]
  },
  {
   "cell_type": "code",
   "execution_count": null,
   "metadata": {
    "ExecuteTime": {
     "end_time": "2018-02-04T06:36:09.317668Z",
     "start_time": "2018-02-04T06:36:09.286863Z"
    },
    "collapsed": true
   },
   "outputs": [],
   "source": [
    "saved_discontinued.dtypes"
   ]
  },
  {
   "cell_type": "code",
   "execution_count": null,
   "metadata": {
    "ExecuteTime": {
     "end_time": "2018-02-18T13:27:59.597464Z",
     "start_time": "2018-02-18T13:27:59.566275Z"
    }
   },
   "outputs": [],
   "source": [
    "# 新旧テーブルの連結\n",
    "jpx_discontinued = saved_discontinued.append(new_discontinued).reset_index(drop=True)\n",
    "jpx_discontinued"
   ]
  },
  {
   "cell_type": "code",
   "execution_count": null,
   "metadata": {
    "ExecuteTime": {
     "end_time": "2018-02-18T13:28:31.260317Z",
     "start_time": "2018-02-18T13:28:31.229066Z"
    }
   },
   "outputs": [],
   "source": [
    "jpx_discontinued.dtypes"
   ]
  },
  {
   "cell_type": "code",
   "execution_count": null,
   "metadata": {
    "ExecuteTime": {
     "end_time": "2018-02-18T13:28:32.833976Z",
     "start_time": "2018-02-18T13:28:32.467105Z"
    }
   },
   "outputs": [],
   "source": [
    "# 上場廃止銘柄の履歴テーブル保存\n",
    "jpx_discontinued.to_csv('{0}/jpx_discontinued.csv'.format(csv_path))"
   ]
  },
  {
   "cell_type": "code",
   "execution_count": null,
   "metadata": {
    "ExecuteTime": {
     "end_time": "2018-02-18T13:28:34.006019Z",
     "start_time": "2018-02-18T13:28:33.974762Z"
    }
   },
   "outputs": [],
   "source": [
    "pd.read_csv('{0}/jpx_discontinued.csv'.format(csv_path), index_col=0)"
   ]
  },
  {
   "cell_type": "markdown",
   "metadata": {},
   "source": [
    "# 連続読み込み用コードリストの作成例"
   ]
  },
  {
   "cell_type": "markdown",
   "metadata": {},
   "source": [
    "## yahoo 連続読み込み用コードリスト作成"
   ]
  },
  {
   "cell_type": "code",
   "execution_count": null,
   "metadata": {
    "ExecuteTime": {
     "end_time": "2018-03-04T01:48:23.275518Z",
     "start_time": "2018-03-04T01:48:23.244264Z"
    }
   },
   "outputs": [],
   "source": [
    "start_index = 0\n",
    "increase_number = 10\n",
    "end_index = start_index + increase_number\n",
    "\n",
    "reading_code = stock.get_jpx_expro_code(start_index, end_index)\n",
    "# reading_code = stock.get_jpx_expro_code(start_index)\n",
    "print(reading_code[-10:])\n",
    "print('Next start from {0}'.format(start_index + increase_number))"
   ]
  },
  {
   "cell_type": "markdown",
   "metadata": {},
   "source": [
    "## 新規銘柄読み込み用コードリスト作成"
   ]
  },
  {
   "cell_type": "code",
   "execution_count": null,
   "metadata": {
    "ExecuteTime": {
     "end_time": "2018-03-04T01:49:14.865991Z",
     "start_time": "2018-03-04T01:49:14.491005Z"
    }
   },
   "outputs": [],
   "source": [
    "reading_code = stock.get_jpx_new_added_code()\n",
    "reading_code"
   ]
  },
  {
   "cell_type": "markdown",
   "metadata": {},
   "source": [
    "# Yahooの銘柄一覧テーブルを取得"
   ]
  },
  {
   "cell_type": "markdown",
   "metadata": {},
   "source": [
    "## 株式"
   ]
  },
  {
   "cell_type": "code",
   "execution_count": null,
   "metadata": {
    "ExecuteTime": {
     "end_time": "2018-03-09T08:01:56.544603Z",
     "start_time": "2018-03-09T07:59:45.589956Z"
    },
    "scrolled": true
   },
   "outputs": [],
   "source": [
    "yahoo_stock_table = stock.get_stock_table_yahoojp()"
   ]
  },
  {
   "cell_type": "code",
   "execution_count": null,
   "metadata": {
    "ExecuteTime": {
     "end_time": "2018-03-09T08:02:13.209622Z",
     "start_time": "2018-03-09T08:02:13.193945Z"
    }
   },
   "outputs": [],
   "source": [
    "len(yahoo_stock_table)"
   ]
  },
  {
   "cell_type": "code",
   "execution_count": null,
   "metadata": {
    "ExecuteTime": {
     "end_time": "2018-03-09T08:02:35.200429Z",
     "start_time": "2018-03-09T08:02:35.169202Z"
    }
   },
   "outputs": [],
   "source": [
    "display(yahoo_stock_table)"
   ]
  },
  {
   "cell_type": "code",
   "execution_count": null,
   "metadata": {
    "ExecuteTime": {
     "end_time": "2018-03-09T08:02:33.008569Z",
     "start_time": "2018-03-09T08:02:32.992942Z"
    }
   },
   "outputs": [],
   "source": [
    "yahoo_stock_table.columns = ['code', 'market', 'name', 'price', 'extra']"
   ]
  },
  {
   "cell_type": "code",
   "execution_count": null,
   "metadata": {
    "ExecuteTime": {
     "end_time": "2018-03-09T08:02:40.919977Z",
     "start_time": "2018-03-09T08:02:40.513518Z"
    }
   },
   "outputs": [],
   "source": [
    "yahoo_stock_table.to_csv('{0}/yahoo_stock_table.csv'.format(csv_path))"
   ]
  },
  {
   "cell_type": "markdown",
   "metadata": {
    "ExecuteTime": {
     "end_time": "2018-03-09T06:57:17.186249Z",
     "start_time": "2018-03-09T06:57:17.170739Z"
    }
   },
   "source": [
    "## ETF"
   ]
  },
  {
   "cell_type": "code",
   "execution_count": null,
   "metadata": {
    "ExecuteTime": {
     "end_time": "2018-03-09T07:09:00.170480Z",
     "start_time": "2018-03-09T07:08:56.146040Z"
    }
   },
   "outputs": [],
   "source": [
    "yahoo_etf_table = stock.get_etf_table_yahoojp()"
   ]
  },
  {
   "cell_type": "code",
   "execution_count": null,
   "metadata": {
    "ExecuteTime": {
     "end_time": "2018-03-09T07:09:06.092459Z",
     "start_time": "2018-03-09T07:09:06.077245Z"
    }
   },
   "outputs": [],
   "source": [
    "len(yahoo_etf_table)"
   ]
  },
  {
   "cell_type": "code",
   "execution_count": null,
   "metadata": {
    "ExecuteTime": {
     "end_time": "2018-03-09T07:33:05.983474Z",
     "start_time": "2018-03-09T07:33:05.920994Z"
    },
    "scrolled": true
   },
   "outputs": [],
   "source": [
    "yahoo_etf_table"
   ]
  },
  {
   "cell_type": "code",
   "execution_count": null,
   "metadata": {
    "ExecuteTime": {
     "end_time": "2018-03-09T07:33:03.295687Z",
     "start_time": "2018-03-09T07:33:03.280061Z"
    }
   },
   "outputs": [],
   "source": [
    "yahoo_etf_table.columns = ['code', 'market', 'name', '連動対象', '価格更新日時','price',\n",
    "                           '前日比', '前日比率', '売買単位','運用会社', '信託報酬（税抜）']"
   ]
  },
  {
   "cell_type": "code",
   "execution_count": null,
   "metadata": {
    "ExecuteTime": {
     "end_time": "2018-03-09T07:39:39.201562Z",
     "start_time": "2018-03-09T07:39:39.185936Z"
    }
   },
   "outputs": [],
   "source": [
    "yahoo_etf_table.to_csv('{0}/yahoo_etf_table.csv'.format(csv_path))"
   ]
  },
  {
   "cell_type": "markdown",
   "metadata": {},
   "source": [
    "## 連結"
   ]
  },
  {
   "cell_type": "code",
   "execution_count": null,
   "metadata": {
    "ExecuteTime": {
     "end_time": "2018-03-09T08:19:54.174239Z",
     "start_time": "2018-03-09T08:19:54.127795Z"
    }
   },
   "outputs": [],
   "source": [
    "yahoo_table = pd.read_csv('{0}/yahoo_stock_table.csv'.format(csv_path), index_col=0)\n",
    "yahoo_table = yahoo_table.append(pd.read_csv('{0}/yahoo_etf_table.csv'.format(csv_path), index_col=0))\n",
    "yahoo_table = yahoo_table.sort_values(by=['code']).reset_index(drop=True)"
   ]
  },
  {
   "cell_type": "code",
   "execution_count": null,
   "metadata": {
    "ExecuteTime": {
     "end_time": "2018-03-09T08:20:13.101244Z",
     "start_time": "2018-03-09T08:20:13.038700Z"
    }
   },
   "outputs": [],
   "source": [
    "display(yahoo_table)"
   ]
  },
  {
   "cell_type": "markdown",
   "metadata": {},
   "source": [
    "## コードのリスト作成"
   ]
  },
  {
   "cell_type": "code",
   "execution_count": null,
   "metadata": {
    "ExecuteTime": {
     "end_time": "2018-03-09T08:21:49.308863Z",
     "start_time": "2018-03-09T08:21:49.261983Z"
    }
   },
   "outputs": [],
   "source": [
    "start_index = 0\n",
    "increase_number = 10\n",
    "end_index = start_index + increase_number\n",
    "\n",
    "# reading_code = stock.get_jpx_expro_code(start_index, end_index)\n",
    "reading_code = stock.get_yahoo_code(start_index, end_index)\n",
    "# reading_code = stock.get_yahoo_code(start_index)\n",
    "print(reading_code[-10:])\n",
    "print('Next start from {0}'.format(start_index + increase_number))"
   ]
  },
  {
   "cell_type": "code",
   "execution_count": null,
   "metadata": {},
   "outputs": [],
   "source": []
  }
 ],
 "metadata": {
  "kernelspec": {
   "display_name": "Python 3",
   "language": "python",
   "name": "python3"
  },
  "language_info": {
   "codemirror_mode": {
    "name": "ipython",
    "version": 3
   },
   "file_extension": ".py",
   "mimetype": "text/x-python",
   "name": "python",
   "nbconvert_exporter": "python",
   "pygments_lexer": "ipython3",
   "version": "3.6.4"
  },
  "toc": {
   "nav_menu": {},
   "number_sections": true,
   "sideBar": true,
   "skip_h1_title": false,
   "toc_cell": false,
   "toc_position": {},
   "toc_section_display": "block",
   "toc_window_display": false
  },
  "varInspector": {
   "cols": {
    "lenName": 16,
    "lenType": 16,
    "lenVar": 40
   },
   "kernels_config": {
    "python": {
     "delete_cmd_postfix": "",
     "delete_cmd_prefix": "del ",
     "library": "var_list.py",
     "varRefreshCmd": "print(var_dic_list())"
    },
    "r": {
     "delete_cmd_postfix": ") ",
     "delete_cmd_prefix": "rm(",
     "library": "var_list.r",
     "varRefreshCmd": "cat(var_dic_list()) "
    }
   },
   "types_to_exclude": [
    "module",
    "function",
    "builtin_function_or_method",
    "instance",
    "_Feature"
   ],
   "window_display": false
  }
 },
 "nbformat": 4,
 "nbformat_minor": 2
}
