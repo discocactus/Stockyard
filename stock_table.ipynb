{
 "cells": [
  {
   "cell_type": "markdown",
   "metadata": {},
   "source": [
    "# import"
   ]
  },
  {
   "cell_type": "code",
   "execution_count": null,
   "metadata": {
    "ExecuteTime": {
     "end_time": "2017-12-15T08:48:21.814587Z",
     "start_time": "2017-12-15T08:48:20.559682Z"
    },
    "collapsed": true
   },
   "outputs": [],
   "source": [
    "import numpy as np\n",
    "import pandas as pd\n",
    "import pandas.tseries.offsets as offsets\n",
    "import datetime as dt\n",
    "import time\n",
    "import importlib\n",
    "import logging\n",
    "from retry import retry\n",
    "#import traceback\n",
    "#from retrying import retry\n",
    "from sqlalchemy import create_engine\n",
    "from sqlalchemy.types import Date, Integer, Float, Text\n",
    "# from sqlalchemy.types import Integer\n",
    "# from sqlalchemy.types import Text\n",
    "\n",
    "import stock"
   ]
  },
  {
   "cell_type": "code",
   "execution_count": null,
   "metadata": {
    "ExecuteTime": {
     "end_time": "2017-12-15T10:34:13.971547Z",
     "start_time": "2017-12-15T10:34:13.960835Z"
    },
    "collapsed": false
   },
   "outputs": [],
   "source": [
    "importlib.reload(stock)"
   ]
  },
  {
   "cell_type": "code",
   "execution_count": null,
   "metadata": {
    "ExecuteTime": {
     "end_time": "2017-12-15T08:48:56.714454Z",
     "start_time": "2017-12-15T08:48:56.711221Z"
    },
    "collapsed": true
   },
   "outputs": [],
   "source": [
    "# pandas の最大表示列数を設定 (max_rows で表示行数の設定も可能)\n",
    "pd.set_option('display.max_columns', 30)"
   ]
  },
  {
   "cell_type": "markdown",
   "metadata": {
    "ExecuteTime": {
     "end_time": "2017-11-26T08:14:30.816668Z",
     "start_time": "2017-11-26T08:14:30.814172Z"
    }
   },
   "source": [
    "# MySQLに接続"
   ]
  },
  {
   "cell_type": "code",
   "execution_count": null,
   "metadata": {
    "ExecuteTime": {
     "end_time": "2017-12-15T10:36:23.506779Z",
     "start_time": "2017-12-15T10:36:23.503838Z"
    },
    "collapsed": true
   },
   "outputs": [],
   "source": [
    "sql = stock.sql()"
   ]
  },
  {
   "cell_type": "code",
   "execution_count": null,
   "metadata": {
    "ExecuteTime": {
     "end_time": "2017-12-15T10:36:25.353460Z",
     "start_time": "2017-12-15T10:36:25.347118Z"
    },
    "collapsed": false
   },
   "outputs": [],
   "source": [
    "help(sql)"
   ]
  },
  {
   "cell_type": "markdown",
   "metadata": {},
   "source": [
    "# 上場一覧から各種テーブルを作成 (メインはyahoo_stock_table)"
   ]
  },
  {
   "cell_type": "code",
   "execution_count": null,
   "metadata": {
    "ExecuteTime": {
     "end_time": "2017-12-15T10:16:08.669437Z",
     "start_time": "2017-12-15T10:16:08.666449Z"
    },
    "collapsed": true
   },
   "outputs": [],
   "source": [
    "file_month = 1712"
   ]
  },
  {
   "cell_type": "code",
   "execution_count": null,
   "metadata": {
    "ExecuteTime": {
     "end_time": "2017-12-15T10:16:11.569453Z",
     "start_time": "2017-12-15T10:16:11.274735Z"
    },
    "collapsed": false
   },
   "outputs": [],
   "source": [
    "# 東証のエクセルファイルを読み込む # http://www.jpx.co.jp/markets/statistics-equities/misc/01.html\n",
    "all_stock_table = pd.read_excel('/Users/Really/Stockyard/_dl_data/data_j_{0}.xls'.format(file_month))\n",
    "all_stock_table.columns = ['date', 'code', 'name', 'market', 'code_33', 'category_33', 'code_17', 'category_17', 'code_scale', 'scale'] # 列名を変更"
   ]
  },
  {
   "cell_type": "code",
   "execution_count": null,
   "metadata": {
    "ExecuteTime": {
     "end_time": "2017-12-15T10:16:14.155977Z",
     "start_time": "2017-12-15T10:16:14.096722Z"
    },
    "collapsed": false
   },
   "outputs": [],
   "source": [
    "all_stock_table"
   ]
  },
  {
   "cell_type": "code",
   "execution_count": null,
   "metadata": {
    "ExecuteTime": {
     "end_time": "2017-12-15T10:16:26.310805Z",
     "start_time": "2017-12-15T10:16:26.283858Z"
    },
    "collapsed": false
   },
   "outputs": [],
   "source": [
    "# marketの種別で集計\n",
    "all_stock_table.groupby('market').count()"
   ]
  },
  {
   "cell_type": "code",
   "execution_count": null,
   "metadata": {
    "ExecuteTime": {
     "end_time": "2017-12-15T10:16:46.460173Z",
     "start_time": "2017-12-15T10:16:45.875984Z"
    },
    "collapsed": true
   },
   "outputs": [],
   "source": [
    "# 上場一覧のテーブル保存\n",
    "all_stock_table.to_csv('/Users/Really/Stockyard/_csv/all_stock_table.csv')\n",
    "sql.write_table('all_stock_table', all_stock_table)\n",
    "# all_stock_table.to_sql('all_stock_table', engine, if_exists='replace')"
   ]
  },
  {
   "cell_type": "code",
   "execution_count": null,
   "metadata": {
    "ExecuteTime": {
     "end_time": "2017-12-15T10:16:53.694724Z",
     "start_time": "2017-12-15T10:16:53.685918Z"
    },
    "collapsed": true
   },
   "outputs": [],
   "source": [
    "# PRO Marketを除いたテーブルの作成 (YahooにはPRO Marketのデータはない)\n",
    "yahoo_stock_table = all_stock_table.ix[~all_stock_table['market'].str.contains('PRO Market')].reset_index(drop=True)"
   ]
  },
  {
   "cell_type": "code",
   "execution_count": null,
   "metadata": {
    "ExecuteTime": {
     "end_time": "2017-12-15T10:16:58.393325Z",
     "start_time": "2017-12-15T10:16:58.332878Z"
    },
    "collapsed": false
   },
   "outputs": [],
   "source": [
    "yahoo_stock_table"
   ]
  },
  {
   "cell_type": "code",
   "execution_count": null,
   "metadata": {
    "ExecuteTime": {
     "end_time": "2017-12-15T10:17:11.047209Z",
     "start_time": "2017-12-15T10:17:10.451998Z"
    },
    "collapsed": true
   },
   "outputs": [],
   "source": [
    "# PRO Marketを除いたテーブルの保存\n",
    "yahoo_stock_table.to_csv('/Users/Really/Stockyard/_csv/yahoo_stock_table.csv')\n",
    "sql.write_table('yahoo_stock_table', yahoo_stock_table)\n",
    "# yahoo_stock_table.to_sql('yahoo_stock_table', engine, if_exists='replace')"
   ]
  },
  {
   "cell_type": "code",
   "execution_count": null,
   "metadata": {
    "ExecuteTime": {
     "end_time": "2017-12-15T10:17:15.455833Z",
     "start_time": "2017-12-15T10:17:15.446674Z"
    },
    "collapsed": true
   },
   "outputs": [],
   "source": [
    "# 内国株のテーブル作成\n",
    "domestic_stock_table = all_stock_table.ix[all_stock_table['market'].str.contains('内国株')].reset_index(drop=True)"
   ]
  },
  {
   "cell_type": "code",
   "execution_count": null,
   "metadata": {
    "ExecuteTime": {
     "end_time": "2017-12-15T10:17:49.353862Z",
     "start_time": "2017-12-15T10:17:49.295523Z"
    },
    "collapsed": false
   },
   "outputs": [],
   "source": [
    "domestic_stock_table"
   ]
  },
  {
   "cell_type": "code",
   "execution_count": null,
   "metadata": {
    "ExecuteTime": {
     "end_time": "2017-12-15T10:18:11.975791Z",
     "start_time": "2017-12-15T10:18:11.417201Z"
    },
    "collapsed": true
   },
   "outputs": [],
   "source": [
    "# 内国株のテーブル保存\n",
    "domestic_stock_table.to_csv('/Users/Really/Stockyard/_csv/domestic_stock_table.csv')\n",
    "sql.write_table('domestic_stock_table', domestic_stock_table)\n",
    "# domestic_stock_table.to_sql('domestic_stock_table', engine, if_exists='replace')"
   ]
  },
  {
   "cell_type": "code",
   "execution_count": null,
   "metadata": {
    "ExecuteTime": {
     "end_time": "2017-12-15T10:18:40.477229Z",
     "start_time": "2017-12-15T10:18:40.464871Z"
    },
    "collapsed": false
   },
   "outputs": [],
   "source": [
    "# 内国株, PRO Market 以外のテーブル作成\n",
    "ex_stock_table = yahoo_stock_table[~yahoo_stock_table['code'].isin(domestic_stock_table['code'])].reset_index(drop=True)\n",
    "\n",
    "# 正規表現を使った書き方の例。\n",
    "# ex_stock_table = all_stock_table.ix[all_stock_table['market'].str.contains('[^内国株）PRO Market]...$')].reset_index(drop=True)\n",
    "# 文字列末尾の合致検索では、'$' の前の '.' の数で検索する文字数 ('.' * n + '$') が決定されているっぽい。\n",
    "# つまりこの場合だと 'PRO Market' で実際に合致が確認されているのは末尾4文字の 'rket' 。\n",
    "# '内国株）', 'PRO Market' をそれぞれグループ化するために' ()' で括る必要はないみたい。(ただし括っても同じ結果になる) \n",
    "\n",
    "# 下の書き方だと最後の1文字しか見ないことになるので、外国株も除外されてしまう。\n",
    "# ex_stock_table = all_stock_table.ix[all_stock_table['market'].str.contains('[^内国株）PRO Market]$')].reset_index(drop=True)\n",
    "# 上はつまり下の書き方と同じこと。\n",
    "# ex_stock_table = all_stock_table.ix[all_stock_table['market'].str.contains('[^）t]$')].reset_index(drop=True)"
   ]
  },
  {
   "cell_type": "code",
   "execution_count": null,
   "metadata": {
    "ExecuteTime": {
     "end_time": "2017-12-15T10:18:41.548059Z",
     "start_time": "2017-12-15T10:18:41.490392Z"
    },
    "collapsed": false
   },
   "outputs": [],
   "source": [
    "ex_stock_table"
   ]
  },
  {
   "cell_type": "code",
   "execution_count": null,
   "metadata": {
    "ExecuteTime": {
     "end_time": "2017-12-15T10:18:52.684017Z",
     "start_time": "2017-12-15T10:18:52.665881Z"
    },
    "collapsed": false
   },
   "outputs": [],
   "source": [
    "# marketの種別で集計\n",
    "ex_stock_table.groupby('market').count()"
   ]
  },
  {
   "cell_type": "code",
   "execution_count": null,
   "metadata": {
    "ExecuteTime": {
     "end_time": "2017-12-15T10:19:01.047372Z",
     "start_time": "2017-12-15T10:19:00.800258Z"
    },
    "collapsed": true
   },
   "outputs": [],
   "source": [
    "# 内国株, PRO Market 以外のテーブル保存\n",
    "ex_stock_table.to_csv('/Users/Really/Stockyard/_csv/ex_stock_table.csv')\n",
    "sql.write_table('ex_stock_table', ex_stock_table)\n",
    "# ex_stock_table.to_sql('ex_stock_table', engine, if_exists='replace')"
   ]
  },
  {
   "cell_type": "code",
   "execution_count": null,
   "metadata": {
    "ExecuteTime": {
     "end_time": "2017-12-15T10:19:07.843122Z",
     "start_time": "2017-12-15T10:19:07.834981Z"
    },
    "collapsed": true
   },
   "outputs": [],
   "source": [
    "# 外国株のテーブル作成\n",
    "foreign_stock_table = all_stock_table.ix[all_stock_table['market'].str.contains('外国株')].reset_index(drop=True)"
   ]
  },
  {
   "cell_type": "code",
   "execution_count": null,
   "metadata": {
    "ExecuteTime": {
     "end_time": "2017-12-15T10:19:08.510733Z",
     "start_time": "2017-12-15T10:19:08.492157Z"
    },
    "collapsed": false
   },
   "outputs": [],
   "source": [
    "foreign_stock_table"
   ]
  },
  {
   "cell_type": "code",
   "execution_count": null,
   "metadata": {
    "ExecuteTime": {
     "end_time": "2017-12-15T10:19:12.828259Z",
     "start_time": "2017-12-15T10:19:12.641893Z"
    },
    "collapsed": true
   },
   "outputs": [],
   "source": [
    "# 外国株のテーブル保存\n",
    "foreign_stock_table.to_csv('/Users/Really/Stockyard/_csv/foreign_stock_table.csv')\n",
    "sql.write_table('foreign_stock_table', foreign_stock_table)"
   ]
  },
  {
   "cell_type": "code",
   "execution_count": null,
   "metadata": {
    "ExecuteTime": {
     "end_time": "2017-12-15T10:19:17.010514Z",
     "start_time": "2017-12-15T10:19:15.380704Z"
    },
    "collapsed": false
   },
   "outputs": [],
   "source": [
    "# 型の確認\n",
    "pd.DataFrame([\n",
    "    sql.read_table('all_stock_table').dtypes,\n",
    "    sql.read_table('yahoo_stock_table').dtypes,\n",
    "    sql.read_table('domestic_stock_table').dtypes,\n",
    "    sql.read_table('ex_stock_table').dtypes,\n",
    "    sql.read_table('foreign_stock_table').dtypes],\n",
    "    index=['all', 'yahoo', 'domestic', 'ex', 'foreign'])"
   ]
  },
  {
   "cell_type": "markdown",
   "metadata": {},
   "source": [
    "# 上場一覧の更新"
   ]
  },
  {
   "cell_type": "markdown",
   "metadata": {},
   "source": [
    "## 新旧ファイルの読み込み"
   ]
  },
  {
   "cell_type": "code",
   "execution_count": null,
   "metadata": {
    "ExecuteTime": {
     "end_time": "2017-12-15T10:09:18.790274Z",
     "start_time": "2017-12-15T10:09:18.787113Z"
    },
    "collapsed": true
   },
   "outputs": [],
   "source": [
    "file_month = 1712"
   ]
  },
  {
   "cell_type": "code",
   "execution_count": null,
   "metadata": {
    "ExecuteTime": {
     "end_time": "2017-12-15T10:09:20.141369Z",
     "start_time": "2017-12-15T10:09:19.843188Z"
    },
    "collapsed": false
   },
   "outputs": [],
   "source": [
    "# 東証のエクセルファイルを読み込む # http://www.jpx.co.jp/markets/statistics-equities/misc/01.html\n",
    "new_stock_table = pd.read_excel('/Users/Really/Stockyard/_dl_data/data_j_{0}.xls'.format(file_month))\n",
    "new_stock_table.columns = ['date', 'code', 'name', 'market', 'code_33', 'category_33', 'code_17', 'category_17', 'code_scale', 'scale'] # 列名を変更"
   ]
  },
  {
   "cell_type": "code",
   "execution_count": null,
   "metadata": {
    "ExecuteTime": {
     "end_time": "2017-12-15T10:09:20.572281Z",
     "start_time": "2017-12-15T10:09:20.515150Z"
    },
    "collapsed": true
   },
   "outputs": [],
   "source": [
    "new_stock_table"
   ]
  },
  {
   "cell_type": "code",
   "execution_count": null,
   "metadata": {
    "ExecuteTime": {
     "end_time": "2017-12-15T09:48:57.766228Z",
     "start_time": "2017-12-15T09:48:57.760060Z"
    },
    "collapsed": true
   },
   "outputs": [],
   "source": [
    "new_stock_table.dtypes"
   ]
  },
  {
   "cell_type": "code",
   "execution_count": null,
   "metadata": {
    "ExecuteTime": {
     "end_time": "2017-12-15T10:09:27.569595Z",
     "start_time": "2017-12-15T10:09:27.283362Z"
    },
    "collapsed": true
   },
   "outputs": [],
   "source": [
    "# 旧テーブルの読み込み # http://www.jpx.co.jp/markets/statistics-equities/misc/01.html\n",
    "old_stock_table = pd.read_excel('/Users/Really/Stockyard/_dl_data/data_j_{0}.xls'.format(file_month - 1))\n",
    "old_stock_table.columns = ['date', 'code', 'name', 'market', 'code_33', 'category_33', 'code_17', 'category_17', 'code_scale', 'scale'] # 列名を変更"
   ]
  },
  {
   "cell_type": "code",
   "execution_count": null,
   "metadata": {
    "ExecuteTime": {
     "end_time": "2017-12-15T09:49:04.413859Z",
     "start_time": "2017-12-15T09:49:04.355137Z"
    },
    "collapsed": true
   },
   "outputs": [],
   "source": [
    "old_stock_table"
   ]
  },
  {
   "cell_type": "code",
   "execution_count": null,
   "metadata": {
    "ExecuteTime": {
     "end_time": "2017-12-15T09:48:57.766228Z",
     "start_time": "2017-12-15T09:48:57.760060Z"
    },
    "collapsed": true
   },
   "outputs": [],
   "source": [
    "old_stock_table.dtypes"
   ]
  },
  {
   "cell_type": "markdown",
   "metadata": {},
   "source": [
    "## 新規上場銘柄"
   ]
  },
  {
   "cell_type": "code",
   "execution_count": null,
   "metadata": {
    "ExecuteTime": {
     "end_time": "2017-12-15T09:49:10.392297Z",
     "start_time": "2017-12-15T09:49:10.386270Z"
    },
    "collapsed": false
   },
   "outputs": [],
   "source": [
    "# 新規上場銘柄のテーブル作成\n",
    "new_added = new_stock_table[~new_stock_table['code'].isin(old_stock_table['code'])].reset_index(drop=True)"
   ]
  },
  {
   "cell_type": "code",
   "execution_count": null,
   "metadata": {
    "ExecuteTime": {
     "end_time": "2017-12-15T09:49:11.419522Z",
     "start_time": "2017-12-15T09:49:11.398702Z"
    },
    "collapsed": false
   },
   "outputs": [],
   "source": [
    "new_added"
   ]
  },
  {
   "cell_type": "code",
   "execution_count": null,
   "metadata": {
    "ExecuteTime": {
     "end_time": "2017-12-15T09:49:20.464497Z",
     "start_time": "2017-12-15T09:49:20.268619Z"
    },
    "collapsed": false
   },
   "outputs": [],
   "source": [
    "# 新規上場銘柄のテーブル保存\n",
    "new_added.to_csv('/Users/Really/Stockyard/_csv/new_added_stock_table.csv')\n",
    "sql.write_table('new_added_stock_table', new_added)\n",
    "# new_added.to_sql('new_added', engine, if_exists='replace')"
   ]
  },
  {
   "cell_type": "code",
   "execution_count": null,
   "metadata": {
    "ExecuteTime": {
     "end_time": "2017-12-15T09:48:20.774272Z",
     "start_time": "2017-12-15T09:48:20.432560Z"
    },
    "collapsed": true
   },
   "outputs": [],
   "source": [
    "# 新規上場銘柄の履歴テーブルの読み込み\n",
    "saved_added = sql.read_table('added_stock_table')"
   ]
  },
  {
   "cell_type": "code",
   "execution_count": null,
   "metadata": {
    "ExecuteTime": {
     "end_time": "2017-12-15T09:48:21.652081Z",
     "start_time": "2017-12-15T09:48:21.628104Z"
    },
    "collapsed": true
   },
   "outputs": [],
   "source": [
    "saved_added"
   ]
  },
  {
   "cell_type": "code",
   "execution_count": null,
   "metadata": {
    "ExecuteTime": {
     "end_time": "2017-12-15T09:48:27.836419Z",
     "start_time": "2017-12-15T09:48:27.830374Z"
    },
    "collapsed": true
   },
   "outputs": [],
   "source": [
    "saved_added.dtypes"
   ]
  },
  {
   "cell_type": "code",
   "execution_count": null,
   "metadata": {
    "ExecuteTime": {
     "end_time": "2017-12-15T09:51:59.165083Z",
     "start_time": "2017-12-15T09:51:59.160322Z"
    },
    "collapsed": false
   },
   "outputs": [],
   "source": [
    "# 新旧テーブルの連結\n",
    "added_stock_table = saved_added.append(new_added).reset_index(drop=True)"
   ]
  },
  {
   "cell_type": "code",
   "execution_count": null,
   "metadata": {
    "ExecuteTime": {
     "end_time": "2017-12-15T09:52:18.943167Z",
     "start_time": "2017-12-15T09:52:18.913044Z"
    },
    "collapsed": false
   },
   "outputs": [],
   "source": [
    "added_stock_table"
   ]
  },
  {
   "cell_type": "code",
   "execution_count": null,
   "metadata": {
    "ExecuteTime": {
     "end_time": "2017-12-15T09:52:25.837106Z",
     "start_time": "2017-12-15T09:52:25.830031Z"
    },
    "collapsed": true
   },
   "outputs": [],
   "source": [
    "added_stock_table.dtypes"
   ]
  },
  {
   "cell_type": "code",
   "execution_count": null,
   "metadata": {
    "ExecuteTime": {
     "end_time": "2017-12-15T09:52:29.942447Z",
     "start_time": "2017-12-15T09:52:29.736150Z"
    },
    "collapsed": false
   },
   "outputs": [],
   "source": [
    "# 新規上場銘柄の履歴テーブル保存\n",
    "added_stock_table.to_csv('/Users/Really/Stockyard/_csv/added_stock_table.csv')\n",
    "sql.write_table('added_stock_table', added_stock_table)\n",
    "# added_stock_table.to_sql('added_stock_table', engine, if_exists='replace')"
   ]
  },
  {
   "cell_type": "markdown",
   "metadata": {},
   "source": [
    "## 上場廃止銘柄"
   ]
  },
  {
   "cell_type": "code",
   "execution_count": null,
   "metadata": {
    "ExecuteTime": {
     "end_time": "2017-12-15T10:12:16.749937Z",
     "start_time": "2017-12-15T10:12:16.744014Z"
    },
    "collapsed": true
   },
   "outputs": [],
   "source": [
    "# 上場廃止銘柄のテーブル作成\n",
    "new_discontinued = old_stock_table[~old_stock_table['code'].isin(new_stock_table['code'])].reset_index(drop=True)"
   ]
  },
  {
   "cell_type": "code",
   "execution_count": null,
   "metadata": {
    "ExecuteTime": {
     "end_time": "2017-12-15T10:12:17.775728Z",
     "start_time": "2017-12-15T10:12:17.760509Z"
    },
    "collapsed": false
   },
   "outputs": [],
   "source": [
    "new_discontinued"
   ]
  },
  {
   "cell_type": "code",
   "execution_count": null,
   "metadata": {
    "ExecuteTime": {
     "end_time": "2017-12-15T10:12:55.697445Z",
     "start_time": "2017-12-15T10:12:55.407669Z"
    },
    "collapsed": true
   },
   "outputs": [],
   "source": [
    "# 上場廃止銘柄の履歴テーブルの読み込み\n",
    "saved_discontinued = sql.read_table('discontinued_stock_table')"
   ]
  },
  {
   "cell_type": "code",
   "execution_count": null,
   "metadata": {
    "ExecuteTime": {
     "end_time": "2017-12-15T10:12:56.462492Z",
     "start_time": "2017-12-15T10:12:56.447256Z"
    },
    "collapsed": false
   },
   "outputs": [],
   "source": [
    "saved_discontinued"
   ]
  },
  {
   "cell_type": "code",
   "execution_count": null,
   "metadata": {
    "ExecuteTime": {
     "end_time": "2017-12-15T09:48:27.836419Z",
     "start_time": "2017-12-15T09:48:27.830374Z"
    },
    "collapsed": true
   },
   "outputs": [],
   "source": [
    "saved_discontinued.dtypes"
   ]
  },
  {
   "cell_type": "code",
   "execution_count": null,
   "metadata": {
    "ExecuteTime": {
     "end_time": "2017-12-15T10:13:09.299096Z",
     "start_time": "2017-12-15T10:13:09.288402Z"
    },
    "collapsed": false
   },
   "outputs": [],
   "source": [
    "# 新旧テーブルの連結\n",
    "discontinued_stock_table = saved_discontinued.append(new_discontinued).reset_index(drop=True)"
   ]
  },
  {
   "cell_type": "code",
   "execution_count": null,
   "metadata": {
    "ExecuteTime": {
     "end_time": "2017-12-15T10:13:12.214976Z",
     "start_time": "2017-12-15T10:13:12.198348Z"
    },
    "collapsed": false
   },
   "outputs": [],
   "source": [
    "discontinued_stock_table"
   ]
  },
  {
   "cell_type": "code",
   "execution_count": null,
   "metadata": {
    "ExecuteTime": {
     "end_time": "2017-12-15T09:52:25.837106Z",
     "start_time": "2017-12-15T09:52:25.830031Z"
    },
    "collapsed": true
   },
   "outputs": [],
   "source": [
    "discontinued_stock_table.dtypes"
   ]
  },
  {
   "cell_type": "code",
   "execution_count": null,
   "metadata": {
    "ExecuteTime": {
     "end_time": "2017-12-15T10:13:17.847038Z",
     "start_time": "2017-12-15T10:13:17.656257Z"
    },
    "collapsed": true
   },
   "outputs": [],
   "source": [
    "# 上場廃止銘柄のテーブル保存\n",
    "discontinued_stock_table.to_csv('/Users/Really/Stockyard/_csv/discontinued_stock_table.csv')\n",
    "sql.write_table('discontinued_stock_table', discontinued_stock_table)\n",
    "# discontinued_stock_table.to_sql('discontinued_stock_table', engine, if_exists='replace')"
   ]
  },
  {
   "cell_type": "markdown",
   "metadata": {},
   "source": [
    "# 連続読み込み用コードリストの作成例"
   ]
  },
  {
   "cell_type": "markdown",
   "metadata": {},
   "source": [
    "## yahoo 連続読み込み用コードリスト作成"
   ]
  },
  {
   "cell_type": "code",
   "execution_count": null,
   "metadata": {
    "collapsed": true
   },
   "outputs": [],
   "source": [
    "start_index = 3100\n",
    "increase_number = 100\n",
    "end_index = start_index + increase_number\n",
    "\n",
    "reading_code = sql.get_yahoo_stock_code(start_index, end_index)\n",
    "print(reading_code[-10:])\n",
    "print('Next start from {0}'.format(start_index + increase_number))"
   ]
  },
  {
   "cell_type": "markdown",
   "metadata": {},
   "source": [
    "## 新規銘柄読み込み用コードリスト作成"
   ]
  },
  {
   "cell_type": "code",
   "execution_count": null,
   "metadata": {
    "ExecuteTime": {
     "end_time": "2017-12-15T10:36:44.609055Z",
     "start_time": "2017-12-15T10:36:44.316784Z"
    },
    "collapsed": false
   },
   "outputs": [],
   "source": [
    "reading_code = sql.get_new_added_stock_code()\n",
    "reading_code"
   ]
  },
  {
   "cell_type": "markdown",
   "metadata": {},
   "source": [
    "# クラス不使用版コード"
   ]
  },
  {
   "cell_type": "markdown",
   "metadata": {},
   "source": [
    "## MySQLに接続"
   ]
  },
  {
   "cell_type": "code",
   "execution_count": null,
   "metadata": {
    "collapsed": true
   },
   "outputs": [],
   "source": [
    "db_settings = {\n",
    "    \"host\": 'localhost',\n",
    "    \"database\": 'StockPrice_Yahoo_1',\n",
    "    \"user\": 'user',\n",
    "    \"password\": 'password',\n",
    "    \"port\":'3306'\n",
    "}\n",
    "engine = create_engine('mysql://{user}:{password}@{host}:{port}/{database}'.format(**db_settings))"
   ]
  },
  {
   "cell_type": "markdown",
   "metadata": {},
   "source": [
    "## 読み込む内国株のコードリスト作成 (クラス不使用版)"
   ]
  },
  {
   "cell_type": "code",
   "execution_count": null,
   "metadata": {
    "collapsed": true
   },
   "outputs": [],
   "source": [
    "# 内国株だけにする\n",
    "# MySQLに保存済みの内国株テーブルから作成。今後はこちらを使用する\n",
    "yahoo_stock_table = pd.read_sql_table('yahoo_stock_table', engine, index_col=None).drop('index', axis=1)\n",
    "\n",
    "start_index = 2810\n",
    "increase_number = 10\n",
    "end_index = start_index + increase_number\n",
    "\n",
    "reading_code = list(yahoo_stock_table['code'][start_index : end_index])\n",
    "print(reading_code[-10:])\n",
    "print('Next start from {0}'.format(start_index + increase_number))"
   ]
  }
 ],
 "metadata": {
  "kernelspec": {
   "display_name": "Python 3",
   "language": "python",
   "name": "python3"
  },
  "language_info": {
   "codemirror_mode": {
    "name": "ipython",
    "version": 3
   },
   "file_extension": ".py",
   "mimetype": "text/x-python",
   "name": "python",
   "nbconvert_exporter": "python",
   "pygments_lexer": "ipython3",
   "version": "3.6.0"
  },
  "toc": {
   "nav_menu": {},
   "number_sections": true,
   "sideBar": true,
   "skip_h1_title": false,
   "toc_cell": false,
   "toc_position": {},
   "toc_section_display": "block",
   "toc_window_display": false
  },
  "varInspector": {
   "cols": {
    "lenName": 16,
    "lenType": 16,
    "lenVar": 40
   },
   "kernels_config": {
    "python": {
     "delete_cmd_postfix": "",
     "delete_cmd_prefix": "del ",
     "library": "var_list.py",
     "varRefreshCmd": "print(var_dic_list())"
    },
    "r": {
     "delete_cmd_postfix": ") ",
     "delete_cmd_prefix": "rm(",
     "library": "var_list.r",
     "varRefreshCmd": "cat(var_dic_list()) "
    }
   },
   "types_to_exclude": [
    "module",
    "function",
    "builtin_function_or_method",
    "instance",
    "_Feature"
   ],
   "window_display": false
  }
 },
 "nbformat": 4,
 "nbformat_minor": 2
}
