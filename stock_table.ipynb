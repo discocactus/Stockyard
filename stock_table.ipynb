{
 "cells": [
  {
   "cell_type": "code",
   "execution_count": null,
   "metadata": {},
   "outputs": [],
   "source": [
    "# pandasのto_csvのデフォルトエンコーディングはUTF-8。\n",
    "# 書き出したファイルをpandasで読み込む場合は問題ない。\n",
    "# Excelで開こうとすると強制的にShift-JISで開こうとするので、日本語が文字化けするがいたしかたなし？\n",
    "# エンコーディングをUTF-8以外にするのは弊害が大きいような気がする。\n",
    "# Excelではファイルを開くのではなく、データのインポートを利用すればエンコードの指定が可能。\n",
    "# メモ帳等で開いて上書き保存すれば自動的にBOMが付加され、Excelもエンコードを認識するらしいが、\n",
    "# BOMを付けるのもExcel以外から開く際に弊害があるらしい。"
   ]
  },
  {
   "cell_type": "markdown",
   "metadata": {},
   "source": [
    "# import"
   ]
  },
  {
   "cell_type": "code",
   "execution_count": null,
   "metadata": {
    "ExecuteTime": {
     "end_time": "2018-03-16T06:34:36.462378Z",
     "start_time": "2018-03-16T06:34:35.931099Z"
    }
   },
   "outputs": [],
   "source": [
    "import numpy as np\n",
    "import pandas as pd\n",
    "import pandas.tseries.offsets as offsets\n",
    "import datetime as dt\n",
    "import time\n",
    "import importlib\n",
    "\n",
    "import stock"
   ]
  },
  {
   "cell_type": "code",
   "execution_count": null,
   "metadata": {
    "ExecuteTime": {
     "end_time": "2018-03-11T08:37:14.484437Z",
     "start_time": "2018-03-11T08:37:14.468828Z"
    }
   },
   "outputs": [],
   "source": [
    "importlib.reload(stock)"
   ]
  },
  {
   "cell_type": "code",
   "execution_count": null,
   "metadata": {
    "ExecuteTime": {
     "end_time": "2018-03-16T06:34:38.118806Z",
     "start_time": "2018-03-16T06:34:38.103199Z"
    }
   },
   "outputs": [],
   "source": [
    "# pandas の最大表示列数を設定 (max_rows で表示行数の設定も可能)\n",
    "pd.set_option('display.max_columns', 30)"
   ]
  },
  {
   "cell_type": "markdown",
   "metadata": {},
   "source": [
    "# パスの設定"
   ]
  },
  {
   "cell_type": "code",
   "execution_count": null,
   "metadata": {
    "ExecuteTime": {
     "end_time": "2018-03-16T06:34:53.796970Z",
     "start_time": "2018-03-16T06:34:53.781294Z"
    }
   },
   "outputs": [],
   "source": [
    "# jpx_path = '/Users/Really/Stockyard/_dl_data'\n",
    "jpx_path = 'D:\\stockyard\\_dl_data'"
   ]
  },
  {
   "cell_type": "code",
   "execution_count": null,
   "metadata": {
    "ExecuteTime": {
     "end_time": "2018-03-16T06:34:54.984584Z",
     "start_time": "2018-03-16T06:34:54.953921Z"
    }
   },
   "outputs": [],
   "source": [
    "# csv_path = '/Users/Really/Stockyard/_csv'\n",
    "csv_path = 'D:\\stockyard\\_csv'"
   ]
  },
  {
   "cell_type": "markdown",
   "metadata": {},
   "source": [
    "# 上場一覧から各種テーブルを作成 (メインはjpx_expro)"
   ]
  },
  {
   "cell_type": "code",
   "execution_count": null,
   "metadata": {
    "ExecuteTime": {
     "end_time": "2018-03-16T06:35:02.344708Z",
     "start_time": "2018-03-16T06:35:02.313993Z"
    }
   },
   "outputs": [],
   "source": [
    "file_month = 1803"
   ]
  },
  {
   "cell_type": "code",
   "execution_count": null,
   "metadata": {
    "ExecuteTime": {
     "end_time": "2018-03-16T06:35:24.960912Z",
     "start_time": "2018-03-16T06:35:24.742087Z"
    }
   },
   "outputs": [],
   "source": [
    "# 東証のエクセルファイルを読み込む # http://www.jpx.co.jp/markets/statistics-equities/misc/01.html\n",
    "jpx_all = pd.read_excel('{0}/data_j_{1}.xls'.format(jpx_path, file_month))\n",
    "jpx_all.columns = ['date', 'code', 'name', 'market', 'code_33', 'category_33', 'code_17', 'category_17', 'code_scale', 'scale'] # 列名を変更"
   ]
  },
  {
   "cell_type": "code",
   "execution_count": null,
   "metadata": {
    "ExecuteTime": {
     "end_time": "2018-03-16T06:35:29.461344Z",
     "start_time": "2018-03-16T06:35:29.414462Z"
    }
   },
   "outputs": [],
   "source": [
    "jpx_all"
   ]
  },
  {
   "cell_type": "code",
   "execution_count": null,
   "metadata": {
    "ExecuteTime": {
     "end_time": "2018-03-16T06:35:35.977666Z",
     "start_time": "2018-03-16T06:35:35.930835Z"
    }
   },
   "outputs": [],
   "source": [
    "# marketの種別で集計\n",
    "jpx_all.groupby('market').count()"
   ]
  },
  {
   "cell_type": "code",
   "execution_count": null,
   "metadata": {
    "ExecuteTime": {
     "end_time": "2018-03-16T06:35:50.170198Z",
     "start_time": "2018-03-16T06:35:50.123012Z"
    }
   },
   "outputs": [],
   "source": [
    "# 上場一覧のテーブル保存\n",
    "jpx_all.to_csv('{0}/jpx_all.csv'.format(csv_path))"
   ]
  },
  {
   "cell_type": "code",
   "execution_count": null,
   "metadata": {
    "ExecuteTime": {
     "end_time": "2018-03-16T06:35:52.232611Z",
     "start_time": "2018-03-16T06:35:52.154477Z"
    }
   },
   "outputs": [],
   "source": [
    "pd.read_csv('{0}/jpx_all.csv'.format(csv_path), index_col=0)"
   ]
  },
  {
   "cell_type": "code",
   "execution_count": null,
   "metadata": {
    "ExecuteTime": {
     "end_time": "2018-03-16T06:36:02.280599Z",
     "start_time": "2018-03-16T06:36:02.218519Z"
    }
   },
   "outputs": [],
   "source": [
    "# PRO Marketを除いたテーブルの作成 (YahooにはPRO Marketのデータはない)\n",
    "jpx_expro = jpx_all.loc[~jpx_all['market'].str.contains('PRO Market')].reset_index(drop=True)\n",
    "jpx_expro"
   ]
  },
  {
   "cell_type": "code",
   "execution_count": null,
   "metadata": {
    "ExecuteTime": {
     "end_time": "2018-03-16T06:36:06.562274Z",
     "start_time": "2018-03-16T06:36:06.515842Z"
    }
   },
   "outputs": [],
   "source": [
    "# PRO Marketを除いたテーブルの保存\n",
    "jpx_expro.to_csv('{0}/jpx_expro.csv'.format(csv_path))"
   ]
  },
  {
   "cell_type": "code",
   "execution_count": null,
   "metadata": {
    "ExecuteTime": {
     "end_time": "2018-03-16T06:36:08.140565Z",
     "start_time": "2018-03-16T06:36:08.078513Z"
    }
   },
   "outputs": [],
   "source": [
    "pd.read_csv('{0}/jpx_expro.csv'.format(csv_path), index_col=0)"
   ]
  },
  {
   "cell_type": "code",
   "execution_count": null,
   "metadata": {
    "ExecuteTime": {
     "end_time": "2018-03-16T06:36:32.143137Z",
     "start_time": "2018-03-16T06:36:32.096300Z"
    }
   },
   "outputs": [],
   "source": [
    "# 内国株のテーブル作成\n",
    "jpx_domestic = jpx_all.loc[jpx_all['market'].str.contains('内国株')].reset_index(drop=True)\n",
    "jpx_domestic"
   ]
  },
  {
   "cell_type": "code",
   "execution_count": null,
   "metadata": {
    "ExecuteTime": {
     "end_time": "2018-03-16T06:36:34.784538Z",
     "start_time": "2018-03-16T06:36:34.299644Z"
    }
   },
   "outputs": [],
   "source": [
    "# 内国株のテーブル保存\n",
    "jpx_domestic.to_csv('{0}/jpx_domestic.csv'.format(csv_path))"
   ]
  },
  {
   "cell_type": "code",
   "execution_count": null,
   "metadata": {
    "ExecuteTime": {
     "end_time": "2018-03-16T06:36:34.955981Z",
     "start_time": "2018-03-16T06:36:34.893433Z"
    }
   },
   "outputs": [],
   "source": [
    "pd.read_csv('{0}/jpx_domestic.csv'.format(csv_path), index_col=0)"
   ]
  },
  {
   "cell_type": "code",
   "execution_count": null,
   "metadata": {
    "ExecuteTime": {
     "end_time": "2018-03-16T06:36:45.104571Z",
     "start_time": "2018-03-16T06:36:45.042082Z"
    }
   },
   "outputs": [],
   "source": [
    "# 内国株, PRO Market 以外のテーブル作成\n",
    "jpx_extra = jpx_expro[~jpx_expro['code'].isin(jpx_domestic['code'])].reset_index(drop=True)\n",
    "\n",
    "# 正規表現を使った書き方の例。\n",
    "# jpx_extra = jpx_all.ix[jpx_all['market'].str.contains('[^内国株）PRO Market]...$')].reset_index(drop=True)\n",
    "# 文字列末尾の合致検索では、'$' の前の '.' の数で検索する文字数 ('.' * n + '$') が決定されているっぽい。\n",
    "# つまりこの場合だと 'PRO Market' で実際に合致が確認されているのは末尾4文字の 'rket' 。\n",
    "# '内国株）', 'PRO Market' をそれぞれグループ化するために' ()' で括る必要はないみたい。(ただし括っても同じ結果になる) \n",
    "\n",
    "# 下の書き方だと最後の1文字しか見ないことになるので、外国株も除外されてしまう。\n",
    "# jpx_extra = jpx_all.ix[jpx_all['market'].str.contains('[^内国株）PRO Market]$')].reset_index(drop=True)\n",
    "# 上はつまり下の書き方と同じこと。\n",
    "# jpx_extra = jpx_all.ix[jpx_all['market'].str.contains('[^）t]$')].reset_index(drop=True)\n",
    "\n",
    "jpx_extra"
   ]
  },
  {
   "cell_type": "code",
   "execution_count": null,
   "metadata": {
    "ExecuteTime": {
     "end_time": "2018-03-16T06:36:51.433374Z",
     "start_time": "2018-03-16T06:36:51.402121Z"
    }
   },
   "outputs": [],
   "source": [
    "# marketの種別で集計\n",
    "jpx_extra.groupby('market').count()"
   ]
  },
  {
   "cell_type": "code",
   "execution_count": null,
   "metadata": {
    "ExecuteTime": {
     "end_time": "2018-03-16T06:36:55.543191Z",
     "start_time": "2018-03-16T06:36:55.511984Z"
    }
   },
   "outputs": [],
   "source": [
    "# 内国株, PRO Market 以外のテーブル保存\n",
    "jpx_extra.to_csv('{0}/jpx_extra.csv'.format(csv_path))"
   ]
  },
  {
   "cell_type": "code",
   "execution_count": null,
   "metadata": {
    "ExecuteTime": {
     "end_time": "2018-03-16T06:36:56.840204Z",
     "start_time": "2018-03-16T06:36:56.778146Z"
    }
   },
   "outputs": [],
   "source": [
    "pd.read_csv('{0}/jpx_extra.csv'.format(csv_path), index_col=0)"
   ]
  },
  {
   "cell_type": "code",
   "execution_count": null,
   "metadata": {
    "ExecuteTime": {
     "end_time": "2018-03-16T06:37:04.528531Z",
     "start_time": "2018-03-16T06:37:04.481648Z"
    }
   },
   "outputs": [],
   "source": [
    "# 外国株のテーブル作成\n",
    "jpx_foreign = jpx_all.loc[jpx_all['market'].str.contains('外国株')].reset_index(drop=True)\n",
    "jpx_foreign"
   ]
  },
  {
   "cell_type": "code",
   "execution_count": null,
   "metadata": {
    "ExecuteTime": {
     "end_time": "2018-03-16T06:37:17.592466Z",
     "start_time": "2018-03-16T06:37:17.576820Z"
    }
   },
   "outputs": [],
   "source": [
    "# 外国株のテーブル保存\n",
    "jpx_foreign.to_csv('{0}/jpx_foreign.csv'.format(csv_path))"
   ]
  },
  {
   "cell_type": "code",
   "execution_count": null,
   "metadata": {
    "ExecuteTime": {
     "end_time": "2018-03-16T06:37:18.280004Z",
     "start_time": "2018-03-16T06:37:18.249198Z"
    }
   },
   "outputs": [],
   "source": [
    "pd.read_csv('{0}/jpx_foreign.csv'.format(csv_path), index_col=0)"
   ]
  },
  {
   "cell_type": "code",
   "execution_count": null,
   "metadata": {
    "ExecuteTime": {
     "end_time": "2018-03-16T06:37:21.518632Z",
     "start_time": "2018-03-16T06:37:21.456082Z"
    }
   },
   "outputs": [],
   "source": [
    "# 型の確認\n",
    "pd.DataFrame([\n",
    "    pd.read_csv('{0}/jpx_all.csv'.format(csv_path), index_col=0).dtypes,\n",
    "    pd.read_csv('{0}/jpx_expro.csv'.format(csv_path), index_col=0).dtypes,\n",
    "    pd.read_csv('{0}/jpx_domestic.csv'.format(csv_path), index_col=0).dtypes,\n",
    "    pd.read_csv('{0}/jpx_extra.csv'.format(csv_path), index_col=0).dtypes,\n",
    "    pd.read_csv('{0}/jpx_foreign.csv'.format(csv_path), index_col=0).dtypes],\n",
    "    index=['all', 'yahoo', 'domestic', 'ex', 'foreign'])"
   ]
  },
  {
   "cell_type": "markdown",
   "metadata": {},
   "source": [
    "# 上場一覧の更新"
   ]
  },
  {
   "cell_type": "markdown",
   "metadata": {},
   "source": [
    "## 新旧ファイルの読み込み"
   ]
  },
  {
   "cell_type": "code",
   "execution_count": null,
   "metadata": {
    "ExecuteTime": {
     "end_time": "2018-03-16T06:37:54.084634Z",
     "start_time": "2018-03-16T06:37:54.069386Z"
    }
   },
   "outputs": [],
   "source": [
    "new_file_month = 1803\n",
    "old_file_month = 1802"
   ]
  },
  {
   "cell_type": "code",
   "execution_count": null,
   "metadata": {
    "ExecuteTime": {
     "end_time": "2018-03-16T06:37:58.585720Z",
     "start_time": "2018-03-16T06:37:58.444450Z"
    }
   },
   "outputs": [],
   "source": [
    "# 東証のエクセルファイルを読み込む # http://www.jpx.co.jp/markets/statistics-equities/misc/01.html\n",
    "new_jpx = pd.read_excel('{0}/data_j_{1}.xls'.format(jpx_path, new_file_month))\n",
    "new_jpx.columns = ['date', 'code', 'name', 'market', 'code_33', 'category_33', 'code_17', 'category_17', 'code_scale', 'scale'] # 列名を変更"
   ]
  },
  {
   "cell_type": "code",
   "execution_count": null,
   "metadata": {
    "ExecuteTime": {
     "end_time": "2018-02-18T13:24:18.975753Z",
     "start_time": "2018-02-18T13:24:18.922729Z"
    }
   },
   "outputs": [],
   "source": [
    "new_jpx"
   ]
  },
  {
   "cell_type": "code",
   "execution_count": null,
   "metadata": {
    "ExecuteTime": {
     "end_time": "2018-02-18T13:24:20.624504Z",
     "start_time": "2018-02-18T13:24:20.608947Z"
    }
   },
   "outputs": [],
   "source": [
    "new_jpx.dtypes"
   ]
  },
  {
   "cell_type": "code",
   "execution_count": null,
   "metadata": {
    "ExecuteTime": {
     "end_time": "2018-03-16T06:38:06.996315Z",
     "start_time": "2018-03-16T06:38:06.699469Z"
    }
   },
   "outputs": [],
   "source": [
    "# 旧エクセルファイルの読み込み\n",
    "old_jpx = pd.read_excel('{0}/data_j_{1}.xls'.format(jpx_path, old_file_month))\n",
    "old_jpx.columns = ['date', 'code', 'name', 'market', 'code_33', 'category_33', 'code_17', 'category_17', 'code_scale', 'scale'] # 列名を変更"
   ]
  },
  {
   "cell_type": "code",
   "execution_count": null,
   "metadata": {
    "ExecuteTime": {
     "end_time": "2018-03-16T06:38:10.058756Z",
     "start_time": "2018-03-16T06:38:10.012239Z"
    }
   },
   "outputs": [],
   "source": [
    "old_jpx"
   ]
  },
  {
   "cell_type": "code",
   "execution_count": null,
   "metadata": {
    "ExecuteTime": {
     "end_time": "2018-02-18T13:24:31.411116Z",
     "start_time": "2018-02-18T13:24:31.395900Z"
    }
   },
   "outputs": [],
   "source": [
    "old_jpx.dtypes"
   ]
  },
  {
   "cell_type": "markdown",
   "metadata": {},
   "source": [
    "## 新規上場銘柄"
   ]
  },
  {
   "cell_type": "code",
   "execution_count": null,
   "metadata": {
    "ExecuteTime": {
     "end_time": "2018-03-16T06:38:38.530557Z",
     "start_time": "2018-03-16T06:38:38.499305Z"
    }
   },
   "outputs": [],
   "source": [
    "# 新規上場銘柄のテーブル作成\n",
    "new_added = new_jpx[~new_jpx['code'].isin(old_jpx['code'])].reset_index(drop=True)\n",
    "new_added"
   ]
  },
  {
   "cell_type": "code",
   "execution_count": null,
   "metadata": {
    "ExecuteTime": {
     "end_time": "2018-03-16T06:38:54.980875Z",
     "start_time": "2018-03-16T06:38:54.965250Z"
    }
   },
   "outputs": [],
   "source": [
    "# 新規上場銘柄のテーブル保存\n",
    "new_added.to_csv('{0}/jpx_new_added.csv'.format(csv_path))"
   ]
  },
  {
   "cell_type": "code",
   "execution_count": null,
   "metadata": {
    "ExecuteTime": {
     "end_time": "2018-03-16T06:38:56.542924Z",
     "start_time": "2018-03-16T06:38:56.505862Z"
    }
   },
   "outputs": [],
   "source": [
    "pd.read_csv('{0}/jpx_new_added.csv'.format(csv_path), index_col=0)"
   ]
  },
  {
   "cell_type": "code",
   "execution_count": null,
   "metadata": {
    "ExecuteTime": {
     "end_time": "2018-03-16T06:39:01.608225Z",
     "start_time": "2018-03-16T06:39:01.405089Z"
    }
   },
   "outputs": [],
   "source": [
    "# 新規上場銘柄の履歴テーブルの読み込み\n",
    "saved_added = pd.read_csv('{0}/jpx_added.csv'.format(csv_path), index_col=0)\n",
    "saved_added"
   ]
  },
  {
   "cell_type": "code",
   "execution_count": null,
   "metadata": {
    "ExecuteTime": {
     "end_time": "2018-02-04T06:30:34.254060Z",
     "start_time": "2018-02-04T06:30:34.238426Z"
    },
    "collapsed": true
   },
   "outputs": [],
   "source": [
    "saved_added.dtypes"
   ]
  },
  {
   "cell_type": "code",
   "execution_count": null,
   "metadata": {
    "ExecuteTime": {
     "end_time": "2018-03-16T06:39:13.687644Z",
     "start_time": "2018-03-16T06:39:13.625570Z"
    }
   },
   "outputs": [],
   "source": [
    "# 新旧テーブルの連結\n",
    "jpx_added = saved_added.append(new_added).reset_index(drop=True)\n",
    "jpx_added"
   ]
  },
  {
   "cell_type": "code",
   "execution_count": null,
   "metadata": {
    "ExecuteTime": {
     "end_time": "2018-03-16T06:39:21.927044Z",
     "start_time": "2018-03-16T06:39:21.896190Z"
    }
   },
   "outputs": [],
   "source": [
    "jpx_added.dtypes"
   ]
  },
  {
   "cell_type": "code",
   "execution_count": null,
   "metadata": {
    "ExecuteTime": {
     "end_time": "2018-03-16T06:39:28.739460Z",
     "start_time": "2018-03-16T06:39:28.708605Z"
    }
   },
   "outputs": [],
   "source": [
    "# 新規上場銘柄の履歴テーブル保存\n",
    "jpx_added.to_csv('{0}/jpx_added.csv'.format(csv_path))"
   ]
  },
  {
   "cell_type": "code",
   "execution_count": null,
   "metadata": {
    "ExecuteTime": {
     "end_time": "2018-03-16T06:39:29.473863Z",
     "start_time": "2018-03-16T06:39:29.427007Z"
    }
   },
   "outputs": [],
   "source": [
    "pd.read_csv('{0}/jpx_added.csv'.format(csv_path), index_col=0)"
   ]
  },
  {
   "cell_type": "markdown",
   "metadata": {},
   "source": [
    "## 上場廃止銘柄"
   ]
  },
  {
   "cell_type": "code",
   "execution_count": null,
   "metadata": {
    "ExecuteTime": {
     "end_time": "2018-03-16T06:39:37.209075Z",
     "start_time": "2018-03-16T06:39:37.178264Z"
    }
   },
   "outputs": [],
   "source": [
    "# 上場廃止銘柄のテーブル作成\n",
    "new_discontinued = old_jpx[~old_jpx['code'].isin(new_jpx['code'])].reset_index(drop=True)\n",
    "new_discontinued"
   ]
  },
  {
   "cell_type": "code",
   "execution_count": null,
   "metadata": {
    "ExecuteTime": {
     "end_time": "2018-03-16T06:39:43.917817Z",
     "start_time": "2018-03-16T06:39:43.745883Z"
    }
   },
   "outputs": [],
   "source": [
    "# 上場廃止銘柄の履歴テーブルの読み込み\n",
    "saved_discontinued = pd.read_csv('{0}/jpx_discontinued.csv'.format(csv_path), index_col=0)\n",
    "saved_discontinued"
   ]
  },
  {
   "cell_type": "code",
   "execution_count": null,
   "metadata": {
    "ExecuteTime": {
     "end_time": "2018-02-04T06:36:09.317668Z",
     "start_time": "2018-02-04T06:36:09.286863Z"
    },
    "collapsed": true
   },
   "outputs": [],
   "source": [
    "saved_discontinued.dtypes"
   ]
  },
  {
   "cell_type": "code",
   "execution_count": null,
   "metadata": {
    "ExecuteTime": {
     "end_time": "2018-03-16T06:39:50.847660Z",
     "start_time": "2018-03-16T06:39:50.816426Z"
    }
   },
   "outputs": [],
   "source": [
    "# 新旧テーブルの連結\n",
    "jpx_discontinued = saved_discontinued.append(new_discontinued).reset_index(drop=True)\n",
    "jpx_discontinued"
   ]
  },
  {
   "cell_type": "code",
   "execution_count": null,
   "metadata": {
    "ExecuteTime": {
     "end_time": "2018-02-18T13:28:31.260317Z",
     "start_time": "2018-02-18T13:28:31.229066Z"
    }
   },
   "outputs": [],
   "source": [
    "jpx_discontinued.dtypes"
   ]
  },
  {
   "cell_type": "code",
   "execution_count": null,
   "metadata": {
    "ExecuteTime": {
     "end_time": "2018-03-16T06:40:26.511543Z",
     "start_time": "2018-03-16T06:40:26.480253Z"
    }
   },
   "outputs": [],
   "source": [
    "# 上場廃止銘柄の履歴テーブル保存\n",
    "jpx_discontinued.to_csv('{0}/jpx_discontinued.csv'.format(csv_path))"
   ]
  },
  {
   "cell_type": "code",
   "execution_count": null,
   "metadata": {
    "ExecuteTime": {
     "end_time": "2018-03-16T06:40:28.167931Z",
     "start_time": "2018-03-16T06:40:28.136678Z"
    }
   },
   "outputs": [],
   "source": [
    "pd.read_csv('{0}/jpx_discontinued.csv'.format(csv_path), index_col=0)"
   ]
  },
  {
   "cell_type": "markdown",
   "metadata": {},
   "source": [
    "# 連続読み込み用コードリストの作成例"
   ]
  },
  {
   "cell_type": "markdown",
   "metadata": {},
   "source": [
    "## yahoo 連続読み込み用コードリスト作成"
   ]
  },
  {
   "cell_type": "code",
   "execution_count": null,
   "metadata": {
    "ExecuteTime": {
     "end_time": "2018-03-04T01:48:23.275518Z",
     "start_time": "2018-03-04T01:48:23.244264Z"
    }
   },
   "outputs": [],
   "source": [
    "start_index = 0\n",
    "increase_number = 10\n",
    "end_index = start_index + increase_number\n",
    "\n",
    "reading_code = stock.get_jpx_expro_code(start_index, end_index)\n",
    "# reading_code = stock.get_jpx_expro_code(start_index)\n",
    "print(reading_code[-10:])\n",
    "print('Next start from {0}'.format(start_index + increase_number))"
   ]
  },
  {
   "cell_type": "markdown",
   "metadata": {},
   "source": [
    "## 新規銘柄読み込み用コードリスト作成"
   ]
  },
  {
   "cell_type": "code",
   "execution_count": null,
   "metadata": {
    "ExecuteTime": {
     "end_time": "2018-03-04T01:49:14.865991Z",
     "start_time": "2018-03-04T01:49:14.491005Z"
    }
   },
   "outputs": [],
   "source": [
    "reading_code = stock.get_jpx_new_added_code()\n",
    "reading_code"
   ]
  },
  {
   "cell_type": "markdown",
   "metadata": {},
   "source": [
    "# Yahooの銘柄一覧テーブルを取得"
   ]
  },
  {
   "cell_type": "markdown",
   "metadata": {},
   "source": [
    "## 株式"
   ]
  },
  {
   "cell_type": "code",
   "execution_count": null,
   "metadata": {
    "ExecuteTime": {
     "end_time": "2018-03-11T07:28:07.193453Z",
     "start_time": "2018-03-11T07:25:53.549222Z"
    },
    "scrolled": true
   },
   "outputs": [],
   "source": [
    "yahoo_stock_table = stock.get_stock_table_yahoojp()"
   ]
  },
  {
   "cell_type": "code",
   "execution_count": null,
   "metadata": {
    "ExecuteTime": {
     "end_time": "2018-03-09T08:02:13.209622Z",
     "start_time": "2018-03-09T08:02:13.193945Z"
    }
   },
   "outputs": [],
   "source": [
    "len(yahoo_stock_table)"
   ]
  },
  {
   "cell_type": "code",
   "execution_count": null,
   "metadata": {
    "ExecuteTime": {
     "end_time": "2018-03-11T07:28:27.501203Z",
     "start_time": "2018-03-11T07:28:27.454742Z"
    }
   },
   "outputs": [],
   "source": [
    "display(yahoo_stock_table)"
   ]
  },
  {
   "cell_type": "code",
   "execution_count": null,
   "metadata": {
    "ExecuteTime": {
     "end_time": "2018-03-11T08:12:33.547194Z",
     "start_time": "2018-03-11T08:12:33.531526Z"
    }
   },
   "outputs": [],
   "source": [
    "yahoo_stock_table.dtypes"
   ]
  },
  {
   "cell_type": "code",
   "execution_count": null,
   "metadata": {
    "ExecuteTime": {
     "end_time": "2018-03-11T08:14:12.700866Z",
     "start_time": "2018-03-11T08:14:12.685187Z"
    }
   },
   "outputs": [],
   "source": [
    "type(yahoo_stock_table['code'][0])"
   ]
  },
  {
   "cell_type": "code",
   "execution_count": null,
   "metadata": {
    "ExecuteTime": {
     "end_time": "2018-03-11T07:29:01.867321Z",
     "start_time": "2018-03-11T07:29:01.820715Z"
    }
   },
   "outputs": [],
   "source": [
    "yahoo_stock_table.to_csv('{0}/yahoo_stock_table.csv'.format(csv_path))"
   ]
  },
  {
   "cell_type": "markdown",
   "metadata": {
    "ExecuteTime": {
     "end_time": "2018-03-09T06:57:17.186249Z",
     "start_time": "2018-03-09T06:57:17.170739Z"
    }
   },
   "source": [
    "## ETF"
   ]
  },
  {
   "cell_type": "code",
   "execution_count": null,
   "metadata": {
    "ExecuteTime": {
     "end_time": "2018-03-11T07:29:43.760169Z",
     "start_time": "2018-03-11T07:29:40.730930Z"
    }
   },
   "outputs": [],
   "source": [
    "yahoo_etf_table = stock.get_etf_table_yahoojp()"
   ]
  },
  {
   "cell_type": "code",
   "execution_count": null,
   "metadata": {
    "ExecuteTime": {
     "end_time": "2018-03-09T07:09:06.092459Z",
     "start_time": "2018-03-09T07:09:06.077245Z"
    }
   },
   "outputs": [],
   "source": [
    "len(yahoo_etf_table)"
   ]
  },
  {
   "cell_type": "code",
   "execution_count": null,
   "metadata": {
    "ExecuteTime": {
     "end_time": "2018-03-11T07:29:46.025584Z",
     "start_time": "2018-03-11T07:29:45.963047Z"
    },
    "scrolled": true
   },
   "outputs": [],
   "source": [
    "yahoo_etf_table"
   ]
  },
  {
   "cell_type": "code",
   "execution_count": null,
   "metadata": {
    "ExecuteTime": {
     "end_time": "2018-03-11T08:12:08.653846Z",
     "start_time": "2018-03-11T08:12:08.638223Z"
    }
   },
   "outputs": [],
   "source": [
    "yahoo_etf_table.dtypes"
   ]
  },
  {
   "cell_type": "code",
   "execution_count": null,
   "metadata": {
    "ExecuteTime": {
     "end_time": "2018-03-11T08:16:43.075136Z",
     "start_time": "2018-03-11T08:16:43.059968Z"
    }
   },
   "outputs": [],
   "source": [
    "type(yahoo_etf_table['code'][0])"
   ]
  },
  {
   "cell_type": "code",
   "execution_count": null,
   "metadata": {
    "ExecuteTime": {
     "end_time": "2018-03-11T08:15:47.977722Z",
     "start_time": "2018-03-11T08:15:47.946921Z"
    }
   },
   "outputs": [],
   "source": [
    "yahoo_etf_table.loc[yahoo_etf_table['code'].str.isnumeric() == False, :]"
   ]
  },
  {
   "cell_type": "code",
   "execution_count": null,
   "metadata": {
    "ExecuteTime": {
     "end_time": "2018-03-11T08:16:38.887238Z",
     "start_time": "2018-03-11T08:16:38.871561Z"
    }
   },
   "outputs": [],
   "source": [
    "yahoo_etf_table['code'] = yahoo_etf_table['code'].astype(int)"
   ]
  },
  {
   "cell_type": "code",
   "execution_count": null,
   "metadata": {
    "ExecuteTime": {
     "end_time": "2018-03-11T07:43:02.964988Z",
     "start_time": "2018-03-11T07:43:02.949366Z"
    }
   },
   "outputs": [],
   "source": [
    "yahoo_etf_table.to_csv('{0}/yahoo_etf_table.csv'.format(csv_path))"
   ]
  },
  {
   "cell_type": "markdown",
   "metadata": {},
   "source": [
    "## 連結"
   ]
  },
  {
   "cell_type": "code",
   "execution_count": null,
   "metadata": {
    "ExecuteTime": {
     "end_time": "2018-03-11T08:17:10.524100Z",
     "start_time": "2018-03-11T08:17:10.492808Z"
    }
   },
   "outputs": [],
   "source": [
    "yahoo_table = yahoo_stock_table.append(yahoo_etf_table)\n",
    "yahoo_table = yahoo_table.drop_duplicates('code')\n",
    "yahoo_table = yahoo_table.sort_values(by=['code']).reset_index(drop=True)"
   ]
  },
  {
   "cell_type": "code",
   "execution_count": null,
   "metadata": {
    "ExecuteTime": {
     "end_time": "2018-03-11T07:51:15.327397Z",
     "start_time": "2018-03-11T07:51:15.280521Z"
    }
   },
   "outputs": [],
   "source": [
    "# 保存済み CSV から\n",
    "yahoo_table = pd.read_csv('{0}/yahoo_stock_table.csv'.format(csv_path), index_col=0)\n",
    "yahoo_table = yahoo_table.append(pd.read_csv('{0}/yahoo_etf_table.csv'.format(csv_path), index_col=0))\n",
    "yahoo_table = yahoo_table.drop_duplicates('code')\n",
    "yahoo_table = yahoo_table.sort_values(by=['code']).reset_index(drop=True)"
   ]
  },
  {
   "cell_type": "code",
   "execution_count": null,
   "metadata": {
    "ExecuteTime": {
     "end_time": "2018-03-11T08:17:12.336755Z",
     "start_time": "2018-03-11T08:17:12.274248Z"
    }
   },
   "outputs": [],
   "source": [
    "display(yahoo_table)"
   ]
  },
  {
   "cell_type": "code",
   "execution_count": null,
   "metadata": {
    "ExecuteTime": {
     "end_time": "2018-03-11T08:21:15.957873Z",
     "start_time": "2018-03-11T08:21:15.911004Z"
    }
   },
   "outputs": [],
   "source": [
    "yahoo_table.to_csv('{0}/yahoo_table.csv'.format(csv_path))"
   ]
  },
  {
   "cell_type": "code",
   "execution_count": null,
   "metadata": {
    "ExecuteTime": {
     "end_time": "2018-03-11T07:51:30.564171Z",
     "start_time": "2018-03-11T07:51:30.532919Z"
    },
    "scrolled": true
   },
   "outputs": [],
   "source": [
    "# market別で集計\n",
    "yahoo_table.groupby('market').count()"
   ]
  },
  {
   "cell_type": "code",
   "execution_count": null,
   "metadata": {
    "ExecuteTime": {
     "end_time": "2018-03-11T07:51:30.564171Z",
     "start_time": "2018-03-11T07:51:30.532919Z"
    }
   },
   "outputs": [],
   "source": [
    "# market_code別で集計\n",
    "yahoo_table.groupby('market_code').count()"
   ]
  },
  {
   "cell_type": "markdown",
   "metadata": {},
   "source": [
    "## コードのリスト作成"
   ]
  },
  {
   "cell_type": "code",
   "execution_count": null,
   "metadata": {
    "ExecuteTime": {
     "end_time": "2018-03-09T08:21:49.308863Z",
     "start_time": "2018-03-09T08:21:49.261983Z"
    }
   },
   "outputs": [],
   "source": [
    "start_index = 0\n",
    "increase_number = 10\n",
    "end_index = start_index + increase_number\n",
    "\n",
    "# reading_code = stock.get_jpx_expro_code(start_index, end_index)\n",
    "reading_code = stock.get_yahoo_code(start_index, end_index)\n",
    "# reading_code = stock.get_yahoo_code(start_index)\n",
    "print(reading_code[-10:])\n",
    "print('Next start from {0}'.format(start_index + increase_number))"
   ]
  },
  {
   "cell_type": "code",
   "execution_count": null,
   "metadata": {
    "ExecuteTime": {
     "end_time": "2018-03-11T08:04:21.484950Z",
     "start_time": "2018-03-11T08:04:21.453700Z"
    }
   },
   "outputs": [],
   "source": [
    "yahoo_table.loc[0:1, ['code', 'market_code']]"
   ]
  },
  {
   "cell_type": "code",
   "execution_count": null,
   "metadata": {
    "ExecuteTime": {
     "end_time": "2018-03-11T07:54:34.387592Z",
     "start_time": "2018-03-11T07:54:34.356371Z"
    }
   },
   "outputs": [],
   "source": [
    "def get_yahoo_code(start_index=0, end_index=None, csv_path=csv_path):\n",
    "    table = pd.read_csv('{0}/yahoo_stock_table.csv'.format(csv_path), index_col=0)\n",
    "    table = table.append(pd.read_csv('{0}/yahoo_etf_table.csv'.format(csv_path), index_col=0))\n",
    "    table = table.drop_duplicates('code')\n",
    "    table = table.sort_values(by=['code']).reset_index(drop=True)\n",
    "\n",
    "    if (end_index == None) or (end_index > len(table)):\n",
    "        end_index = len(table)\n",
    "\n",
    "    result = table.loc[start_index:end_index, ['code', 'market_code']]\n",
    "\n",
    "    return result"
   ]
  },
  {
   "cell_type": "code",
   "execution_count": null,
   "metadata": {
    "ExecuteTime": {
     "end_time": "2018-03-11T07:54:36.660744Z",
     "start_time": "2018-03-11T07:54:36.642075Z"
    }
   },
   "outputs": [],
   "source": [
    "start_index = 0\n",
    "end_index = 10"
   ]
  },
  {
   "cell_type": "code",
   "execution_count": null,
   "metadata": {
    "ExecuteTime": {
     "end_time": "2018-03-11T07:54:37.301438Z",
     "start_time": "2018-03-11T07:54:37.254585Z"
    }
   },
   "outputs": [],
   "source": [
    "get_yahoo_code(start_index, end_index)"
   ]
  },
  {
   "cell_type": "code",
   "execution_count": null,
   "metadata": {
    "ExecuteTime": {
     "end_time": "2018-03-11T08:42:43.785608Z",
     "start_time": "2018-03-11T08:42:43.770009Z"
    }
   },
   "outputs": [],
   "source": [
    "yahoo_table.loc[yahoo_table['code']==1384, 'market_code'].values[0]"
   ]
  },
  {
   "cell_type": "code",
   "execution_count": null,
   "metadata": {},
   "outputs": [],
   "source": []
  }
 ],
 "metadata": {
  "kernelspec": {
   "display_name": "Python 3",
   "language": "python",
   "name": "python3"
  },
  "language_info": {
   "codemirror_mode": {
    "name": "ipython",
    "version": 3
   },
   "file_extension": ".py",
   "mimetype": "text/x-python",
   "name": "python",
   "nbconvert_exporter": "python",
   "pygments_lexer": "ipython3",
   "version": "3.6.4"
  },
  "toc": {
   "nav_menu": {},
   "number_sections": true,
   "sideBar": true,
   "skip_h1_title": false,
   "toc_cell": false,
   "toc_position": {},
   "toc_section_display": "block",
   "toc_window_display": false
  },
  "varInspector": {
   "cols": {
    "lenName": 16,
    "lenType": 16,
    "lenVar": 40
   },
   "kernels_config": {
    "python": {
     "delete_cmd_postfix": "",
     "delete_cmd_prefix": "del ",
     "library": "var_list.py",
     "varRefreshCmd": "print(var_dic_list())"
    },
    "r": {
     "delete_cmd_postfix": ") ",
     "delete_cmd_prefix": "rm(",
     "library": "var_list.r",
     "varRefreshCmd": "cat(var_dic_list()) "
    }
   },
   "types_to_exclude": [
    "module",
    "function",
    "builtin_function_or_method",
    "instance",
    "_Feature"
   ],
   "window_display": false
  }
 },
 "nbformat": 4,
 "nbformat_minor": 2
}
