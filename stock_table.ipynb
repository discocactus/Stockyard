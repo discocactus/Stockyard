{
 "cells": [
  {
   "cell_type": "code",
   "execution_count": null,
   "metadata": {},
   "outputs": [],
   "source": [
    "# pandasのto_csvのデフォルトエンコーディングはUTF-8。\n",
    "# 書き出したファイルをpandasで読み込む場合は問題ない。\n",
    "# Excelで開こうとすると強制的にShift-JISで開こうとするので、日本語が文字化けするがいたしかたなし？\n",
    "# エンコーディングをUTF-8以外にするのは弊害が大きいような気がする。\n",
    "# Excelではファイルを開くのではなく、データのインポートを利用すればエンコードの指定が可能。\n",
    "# メモ帳等で開いて上書き保存すれば自動的にBOMが付加され、Excelもエンコードを認識するらしいが、\n",
    "# BOMを付けるのもExcel以外から開く際に弊害があるらしい。"
   ]
  },
  {
   "cell_type": "markdown",
   "metadata": {},
   "source": [
    "# import"
   ]
  },
  {
   "cell_type": "code",
   "execution_count": null,
   "metadata": {
    "ExecuteTime": {
     "end_time": "2018-02-04T04:38:31.594664Z",
     "start_time": "2018-02-04T04:38:30.578959Z"
    }
   },
   "outputs": [],
   "source": [
    "import numpy as np\n",
    "import pandas as pd\n",
    "import pandas.tseries.offsets as offsets\n",
    "import datetime as dt\n",
    "import time\n",
    "import importlib\n",
    "\n",
    "import stock"
   ]
  },
  {
   "cell_type": "code",
   "execution_count": null,
   "metadata": {
    "ExecuteTime": {
     "end_time": "2018-02-04T07:14:41.519910Z",
     "start_time": "2018-02-04T07:14:41.488680Z"
    }
   },
   "outputs": [],
   "source": [
    "importlib.reload(stock)"
   ]
  },
  {
   "cell_type": "code",
   "execution_count": null,
   "metadata": {
    "ExecuteTime": {
     "end_time": "2018-02-04T04:38:33.688639Z",
     "start_time": "2018-02-04T04:38:33.673007Z"
    }
   },
   "outputs": [],
   "source": [
    "# pandas の最大表示列数を設定 (max_rows で表示行数の設定も可能)\n",
    "pd.set_option('display.max_columns', 30)"
   ]
  },
  {
   "cell_type": "markdown",
   "metadata": {},
   "source": [
    "# パスの設定"
   ]
  },
  {
   "cell_type": "code",
   "execution_count": null,
   "metadata": {
    "ExecuteTime": {
     "end_time": "2018-02-04T05:17:07.705531Z",
     "start_time": "2018-02-04T05:17:07.689871Z"
    }
   },
   "outputs": [],
   "source": [
    "# jpx_path = '/Users/Really/Stockyard/_dl_data'\n",
    "jpx_path = 'D:\\stockyard\\_dl_data'"
   ]
  },
  {
   "cell_type": "code",
   "execution_count": null,
   "metadata": {
    "ExecuteTime": {
     "end_time": "2018-02-04T08:11:04.187814Z",
     "start_time": "2018-02-04T08:11:04.172210Z"
    }
   },
   "outputs": [],
   "source": [
    "# csv_path = '/Users/Really/Stockyard/_csv'\n",
    "csv_path = 'D:\\stockyard\\_csv'"
   ]
  },
  {
   "cell_type": "markdown",
   "metadata": {},
   "source": [
    "# 上場一覧から各種テーブルを作成 (メインはyahoo_stock_table)"
   ]
  },
  {
   "cell_type": "code",
   "execution_count": null,
   "metadata": {
    "ExecuteTime": {
     "end_time": "2018-02-04T04:41:17.249011Z",
     "start_time": "2018-02-04T04:41:17.217766Z"
    }
   },
   "outputs": [],
   "source": [
    "file_month = 1801"
   ]
  },
  {
   "cell_type": "code",
   "execution_count": null,
   "metadata": {
    "ExecuteTime": {
     "end_time": "2018-02-04T05:18:27.927308Z",
     "start_time": "2018-02-04T05:18:27.786382Z"
    }
   },
   "outputs": [],
   "source": [
    "# 東証のエクセルファイルを読み込む # http://www.jpx.co.jp/markets/statistics-equities/misc/01.html\n",
    "all_stock_table = pd.read_excel('{0}/data_j_{1}.xls'.format(jpx_path, file_month))\n",
    "all_stock_table.columns = ['date', 'code', 'name', 'market', 'code_33', 'category_33', 'code_17', 'category_17', 'code_scale', 'scale'] # 列名を変更"
   ]
  },
  {
   "cell_type": "code",
   "execution_count": null,
   "metadata": {
    "ExecuteTime": {
     "end_time": "2018-02-04T05:18:29.661607Z",
     "start_time": "2018-02-04T05:18:29.614987Z"
    }
   },
   "outputs": [],
   "source": [
    "all_stock_table"
   ]
  },
  {
   "cell_type": "code",
   "execution_count": null,
   "metadata": {
    "ExecuteTime": {
     "end_time": "2018-02-04T04:49:28.104940Z",
     "start_time": "2018-02-04T04:49:28.073674Z"
    }
   },
   "outputs": [],
   "source": [
    "# marketの種別で集計\n",
    "all_stock_table.groupby('market').count()"
   ]
  },
  {
   "cell_type": "code",
   "execution_count": null,
   "metadata": {
    "ExecuteTime": {
     "end_time": "2018-02-04T04:54:23.382871Z",
     "start_time": "2018-02-04T04:54:23.241790Z"
    }
   },
   "outputs": [],
   "source": [
    "# 上場一覧のテーブル保存\n",
    "all_stock_table.to_csv('{0}/all_stock_table.csv'.format(csv_path))"
   ]
  },
  {
   "cell_type": "code",
   "execution_count": null,
   "metadata": {
    "ExecuteTime": {
     "end_time": "2018-02-04T05:36:44.376403Z",
     "start_time": "2018-02-04T05:36:44.314340Z"
    }
   },
   "outputs": [],
   "source": [
    "pd.read_csv('{0}/all_stock_table.csv'.format(csv_path), index_col=0)"
   ]
  },
  {
   "cell_type": "code",
   "execution_count": null,
   "metadata": {
    "ExecuteTime": {
     "end_time": "2018-02-04T05:20:15.898899Z",
     "start_time": "2018-02-04T05:20:15.883274Z"
    }
   },
   "outputs": [],
   "source": [
    "# PRO Marketを除いたテーブルの作成 (YahooにはPRO Marketのデータはない)\n",
    "yahoo_stock_table = all_stock_table.loc[~all_stock_table['market'].str.contains('PRO Market')].reset_index(drop=True)\n",
    "yahoo_stock_table"
   ]
  },
  {
   "cell_type": "code",
   "execution_count": null,
   "metadata": {
    "ExecuteTime": {
     "end_time": "2018-02-04T05:21:47.781084Z",
     "start_time": "2018-02-04T05:21:47.640410Z"
    }
   },
   "outputs": [],
   "source": [
    "# PRO Marketを除いたテーブルの保存\n",
    "yahoo_stock_table.to_csv('{0}/yahoo_stock_table.csv'.format(csv_path))"
   ]
  },
  {
   "cell_type": "code",
   "execution_count": null,
   "metadata": {
    "ExecuteTime": {
     "end_time": "2018-02-04T08:11:09.157276Z",
     "start_time": "2018-02-04T08:11:09.094730Z"
    }
   },
   "outputs": [],
   "source": [
    "pd.read_csv('{0}/yahoo_stock_table.csv'.format(csv_path), index_col=0)"
   ]
  },
  {
   "cell_type": "code",
   "execution_count": null,
   "metadata": {
    "ExecuteTime": {
     "end_time": "2018-02-04T05:24:21.860473Z",
     "start_time": "2018-02-04T05:24:21.844847Z"
    }
   },
   "outputs": [],
   "source": [
    "# 内国株のテーブル作成\n",
    "domestic_stock_table = all_stock_table.loc[all_stock_table['market'].str.contains('内国株')].reset_index(drop=True)\n",
    "domestic_stock_table"
   ]
  },
  {
   "cell_type": "code",
   "execution_count": null,
   "metadata": {
    "ExecuteTime": {
     "end_time": "2018-02-04T05:25:51.188445Z",
     "start_time": "2018-02-04T05:25:51.141665Z"
    }
   },
   "outputs": [],
   "source": [
    "# 内国株のテーブル保存\n",
    "domestic_stock_table.to_csv('{0}/domestic_stock_table.csv'.format(csv_path))"
   ]
  },
  {
   "cell_type": "code",
   "execution_count": null,
   "metadata": {
    "ExecuteTime": {
     "end_time": "2018-02-04T05:33:17.463400Z",
     "start_time": "2018-02-04T05:33:17.400865Z"
    }
   },
   "outputs": [],
   "source": [
    "pd.read_csv('{0}/domestic_stock_table.csv'.format(csv_path), index_col=0)"
   ]
  },
  {
   "cell_type": "code",
   "execution_count": null,
   "metadata": {
    "ExecuteTime": {
     "end_time": "2018-02-04T05:37:49.500145Z",
     "start_time": "2018-02-04T05:37:49.437648Z"
    }
   },
   "outputs": [],
   "source": [
    "# 内国株, PRO Market 以外のテーブル作成\n",
    "ex_stock_table = yahoo_stock_table[~yahoo_stock_table['code'].isin(domestic_stock_table['code'])].reset_index(drop=True)\n",
    "\n",
    "# 正規表現を使った書き方の例。\n",
    "# ex_stock_table = all_stock_table.ix[all_stock_table['market'].str.contains('[^内国株）PRO Market]...$')].reset_index(drop=True)\n",
    "# 文字列末尾の合致検索では、'$' の前の '.' の数で検索する文字数 ('.' * n + '$') が決定されているっぽい。\n",
    "# つまりこの場合だと 'PRO Market' で実際に合致が確認されているのは末尾4文字の 'rket' 。\n",
    "# '内国株）', 'PRO Market' をそれぞれグループ化するために' ()' で括る必要はないみたい。(ただし括っても同じ結果になる) \n",
    "\n",
    "# 下の書き方だと最後の1文字しか見ないことになるので、外国株も除外されてしまう。\n",
    "# ex_stock_table = all_stock_table.ix[all_stock_table['market'].str.contains('[^内国株）PRO Market]$')].reset_index(drop=True)\n",
    "# 上はつまり下の書き方と同じこと。\n",
    "# ex_stock_table = all_stock_table.ix[all_stock_table['market'].str.contains('[^）t]$')].reset_index(drop=True)\n",
    "\n",
    "ex_stock_table"
   ]
  },
  {
   "cell_type": "code",
   "execution_count": null,
   "metadata": {
    "ExecuteTime": {
     "end_time": "2018-02-04T05:38:05.788056Z",
     "start_time": "2018-02-04T05:38:05.772387Z"
    }
   },
   "outputs": [],
   "source": [
    "# marketの種別で集計\n",
    "ex_stock_table.groupby('market').count()"
   ]
  },
  {
   "cell_type": "code",
   "execution_count": null,
   "metadata": {
    "ExecuteTime": {
     "end_time": "2018-02-04T05:38:48.075893Z",
     "start_time": "2018-02-04T05:38:48.045087Z"
    }
   },
   "outputs": [],
   "source": [
    "# 内国株, PRO Market 以外のテーブル保存\n",
    "ex_stock_table.to_csv('{0}/ex_stock_table.csv'.format(csv_path))"
   ]
  },
  {
   "cell_type": "code",
   "execution_count": null,
   "metadata": {
    "ExecuteTime": {
     "end_time": "2018-02-04T05:39:33.160783Z",
     "start_time": "2018-02-04T05:39:33.113931Z"
    }
   },
   "outputs": [],
   "source": [
    "pd.read_csv('{0}/ex_stock_table.csv'.format(csv_path), index_col=0)"
   ]
  },
  {
   "cell_type": "code",
   "execution_count": null,
   "metadata": {
    "ExecuteTime": {
     "end_time": "2018-02-04T05:41:05.339488Z",
     "start_time": "2018-02-04T05:41:05.308234Z"
    }
   },
   "outputs": [],
   "source": [
    "# 外国株のテーブル作成\n",
    "foreign_stock_table = all_stock_table.loc[all_stock_table['market'].str.contains('外国株')].reset_index(drop=True)\n",
    "foreign_stock_table"
   ]
  },
  {
   "cell_type": "code",
   "execution_count": null,
   "metadata": {
    "ExecuteTime": {
     "end_time": "2018-02-04T05:41:58.271317Z",
     "start_time": "2018-02-04T05:41:58.240561Z"
    }
   },
   "outputs": [],
   "source": [
    "# 外国株のテーブル保存\n",
    "foreign_stock_table.to_csv('{0}/foreign_stock_table.csv'.format(csv_path))"
   ]
  },
  {
   "cell_type": "code",
   "execution_count": null,
   "metadata": {
    "ExecuteTime": {
     "end_time": "2018-02-04T05:42:33.984887Z",
     "start_time": "2018-02-04T05:42:33.953594Z"
    }
   },
   "outputs": [],
   "source": [
    "pd.read_csv('{0}/foreign_stock_table.csv'.format(csv_path), index_col=0)"
   ]
  },
  {
   "cell_type": "code",
   "execution_count": null,
   "metadata": {
    "ExecuteTime": {
     "end_time": "2018-02-04T06:14:48.516553Z",
     "start_time": "2018-02-04T06:14:48.438866Z"
    }
   },
   "outputs": [],
   "source": [
    "# 型の確認\n",
    "pd.DataFrame([\n",
    "    pd.read_csv('{0}/all_stock_table.csv'.format(csv_path), index_col=0).dtypes,\n",
    "    pd.read_csv('{0}/yahoo_stock_table.csv'.format(csv_path), index_col=0).dtypes,\n",
    "    pd.read_csv('{0}/domestic_stock_table.csv'.format(csv_path), index_col=0).dtypes,\n",
    "    pd.read_csv('{0}/ex_stock_table.csv'.format(csv_path), index_col=0).dtypes,\n",
    "    pd.read_csv('{0}/foreign_stock_table.csv'.format(csv_path), index_col=0).dtypes],\n",
    "    index=['all', 'yahoo', 'domestic', 'ex', 'foreign'])"
   ]
  },
  {
   "cell_type": "markdown",
   "metadata": {},
   "source": [
    "# 上場一覧の更新"
   ]
  },
  {
   "cell_type": "markdown",
   "metadata": {},
   "source": [
    "## 新旧ファイルの読み込み"
   ]
  },
  {
   "cell_type": "code",
   "execution_count": null,
   "metadata": {
    "ExecuteTime": {
     "end_time": "2018-02-04T06:21:50.095452Z",
     "start_time": "2018-02-04T06:21:50.079840Z"
    }
   },
   "outputs": [],
   "source": [
    "new_file_month = 1801\n",
    "old_file_month = 1712"
   ]
  },
  {
   "cell_type": "code",
   "execution_count": null,
   "metadata": {
    "ExecuteTime": {
     "end_time": "2018-02-04T06:23:09.515662Z",
     "start_time": "2018-02-04T06:23:09.374713Z"
    }
   },
   "outputs": [],
   "source": [
    "# 東証のエクセルファイルを読み込む # http://www.jpx.co.jp/markets/statistics-equities/misc/01.html\n",
    "new_stock_table = pd.read_excel('{0}/data_j_{1}.xls'.format(jpx_path, new_file_month))\n",
    "new_stock_table.columns = ['date', 'code', 'name', 'market', 'code_33', 'category_33', 'code_17', 'category_17', 'code_scale', 'scale'] # 列名を変更"
   ]
  },
  {
   "cell_type": "code",
   "execution_count": null,
   "metadata": {
    "ExecuteTime": {
     "end_time": "2018-02-04T06:23:17.782523Z",
     "start_time": "2018-02-04T06:23:17.735644Z"
    },
    "collapsed": true
   },
   "outputs": [],
   "source": [
    "new_stock_table"
   ]
  },
  {
   "cell_type": "code",
   "execution_count": null,
   "metadata": {
    "ExecuteTime": {
     "end_time": "2018-02-04T06:23:28.675563Z",
     "start_time": "2018-02-04T06:23:28.644757Z"
    },
    "collapsed": true
   },
   "outputs": [],
   "source": [
    "new_stock_table.dtypes"
   ]
  },
  {
   "cell_type": "code",
   "execution_count": null,
   "metadata": {
    "ExecuteTime": {
     "end_time": "2018-02-04T06:24:20.198642Z",
     "start_time": "2018-02-04T06:24:19.932940Z"
    }
   },
   "outputs": [],
   "source": [
    "# 旧エクセルファイルの読み込み\n",
    "old_stock_table = pd.read_excel('{0}/data_j_{1}.xls'.format(jpx_path, old_file_month))\n",
    "old_stock_table.columns = ['date', 'code', 'name', 'market', 'code_33', 'category_33', 'code_17', 'category_17', 'code_scale', 'scale'] # 列名を変更"
   ]
  },
  {
   "cell_type": "code",
   "execution_count": null,
   "metadata": {
    "ExecuteTime": {
     "end_time": "2018-02-04T06:24:21.229953Z",
     "start_time": "2018-02-04T06:24:21.183475Z"
    },
    "collapsed": true
   },
   "outputs": [],
   "source": [
    "old_stock_table"
   ]
  },
  {
   "cell_type": "code",
   "execution_count": null,
   "metadata": {
    "ExecuteTime": {
     "end_time": "2017-12-15T09:48:57.766228Z",
     "start_time": "2017-12-15T09:48:57.760060Z"
    }
   },
   "outputs": [],
   "source": [
    "old_stock_table.dtypes"
   ]
  },
  {
   "cell_type": "markdown",
   "metadata": {},
   "source": [
    "## 新規上場銘柄"
   ]
  },
  {
   "cell_type": "code",
   "execution_count": null,
   "metadata": {
    "ExecuteTime": {
     "end_time": "2018-02-04T06:24:46.332794Z",
     "start_time": "2018-02-04T06:24:46.286322Z"
    },
    "collapsed": true
   },
   "outputs": [],
   "source": [
    "# 新規上場銘柄のテーブル作成\n",
    "new_added = new_stock_table[~new_stock_table['code'].isin(old_stock_table['code'])].reset_index(drop=True)\n",
    "new_added"
   ]
  },
  {
   "cell_type": "code",
   "execution_count": null,
   "metadata": {
    "ExecuteTime": {
     "end_time": "2018-02-04T06:27:25.996959Z",
     "start_time": "2018-02-04T06:27:25.981332Z"
    }
   },
   "outputs": [],
   "source": [
    "# 新規上場銘柄のテーブル保存\n",
    "new_added.to_csv('{0}/new_added_stock_table.csv'.format(csv_path))"
   ]
  },
  {
   "cell_type": "code",
   "execution_count": null,
   "metadata": {
    "ExecuteTime": {
     "end_time": "2018-02-04T06:28:00.350239Z",
     "start_time": "2018-02-04T06:28:00.303769Z"
    },
    "collapsed": true
   },
   "outputs": [],
   "source": [
    "pd.read_csv('{0}/new_added_stock_table.csv'.format(csv_path), index_col=0)"
   ]
  },
  {
   "cell_type": "code",
   "execution_count": null,
   "metadata": {
    "ExecuteTime": {
     "end_time": "2018-02-04T06:29:33.993719Z",
     "start_time": "2018-02-04T06:29:33.962467Z"
    },
    "collapsed": true
   },
   "outputs": [],
   "source": [
    "# 新規上場銘柄の履歴テーブルの読み込み\n",
    "saved_added = pd.read_csv('{0}/added_stock_table.csv'.format(csv_path), index_col=0)\n",
    "saved_added"
   ]
  },
  {
   "cell_type": "code",
   "execution_count": null,
   "metadata": {
    "ExecuteTime": {
     "end_time": "2018-02-04T06:30:34.254060Z",
     "start_time": "2018-02-04T06:30:34.238426Z"
    },
    "collapsed": true
   },
   "outputs": [],
   "source": [
    "saved_added.dtypes"
   ]
  },
  {
   "cell_type": "code",
   "execution_count": null,
   "metadata": {
    "ExecuteTime": {
     "end_time": "2018-02-04T06:30:56.668139Z",
     "start_time": "2018-02-04T06:30:56.636864Z"
    },
    "collapsed": true
   },
   "outputs": [],
   "source": [
    "# 新旧テーブルの連結\n",
    "added_stock_table = saved_added.append(new_added).reset_index(drop=True)\n",
    "added_stock_table"
   ]
  },
  {
   "cell_type": "code",
   "execution_count": null,
   "metadata": {
    "ExecuteTime": {
     "end_time": "2018-02-04T06:31:35.786988Z",
     "start_time": "2018-02-04T06:31:35.771811Z"
    },
    "collapsed": true
   },
   "outputs": [],
   "source": [
    "added_stock_table.dtypes"
   ]
  },
  {
   "cell_type": "code",
   "execution_count": null,
   "metadata": {
    "ExecuteTime": {
     "end_time": "2018-02-04T06:32:13.673579Z",
     "start_time": "2018-02-04T06:32:13.657953Z"
    }
   },
   "outputs": [],
   "source": [
    "# 新規上場銘柄の履歴テーブル保存\n",
    "added_stock_table.to_csv('{0}/added_stock_table.csv'.format(csv_path))"
   ]
  },
  {
   "cell_type": "code",
   "execution_count": null,
   "metadata": {
    "ExecuteTime": {
     "end_time": "2018-02-04T06:32:44.634728Z",
     "start_time": "2018-02-04T06:32:44.587835Z"
    },
    "collapsed": true
   },
   "outputs": [],
   "source": [
    "pd.read_csv('{0}/added_stock_table.csv'.format(csv_path), index_col=0)"
   ]
  },
  {
   "cell_type": "markdown",
   "metadata": {},
   "source": [
    "## 上場廃止銘柄"
   ]
  },
  {
   "cell_type": "code",
   "execution_count": null,
   "metadata": {
    "ExecuteTime": {
     "end_time": "2018-02-04T06:33:50.233253Z",
     "start_time": "2018-02-04T06:33:50.201984Z"
    },
    "collapsed": true
   },
   "outputs": [],
   "source": [
    "# 上場廃止銘柄のテーブル作成\n",
    "new_discontinued = old_stock_table[~old_stock_table['code'].isin(new_stock_table['code'])].reset_index(drop=True)\n",
    "new_discontinued"
   ]
  },
  {
   "cell_type": "code",
   "execution_count": null,
   "metadata": {
    "ExecuteTime": {
     "end_time": "2018-02-04T06:35:58.332119Z",
     "start_time": "2018-02-04T06:35:58.300901Z"
    },
    "collapsed": true
   },
   "outputs": [],
   "source": [
    "# 上場廃止銘柄の履歴テーブルの読み込み\n",
    "saved_discontinued = pd.read_csv('{0}/discontinued_stock_table.csv'.format(csv_path), index_col=0)\n",
    "saved_discontinued"
   ]
  },
  {
   "cell_type": "code",
   "execution_count": null,
   "metadata": {
    "ExecuteTime": {
     "end_time": "2018-02-04T06:36:09.317668Z",
     "start_time": "2018-02-04T06:36:09.286863Z"
    },
    "collapsed": true
   },
   "outputs": [],
   "source": [
    "saved_discontinued.dtypes"
   ]
  },
  {
   "cell_type": "code",
   "execution_count": null,
   "metadata": {
    "ExecuteTime": {
     "end_time": "2018-02-04T06:36:22.867658Z",
     "start_time": "2018-02-04T06:36:22.820787Z"
    },
    "collapsed": true
   },
   "outputs": [],
   "source": [
    "# 新旧テーブルの連結\n",
    "discontinued_stock_table = saved_discontinued.append(new_discontinued).reset_index(drop=True)\n",
    "discontinued_stock_table"
   ]
  },
  {
   "cell_type": "code",
   "execution_count": null,
   "metadata": {
    "ExecuteTime": {
     "end_time": "2017-12-15T09:52:25.837106Z",
     "start_time": "2017-12-15T09:52:25.830031Z"
    }
   },
   "outputs": [],
   "source": [
    "discontinued_stock_table.dtypes"
   ]
  },
  {
   "cell_type": "code",
   "execution_count": null,
   "metadata": {
    "ExecuteTime": {
     "end_time": "2018-02-04T06:37:14.424151Z",
     "start_time": "2018-02-04T06:37:14.408544Z"
    }
   },
   "outputs": [],
   "source": [
    "# 上場廃止銘柄の履歴テーブル保存\n",
    "discontinued_stock_table.to_csv('{0}/discontinued_stock_table.csv'.format(csv_path))"
   ]
  },
  {
   "cell_type": "code",
   "execution_count": null,
   "metadata": {
    "ExecuteTime": {
     "end_time": "2018-02-04T06:37:57.166915Z",
     "start_time": "2018-02-04T06:37:57.135661Z"
    },
    "collapsed": true
   },
   "outputs": [],
   "source": [
    "pd.read_csv('{0}/discontinued_stock_table.csv'.format(csv_path), index_col=0)"
   ]
  },
  {
   "cell_type": "markdown",
   "metadata": {},
   "source": [
    "# 連続読み込み用コードリストの作成例"
   ]
  },
  {
   "cell_type": "markdown",
   "metadata": {},
   "source": [
    "## yahoo 連続読み込み用コードリスト作成"
   ]
  },
  {
   "cell_type": "code",
   "execution_count": null,
   "metadata": {
    "ExecuteTime": {
     "end_time": "2018-02-04T06:56:11.996213Z",
     "start_time": "2018-02-04T06:56:11.964925Z"
    }
   },
   "outputs": [],
   "source": [
    "start_index = 0\n",
    "increase_number = 10\n",
    "end_index = start_index + increase_number\n",
    "\n",
    "reading_code = stock.get_yahoo_stock_code(start_index, end_index)\n",
    "print(reading_code[-10:])\n",
    "print('Next start from {0}'.format(start_index + increase_number))"
   ]
  },
  {
   "cell_type": "markdown",
   "metadata": {},
   "source": [
    "## 新規銘柄読み込み用コードリスト作成"
   ]
  },
  {
   "cell_type": "code",
   "execution_count": null,
   "metadata": {
    "ExecuteTime": {
     "end_time": "2018-02-04T07:01:36.494761Z",
     "start_time": "2018-02-04T07:01:36.463513Z"
    }
   },
   "outputs": [],
   "source": [
    "reading_code = stock.get_new_added_stock_code()\n",
    "reading_code"
   ]
  },
  {
   "cell_type": "code",
   "execution_count": null,
   "metadata": {},
   "outputs": [],
   "source": []
  }
 ],
 "metadata": {
  "kernelspec": {
   "display_name": "Python 3",
   "language": "python",
   "name": "python3"
  },
  "language_info": {
   "codemirror_mode": {
    "name": "ipython",
    "version": 3
   },
   "file_extension": ".py",
   "mimetype": "text/x-python",
   "name": "python",
   "nbconvert_exporter": "python",
   "pygments_lexer": "ipython3",
   "version": "3.6.4"
  },
  "toc": {
   "nav_menu": {},
   "number_sections": true,
   "sideBar": true,
   "skip_h1_title": false,
   "toc_cell": false,
   "toc_position": {},
   "toc_section_display": "block",
   "toc_window_display": false
  },
  "varInspector": {
   "cols": {
    "lenName": 16,
    "lenType": 16,
    "lenVar": 40
   },
   "kernels_config": {
    "python": {
     "delete_cmd_postfix": "",
     "delete_cmd_prefix": "del ",
     "library": "var_list.py",
     "varRefreshCmd": "print(var_dic_list())"
    },
    "r": {
     "delete_cmd_postfix": ") ",
     "delete_cmd_prefix": "rm(",
     "library": "var_list.r",
     "varRefreshCmd": "cat(var_dic_list()) "
    }
   },
   "types_to_exclude": [
    "module",
    "function",
    "builtin_function_or_method",
    "instance",
    "_Feature"
   ],
   "window_display": false
  }
 },
 "nbformat": 4,
 "nbformat_minor": 2
}
