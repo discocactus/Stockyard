{
 "cells": [
  {
   "cell_type": "markdown",
   "metadata": {},
   "source": [
    "# memo"
   ]
  },
  {
   "cell_type": "markdown",
   "metadata": {},
   "source": [
    "半角円記号(Shift-JIS / CHCP932) = バックスラッシュ(UTF-8 / CHCP65001?)  \n",
    "ターミナルの文字コードをCP932に設定しないと文字化けする  \n",
    "PostgreSQLではユーザーのことをロールと呼ぶらしい  \n",
    "  \n",
    "psql -U postgres # Login  \n",
    "\n",
    "CREATE ROLE python WITH LOGIN PASSWORD 'password'; # ユーザー(ロール)pythonの作成  \n",
    "ALTER ROLE python with SUPERUSER; # pythonにSUPERUSER権限を付与  \n",
    "GRANT 権限 ON 対象 TO 誰に # 広範な権限を付与するための記述法がまだよくわからない  \n",
    "\\du # ロールの詳細リスト  \n",
    "\\x # 列を縦に展開表示(再入力で横に復帰)  \n",
    "SELECT * from pg_stat_activity; # プロセスIDの確認  \n",
    "SELECT pg_cancel_backend(プロセスID); # 実行中のプロセスの停止  \n",
    "Ctrl + C # sql文の中断  \n",
    "show data_directory; # データディレクトリを表示\n"
   ]
  },
  {
   "cell_type": "markdown",
   "metadata": {},
   "source": [
    "__サービスの起動と停止__  \n",
    "pg_ctl start -D \"D:\\PostgreSQL\\9.6\\data\"  \n",
    "pg_ctl stop -D \"D:\\PostgreSQL\\9.6\\data\"  \n",
    "※環境変数 PGDATA が指定してあればデータディレクトリ -D は不要かも  \n",
    "  \n",
    "__ターミナルを起動__  \n",
    "psql -d postgres # デフォルトのテーブルに接続  \n",
    "psql -d テーブル名 # 直接テーブルに接続  \n",
    "  \n",
    "__データベース__  \n",
    "\\l # データベース一覧の表示  \n",
    "\\c # データベース名  データベースの選択  \n",
    "  \n",
    "__テーブル__  \n",
    "\\dt # テーブル一覧の表示  \n",
    "\\d テーブル名; # テーブル構造の表示  \n",
    "  \n",
    "select * from テーブル名; # テーブル内のデータを一覧  \n",
    "select * from テーブル名 order by カラム; # 指定したカラムの内容を小さい順に表示  \n",
    "select * from テーブル名 order by カラム desc; # 指定したカラムの内容を大きい順に表示  \n",
    "select * from テーブル名 limit 数; # 表示数指定  \n",
    "select * from テーブル名 offset 数; # 表示の開始位置指定  \n",
    "select distinct カラム名 from テーブル名; # カラム内の任意の文字を表示  \n",
    "select sum(カラム名) from テーブル名; # カラム内の合計値  \n",
    "select max(カラム名) from テーブル名; # カラム内の最大値  \n",
    "select min(カラム名) from テーブル名; # カラム内の最小値  \n",
    "select avg(カラム名) from テーブル名; # カラム内の平均値  \n",
    "  \n",
    "drop テーブル名; # テーブルの削除  \n",
    "update テーブル名 set 更新内容; # データの更新  \n",
    "delete from テーブル名 where 条件; # データの削除  \n",
    "alter table テーブル名 owner to オーナー名; # テーブルのオーナーの変更  \n",
    "  \n",
    "__テーブル構造の変更__  \n",
    "alter table テーブル名 add カラム名 データ型; # カラムの追加  \n",
    "alter table テーブル名 drop カラム名; # カラムの削除  \n",
    "alter table テーブル名 rename カラム名 to 新カラム名; # カラム名の変更  \n",
    "alter table テーブル名 alter カラム名 type データ型; # カラムのデータ型を変更する  \n",
    "  \n",
    "__インデックス__  \n",
    "create index インデックス名 on テーブル名(カラム名); # インデックス追加  \n",
    "drop index インデックス名; # インデックス削除  \n",
    "\n",
    "__view__  \n",
    "create view ビュー名 as viewに指定するコマンド; # viewの作成  \n",
    "\\dv; # view一覧の確認  \n",
    "select * from ビュー名; # viewの使用方法  \n",
    "drop view ビュー名; # viewの削除  \n",
    "  \n",
    "__外部ファイルの読み込み__  \n",
    "\\i # ファイル名SQL文を外部ファイルに書いて実行する時に使う  \n",
    "  \n",
    "__関数__  \n",
    "select length(カラム名) from テーブル名;文字数  \n",
    "select concat(文字列, 文字列, ...) from テーブル名;文字列連結  "
   ]
  },
  {
   "cell_type": "raw",
   "metadata": {},
   "source": [
    "# ロック中のプロセスの一覧表示を行うクエリ\n",
    "SELECT l.pid, db.datname, c.relname, l.locktype, l.mode\n",
    "FROM pg_locks l\n",
    "        LEFT JOIN pg_class c ON l.relation=c.relfilenode\n",
    "        LEFT JOIN pg_database db ON l.database = db.oid\n",
    "ORDER BY l.pid;"
   ]
  },
  {
   "cell_type": "markdown",
   "metadata": {},
   "source": [
    "# import"
   ]
  },
  {
   "cell_type": "code",
   "execution_count": null,
   "metadata": {
    "ExecuteTime": {
     "end_time": "2018-02-03T23:37:43.424477Z",
     "start_time": "2018-02-03T23:37:43.408846Z"
    }
   },
   "outputs": [],
   "source": [
    "import numpy as np\n",
    "import pandas as pd\n",
    "import pandas.tseries.offsets as offsets\n",
    "import datetime as dt\n",
    "import time\n",
    "import importlib\n",
    "# import logging\n",
    "# from retry import retry\n",
    "# import traceback\n",
    "# from retrying import retry\n",
    "import sqlalchemy\n",
    "import sqlalchemy.orm\n",
    "from sqlalchemy import create_engine\n",
    "from sqlalchemy.types import Date, Integer, Float, Text\n",
    "\n",
    "import stock"
   ]
  },
  {
   "cell_type": "code",
   "execution_count": null,
   "metadata": {
    "ExecuteTime": {
     "end_time": "2018-02-04T03:28:21.269678Z",
     "start_time": "2018-02-04T03:28:21.238447Z"
    }
   },
   "outputs": [],
   "source": [
    "importlib.reload(stock)"
   ]
  },
  {
   "cell_type": "code",
   "execution_count": null,
   "metadata": {
    "ExecuteTime": {
     "end_time": "2018-02-03T08:43:42.283849Z",
     "start_time": "2018-02-03T08:43:42.268671Z"
    }
   },
   "outputs": [],
   "source": [
    "# pandas の最大表示列数を設定 (max_rows で表示行数の設定も可能)\n",
    "pd.set_option('display.max_columns', 30)"
   ]
  },
  {
   "cell_type": "markdown",
   "metadata": {},
   "source": [
    "# 接続"
   ]
  },
  {
   "cell_type": "code",
   "execution_count": null,
   "metadata": {
    "ExecuteTime": {
     "end_time": "2018-02-04T02:11:13.426351Z",
     "start_time": "2018-02-04T02:11:13.410705Z"
    }
   },
   "outputs": [],
   "source": [
    "# SQLAlchemy\n",
    "db_settings = {\n",
    "    \"db\": 'postgresql', # デフォルトドライバーは psycopg2 になる。\n",
    "    \"user\": 'python',\n",
    "    \"password\": 'password',\n",
    "    \"host\": 'localhost',\n",
    "    \"port\": '5432',\n",
    "    \"database\": 'stockyard'\n",
    "}\n",
    "engine = create_engine('{db}://{user}:{password}@{host}:{port}/{database}'.format(**db_settings))"
   ]
  },
  {
   "cell_type": "code",
   "execution_count": null,
   "metadata": {
    "ExecuteTime": {
     "end_time": "2018-02-04T01:26:26.596058Z",
     "start_time": "2018-02-04T01:26:26.592072Z"
    }
   },
   "outputs": [],
   "source": [
    "engine"
   ]
  },
  {
   "cell_type": "code",
   "execution_count": null,
   "metadata": {
    "ExecuteTime": {
     "end_time": "2018-02-03T23:54:39.242301Z",
     "start_time": "2018-02-03T23:54:39.211494Z"
    }
   },
   "outputs": [],
   "source": [
    "engine.url.get_driver_name()"
   ]
  },
  {
   "cell_type": "code",
   "execution_count": null,
   "metadata": {
    "ExecuteTime": {
     "end_time": "2018-02-04T03:28:29.648448Z",
     "start_time": "2018-02-04T03:28:29.632783Z"
    }
   },
   "outputs": [],
   "source": [
    "# stock.psql(sql)クラス\n",
    "psql = stock.psql()"
   ]
  },
  {
   "cell_type": "code",
   "execution_count": null,
   "metadata": {
    "ExecuteTime": {
     "end_time": "2018-02-04T03:28:30.414117Z",
     "start_time": "2018-02-04T03:28:30.383316Z"
    }
   },
   "outputs": [],
   "source": [
    "stock.psql.engine"
   ]
  },
  {
   "cell_type": "code",
   "execution_count": null,
   "metadata": {
    "ExecuteTime": {
     "end_time": "2018-02-04T02:55:17.687676Z",
     "start_time": "2018-02-04T02:55:17.672043Z"
    },
    "collapsed": true
   },
   "outputs": [],
   "source": [
    "help(psql)"
   ]
  },
  {
   "cell_type": "markdown",
   "metadata": {},
   "source": [
    "# テスト用にMySQLからデータを読み込み"
   ]
  },
  {
   "cell_type": "code",
   "execution_count": null,
   "metadata": {
    "ExecuteTime": {
     "end_time": "2018-02-04T02:54:28.005457Z",
     "start_time": "2018-02-04T02:54:27.990252Z"
    }
   },
   "outputs": [],
   "source": [
    "msql = stock.msql()"
   ]
  },
  {
   "cell_type": "code",
   "execution_count": null,
   "metadata": {
    "ExecuteTime": {
     "end_time": "2018-02-04T02:54:29.052484Z",
     "start_time": "2018-02-04T02:54:29.021237Z"
    }
   },
   "outputs": [],
   "source": [
    "stock.msql.engine"
   ]
  },
  {
   "cell_type": "code",
   "execution_count": null,
   "metadata": {
    "ExecuteTime": {
     "end_time": "2018-02-04T02:54:30.255699Z",
     "start_time": "2018-02-04T02:54:30.240311Z"
    },
    "collapsed": true
   },
   "outputs": [],
   "source": [
    "help(msql)"
   ]
  },
  {
   "cell_type": "code",
   "execution_count": null,
   "metadata": {
    "ExecuteTime": {
     "end_time": "2018-02-04T02:58:01.207952Z",
     "start_time": "2018-02-04T02:58:01.129844Z"
    },
    "collapsed": true
   },
   "outputs": [],
   "source": [
    "myprice = msql.get_price(7203)\n",
    "myprice"
   ]
  },
  {
   "cell_type": "code",
   "execution_count": null,
   "metadata": {
    "ExecuteTime": {
     "end_time": "2018-02-04T03:09:58.785737Z",
     "start_time": "2018-02-04T03:09:53.207029Z"
    }
   },
   "outputs": [],
   "source": [
    "msql.write_price(1001, myprice)"
   ]
  },
  {
   "cell_type": "code",
   "execution_count": null,
   "metadata": {
    "ExecuteTime": {
     "end_time": "2018-02-04T03:09:40.560354Z",
     "start_time": "2018-02-04T03:09:40.326151Z"
    },
    "collapsed": true
   },
   "outputs": [],
   "source": [
    "price = msql.get_price(1001)\n",
    "price"
   ]
  },
  {
   "cell_type": "markdown",
   "metadata": {},
   "source": [
    "# ちなみにcsvの方が断然速い。。。"
   ]
  },
  {
   "cell_type": "code",
   "execution_count": null,
   "metadata": {
    "ExecuteTime": {
     "end_time": "2018-02-04T02:01:55.690183Z",
     "start_time": "2018-02-04T02:01:55.635179Z"
    }
   },
   "outputs": [],
   "source": [
    "# SSD\n",
    "myprice.to_csv('t_test.csv')"
   ]
  },
  {
   "cell_type": "code",
   "execution_count": null,
   "metadata": {
    "ExecuteTime": {
     "end_time": "2018-02-04T02:01:58.611655Z",
     "start_time": "2018-02-04T02:01:58.562607Z"
    }
   },
   "outputs": [],
   "source": [
    "# HDD\n",
    "myprice.to_csv(r'D:\\stockyard\\t_test.csv')"
   ]
  },
  {
   "cell_type": "code",
   "execution_count": null,
   "metadata": {
    "ExecuteTime": {
     "end_time": "2018-02-04T02:02:00.584985Z",
     "start_time": "2018-02-04T02:02:00.547873Z"
    },
    "collapsed": true
   },
   "outputs": [],
   "source": [
    "csvprice = pd.read_csv(r'D:\\stockyard\\t_test.csv', index_col='Date')\n",
    "csvprice.index = pd.to_datetime(price.index)\n",
    "csvprice"
   ]
  },
  {
   "cell_type": "code",
   "execution_count": null,
   "metadata": {
    "ExecuteTime": {
     "end_time": "2018-02-04T02:02:07.587847Z",
     "start_time": "2018-02-04T02:02:07.583531Z"
    }
   },
   "outputs": [],
   "source": [
    "# 日付インデックスの型の確認\n",
    "type(csvprice.index[0])"
   ]
  },
  {
   "cell_type": "code",
   "execution_count": null,
   "metadata": {
    "ExecuteTime": {
     "end_time": "2018-02-04T02:02:08.663853Z",
     "start_time": "2018-02-04T02:02:08.657849Z"
    }
   },
   "outputs": [],
   "source": [
    "# 日付による行指定も機能している\n",
    "csvprice.loc['2000-01-04']"
   ]
  },
  {
   "cell_type": "code",
   "execution_count": null,
   "metadata": {
    "ExecuteTime": {
     "end_time": "2018-02-04T02:02:09.487043Z",
     "start_time": "2018-02-04T02:02:09.481832Z"
    }
   },
   "outputs": [],
   "source": [
    "# ちゃんと日付の演算もできる形で読み書きできているらしい\n",
    "print(csvprice.index[-1])\n",
    "print((csvprice.index[-1] + offsets.Day()).date())"
   ]
  },
  {
   "cell_type": "markdown",
   "metadata": {},
   "source": [
    "# 読み書き"
   ]
  },
  {
   "cell_type": "code",
   "execution_count": null,
   "metadata": {
    "ExecuteTime": {
     "end_time": "2018-02-04T00:47:24.853962Z",
     "start_time": "2018-02-04T00:47:23.603821Z"
    }
   },
   "outputs": [],
   "source": [
    "# Dateの型を明示しないと日付が日時になってしまう\n",
    "table_name = 't_1001'\n",
    "myprice.to_sql(table_name, engine, if_exists='replace')"
   ]
  },
  {
   "cell_type": "code",
   "execution_count": null,
   "metadata": {
    "ExecuteTime": {
     "end_time": "2018-02-04T00:47:27.416756Z",
     "start_time": "2018-02-04T00:47:27.323392Z"
    },
    "collapsed": true
   },
   "outputs": [],
   "source": [
    "price = pd.read_sql_query(\"select*from t_1001\", engine, index_col='Date')\n",
    "price.index = pd.to_datetime(price.index)\n",
    "price"
   ]
  },
  {
   "cell_type": "code",
   "execution_count": null,
   "metadata": {
    "ExecuteTime": {
     "end_time": "2018-02-04T01:27:03.457382Z",
     "start_time": "2018-02-04T01:27:02.818029Z"
    }
   },
   "outputs": [],
   "source": [
    "table_name = 't_1003'\n",
    "dtype = {\n",
    "    'Date': Date(),\n",
    "    'Open': Integer(),\n",
    "    'High': Integer(),\n",
    "    'Low': Integer(),\n",
    "    'Close': Integer(),\n",
    "    'Volume': Integer(),\n",
    "    'AdjClose': Float()\n",
    "}\n",
    "myprice.to_sql(table_name, engine, if_exists='replace', dtype=dtype)"
   ]
  },
  {
   "cell_type": "code",
   "execution_count": null,
   "metadata": {
    "ExecuteTime": {
     "end_time": "2018-02-04T01:27:04.840714Z",
     "start_time": "2018-02-04T01:27:04.791255Z"
    },
    "collapsed": true
   },
   "outputs": [],
   "source": [
    "price = pd.read_sql_query(\"select*from t_1003\", engine, index_col='Date')\n",
    "price.index = pd.to_datetime(price.index)\n",
    "price"
   ]
  },
  {
   "cell_type": "code",
   "execution_count": null,
   "metadata": {
    "ExecuteTime": {
     "end_time": "2018-02-04T00:46:03.744977Z",
     "start_time": "2018-02-04T00:46:03.729722Z"
    }
   },
   "outputs": [],
   "source": [
    "# 日付インデックスの型の確認\n",
    "type(price.index[0])"
   ]
  },
  {
   "cell_type": "code",
   "execution_count": null,
   "metadata": {
    "ExecuteTime": {
     "end_time": "2018-02-04T00:45:26.497500Z",
     "start_time": "2018-02-04T00:45:26.466694Z"
    },
    "collapsed": true
   },
   "outputs": [],
   "source": [
    "# 日付による行指定も機能している\n",
    "price.loc['2000-01-04']"
   ]
  },
  {
   "cell_type": "code",
   "execution_count": null,
   "metadata": {
    "ExecuteTime": {
     "end_time": "2018-02-04T00:42:38.615550Z",
     "start_time": "2018-02-04T00:42:38.599924Z"
    }
   },
   "outputs": [],
   "source": [
    "# ちゃんと日付の演算もできる形で読み書きできているらしい\n",
    "print(price.index[-1])\n",
    "print((price.index[-1] + offsets.Day()).date())"
   ]
  },
  {
   "cell_type": "code",
   "execution_count": null,
   "metadata": {
    "ExecuteTime": {
     "end_time": "2018-02-04T02:59:43.950981Z",
     "start_time": "2018-02-04T02:59:43.919692Z"
    }
   },
   "outputs": [],
   "source": [
    "help(psql)"
   ]
  },
  {
   "cell_type": "code",
   "execution_count": null,
   "metadata": {
    "ExecuteTime": {
     "end_time": "2018-02-04T02:58:30.227138Z",
     "start_time": "2018-02-04T02:58:30.117751Z"
    },
    "collapsed": true
   },
   "outputs": [],
   "source": [
    "price = psql.get_price(1003)\n",
    "price"
   ]
  },
  {
   "cell_type": "code",
   "execution_count": null,
   "metadata": {
    "ExecuteTime": {
     "end_time": "2018-02-04T03:37:47.727936Z",
     "start_time": "2018-02-04T03:37:47.055905Z"
    }
   },
   "outputs": [],
   "source": [
    "psql.write_price(1005, myprice)"
   ]
  },
  {
   "cell_type": "code",
   "execution_count": null,
   "metadata": {
    "ExecuteTime": {
     "end_time": "2018-02-04T03:30:54.623125Z",
     "start_time": "2018-02-04T03:30:54.560617Z"
    },
    "scrolled": true
   },
   "outputs": [],
   "source": [
    "price = psql.get_price(1005)\n",
    "price"
   ]
  },
  {
   "cell_type": "code",
   "execution_count": null,
   "metadata": {},
   "outputs": [],
   "source": []
  }
 ],
 "metadata": {
  "kernelspec": {
   "display_name": "Python 3",
   "language": "python",
   "name": "python3"
  },
  "language_info": {
   "codemirror_mode": {
    "name": "ipython",
    "version": 3
   },
   "file_extension": ".py",
   "mimetype": "text/x-python",
   "name": "python",
   "nbconvert_exporter": "python",
   "pygments_lexer": "ipython3",
   "version": "3.6.4"
  },
  "toc": {
   "nav_menu": {},
   "number_sections": true,
   "sideBar": true,
   "skip_h1_title": false,
   "toc_cell": false,
   "toc_position": {},
   "toc_section_display": "block",
   "toc_window_display": false
  }
 },
 "nbformat": 4,
 "nbformat_minor": 2
}
