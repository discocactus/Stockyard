{
 "cells": [
  {
   "cell_type": "markdown",
   "metadata": {},
   "source": [
    "# import & settings"
   ]
  },
  {
   "cell_type": "code",
   "execution_count": null,
   "metadata": {
    "ExecuteTime": {
     "end_time": "2018-04-01T03:32:19.512116Z",
     "start_time": "2018-04-01T03:32:19.496449Z"
    }
   },
   "outputs": [],
   "source": [
    "import pandas as pd\n",
    "import matplotlib.pyplot as plt\n",
    "import wget\n",
    "import pathlib\n",
    "import importlib\n",
    "from retry import retry\n",
    "from selenium import webdriver\n",
    "from selenium.webdriver.common.keys import Keys\n",
    "from selenium.webdriver.support.select import Select\n",
    "\n",
    "import stock\n",
    "\n",
    "%matplotlib inline"
   ]
  },
  {
   "cell_type": "code",
   "execution_count": null,
   "metadata": {
    "ExecuteTime": {
     "end_time": "2018-04-01T03:32:20.293410Z",
     "start_time": "2018-04-01T03:32:20.262189Z"
    }
   },
   "outputs": [],
   "source": [
    "importlib.reload(stock)"
   ]
  },
  {
   "cell_type": "code",
   "execution_count": null,
   "metadata": {
    "ExecuteTime": {
     "end_time": "2018-04-01T01:10:21.453652Z",
     "start_time": "2018-04-01T01:10:21.437990Z"
    }
   },
   "outputs": [],
   "source": [
    "# pandas の最大表示列数を設定 (max_rows で表示行数の設定も可能)\n",
    "pd.set_option('display.max_columns', 30)"
   ]
  },
  {
   "cell_type": "code",
   "execution_count": null,
   "metadata": {
    "ExecuteTime": {
     "end_time": "2018-03-23T05:24:13.957456Z",
     "start_time": "2018-03-23T05:24:13.941809Z"
    }
   },
   "outputs": [],
   "source": [
    "stooq_path = pathlib.Path('D:\\stockyard\\stooq')"
   ]
  },
  {
   "cell_type": "raw",
   "metadata": {},
   "source": [
    "# 通常のアドレス\n",
    "'https://stooq.com/q/?s={0}'.format(ticker)\n",
    "# ダウンロードAPI\n",
    "'https://stooq.com/q/d/l/?s={0}&i=d'.format(ticker) # i=d 日足\n",
    "\n",
    "# 10年国債金利\n",
    "10auy.b\n",
    "10dey.b\n",
    "10fry.b\n",
    "10ity.b\n",
    "10jpy.b\n",
    "10uky.b\n",
    "10usy.b\n",
    "\n",
    "# 株式インデックス\n",
    "^dax\n",
    "^dji\n",
    "^ftm\n",
    "^nkx\n",
    "^spx\n",
    "^tpx #TOPIX\n",
    "\n",
    "# 商品\n",
    "xauusd\n",
    "cl_c #Crude Oil WTI Cash\n",
    "cl_f #Crude Oil WTI - NYMEX\n",
    "rb_c_d #Gasoline_RBOB_Cash_Commodities_Cash\n",
    "rb_f_d #Gasoline_RBOB_NYMEX_Commodities_Futures\n",
    "rt_f_d #Gasoline_RBOB_F_NYMEX_Commodities Futures\n",
    "\n",
    "# その他\n",
    "vi_c #S&P 500 VIX Cash\n",
    "vi_f #S&P 500 VIX - CBOE"
   ]
  },
  {
   "cell_type": "code",
   "execution_count": null,
   "metadata": {
    "ExecuteTime": {
     "end_time": "2018-03-23T05:27:29.995561Z",
     "start_time": "2018-03-23T05:27:29.964306Z"
    },
    "collapsed": true
   },
   "outputs": [],
   "source": [
    "for file in stooq_path.iterdir():\n",
    "    print(file)"
   ]
  },
  {
   "cell_type": "markdown",
   "metadata": {},
   "source": [
    "# Ticker リスト"
   ]
  },
  {
   "cell_type": "raw",
   "metadata": {},
   "source": [
    "https://stooq.com/t/tr/?m=1&o=3&l=2\n",
    "m: market\n",
    "o: ソートする列番号 (3:Ticker, 4:Market(Allの場合))\n",
    "l: ページ番号\n",
    "\n",
    "1:Currency, 2:Warsaw SE, 3:NewConnect, 4:Deutsche Borse, 5:NYSE MKT,\n",
    "6:NASDAQ, 7:NYSE, 8:Tokyo SE, 9:Bonds, 10:Commodities Futures,\n",
    "11:London SE, 15:Commodities Cash, ちょっとめんどくさくなってきた\n",
    "\n",
    "https://stooq.com/t/tr/?o=4&l=1 # all, market順"
   ]
  },
  {
   "cell_type": "code",
   "execution_count": null,
   "metadata": {
    "ExecuteTime": {
     "end_time": "2018-04-01T03:32:51.811668Z",
     "start_time": "2018-04-01T03:32:40.821724Z"
    },
    "collapsed": true
   },
   "outputs": [],
   "source": [
    "stock.get_stooq_ticker()"
   ]
  },
  {
   "cell_type": "code",
   "execution_count": null,
   "metadata": {
    "ExecuteTime": {
     "end_time": "2018-04-01T07:33:08.151958Z",
     "start_time": "2018-04-01T07:33:08.042762Z"
    },
    "scrolled": true
   },
   "outputs": [],
   "source": [
    "tickers = pd.read_csv(\"D:\\stockyard\\_csv\\stooq_ticker.csv\", index_col=0)#.fillna('none')"
   ]
  },
  {
   "cell_type": "code",
   "execution_count": null,
   "metadata": {
    "ExecuteTime": {
     "end_time": "2018-04-01T07:23:37.395575Z",
     "start_time": "2018-04-01T07:23:37.239288Z"
    }
   },
   "outputs": [],
   "source": [
    "tickers.to_csv(\"D:\\stockyard\\_csv\\stooq_ticker.csv\")"
   ]
  },
  {
   "cell_type": "code",
   "execution_count": null,
   "metadata": {
    "ExecuteTime": {
     "end_time": "2018-04-01T07:33:39.154992Z",
     "start_time": "2018-04-01T07:33:39.139356Z"
    }
   },
   "outputs": [],
   "source": [
    "tickers[tickers['name'] == 'none']"
   ]
  },
  {
   "cell_type": "code",
   "execution_count": null,
   "metadata": {
    "ExecuteTime": {
     "end_time": "2018-04-01T06:46:26.980913Z",
     "start_time": "2018-04-01T06:46:26.965720Z"
    }
   },
   "outputs": [],
   "source": [
    "len(tickers)"
   ]
  },
  {
   "cell_type": "code",
   "execution_count": null,
   "metadata": {
    "ExecuteTime": {
     "end_time": "2018-04-01T07:34:18.412100Z",
     "start_time": "2018-04-01T07:34:18.380857Z"
    }
   },
   "outputs": [],
   "source": [
    "tickers.groupby('market').count()"
   ]
  },
  {
   "cell_type": "markdown",
   "metadata": {},
   "source": [
    "# データのダウンロード"
   ]
  },
  {
   "cell_type": "code",
   "execution_count": null,
   "metadata": {
    "ExecuteTime": {
     "end_time": "2018-03-23T07:15:57.208162Z",
     "start_time": "2018-03-23T07:15:57.192543Z"
    }
   },
   "outputs": [],
   "source": [
    "ticker = 'usdjpy' # https://stooq.com/q/?s=usdjpy"
   ]
  },
  {
   "cell_type": "code",
   "execution_count": null,
   "metadata": {
    "ExecuteTime": {
     "end_time": "2018-03-23T07:15:58.555452Z",
     "start_time": "2018-03-23T07:15:58.539825Z"
    }
   },
   "outputs": [],
   "source": [
    "url = 'https://stooq.com/q/d/l/?s={0}&i=d'.format(ticker)"
   ]
  },
  {
   "cell_type": "code",
   "execution_count": null,
   "metadata": {
    "ExecuteTime": {
     "end_time": "2018-03-23T07:17:08.566123Z",
     "start_time": "2018-03-23T07:17:03.081123Z"
    }
   },
   "outputs": [],
   "source": [
    "wget.download(url=url, out=str(stooq_path))"
   ]
  },
  {
   "cell_type": "code",
   "execution_count": null,
   "metadata": {
    "ExecuteTime": {
     "end_time": "2018-03-23T05:03:43.524981Z",
     "start_time": "2018-03-23T05:03:43.509356Z"
    },
    "collapsed": true
   },
   "outputs": [],
   "source": [
    "help(wget)"
   ]
  },
  {
   "cell_type": "markdown",
   "metadata": {},
   "source": [
    "# csvからの読み込み"
   ]
  },
  {
   "cell_type": "code",
   "execution_count": null,
   "metadata": {
    "ExecuteTime": {
     "end_time": "2018-03-23T06:30:07.654639Z",
     "start_time": "2018-03-23T06:30:07.639013Z"
    }
   },
   "outputs": [],
   "source": [
    "def read_stooq(ticker, stooq_path=stooq_path):\n",
    "    result = pd.read_csv('{0}/{1}_d.csv'.format(stooq_path, ticker.replace('.', '_')), index_col=0)\n",
    "    result.index = pd.to_datetime(result.index)\n",
    "\n",
    "    return result"
   ]
  },
  {
   "cell_type": "code",
   "execution_count": null,
   "metadata": {
    "ExecuteTime": {
     "end_time": "2018-03-23T08:10:40.464897Z",
     "start_time": "2018-03-23T08:10:40.449259Z"
    }
   },
   "outputs": [],
   "source": [
    "read_ticker = 'xauusd'"
   ]
  },
  {
   "cell_type": "code",
   "execution_count": null,
   "metadata": {
    "ExecuteTime": {
     "end_time": "2018-03-23T08:10:41.230961Z",
     "start_time": "2018-03-23T08:10:41.059172Z"
    }
   },
   "outputs": [],
   "source": [
    "df = read_stooq(read_ticker)"
   ]
  },
  {
   "cell_type": "code",
   "execution_count": null,
   "metadata": {
    "ExecuteTime": {
     "end_time": "2018-03-23T08:10:42.293177Z",
     "start_time": "2018-03-23T08:10:42.261924Z"
    },
    "scrolled": true
   },
   "outputs": [],
   "source": [
    "df"
   ]
  },
  {
   "cell_type": "code",
   "execution_count": null,
   "metadata": {
    "ExecuteTime": {
     "end_time": "2018-03-23T05:49:06.920249Z",
     "start_time": "2018-03-23T05:49:06.889003Z"
    },
    "collapsed": true
   },
   "outputs": [],
   "source": [
    "df.dtypes"
   ]
  },
  {
   "cell_type": "code",
   "execution_count": null,
   "metadata": {
    "ExecuteTime": {
     "end_time": "2018-03-23T08:10:47.219366Z",
     "start_time": "2018-03-23T08:10:47.172486Z"
    }
   },
   "outputs": [],
   "source": [
    "for i in range(len(df)-1):\n",
    "    # 前行の日付との差を計算\n",
    "    td = df.index[i+1] - df.index[i]\n",
    "    # 28日未満ならその行番号と日付を出力してbreak\n",
    "    if td.days < 28:\n",
    "        start = df.index[i]\n",
    "        print('{0}: {1}'.format(i, start))\n",
    "        break"
   ]
  },
  {
   "cell_type": "code",
   "execution_count": null,
   "metadata": {
    "ExecuteTime": {
     "end_time": "2018-03-23T08:10:50.547854Z",
     "start_time": "2018-03-23T08:10:50.517046Z"
    },
    "scrolled": true
   },
   "outputs": [],
   "source": [
    "df[start:]"
   ]
  },
  {
   "cell_type": "code",
   "execution_count": null,
   "metadata": {
    "ExecuteTime": {
     "end_time": "2018-03-23T08:10:56.564100Z",
     "start_time": "2018-03-23T08:10:56.392208Z"
    },
    "scrolled": true
   },
   "outputs": [],
   "source": [
    "df['Close'][start:].plot()"
   ]
  },
  {
   "cell_type": "markdown",
   "metadata": {},
   "source": [
    "# 個別の変数に格納"
   ]
  },
  {
   "cell_type": "code",
   "execution_count": null,
   "metadata": {
    "ExecuteTime": {
     "end_time": "2018-03-23T06:25:08.241512Z",
     "start_time": "2018-03-23T06:25:08.225885Z"
    }
   },
   "outputs": [],
   "source": [
    "us10 = df[start:]"
   ]
  },
  {
   "cell_type": "code",
   "execution_count": null,
   "metadata": {
    "ExecuteTime": {
     "end_time": "2018-03-23T06:32:23.023416Z",
     "start_time": "2018-03-23T06:32:23.007790Z"
    }
   },
   "outputs": [],
   "source": [
    "jp10 = df[start:]"
   ]
  },
  {
   "cell_type": "code",
   "execution_count": null,
   "metadata": {
    "ExecuteTime": {
     "end_time": "2018-03-23T06:59:31.049229Z",
     "start_time": "2018-03-23T06:59:31.034050Z"
    }
   },
   "outputs": [],
   "source": [
    "uk10 = df[start:]"
   ]
  },
  {
   "cell_type": "code",
   "execution_count": null,
   "metadata": {
    "ExecuteTime": {
     "end_time": "2018-03-23T07:19:26.489638Z",
     "start_time": "2018-03-23T07:19:26.458378Z"
    },
    "collapsed": true
   },
   "outputs": [],
   "source": [
    "usdjpy = df['2005-11-28':]"
   ]
  },
  {
   "cell_type": "code",
   "execution_count": null,
   "metadata": {
    "ExecuteTime": {
     "end_time": "2018-03-23T07:55:56.765149Z",
     "start_time": "2018-03-23T07:55:56.718302Z"
    },
    "collapsed": true
   },
   "outputs": [],
   "source": [
    "dj = df['2005-11-28':]"
   ]
  },
  {
   "cell_type": "code",
   "execution_count": null,
   "metadata": {
    "ExecuteTime": {
     "end_time": "2018-03-23T07:58:59.009767Z",
     "start_time": "2018-03-23T07:58:58.962886Z"
    },
    "collapsed": true
   },
   "outputs": [],
   "source": [
    "nk = df['2005-11-28':]"
   ]
  },
  {
   "cell_type": "code",
   "execution_count": null,
   "metadata": {
    "ExecuteTime": {
     "end_time": "2018-03-23T08:07:47.898969Z",
     "start_time": "2018-03-23T08:07:47.852090Z"
    },
    "collapsed": true
   },
   "outputs": [],
   "source": [
    "oil = df['2005-11-28':]"
   ]
  },
  {
   "cell_type": "code",
   "execution_count": null,
   "metadata": {
    "ExecuteTime": {
     "end_time": "2018-03-23T08:11:44.581027Z",
     "start_time": "2018-03-23T08:11:44.565401Z"
    }
   },
   "outputs": [],
   "source": [
    "gold = df['2005-11-28':]"
   ]
  },
  {
   "cell_type": "markdown",
   "metadata": {},
   "source": [
    "# 終値を単一テーブルにまとめる"
   ]
  },
  {
   "cell_type": "code",
   "execution_count": null,
   "metadata": {
    "ExecuteTime": {
     "end_time": "2018-03-23T07:07:41.654729Z",
     "start_time": "2018-03-23T07:07:41.639105Z"
    }
   },
   "outputs": [],
   "source": [
    "y10 = pd.concat([us10['Close']['2005-11-28':], jp10['Close']], axis=1)\n",
    "y10.columns = ['us', 'jp']\n",
    "y10 = y10.fillna(method='ffill')"
   ]
  },
  {
   "cell_type": "code",
   "execution_count": null,
   "metadata": {
    "ExecuteTime": {
     "end_time": "2018-03-23T07:21:21.825129Z",
     "start_time": "2018-03-23T07:21:21.809499Z"
    }
   },
   "outputs": [],
   "source": [
    "y10 = pd.concat([y10, usdjpy['Close']], axis=1)\n",
    "y10.columns = ['us', 'jp', 'usdjpy']\n",
    "y10 = y10.fillna(method='ffill')"
   ]
  },
  {
   "cell_type": "code",
   "execution_count": null,
   "metadata": {
    "ExecuteTime": {
     "end_time": "2018-03-23T07:56:45.026963Z",
     "start_time": "2018-03-23T07:56:45.011337Z"
    }
   },
   "outputs": [],
   "source": [
    "y10 = pd.concat([y10, dj['Close']], axis=1)\n",
    "y10.columns = ['us', 'jp', 'usdjpy', 'dj']\n",
    "y10 = y10.fillna(method='ffill')"
   ]
  },
  {
   "cell_type": "code",
   "execution_count": null,
   "metadata": {
    "ExecuteTime": {
     "end_time": "2018-03-23T07:59:27.940829Z",
     "start_time": "2018-03-23T07:59:27.909553Z"
    }
   },
   "outputs": [],
   "source": [
    "y10 = pd.concat([y10, nk['Close']], axis=1)\n",
    "y10.columns = ['us', 'jp', 'usdjpy', 'dj', 'nk']\n",
    "y10 = y10.fillna(method='ffill')"
   ]
  },
  {
   "cell_type": "code",
   "execution_count": null,
   "metadata": {
    "ExecuteTime": {
     "end_time": "2018-03-23T08:08:24.612449Z",
     "start_time": "2018-03-23T08:08:24.581258Z"
    }
   },
   "outputs": [],
   "source": [
    "y10 = pd.concat([y10, oil['Close']], axis=1)\n",
    "y10.columns = ['us', 'jp', 'usdjpy', 'dj', 'nk', 'oil']\n",
    "y10 = y10.fillna(method='ffill')"
   ]
  },
  {
   "cell_type": "code",
   "execution_count": null,
   "metadata": {
    "ExecuteTime": {
     "end_time": "2018-03-23T08:13:21.565519Z",
     "start_time": "2018-03-23T08:13:21.549855Z"
    }
   },
   "outputs": [],
   "source": [
    "y10 = pd.concat([y10, gold['Close']], axis=1)\n",
    "y10.columns = ['us', 'jp', 'usdjpy', 'dj', 'nk', 'oil', 'gold']\n",
    "y10 = y10.fillna(method='ffill')"
   ]
  },
  {
   "cell_type": "code",
   "execution_count": null,
   "metadata": {
    "ExecuteTime": {
     "end_time": "2018-03-23T08:13:22.284307Z",
     "start_time": "2018-03-23T08:13:22.237426Z"
    },
    "scrolled": true
   },
   "outputs": [],
   "source": [
    "y10"
   ]
  },
  {
   "cell_type": "markdown",
   "metadata": {},
   "source": [
    "# プロットしてみる"
   ]
  },
  {
   "cell_type": "code",
   "execution_count": null,
   "metadata": {
    "ExecuteTime": {
     "end_time": "2018-03-23T07:33:59.527598Z",
     "start_time": "2018-03-23T07:33:59.371333Z"
    },
    "collapsed": true
   },
   "outputs": [],
   "source": [
    "((y10.us - y10.jp) / (y10.us[0] - y10.jp[0])).plot()"
   ]
  },
  {
   "cell_type": "code",
   "execution_count": null,
   "metadata": {
    "ExecuteTime": {
     "end_time": "2018-03-23T07:23:23.335819Z",
     "start_time": "2018-03-23T07:23:23.195182Z"
    },
    "collapsed": true
   },
   "outputs": [],
   "source": [
    "(y10.usdjpy / y10.usdjpy[0]).plot()"
   ]
  },
  {
   "cell_type": "code",
   "execution_count": null,
   "metadata": {
    "ExecuteTime": {
     "end_time": "2018-03-23T08:05:12.017651Z",
     "start_time": "2018-03-23T08:05:12.002025Z"
    }
   },
   "outputs": [],
   "source": [
    "# 使用できる色の確認\n",
    "import matplotlib\n",
    "matplotlib.colors.cnames"
   ]
  },
  {
   "cell_type": "code",
   "execution_count": null,
   "metadata": {
    "ExecuteTime": {
     "end_time": "2018-03-23T08:25:22.901260Z",
     "start_time": "2018-03-23T08:25:22.523882Z"
    }
   },
   "outputs": [],
   "source": [
    "plt.figure(figsize=(16, 9))\n",
    "plt.plot(y10.index, (y10.us / y10.us[0]), color='pink', label='us')\n",
    "plt.plot(y10.index, (y10.jp / y10.jp[0]), color='red', label='jp')\n",
    "plt.plot(y10.index, ((y10.us - y10.jp) / (y10.us[0] - y10.jp[0])), color='magenta', label='yield_spread')\n",
    "plt.plot(y10.index, (y10.usdjpy / y10.usdjpy[0]), color='limegreen', label='usdjpy')\n",
    "plt.plot(y10.index, (y10.dj / y10.dj[0]), color='cornflowerblue', label='dj')\n",
    "plt.plot(y10.index, (y10.nk / y10.nk[0]), color='blue', label='nk')\n",
    "plt.plot(y10.index, (y10.oil / y10.oil[0]), color='brown', label='oil')\n",
    "plt.plot(y10.index, (y10.gold / y10.gold[0]), color='orange', label='gold')\n",
    "plt.legend(loc='upper left')\n",
    "plt.show()"
   ]
  },
  {
   "cell_type": "code",
   "execution_count": null,
   "metadata": {
    "ExecuteTime": {
     "end_time": "2018-03-23T09:04:34.272935Z",
     "start_time": "2018-03-23T09:04:34.257750Z"
    }
   },
   "outputs": [],
   "source": [
    "plot_start = '2012-01-02'"
   ]
  },
  {
   "cell_type": "code",
   "execution_count": null,
   "metadata": {
    "ExecuteTime": {
     "end_time": "2018-03-23T09:07:28.040636Z",
     "start_time": "2018-03-23T09:07:27.759356Z"
    }
   },
   "outputs": [],
   "source": [
    "x = y10[plot_start:].index\n",
    "plt.figure(figsize=(16, 9))\n",
    "plt.plot(x, (y10.us[plot_start:] / y10.us[plot_start]), color='pink', label='us')\n",
    "plt.plot(x, (y10.jp[plot_start:] / y10.jp[plot_start]), color='red', label='jp')\n",
    "plt.plot(x, ((y10.us[plot_start:] - y10.jp[plot_start:]) / (y10.us[plot_start] - y10.jp[plot_start])), color='magenta', label='yield_spread')\n",
    "plt.plot(x, (y10.usdjpy[plot_start:] / y10.usdjpy[plot_start]), color='limegreen', label='usdjpy')\n",
    "plt.plot(x, (y10.dj[plot_start:] / y10.dj[plot_start]), color='cornflowerblue', label='dj')\n",
    "plt.plot(x, (y10.nk[plot_start:] / y10.nk[plot_start]), color='blue', label='nk')\n",
    "plt.plot(x, (y10.oil[plot_start:] / y10.oil[plot_start]), color='brown', label='oil')\n",
    "plt.plot(x, (y10.gold[plot_start:] / y10.gold[plot_start]), color='orange', label='gold')\n",
    "plt.legend(loc='upper left')\n",
    "plt.show()"
   ]
  }
 ],
 "metadata": {
  "kernelspec": {
   "display_name": "Python 3",
   "language": "python",
   "name": "python3"
  },
  "language_info": {
   "codemirror_mode": {
    "name": "ipython",
    "version": 3
   },
   "file_extension": ".py",
   "mimetype": "text/x-python",
   "name": "python",
   "nbconvert_exporter": "python",
   "pygments_lexer": "ipython3",
   "version": "3.6.4"
  },
  "toc": {
   "nav_menu": {},
   "number_sections": true,
   "sideBar": true,
   "skip_h1_title": false,
   "toc_cell": false,
   "toc_position": {},
   "toc_section_display": "block",
   "toc_window_display": false
  }
 },
 "nbformat": 4,
 "nbformat_minor": 2
}
