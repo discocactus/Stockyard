{
 "cells": [
  {
   "cell_type": "markdown",
   "metadata": {},
   "source": [
    "# import"
   ]
  },
  {
   "cell_type": "code",
   "execution_count": null,
   "metadata": {
    "ExecuteTime": {
     "end_time": "2018-02-09T23:53:01.590197Z",
     "start_time": "2018-02-09T23:53:01.574571Z"
    }
   },
   "outputs": [],
   "source": [
    "import os\n",
    "import csv\n",
    "import locale\n",
    "import re\n",
    "import pandas as pd\n",
    "from datetime import datetime"
   ]
  },
  {
   "cell_type": "code",
   "execution_count": null,
   "metadata": {
    "ExecuteTime": {
     "end_time": "2018-02-09T23:43:09.326511Z",
     "start_time": "2018-02-09T23:43:09.310886Z"
    }
   },
   "outputs": [],
   "source": [
    "# pandas の最大表示列数を設定 (max_rows で表示行数の設定も可能)\n",
    "pd.set_option('display.max_columns', 30)"
   ]
  },
  {
   "cell_type": "markdown",
   "metadata": {},
   "source": [
    "# memo"
   ]
  },
  {
   "cell_type": "code",
   "execution_count": null,
   "metadata": {
    "ExecuteTime": {
     "end_time": "2018-02-12T04:24:21.809075Z",
     "start_time": "2018-02-12T04:24:21.730933Z"
    },
    "scrolled": true
   },
   "outputs": [],
   "source": [
    "df = pd.read_csv(r\"C:\\Users\\Really\\GitHub\\Stockyard\\scrapy_project\\yahoo_fundamental.csv\")\n",
    "df"
   ]
  },
  {
   "cell_type": "code",
   "execution_count": null,
   "metadata": {
    "ExecuteTime": {
     "end_time": "2018-02-12T04:06:55.273917Z",
     "start_time": "2018-02-12T04:06:55.164527Z"
    }
   },
   "outputs": [],
   "source": [
    "df = df.sort_values(['date', 'code', 'get'])\n",
    "df"
   ]
  },
  {
   "cell_type": "code",
   "execution_count": null,
   "metadata": {
    "ExecuteTime": {
     "end_time": "2018-02-12T04:12:30.082464Z",
     "start_time": "2018-02-12T04:12:30.004332Z"
    }
   },
   "outputs": [],
   "source": [
    "df = df.drop_duplicates(['date', 'code'], keep='last').reset_index(drop=True)\n",
    "df"
   ]
  },
  {
   "cell_type": "code",
   "execution_count": null,
   "metadata": {
    "ExecuteTime": {
     "end_time": "2018-02-12T04:18:09.735905Z",
     "start_time": "2018-02-12T04:18:09.720713Z"
    }
   },
   "outputs": [],
   "source": [
    "df.to_csv('test.csv', index=False)"
   ]
  },
  {
   "cell_type": "code",
   "execution_count": null,
   "metadata": {
    "ExecuteTime": {
     "end_time": "2018-02-12T04:20:15.572562Z",
     "start_time": "2018-02-12T04:20:15.494458Z"
    }
   },
   "outputs": [],
   "source": [
    "test = pd.read_csv('test.csv')\n",
    "test"
   ]
  },
  {
   "cell_type": "code",
   "execution_count": null,
   "metadata": {
    "ExecuteTime": {
     "end_time": "2018-02-09T23:43:43.928047Z",
     "start_time": "2018-02-09T23:43:43.912422Z"
    }
   },
   "outputs": [],
   "source": [
    "d = {'code': '1380', '銘柄名': '(株)秋川牧園', 'PER': '(連) 34.77', 'PBR': '(連) 1.91', 'EPS': '\\n(連) 20.39', 'BPS': '\\n(連) 370.29'}\n",
    "d"
   ]
  },
  {
   "cell_type": "code",
   "execution_count": null,
   "metadata": {
    "ExecuteTime": {
     "end_time": "2018-02-09T23:44:01.579370Z",
     "start_time": "2018-02-09T23:44:01.564056Z"
    }
   },
   "outputs": [],
   "source": [
    "for key in d:\n",
    "    d[key] = re.sub('\\n', '', d[key])\n",
    "d"
   ]
  },
  {
   "cell_type": "code",
   "execution_count": null,
   "metadata": {
    "ExecuteTime": {
     "end_time": "2018-02-09T23:53:36.034836Z",
     "start_time": "2018-02-09T23:53:36.019183Z"
    }
   },
   "outputs": [],
   "source": [
    "datetime.now().strftime(\"%Y/%m/%d %H:%M:%S\")"
   ]
  },
  {
   "cell_type": "markdown",
   "metadata": {},
   "source": [
    "# 新規プロジェクトの生成"
   ]
  },
  {
   "cell_type": "code",
   "execution_count": null,
   "metadata": {
    "ExecuteTime": {
     "end_time": "2018-01-02T12:02:11.465524Z",
     "start_time": "2018-01-02T12:02:09.895539Z"
    }
   },
   "outputs": [],
   "source": [
    "!scrapy startproject scrapy_project"
   ]
  },
  {
   "cell_type": "code",
   "execution_count": null,
   "metadata": {
    "ExecuteTime": {
     "end_time": "2018-01-02T12:02:54.705116Z",
     "start_time": "2018-01-02T12:02:54.582489Z"
    }
   },
   "outputs": [],
   "source": [
    "!tree scrapy_project"
   ]
  },
  {
   "cell_type": "markdown",
   "metadata": {},
   "source": [
    "# プロジェクトのディレクトリに移動、新規spiderの生成"
   ]
  },
  {
   "cell_type": "code",
   "execution_count": null,
   "metadata": {
    "ExecuteTime": {
     "end_time": "2018-02-12T04:13:29.747881Z",
     "start_time": "2018-02-12T04:13:29.732231Z"
    }
   },
   "outputs": [],
   "source": [
    "os.getcwd()"
   ]
  },
  {
   "cell_type": "code",
   "execution_count": null,
   "metadata": {
    "ExecuteTime": {
     "end_time": "2018-02-09T23:27:04.102399Z",
     "start_time": "2018-02-09T23:27:04.087188Z"
    }
   },
   "outputs": [],
   "source": [
    "# os.chdir('/Users/Really/Stockyard/scrapy_project')\n",
    "os.chdir(r\"C:\\Users\\Really\\GitHub\\Stockyard\\scrapy_project\")\n",
    "os.getcwd()"
   ]
  },
  {
   "cell_type": "code",
   "execution_count": null,
   "metadata": {
    "ExecuteTime": {
     "end_time": "2018-01-03T02:15:45.815721Z",
     "start_time": "2018-01-03T02:15:44.303937Z"
    }
   },
   "outputs": [],
   "source": [
    "!scrapy genspider yahoo_stock stocks.finance.yahoo.co.jp/stocks/qi/"
   ]
  },
  {
   "cell_type": "markdown",
   "metadata": {},
   "source": [
    "# 個々のファイルの編集"
   ]
  },
  {
   "cell_type": "raw",
   "metadata": {},
   "source": [
    "settings.py に記述追加"
   ]
  },
  {
   "cell_type": "raw",
   "metadata": {},
   "source": [
    "USER_AGENT = 'Mozilla/5.0 (Macintosh; Intel Mac OS X 10_12_5) AppleWebKit/537.36 (KHTML, like Gecko) Chrome/58.0.3029.110 Safari/537.36'\n",
    "DOWNLOAD_DELAY = 1"
   ]
  },
  {
   "cell_type": "raw",
   "metadata": {},
   "source": [
    "items.py"
   ]
  },
  {
   "cell_type": "code",
   "execution_count": null,
   "metadata": {},
   "outputs": [],
   "source": [
    "# -*- coding: utf-8 -*-\n",
    "\n",
    "# Define here the models for your scraped items\n",
    "#\n",
    "# See documentation in:\n",
    "# http://doc.scrapy.org/en/latest/topics/items.html\n",
    "\n",
    "import scrapy\n",
    "\n",
    "\n",
    "class ScrapyProjectItem(scrapy.Item):\n",
    "    # define the fields for your item here like:\n",
    "    # name = scrapy.Field()\n",
    "    pass\n",
    "\n",
    "\n",
    "class yahoo_fundamental(scrapy.Item):\n",
    "    \"\"\"\n",
    "    個々の銘柄の指標を表すItem\n",
    "    \"\"\"\n",
    "\n",
    "    code = scrapy.Field()\n",
    "    symbol_name = scrapy.Field()\n",
    "    per = scrapy.Field()\n",
    "    pbr = scrapy.Field()\n",
    "    eps = scrapy.Field()\n",
    "    bps = scrapy.Field()\n"
   ]
  },
  {
   "cell_type": "code",
   "execution_count": null,
   "metadata": {
    "collapsed": true
   },
   "outputs": [],
   "source": [
    "yahoo_stock.py"
   ]
  },
  {
   "cell_type": "code",
   "execution_count": null,
   "metadata": {
    "collapsed": true
   },
   "outputs": [],
   "source": [
    "# -*- coding: utf-8 -*-\n",
    "# エンコーディング宣言は Python2 用なので削除してもよい\n",
    "\n",
    "import scrapy\n",
    "\n",
    "from scrapy_project.items import yahoo_fundamental\n",
    "\n",
    "\n",
    "class YahooStockSpider(scrapy.Spider):\n",
    "    name = 'yahoo_stock'\n",
    "    allowed_domains = ['stocks.finance.yahoo.co.jp/stocks']\n",
    "    start_urls = (\n",
    "        'http://stocks.finance.yahoo.co.jp/stocks/qi/',\n",
    "    )\n",
    "\n",
    "    def parse(self, response):\n",
    "        \"\"\"\n",
    "        銘柄一覧ページから個々の銘柄へのリンクを抜き出してたどる\n",
    "        \"\"\"\n",
    "        # listTable > table > tbody > tr:nth-child(2) > td.center.yjM > a\n",
    "        # print(response.css('td.center.yjM a::attr(\"href\")').extract())\n",
    "        for url in response.css('td.center.yjM a::attr(\"href\")').extract():\n",
    "            yield scrapy.Request(response.urljoin(url), self.parse_fundamental, dont_filter=True)\n",
    "\n",
    "    def parse_fundamental(self, response):\n",
    "        \"\"\"\n",
    "        個々の銘柄ページでの処理\n",
    "        \"\"\"\n",
    "        item = yahoo_fundamental()  # yahoo_fundamental オブジェクトを作成\n",
    "        item['code'] = response.css('#stockinf dt').xpath('string()').extract_first() # 銘柄コード\n",
    "        item['symbol_name'] = response.css('.symbol').xpath('string()').extract_first() # 銘柄名\n",
    "        item['per'] = response.css('#rfindex strong').xpath('string()').extract()[4] # PER\n",
    "        item['pbr'] = response.css('#rfindex strong').xpath('string()').extract()[5] # PBR\n",
    "        item['eps'] = response.css('#rfindex strong').xpath('string()').extract()[6] # EPS\n",
    "        item['bps'] = response.css('#rfindex strong').xpath('string()').extract()[7] # BPS\n",
    "        yield item  # Itemをyieldして、データを抽出する"
   ]
  },
  {
   "cell_type": "code",
   "execution_count": null,
   "metadata": {
    "ExecuteTime": {
     "end_time": "2018-01-02T23:23:34.040121Z",
     "start_time": "2018-01-02T23:23:34.034099Z"
    }
   },
   "outputs": [],
   "source": [
    "%%writefile yahoo_stock_crawl.py\n",
    "\n",
    "# -*- coding: utf-8 -*-\n",
    "# エンコーディング宣言は Python2 用なので削除してもよい\n",
    "\n",
    "from scrapy.spiders import CrawlSpider, Rule\n",
    "from scrapy.linkextractors import LinkExtractor\n",
    "\n",
    "from scrapy_project.items import yahoo_fundamental\n",
    "\n",
    "\n",
    "class yahoo_stock_crawl_spider(CrawlSpider):\n",
    "    name = 'yahoo_stock_crawl'\n",
    "    allowed_domains = ['stocks.finance.yahoo.co.jp']\n",
    "    start_urls = (\n",
    "        'http://stocks.finance.yahoo.co.jp/stocks/qi/',\n",
    "    )\n",
    "\n",
    "    # リンクをたどるためのルールのリスト\n",
    "    # https://stocks.finance.yahoo.co.jp/stocks/detail/?code=1301\n",
    "    rules = (\n",
    "        # 試験的に一覧の9ページ目まで。末尾の \\d$ を \\d+$ に変えれば10ページ以降も辿れるはず\n",
    "        Rule(LinkExtractor(allow=r'/stocks/qi/\\?&p=\\d$')),\n",
    "        Rule(LinkExtractor(allow=r'/stocks/detail/\\?code=\\d+$'), callback='parse_fundamental'),\n",
    "    )\n",
    "\n",
    "    \n",
    "    def parse_fundamental(self, response):\n",
    "        \"\"\"\n",
    "        個々の銘柄ページでの処理\n",
    "        \"\"\"\n",
    "        item = yahoo_fundamental()  # yahoo_fundamental オブジェクトを作成\n",
    "        item['code'] = response.css('#stockinf dt').xpath('string()').extract_first() # 銘柄コード\n",
    "        item['symbol_name'] = response.css('.symbol').xpath('string()').extract_first() # 銘柄名\n",
    "        item['per'] = response.css('#rfindex strong').xpath('string()').extract()[4] # PER\n",
    "        item['pbr'] = response.css('#rfindex strong').xpath('string()').extract()[5] # PBR\n",
    "        item['eps'] = response.css('#rfindex strong').xpath('string()').extract()[6] # EPS\n",
    "        item['bps'] = response.css('#rfindex strong').xpath('string()').extract()[7] # BPS\n",
    "        yield item  # Itemをyieldして、データを抽出する"
   ]
  },
  {
   "cell_type": "code",
   "execution_count": null,
   "metadata": {
    "collapsed": true
   },
   "outputs": [],
   "source": []
  }
 ],
 "metadata": {
  "kernelspec": {
   "display_name": "Python 3",
   "language": "python",
   "name": "python3"
  },
  "language_info": {
   "codemirror_mode": {
    "name": "ipython",
    "version": 3
   },
   "file_extension": ".py",
   "mimetype": "text/x-python",
   "name": "python",
   "nbconvert_exporter": "python",
   "pygments_lexer": "ipython3",
   "version": "3.6.4"
  },
  "toc": {
   "nav_menu": {},
   "number_sections": true,
   "sideBar": true,
   "skip_h1_title": false,
   "toc_cell": false,
   "toc_position": {},
   "toc_section_display": "block",
   "toc_window_display": false
  },
  "varInspector": {
   "cols": {
    "lenName": 16,
    "lenType": 16,
    "lenVar": 40
   },
   "kernels_config": {
    "python": {
     "delete_cmd_postfix": "",
     "delete_cmd_prefix": "del ",
     "library": "var_list.py",
     "varRefreshCmd": "print(var_dic_list())"
    },
    "r": {
     "delete_cmd_postfix": ") ",
     "delete_cmd_prefix": "rm(",
     "library": "var_list.r",
     "varRefreshCmd": "cat(var_dic_list()) "
    }
   },
   "types_to_exclude": [
    "module",
    "function",
    "builtin_function_or_method",
    "instance",
    "_Feature"
   ],
   "window_display": false
  }
 },
 "nbformat": 4,
 "nbformat_minor": 2
}
