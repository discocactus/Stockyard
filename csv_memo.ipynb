{
 "cells": [
  {
   "cell_type": "code",
   "execution_count": null,
   "metadata": {
    "ExecuteTime": {
     "end_time": "2018-02-06T16:37:44.159599Z",
     "start_time": "2018-02-06T16:37:44.143972Z"
    }
   },
   "outputs": [],
   "source": [
    "import os\n",
    "import csv\n",
    "import locale\n",
    "import re\n",
    "import pandas as pd"
   ]
  },
  {
   "cell_type": "code",
   "execution_count": null,
   "metadata": {
    "ExecuteTime": {
     "end_time": "2018-02-06T15:30:56.119858Z",
     "start_time": "2018-02-06T15:30:56.104199Z"
    }
   },
   "outputs": [],
   "source": [
    "# pandas の最大表示列数を設定 (max_rows で表示行数の設定も可能)\n",
    "pd.set_option('display.max_columns', 30)"
   ]
  },
  {
   "cell_type": "code",
   "execution_count": null,
   "metadata": {
    "ExecuteTime": {
     "end_time": "2018-02-06T15:28:43.129362Z",
     "start_time": "2018-02-06T15:28:43.098110Z"
    }
   },
   "outputs": [],
   "source": [
    "os.getcwd()"
   ]
  },
  {
   "cell_type": "code",
   "execution_count": null,
   "metadata": {
    "ExecuteTime": {
     "end_time": "2018-02-06T15:28:44.957690Z",
     "start_time": "2018-02-06T15:28:44.942478Z"
    }
   },
   "outputs": [],
   "source": [
    "os.chdir(r'C:\\Users\\Really\\GitHub\\Stockyard')\n",
    "os.getcwd()"
   ]
  },
  {
   "cell_type": "code",
   "execution_count": null,
   "metadata": {
    "ExecuteTime": {
     "end_time": "2018-02-05T21:27:01.683326Z",
     "start_time": "2018-02-05T21:27:01.668134Z"
    }
   },
   "outputs": [],
   "source": [
    "try:\n",
    "    with open('top_cities_3.csv', 'x', newline='', encoding='utf-8') as f:\n",
    "        writer = csv.DictWriter(f, ['rank', 'city', 'population'])\n",
    "        writer.writeheader()\n",
    "except:\n",
    "    print('File exists: top_cities_3.csv')"
   ]
  },
  {
   "cell_type": "code",
   "execution_count": null,
   "metadata": {
    "ExecuteTime": {
     "end_time": "2018-02-05T21:30:02.173443Z",
     "start_time": "2018-02-05T21:30:02.157766Z"
    },
    "scrolled": true
   },
   "outputs": [],
   "source": [
    "pd.read_csv('top_cities_3.csv')"
   ]
  },
  {
   "cell_type": "code",
   "execution_count": null,
   "metadata": {
    "ExecuteTime": {
     "end_time": "2018-02-05T22:04:51.668511Z",
     "start_time": "2018-02-05T22:04:51.637244Z"
    }
   },
   "outputs": [],
   "source": [
    "# 1行でも辞書をリストの中に入れなければいけないらしい\n",
    "with open('top_cities_3.csv', 'a', newline='', encoding='utf-8') as f:\n",
    "    writer = csv.DictWriter(f, ['rank', 'city', 'population'])\n",
    "    writer.writerows([{'rank': 1, 'city': '上海', 'population': 24150000}])"
   ]
  },
  {
   "cell_type": "code",
   "execution_count": null,
   "metadata": {
    "ExecuteTime": {
     "end_time": "2018-02-05T21:29:57.936616Z",
     "start_time": "2018-02-05T21:29:57.905356Z"
    }
   },
   "outputs": [],
   "source": [
    "with open('top_cities_3.csv', 'a', newline='', encoding='utf-8') as f:\n",
    "    writer = csv.DictWriter(f, ['rank', 'city', 'population'])\n",
    "    writer.writerows([\n",
    "        {'rank': 2, 'city': 'カラチ', 'population': 23500000},\n",
    "        {'rank': 3, 'city': '北京', 'population': 21516000},\n",
    "    ])"
   ]
  },
  {
   "cell_type": "code",
   "execution_count": null,
   "metadata": {
    "ExecuteTime": {
     "end_time": "2018-02-04T22:05:50.824230Z",
     "start_time": "2018-02-04T22:05:50.793146Z"
    }
   },
   "outputs": [],
   "source": [
    "with open('top_cities_3.csv', 'a', newline='', encoding='utf-8') as f:\n",
    "    writer = csv.DictWriter(f, ['rank', 'city', 'population'])\n",
    "    writer.writerows([\n",
    "        {'rank': 4, 'city': '天津', 'population': 14722100},\n",
    "        {'rank': 5, 'city': 'イスタンブル', 'population': 14160467},\n",
    "    ])"
   ]
  },
  {
   "cell_type": "code",
   "execution_count": null,
   "metadata": {
    "ExecuteTime": {
     "end_time": "2018-02-06T16:37:49.050746Z",
     "start_time": "2018-02-06T16:37:49.035567Z"
    }
   },
   "outputs": [],
   "source": [
    "locale.getpreferredencoding(False)"
   ]
  },
  {
   "cell_type": "code",
   "execution_count": null,
   "metadata": {
    "ExecuteTime": {
     "end_time": "2018-02-06T16:41:24.070042Z",
     "start_time": "2018-02-06T16:41:24.038796Z"
    }
   },
   "outputs": [],
   "source": [
    "with open(r\"C:\\Users\\Really\\GitHub\\Stockyard\\scrapy_project\\yahoo_fundamental.csv\", 'r', encoding='utf-8') as f:\n",
    "    reader = csv.reader(f)\n",
    "    data = [x for x in reader]\n",
    "print(data)"
   ]
  },
  {
   "cell_type": "code",
   "execution_count": null,
   "metadata": {
    "ExecuteTime": {
     "end_time": "2018-02-06T16:30:11.404247Z",
     "start_time": "2018-02-06T16:30:11.372997Z"
    }
   },
   "outputs": [],
   "source": [
    "pd.read_csv(r\"C:\\Users\\Really\\GitHub\\Stockyard\\scrapy_project\\yahoo_fundamental.csv\")"
   ]
  },
  {
   "cell_type": "code",
   "execution_count": null,
   "metadata": {
    "ExecuteTime": {
     "end_time": "2018-02-06T16:10:32.117244Z",
     "start_time": "2018-02-06T16:10:32.101633Z"
    }
   },
   "outputs": [],
   "source": [
    "d = {'code': '1380', '銘柄名': '(株)秋川牧園', 'PER': '(連) 34.77', 'PBR': '(連) 1.91', 'EPS': '\\n(連) 20.39', 'BPS': '\\n(連) 370.29'}\n",
    "d"
   ]
  },
  {
   "cell_type": "code",
   "execution_count": null,
   "metadata": {
    "ExecuteTime": {
     "end_time": "2018-02-06T16:10:43.071555Z",
     "start_time": "2018-02-06T16:10:43.055905Z"
    }
   },
   "outputs": [],
   "source": [
    "for key in d:\n",
    "    d[key] = re.sub('\\n', '', d[key])\n",
    "d"
   ]
  },
  {
   "cell_type": "code",
   "execution_count": null,
   "metadata": {
    "ExecuteTime": {
     "end_time": "2018-02-06T16:04:11.636969Z",
     "start_time": "2018-02-06T16:04:11.621347Z"
    }
   },
   "outputs": [],
   "source": [
    "d['EPS']"
   ]
  },
  {
   "cell_type": "code",
   "execution_count": null,
   "metadata": {},
   "outputs": [],
   "source": []
  }
 ],
 "metadata": {
  "kernelspec": {
   "display_name": "Python 3",
   "language": "python",
   "name": "python3"
  },
  "language_info": {
   "codemirror_mode": {
    "name": "ipython",
    "version": 3
   },
   "file_extension": ".py",
   "mimetype": "text/x-python",
   "name": "python",
   "nbconvert_exporter": "python",
   "pygments_lexer": "ipython3",
   "version": "3.6.4"
  },
  "toc": {
   "nav_menu": {},
   "number_sections": true,
   "sideBar": true,
   "skip_h1_title": false,
   "toc_cell": false,
   "toc_position": {},
   "toc_section_display": "block",
   "toc_window_display": false
  }
 },
 "nbformat": 4,
 "nbformat_minor": 2
}
