{
 "cells": [
  {
   "cell_type": "markdown",
   "metadata": {},
   "source": [
    "# API Reference"
   ]
  },
  {
   "cell_type": "markdown",
   "metadata": {},
   "source": [
    "http://pandas.pydata.org/pandas-docs/version/0.19.2/api.html"
   ]
  },
  {
   "cell_type": "markdown",
   "metadata": {},
   "source": [
    "# Import"
   ]
  },
  {
   "cell_type": "code",
   "execution_count": null,
   "metadata": {
    "ExecuteTime": {
     "end_time": "2017-11-24T09:18:39.180615Z",
     "start_time": "2017-11-24T09:18:38.400682Z"
    },
    "collapsed": true
   },
   "outputs": [],
   "source": [
    "import numpy as np\n",
    "import pandas as pd\n",
    "import pandas.tseries.offsets as offsets\n",
    "import datetime as dt\n",
    "import time\n",
    "import importlib\n",
    "import logging\n",
    "from retry import retry\n",
    "from sqlalchemy import create_engine\n",
    "from sqlalchemy.types import Date, Integer, Text\n",
    "\n",
    "import stock"
   ]
  },
  {
   "cell_type": "code",
   "execution_count": null,
   "metadata": {
    "collapsed": false
   },
   "outputs": [],
   "source": [
    "importlib.reload(stock)"
   ]
  },
  {
   "cell_type": "code",
   "execution_count": null,
   "metadata": {
    "collapsed": true
   },
   "outputs": [],
   "source": [
    "# pandas の最大表示列数を設定 (max_rows で表示行数の設定も可能)\n",
    "pd.set_option('display.max_columns', 30)"
   ]
  },
  {
   "cell_type": "markdown",
   "metadata": {},
   "source": [
    "# 超大事。浅いコピーと深いコピー"
   ]
  },
  {
   "cell_type": "markdown",
   "metadata": {},
   "source": [
    "## 浅いコピー。  \n",
    "コピーというか参照なので変更内容は両方に反映される"
   ]
  },
  {
   "cell_type": "code",
   "execution_count": null,
   "metadata": {
    "collapsed": true
   },
   "outputs": [],
   "source": [
    "df = tables[11]"
   ]
  },
  {
   "cell_type": "markdown",
   "metadata": {
    "ExecuteTime": {
     "end_time": "2017-11-19T16:01:51.032753Z",
     "start_time": "2017-11-19T16:01:51.030040Z"
    }
   },
   "source": [
    "## 深いコピー。  \n",
    "独立したコピーを作りたい場合は.copy()メソッドで"
   ]
  },
  {
   "cell_type": "code",
   "execution_count": null,
   "metadata": {
    "collapsed": true
   },
   "outputs": [],
   "source": [
    "df = tables[11].copy()"
   ]
  },
  {
   "cell_type": "markdown",
   "metadata": {
    "ExecuteTime": {
     "end_time": "2017-11-19T16:02:18.496560Z",
     "start_time": "2017-11-19T16:02:18.493776Z"
    }
   },
   "source": [
    "# 要素選択 - 科学技術計算のためのPython入門  \n",
    "https://github.com/pyjbooks/py4science  \n",
    "注) ラベルによるスライシングの場合、Python標準とは異なり終端ポイントまで含まれる  \n",
    "OSや実装により処理速度に差がある場合がある"
   ]
  },
  {
   "cell_type": "markdown",
   "metadata": {},
   "source": [
    "## サンプル作成"
   ]
  },
  {
   "cell_type": "code",
   "execution_count": null,
   "metadata": {
    "ExecuteTime": {
     "end_time": "2017-11-23T09:05:46.860051Z",
     "start_time": "2017-11-23T09:05:46.850388Z"
    },
    "collapsed": true
   },
   "outputs": [],
   "source": [
    "df = pd.DataFrame(np.arange(12).reshape((3,4)),\n",
    "                 index=list('xyz'),\n",
    "                 columns=list('abcd'))"
   ]
  },
  {
   "cell_type": "code",
   "execution_count": null,
   "metadata": {
    "ExecuteTime": {
     "end_time": "2017-11-23T09:05:49.697352Z",
     "start_time": "2017-11-23T09:05:49.679580Z"
    },
    "collapsed": false
   },
   "outputs": [],
   "source": [
    "df"
   ]
  },
  {
   "cell_type": "markdown",
   "metadata": {},
   "source": [
    "## 要素参照 (プロパティ使用)"
   ]
  },
  {
   "cell_type": "code",
   "execution_count": null,
   "metadata": {
    "ExecuteTime": {
     "end_time": "2017-11-23T09:10:02.040753Z",
     "start_time": "2017-11-23T09:10:02.035623Z"
    },
    "collapsed": false
   },
   "outputs": [],
   "source": [
    "# y行 b列\n",
    "df.at['y', 'b']"
   ]
  },
  {
   "cell_type": "code",
   "execution_count": null,
   "metadata": {
    "ExecuteTime": {
     "end_time": "2017-11-23T09:13:41.779019Z",
     "start_time": "2017-11-23T09:13:41.773158Z"
    },
    "collapsed": false
   },
   "outputs": [],
   "source": [
    "# y行 b列\n",
    "df.loc['y', 'b']"
   ]
  },
  {
   "cell_type": "code",
   "execution_count": null,
   "metadata": {
    "ExecuteTime": {
     "end_time": "2017-11-23T09:24:51.107028Z",
     "start_time": "2017-11-23T09:24:51.101396Z"
    },
    "collapsed": false
   },
   "outputs": [],
   "source": [
    "# x〜y行 b列\n",
    "df.loc['x':'y', 'b']"
   ]
  },
  {
   "cell_type": "code",
   "execution_count": null,
   "metadata": {
    "ExecuteTime": {
     "end_time": "2017-11-23T09:24:55.830643Z",
     "start_time": "2017-11-23T09:24:55.821575Z"
    },
    "collapsed": false
   },
   "outputs": [],
   "source": [
    "# 最初からy行 全列\n",
    "df.loc[:'y', :]"
   ]
  },
  {
   "cell_type": "code",
   "execution_count": null,
   "metadata": {
    "ExecuteTime": {
     "end_time": "2017-11-23T09:21:26.642651Z",
     "start_time": "2017-11-23T09:21:26.637701Z"
    },
    "collapsed": false
   },
   "outputs": [],
   "source": [
    "# 0行 1列の値 (1行目、2列目)\n",
    "df.iat[0, 1]"
   ]
  },
  {
   "cell_type": "code",
   "execution_count": null,
   "metadata": {
    "ExecuteTime": {
     "end_time": "2017-11-23T09:22:01.843102Z",
     "start_time": "2017-11-23T09:22:01.837793Z"
    },
    "collapsed": false
   },
   "outputs": [],
   "source": [
    "# 1行 1列の値 (2行目、2列目)\n",
    "df.iloc[1, 1]"
   ]
  },
  {
   "cell_type": "code",
   "execution_count": null,
   "metadata": {
    "ExecuteTime": {
     "end_time": "2017-11-23T09:24:28.728146Z",
     "start_time": "2017-11-23T09:24:28.719095Z"
    },
    "collapsed": false
   },
   "outputs": [],
   "source": [
    "# 0〜1行 最後の2列の値\n",
    "df.iloc[0:2, -2:]"
   ]
  },
  {
   "cell_type": "code",
   "execution_count": null,
   "metadata": {
    "ExecuteTime": {
     "end_time": "2017-11-23T09:27:29.664602Z",
     "start_time": "2017-11-23T09:27:29.654203Z"
    },
    "collapsed": false
   },
   "outputs": [],
   "source": [
    "# 0行 全列\n",
    "df.iloc[:1, :]"
   ]
  },
  {
   "cell_type": "code",
   "execution_count": null,
   "metadata": {
    "ExecuteTime": {
     "end_time": "2017-11-23T10:34:43.949361Z",
     "start_time": "2017-11-23T10:34:43.937721Z"
    },
    "collapsed": false
   },
   "outputs": [],
   "source": [
    "# x行 a, d列の値 (結果はシリーズ)\n",
    "df.ix['x', ['a', 'd']]"
   ]
  },
  {
   "cell_type": "code",
   "execution_count": null,
   "metadata": {
    "ExecuteTime": {
     "end_time": "2017-11-23T10:35:20.905944Z",
     "start_time": "2017-11-23T10:35:20.899946Z"
    },
    "collapsed": false
   },
   "outputs": [],
   "source": [
    "# x行を取り出し (結果はシリーズ)\n",
    "df.ix['x']"
   ]
  },
  {
   "cell_type": "code",
   "execution_count": null,
   "metadata": {
    "ExecuteTime": {
     "end_time": "2017-11-23T10:36:55.311388Z",
     "start_time": "2017-11-23T10:36:55.306160Z"
    },
    "collapsed": false
   },
   "outputs": [],
   "source": [
    "# x行 a列\n",
    "df.ix['x']['a']"
   ]
  },
  {
   "cell_type": "code",
   "execution_count": null,
   "metadata": {
    "ExecuteTime": {
     "end_time": "2017-11-23T10:39:58.256864Z",
     "start_time": "2017-11-23T10:39:58.250610Z"
    },
    "collapsed": false
   },
   "outputs": [],
   "source": [
    "# a列を取り出し (結果はシリーズ)\n",
    "df.ix[:, 'a']"
   ]
  },
  {
   "cell_type": "code",
   "execution_count": null,
   "metadata": {
    "ExecuteTime": {
     "end_time": "2017-11-23T10:43:38.453009Z",
     "start_time": "2017-11-23T10:43:38.444291Z"
    },
    "collapsed": false
   },
   "outputs": [],
   "source": [
    "# d列の値が6より大の行の最初の2列\n",
    "df.ix[df.d > 6, :2]"
   ]
  },
  {
   "cell_type": "markdown",
   "metadata": {
    "ExecuteTime": {
     "end_time": "2017-11-23T10:44:04.924011Z",
     "start_time": "2017-11-23T10:44:04.914729Z"
    }
   },
   "source": [
    "## 要素参照 (直接指定)"
   ]
  },
  {
   "cell_type": "code",
   "execution_count": null,
   "metadata": {
    "ExecuteTime": {
     "end_time": "2017-11-23T10:57:51.966265Z",
     "start_time": "2017-11-23T10:57:51.961683Z"
    },
    "collapsed": false
   },
   "outputs": [],
   "source": [
    "# 列ラベル a (結果はシリーズ)\n",
    "df['a']"
   ]
  },
  {
   "cell_type": "code",
   "execution_count": null,
   "metadata": {
    "ExecuteTime": {
     "end_time": "2017-11-23T10:57:21.564182Z",
     "start_time": "2017-11-23T10:57:21.550702Z"
    },
    "collapsed": false
   },
   "outputs": [],
   "source": [
    "# 列ラベル a,c\n",
    "df[['a', 'c']]"
   ]
  },
  {
   "cell_type": "code",
   "execution_count": null,
   "metadata": {
    "ExecuteTime": {
     "end_time": "2017-11-23T10:58:47.149446Z",
     "start_time": "2017-11-23T10:58:47.140338Z"
    },
    "collapsed": false
   },
   "outputs": [],
   "source": [
    "# 0〜1行\n",
    "df[:2]"
   ]
  },
  {
   "cell_type": "code",
   "execution_count": null,
   "metadata": {
    "ExecuteTime": {
     "end_time": "2017-11-23T10:59:32.187198Z",
     "start_time": "2017-11-23T10:59:32.177416Z"
    },
    "collapsed": false
   },
   "outputs": [],
   "source": [
    "# d列の値が6より大の行\n",
    "df[df['d'] > 6]"
   ]
  },
  {
   "cell_type": "markdown",
   "metadata": {},
   "source": [
    "# pandas データ選択処理をちょっと詳しく - StatsFragments  \n",
    "http://sinhrks.hatenablog.com/entry/2014/11/12/233216"
   ]
  },
  {
   "cell_type": "markdown",
   "metadata": {},
   "source": [
    "## サンプルデータの準備"
   ]
  },
  {
   "cell_type": "code",
   "execution_count": null,
   "metadata": {
    "ExecuteTime": {
     "end_time": "2017-11-23T11:18:00.843641Z",
     "start_time": "2017-11-23T11:18:00.837710Z"
    },
    "collapsed": true
   },
   "outputs": [],
   "source": [
    "import pandas as pd\n",
    "\n",
    "s = pd.Series([1, 2, 3], index = ['I1', 'I2', 'I3'])\n",
    "\n",
    "df = pd.DataFrame({'C1': [11, 21, 31],\n",
    "                   'C2': [12, 22, 32],\n",
    "                   'C3': [13, 23, 33]},\n",
    "                  index = ['I1', 'I2', 'I3'])"
   ]
  },
  {
   "cell_type": "code",
   "execution_count": null,
   "metadata": {
    "ExecuteTime": {
     "end_time": "2017-11-23T11:18:15.007835Z",
     "start_time": "2017-11-23T11:18:15.002512Z"
    },
    "collapsed": false
   },
   "outputs": [],
   "source": [
    "s"
   ]
  },
  {
   "cell_type": "code",
   "execution_count": null,
   "metadata": {
    "ExecuteTime": {
     "end_time": "2017-11-23T11:18:21.036233Z",
     "start_time": "2017-11-23T11:18:21.028050Z"
    },
    "collapsed": false
   },
   "outputs": [],
   "source": [
    "df"
   ]
  },
  {
   "cell_type": "markdown",
   "metadata": {},
   "source": [
    "## \\__getitem__ での選択"
   ]
  },
  {
   "cell_type": "markdown",
   "metadata": {},
   "source": [
    "### 直接選択"
   ]
  },
  {
   "cell_type": "code",
   "execution_count": null,
   "metadata": {
    "ExecuteTime": {
     "end_time": "2017-11-23T11:26:09.667475Z",
     "start_time": "2017-11-23T11:26:09.658639Z"
    },
    "collapsed": false
   },
   "outputs": [],
   "source": [
    "s[0]"
   ]
  },
  {
   "cell_type": "code",
   "execution_count": null,
   "metadata": {
    "ExecuteTime": {
     "end_time": "2017-11-23T11:26:26.837672Z",
     "start_time": "2017-11-23T11:26:26.833092Z"
    },
    "collapsed": false
   },
   "outputs": [],
   "source": [
    "s['I1']"
   ]
  },
  {
   "cell_type": "code",
   "execution_count": null,
   "metadata": {
    "ExecuteTime": {
     "end_time": "2017-11-23T11:26:50.341993Z",
     "start_time": "2017-11-23T11:26:50.337025Z"
    },
    "collapsed": false
   },
   "outputs": [],
   "source": [
    "df['C1']"
   ]
  },
  {
   "cell_type": "code",
   "execution_count": null,
   "metadata": {
    "ExecuteTime": {
     "end_time": "2017-11-23T11:27:19.990413Z",
     "start_time": "2017-11-23T11:27:19.943331Z"
    },
    "collapsed": true
   },
   "outputs": [],
   "source": [
    "# 番号を数値として渡すとNG!\n",
    "df[1]"
   ]
  },
  {
   "cell_type": "code",
   "execution_count": null,
   "metadata": {
    "ExecuteTime": {
     "end_time": "2017-11-23T11:27:51.485533Z",
     "start_time": "2017-11-23T11:27:51.477317Z"
    },
    "collapsed": false
   },
   "outputs": [],
   "source": [
    "# 番号のリストならOK (リストだと columns からの選択)\n",
    "df[[1]] "
   ]
  },
  {
   "cell_type": "code",
   "execution_count": null,
   "metadata": {
    "ExecuteTime": {
     "end_time": "2017-11-23T11:28:07.704935Z",
     "start_time": "2017-11-23T11:28:07.696155Z"
    },
    "collapsed": false
   },
   "outputs": [],
   "source": [
    "# 番号のスライスもOK (スライスだと index からの選択)\n",
    "df[1:2]"
   ]
  },
  {
   "cell_type": "code",
   "execution_count": null,
   "metadata": {
    "ExecuteTime": {
     "end_time": "2017-11-23T11:28:44.503471Z",
     "start_time": "2017-11-23T11:28:44.460953Z"
    },
    "collapsed": true
   },
   "outputs": [],
   "source": [
    "# NG!\n",
    "df['I1']"
   ]
  },
  {
   "cell_type": "code",
   "execution_count": null,
   "metadata": {
    "ExecuteTime": {
     "end_time": "2017-11-23T11:29:36.377102Z",
     "start_time": "2017-11-23T11:29:36.371520Z"
    },
    "collapsed": false
   },
   "outputs": [],
   "source": [
    "s[[True, False, True]]"
   ]
  },
  {
   "cell_type": "code",
   "execution_count": null,
   "metadata": {
    "ExecuteTime": {
     "end_time": "2017-11-23T11:29:40.227768Z",
     "start_time": "2017-11-23T11:29:40.219110Z"
    },
    "collapsed": false
   },
   "outputs": [],
   "source": [
    "df[[True, False, True]] # (index を指定したことになる)"
   ]
  },
  {
   "cell_type": "code",
   "execution_count": null,
   "metadata": {
    "ExecuteTime": {
     "end_time": "2017-11-23T11:30:52.564566Z",
     "start_time": "2017-11-23T11:30:52.553779Z"
    },
    "collapsed": false
   },
   "outputs": [],
   "source": [
    "# bool の DataFrame を作る\n",
    "df > 21"
   ]
  },
  {
   "cell_type": "code",
   "execution_count": null,
   "metadata": {
    "ExecuteTime": {
     "end_time": "2017-11-23T11:31:05.910049Z",
     "start_time": "2017-11-23T11:31:05.898091Z"
    },
    "collapsed": false
   },
   "outputs": [],
   "source": [
    "# bool の DataFrame で選択\n",
    "df[df > 21] "
   ]
  },
  {
   "cell_type": "markdown",
   "metadata": {},
   "source": [
    "__引数による 返り値の違い__  \n",
    "  \n",
    "引数を値だけ (ラベル, 数値)で渡すと次元が縮約され、Series では単一の値, DataFrame では Series が返ってくる。  \n",
    "元のデータと同じ型の返り値がほしい場合は 引数をリスト型にして渡せばいい。"
   ]
  },
  {
   "cell_type": "code",
   "execution_count": null,
   "metadata": {
    "ExecuteTime": {
     "end_time": "2017-11-23T13:36:35.640036Z",
     "start_time": "2017-11-23T13:36:35.635036Z"
    },
    "collapsed": false
   },
   "outputs": [],
   "source": [
    "# 返り値は 値\n",
    "s['I1']"
   ]
  },
  {
   "cell_type": "code",
   "execution_count": null,
   "metadata": {
    "ExecuteTime": {
     "end_time": "2017-11-23T13:36:38.477830Z",
     "start_time": "2017-11-23T13:36:38.471565Z"
    },
    "collapsed": false
   },
   "outputs": [],
   "source": [
    "# 返り値は Series\n",
    "s[['I1']]"
   ]
  },
  {
   "cell_type": "code",
   "execution_count": null,
   "metadata": {
    "ExecuteTime": {
     "end_time": "2017-11-23T13:36:41.538336Z",
     "start_time": "2017-11-23T13:36:41.532812Z"
    },
    "collapsed": false
   },
   "outputs": [],
   "source": [
    "# 返り値は Series\n",
    "df['C1']"
   ]
  },
  {
   "cell_type": "code",
   "execution_count": null,
   "metadata": {
    "ExecuteTime": {
     "end_time": "2017-11-23T13:36:42.852387Z",
     "start_time": "2017-11-23T13:36:42.844927Z"
    },
    "collapsed": false
   },
   "outputs": [],
   "source": [
    "# 返り値は DataFrame\n",
    "df[['C1']]"
   ]
  },
  {
   "cell_type": "markdown",
   "metadata": {},
   "source": [
    "## index, columns を元にした選択 ( ix, loc, iloc )  "
   ]
  },
  {
   "cell_type": "markdown",
   "metadata": {},
   "source": [
    "### ix プロパティ"
   ]
  },
  {
   "cell_type": "markdown",
   "metadata": {},
   "source": [
    "ix プロパティを使うと DataFrame で index, columns 両方を指定してデータ選択を行うことができる。  \n",
    "( Series の挙動は \\__getitem\\__ と同じ)  \n",
    "  \n",
    "引数として使える形式は \\__getitem\\__ と同じだが、ix では DataFrame も以下すべての形式を使うことができる。  \n",
    "・名前 (もしくは名前のリスト)  \n",
    "・順序 (番号)　(もしくは番号のリスト)  \n",
    "・index, もしくは columns と同じ長さの bool のリスト  \n",
    "  \n",
    "ix はメソッドではなくプロパティなので、呼び出しは以下のようになる。  \n",
    "・Series.ix[?] : ? にはindex を特定できるものを指定  \n",
    "・DataFrame.ix[?, ?] : ? にはそれぞれ index, columns の順に特定できるものを指定  "
   ]
  },
  {
   "cell_type": "code",
   "execution_count": null,
   "metadata": {
    "ExecuteTime": {
     "end_time": "2017-11-23T13:49:38.724983Z",
     "start_time": "2017-11-23T13:49:38.720052Z"
    },
    "collapsed": false
   },
   "outputs": [],
   "source": [
    "# 名前による指定\n",
    "s.ix['I2']"
   ]
  },
  {
   "cell_type": "code",
   "execution_count": null,
   "metadata": {
    "ExecuteTime": {
     "end_time": "2017-11-23T13:49:40.750872Z",
     "start_time": "2017-11-23T13:49:40.746202Z"
    },
    "collapsed": false
   },
   "outputs": [],
   "source": [
    "df.ix['I2', 'C2']"
   ]
  },
  {
   "cell_type": "code",
   "execution_count": null,
   "metadata": {
    "ExecuteTime": {
     "end_time": "2017-11-23T13:49:46.451894Z",
     "start_time": "2017-11-23T13:49:46.447428Z"
    },
    "collapsed": false
   },
   "outputs": [],
   "source": [
    "# 順序による指定\n",
    "s.ix[1]"
   ]
  },
  {
   "cell_type": "code",
   "execution_count": null,
   "metadata": {
    "ExecuteTime": {
     "end_time": "2017-11-23T13:49:59.841559Z",
     "start_time": "2017-11-23T13:49:59.836740Z"
    },
    "collapsed": false
   },
   "outputs": [],
   "source": [
    "df.ix[1, 1]"
   ]
  },
  {
   "cell_type": "code",
   "execution_count": null,
   "metadata": {
    "ExecuteTime": {
     "end_time": "2017-11-23T13:50:03.173428Z",
     "start_time": "2017-11-23T13:50:03.166734Z"
    },
    "collapsed": false
   },
   "outputs": [],
   "source": [
    "# 名前のリストによる指定\n",
    "s.ix[['I1', 'I3']]"
   ]
  },
  {
   "cell_type": "code",
   "execution_count": null,
   "metadata": {
    "ExecuteTime": {
     "end_time": "2017-11-23T13:50:07.086492Z",
     "start_time": "2017-11-23T13:50:07.077861Z"
    },
    "collapsed": false
   },
   "outputs": [],
   "source": [
    "df.ix[['I1', 'I3'], ['C1', 'C3']]"
   ]
  },
  {
   "cell_type": "code",
   "execution_count": null,
   "metadata": {
    "ExecuteTime": {
     "end_time": "2017-11-23T13:50:09.838690Z",
     "start_time": "2017-11-23T13:50:09.832998Z"
    },
    "collapsed": false
   },
   "outputs": [],
   "source": [
    "# bool のリストによる指定\n",
    "s.ix[[True, False, True]]"
   ]
  },
  {
   "cell_type": "code",
   "execution_count": null,
   "metadata": {
    "ExecuteTime": {
     "end_time": "2017-11-23T13:50:20.716867Z",
     "start_time": "2017-11-23T13:50:20.708236Z"
    },
    "collapsed": false
   },
   "outputs": [],
   "source": [
    "df.ix[[True, False, True], [True, False, True]]"
   ]
  },
  {
   "cell_type": "code",
   "execution_count": null,
   "metadata": {
    "ExecuteTime": {
     "end_time": "2017-11-23T13:50:29.322788Z",
     "start_time": "2017-11-23T13:50:29.317236Z"
    },
    "collapsed": false
   },
   "outputs": [],
   "source": [
    "# 第一引数, 第二引数で別々の形式を使うこともできる\n",
    "df.ix[1:, \"C1\"]"
   ]
  },
  {
   "cell_type": "markdown",
   "metadata": {},
   "source": [
    "__DataFrame.ix の補足__  \n",
    "  \n",
    "DataFrameで第二引数を省略した場合は index への操作になる。"
   ]
  },
  {
   "cell_type": "code",
   "execution_count": null,
   "metadata": {
    "ExecuteTime": {
     "end_time": "2017-11-23T14:48:23.025382Z",
     "start_time": "2017-11-23T14:48:23.019926Z"
    },
    "collapsed": false
   },
   "outputs": [],
   "source": [
    "df.ix[1]"
   ]
  },
  {
   "cell_type": "markdown",
   "metadata": {},
   "source": [
    "DataFrame で columns に対して操作したい場合、以下のように第一引数を空にするとエラーになる。  \n",
    "第一引数には : を渡す必要がある (もしくは ixを使わず 直接 \\__getitem\\__ する )。"
   ]
  },
  {
   "cell_type": "code",
   "execution_count": null,
   "metadata": {
    "ExecuteTime": {
     "end_time": "2017-11-23T14:50:36.931224Z",
     "start_time": "2017-11-23T14:50:36.927187Z"
    },
    "collapsed": true
   },
   "outputs": [],
   "source": [
    "df.ix[, 'C3']"
   ]
  },
  {
   "cell_type": "code",
   "execution_count": null,
   "metadata": {
    "ExecuteTime": {
     "end_time": "2017-11-23T14:51:00.605484Z",
     "start_time": "2017-11-23T14:51:00.599859Z"
    },
    "collapsed": false
   },
   "outputs": [],
   "source": [
    "df.ix[:, 'C3']"
   ]
  },
  {
   "cell_type": "markdown",
   "metadata": {},
   "source": [
    "__引数による 返り値の違い__  \n",
    "\n",
    "引数の型による返り値の違いは \\__getitem\\__ の動きと同じ。  \n",
    "Series については挙動もまったく同じなので、ここでは DataFrame の場合だけ例示。"
   ]
  },
  {
   "cell_type": "code",
   "execution_count": null,
   "metadata": {
    "ExecuteTime": {
     "end_time": "2017-11-23T14:52:14.634150Z",
     "start_time": "2017-11-23T14:52:14.629245Z"
    },
    "collapsed": false
   },
   "outputs": [],
   "source": [
    "# 返り値は 値\n",
    "df.ix[1, 1]"
   ]
  },
  {
   "cell_type": "code",
   "execution_count": null,
   "metadata": {
    "ExecuteTime": {
     "end_time": "2017-11-23T14:52:17.989846Z",
     "start_time": "2017-11-23T14:52:17.983893Z"
    },
    "collapsed": false
   },
   "outputs": [],
   "source": [
    "# 返り値は Series\n",
    "df.ix[[1], 1]"
   ]
  },
  {
   "cell_type": "code",
   "execution_count": null,
   "metadata": {
    "ExecuteTime": {
     "end_time": "2017-11-23T14:52:20.467917Z",
     "start_time": "2017-11-23T14:52:20.460133Z"
    },
    "collapsed": false
   },
   "outputs": [],
   "source": [
    "# 返り値は DataFrame\n",
    "df.ix[[1], [1]]"
   ]
  },
  {
   "cell_type": "markdown",
   "metadata": {},
   "source": [
    "### iloc, loc プロパティ - ラベル名 もしくは 番号 どちらかだけを指定してデータ選択したい場合"
   ]
  },
  {
   "cell_type": "markdown",
   "metadata": {},
   "source": [
    "例えば、  \n",
    "・index, columns が int 型である  \n",
    "・index, columns に重複がある  \n",
    "・データによって index, columns の値が変わる  \n",
    "\n",
    "内部的には ix は ラベルを優先して処理を行うため、  \n",
    "上記のようなデータでは ix を使うと意図しない挙動をする可能性がある。  \n",
    "明示的に index, columns を番号で指定したい！というときには iloc を使う。  \n",
    "同様に、明示的にラベルのみで選択したい場合は loc を使う。  \n",
    "ix, iloc, loc については文法 / 挙動は基本的に一緒で、使える引数の形式のみが異なる。"
   ]
  },
  {
   "cell_type": "markdown",
   "metadata": {},
   "source": [
    "| 使える引数の形式 | ix | iloc | loc |\n",
    "|---|:---:|:---:|:---:|\n",
    "| 名前 (もしくは名前のリスト) |\t○ |\t- |\t○ |\n",
    "| 順序 (番号)　(もしくは番号のリスト) | ○ | ○ | - |\n",
    "| index もしくは columns と同じ長さの bool のリスト | ○ | ○ | ○ |"
   ]
  },
  {
   "cell_type": "markdown",
   "metadata": {},
   "source": [
    "### .columns プロパティによるアクセスについて"
   ]
  },
  {
   "cell_type": "markdown",
   "metadata": {},
   "source": [
    "Series の index, DataFrame の columns はプロパティとしてもアクセスできる。  \n",
    "が、オブジェクト自体のメソッド/プロパティと衝突した場合 (例えば ix を列名に持つデータがある等) は  \n",
    "メソッド/プロパティが優先されるので使わないほうがよい。  "
   ]
  },
  {
   "cell_type": "markdown",
   "metadata": {},
   "source": [
    "__つまり__  \n",
    "  \n",
    "\n",
    "・手元で対話的にちょっと試す場合は ix が便利。  \n",
    "・ある程度の期間使うようなスクリプトを書く場合は 少し面倒でも iloc, loc が安全。"
   ]
  },
  {
   "cell_type": "markdown",
   "metadata": {},
   "source": [
    "# bool のリストによるデータ選択 - StatsFragments  \n",
    "http://sinhrks.hatenablog.com/entry/2014/11/15/230705"
   ]
  },
  {
   "cell_type": "markdown",
   "metadata": {},
   "source": [
    "## 序章"
   ]
  },
  {
   "cell_type": "markdown",
   "metadata": {},
   "source": [
    "pandas.Series や numpy.array への演算は原則 リスト内の各要素に対して適用され、  \n",
    "結果は真偽値の numpy.array (もしくは Series ) になる。  \n",
    "また、真偽値の numpy.array 同士で論理演算することもできる。"
   ]
  },
  {
   "cell_type": "code",
   "execution_count": null,
   "metadata": {
    "ExecuteTime": {
     "end_time": "2017-11-23T15:36:52.896394Z",
     "start_time": "2017-11-23T15:36:52.886875Z"
    },
    "collapsed": false
   },
   "outputs": [],
   "source": [
    "df.columns == 'C3'"
   ]
  },
  {
   "cell_type": "code",
   "execution_count": null,
   "metadata": {
    "ExecuteTime": {
     "end_time": "2017-11-23T15:36:55.669496Z",
     "start_time": "2017-11-23T15:36:55.664135Z"
    },
    "collapsed": false
   },
   "outputs": [],
   "source": [
    "df.columns.isin(['C1', 'C2'])"
   ]
  },
  {
   "cell_type": "code",
   "execution_count": null,
   "metadata": {
    "ExecuteTime": {
     "end_time": "2017-11-23T15:37:14.272901Z",
     "start_time": "2017-11-23T15:37:14.267292Z"
    },
    "collapsed": false
   },
   "outputs": [],
   "source": [
    "(df.columns == 'C3') | (df.columns == 'C2')"
   ]
  },
  {
   "cell_type": "markdown",
   "metadata": {},
   "source": [
    "そのため、上記のような条件式をそのまま行列選択時の引数として使うことができる。"
   ]
  },
  {
   "cell_type": "code",
   "execution_count": null,
   "metadata": {
    "ExecuteTime": {
     "end_time": "2017-11-23T15:37:42.913652Z",
     "start_time": "2017-11-23T15:37:42.905132Z"
    },
    "collapsed": false
   },
   "outputs": [],
   "source": [
    "df.ix[df.index.isin(['I1', 'I2']), df.columns == 'C3']"
   ]
  },
  {
   "cell_type": "markdown",
   "metadata": {},
   "source": [
    "上の例ではあまりありがたみはないと思うが、  \n",
    "外部関数で bool のリストを作ってしまえばどんなに複雑な行列選択でもできる。"
   ]
  },
  {
   "cell_type": "markdown",
   "metadata": {},
   "source": [
    "## サンプルデータの準備"
   ]
  },
  {
   "cell_type": "code",
   "execution_count": null,
   "metadata": {
    "ExecuteTime": {
     "end_time": "2017-11-23T16:04:47.411254Z",
     "start_time": "2017-11-23T16:04:47.392375Z"
    },
    "collapsed": true
   },
   "outputs": [],
   "source": [
    "df = pd.DataFrame({'N1': [1, 2, 3, 4, 5, 6],\n",
    "                   'N2': [10, 20, 30, 40, 50, 60],\n",
    "                   'N3': [6, 5, 4, 3, 2, 1],\n",
    "                   'F1': [1.1, 2.2, 3.3, 4.4, 5.5, 6.6],\n",
    "                   'F2': [1.1, 2.2, 3.3, 4.4, 5.5, 6.6],\n",
    "                   'S1': ['A', 'b', 'C', 'D', 'E', 'F'],\n",
    "                   'S2': ['A', 'X', 'X', 'X', 'E', 'F'],\n",
    "                   'D1': pd.date_range('2014-11-01', freq='D', periods=6)},\n",
    "                  index=pd.date_range('2014-11-01', freq='M', periods=6),\n",
    "                  columns=['N1', 'N2', 'N3', 'F1', 'F2', 'S1', 'S2', 'D1'])"
   ]
  },
  {
   "cell_type": "code",
   "execution_count": null,
   "metadata": {
    "ExecuteTime": {
     "end_time": "2017-11-23T16:04:49.512118Z",
     "start_time": "2017-11-23T16:04:49.496715Z"
    },
    "collapsed": false
   },
   "outputs": [],
   "source": [
    "df"
   ]
  },
  {
   "cell_type": "markdown",
   "metadata": {},
   "source": [
    "pd.date_range の使い方は以下の記事参照。  \n",
    "http://sinhrks.hatenablog.com/entry/2014/11/09/183603"
   ]
  },
  {
   "cell_type": "markdown",
   "metadata": {},
   "source": [
    "## index, columns のラベルを特定の条件で選択"
   ]
  },
  {
   "cell_type": "markdown",
   "metadata": {},
   "source": [
    "__補足)__ 内部実装としては index, columns は どちらも pd.Index 型のクラスが使われている ( DatetimeIndex は Index のサブクラス)。  \n",
    "index, columns とも裏側にあるオブジェクトは同一のため、このセクションでの方法は 行 / 列が入れ替わっても使える。"
   ]
  },
  {
   "cell_type": "code",
   "execution_count": null,
   "metadata": {
    "ExecuteTime": {
     "end_time": "2017-11-23T16:13:54.518822Z",
     "start_time": "2017-11-23T16:13:54.509848Z"
    },
    "collapsed": false
   },
   "outputs": [],
   "source": [
    "df.index"
   ]
  },
  {
   "cell_type": "code",
   "execution_count": null,
   "metadata": {
    "ExecuteTime": {
     "end_time": "2017-11-23T16:14:04.485660Z",
     "start_time": "2017-11-23T16:14:04.480968Z"
    },
    "collapsed": false
   },
   "outputs": [],
   "source": [
    "df.columns"
   ]
  },
  {
   "cell_type": "markdown",
   "metadata": {},
   "source": [
    "### pd.Index.map - ラベルに関数適用して選択したい"
   ]
  },
  {
   "cell_type": "markdown",
   "metadata": {},
   "source": [
    "たとえば 大文字の \"N\" から始まるラベル名のみ抽出したいなら"
   ]
  },
  {
   "cell_type": "code",
   "execution_count": null,
   "metadata": {
    "ExecuteTime": {
     "end_time": "2017-11-23T16:17:05.755721Z",
     "start_time": "2017-11-23T16:17:05.746057Z"
    },
    "collapsed": false
   },
   "outputs": [],
   "source": [
    "df.columns.map(lambda x: x.startswith('N'))"
   ]
  },
  {
   "cell_type": "code",
   "execution_count": null,
   "metadata": {
    "ExecuteTime": {
     "end_time": "2017-11-23T16:17:24.530852Z",
     "start_time": "2017-11-23T16:17:24.520009Z"
    },
    "collapsed": false
   },
   "outputs": [],
   "source": [
    "df.ix[:, df.columns.map(lambda x: x.startswith('N'))]"
   ]
  },
  {
   "cell_type": "markdown",
   "metadata": {},
   "source": [
    "ということで map を使えば index, columns のラベルに対してあらゆる関数を適用してデータ選択できる。  "
   ]
  },
  {
   "cell_type": "markdown",
   "metadata": {},
   "source": [
    "### .str アクセサを使用した文字列処理関数による同様の選択"
   ]
  },
  {
   "cell_type": "code",
   "execution_count": null,
   "metadata": {
    "ExecuteTime": {
     "end_time": "2017-11-23T16:20:10.704471Z",
     "start_time": "2017-11-23T16:20:10.694506Z"
    },
    "collapsed": false
   },
   "outputs": [],
   "source": [
    "df.ix[:, df.columns.str.startswith('N')]"
   ]
  },
  {
   "cell_type": "markdown",
   "metadata": {},
   "source": [
    " .str アクセサについては以降の記載を参照。  "
   ]
  },
  {
   "cell_type": "markdown",
   "metadata": {},
   "source": [
    "### pd.Index.isin - リストに含まれるラベルだけ選択したい"
   ]
  },
  {
   "cell_type": "markdown",
   "metadata": {},
   "source": [
    "  \n",
    "たとえば選択したいラベルのリストがあり、そこに含まれるものだけ選択したい場合、  \n",
    "選択候補リストに余計なラベルが含まれていると、\\__getitem\\__ では KeyError になり、ix では NaN (値のない) 列ができてしまう。"
   ]
  },
  {
   "cell_type": "code",
   "execution_count": null,
   "metadata": {
    "ExecuteTime": {
     "end_time": "2017-11-23T16:28:22.987077Z",
     "start_time": "2017-11-23T16:28:22.969274Z"
    },
    "collapsed": true
   },
   "outputs": [],
   "source": [
    "df[['N1', 'N2', 'N4']]"
   ]
  },
  {
   "cell_type": "code",
   "execution_count": null,
   "metadata": {
    "ExecuteTime": {
     "end_time": "2017-11-23T16:28:29.581746Z",
     "start_time": "2017-11-23T16:28:29.571635Z"
    },
    "collapsed": false
   },
   "outputs": [],
   "source": [
    "df.ix[:, ['N1', 'N2', 'N4']]"
   ]
  },
  {
   "cell_type": "markdown",
   "metadata": {},
   "source": [
    "存在する列だけがほしい、NaN の列は不要な場合、pd.Index.isin。"
   ]
  },
  {
   "cell_type": "code",
   "execution_count": null,
   "metadata": {
    "ExecuteTime": {
     "end_time": "2017-11-23T16:30:51.133894Z",
     "start_time": "2017-11-23T16:30:51.128931Z"
    },
    "collapsed": false
   },
   "outputs": [],
   "source": [
    "df.columns.isin(['N1', 'N2', 'N4'])"
   ]
  },
  {
   "cell_type": "code",
   "execution_count": null,
   "metadata": {
    "ExecuteTime": {
     "end_time": "2017-11-23T16:31:23.636395Z",
     "start_time": "2017-11-23T16:31:23.627003Z"
    },
    "collapsed": false
   },
   "outputs": [],
   "source": [
    "df.ix[:, df.columns.isin(['N1', 'N2', 'N4'])]"
   ]
  },
  {
   "cell_type": "markdown",
   "metadata": {},
   "source": [
    "### pd.Index.sort_values - ラベルをソートして選択したい"
   ]
  },
  {
   "cell_type": "markdown",
   "metadata": {},
   "source": [
    "__補足)__ インデックスのソートは .sort_index"
   ]
  },
  {
   "cell_type": "markdown",
   "metadata": {},
   "source": [
    "columns をアルファベット順に並べ替えて、前から3つを取得したければ、"
   ]
  },
  {
   "cell_type": "code",
   "execution_count": null,
   "metadata": {
    "ExecuteTime": {
     "end_time": "2017-11-23T16:53:05.318117Z",
     "start_time": "2017-11-23T16:53:05.313435Z"
    },
    "collapsed": false
   },
   "outputs": [],
   "source": [
    "df.columns.sort_values()"
   ]
  },
  {
   "cell_type": "code",
   "execution_count": null,
   "metadata": {
    "ExecuteTime": {
     "end_time": "2017-11-23T16:54:40.984714Z",
     "start_time": "2017-11-23T16:54:40.979574Z"
    },
    "collapsed": false
   },
   "outputs": [],
   "source": [
    "df.columns.sort_values()[:3]"
   ]
  },
  {
   "cell_type": "code",
   "execution_count": null,
   "metadata": {
    "ExecuteTime": {
     "end_time": "2017-11-23T16:54:52.626124Z",
     "start_time": "2017-11-23T16:54:52.614517Z"
    },
    "collapsed": false
   },
   "outputs": [],
   "source": [
    "df[df.columns.sort_values()[:3]]"
   ]
  },
  {
   "cell_type": "markdown",
   "metadata": {},
   "source": [
    "### DatetimeIndex へのプロパティアクセス - 特定の年, 月, etc... のデータだけ選択したい"
   ]
  },
  {
   "cell_type": "markdown",
   "metadata": {},
   "source": [
    "DatetimeIndex へのプロパティアクセスを使う。  \n",
    "使えるプロパティはこちら。  \n",
    "http://pandas.pydata.org/pandas-docs/version/0.15.1/api.html#time-date-components  \n",
    "\n",
    "index が 2015年の日付になっている行のみ抽出するときは、pd.DatetimeIndex.year で 年のみを含む numpy.array を作って論理演算する。"
   ]
  },
  {
   "cell_type": "code",
   "execution_count": null,
   "metadata": {
    "ExecuteTime": {
     "end_time": "2017-11-23T17:00:31.689047Z",
     "start_time": "2017-11-23T17:00:31.683389Z"
    },
    "collapsed": false
   },
   "outputs": [],
   "source": [
    "df.index.year"
   ]
  },
  {
   "cell_type": "code",
   "execution_count": null,
   "metadata": {
    "ExecuteTime": {
     "end_time": "2017-11-23T17:00:42.993922Z",
     "start_time": "2017-11-23T17:00:42.988688Z"
    },
    "collapsed": false
   },
   "outputs": [],
   "source": [
    "df.index.year == 2015"
   ]
  },
  {
   "cell_type": "code",
   "execution_count": null,
   "metadata": {
    "ExecuteTime": {
     "end_time": "2017-11-23T17:00:46.135332Z",
     "start_time": "2017-11-23T17:00:46.120626Z"
    },
    "collapsed": false
   },
   "outputs": [],
   "source": [
    "df[df.index.year == 2015]"
   ]
  },
  {
   "cell_type": "markdown",
   "metadata": {},
   "source": [
    "### 日時-like な文字列を使った \\__getitem\\__ による選択"
   ]
  },
  {
   "cell_type": "markdown",
   "metadata": {},
   "source": [
    "__補足)__ DatetimeIndex (と PeriodIndex という日時関連の別クラス ) を index に持つ Series, DataFrame では、   \n",
    "例外的に \\__getitem\\__ の引数として日時-like な文字列が使えたる。  \n",
    "詳しくは こちら。  \n",
    "http://pandas.pydata.org/pandas-docs/version/0.15.1/timeseries.html#datetimeindex-partial-string-indexing  \n",
    "そのため、同じ処理は以下のようにも書ける。"
   ]
  },
  {
   "cell_type": "code",
   "execution_count": null,
   "metadata": {
    "ExecuteTime": {
     "end_time": "2017-11-23T17:04:28.463474Z",
     "start_time": "2017-11-23T17:04:28.444095Z"
    },
    "collapsed": false
   },
   "outputs": [],
   "source": [
    "df['2015']"
   ]
  },
  {
   "cell_type": "markdown",
   "metadata": {},
   "source": [
    "## 列, 行の値から特定の条件で選択"
   ]
  },
  {
   "cell_type": "markdown",
   "metadata": {},
   "source": [
    "__補足)__ DataFrame では 実データは列持ち (各列が特定の型のデータを保持している) なので、  \n",
    "ここからの方法では行/列の方向を意識する必要がある。"
   ]
  },
  {
   "cell_type": "markdown",
   "metadata": {},
   "source": [
    "### .dtypes プロパティで特定の型の列のみ取り出す"
   ]
  },
  {
   "cell_type": "markdown",
   "metadata": {},
   "source": [
    "DataFrame.dtypes プロパティで各カラムの型が取得できるので、それらに対して論理演算をかける。"
   ]
  },
  {
   "cell_type": "code",
   "execution_count": null,
   "metadata": {
    "ExecuteTime": {
     "end_time": "2017-11-23T17:25:45.839990Z",
     "start_time": "2017-11-23T17:25:45.834071Z"
    },
    "collapsed": false
   },
   "outputs": [],
   "source": [
    "df.dtypes"
   ]
  },
  {
   "cell_type": "code",
   "execution_count": null,
   "metadata": {
    "ExecuteTime": {
     "end_time": "2017-11-23T17:25:53.402628Z",
     "start_time": "2017-11-23T17:25:53.396423Z"
    },
    "collapsed": false
   },
   "outputs": [],
   "source": [
    "df.dtypes == np.float64"
   ]
  },
  {
   "cell_type": "code",
   "execution_count": null,
   "metadata": {
    "ExecuteTime": {
     "end_time": "2017-11-23T17:25:58.066835Z",
     "start_time": "2017-11-23T17:25:58.056114Z"
    },
    "collapsed": false
   },
   "outputs": [],
   "source": [
    "df.ix[:, df.dtypes == np.float64]"
   ]
  },
  {
   "cell_type": "markdown",
   "metadata": {},
   "source": [
    "### 値が特定の条件を満たす行/列を選択したい"
   ]
  },
  {
   "cell_type": "markdown",
   "metadata": {},
   "source": [
    "たいていは 普通の演算でいける。  \n",
    "\"N1\" カラムの値が偶数の行だけ抽出するには、"
   ]
  },
  {
   "cell_type": "code",
   "execution_count": null,
   "metadata": {
    "ExecuteTime": {
     "end_time": "2017-11-23T17:46:02.467915Z",
     "start_time": "2017-11-23T17:46:02.451972Z"
    },
    "collapsed": false
   },
   "outputs": [],
   "source": [
    "df['N1'] % 2 == 0"
   ]
  },
  {
   "cell_type": "code",
   "execution_count": null,
   "metadata": {
    "ExecuteTime": {
     "end_time": "2017-11-23T17:46:32.371993Z",
     "start_time": "2017-11-23T17:46:32.355639Z"
    },
    "collapsed": false
   },
   "outputs": [],
   "source": [
    "df[df['N1'] % 2 == 0]"
   ]
  },
  {
   "cell_type": "markdown",
   "metadata": {},
   "source": [
    "各列の合計値が 50 を超えるカラムを抽出するには、"
   ]
  },
  {
   "cell_type": "code",
   "execution_count": null,
   "metadata": {
    "ExecuteTime": {
     "end_time": "2017-11-23T17:46:52.744364Z",
     "start_time": "2017-11-23T17:46:52.736540Z"
    },
    "collapsed": false
   },
   "outputs": [],
   "source": [
    "df.sum()"
   ]
  },
  {
   "cell_type": "code",
   "execution_count": null,
   "metadata": {
    "ExecuteTime": {
     "end_time": "2017-11-23T17:47:00.615831Z",
     "start_time": "2017-11-23T17:47:00.607440Z"
    },
    "collapsed": false
   },
   "outputs": [],
   "source": [
    "indexer = df.sum() > 50\n",
    "indexer"
   ]
  },
  {
   "cell_type": "code",
   "execution_count": null,
   "metadata": {
    "ExecuteTime": {
     "end_time": "2017-11-23T17:48:08.651233Z",
     "start_time": "2017-11-23T17:48:08.646575Z"
    },
    "collapsed": false
   },
   "outputs": [],
   "source": [
    "indexer.index[indexer]"
   ]
  },
  {
   "cell_type": "code",
   "execution_count": null,
   "metadata": {
    "ExecuteTime": {
     "end_time": "2017-11-23T17:47:21.487189Z",
     "start_time": "2017-11-23T17:47:21.478639Z"
    },
    "collapsed": false
   },
   "outputs": [],
   "source": [
    "df[indexer.index[indexer]]"
   ]
  },
  {
   "cell_type": "markdown",
   "metadata": {},
   "source": [
    "各行 の値に関数適用して選択したいときは apply。  \n",
    "apply に渡す関数は 行 もしくは 列を Series として受け取って処理できるものでないとダメ。  \n",
    "apply での関数の適用方向は axis オプションで決める。  \n",
    "  \n",
    "・axis=0 : 各列への関数適用  \n",
    "・axis=1 : 各行への関数適用  \n",
    "  \n",
    "\"N1\" カラムと \"N2\" カラムの積が 100 を超える行だけをフィルタする場合、"
   ]
  },
  {
   "cell_type": "code",
   "execution_count": null,
   "metadata": {
    "ExecuteTime": {
     "end_time": "2017-11-23T17:50:21.554531Z",
     "start_time": "2017-11-23T17:50:21.540341Z"
    },
    "collapsed": false
   },
   "outputs": [],
   "source": [
    "df.apply(lambda x: x['N1'] * x['N2'], axis=1)"
   ]
  },
  {
   "cell_type": "code",
   "execution_count": null,
   "metadata": {
    "ExecuteTime": {
     "end_time": "2017-11-23T17:50:31.462719Z",
     "start_time": "2017-11-23T17:50:31.448245Z"
    },
    "collapsed": false
   },
   "outputs": [],
   "source": [
    "df.apply(lambda x: x['N1'] * x['N2'], axis=1) > 100"
   ]
  },
  {
   "cell_type": "code",
   "execution_count": null,
   "metadata": {
    "ExecuteTime": {
     "end_time": "2017-11-23T17:50:42.432685Z",
     "start_time": "2017-11-23T17:50:42.416195Z"
    },
    "collapsed": false
   },
   "outputs": [],
   "source": [
    "df[df.apply(lambda x: x['N1'] * x['N2'], axis=1) > 100]"
   ]
  },
  {
   "cell_type": "markdown",
   "metadata": {},
   "source": [
    "__補足)__ 上ではあえて apply を使ったが、各列同士は直接 要素の積をとれるため別に apply が必須ではない。"
   ]
  },
  {
   "cell_type": "code",
   "execution_count": null,
   "metadata": {
    "ExecuteTime": {
     "end_time": "2017-11-23T17:52:54.326677Z",
     "start_time": "2017-11-23T17:52:54.308761Z"
    },
    "collapsed": false
   },
   "outputs": [],
   "source": [
    "df[df['N1'] * df['N2'] > 100] "
   ]
  },
  {
   "cell_type": "markdown",
   "metadata": {},
   "source": [
    "### リストに含まれる値だけ選択したい"
   ]
  },
  {
   "cell_type": "markdown",
   "metadata": {},
   "source": [
    "index の例と同じ。  \n",
    "Series も isin メソッドを持っているので、\"S1\" カラムの値が \"A\" もしくは \"D\" の列を選択するときは、"
   ]
  },
  {
   "cell_type": "code",
   "execution_count": null,
   "metadata": {
    "ExecuteTime": {
     "end_time": "2017-11-23T17:55:58.181185Z",
     "start_time": "2017-11-23T17:55:58.169020Z"
    },
    "collapsed": false
   },
   "outputs": [],
   "source": [
    "df['S1'].isin(['A', 'D'])"
   ]
  },
  {
   "cell_type": "code",
   "execution_count": null,
   "metadata": {
    "ExecuteTime": {
     "end_time": "2017-11-23T17:56:01.830853Z",
     "start_time": "2017-11-23T17:56:01.816004Z"
    },
    "collapsed": false
   },
   "outputs": [],
   "source": [
    "df[df['S1'].isin(['A', 'D'])]"
   ]
  },
  {
   "cell_type": "markdown",
   "metadata": {},
   "source": [
    "### .sort_values - 値をソートして選択したい"
   ]
  },
  {
   "cell_type": "markdown",
   "metadata": {},
   "source": [
    "ソート順序の変更など、オプションの詳細はこちら。  \n",
    "http://pandas.pydata.org/pandas-docs/version/0.15.1/generated/pandas.DataFrame.sort.html#pandas.DataFrame.sort  \n",
    "\n",
    "\"N2\" カラムの値が大きいものを 上から順に 3行分 取得するには、ソートして 行番号でスライスすればよい。"
   ]
  },
  {
   "cell_type": "code",
   "execution_count": null,
   "metadata": {
    "ExecuteTime": {
     "end_time": "2017-11-23T17:57:45.048860Z",
     "start_time": "2017-11-23T17:57:45.033880Z"
    },
    "collapsed": false
   },
   "outputs": [],
   "source": [
    "df.sort_values('N2', ascending=False)[:3]"
   ]
  },
  {
   "cell_type": "markdown",
   "metadata": {},
   "source": [
    "### .dt アクセサ - 特定の年, 月, etc... のデータだけ選択したい"
   ]
  },
  {
   "cell_type": "markdown",
   "metadata": {},
   "source": [
    "日時型のカラムに対しては、dt アクセサを利用して日時型の各プロパティにアクセスできる。  \n",
    "使えるプロパティはこちら。  \n",
    "http://pandas.pydata.org/pandas-docs/version/0.15.1/api.html#datetimelike-properties  \n",
    "\n",
    "\"D1\" カラムの日付が 2日, 3日, 5日の行だけ取得したければ、dt アクセサ + isin で、"
   ]
  },
  {
   "cell_type": "code",
   "execution_count": null,
   "metadata": {
    "ExecuteTime": {
     "end_time": "2017-11-23T18:03:38.025498Z",
     "start_time": "2017-11-23T18:03:38.013549Z"
    },
    "collapsed": false
   },
   "outputs": [],
   "source": [
    "df['D1']"
   ]
  },
  {
   "cell_type": "code",
   "execution_count": null,
   "metadata": {
    "ExecuteTime": {
     "end_time": "2017-11-23T18:04:00.172448Z",
     "start_time": "2017-11-23T18:04:00.159656Z"
    },
    "collapsed": false
   },
   "outputs": [],
   "source": [
    "df['D1'].dt.day"
   ]
  },
  {
   "cell_type": "code",
   "execution_count": null,
   "metadata": {
    "ExecuteTime": {
     "end_time": "2017-11-23T18:04:04.890962Z",
     "start_time": "2017-11-23T18:04:04.877174Z"
    },
    "collapsed": false
   },
   "outputs": [],
   "source": [
    "df['D1'].dt.day.isin([2, 3, 5])"
   ]
  },
  {
   "cell_type": "code",
   "execution_count": null,
   "metadata": {
    "ExecuteTime": {
     "end_time": "2017-11-23T18:04:09.059821Z",
     "start_time": "2017-11-23T18:04:09.044089Z"
    },
    "collapsed": false
   },
   "outputs": [],
   "source": [
    "df[df['D1'].dt.day.isin([2, 3, 5])]"
   ]
  },
  {
   "cell_type": "markdown",
   "metadata": {},
   "source": [
    "__補足)__ Python pandas アクセサ / Grouperで少し高度なグルーピング/集計 - StatsFragments  \n",
    "http://sinhrks.hatenablog.com/entry/2014/10/30/233606"
   ]
  },
  {
   "cell_type": "markdown",
   "metadata": {},
   "source": [
    "### .str アクセサ - Python組み込みの文字列関数を使ってデータ選択"
   ]
  },
  {
   "cell_type": "markdown",
   "metadata": {},
   "source": [
    "object型のカラムに対しては、str アクセサを利用して、Python 組み込みの 文字列関数を実行した結果を Series として取得できる。  \n",
    "使えるメソッドはこちら。  \n",
    "https://docs.python.org/3/library/stdtypes.html?highlight=string%20methods#string-methods  \n",
    " \n",
    "したがって、文字列関数を実行するだけならわざわざ apply を使わなくても済む。  \n",
    "  \n",
    "str.islower を使って値が小文字の列を選択してみる。"
   ]
  },
  {
   "cell_type": "code",
   "execution_count": null,
   "metadata": {
    "ExecuteTime": {
     "end_time": "2017-11-23T18:12:01.304561Z",
     "start_time": "2017-11-23T18:12:01.290017Z"
    },
    "collapsed": false
   },
   "outputs": [],
   "source": [
    "df[df['S1'].str.islower()] "
   ]
  },
  {
   "cell_type": "markdown",
   "metadata": {},
   "source": [
    "## .drop_duplicates - 値が重複したデータを削除 "
   ]
  },
  {
   "cell_type": "markdown",
   "metadata": {},
   "source": [
    "http://pandas.pydata.org/pandas-docs/version/0.19.2/generated/pandas.DataFrame.drop_duplicates.html?highlight=drop_duplicate"
   ]
  },
  {
   "cell_type": "markdown",
   "metadata": {},
   "source": [
    "__DataFrame.drop_duplicates(\\*args, \\**kwargs)__  \n",
    "  \n",
    "Return DataFrame with duplicate rows removed, optionally only considering certain columns  \n",
    "    \n",
    "__Parameters:__\t \n",
    "\n",
    "    subset : column label or sequence of labels, optional\n",
    "        Only consider certain columns for identifying duplicates, by default use all of the columns\n",
    "\n",
    "    keep : {‘first’, ‘last’, False}, default ‘first’\n",
    "        first : Drop duplicates except for the first occurrence.\n",
    "        last : Drop duplicates except for the last occurrence.\n",
    "        False : Drop all duplicates.\n",
    "\n",
    "    take_last : deprecated\n",
    "\n",
    "    inplace : boolean, default False\n",
    "        Whether to drop duplicates in place or to return a copy\n",
    "\n",
    "__Returns:__\t\n",
    "\n",
    "    deduplicated : DataFrame"
   ]
  },
  {
   "cell_type": "markdown",
   "metadata": {},
   "source": [
    "## .dropna - 欠損値 ( NaN ) のデータを削除"
   ]
  },
  {
   "cell_type": "markdown",
   "metadata": {},
   "source": [
    "http://pandas.pydata.org/pandas-docs/version/0.19.2/generated/pandas.DataFrame.dropna.html?highlight=dropna#pandas.DataFrame.dropna"
   ]
  },
  {
   "cell_type": "markdown",
   "metadata": {},
   "source": [
    "__DataFrame.dropna(axis=0, how='any', thresh=None, subset=None, inplace=False)__  \n",
    "  \n",
    "Return object with labels on given axis omitted where alternately any or all of the data are missing\n",
    "  \n",
    "__Parameters:__\t\n",
    "\n",
    "    axis : {0 or ‘index’, 1 or ‘columns’}, or tuple/list thereof\n",
    "        Pass tuple or list to drop on multiple axes\n",
    "\n",
    "    how : {‘any’, ‘all’}\n",
    "            any : if any NA values are present, drop that label\n",
    "            all : if all values are NA, drop that label\n",
    "\n",
    "    thresh : int, default None\n",
    "        int value : require that many non-NA values\n",
    "\n",
    "    subset : array-like\n",
    "        Labels along other axis to consider, e.g. if you are dropping rows these would be a list of columns to include\n",
    "\n",
    "    inplace : boolean, default False\n",
    "        If True, do operation inplace and return None.\n",
    "\n",
    "__Returns:__\t\n",
    "\n",
    "    dropped : DataFrame"
   ]
  },
  {
   "cell_type": "markdown",
   "metadata": {},
   "source": [
    "## .fillna - 欠損値 ( NaN ) のデータを埋める"
   ]
  },
  {
   "cell_type": "markdown",
   "metadata": {},
   "source": [
    "http://pandas.pydata.org/pandas-docs/version/0.19.2/generated/pandas.DataFrame.fillna.html?highlight=fillna#pandas.DataFrame.fillna"
   ]
  },
  {
   "cell_type": "markdown",
   "metadata": {},
   "source": [
    "# その他のデータ選択方法 - StatsFragments"
   ]
  },
  {
   "cell_type": "markdown",
   "metadata": {},
   "source": [
    "http://sinhrks.hatenablog.com/entry/2014/11/18/003204"
   ]
  },
  {
   "cell_type": "markdown",
   "metadata": {},
   "source": [
    "## サンプルデータの準備"
   ]
  },
  {
   "cell_type": "code",
   "execution_count": null,
   "metadata": {
    "ExecuteTime": {
     "end_time": "2017-11-24T09:53:57.861273Z",
     "start_time": "2017-11-24T09:53:57.846936Z"
    },
    "collapsed": false
   },
   "outputs": [],
   "source": [
    "s1 = pd.Series([1, 2, 3], index = ['I1', 'I2', 'I3'])\n",
    "s1"
   ]
  },
  {
   "cell_type": "code",
   "execution_count": null,
   "metadata": {
    "ExecuteTime": {
     "end_time": "2017-11-24T09:54:39.316411Z",
     "start_time": "2017-11-24T09:54:39.305234Z"
    },
    "collapsed": false
   },
   "outputs": [],
   "source": [
    "df1 = pd.DataFrame({'C1': [11, 21, 31],\n",
    "                    'C2': [12, 22, 32],\n",
    "                    'C3': [13, 23, 33]},\n",
    "                   index = ['I1', 'I2', 'I3'])\n",
    "df1"
   ]
  },
  {
   "cell_type": "markdown",
   "metadata": {},
   "source": [
    "## .where - データ選択後、元データと同じ長さの戻り値が得られる"
   ]
  },
  {
   "cell_type": "markdown",
   "metadata": {},
   "source": [
    "Series から \\__getitem\\__ する方法では、条件に該当する要素のみが返ってくる。"
   ]
  },
  {
   "cell_type": "code",
   "execution_count": null,
   "metadata": {
    "ExecuteTime": {
     "end_time": "2017-11-24T10:01:06.777331Z",
     "start_time": "2017-11-24T10:01:06.770806Z"
    },
    "collapsed": false
   },
   "outputs": [],
   "source": [
    "s1[s1 > 2]"
   ]
  },
  {
   "cell_type": "markdown",
   "metadata": {},
   "source": [
    "元データと同じ長さのデータがほしい場合、  \n",
    "__Series.where__ を使うと、条件に該当しないラベルは NaN でパディングし、元データと同じ長さの結果を返してくれる。  \n",
    "where の引数はデータと同じ長さの bool 型の numpy.array もしくは Series である必要がある。  \n",
    "(Series への論理演算では長さは変わらないので、以下のような使い方なら特別 意識する必要はない)"
   ]
  },
  {
   "cell_type": "code",
   "execution_count": null,
   "metadata": {
    "ExecuteTime": {
     "end_time": "2017-11-24T10:02:39.658267Z",
     "start_time": "2017-11-24T10:02:39.651170Z"
    },
    "collapsed": false
   },
   "outputs": [],
   "source": [
    "s1.where(s1 > 2)"
   ]
  },
  {
   "cell_type": "markdown",
   "metadata": {},
   "source": [
    "NaN 以外でパディングしたい場合、第二引数にパディングに使う値を渡す。"
   ]
  },
  {
   "cell_type": "code",
   "execution_count": null,
   "metadata": {
    "ExecuteTime": {
     "end_time": "2017-11-24T10:07:58.193100Z",
     "start_time": "2017-11-24T10:07:58.186664Z"
    },
    "collapsed": false
   },
   "outputs": [],
   "source": [
    "# NaN ではなく 0 でパディング\n",
    "s1.where(s1 > 2, 0)"
   ]
  },
  {
   "cell_type": "markdown",
   "metadata": {},
   "source": [
    "第二引数にはデータと同じ長さの numpy.array や Series も渡せる。  \n",
    "この場合、パディングはそれぞれ対応する位置にある値で行われ、第一引数の条件に該当しないデータを第二引数で置換される。  \n",
    "つまり if - else のような動作だと考えていい。"
   ]
  },
  {
   "cell_type": "code",
   "execution_count": null,
   "metadata": {
    "ExecuteTime": {
     "end_time": "2017-11-24T10:08:55.232402Z",
     "start_time": "2017-11-24T10:08:55.225262Z"
    },
    "collapsed": false
   },
   "outputs": [],
   "source": [
    "# 第一引数の条件に該当しない s1 の 1, 2番目の要素が array の 1, 2 番目の要素で置換される\n",
    "s1.where(s1 > 2, np.array([4, 5, 6]))"
   ]
  },
  {
   "cell_type": "code",
   "execution_count": null,
   "metadata": {
    "ExecuteTime": {
     "end_time": "2017-11-24T10:10:46.045572Z",
     "start_time": "2017-11-24T10:10:46.039326Z"
    },
    "collapsed": false
   },
   "outputs": [],
   "source": [
    "# 置換用の Series を作る\n",
    "s2 = pd.Series([4, 5, 6], index = ['I1', 'I2', 'I3'])\n",
    "s2"
   ]
  },
  {
   "cell_type": "code",
   "execution_count": null,
   "metadata": {
    "ExecuteTime": {
     "end_time": "2017-11-24T10:10:56.243186Z",
     "start_time": "2017-11-24T10:10:56.236488Z"
    },
    "collapsed": false
   },
   "outputs": [],
   "source": [
    "# 第一引数の条件に該当しない s1 の 1, 2番目の要素が Series s2 の 1, 2 番目の要素で置換される\n",
    "s1.where(s1 > 2, s2)"
   ]
  },
  {
   "cell_type": "markdown",
   "metadata": {},
   "source": [
    "DataFrame でも同様。"
   ]
  },
  {
   "cell_type": "code",
   "execution_count": null,
   "metadata": {
    "ExecuteTime": {
     "end_time": "2017-11-24T10:11:35.706650Z",
     "start_time": "2017-11-24T10:11:35.695030Z"
    },
    "collapsed": false
   },
   "outputs": [],
   "source": [
    "df1.where(df1 > 22)"
   ]
  },
  {
   "cell_type": "code",
   "execution_count": null,
   "metadata": {
    "ExecuteTime": {
     "end_time": "2017-11-24T10:11:47.079310Z",
     "start_time": "2017-11-24T10:11:47.068978Z"
    },
    "collapsed": false
   },
   "outputs": [],
   "source": [
    "# 0 でパディング\n",
    "df1.where(df1 > 22, 0)"
   ]
  },
  {
   "cell_type": "code",
   "execution_count": null,
   "metadata": {
    "ExecuteTime": {
     "end_time": "2017-11-24T10:11:51.360156Z",
     "start_time": "2017-11-24T10:11:51.349236Z"
    },
    "collapsed": false
   },
   "outputs": [],
   "source": [
    "# 置換用の DataFrame を作る\n",
    "df2 = pd.DataFrame({'C1': [44, 54, 64],\n",
    "                    'C2': [45, 55, 65],\n",
    "                    'C3': [46, 56, 66]},\n",
    "                   index = ['I1', 'I2', 'I3'])\n",
    "df2"
   ]
  },
  {
   "cell_type": "code",
   "execution_count": null,
   "metadata": {
    "ExecuteTime": {
     "end_time": "2017-11-24T10:11:54.711671Z",
     "start_time": "2017-11-24T10:11:54.700544Z"
    },
    "collapsed": false
   },
   "outputs": [],
   "source": [
    "# df1 のうち、22以下の値を df2 の値で置換\n",
    "df1.where(df1 > 22, df2)"
   ]
  },
  {
   "cell_type": "markdown",
   "metadata": {},
   "source": [
    "where がことさら便利なのは以下のようなケース。  \n",
    "・DataFrame に新しいカラムを作りたい。 (あるいは既存の列の値を置き換えたい)  \n",
    "・新しいカラムは、\"C2\" 列の値が 30を超える場合は \"C1\" 列の値を使う。  \n",
    "・それ以外は \"C3\" 列の値を使う。  \n",
    "\n",
    "これが一行で書ける。"
   ]
  },
  {
   "cell_type": "code",
   "execution_count": null,
   "metadata": {
    "ExecuteTime": {
     "end_time": "2017-11-24T10:14:13.090423Z",
     "start_time": "2017-11-24T10:14:13.079092Z"
    },
    "collapsed": false
   },
   "outputs": [],
   "source": [
    "df1['C4'] = df1['C1'].where(df1['C2'] > 30, df1['C3'])\n",
    "df1"
   ]
  },
  {
   "cell_type": "markdown",
   "metadata": {},
   "source": [
    "## .mask - where の逆。第一引数の条件に該当するセルをマスクする。"
   ]
  },
  {
   "cell_type": "code",
   "execution_count": null,
   "metadata": {
    "ExecuteTime": {
     "end_time": "2017-11-24T10:26:19.623433Z",
     "start_time": "2017-11-24T10:26:19.610698Z"
    },
    "collapsed": false
   },
   "outputs": [],
   "source": [
    "df1.mask(df1 > 22)"
   ]
  },
  {
   "cell_type": "code",
   "execution_count": null,
   "metadata": {
    "ExecuteTime": {
     "end_time": "2017-11-24T10:26:24.428424Z",
     "start_time": "2017-11-24T10:26:24.417766Z"
    },
    "collapsed": false
   },
   "outputs": [],
   "source": [
    "df1.mask(df1 > 22, 0)"
   ]
  },
  {
   "cell_type": "markdown",
   "metadata": {},
   "source": [
    "## .query - 複数の条件式の組み合わせによるデータ選択をシンプルな記述で"
   ]
  },
  {
   "cell_type": "markdown",
   "metadata": {},
   "source": [
    "\\__getitem\\__ と同じ操作がよりシンプル な表現で書ける。  \n",
    "\n",
    "__注)__ query を使うには numexpr パッケージが必要なので、入っていなければ pip install numexpr"
   ]
  },
  {
   "cell_type": "markdown",
   "metadata": {},
   "source": [
    "### サンプルデータの準備"
   ]
  },
  {
   "cell_type": "code",
   "execution_count": null,
   "metadata": {
    "ExecuteTime": {
     "end_time": "2017-11-24T10:32:45.679065Z",
     "start_time": "2017-11-24T10:32:45.668341Z"
    },
    "collapsed": false
   },
   "outputs": [],
   "source": [
    "df1 = pd.DataFrame({'C1': [11, 21, 31],\n",
    "                    'C2': [12, 22, 32],\n",
    "                    'C3': [13, 23, 33]},\n",
    "                   index = ['I1', 'I2', 'I3'])\n",
    "df1"
   ]
  },
  {
   "cell_type": "markdown",
   "metadata": {},
   "source": [
    "### .query の利用  "
   ]
  },
  {
   "cell_type": "markdown",
   "metadata": {},
   "source": [
    "\\__getitem\\__ を利用したデータ選択では、論理演算の組み合わせで bool の Series を作る必要がある。  \n",
    "そのため、[] 内で元データへの参照 ( 下の例では df1 )を繰り返し記述しなければならず、  \n",
    "複数条件の組み合わせの際は演算順序の都合上 () を記述したりと式が複雑でわかりにくくなる。"
   ]
  },
  {
   "cell_type": "code",
   "execution_count": null,
   "metadata": {
    "ExecuteTime": {
     "end_time": "2017-11-24T10:37:59.768735Z",
     "start_time": "2017-11-24T10:37:59.759341Z"
    },
    "collapsed": false
   },
   "outputs": [],
   "source": [
    "df1[df1['C1'] > 20]"
   ]
  },
  {
   "cell_type": "code",
   "execution_count": null,
   "metadata": {
    "ExecuteTime": {
     "end_time": "2017-11-24T10:38:03.092718Z",
     "start_time": "2017-11-24T10:38:03.083841Z"
    },
    "collapsed": false
   },
   "outputs": [],
   "source": [
    "df1[df1['C2'] < 30]"
   ]
  },
  {
   "cell_type": "code",
   "execution_count": null,
   "metadata": {
    "ExecuteTime": {
     "end_time": "2017-11-24T10:38:25.554951Z",
     "start_time": "2017-11-24T10:38:25.545713Z"
    },
    "collapsed": false
   },
   "outputs": [],
   "source": [
    "df1[(df1['C1'] > 20) & (df1['C2'] < 30)]"
   ]
  },
  {
   "cell_type": "markdown",
   "metadata": {},
   "source": [
    "同じ処理は __.query__ を使うとすっきり書ける。  \n",
    "query の引数にはデータ選択に使う条件式を文字列で渡す。  \n",
    "この式が評価される名前空間 (= query 名前空間) の中では、query を呼び出したデータの列名が あたかも変数のように参照できる。"
   ]
  },
  {
   "cell_type": "code",
   "execution_count": null,
   "metadata": {
    "ExecuteTime": {
     "end_time": "2017-11-24T10:40:43.381280Z",
     "start_time": "2017-11-24T10:40:43.362524Z"
    },
    "collapsed": false
   },
   "outputs": [],
   "source": [
    "df1.query('C1 > 20 & C2 < 30')"
   ]
  },
  {
   "cell_type": "markdown",
   "metadata": {},
   "source": [
    "ただし、query 名前空間の中で使える表現は限られるので注意。  \n",
    "例えば以下のような メソッド呼び出しはできない。"
   ]
  },
  {
   "cell_type": "code",
   "execution_count": null,
   "metadata": {
    "ExecuteTime": {
     "end_time": "2017-11-24T10:41:25.168070Z",
     "start_time": "2017-11-24T10:41:24.931117Z"
    },
    "collapsed": true
   },
   "outputs": [],
   "source": [
    "# NG!\n",
    "df1.query('C1.isin([11, 21])')\n",
    "# TypeError: NotImplementedError: 'Call' nodes are not implemented\n",
    "# TypeError: 'Series' objects are mutable, thus they cannot be hashed"
   ]
  },
  {
   "cell_type": "markdown",
   "metadata": {},
   "source": [
    "同じ処理を行う場合は in 演算子を使う。"
   ]
  },
  {
   "cell_type": "code",
   "execution_count": null,
   "metadata": {
    "ExecuteTime": {
     "end_time": "2017-11-24T10:43:12.008716Z",
     "start_time": "2017-11-24T10:43:11.998135Z"
    },
    "collapsed": false
   },
   "outputs": [],
   "source": [
    "# in を使えば OK\n",
    "df1.query('C1 in [11, 21]')"
   ]
  },
  {
   "cell_type": "markdown",
   "metadata": {},
   "source": [
    "また、numexpr で利用できる関数も query 名前空間上で呼び出せるようになった模様。"
   ]
  },
  {
   "cell_type": "code",
   "execution_count": null,
   "metadata": {
    "ExecuteTime": {
     "end_time": "2017-11-24T10:44:28.396561Z",
     "start_time": "2017-11-24T10:44:28.385146Z"
    },
    "collapsed": false
   },
   "outputs": [],
   "source": [
    "df1.query('C1 > sqrt(400)')"
   ]
  },
  {
   "cell_type": "markdown",
   "metadata": {},
   "source": [
    "上記のように query に渡す式表現に論理表現以外を含めることができなかった当時のテクニックとして、  \n",
    "条件によって式表現を変えたい場合などは、  \n",
    "式表現を都度文字列として連結 + 生成するか、  \n",
    "ローカル変数に計算結果を入れて式表現に渡す方法もある。\n",
    "\n",
    "ローカル変数を式表現中に含める際は、変数名を @ ではじめる。"
   ]
  },
  {
   "cell_type": "code",
   "execution_count": null,
   "metadata": {
    "ExecuteTime": {
     "end_time": "2017-11-24T10:58:50.543700Z",
     "start_time": "2017-11-24T10:58:50.540990Z"
    },
    "collapsed": true
   },
   "outputs": [],
   "source": [
    "x = 20"
   ]
  },
  {
   "cell_type": "code",
   "execution_count": null,
   "metadata": {
    "ExecuteTime": {
     "end_time": "2017-11-24T10:58:58.554227Z",
     "start_time": "2017-11-24T10:58:58.513732Z"
    },
    "collapsed": true
   },
   "outputs": [],
   "source": [
    "# NG!\n",
    "df1.query('C1 > x')\n",
    "# UndefinedVariableError: name 'x' is not defined"
   ]
  },
  {
   "cell_type": "code",
   "execution_count": null,
   "metadata": {
    "ExecuteTime": {
     "end_time": "2017-11-24T10:59:35.461413Z",
     "start_time": "2017-11-24T10:59:35.450640Z"
    },
    "collapsed": false
   },
   "outputs": [],
   "source": [
    "# OK!\n",
    "df1.query('C1 > @x')"
   ]
  },
  {
   "cell_type": "markdown",
   "metadata": {},
   "source": [
    "query 名前空間上で index の値を参照する場合は、式表現中で index と指定する。"
   ]
  },
  {
   "cell_type": "code",
   "execution_count": null,
   "metadata": {
    "ExecuteTime": {
     "end_time": "2017-11-24T11:00:01.187314Z",
     "start_time": "2017-11-24T11:00:01.176858Z"
    },
    "collapsed": false
   },
   "outputs": [],
   "source": [
    "df1.query('index in [\"I1\", \"I2\"]')"
   ]
  },
  {
   "cell_type": "markdown",
   "metadata": {},
   "source": [
    "index が列名と重複した場合は 列名が優先。"
   ]
  },
  {
   "cell_type": "code",
   "execution_count": null,
   "metadata": {
    "ExecuteTime": {
     "end_time": "2017-11-24T11:01:25.119485Z",
     "start_time": "2017-11-24T11:01:25.111181Z"
    },
    "collapsed": false
   },
   "outputs": [],
   "source": [
    "df_idx = pd.DataFrame({'index': [1, 2, 3]}, index=[3, 2, 1])\n",
    "df_idx"
   ]
  },
  {
   "cell_type": "code",
   "execution_count": null,
   "metadata": {
    "ExecuteTime": {
     "end_time": "2017-11-24T11:01:35.620660Z",
     "start_time": "2017-11-24T11:01:35.611342Z"
    },
    "collapsed": false
   },
   "outputs": [],
   "source": [
    "df_idx.query('index >= 2')"
   ]
  },
  {
   "cell_type": "markdown",
   "metadata": {},
   "source": [
    "# My Case Studies"
   ]
  },
  {
   "cell_type": "markdown",
   "metadata": {},
   "source": [
    "## 数値のみであるべき列に文字列が混入している場合の特定と置換"
   ]
  },
  {
   "cell_type": "code",
   "execution_count": null,
   "metadata": {
    "collapsed": true
   },
   "outputs": [],
   "source": [
    "# この方法でも可能だが、正しい使用法ではないらしく警告が出る\n",
    "kessan_table_15[kessan_table_15['希薄化後一株当り純利益'].str.contains('([^0-9.]*)', na=False)]"
   ]
  },
  {
   "cell_type": "code",
   "execution_count": null,
   "metadata": {
    "collapsed": true
   },
   "outputs": [],
   "source": [
    "kessan_table_15[kessan_table_15['希薄化後一株当り純利益'].apply(lambda x: type(x) is str)]"
   ]
  },
  {
   "cell_type": "code",
   "execution_count": null,
   "metadata": {
    "collapsed": true
   },
   "outputs": [],
   "source": [
    "# __getitem__ による指定を行うと警告がでるので .loc を使う\n",
    "kessan_table_15.loc[kessan_table_15['希薄化後一株当り純利益'].apply(lambda x: type(x) is str), '希薄化後一株当り純利益'] = np.nan"
   ]
  },
  {
   "cell_type": "markdown",
   "metadata": {},
   "source": [
    "## 文字列で表現された数値(小数点も含む)以外の文字列の要素を取り出し"
   ]
  },
  {
   "cell_type": "markdown",
   "metadata": {},
   "source": [
    "object 型のシリーズにしか使えない。  \n",
    "object 型のシリーズに含まれる float 型の要素は NaN が返る。"
   ]
  },
  {
   "cell_type": "code",
   "execution_count": null,
   "metadata": {
    "ExecuteTime": {
     "end_time": "2017-11-25T01:10:21.285132Z",
     "start_time": "2017-11-25T01:10:21.272628Z"
    },
    "collapsed": false
   },
   "outputs": [],
   "source": [
    "df = pd.DataFrame({'C1': [11, 21, 31, 41],\n",
    "                    'C2': [12.0, 22.0, 32.0, 42],\n",
    "                    'C3': [np.nan, '-', '33', 44]},\n",
    "                   index = ['i1', 'i2', 'i3', 'i4'])\n",
    "df"
   ]
  },
  {
   "cell_type": "code",
   "execution_count": null,
   "metadata": {
    "ExecuteTime": {
     "end_time": "2017-11-25T01:10:25.903336Z",
     "start_time": "2017-11-25T01:10:25.894866Z"
    },
    "collapsed": false
   },
   "outputs": [],
   "source": [
    "df['C3'].str.extract('([^0-9.]*)', expand=True)"
   ]
  },
  {
   "cell_type": "markdown",
   "metadata": {},
   "source": [
    "## 文字列で表現された数値が小数点を含む場合"
   ]
  },
  {
   "cell_type": "code",
   "execution_count": null,
   "metadata": {
    "collapsed": true
   },
   "outputs": [],
   "source": [
    "# '－'  を NaN に置換\n",
    "# .str を2回も使わないといけないのはなんだか。。。\n",
    "tables[27].loc[~tables[27]['１株純資産'].str.replace('.', '').str.isnumeric(), '１株純資産'] = np.nan\n",
    "tables[27].loc[~tables[27]['有利子負債倍率'].str.replace('.', '').str.isnumeric(), '有利子負債倍率'] = np.nan"
   ]
  },
  {
   "cell_type": "markdown",
   "metadata": {},
   "source": [
    "## その他"
   ]
  },
  {
   "cell_type": "code",
   "execution_count": null,
   "metadata": {
    "collapsed": true
   },
   "outputs": [],
   "source": [
    "# all_stock_tableにあってdomestic_stock_tableにない'code'を持つ行を抽出\n",
    "all_stock_table[~all_stock_table['code'].isin(domestic_stock_table['code'])]"
   ]
  },
  {
   "cell_type": "code",
   "execution_count": null,
   "metadata": {
    "collapsed": true
   },
   "outputs": [],
   "source": [
    "# marketの種別で集計\n",
    "all_stock_table.groupby('market').count()"
   ]
  },
  {
   "cell_type": "code",
   "execution_count": null,
   "metadata": {
    "collapsed": true
   },
   "outputs": [],
   "source": [
    "# 指定した値をNaNに置換、NaNはfloat型\n",
    "all_stock_table.replace('-', np.NaN)"
   ]
  },
  {
   "cell_type": "code",
   "execution_count": null,
   "metadata": {
    "collapsed": true
   },
   "outputs": [],
   "source": [
    "result.columns = ['Date', 'Open', 'High', 'Low', 'Close', 'Volume', 'AdjClose'] # 列名を変更"
   ]
  },
  {
   "cell_type": "code",
   "execution_count": null,
   "metadata": {
    "collapsed": true
   },
   "outputs": [],
   "source": [
    " # 列単位で個別に名称を変更する場合\n",
    "all_stock_table = all_stock_table.rename(columns={'市場・商品区分': 'market'})"
   ]
  },
  {
   "cell_type": "code",
   "execution_count": null,
   "metadata": {
    "collapsed": true
   },
   "outputs": [],
   "source": [
    "# marketの値を指定して選択\n",
    "len(all_stock_table.query(\"market == '市場第一部（内国株）' | market == '市場第二部（内国株）'\"))"
   ]
  },
  {
   "cell_type": "code",
   "execution_count": null,
   "metadata": {
    "collapsed": true
   },
   "outputs": [],
   "source": [
    "# 'Date'列をインデックスに指定してCSVの読み込み、インデックスをdatetime型に変換\n",
    "df_quote = pd.read_csv('/Users/Really/Stockyard/_csv/t_1758.csv', index_col='Date')\n",
    "df_quote.index = pd.to_datetime(df_quote.index)\n",
    "df_quote"
   ]
  },
  {
   "cell_type": "code",
   "execution_count": null,
   "metadata": {
    "collapsed": true
   },
   "outputs": [],
   "source": [
    "df_quote.dtypes"
   ]
  },
  {
   "cell_type": "code",
   "execution_count": null,
   "metadata": {
    "collapsed": true
   },
   "outputs": [],
   "source": [
    "df_quote.index"
   ]
  },
  {
   "cell_type": "code",
   "execution_count": null,
   "metadata": {
    "collapsed": true
   },
   "outputs": [],
   "source": [
    "# datetime型インデックスの作成例\n",
    "dtidx = pd.date_range('2000-01-01', '2017-12-01', freq='B') # freq='B'はBusiness Day\n",
    "dtidx"
   ]
  },
  {
   "cell_type": "code",
   "execution_count": null,
   "metadata": {
    "collapsed": true
   },
   "outputs": [],
   "source": [
    "# 他のdatetime型インデックスにデータをあてはめる\n",
    "quote_bd = pd.DataFrame(df_quote, index=pd.date_range(df_quote.index[0], df_quote.index[-1], freq='B'))\n",
    "quote_bd"
   ]
  },
  {
   "cell_type": "code",
   "execution_count": null,
   "metadata": {
    "collapsed": true
   },
   "outputs": [],
   "source": [
    "df['発表日'].apply(lambda x: parse(x, yearfirst=True).date())"
   ]
  },
  {
   "cell_type": "code",
   "execution_count": null,
   "metadata": {
    "collapsed": true
   },
   "outputs": [],
   "source": [
    "df['決算期'].apply(lambda x: datetime.strptime(x, '%Y.%m').date())"
   ]
  },
  {
   "cell_type": "code",
   "execution_count": null,
   "metadata": {
    "collapsed": true
   },
   "outputs": [],
   "source": [
    "tables[11].isnull()"
   ]
  },
  {
   "cell_type": "code",
   "execution_count": null,
   "metadata": {
    "collapsed": true
   },
   "outputs": [],
   "source": [
    "tables[11].isnull().any()"
   ]
  },
  {
   "cell_type": "code",
   "execution_count": null,
   "metadata": {
    "collapsed": true
   },
   "outputs": [],
   "source": [
    "# null が存在する行を取り除いて価格データとする 参考 https://qiita.com/u1and0/items/fd2780813b690a40c197\n",
    "result = tmp_price[~tmp_price.isnull().any(axis=1)].astype(float).astype(int) # この場合、\"~\"は \"== False\" とするのと同じこと"
   ]
  },
  {
   "cell_type": "code",
   "execution_count": null,
   "metadata": {
    "collapsed": true
   },
   "outputs": [],
   "source": [
    "# 価格と価格以外の情報を分離\n",
    "tmp_info = tmp_price[tmp_price.isnull().any(axis=1)].reset_index()"
   ]
  },
  {
   "cell_type": "code",
   "execution_count": null,
   "metadata": {
    "collapsed": true
   },
   "outputs": [],
   "source": [
    "# 全ての列項目がnullの行を排除\n",
    "tables[11][~tables[11].isnull().all(axis=1)]"
   ]
  },
  {
   "cell_type": "code",
   "execution_count": null,
   "metadata": {
    "collapsed": true
   },
   "outputs": [],
   "source": [
    "# リスト内包表記。pandasではなくリストの話\n",
    "csv_table = [i for i in csv_table if re.search(r't_\\d*.csv', x)]"
   ]
  },
  {
   "cell_type": "code",
   "execution_count": null,
   "metadata": {
    "collapsed": true
   },
   "outputs": [],
   "source": [
    "# str アクセサ\n",
    "[tables[11]['決算期'].str.contains('前期比')]"
   ]
  },
  {
   "cell_type": "code",
   "execution_count": null,
   "metadata": {
    "collapsed": true
   },
   "outputs": [],
   "source": [
    "# 複数条件による判定\n",
    "# https://qiita.com/HirofumiYashima/items/fa76119d29bcb6e0bae7\n",
    "# この場合、\"|\"ではなく\"or\"を使うとなぜかうまくいかない\n",
    "tables[11][~((tables[11]['決算期'].str.contains('予')) | (tables[11]['決算期'].str.contains('前期比')))]"
   ]
  },
  {
   "cell_type": "code",
   "execution_count": null,
   "metadata": {
    "collapsed": true
   },
   "outputs": [],
   "source": [
    "# 行の要素を分割、元の列と新しく追加する列にそれぞれ代入\n",
    "df[['会計基準', '決算期']] = pd.DataFrame(list(df['決算期'].str.split(' ')))"
   ]
  },
  {
   "cell_type": "code",
   "execution_count": null,
   "metadata": {
    "collapsed": true
   },
   "outputs": [],
   "source": [
    "# インデックスを振り直す\n",
    "tables[11].reset_index(drop=True)"
   ]
  },
  {
   "cell_type": "code",
   "execution_count": null,
   "metadata": {
    "collapsed": true
   },
   "outputs": [],
   "source": [
    "# 列の並べ替えは列名のリストで\n",
    "df = df[['会計基準', '決算期', '売上高', '営業益', '経常益', '最終益', '１株益', '１株配', '発表日']]"
   ]
  },
  {
   "cell_type": "code",
   "execution_count": null,
   "metadata": {
    "collapsed": true
   },
   "outputs": [],
   "source": [
    "# 列ごとに関数適用\n",
    "# applyは遅いという話もあるので要検討。 http://sinhrks.hatenablog.com/entry/2015/07/11/223124\n",
    "df[['売上高', '営業益', '経常益', '最終益']] = df[['売上高', '営業益', '経常益', '最終益']].apply(lambda x: x * 1000000)"
   ]
  },
  {
   "cell_type": "code",
   "execution_count": null,
   "metadata": {
    "collapsed": true
   },
   "outputs": [],
   "source": [
    "df.duplicated() # booleanのシリーズ\n",
    "df.duplicated().any() # Trueが含まれるかどうか\n",
    "kessan_table[kessan_table.duplicated(keep=False)] # 重複行をそれぞれ見たい場合\n",
    "# keep : {‘first’, ‘last’, False}, default ‘first’"
   ]
  },
  {
   "cell_type": "code",
   "execution_count": null,
   "metadata": {
    "collapsed": true
   },
   "outputs": [],
   "source": [
    "df.drop_duplicates() # 行全体で重複をチェック"
   ]
  },
  {
   "cell_type": "code",
   "execution_count": null,
   "metadata": {
    "collapsed": true
   },
   "outputs": [],
   "source": [
    "df.drop_duplicates(['x', 'y']) # 列指定で重複をチェック、前方残し"
   ]
  },
  {
   "cell_type": "code",
   "execution_count": null,
   "metadata": {
    "collapsed": true
   },
   "outputs": [],
   "source": [
    "df.drop_duplicates(['x', 'y'], keep='last') # 後方残し"
   ]
  },
  {
   "cell_type": "markdown",
   "metadata": {},
   "source": [
    "# MySQLに接続"
   ]
  },
  {
   "cell_type": "code",
   "execution_count": null,
   "metadata": {
    "collapsed": false
   },
   "outputs": [],
   "source": [
    "sql = stock.sql()"
   ]
  },
  {
   "cell_type": "code",
   "execution_count": null,
   "metadata": {
    "collapsed": true
   },
   "outputs": [],
   "source": [
    "help(sql)"
   ]
  },
  {
   "cell_type": "markdown",
   "metadata": {},
   "source": [
    "# MySQLに接続 (クラス不使用)"
   ]
  },
  {
   "cell_type": "code",
   "execution_count": null,
   "metadata": {
    "collapsed": false
   },
   "outputs": [],
   "source": [
    "db_settings = {\n",
    "    \"host\": 'localhost',\n",
    "    \"database\": 'StockPrice_Yahoo_1',\n",
    "    \"user\": 'user',\n",
    "    \"password\": 'password',\n",
    "    \"port\":'3306'\n",
    "}\n",
    "engine = create_engine('mysql://{user}:{password}@{host}:{port}/{database}'.format(**db_settings))"
   ]
  },
  {
   "cell_type": "markdown",
   "metadata": {},
   "source": [
    "# - Memo - MySQL クエリ"
   ]
  },
  {
   "cell_type": "code",
   "execution_count": null,
   "metadata": {
    "collapsed": true
   },
   "outputs": [],
   "source": [
    "# mysql>\n",
    "CREATE DATABASE StockPrice_Yahoo_1 DEFAULT CHARACTER SET utf8mb4;\n",
    "GRANT ALL ON StockPrice_Yahoo_1.* TO user@localhost IDENTIFIED BY 'password';\n",
    "show databases;\n",
    "use StockPrice_Yahoo_1;\n",
    "show tables;\n",
    "drop tables\n",
    "drop database\n",
    "select*from\n",
    "show columns from # テーブルの中に含まれるカラムの情報を取得する\n",
    "select*from t_1382 where Date between '2013-12-01' and '2013-12-31';\n",
    "select * from t_8848 order by Date desc limit 5; # 最後の5行"
   ]
  }
 ],
 "metadata": {
  "kernelspec": {
   "display_name": "Python 3",
   "language": "python",
   "name": "python3"
  },
  "language_info": {
   "codemirror_mode": {
    "name": "ipython",
    "version": 3
   },
   "file_extension": ".py",
   "mimetype": "text/x-python",
   "name": "python",
   "nbconvert_exporter": "python",
   "pygments_lexer": "ipython3",
   "version": "3.6.0"
  },
  "toc": {
   "nav_menu": {},
   "number_sections": true,
   "sideBar": true,
   "skip_h1_title": false,
   "toc_cell": false,
   "toc_position": {
    "height": "955px",
    "left": "0px",
    "right": "1004px",
    "top": "107px",
    "width": "349px"
   },
   "toc_section_display": "block",
   "toc_window_display": false
  },
  "varInspector": {
   "cols": {
    "lenName": 16,
    "lenType": 16,
    "lenVar": 40
   },
   "kernels_config": {
    "python": {
     "delete_cmd_postfix": "",
     "delete_cmd_prefix": "del ",
     "library": "var_list.py",
     "varRefreshCmd": "print(var_dic_list())"
    },
    "r": {
     "delete_cmd_postfix": ") ",
     "delete_cmd_prefix": "rm(",
     "library": "var_list.r",
     "varRefreshCmd": "cat(var_dic_list()) "
    }
   },
   "types_to_exclude": [
    "module",
    "function",
    "builtin_function_or_method",
    "instance",
    "_Feature"
   ],
   "window_display": false
  }
 },
 "nbformat": 4,
 "nbformat_minor": 2
}
