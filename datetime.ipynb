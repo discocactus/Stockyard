{
 "cells": [
  {
   "cell_type": "code",
   "execution_count": 8,
   "metadata": {
    "collapsed": true
   },
   "outputs": [],
   "source": [
    "import datetime"
   ]
  },
  {
   "cell_type": "code",
   "execution_count": 9,
   "metadata": {
    "collapsed": false
   },
   "outputs": [
    {
     "name": "stdout",
     "output_type": "stream",
     "text": [
      "--------------------------------------------\n",
      "2017-11-02\n",
      "2017-11-02 00:51:54.767823\n",
      "--------------------------------------------\n",
      "2017\n",
      "11\n",
      "2\n",
      "2017\n",
      "11\n",
      "2\n",
      "0\n",
      "51\n",
      "54\n",
      "767823\n",
      "--------------------------------------------\n",
      "2017-11-02\n",
      "2017/11/02 00:51:54\n"
     ]
    }
   ],
   "source": [
    "today = datetime.date.today()\n",
    "todaydetail = datetime.datetime.today()\n",
    "\n",
    "# 今日の日付\n",
    "\n",
    "print('--------------------------------------------')\n",
    "print(today)\n",
    "print(todaydetail)\n",
    "\n",
    "# 今日に日付：それぞれの値\n",
    "\n",
    "print('--------------------------------------------')\n",
    "print(today.year)\n",
    "print(today.month)\n",
    "print(today.day)\n",
    "print(todaydetail.year)\n",
    "print(todaydetail.month)\n",
    "print(todaydetail.day)\n",
    "print(todaydetail.hour)\n",
    "print(todaydetail.minute)\n",
    "print(todaydetail.second)\n",
    "print(todaydetail.microsecond)\n",
    "\n",
    "# 日付のフォーマット\n",
    "\n",
    "print('--------------------------------------------')\n",
    "print(today.isoformat())\n",
    "print(todaydetail.strftime(\"%Y/%m/%d %H:%M:%S\"))"
   ]
  },
  {
   "cell_type": "code",
   "execution_count": 3,
   "metadata": {
    "collapsed": false
   },
   "outputs": [
    {
     "data": {
      "text/plain": [
       "datetime.date"
      ]
     },
     "execution_count": 3,
     "metadata": {},
     "output_type": "execute_result"
    }
   ],
   "source": [
    "type(today)"
   ]
  },
  {
   "cell_type": "code",
   "execution_count": 4,
   "metadata": {
    "collapsed": true
   },
   "outputs": [],
   "source": [
    "from datetime import datetime"
   ]
  },
  {
   "cell_type": "code",
   "execution_count": 6,
   "metadata": {
    "collapsed": false
   },
   "outputs": [
    {
     "data": {
      "text/plain": [
       "'2017/11/02 00:43:00'"
      ]
     },
     "execution_count": 6,
     "metadata": {},
     "output_type": "execute_result"
    }
   ],
   "source": [
    "datetime.now().strftime(\"%Y/%m/%d %H:%M:%S\")"
   ]
  },
  {
   "cell_type": "code",
   "execution_count": 5,
   "metadata": {
    "collapsed": false
   },
   "outputs": [
    {
     "data": {
      "text/plain": [
       "datetime.datetime(2017, 11, 2, 0, 42, 42, 393940)"
      ]
     },
     "execution_count": 5,
     "metadata": {},
     "output_type": "execute_result"
    }
   ],
   "source": [
    "datetime.now()"
   ]
  },
  {
   "cell_type": "code",
   "execution_count": 11,
   "metadata": {
    "collapsed": false
   },
   "outputs": [
    {
     "data": {
      "text/plain": [
       "datetime.date(2017, 11, 2)"
      ]
     },
     "execution_count": 11,
     "metadata": {},
     "output_type": "execute_result"
    }
   ],
   "source": [
    "today"
   ]
  },
  {
   "cell_type": "code",
   "execution_count": null,
   "metadata": {
    "collapsed": true
   },
   "outputs": [],
   "source": []
  }
 ],
 "metadata": {
  "kernelspec": {
   "display_name": "Python 3",
   "language": "python",
   "name": "python3"
  },
  "language_info": {
   "codemirror_mode": {
    "name": "ipython",
    "version": 3
   },
   "file_extension": ".py",
   "mimetype": "text/x-python",
   "name": "python",
   "nbconvert_exporter": "python",
   "pygments_lexer": "ipython3",
   "version": "3.6.0"
  }
 },
 "nbformat": 4,
 "nbformat_minor": 2
}
