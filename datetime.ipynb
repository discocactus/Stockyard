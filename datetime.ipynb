{
 "cells": [
  {
   "cell_type": "markdown",
   "metadata": {},
   "source": [
    "# --- 日付・時間 ---\n",
    "\n",
    "http://www.python-izm.com/contents/basis/date.shtml"
   ]
  },
  {
   "cell_type": "code",
   "execution_count": 15,
   "metadata": {
    "collapsed": true
   },
   "outputs": [
    {
     "name": "stdout",
     "output_type": "stream",
     "text": [
      "--------------------------------------------\n",
      "2017-11-03\n",
      "2017-11-03 15:43:49.177060\n",
      "--------------------------------------------\n",
      "2017\n",
      "11\n",
      "3\n",
      "2017\n",
      "11\n",
      "3\n",
      "15\n",
      "43\n",
      "49\n",
      "177060\n",
      "--------------------------------------------\n",
      "2017-11-03\n",
      "2017/11/03 15:43:49\n"
     ]
    }
   ],
   "source": [
    "import datetime\n",
    "\n",
    "today = datetime.date.today()\n",
    "todaydetail = datetime.datetime.today()\n",
    "\n",
    "# 今日の日付\n",
    "\n",
    "print('--------------------------------------------')\n",
    "print(today)\n",
    "print(todaydetail)\n",
    "\n",
    "# 今日に日付：それぞれの値\n",
    "\n",
    "print('--------------------------------------------')\n",
    "print(today.year)\n",
    "print(today.month)\n",
    "print(today.day)\n",
    "print(todaydetail.year)\n",
    "print(todaydetail.month)\n",
    "print(todaydetail.day)\n",
    "print(todaydetail.hour)\n",
    "print(todaydetail.minute)\n",
    "print(todaydetail.second)\n",
    "print(todaydetail.microsecond)\n",
    "\n",
    "# 日付のフォーマット\n",
    "\n",
    "print('--------------------------------------------')\n",
    "print(today.isoformat())\n",
    "print(todaydetail.strftime(\"%Y/%m/%d %H:%M:%S\"))"
   ]
  },
  {
   "cell_type": "markdown",
   "metadata": {},
   "source": [
    "# --- python 現在時刻取得 ---\n",
    "\n",
    "https://qiita.com/mykysyk@github/items/e15d7b2b1a988b8e29d4"
   ]
  },
  {
   "cell_type": "code",
   "execution_count": 4,
   "metadata": {
    "collapsed": false
   },
   "outputs": [
    {
     "data": {
      "text/plain": [
       "'2017/11/03 14:43:28'"
      ]
     },
     "execution_count": 4,
     "metadata": {},
     "output_type": "execute_result"
    }
   ],
   "source": [
    "from datetime import datetime\n",
    "\n",
    "datetime.now().strftime(\"%Y/%m/%d %H:%M:%S\")"
   ]
  },
  {
   "cell_type": "markdown",
   "metadata": {},
   "source": [
    "### 現在日時のdatetimeオブジェクトを取得"
   ]
  },
  {
   "cell_type": "code",
   "execution_count": 5,
   "metadata": {
    "collapsed": false
   },
   "outputs": [
    {
     "data": {
      "text/plain": [
       "datetime.datetime(2017, 11, 3, 14, 43, 52, 577739)"
      ]
     },
     "execution_count": 5,
     "metadata": {},
     "output_type": "execute_result"
    }
   ],
   "source": [
    "from datetime import datetime\n",
    "\n",
    "datetime.now()\t# datetime.datetime(2014, 1, 2, 3, 4, 5, 000000)"
   ]
  },
  {
   "cell_type": "markdown",
   "metadata": {},
   "source": [
    "### datetimeオブジェクトを加算する"
   ]
  },
  {
   "cell_type": "code",
   "execution_count": 3,
   "metadata": {
    "collapsed": false
   },
   "outputs": [
    {
     "data": {
      "text/plain": [
       "datetime.datetime(2014, 1, 2, 3, 4, 5, 1)"
      ]
     },
     "execution_count": 3,
     "metadata": {},
     "output_type": "execute_result"
    }
   ],
   "source": [
    "from datetime import datetime, timedelta\n",
    "\n",
    "datetime(2014,1,2,3,4,5) # datetime.datetime(2014, 1, 2, 3, 4, 5)\n",
    "datetime(2014,1,2,3,4,5) + timedelta(weeks=1) # datetime.datetime(2014, 1, 9, 3, 4, 5)\n",
    "datetime(2014,1,2,3,4,5) + timedelta(days=1) # datetime.datetime(2014, 1, 3, 3, 4, 5)\n",
    "datetime(2014,1,2,3,4,5) + timedelta(hours=1) # datetime.datetime(2014, 1, 2, 4, 4, 5)\n",
    "datetime(2014,1,2,3,4,5) + timedelta(minutes=1) # datetime.datetime(2014, 1, 2, 3, 5, 5)\n",
    "datetime(2014,1,2,3,4,5) + timedelta(seconds=1) # datetime.datetime(2014, 1, 2, 3, 4, 6)\n",
    "datetime(2014,1,2,3,4,5) + timedelta(milliseconds=1) # datetime.datetime(2014, 1, 2, 3, 4, 5, 1000)\n",
    "datetime(2014,1,2,3,4,5) + timedelta(microseconds=1) # datetime.datetime(2014, 1, 2, 3, 4, 5, 1)"
   ]
  },
  {
   "cell_type": "markdown",
   "metadata": {},
   "source": [
    "### datetimeオブジェクトを減算する"
   ]
  },
  {
   "cell_type": "code",
   "execution_count": 6,
   "metadata": {
    "collapsed": false
   },
   "outputs": [
    {
     "data": {
      "text/plain": [
       "datetime.datetime(2014, 1, 2, 3, 4, 4, 999999)"
      ]
     },
     "execution_count": 6,
     "metadata": {},
     "output_type": "execute_result"
    }
   ],
   "source": [
    "from datetime import datetime, timedelta\n",
    "\n",
    "datetime(2014,1,2,3,4,5) # datetime.datetime(2014, 1, 2, 3, 4, 5)\n",
    "datetime(2014,1,2,3,4,5) + timedelta(weeks=-1) # datetime.datetime(2013, 12, 26, 3, 4, 5)\n",
    "datetime(2014,1,2,3,4,5) + timedelta(days=-1) # datetime.datetime(2014, 1, 1, 3, 4, 5)\n",
    "datetime(2014,1,2,3,4,5) + timedelta(hours=-1) # datetime.datetime(2014, 1, 2, 2, 4, 5)\n",
    "datetime(2014,1,2,3,4,5) + timedelta(minutes=-1) # datetime.datetime(2014, 1, 2, 3, 3, 5)\n",
    "datetime(2014,1,2,3,4,5) + timedelta(seconds=-1) # datetime.datetime(2014, 1, 2, 3, 4, 4)\n",
    "datetime(2014,1,2,3,4,5) + timedelta(milliseconds=-1) # datetime.datetime(2014, 1, 2, 3, 4, 4, 999000)\n",
    "datetime(2014,1,2,3,4,5) + timedelta(microseconds=-1) # datetime.datetime(2014, 1, 2, 3, 4, 4, 999999)"
   ]
  },
  {
   "cell_type": "markdown",
   "metadata": {},
   "source": [
    "### datetimeオブジェクト → 数値"
   ]
  },
  {
   "cell_type": "code",
   "execution_count": 7,
   "metadata": {
    "collapsed": false
   },
   "outputs": [
    {
     "data": {
      "text/plain": [
       "5"
      ]
     },
     "execution_count": 7,
     "metadata": {},
     "output_type": "execute_result"
    }
   ],
   "source": [
    "from datetime import datetime\n",
    "\n",
    "datetime(2014,1,2,3,4,5).year # 2014\n",
    "datetime(2014,1,2,3,4,5).month # 1\n",
    "datetime(2014,1,2,3,4,5).day # 2\n",
    "datetime(2014,1,2,3,4,5).hour # 3\n",
    "datetime(2014,1,2,3,4,5).minute # 4\n",
    "datetime(2014,1,2,3,4,5).second # 5"
   ]
  },
  {
   "cell_type": "markdown",
   "metadata": {},
   "source": [
    "### datetimeオブジェクト → 文字列"
   ]
  },
  {
   "cell_type": "code",
   "execution_count": 8,
   "metadata": {
    "collapsed": false
   },
   "outputs": [
    {
     "data": {
      "text/plain": [
       "'1388599445'"
      ]
     },
     "execution_count": 8,
     "metadata": {},
     "output_type": "execute_result"
    }
   ],
   "source": [
    "from datetime import datetime\n",
    "\n",
    "datetime(2014,1,2,3,4,5).strftime('%Y/%m/%d %H:%M:%S') # 2014/01/02 03:04:05\t \n",
    "datetime(2014,1,2,3,4,5).strftime('%Y') # 2014\t年\n",
    "datetime(2014,1,2,3,4,5).strftime('%y') # 14\t年(下2桁)\n",
    "datetime(2014,1,2,3,4,5).strftime('%m') # 01\t月\n",
    "datetime(2014,1,2,3,4,5).strftime('%d') # 02\t日\n",
    "datetime(2014,1,2,3,4,5).strftime('%H') # 03\t時 (24時間表記)\n",
    "datetime(2014,1,2,3,4,5).strftime('%I') # 03\t時 (12時間表記)\n",
    "datetime(2014,1,2,3,4,5).strftime('%M') # 04\t分\n",
    "datetime(2014,1,2,3,4,5).strftime('%S') # 05\t秒\n",
    "datetime(2014,1,2,3,4,5).strftime('%b') # Jan\t短縮月名\n",
    "datetime(2014,1,2,3,4,5).strftime('%B') # January\t月名\n",
    "datetime(2014,1,2,3,4,5).strftime('%a') # Thu\t短縮曜日名\n",
    "datetime(2014,1,2,3,4,5).strftime('%A') # Thursday\t曜日名\n",
    "datetime(2014,1,2,3,4,5).strftime('%p') # AM\tAM or PM\n",
    "datetime(2014,1,2,3,4,5).isoformat() # 2014-01-02T03:04:05\tISO 8601 形式\n",
    "datetime(2014,1,2,3,4,5).ctime() # Thu Jan 2 03:04:05 2014\t%a %b %d %X %Y\n",
    "datetime(2014,1,2,3,4,5).strftime('%c') # Thu Jan 2 03:04:05 2014\t%a %b %d %X %Y\n",
    "datetime(2014,1,2,3,4,5).strftime('%x') # 01/02/14\t%m/%d/%y\n",
    "datetime(2014,1,2,3,4,5).strftime('%X') # 03:04:05\t%H:%M:%S\n",
    "datetime(2014,1,2,3,4,5).strftime('%s') # 1388599445\tunixtime"
   ]
  },
  {
   "cell_type": "markdown",
   "metadata": {},
   "source": [
    "### 文字列 → datetimeオブジェクト"
   ]
  },
  {
   "cell_type": "code",
   "execution_count": 9,
   "metadata": {
    "collapsed": false
   },
   "outputs": [
    {
     "data": {
      "text/plain": [
       "datetime.datetime(2014, 1, 2, 3, 4, 5)"
      ]
     },
     "execution_count": 9,
     "metadata": {},
     "output_type": "execute_result"
    }
   ],
   "source": [
    "from datetime import datetime\n",
    "\n",
    "datetime.strptime('2014-01-02 03:04:05', '%Y-%m-%d %H:%M:%S') # datetime.datetime(2014, 1, 2, 4, 3, 5)"
   ]
  },
  {
   "cell_type": "markdown",
   "metadata": {},
   "source": [
    "### datetimeオブジェクト → unixtime"
   ]
  },
  {
   "cell_type": "code",
   "execution_count": 11,
   "metadata": {
    "collapsed": false
   },
   "outputs": [
    {
     "data": {
      "text/plain": [
       "'1388599445'"
      ]
     },
     "execution_count": 11,
     "metadata": {},
     "output_type": "execute_result"
    }
   ],
   "source": [
    "from datetime import datetime\n",
    "\n",
    "datetime(2014,1,2,3,4,5).strftime('%s') # 1388599445"
   ]
  },
  {
   "cell_type": "markdown",
   "metadata": {},
   "source": [
    "### unixtime → datetimeオブジェクト"
   ]
  },
  {
   "cell_type": "code",
   "execution_count": 12,
   "metadata": {
    "collapsed": false
   },
   "outputs": [
    {
     "data": {
      "text/plain": [
       "datetime.datetime(2014, 1, 2, 3, 4, 5)"
      ]
     },
     "execution_count": 12,
     "metadata": {},
     "output_type": "execute_result"
    }
   ],
   "source": [
    "from datetime import datetime\n",
    "\n",
    "datetime.fromtimestamp(1388599445) # datetime.datetime(2014, 1, 2, 4, 3, 5)"
   ]
  },
  {
   "cell_type": "markdown",
   "metadata": {},
   "source": [
    "### datetimeオブジェクト → dateオブジェクト"
   ]
  },
  {
   "cell_type": "code",
   "execution_count": 13,
   "metadata": {
    "collapsed": false
   },
   "outputs": [
    {
     "data": {
      "text/plain": [
       "datetime.date(2014, 1, 2)"
      ]
     },
     "execution_count": 13,
     "metadata": {},
     "output_type": "execute_result"
    }
   ],
   "source": [
    "from datetime import datetime\n",
    "\n",
    "datetime(2014,1,2,3,4,5).date() # datetime.date(2014, 1, 2)"
   ]
  },
  {
   "cell_type": "markdown",
   "metadata": {},
   "source": [
    "### datetimeオブジェクト → timeオブジェクト"
   ]
  },
  {
   "cell_type": "code",
   "execution_count": 14,
   "metadata": {
    "collapsed": false
   },
   "outputs": [
    {
     "data": {
      "text/plain": [
       "datetime.time(3, 4, 5)"
      ]
     },
     "execution_count": 14,
     "metadata": {},
     "output_type": "execute_result"
    }
   ],
   "source": [
    "from datetime import datetime\n",
    "\n",
    "datetime(2014,1,2,3,4,5).time() # datetime.time(3, 4, 5)"
   ]
  },
  {
   "cell_type": "markdown",
   "metadata": {},
   "source": [
    "# --- Python 日付・時刻ライブラリー 逆引きリファレンス ---\n",
    "\n",
    "https://qiita.com/argius/items/0cfc822d378ab77f06b5"
   ]
  },
  {
   "cell_type": "markdown",
   "metadata": {},
   "source": [
    "## APIの基本情報\n",
    "\n",
    "日時に関する標準モジュールとそこに含まれる型について簡単に記載します。  \n",
    "詳しくは、公式リファレンス（参考資料#1）を参照してください。  \n",
    "本文中では、特に説明が無いものについてはfrom datetime import *を施したものとします。\n",
    "\n",
    "### 標準モジュール  \n",
    "| 標準モジュール | 説明 |\n",
    "|---|---|\n",
    "| datetimeモジュール\t| 日時に関する標準の型と操作を提供します。 |\n",
    "| timeモジュール\t       | 低レベル（システムレベル）の時間に関するユーティリティーが含まれます。 |  \n",
    "| calendarモジュール\t| 主に、テキストカレンダーに関するユーティリティーが含まれます。 |  \n",
    "\n",
    "### 拡張モジュール  \n",
    "| 拡張モジュール | 説明 |\n",
    "|---|---|\n",
    "| dateutil | 標準モジュールでは不足している日時処理を補ってくれるモジュール。   |\n",
    "| pytz | タイムゾーンを扱うモジュール。詳細は後述。 |  \n",
    "\n",
    "### 型  \n",
    "| 型 | 説明 |\n",
    "|---|---|\n",
    "| datetime.date\t| 日付オブジェクト。 |\n",
    "| datetime.datetime\t| 日時オブジェクト。 |  \n",
    "| datetime.time\t| 時刻オブジェクト。timeモジュールと混同しないように。 |  \n",
    "| datetime.timedelta | 2つの日時の差を表すオブジェクト。 |  \n",
    "| datetime.tzinfo | タイムゾーン情報の抽象基底クラス。 |  \n",
    "| datetime.timezone | タイムゾーン情報の固定オフセットによる実装。 |  \n",
    "| time.struct_time | UNIXのstruct tm（構造体）に相当する名前付きタプル。 |  \n",
    "\n",
    "datetimeモジュールの型階層は以下の通り。  \n",
    "※注：Python3.2未満にはtimezone型は存在しません。\n",
    "```\n",
    "object\n",
    "    timedelta\n",
    "    tzinfo\n",
    "        timezone\n",
    "    time\n",
    "    date\n",
    "        datetime\n",
    "```\n",
    "以降、本文中では型のモジュール名を省略します。\n",
    "\n",
    "### naiveとaware（タイムゾーン有無）\n",
    "\n",
    "同じdatetimeオブジェクトでも、タイムゾーンが付いているものと付いていないものがあります。  \n",
    "Pythonでは、タイムゾーンが付いているdatetimeをaware（な日時）、付いていないdatetimeをnaive（な日時）と呼びます。\n",
    "\n",
    "dateオブジェクトは常にnaive、timeオブジェクトはどちらにもなり得ます。\n",
    "\n",
    "タイムゾーン(tzinfo)のインスタンスとして、Python3.2で追加されたtimezoneオブジェクトが利用できます。  \n",
    "それ以前はtzinfoの実装は標準モジュールに存在しませんでした。  \n",
    "そのような場合は、pytzモジュールを使います。  \n",
    "tzinfoの実装には、dateutilモジュールのサブモジュールtzもあります。\n",
    "\n",
    "また、任意のオフセット値（JSTなら+09:00）でタイムゾーンを示す場合にはtimezoneで事足りますが、  \n",
    "タイムゾーンの処理を厳密に扱う必要がある場合は、pytzモジュールの使用が推奨されています。  \n",
    "pytzモジュールは、IANAタイムゾーンデータベース（オルソンデータベース）を参照します。  \n",
    "詳しくは、公式リファレンス（参考資料#1）を参照して下さい。\n",
    "\n",
    "IANAタイムゾーンデータベースについては、以下の記事を参照して下さい。\n",
    "\n",
    "tz database - Wikipedia  \n",
    "https://ja.wikipedia.org/wiki/Tz_database\n",
    "\n",
    "naiveとawareの変換方法については、本編中に説明があります。"
   ]
  },
  {
   "cell_type": "markdown",
   "metadata": {},
   "source": [
    "## 任意の日時のオブジェクトを生成する\n",
    "\n",
    "コンストラクターにより生成できます。timeオブジェクトについては省略します。"
   ]
  },
  {
   "cell_type": "code",
   "execution_count": null,
   "metadata": {
    "collapsed": true
   },
   "outputs": [],
   "source": [
    "from datetime import datetime, date, timezone, timedelta"
   ]
  },
  {
   "cell_type": "code",
   "execution_count": 24,
   "metadata": {
    "collapsed": false
   },
   "outputs": [
    {
     "ename": "TypeError",
     "evalue": "Required argument 'day' (pos 3) not found",
     "output_type": "error",
     "traceback": [
      "\u001b[0;31m---------------------------------------------------------------------------\u001b[0m",
      "\u001b[0;31mTypeError\u001b[0m                                 Traceback (most recent call last)",
      "\u001b[0;32m<ipython-input-24-016b04dd256f>\u001b[0m in \u001b[0;36m<module>\u001b[0;34m()\u001b[0m\n\u001b[1;32m      1\u001b[0m \u001b[0;31m# NG\u001b[0m\u001b[0;34m\u001b[0m\u001b[0;34m\u001b[0m\u001b[0m\n\u001b[0;32m----> 2\u001b[0;31m \u001b[0mdatetime\u001b[0m\u001b[0;34m(\u001b[0m\u001b[0;36m2016\u001b[0m\u001b[0;34m,\u001b[0m \u001b[0;36m7\u001b[0m\u001b[0;34m)\u001b[0m\u001b[0;34m\u001b[0m\u001b[0m\n\u001b[0m",
      "\u001b[0;31mTypeError\u001b[0m: Required argument 'day' (pos 3) not found"
     ]
    }
   ],
   "source": [
    "# NG\n",
    "datetime(2016, 7)"
   ]
  },
  {
   "cell_type": "code",
   "execution_count": 17,
   "metadata": {
    "collapsed": false
   },
   "outputs": [
    {
     "data": {
      "text/plain": [
       "datetime.datetime(2016, 7, 5, 0, 0)"
      ]
     },
     "execution_count": 17,
     "metadata": {},
     "output_type": "execute_result"
    }
   ],
   "source": [
    "datetime(2016, 7, 5)"
   ]
  },
  {
   "cell_type": "code",
   "execution_count": 18,
   "metadata": {
    "collapsed": false
   },
   "outputs": [
    {
     "data": {
      "text/plain": [
       "datetime.datetime(2016, 7, 5, 13, 0)"
      ]
     },
     "execution_count": 18,
     "metadata": {},
     "output_type": "execute_result"
    }
   ],
   "source": [
    "datetime(2016, 7, 5, 13)"
   ]
  },
  {
   "cell_type": "code",
   "execution_count": 19,
   "metadata": {
    "collapsed": false
   },
   "outputs": [
    {
     "data": {
      "text/plain": [
       "datetime.datetime(2016, 7, 5, 13, 45)"
      ]
     },
     "execution_count": 19,
     "metadata": {},
     "output_type": "execute_result"
    }
   ],
   "source": [
    "datetime(2016, 7, 5, 13, 45)"
   ]
  },
  {
   "cell_type": "code",
   "execution_count": 20,
   "metadata": {
    "collapsed": false
   },
   "outputs": [
    {
     "data": {
      "text/plain": [
       "datetime.datetime(2016, 7, 5, 13, 45, 27)"
      ]
     },
     "execution_count": 20,
     "metadata": {},
     "output_type": "execute_result"
    }
   ],
   "source": [
    "datetime(2016, 7, 5, 13, 45, 27)"
   ]
  },
  {
   "cell_type": "code",
   "execution_count": 21,
   "metadata": {
    "collapsed": false
   },
   "outputs": [
    {
     "data": {
      "text/plain": [
       "datetime.datetime(2016, 7, 5, 13, 45, 27, 123456)"
      ]
     },
     "execution_count": 21,
     "metadata": {},
     "output_type": "execute_result"
    }
   ],
   "source": [
    "datetime(2016, 7, 5, 13, 45, 27, 123456)"
   ]
  },
  {
   "cell_type": "code",
   "execution_count": 22,
   "metadata": {
    "collapsed": false
   },
   "outputs": [
    {
     "data": {
      "text/plain": [
       "datetime.datetime(2016, 7, 5, 13, 45, 27, 123456, tzinfo=datetime.timezone(datetime.timedelta(0, 32400)))"
      ]
     },
     "execution_count": 22,
     "metadata": {},
     "output_type": "execute_result"
    }
   ],
   "source": [
    "datetime(2016, 7, 5, 13, 45, 27, 123456, timezone(timedelta(hours=+9)))"
   ]
  },
  {
   "cell_type": "code",
   "execution_count": 23,
   "metadata": {
    "collapsed": false
   },
   "outputs": [
    {
     "ename": "TypeError",
     "evalue": "Required argument 'day' (pos 3) not found",
     "output_type": "error",
     "traceback": [
      "\u001b[0;31m---------------------------------------------------------------------------\u001b[0m",
      "\u001b[0;31mTypeError\u001b[0m                                 Traceback (most recent call last)",
      "\u001b[0;32m<ipython-input-23-cd21009783a0>\u001b[0m in \u001b[0;36m<module>\u001b[0;34m()\u001b[0m\n\u001b[0;32m----> 1\u001b[0;31m \u001b[0mdate\u001b[0m\u001b[0;34m(\u001b[0m\u001b[0;36m2016\u001b[0m\u001b[0;34m,\u001b[0m \u001b[0;36m7\u001b[0m\u001b[0;34m)\u001b[0m\u001b[0;34m\u001b[0m\u001b[0m\n\u001b[0m",
      "\u001b[0;31mTypeError\u001b[0m: Required argument 'day' (pos 3) not found"
     ]
    }
   ],
   "source": [
    "# NG\n",
    "date(2016, 7)"
   ]
  },
  {
   "cell_type": "code",
   "execution_count": 25,
   "metadata": {
    "collapsed": false
   },
   "outputs": [
    {
     "data": {
      "text/plain": [
       "datetime.date(2016, 7, 5)"
      ]
     },
     "execution_count": 25,
     "metadata": {},
     "output_type": "execute_result"
    }
   ],
   "source": [
    "date(2016, 7, 5)"
   ]
  },
  {
   "cell_type": "code",
   "execution_count": 26,
   "metadata": {
    "collapsed": false
   },
   "outputs": [
    {
     "ename": "TypeError",
     "evalue": "function takes at most 3 arguments (4 given)",
     "output_type": "error",
     "traceback": [
      "\u001b[0;31m---------------------------------------------------------------------------\u001b[0m",
      "\u001b[0;31mTypeError\u001b[0m                                 Traceback (most recent call last)",
      "\u001b[0;32m<ipython-input-26-07678c76f8ff>\u001b[0m in \u001b[0;36m<module>\u001b[0;34m()\u001b[0m\n\u001b[1;32m      1\u001b[0m \u001b[0;31m# NG\u001b[0m\u001b[0;34m\u001b[0m\u001b[0;34m\u001b[0m\u001b[0m\n\u001b[0;32m----> 2\u001b[0;31m \u001b[0mdate\u001b[0m\u001b[0;34m(\u001b[0m\u001b[0;36m2016\u001b[0m\u001b[0;34m,\u001b[0m \u001b[0;36m7\u001b[0m\u001b[0;34m,\u001b[0m \u001b[0;36m5\u001b[0m\u001b[0;34m,\u001b[0m \u001b[0;36m0\u001b[0m\u001b[0;34m)\u001b[0m\u001b[0;34m\u001b[0m\u001b[0m\n\u001b[0m",
      "\u001b[0;31mTypeError\u001b[0m: function takes at most 3 arguments (4 given)"
     ]
    }
   ],
   "source": [
    "# NG\n",
    "date(2016, 7, 5, 0)"
   ]
  },
  {
   "cell_type": "markdown",
   "metadata": {},
   "source": [
    "datetimeの7番目の要素は、マイクロ秒（1/1,000,000秒）です。\n",
    "\n",
    "タイムスタンプから生成することもできます。\n",
    "現在日時のタイムスタンプについては、次項を参照してください。"
   ]
  },
  {
   "cell_type": "code",
   "execution_count": 27,
   "metadata": {
    "collapsed": false
   },
   "outputs": [
    {
     "data": {
      "text/plain": [
       "datetime.datetime(2361, 3, 22, 4, 15, 1, 234568)"
      ]
     },
     "execution_count": 27,
     "metadata": {},
     "output_type": "execute_result"
    }
   ],
   "source": [
    "datetime.fromtimestamp(12345678901.234567)"
   ]
  },
  {
   "cell_type": "code",
   "execution_count": 28,
   "metadata": {
    "collapsed": false
   },
   "outputs": [
    {
     "data": {
      "text/plain": [
       "datetime.date(2361, 3, 22)"
      ]
     },
     "execution_count": 28,
     "metadata": {},
     "output_type": "execute_result"
    }
   ],
   "source": [
    "date.fromtimestamp(12345678901.234567)"
   ]
  },
  {
   "cell_type": "markdown",
   "metadata": {},
   "source": [
    "ここで言うタイムスタンプ(float)とは、UNIX時間またはエポック秒と呼ばれる値です。\n",
    "\n",
    "UNIX時間 - Wikipedia\n",
    "https://ja.wikipedia.org/wiki/UNIX%E6%99%82%E9%96%93\n",
    "\n",
    "UNIX時間は整数値ですが、Python上ではfloatで表されます。  \n",
    "小数点以下の値は、Python上ではマイクロ秒として扱われますが、例で分かる通り、floatの小数部で表されるので、精度は落ちます。\n",
    "\n",
    "datetime.date()メソッドで、日付部分だけをdateとして取り出すことができます。"
   ]
  },
  {
   "cell_type": "code",
   "execution_count": 29,
   "metadata": {
    "collapsed": true
   },
   "outputs": [],
   "source": [
    "from datetime import datetime, date"
   ]
  },
  {
   "cell_type": "code",
   "execution_count": 30,
   "metadata": {
    "collapsed": false
   },
   "outputs": [
    {
     "data": {
      "text/plain": [
       "datetime.datetime(2017, 11, 3, 16, 28, 14, 359522)"
      ]
     },
     "execution_count": 30,
     "metadata": {},
     "output_type": "execute_result"
    }
   ],
   "source": [
    "dt = datetime.now()\n",
    "dt"
   ]
  },
  {
   "cell_type": "code",
   "execution_count": 31,
   "metadata": {
    "collapsed": false
   },
   "outputs": [
    {
     "data": {
      "text/plain": [
       "datetime.date(2017, 11, 3)"
      ]
     },
     "execution_count": 31,
     "metadata": {},
     "output_type": "execute_result"
    }
   ],
   "source": [
    "dt.date()"
   ]
  },
  {
   "cell_type": "markdown",
   "metadata": {},
   "source": [
    "## 現在日時のオブジェクトを生成する\n",
    "\n",
    "datetime.now()は、現在日時を示すdatetimeオブジェクトを返します。  \n",
    "date.today()は、当日を示すdateオブジェクトを返します。"
   ]
  },
  {
   "cell_type": "code",
   "execution_count": 32,
   "metadata": {
    "collapsed": true
   },
   "outputs": [],
   "source": [
    "from datetime import datetime, date"
   ]
  },
  {
   "cell_type": "code",
   "execution_count": 33,
   "metadata": {
    "collapsed": false
   },
   "outputs": [
    {
     "data": {
      "text/plain": [
       "datetime.datetime(2017, 11, 3, 16, 30, 43, 952834)"
      ]
     },
     "execution_count": 33,
     "metadata": {},
     "output_type": "execute_result"
    }
   ],
   "source": [
    "datetime.now()"
   ]
  },
  {
   "cell_type": "code",
   "execution_count": 34,
   "metadata": {
    "collapsed": false
   },
   "outputs": [
    {
     "data": {
      "text/plain": [
       "datetime.date(2017, 11, 3)"
      ]
     },
     "execution_count": 34,
     "metadata": {},
     "output_type": "execute_result"
    }
   ],
   "source": [
    "date.today()"
   ]
  },
  {
   "cell_type": "markdown",
   "metadata": {},
   "source": [
    "timeモジュールのtime()関数で現在日時のタイムスタンプを取得できます。  \n",
    "タイムスタンプについては、前項を参照してください。"
   ]
  },
  {
   "cell_type": "code",
   "execution_count": 35,
   "metadata": {
    "collapsed": true
   },
   "outputs": [],
   "source": [
    "import time"
   ]
  },
  {
   "cell_type": "code",
   "execution_count": 36,
   "metadata": {
    "collapsed": false
   },
   "outputs": [
    {
     "data": {
      "text/plain": [
       "1509694293.00663"
      ]
     },
     "execution_count": 36,
     "metadata": {},
     "output_type": "execute_result"
    }
   ],
   "source": [
    "time.time()"
   ]
  },
  {
   "cell_type": "markdown",
   "metadata": {},
   "source": [
    "他にも、timeモジュールにstruct_timeを返す（古風な）関数がいくつかありますが、今回は扱いません。  \n",
    "time.gmtime()関数あたりの説明を読んでみて下さい。"
   ]
  },
  {
   "cell_type": "markdown",
   "metadata": {},
   "source": [
    "## 文字列から日時・日付へ変換\n",
    "\n",
    "datetimeモジュールでは、datetime.strptime()関数を使います。  \n",
    "ただし、以下の結果を見てもらうと分かる通り、この関数は融通が利きません。"
   ]
  },
  {
   "cell_type": "code",
   "execution_count": 37,
   "metadata": {
    "collapsed": true
   },
   "outputs": [],
   "source": [
    "from datetime import datetime, timezone, timedelta"
   ]
  },
  {
   "cell_type": "code",
   "execution_count": 38,
   "metadata": {
    "collapsed": false
   },
   "outputs": [
    {
     "data": {
      "text/plain": [
       "datetime.datetime(2016, 7, 5, 13, 45, 6)"
      ]
     },
     "execution_count": 38,
     "metadata": {},
     "output_type": "execute_result"
    }
   ],
   "source": [
    "datetime.strptime(\"2016/07/05 13:45:06\", \"%Y/%m/%d %H:%M:%S\")"
   ]
  },
  {
   "cell_type": "code",
   "execution_count": 41,
   "metadata": {
    "collapsed": false
   },
   "outputs": [
    {
     "ename": "ValueError",
     "evalue": "time data '2016/07/05 13:45' does not match format '%Y/%m/%d %H:%M:%S'",
     "output_type": "error",
     "traceback": [
      "\u001b[0;31m---------------------------------------------------------------------------\u001b[0m",
      "\u001b[0;31mValueError\u001b[0m                                Traceback (most recent call last)",
      "\u001b[0;32m<ipython-input-41-5540203d471e>\u001b[0m in \u001b[0;36m<module>\u001b[0;34m()\u001b[0m\n\u001b[1;32m      1\u001b[0m \u001b[0;31m# NG\u001b[0m\u001b[0;34m\u001b[0m\u001b[0;34m\u001b[0m\u001b[0m\n\u001b[0;32m----> 2\u001b[0;31m \u001b[0mdatetime\u001b[0m\u001b[0;34m.\u001b[0m\u001b[0mstrptime\u001b[0m\u001b[0;34m(\u001b[0m\u001b[0;34m\"2016/07/05 13:45\"\u001b[0m\u001b[0;34m,\u001b[0m \u001b[0;34m\"%Y/%m/%d %H:%M:%S\"\u001b[0m\u001b[0;34m)\u001b[0m\u001b[0;34m\u001b[0m\u001b[0m\n\u001b[0m",
      "\u001b[0;32m/Users/Really/.pyenv/versions/anaconda3-4.3.1/lib/python3.6/_strptime.py\u001b[0m in \u001b[0;36m_strptime_datetime\u001b[0;34m(cls, data_string, format)\u001b[0m\n\u001b[1;32m    563\u001b[0m     \"\"\"Return a class cls instance based on the input string and the\n\u001b[1;32m    564\u001b[0m     format string.\"\"\"\n\u001b[0;32m--> 565\u001b[0;31m     \u001b[0mtt\u001b[0m\u001b[0;34m,\u001b[0m \u001b[0mfraction\u001b[0m \u001b[0;34m=\u001b[0m \u001b[0m_strptime\u001b[0m\u001b[0;34m(\u001b[0m\u001b[0mdata_string\u001b[0m\u001b[0;34m,\u001b[0m \u001b[0mformat\u001b[0m\u001b[0;34m)\u001b[0m\u001b[0;34m\u001b[0m\u001b[0m\n\u001b[0m\u001b[1;32m    566\u001b[0m     \u001b[0mtzname\u001b[0m\u001b[0;34m,\u001b[0m \u001b[0mgmtoff\u001b[0m \u001b[0;34m=\u001b[0m \u001b[0mtt\u001b[0m\u001b[0;34m[\u001b[0m\u001b[0;34m-\u001b[0m\u001b[0;36m2\u001b[0m\u001b[0;34m:\u001b[0m\u001b[0;34m]\u001b[0m\u001b[0;34m\u001b[0m\u001b[0m\n\u001b[1;32m    567\u001b[0m     \u001b[0margs\u001b[0m \u001b[0;34m=\u001b[0m \u001b[0mtt\u001b[0m\u001b[0;34m[\u001b[0m\u001b[0;34m:\u001b[0m\u001b[0;36m6\u001b[0m\u001b[0;34m]\u001b[0m \u001b[0;34m+\u001b[0m \u001b[0;34m(\u001b[0m\u001b[0mfraction\u001b[0m\u001b[0;34m,\u001b[0m\u001b[0;34m)\u001b[0m\u001b[0;34m\u001b[0m\u001b[0m\n",
      "\u001b[0;32m/Users/Really/.pyenv/versions/anaconda3-4.3.1/lib/python3.6/_strptime.py\u001b[0m in \u001b[0;36m_strptime\u001b[0;34m(data_string, format)\u001b[0m\n\u001b[1;32m    360\u001b[0m     \u001b[0;32mif\u001b[0m \u001b[0;32mnot\u001b[0m \u001b[0mfound\u001b[0m\u001b[0;34m:\u001b[0m\u001b[0;34m\u001b[0m\u001b[0m\n\u001b[1;32m    361\u001b[0m         raise ValueError(\"time data %r does not match format %r\" %\n\u001b[0;32m--> 362\u001b[0;31m                          (data_string, format))\n\u001b[0m\u001b[1;32m    363\u001b[0m     \u001b[0;32mif\u001b[0m \u001b[0mlen\u001b[0m\u001b[0;34m(\u001b[0m\u001b[0mdata_string\u001b[0m\u001b[0;34m)\u001b[0m \u001b[0;34m!=\u001b[0m \u001b[0mfound\u001b[0m\u001b[0;34m.\u001b[0m\u001b[0mend\u001b[0m\u001b[0;34m(\u001b[0m\u001b[0;34m)\u001b[0m\u001b[0;34m:\u001b[0m\u001b[0;34m\u001b[0m\u001b[0m\n\u001b[1;32m    364\u001b[0m         raise ValueError(\"unconverted data remains: %s\" %\n",
      "\u001b[0;31mValueError\u001b[0m: time data '2016/07/05 13:45' does not match format '%Y/%m/%d %H:%M:%S'"
     ]
    }
   ],
   "source": [
    "# NG\n",
    "datetime.strptime(\"2016/07/05 13:45\", \"%Y/%m/%d %H:%M:%S\")"
   ]
  },
  {
   "cell_type": "markdown",
   "metadata": {},
   "source": [
    "dateutilモジュールのサブモジュールparserのparse()関数が強力なので、そちらを使いましょう。"
   ]
  },
  {
   "cell_type": "code",
   "execution_count": 42,
   "metadata": {
    "collapsed": true
   },
   "outputs": [],
   "source": [
    "from dateutil.parser import parse"
   ]
  },
  {
   "cell_type": "code",
   "execution_count": 43,
   "metadata": {
    "collapsed": false
   },
   "outputs": [
    {
     "data": {
      "text/plain": [
       "datetime.datetime(2016, 8, 23, 17, 0, 35, tzinfo=tzlocal())"
      ]
     },
     "execution_count": 43,
     "metadata": {},
     "output_type": "execute_result"
    }
   ],
   "source": [
    "parse(\"Tue Aug 23 17:00:35 JST 2016\")"
   ]
  },
  {
   "cell_type": "code",
   "execution_count": 44,
   "metadata": {
    "collapsed": false
   },
   "outputs": [
    {
     "data": {
      "text/plain": [
       "datetime.datetime(2016, 7, 3, 11, 22, 33, tzinfo=tzutc())"
      ]
     },
     "execution_count": 44,
     "metadata": {},
     "output_type": "execute_result"
    }
   ],
   "source": [
    "parse(\"2016-07-03T11:22:33Z\")"
   ]
  },
  {
   "cell_type": "code",
   "execution_count": 45,
   "metadata": {
    "collapsed": false
   },
   "outputs": [
    {
     "data": {
      "text/plain": [
       "datetime.datetime(2016, 7, 3, 4, 5, 6)"
      ]
     },
     "execution_count": 45,
     "metadata": {},
     "output_type": "execute_result"
    }
   ],
   "source": [
    "parse(\"2016/07/03 04:05:06\")"
   ]
  },
  {
   "cell_type": "code",
   "execution_count": 46,
   "metadata": {
    "collapsed": false
   },
   "outputs": [
    {
     "data": {
      "text/plain": [
       "datetime.datetime(2016, 7, 3, 0, 0)"
      ]
     },
     "execution_count": 46,
     "metadata": {},
     "output_type": "execute_result"
    }
   ],
   "source": [
    "parse(\"2016/07/03\")"
   ]
  },
  {
   "cell_type": "markdown",
   "metadata": {},
   "source": [
    "なお、Python2の場合、下記のようなエラーが出ました。\n",
    "\n",
    ".../dateutil/parser.py:598: UnicodeWarning: Unicode equal comparison failed to convert both arguments to Unicode - interpreting them as being unequal\n",
    "  elif res.tzname and res.tzname in time.tzname:\n",
    "\n",
    "この↓記事に書いてあるissueに関係ありそうなんですが、dateutilのバージョンが2.5.1なのに発生しているんですよね。  \n",
    "同類だけど別の（fixされていない）バグなのでしょうか。\n",
    "\n",
    "twitter - python dateutil unicode warning - Stack Overflow\n",
    "http://stackoverflow.com/questions/21296475/python-dateutil-unicode-warning"
   ]
  },
  {
   "cell_type": "markdown",
   "metadata": {},
   "source": [
    "## 日時・日付から文字列へ変換\n",
    "\n",
    "ISO8601形式に変換する場合は、date.isoformat()メソッドを使います。  \n",
    "datetimeオブジェクトやdateオブジェクトを単純に文字列に変換する場合は、これが使われます。\n",
    "\n",
    "任意のフォーマットで文字列に変換したい場合は、strftime()メソッドを使用します。"
   ]
  },
  {
   "cell_type": "code",
   "execution_count": 47,
   "metadata": {
    "collapsed": true
   },
   "outputs": [],
   "source": [
    "from datetime import datetime, timezone, timedelta"
   ]
  },
  {
   "cell_type": "code",
   "execution_count": 48,
   "metadata": {
    "collapsed": true
   },
   "outputs": [],
   "source": [
    "dt1 = datetime(2016, 7, 5, 13, 45) # naive\n",
    "dt2 = datetime(2016, 7, 5, 13, 45, tzinfo=timezone(timedelta(hours=+9))) # aware\n",
    "d = dt1.date()"
   ]
  },
  {
   "cell_type": "code",
   "execution_count": 51,
   "metadata": {
    "collapsed": false
   },
   "outputs": [
    {
     "data": {
      "text/plain": [
       "(datetime.datetime(2016, 7, 5, 13, 45),\n",
       " datetime.datetime(2016, 7, 5, 13, 45, tzinfo=datetime.timezone(datetime.timedelta(0, 32400))),\n",
       " datetime.date(2016, 7, 5))"
      ]
     },
     "execution_count": 51,
     "metadata": {},
     "output_type": "execute_result"
    }
   ],
   "source": [
    "dt1, dt2, d"
   ]
  },
  {
   "cell_type": "code",
   "execution_count": 52,
   "metadata": {
    "collapsed": false
   },
   "outputs": [
    {
     "data": {
      "text/plain": [
       "'2016-07-05T13:45:00'"
      ]
     },
     "execution_count": 52,
     "metadata": {},
     "output_type": "execute_result"
    }
   ],
   "source": [
    "dt1.isoformat()"
   ]
  },
  {
   "cell_type": "code",
   "execution_count": 53,
   "metadata": {
    "collapsed": false
   },
   "outputs": [
    {
     "data": {
      "text/plain": [
       "'2016-07-05 13:45:00'"
      ]
     },
     "execution_count": 53,
     "metadata": {},
     "output_type": "execute_result"
    }
   ],
   "source": [
    "str(dt1)"
   ]
  },
  {
   "cell_type": "code",
   "execution_count": 54,
   "metadata": {
    "collapsed": false
   },
   "outputs": [
    {
     "data": {
      "text/plain": [
       "'2016-07-05T13:45:00+09:00'"
      ]
     },
     "execution_count": 54,
     "metadata": {},
     "output_type": "execute_result"
    }
   ],
   "source": [
    "dt2.isoformat()"
   ]
  },
  {
   "cell_type": "code",
   "execution_count": 55,
   "metadata": {
    "collapsed": false
   },
   "outputs": [
    {
     "data": {
      "text/plain": [
       "'2016-07-05 13:45:00+09:00'"
      ]
     },
     "execution_count": 55,
     "metadata": {},
     "output_type": "execute_result"
    }
   ],
   "source": [
    "str(dt2)"
   ]
  },
  {
   "cell_type": "code",
   "execution_count": 56,
   "metadata": {
    "collapsed": false
   },
   "outputs": [
    {
     "data": {
      "text/plain": [
       "'2016-07-05'"
      ]
     },
     "execution_count": 56,
     "metadata": {},
     "output_type": "execute_result"
    }
   ],
   "source": [
    "d.isoformat()"
   ]
  },
  {
   "cell_type": "code",
   "execution_count": 57,
   "metadata": {
    "collapsed": false
   },
   "outputs": [
    {
     "data": {
      "text/plain": [
       "'2016-07-05'"
      ]
     },
     "execution_count": 57,
     "metadata": {},
     "output_type": "execute_result"
    }
   ],
   "source": [
    "str(d)"
   ]
  },
  {
   "cell_type": "code",
   "execution_count": 58,
   "metadata": {
    "collapsed": false
   },
   "outputs": [
    {
     "data": {
      "text/plain": [
       "'2016/07/05 13:45:00'"
      ]
     },
     "execution_count": 58,
     "metadata": {},
     "output_type": "execute_result"
    }
   ],
   "source": [
    "dt1.strftime(\"%Y/%m/%d %H:%M:%S\")"
   ]
  },
  {
   "cell_type": "code",
   "execution_count": 59,
   "metadata": {
    "collapsed": false
   },
   "outputs": [
    {
     "data": {
      "text/plain": [
       "'2016/07/05 13:45:00  '"
      ]
     },
     "execution_count": 59,
     "metadata": {},
     "output_type": "execute_result"
    }
   ],
   "source": [
    "dt1.strftime(\"%Y/%m/%d %H:%M:%S %Z %z\")"
   ]
  },
  {
   "cell_type": "code",
   "execution_count": 60,
   "metadata": {
    "collapsed": false
   },
   "outputs": [
    {
     "data": {
      "text/plain": [
       "'2016/07/05 13:45:00 UTC+09:00 +0900'"
      ]
     },
     "execution_count": 60,
     "metadata": {},
     "output_type": "execute_result"
    }
   ],
   "source": [
    "dt2.strftime(\"%Y/%m/%d %H:%M:%S %Z %z\")"
   ]
  },
  {
   "cell_type": "markdown",
   "metadata": {},
   "source": [
    "フォーマットの書式については、下記リファレンスを参照してください。\n",
    "\n",
    "8.1.8. strftime() と strptime() の振る舞い - 8.1. datetime — 基本的な日付型および時間型 — Python 3.5.1 ドキュメント\n",
    "http://docs.python.jp/3.5/library/datetime.html#strftime-strptime-behavior"
   ]
  },
  {
   "cell_type": "markdown",
   "metadata": {},
   "source": [
    "## 2つの日時を比較する\n",
    "\n",
    "比較演算子==,!=,<,<=,>,>=による比較が可能です。\n",
    "\n",
    "datetimeとdateでは比較できません。  \n",
    "（TypeError: can't compare datetime.datetime to datetime.date）\n",
    "また、datetime同士でもawareとnaive間では比較できません。  \n",
    "（TypeError: can't compare offset-naive and offset-aware datetimes）\n",
    "どちらかの型にそろえてから比較する必要があります。"
   ]
  },
  {
   "cell_type": "code",
   "execution_count": 61,
   "metadata": {
    "collapsed": true
   },
   "outputs": [],
   "source": [
    "from datetime import datetime, date"
   ]
  },
  {
   "cell_type": "code",
   "execution_count": 63,
   "metadata": {
    "collapsed": true
   },
   "outputs": [],
   "source": [
    "dt1 = datetime(2016, 7, 1, 22, 30)\n",
    "dt2 = datetime(2016, 7, 5, 13, 45)"
   ]
  },
  {
   "cell_type": "code",
   "execution_count": 64,
   "metadata": {
    "collapsed": false
   },
   "outputs": [
    {
     "data": {
      "text/plain": [
       "True"
      ]
     },
     "execution_count": 64,
     "metadata": {},
     "output_type": "execute_result"
    }
   ],
   "source": [
    "dt1 == datetime(2016, 7, 1, 22, 30, 0)"
   ]
  },
  {
   "cell_type": "code",
   "execution_count": 65,
   "metadata": {
    "collapsed": false
   },
   "outputs": [
    {
     "data": {
      "text/plain": [
       "(True, False, False, True, True, False, True, False, True, False)"
      ]
     },
     "execution_count": 65,
     "metadata": {},
     "output_type": "execute_result"
    }
   ],
   "source": [
    "dt1 == dt1, dt1 == dt2, dt1 != dt1, dt1 != dt2, dt1 < dt2, dt1 > dt2, dt1 <= dt1, dt2 <= dt1, dt2 >= dt2, dt1 >= dt2"
   ]
  },
  {
   "cell_type": "code",
   "execution_count": 66,
   "metadata": {
    "collapsed": true
   },
   "outputs": [],
   "source": [
    "d1 = dt1.date()\n",
    "d2 = dt2.date()"
   ]
  },
  {
   "cell_type": "code",
   "execution_count": 68,
   "metadata": {
    "collapsed": false
   },
   "outputs": [
    {
     "data": {
      "text/plain": [
       "True"
      ]
     },
     "execution_count": 68,
     "metadata": {},
     "output_type": "execute_result"
    }
   ],
   "source": [
    "d1 == date(2016, 7, 1)"
   ]
  },
  {
   "cell_type": "code",
   "execution_count": 69,
   "metadata": {
    "collapsed": false
   },
   "outputs": [
    {
     "data": {
      "text/plain": [
       "(True, False, False, True, True, False, True, False, True, False)"
      ]
     },
     "execution_count": 69,
     "metadata": {},
     "output_type": "execute_result"
    }
   ],
   "source": [
    "d1 == d1, d1 == d2, d1 != d1, d1 != d2, d1 < d2, d1 > d2, d1 <= d1, d2 <= d1, d2 >= d2, d1 >= d2"
   ]
  },
  {
   "cell_type": "markdown",
   "metadata": {},
   "source": [
    "## 2つの日時の間隔を計算する\n",
    "\n",
    "Pythonでは、日時の間隔、差分をtimedeltaオブジェクトで表現します。  \n",
    "（deltaは差分(difference⇒Δ)の意。）\n",
    "\n",
    "timedeltaはdatetime同士またはdate同士の引き算（-演算）で得られます。\n",
    "\n",
    "datetimeとdateでは計算できません。  \n",
    "（TypeError: unsupported operand type(s) for -）  \n",
    "また、datetime同士でもawareとnaive間では計算できません。  \n",
    "（TypeError: can't subtract offset-naive and offset-aware datetimes）  \n",
    "どちらかの型にそろえてから計算する必要があります。"
   ]
  },
  {
   "cell_type": "code",
   "execution_count": 70,
   "metadata": {
    "collapsed": true
   },
   "outputs": [],
   "source": [
    "from datetime import datetime, date"
   ]
  },
  {
   "cell_type": "code",
   "execution_count": 71,
   "metadata": {
    "collapsed": true
   },
   "outputs": [],
   "source": [
    "d1, d2 = date(2016, 7, 1), date(2016, 7, 3)"
   ]
  },
  {
   "cell_type": "code",
   "execution_count": 72,
   "metadata": {
    "collapsed": false
   },
   "outputs": [
    {
     "data": {
      "text/plain": [
       "datetime.timedelta"
      ]
     },
     "execution_count": 72,
     "metadata": {},
     "output_type": "execute_result"
    }
   ],
   "source": [
    "type(d2 - d1)"
   ]
  },
  {
   "cell_type": "code",
   "execution_count": 73,
   "metadata": {
    "collapsed": false
   },
   "outputs": [
    {
     "data": {
      "text/plain": [
       "datetime.timedelta(2)"
      ]
     },
     "execution_count": 73,
     "metadata": {},
     "output_type": "execute_result"
    }
   ],
   "source": [
    "d2 - d1"
   ]
  },
  {
   "cell_type": "code",
   "execution_count": 74,
   "metadata": {
    "collapsed": false
   },
   "outputs": [
    {
     "data": {
      "text/plain": [
       "'2 days, 0:00:00'"
      ]
     },
     "execution_count": 74,
     "metadata": {},
     "output_type": "execute_result"
    }
   ],
   "source": [
    "str(d2 - d1)"
   ]
  },
  {
   "cell_type": "code",
   "execution_count": 76,
   "metadata": {
    "collapsed": false
   },
   "outputs": [
    {
     "data": {
      "text/plain": [
       "'-2 days, 0:00:00'"
      ]
     },
     "execution_count": 76,
     "metadata": {},
     "output_type": "execute_result"
    }
   ],
   "source": [
    "str(d1 - d2)"
   ]
  },
  {
   "cell_type": "code",
   "execution_count": 77,
   "metadata": {
    "collapsed": true
   },
   "outputs": [],
   "source": [
    "dt1, dt2 = datetime(2016, 7, 1, 10, 30), datetime(2016, 7, 3, 9, 10)"
   ]
  },
  {
   "cell_type": "code",
   "execution_count": 78,
   "metadata": {
    "collapsed": false
   },
   "outputs": [
    {
     "data": {
      "text/plain": [
       "datetime.timedelta(1, 81600)"
      ]
     },
     "execution_count": 78,
     "metadata": {},
     "output_type": "execute_result"
    }
   ],
   "source": [
    "dt2 - dt1"
   ]
  },
  {
   "cell_type": "code",
   "execution_count": 79,
   "metadata": {
    "collapsed": false
   },
   "outputs": [
    {
     "data": {
      "text/plain": [
       "'1 day, 22:40:00'"
      ]
     },
     "execution_count": 79,
     "metadata": {},
     "output_type": "execute_result"
    }
   ],
   "source": [
    "str(dt2 - dt1)"
   ]
  },
  {
   "cell_type": "markdown",
   "metadata": {},
   "source": [
    "## 2つの日時の月数を計算する\n",
    "\n",
    "前項で書いた通り、2つの日付の差分で返されるのは日数です。  \n",
    "2つの日付の間隔が「何か月間なのか」を知りたい場合はどうしたら良いでしょうか？\n",
    "\n",
    "そういう場合は、dateutilモジュールのサブモジュールrelativedeltaを使ってみましょう。  \n",
    "基本的にはこれで解決できるはずです。"
   ]
  },
  {
   "cell_type": "code",
   "execution_count": 80,
   "metadata": {
    "collapsed": true
   },
   "outputs": [],
   "source": [
    "from datetime import date\n",
    "from dateutil.relativedelta import relativedelta"
   ]
  },
  {
   "cell_type": "code",
   "execution_count": 81,
   "metadata": {
    "collapsed": true
   },
   "outputs": [],
   "source": [
    "d1, d2 = date(2014, 11, 22), date(2016, 3, 1)"
   ]
  },
  {
   "cell_type": "code",
   "execution_count": 82,
   "metadata": {
    "collapsed": false
   },
   "outputs": [
    {
     "data": {
      "text/plain": [
       "'465 days, 0:00:00'"
      ]
     },
     "execution_count": 82,
     "metadata": {},
     "output_type": "execute_result"
    }
   ],
   "source": [
    "str(d2 - d1)"
   ]
  },
  {
   "cell_type": "code",
   "execution_count": 84,
   "metadata": {
    "collapsed": false
   },
   "outputs": [
    {
     "data": {
      "text/plain": [
       "relativedelta(years=+1, months=+3, days=+8)"
      ]
     },
     "execution_count": 84,
     "metadata": {},
     "output_type": "execute_result"
    }
   ],
   "source": [
    "delta = relativedelta(d2, d1)\n",
    "delta"
   ]
  },
  {
   "cell_type": "code",
   "execution_count": 85,
   "metadata": {
    "collapsed": false
   },
   "outputs": [
    {
     "data": {
      "text/plain": [
       "15"
      ]
     },
     "execution_count": 85,
     "metadata": {},
     "output_type": "execute_result"
    }
   ],
   "source": [
    "month_count = delta.years * 12 + delta.months\n",
    "month_count"
   ]
  },
  {
   "cell_type": "markdown",
   "metadata": {},
   "source": [
    "12か月以上はyearsになってしまいますが、years * 12 + monthsで月数を算出することができました。\n",
    "\n",
    "ここで少し気になるのが、月末がからんでくる計算、特にうるう年の2月前後の場合です。  \n",
    "そこで、2つの日付をそれぞれ1日ずつずらしていって、その場合のdeltaがどうなるかを確認してみました。"
   ]
  },
  {
   "cell_type": "code",
   "execution_count": 86,
   "metadata": {
    "collapsed": false
   },
   "outputs": [
    {
     "name": "stdout",
     "output_type": "stream",
     "text": [
      "2016-02-26 2016-03-26 relativedelta(months=+1)\n",
      "2016-02-27 2016-03-27 relativedelta(months=+1)\n",
      "2016-02-28 2016-03-28 relativedelta(months=+1)\n",
      "2016-02-29 2016-03-29 relativedelta(months=+1)\n",
      "2016-03-01 2016-03-30 relativedelta(days=+29)\n",
      "2016-03-02 2016-03-31 relativedelta(days=+29)\n",
      "2016-03-03 2016-04-01 relativedelta(days=+29)\n",
      "2016-03-04 2016-04-02 relativedelta(days=+29)\n",
      "2016-03-05 2016-04-03 relativedelta(days=+29)\n"
     ]
    }
   ],
   "source": [
    "# 2つの日付を1日ずつずらしてrelativedeltaの結果を調べるスクリプト\n",
    "\n",
    "from datetime import date, timedelta\n",
    "from dateutil.relativedelta import relativedelta\n",
    "\n",
    "d1 = date(2016, 2, 26)\n",
    "d2 = date(2016, 3, 26)\n",
    "delta1day = timedelta(days=1)\n",
    "\n",
    "for x in range(9):\n",
    "    print(d1, d2, relativedelta(d2, d1))\n",
    "    d1 += delta1day\n",
    "    d2 += delta1day"
   ]
  },
  {
   "cell_type": "markdown",
   "metadata": {},
   "source": [
    "さらに先の日付まで見てみましたが、大雑把にいうとどうやら2月の月末をまたぐ場合にだけ特別扱いをしているようです。  \n",
    "それ以外はずっと同じ日数(+29)になりました。\n",
    "\n",
    "2つの日付の間隔を1日増やしてみると、今度は30日の月の月末をまたいでいる場合とそうでない場合で日数が変わりました。  \n",
    "きっと、月末日で補正をかけているのでしょう。\n",
    "\n",
    "この辺の性質を理解しておけば大丈夫そうですね。"
   ]
  },
  {
   "cell_type": "markdown",
   "metadata": {},
   "source": [
    "## 日付・日時の増減\n",
    "\n",
    "datetime - datetimeやdate - dateがtimedeltaになることは既に書きましたが、  \n",
    "日付・日時の増減については、timedeltaを足し引きすることで、増減されたdatetimeやdateを得ることができます。"
   ]
  },
  {
   "cell_type": "code",
   "execution_count": 87,
   "metadata": {
    "collapsed": true
   },
   "outputs": [],
   "source": [
    "from datetime import datetime, date, timedelta"
   ]
  },
  {
   "cell_type": "code",
   "execution_count": 88,
   "metadata": {
    "collapsed": true
   },
   "outputs": [],
   "source": [
    "dt = datetime(2016, 7, 5, 13, 45)\n",
    "d = dt.date()"
   ]
  },
  {
   "cell_type": "code",
   "execution_count": 90,
   "metadata": {
    "collapsed": false
   },
   "outputs": [
    {
     "data": {
      "text/plain": [
       "datetime.datetime(2016, 7, 10, 16, 33)"
      ]
     },
     "execution_count": 90,
     "metadata": {},
     "output_type": "execute_result"
    }
   ],
   "source": [
    "dt + timedelta(days=5, minutes=168)"
   ]
  },
  {
   "cell_type": "code",
   "execution_count": 92,
   "metadata": {
    "collapsed": false
   },
   "outputs": [
    {
     "data": {
      "text/plain": [
       "datetime.date(2016, 6, 22)"
      ]
     },
     "execution_count": 92,
     "metadata": {},
     "output_type": "execute_result"
    }
   ],
   "source": [
    "d - timedelta(days=13)"
   ]
  },
  {
   "cell_type": "markdown",
   "metadata": {},
   "source": [
    "月単位での加減は、月数計算のときと同じく、dateutilモジュールのサブモジュールrelativedeltaを使用します。"
   ]
  },
  {
   "cell_type": "code",
   "execution_count": 93,
   "metadata": {
    "collapsed": true
   },
   "outputs": [],
   "source": [
    "from datetime import date\n",
    "from dateutil.relativedelta import relativedelta"
   ]
  },
  {
   "cell_type": "code",
   "execution_count": 94,
   "metadata": {
    "collapsed": false
   },
   "outputs": [
    {
     "data": {
      "text/plain": [
       "datetime.date(2013, 11, 5)"
      ]
     },
     "execution_count": 94,
     "metadata": {},
     "output_type": "execute_result"
    }
   ],
   "source": [
    "date(2016, 7, 5) - relativedelta(months=32)"
   ]
  },
  {
   "cell_type": "markdown",
   "metadata": {},
   "source": [
    "## naiveとawareの相互変換\n",
    "\n",
    "以下の例は、Python3において、標準モジュールだけでnaiveとawareの相互変換を確認したものです。  \n",
    "Python2（正確にはPython3.2未満）にはtimezone型が存在しないので、代わりにpytzモジュールを使ってください。\n",
    "\n",
    "naiveなdatetimeをawareなdatetimeにするには、datetime.replace()メソッドを使います。"
   ]
  },
  {
   "cell_type": "code",
   "execution_count": 95,
   "metadata": {
    "collapsed": true
   },
   "outputs": [],
   "source": [
    "from datetime import datetime, timezone, timedelta"
   ]
  },
  {
   "cell_type": "code",
   "execution_count": 96,
   "metadata": {
    "collapsed": false
   },
   "outputs": [
    {
     "data": {
      "text/plain": [
       "datetime.timezone(datetime.timedelta(0, 32400))"
      ]
     },
     "execution_count": 96,
     "metadata": {},
     "output_type": "execute_result"
    }
   ],
   "source": [
    "jst = timezone(timedelta(hours=+9)) # pytzを使う場合は pytz.timezone('Asia/Tokyo')\n",
    "jst"
   ]
  },
  {
   "cell_type": "code",
   "execution_count": 97,
   "metadata": {
    "collapsed": false
   },
   "outputs": [
    {
     "data": {
      "text/plain": [
       "datetime.datetime(2016, 7, 5, 13, 45)"
      ]
     },
     "execution_count": 97,
     "metadata": {},
     "output_type": "execute_result"
    }
   ],
   "source": [
    "dt = datetime(2016, 7, 5, 13, 45) # naive\n",
    "dt"
   ]
  },
  {
   "cell_type": "code",
   "execution_count": 98,
   "metadata": {
    "collapsed": false
   },
   "outputs": [
    {
     "data": {
      "text/plain": [
       "datetime.datetime(2016, 7, 5, 13, 45, tzinfo=datetime.timezone(datetime.timedelta(0, 32400)))"
      ]
     },
     "execution_count": 98,
     "metadata": {},
     "output_type": "execute_result"
    }
   ],
   "source": [
    "dt2 = dt.replace(tzinfo=jst) # aware\n",
    "dt2"
   ]
  },
  {
   "cell_type": "code",
   "execution_count": 99,
   "metadata": {
    "collapsed": false
   },
   "outputs": [
    {
     "data": {
      "text/plain": [
       "'2016-07-05 13:45:00+09:00'"
      ]
     },
     "execution_count": 99,
     "metadata": {},
     "output_type": "execute_result"
    }
   ],
   "source": [
    "str(dt2)"
   ]
  },
  {
   "cell_type": "markdown",
   "metadata": {},
   "source": [
    "参考資料#4-2によると、datetime.replace()メソッドでタイムゾーンを付加した場合に、少しおかしな挙動をするという報告がありました。  \n",
    "代替案として、jst.localize(datetime(...))を使う方法が示されています。  \n",
    "私の環境では再現しませんでしたので、pytzの古いバージョンでのバグなのかも知れません。\n",
    "\n",
    "逆に、awareなdatetimeをnaiveなdatetimeにするには、同じくdatetime.replace()メソッドを使います。  \n",
    "タイムゾーンには、「無し」を意味するNoneを指定します。"
   ]
  },
  {
   "cell_type": "code",
   "execution_count": 100,
   "metadata": {
    "collapsed": false
   },
   "outputs": [
    {
     "data": {
      "text/plain": [
       "datetime.datetime(2016, 7, 5, 13, 45)"
      ]
     },
     "execution_count": 100,
     "metadata": {},
     "output_type": "execute_result"
    }
   ],
   "source": [
    "dt3 = dt2.replace(tzinfo=None)\n",
    "dt3"
   ]
  },
  {
   "cell_type": "code",
   "execution_count": 101,
   "metadata": {
    "collapsed": false
   },
   "outputs": [
    {
     "data": {
      "text/plain": [
       "'2016-07-05 13:45:00'"
      ]
     },
     "execution_count": 101,
     "metadata": {},
     "output_type": "execute_result"
    }
   ],
   "source": [
    "str(dt3)"
   ]
  },
  {
   "cell_type": "markdown",
   "metadata": {},
   "source": [
    "## struct_timeをdatetimeまたはdateに変換\n",
    "\n",
    "タイムスタンプ型をstruct_timeで表すことがありますが、これをdatetime型に変換したい場合。\n",
    "\n",
    "time.mktime()関数とdatetime.fromtimestamp()関数を使って、  \n",
    "struct_time→timestamp(float)→datetime  \n",
    "の順に変換します。"
   ]
  },
  {
   "cell_type": "code",
   "execution_count": 102,
   "metadata": {
    "collapsed": true
   },
   "outputs": [],
   "source": [
    "from datetime import datetime, date\n",
    "from time import localtime, mktime"
   ]
  },
  {
   "cell_type": "code",
   "execution_count": 106,
   "metadata": {
    "collapsed": false
   },
   "outputs": [
    {
     "data": {
      "text/plain": [
       "time.struct_time(tm_year=2017, tm_mon=11, tm_mday=3, tm_hour=17, tm_min=19, tm_sec=6, tm_wday=4, tm_yday=307, tm_isdst=0)"
      ]
     },
     "execution_count": 106,
     "metadata": {},
     "output_type": "execute_result"
    }
   ],
   "source": [
    "tm = localtime() # struct_time\n",
    "tm"
   ]
  },
  {
   "cell_type": "code",
   "execution_count": 107,
   "metadata": {
    "collapsed": false
   },
   "outputs": [
    {
     "data": {
      "text/plain": [
       "1509697146.0"
      ]
     },
     "execution_count": 107,
     "metadata": {},
     "output_type": "execute_result"
    }
   ],
   "source": [
    "t = mktime(tm) # タイムスタンプ(float)に変換\n",
    "t"
   ]
  },
  {
   "cell_type": "code",
   "execution_count": 104,
   "metadata": {
    "collapsed": false
   },
   "outputs": [
    {
     "data": {
      "text/plain": [
       "datetime.datetime(2017, 11, 3, 17, 17, 51)"
      ]
     },
     "execution_count": 104,
     "metadata": {},
     "output_type": "execute_result"
    }
   ],
   "source": [
    "datetime.fromtimestamp(t)"
   ]
  },
  {
   "cell_type": "code",
   "execution_count": 105,
   "metadata": {
    "collapsed": false
   },
   "outputs": [
    {
     "data": {
      "text/plain": [
       "datetime.date(2017, 11, 3)"
      ]
     },
     "execution_count": 105,
     "metadata": {},
     "output_type": "execute_result"
    }
   ],
   "source": [
    "date.fromtimestamp(t)"
   ]
  },
  {
   "cell_type": "markdown",
   "metadata": {},
   "source": [
    "struct_timeがタプルであることを利用して、次のように書くこともできます。"
   ]
  },
  {
   "cell_type": "code",
   "execution_count": 108,
   "metadata": {
    "collapsed": false
   },
   "outputs": [
    {
     "data": {
      "text/plain": [
       "datetime.datetime(2017, 11, 3, 17, 19, 6)"
      ]
     },
     "execution_count": 108,
     "metadata": {},
     "output_type": "execute_result"
    }
   ],
   "source": [
    "datetime(*tm[:6])"
   ]
  },
  {
   "cell_type": "markdown",
   "metadata": {},
   "source": [
    "tm[:6]は年月日時分秒のタプルが得られますので、それをdatetimeのコンストラクターに6つの引数として渡しています。  \n",
    "これは簡潔に書けますが、可読性が低下するので避けたほうが良いかも知れません。"
   ]
  },
  {
   "cell_type": "markdown",
   "metadata": {},
   "source": [
    "## datetimeまたはdateをstruct_timeに変換\n",
    "\n",
    "前項とは逆に、datetimeオブジェクトやdateオブジェクトをstruct_timeオブジェクトに変換したい場合は、\n",
    "date.timetuple()メソッドを使うとstruct_timeが得られます。"
   ]
  },
  {
   "cell_type": "code",
   "execution_count": 109,
   "metadata": {
    "collapsed": true
   },
   "outputs": [],
   "source": [
    "from datetime import datetime"
   ]
  },
  {
   "cell_type": "code",
   "execution_count": 110,
   "metadata": {
    "collapsed": true
   },
   "outputs": [],
   "source": [
    "dt = datetime(2016, 7, 3, 12, 25)\n",
    "d = dt.date()"
   ]
  },
  {
   "cell_type": "code",
   "execution_count": 111,
   "metadata": {
    "collapsed": false
   },
   "outputs": [
    {
     "data": {
      "text/plain": [
       "time.struct_time(tm_year=2016, tm_mon=7, tm_mday=3, tm_hour=12, tm_min=25, tm_sec=0, tm_wday=6, tm_yday=185, tm_isdst=-1)"
      ]
     },
     "execution_count": 111,
     "metadata": {},
     "output_type": "execute_result"
    }
   ],
   "source": [
    "dt.timetuple()"
   ]
  },
  {
   "cell_type": "code",
   "execution_count": 112,
   "metadata": {
    "collapsed": false
   },
   "outputs": [
    {
     "data": {
      "text/plain": [
       "time.struct_time(tm_year=2016, tm_mon=7, tm_mday=3, tm_hour=0, tm_min=0, tm_sec=0, tm_wday=6, tm_yday=185, tm_isdst=-1)"
      ]
     },
     "execution_count": 112,
     "metadata": {},
     "output_type": "execute_result"
    }
   ],
   "source": [
    "d.timetuple()"
   ]
  },
  {
   "cell_type": "markdown",
   "metadata": {},
   "source": [
    "## 日付・日時のリストを生成する\n",
    "\n",
    "ここでは日付の例だけ書きます。  \n",
    "日時の場合でも、型と単位を変えればいずれの方法も同様に適用できるはずです。\n",
    "\n",
    "有限の日付リストを生成するには、timedeltaとrangeを組み合わせて、内包表記でリストを作る方法がすぐに思いつきました。"
   ]
  },
  {
   "cell_type": "code",
   "execution_count": 113,
   "metadata": {
    "collapsed": true
   },
   "outputs": [],
   "source": [
    "from datetime import date, timedelta"
   ]
  },
  {
   "cell_type": "code",
   "execution_count": 114,
   "metadata": {
    "collapsed": false,
    "scrolled": true
   },
   "outputs": [
    {
     "data": {
      "text/plain": [
       "[datetime.date(2016, 7, 5),\n",
       " datetime.date(2016, 7, 6),\n",
       " datetime.date(2016, 7, 7),\n",
       " datetime.date(2016, 7, 8),\n",
       " datetime.date(2016, 7, 9)]"
      ]
     },
     "execution_count": 114,
     "metadata": {},
     "output_type": "execute_result"
    }
   ],
   "source": [
    "start_date = date(2016, 7, 5)\n",
    "a = [start_date + timedelta(days=x) for x in range(5)]\n",
    "a"
   ]
  },
  {
   "cell_type": "markdown",
   "metadata": {},
   "source": [
    "...が、これだと1行で書けないのが少し残念です。  \n",
    "（start_dateの代わりに直接date(2016, 7, 5)を書けばできますが、もちろんそれは無し。）\n",
    "\n",
    "dateutilモジュールのrruleサブモジュールを使うと、1行で書けます。"
   ]
  },
  {
   "cell_type": "code",
   "execution_count": 115,
   "metadata": {
    "collapsed": true
   },
   "outputs": [],
   "source": [
    "from datetime import date\n",
    "from dateutil.rrule import rrule, DAILY"
   ]
  },
  {
   "cell_type": "code",
   "execution_count": 116,
   "metadata": {
    "collapsed": false
   },
   "outputs": [
    {
     "data": {
      "text/plain": [
       "[datetime.date(2016, 7, 5),\n",
       " datetime.date(2016, 7, 6),\n",
       " datetime.date(2016, 7, 7),\n",
       " datetime.date(2016, 7, 8),\n",
       " datetime.date(2016, 7, 9)]"
      ]
     },
     "execution_count": 116,
     "metadata": {},
     "output_type": "execute_result"
    }
   ],
   "source": [
    "a = [x.date() for x in rrule(DAILY, count=5, dtstart=date(2016, 7, 5))]\n",
    "a"
   ]
  },
  {
   "cell_type": "markdown",
   "metadata": {},
   "source": [
    "そうそう、こういう風に書きたかったんです。\n",
    "\n",
    "場合によっては、Pandasモジュール（pandas.date_range）を使った方が便利かも知れません。  \n",
    "詳しくは参考資料#5を参照して下さい。"
   ]
  },
  {
   "cell_type": "markdown",
   "metadata": {},
   "source": [
    "## 閏年（うるうどし）の判定\n",
    "\n",
    "calendarモジュールのisleap関数を使います。"
   ]
  },
  {
   "cell_type": "code",
   "execution_count": 119,
   "metadata": {
    "collapsed": true
   },
   "outputs": [],
   "source": [
    "import calendar"
   ]
  },
  {
   "cell_type": "code",
   "execution_count": 120,
   "metadata": {
    "collapsed": false
   },
   "outputs": [
    {
     "data": {
      "text/plain": [
       "True"
      ]
     },
     "execution_count": 120,
     "metadata": {},
     "output_type": "execute_result"
    }
   ],
   "source": [
    "calendar.isleap(2016)"
   ]
  },
  {
   "cell_type": "code",
   "execution_count": 121,
   "metadata": {
    "collapsed": false
   },
   "outputs": [
    {
     "data": {
      "text/plain": [
       "False"
      ]
     },
     "execution_count": 121,
     "metadata": {},
     "output_type": "execute_result"
    }
   ],
   "source": [
    "calendar.isleap(2015)"
   ]
  },
  {
   "cell_type": "code",
   "execution_count": 122,
   "metadata": {
    "collapsed": true
   },
   "outputs": [],
   "source": [
    "from datetime import date"
   ]
  },
  {
   "cell_type": "code",
   "execution_count": 123,
   "metadata": {
    "collapsed": false
   },
   "outputs": [
    {
     "data": {
      "text/plain": [
       "True"
      ]
     },
     "execution_count": 123,
     "metadata": {},
     "output_type": "execute_result"
    }
   ],
   "source": [
    "d = date(2016, 7, 5)\n",
    "calendar.isleap(d.year)"
   ]
  },
  {
   "cell_type": "markdown",
   "metadata": {},
   "source": [
    "## datetimeモジュールに属するオブジェクトのbool評価\n",
    "\n",
    "datetimeモジュール内の日時関連オブジェクトは、Python3.5の時点では、timedelta(0)と等価のものを除き、すべてTrueと評価されます。  \n",
    "（timezoneについては、ドキュメントに記載がありませんでしたので、「すべて」には含みません。）"
   ]
  },
  {
   "cell_type": "code",
   "execution_count": 124,
   "metadata": {
    "collapsed": true
   },
   "outputs": [],
   "source": [
    "from datetime import *"
   ]
  },
  {
   "cell_type": "code",
   "execution_count": 125,
   "metadata": {
    "collapsed": false
   },
   "outputs": [
    {
     "data": {
      "text/plain": [
       "True"
      ]
     },
     "execution_count": 125,
     "metadata": {},
     "output_type": "execute_result"
    }
   ],
   "source": [
    "bool(datetime.fromtimestamp(0))"
   ]
  },
  {
   "cell_type": "code",
   "execution_count": 126,
   "metadata": {
    "collapsed": false
   },
   "outputs": [
    {
     "data": {
      "text/plain": [
       "True"
      ]
     },
     "execution_count": 126,
     "metadata": {},
     "output_type": "execute_result"
    }
   ],
   "source": [
    "bool(date.fromtimestamp(0))"
   ]
  },
  {
   "cell_type": "code",
   "execution_count": 127,
   "metadata": {
    "collapsed": false
   },
   "outputs": [
    {
     "data": {
      "text/plain": [
       "True"
      ]
     },
     "execution_count": 127,
     "metadata": {},
     "output_type": "execute_result"
    }
   ],
   "source": [
    "bool(time(0, 0, 0))"
   ]
  },
  {
   "cell_type": "code",
   "execution_count": 129,
   "metadata": {
    "collapsed": false
   },
   "outputs": [
    {
     "data": {
      "text/plain": [
       "True"
      ]
     },
     "execution_count": 129,
     "metadata": {},
     "output_type": "execute_result"
    }
   ],
   "source": [
    "bool(timedelta(1))"
   ]
  },
  {
   "cell_type": "code",
   "execution_count": 130,
   "metadata": {
    "collapsed": false
   },
   "outputs": [
    {
     "data": {
      "text/plain": [
       "False"
      ]
     },
     "execution_count": 130,
     "metadata": {},
     "output_type": "execute_result"
    }
   ],
   "source": [
    "bool(timedelta(0))"
   ]
  },
  {
   "cell_type": "code",
   "execution_count": 131,
   "metadata": {
    "collapsed": false
   },
   "outputs": [
    {
     "data": {
      "text/plain": [
       "True"
      ]
     },
     "execution_count": 131,
     "metadata": {},
     "output_type": "execute_result"
    }
   ],
   "source": [
    "bool(timezone.utc)"
   ]
  },
  {
   "cell_type": "markdown",
   "metadata": {},
   "source": [
    "ところで、Python2では、午前零時ちょうどのtimeオブジェクトはFalseと評価されます。\n",
    "```\n",
    ">>> from datetime import *\n",
    "\n",
    ">>> bool(time(0, 0, 0))\n",
    "False\n",
    "```\n",
    "これは、Python2というよりも、Python3.5未満で存在したバグ（Issue13936）で、Python3.5で修正された挙動です。  \n",
    "Python3.4.3で確認したところ、やはりFalseとなりました。"
   ]
  },
  {
   "cell_type": "markdown",
   "metadata": {},
   "source": [
    "## 処理時間計算\n",
    "\n",
    "他の言語でも使われる方法ですが、(処理後のタイムスタンプ － 処理前のタイムスタンプ)で算出します。"
   ]
  },
  {
   "cell_type": "code",
   "execution_count": 133,
   "metadata": {
    "collapsed": true
   },
   "outputs": [],
   "source": [
    "import time"
   ]
  },
  {
   "cell_type": "code",
   "execution_count": 136,
   "metadata": {
    "collapsed": false
   },
   "outputs": [
    {
     "name": "stdout",
     "output_type": "stream",
     "text": [
      "3.1053879261016846\n"
     ]
    }
   ],
   "source": [
    "t = time.time()\n",
    "time.sleep(3.1)\n",
    "print(time.time() - t)"
   ]
  },
  {
   "cell_type": "markdown",
   "metadata": {},
   "source": [
    "今回は扱いませんが、コード断片の実行時間を計測するには、下記のモジュールを利用する方法もあります。\n",
    "\n",
    "27.5. timeit — 小さなコード断片の実行時間計測 — Python 3.5.1 ドキュメント  \n",
    "http://docs.python.jp/3.5/library/timeit.html"
   ]
  },
  {
   "cell_type": "markdown",
   "metadata": {},
   "source": [
    "## 付録\n",
    "### 直列化サンプル\n",
    "\n",
    "各オブジェクトをpickleにより直列化したしたときのイメージです。\n",
    "\n",
    "### Python2での実行結果\n",
    "```\n",
    ">>> from datetime import datetime\n",
    ">>> import pickle\n",
    ">>>\n",
    ">>> dt = datetime(2016, 7, 5, 13, 45)\n",
    ">>>\n",
    ">>> pickle.dumps(dt) # datetime\n",
    "\"cdatetime\\ndatetime\\np0\\n(S'\\\\x07\\\\xe0\\\\x07\\\\x05\\\\r-\\\\x00\\\\x00\\\\x00\\\\x00'\\np1\\ntp2\\nRp3\\n.\"\n",
    ">>> pickle.dumps(dt.date()) # date\n",
    "\"cdatetime\\ndate\\np0\\n(S'\\\\x07\\\\xe0\\\\x07\\\\x05'\\np1\\ntp2\\nRp3\\n.\"\n",
    ">>> pickle.dumps(dt.timetuple()) # struct_time\n",
    "'ctime\\nstruct_time\\np0\\n((I2016\\nI7\\nI5\\nI13\\nI45\\nI0\\nI1\\nI187\\nI-1\\ntp1\\n(dp2\\ntp3\\nRp4\\n.'\n",
    ">>> pickle.dumps(dt - dt) # timedelta\n",
    "'cdatetime\\ntimedelta\\np0\\n(I0\\nI0\\nI0\\ntp1\\nRp2\\n.'\n",
    "```\n",
    "### Python3での実行結果"
   ]
  },
  {
   "cell_type": "code",
   "execution_count": 137,
   "metadata": {
    "collapsed": true
   },
   "outputs": [],
   "source": [
    "from datetime import datetime\n",
    "import pickle"
   ]
  },
  {
   "cell_type": "code",
   "execution_count": 138,
   "metadata": {
    "collapsed": true
   },
   "outputs": [],
   "source": [
    "dt = datetime(2016, 7, 5, 13, 45)"
   ]
  },
  {
   "cell_type": "code",
   "execution_count": 139,
   "metadata": {
    "collapsed": false
   },
   "outputs": [
    {
     "data": {
      "text/plain": [
       "b'\\x80\\x03cdatetime\\ndatetime\\nq\\x00C\\n\\x07\\xe0\\x07\\x05\\r-\\x00\\x00\\x00\\x00q\\x01\\x85q\\x02Rq\\x03.'"
      ]
     },
     "execution_count": 139,
     "metadata": {},
     "output_type": "execute_result"
    }
   ],
   "source": [
    "pickle.dumps(dt) # datetime"
   ]
  },
  {
   "cell_type": "code",
   "execution_count": 140,
   "metadata": {
    "collapsed": false
   },
   "outputs": [
    {
     "data": {
      "text/plain": [
       "b'\\x80\\x03cdatetime\\ndate\\nq\\x00C\\x04\\x07\\xe0\\x07\\x05q\\x01\\x85q\\x02Rq\\x03.'"
      ]
     },
     "execution_count": 140,
     "metadata": {},
     "output_type": "execute_result"
    }
   ],
   "source": [
    "pickle.dumps(dt.date()) # date"
   ]
  },
  {
   "cell_type": "code",
   "execution_count": 141,
   "metadata": {
    "collapsed": false
   },
   "outputs": [
    {
     "data": {
      "text/plain": [
       "b'\\x80\\x03ctime\\nstruct_time\\nq\\x00(M\\xe0\\x07K\\x07K\\x05K\\rK-K\\x00K\\x01K\\xbbJ\\xff\\xff\\xff\\xfftq\\x01}q\\x02(X\\x07\\x00\\x00\\x00tm_zoneq\\x03NX\\t\\x00\\x00\\x00tm_gmtoffq\\x04Nu\\x86q\\x05Rq\\x06.'"
      ]
     },
     "execution_count": 141,
     "metadata": {},
     "output_type": "execute_result"
    }
   ],
   "source": [
    "pickle.dumps(dt.timetuple()) # struct_time"
   ]
  },
  {
   "cell_type": "code",
   "execution_count": 142,
   "metadata": {
    "collapsed": false
   },
   "outputs": [
    {
     "data": {
      "text/plain": [
       "b'\\x80\\x03cdatetime\\ntimedelta\\nq\\x00K\\x00K\\x00K\\x00\\x87q\\x01Rq\\x02.'"
      ]
     },
     "execution_count": 142,
     "metadata": {},
     "output_type": "execute_result"
    }
   ],
   "source": [
    "pickle.dumps(dt - dt) # timedelta"
   ]
  },
  {
   "cell_type": "markdown",
   "metadata": {},
   "source": [
    "## 参考資料\n",
    "\n",
    "#1.  \n",
    "（公式ドキュメント・標準ライブラリーリファレンス）\n",
    "\n",
    "8.1. datetime — 基本的な日付型および時間型 — Python 3.5.1 ドキュメント  \n",
    "http://docs.python.jp/3.5/library/datetime.html#module-datetime  \n",
    "8.1. datetime — 基本的な日付型および時間型 — Python 2.7.x ドキュメント  \n",
    "http://docs.python.jp/2/library/datetime.html#module-datetime\n",
    "\n",
    "（datetime以外のモジュールのリンクは冗長なので省きます。上記リンクのページのどこかにリンクがあるのでそこから飛んでください。）\n",
    "\n",
    "#2.  \n",
    "dateutil - powerful extensions to datetime — dateutil 2.5.3 documentation  \n",
    "https://dateutil.readthedocs.io/en/stable/\n",
    "\n",
    "#3.  \n",
    "pytz 2016.4 : Python Package Index  \n",
    "https://pypi.python.org/pypi/pytz/\n",
    "\n",
    "#4-1.  \n",
    "Pythonの日付処理とTimeZone | Nekoya Press  \n",
    "http://nekoya.github.io/blog/2013/06/21/python-datetime/\n",
    "\n",
    "#4-2.  \n",
    "Pythonでdatetimeにtzinfoを付与するのにreplaceを使ってはいけない | Nekoya Press  \n",
    "http://nekoya.github.io/blog/2013/07/05/python-datetime-with-jst/\n",
    "\n",
    "#5.  \n",
    "Python pandas で日時関連のデータ操作をカンタンに - StatsFragments  \n",
    "http://sinhrks.hatenablog.com/entry/2014/11/09/183603"
   ]
  },
  {
   "cell_type": "code",
   "execution_count": null,
   "metadata": {
    "collapsed": true
   },
   "outputs": [],
   "source": []
  }
 ],
 "metadata": {
  "kernelspec": {
   "display_name": "Python 3",
   "language": "python",
   "name": "python3"
  },
  "language_info": {
   "codemirror_mode": {
    "name": "ipython",
    "version": 3
   },
   "file_extension": ".py",
   "mimetype": "text/x-python",
   "name": "python",
   "nbconvert_exporter": "python",
   "pygments_lexer": "ipython3",
   "version": "3.6.0"
  }
 },
 "nbformat": 4,
 "nbformat_minor": 2
}
