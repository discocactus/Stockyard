{
 "cells": [
  {
   "cell_type": "code",
   "execution_count": 2,
   "metadata": {},
   "outputs": [
    {
     "name": "stdout",
     "output_type": "stream",
     "text": [
      "--------------------------------------------\n",
      "2017-11-01\n",
      "2017-11-01 14:06:29.294350\n",
      "--------------------------------------------\n",
      "2017\n",
      "11\n",
      "1\n",
      "2017\n",
      "11\n",
      "1\n",
      "14\n",
      "6\n",
      "29\n",
      "294350\n",
      "--------------------------------------------\n",
      "2017-11-01\n",
      "2017/11/01 14:06:29\n"
     ]
    }
   ],
   "source": [
    "import datetime\n",
    "\n",
    "today = datetime.date.today()\n",
    "todaydetail = datetime.datetime.today()\n",
    "\n",
    "# 今日の日付\n",
    "\n",
    "print('--------------------------------------------')\n",
    "print(today)\n",
    "print(todaydetail)\n",
    "\n",
    "# 今日に日付：それぞれの値\n",
    "\n",
    "print('--------------------------------------------')\n",
    "print(today.year)\n",
    "print(today.month)\n",
    "print(today.day)\n",
    "print(todaydetail.year)\n",
    "print(todaydetail.month)\n",
    "print(todaydetail.day)\n",
    "print(todaydetail.hour)\n",
    "print(todaydetail.minute)\n",
    "print(todaydetail.second)\n",
    "print(todaydetail.microsecond)\n",
    "\n",
    "# 日付のフォーマット\n",
    "\n",
    "print('--------------------------------------------')\n",
    "print(today.isoformat())\n",
    "print(todaydetail.strftime(\"%Y/%m/%d %H:%M:%S\"))"
   ]
  },
  {
   "cell_type": "code",
   "execution_count": 3,
   "metadata": {},
   "outputs": [
    {
     "data": {
      "text/plain": [
       "datetime.date"
      ]
     },
     "execution_count": 3,
     "metadata": {},
     "output_type": "execute_result"
    }
   ],
   "source": [
    "type(today)"
   ]
  },
  {
   "cell_type": "code",
   "execution_count": null,
   "metadata": {
    "collapsed": true
   },
   "outputs": [],
   "source": []
  }
 ],
 "metadata": {
  "kernelspec": {
   "display_name": "Python 3",
   "language": "python",
   "name": "python3"
  },
  "language_info": {
   "codemirror_mode": {
    "name": "ipython",
    "version": 3
   },
   "file_extension": ".py",
   "mimetype": "text/x-python",
   "name": "python",
   "nbconvert_exporter": "python",
   "pygments_lexer": "ipython3",
   "version": "3.6.1"
  }
 },
 "nbformat": 4,
 "nbformat_minor": 2
}
