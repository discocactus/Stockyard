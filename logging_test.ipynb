{
 "cells": [
  {
   "cell_type": "code",
   "execution_count": 1,
   "metadata": {
    "collapsed": true
   },
   "outputs": [],
   "source": [
    "import requests\n",
    "from retry import retry\n",
    "import logging\n",
    "logging.basicConfig()\n",
    "#logger = logging.getLogger(__name__)\n",
    "\n",
    "\n",
    "TEMPORARY_ERROR_CODES = (400, 500, 502, 503, 504) # 一時的なエラーを表すステータスコード\n",
    "\n",
    "\n",
    "def main():\n",
    "    \"\"\"\n",
    "    メインとなる処理\n",
    "    \"\"\"\n",
    "    response = fetch('http://httpbin.org/status/200,400,404,500,502,503,504')\n",
    "    if 200 <= response.status_code < 300:\n",
    "        print('Success!')\n",
    "    else:\n",
    "        print('Error!')\n",
    "        \n",
    "        \n",
    "@retry(tries=4, delay=1, backoff=2) # exceptions=Exception, , logger='logger'\n",
    "def fetch(url):\n",
    "    \"\"\"\n",
    "    指定したURLを取得してResponseオブジェクトを返す\n",
    "    一時的なエラーが起きた場合は、最大3回リトライする\n",
    "    \"\"\"\n",
    "    print('Retrieving{0}...'.format(url))\n",
    "    response = requests.get(url)\n",
    "    print('Status: {0}'.format(response.status_code))\n",
    "    if response.status_code not in TEMPORARY_ERROR_CODES:\n",
    "        return response # 一時的なエラーでなければresponseを返す\n",
    "    \n",
    "    # 一時的なエラーの場合は例外を発生させてリトライする\n",
    "    raise Exception('Temporary Error: {0}'.format(response.status_code))\n",
    "    \n",
    "    \n",
    "main()"
   ]
  },
  {
   "cell_type": "code",
   "execution_count": 13,
   "metadata": {},
   "outputs": [
    {
     "name": "stderr",
     "output_type": "stream",
     "text": [
      "WARNING:retry.api:HTTP Error 404: NOT FOUND, retrying in 1 seconds...\n",
      "WARNING:retry.api:No text parsed from document: http://httpbin.org/status/200,404,503, retrying in 2 seconds...\n",
      "WARNING:retry.api:HTTP Error 404: NOT FOUND, retrying in 4 seconds...\n"
     ]
    },
    {
     "name": "stdout",
     "output_type": "stream",
     "text": [
      "failed\n",
      "finish\n"
     ]
    },
    {
     "name": "stderr",
     "output_type": "stream",
     "text": [
      "Traceback (most recent call last):\n",
      "  File \"<ipython-input-13-49b16d32ce1a>\", line 19, in <module>\n",
      "    response = fetch(url)\n",
      "  File \"<decorator-gen-136>\", line 2, in fetch\n",
      "  File \"C:\\Users\\BestecAudioTecHH\\Anaconda3\\lib\\site-packages\\retry\\api.py\", line 74, in retry_decorator\n",
      "    logger)\n",
      "  File \"C:\\Users\\BestecAudioTecHH\\Anaconda3\\lib\\site-packages\\retry\\api.py\", line 33, in __retry_internal\n",
      "    return f()\n",
      "  File \"<ipython-input-13-49b16d32ce1a>\", line 11, in fetch\n",
      "    tables = pd.read_html(url, header=0)\n",
      "  File \"C:\\Users\\BestecAudioTecHH\\Anaconda3\\lib\\site-packages\\pandas\\io\\html.py\", line 906, in read_html\n",
      "    keep_default_na=keep_default_na)\n",
      "  File \"C:\\Users\\BestecAudioTecHH\\Anaconda3\\lib\\site-packages\\pandas\\io\\html.py\", line 743, in _parse\n",
      "    raise_with_traceback(retained)\n",
      "  File \"C:\\Users\\BestecAudioTecHH\\Anaconda3\\lib\\site-packages\\pandas\\compat\\__init__.py\", line 344, in raise_with_traceback\n",
      "    raise exc.with_traceback(traceback)\n",
      "ValueError: No text parsed from document: http://httpbin.org/status/200,404,503\n"
     ]
    }
   ],
   "source": [
    "import pandas as pd\n",
    "from retry import retry\n",
    "import traceback\n",
    "import logging\n",
    "logging.basicConfig()\n",
    "#logger = logging.getLogger(__name__)\n",
    "\n",
    "\n",
    "@retry(tries=4, delay=1, backoff=2) # exceptions=Exception, , logger='logger'\n",
    "def fetch(url):\n",
    "    tables = pd.read_html(url, header=0)\n",
    "    \n",
    "    return tables\n",
    "\n",
    "\n",
    "url = 'http://httpbin.org/status/200,404,503'\n",
    "\n",
    "try:\n",
    "    response = fetch(url)\n",
    "    \n",
    "except:\n",
    "    traceback.print_exc()\n",
    "    print('failed')\n",
    "    \n",
    "print('finish')"
   ]
  },
  {
   "cell_type": "code",
   "execution_count": null,
   "metadata": {
    "collapsed": true
   },
   "outputs": [],
   "source": []
  }
 ],
 "metadata": {
  "kernelspec": {
   "display_name": "Python 3",
   "language": "python",
   "name": "python3"
  },
  "language_info": {
   "codemirror_mode": {
    "name": "ipython",
    "version": 3
   },
   "file_extension": ".py",
   "mimetype": "text/x-python",
   "name": "python",
   "nbconvert_exporter": "python",
   "pygments_lexer": "ipython3",
   "version": "3.6.1"
  }
 },
 "nbformat": 4,
 "nbformat_minor": 2
}
