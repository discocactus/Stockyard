{
 "cells": [
  {
   "cell_type": "code",
   "execution_count": 1,
   "metadata": {
    "collapsed": true
   },
   "outputs": [],
   "source": [
    "import requests\n",
    "from retry import retry\n",
    "import logging\n",
    "logging.basicConfig()\n",
    "#logger = logging.getLogger(__name__)\n",
    "\n",
    "\n",
    "TEMPORARY_ERROR_CODES = (400, 500, 502, 503, 504) # 一時的なエラーを表すステータスコード\n",
    "\n",
    "\n",
    "def main():\n",
    "    \"\"\"\n",
    "    メインとなる処理\n",
    "    \"\"\"\n",
    "    response = fetch('http://httpbin.org/status/200,400,404,500,502,503,504')\n",
    "    if 200 <= response.status_code < 300:\n",
    "        print('Success!')\n",
    "    else:\n",
    "        print('Error!')\n",
    "        \n",
    "        \n",
    "@retry(tries=4, delay=1, backoff=2) # exceptions=Exception, , logger='logger'\n",
    "def fetch(url):\n",
    "    \"\"\"\n",
    "    指定したURLを取得してResponseオブジェクトを返す\n",
    "    一時的なエラーが起きた場合は、最大3回リトライする\n",
    "    \"\"\"\n",
    "    print('Retrieving{0}...'.format(url))\n",
    "    response = requests.get(url)\n",
    "    print('Status: {0}'.format(response.status_code))\n",
    "    if response.status_code not in TEMPORARY_ERROR_CODES:\n",
    "        return response # 一時的なエラーでなければresponseを返す\n",
    "    \n",
    "    # 一時的なエラーの場合は例外を発生させてリトライする\n",
    "    raise Exception('Temporary Error: {0}'.format(response.status_code))\n",
    "    \n",
    "    \n",
    "main()"
   ]
  },
  {
   "cell_type": "code",
   "execution_count": 35,
   "metadata": {
    "collapsed": false
   },
   "outputs": [
    {
     "name": "stdout",
     "output_type": "stream",
     "text": [
      "Overwriting logging_test_lib.py\n"
     ]
    }
   ],
   "source": [
    "%%writefile logging_test_lib.py\n",
    "\n",
    "import pandas as pd\n",
    "import numpy as np\n",
    "from retry import retry\n",
    "import logging\n",
    "\n",
    "\n",
    "@retry(tries=3, delay=1, backoff=2) # exceptions=Exception, , logger='logger'\n",
    "def fetch():\n",
    "    a = np.random.randint(0,3)\n",
    "    url = ['http://httpbin.org/status/200,404,503', \n",
    "             'https://stocks.finance.yahoo.co.jp/stocks/detail/?code=1000.T',\n",
    "             'https://stocks.finance.yahoo.co.jp/stocks/detail/?code=1301.T']\n",
    "\n",
    "    tables = pd.read_html(url[a], header=0)\n",
    "    \n",
    "    return tables"
   ]
  },
  {
   "cell_type": "code",
   "execution_count": 33,
   "metadata": {
    "collapsed": false
   },
   "outputs": [
    {
     "name": "stdout",
     "output_type": "stream",
     "text": [
      "Overwriting logging_test.py\n"
     ]
    }
   ],
   "source": [
    "%%writefile logging_test.py\n",
    "\n",
    "import logging\n",
    "import logging_test_lib\n",
    "\n",
    "\n",
    "def main():\n",
    "    # logging.basicConfig()\n",
    "    logging.basicConfig(filename='logging_test.log', level=logging.INFO)\n",
    "    \n",
    "    logging.info('Started')\n",
    "\n",
    "    result = []\n",
    "\n",
    "    try:\n",
    "        result = logging_test_lib.fetch()\n",
    "\n",
    "    except Exception as e:\n",
    "        logging.warning(e)\n",
    "        print(e)\n",
    "        print('failed')\n",
    "\n",
    "    print('finish')\n",
    "    print(result)\n",
    "    \n",
    "    logging.info('Finished')\n",
    "    \n",
    "\n",
    "if __name__ == '__main__':\n",
    "    main()"
   ]
  },
  {
   "cell_type": "code",
   "execution_count": 41,
   "metadata": {
    "collapsed": false
   },
   "outputs": [
    {
     "name": "stdout",
     "output_type": "stream",
     "text": [
      "finish\r\n",
      "[Empty DataFrame\r\n",
      "Columns: [(株)極洋, Unnamed: 1, 3,665, 前日比-10（-0.27%）]\r\n",
      "Index: [],    売気配  株価  買気配  Unnamed: 3 Unnamed: 4\r\n",
      "0  --- NaN  ---         NaN        NaN\r\n",
      "1  NaN NaN  ---         NaN        ---,     グローバル･スマート･イノベーション(年1回)その他リターン(1年)47.34%  \\\r\n",
      "0  先進国資本エマージング株式ファンド(1年決算)国際株式リターン(1年)23.06%   \r\n",
      "1  ピムコ･ストラテジック･インカム(H有/3カ月)国際債券リターン(1年)4.65%   \r\n",
      "\r\n",
      "          ファンド･マネジャー(国内株式)国内株式リターン(1年)28.83%  \r\n",
      "0         インド債券オープン(毎月決算型)国際債券リターン(1年)19.58%  \r\n",
      "1  ピムコ･ストラテジック･インカム(H有/年1回)国際債券リターン(1年)4.63%  , Empty DataFrame\r\n",
      "Columns: [値上がり率1933社 1. 郵船ロジ+29.47％ 2. ＵＭＮ+26.85％ 3. テクファＨ+22.66％ もっと見る, 値下がり率1654社 1. ヒーハイス-20.35％ 2. ぐるなび-16.37％ 3. 五洋インテ-15.45％ もっと見る]\r\n",
      "Index: []]\r\n"
     ]
    }
   ],
   "source": [
    "!python logging_test.py"
   ]
  },
  {
   "cell_type": "code",
   "execution_count": null,
   "metadata": {
    "collapsed": true
   },
   "outputs": [],
   "source": []
  }
 ],
 "metadata": {
  "kernelspec": {
   "display_name": "Python 3",
   "language": "python",
   "name": "python3"
  },
  "language_info": {
   "codemirror_mode": {
    "name": "ipython",
    "version": 3
   },
   "file_extension": ".py",
   "mimetype": "text/x-python",
   "name": "python",
   "nbconvert_exporter": "python",
   "pygments_lexer": "ipython3",
   "version": "3.6.0"
  }
 },
 "nbformat": 4,
 "nbformat_minor": 2
}
