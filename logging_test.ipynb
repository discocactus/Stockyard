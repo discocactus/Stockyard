{
 "cells": [
  {
   "cell_type": "code",
   "execution_count": 1,
   "metadata": {
    "collapsed": true
   },
   "outputs": [],
   "source": [
    "import requests\n",
    "from retry import retry\n",
    "import logging\n",
    "logging.basicConfig()\n",
    "#logger = logging.getLogger(__name__)\n",
    "\n",
    "\n",
    "TEMPORARY_ERROR_CODES = (400, 500, 502, 503, 504) # 一時的なエラーを表すステータスコード\n",
    "\n",
    "\n",
    "def main():\n",
    "    \"\"\"\n",
    "    メインとなる処理\n",
    "    \"\"\"\n",
    "    response = fetch('http://httpbin.org/status/200,400,404,500,502,503,504')\n",
    "    if 200 <= response.status_code < 300:\n",
    "        print('Success!')\n",
    "    else:\n",
    "        print('Error!')\n",
    "        \n",
    "        \n",
    "@retry(tries=4, delay=1, backoff=2) # exceptions=Exception, , logger='logger'\n",
    "def fetch(url):\n",
    "    \"\"\"\n",
    "    指定したURLを取得してResponseオブジェクトを返す\n",
    "    一時的なエラーが起きた場合は、最大3回リトライする\n",
    "    \"\"\"\n",
    "    print('Retrieving{0}...'.format(url))\n",
    "    response = requests.get(url)\n",
    "    print('Status: {0}'.format(response.status_code))\n",
    "    if response.status_code not in TEMPORARY_ERROR_CODES:\n",
    "        return response # 一時的なエラーでなければresponseを返す\n",
    "    \n",
    "    # 一時的なエラーの場合は例外を発生させてリトライする\n",
    "    raise Exception('Temporary Error: {0}'.format(response.status_code))\n",
    "    \n",
    "    \n",
    "main()"
   ]
  },
  {
   "cell_type": "code",
   "execution_count": 48,
   "metadata": {},
   "outputs": [
    {
     "name": "stderr",
     "output_type": "stream",
     "text": [
      "WARNING:retry.api:No text parsed from document: http://httpbin.org/status/200,404,503, retrying in 1 seconds...\n"
     ]
    },
    {
     "name": "stdout",
     "output_type": "stream",
     "text": [
      "finish\n",
      "[Empty DataFrame\n",
      "Columns: [(株)極洋, Unnamed: 1, 3,660, 前日比-15（-0.41%）]\n",
      "Index: [],    売気配  株価  買気配  Unnamed: 3 Unnamed: 4\n",
      "0  --- NaN  ---         NaN        NaN\n",
      "1  NaN NaN  ---         NaN        ---,          ワールド･ゲノムテクノロジーBコースその他リターン(1年)32.40%  \\\n",
      "0        ワールド･ゲノムテクノロジーAコースその他リターン(1年)18.66%   \n",
      "1  ピムコ･ストラテジック･インカム(H有/3カ月)国際債券リターン(1年)4.65%   \n",
      "\n",
      "           インド債券オープン(毎月決算型)国際債券リターン(1年)19.58%  \n",
      "0  野村 PIMCO･世界インカム戦略ファンドBコースその他リターン(1年)17.71%  \n",
      "1             SBI 日本株3.7ベア国内株式リターン(1年)-65.40%  , Empty DataFrame\n",
      "Columns: [値上がり率1837社 1. テクファＨ+22.66％ 2. 日パワー+22.15％ 3. タダノ+21.08％ もっと見る, 値下がり率1708社 1. ぐるなび-15.80％ 2. 五洋インテ-15.45％ 3. ペッパＦＳ-13.27％ もっと見る]\n",
      "Index: []]\n"
     ]
    }
   ],
   "source": [
    "import pandas as pd\n",
    "import numpy as np\n",
    "from retry import retry\n",
    "import logging\n",
    "logging.basicConfig()\n",
    "\n",
    "\n",
    "@retry(tries=3, delay=1, backoff=2) # exceptions=Exception, , logger='logger'\n",
    "def fetch():\n",
    "    a = np.random.randint(0,2)\n",
    "    url = ['http://httpbin.org/status/200,404,503', \n",
    "       'https://stocks.finance.yahoo.co.jp/stocks/detail/?code=1301.T']\n",
    "\n",
    "    tables = pd.read_html(url[a], header=0)\n",
    "    \n",
    "    return tables\n",
    "\n",
    "result = []\n",
    "\n",
    "try:\n",
    "    result = fetch()\n",
    "    \n",
    "except Exception as e:\n",
    "    print(e)\n",
    "    print('failed')\n",
    "\n",
    "print('finish')\n",
    "print(result)"
   ]
  },
  {
   "cell_type": "code",
   "execution_count": null,
   "metadata": {
    "collapsed": true
   },
   "outputs": [],
   "source": []
  }
 ],
 "metadata": {
  "kernelspec": {
   "display_name": "Python 3",
   "language": "python",
   "name": "python3"
  },
  "language_info": {
   "codemirror_mode": {
    "name": "ipython",
    "version": 3
   },
   "file_extension": ".py",
   "mimetype": "text/x-python",
   "name": "python",
   "nbconvert_exporter": "python",
   "pygments_lexer": "ipython3",
   "version": "3.6.1"
  }
 },
 "nbformat": 4,
 "nbformat_minor": 2
}
